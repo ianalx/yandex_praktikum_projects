{
 "cells": [
  {
   "cell_type": "markdown",
   "metadata": {},
   "source": [
    "# Выбор локации для скважины"
   ]
  },
  {
   "cell_type": "markdown",
   "metadata": {},
   "source": [
    "Дано: пробы нефти в трёх регионах: в каждом 10 000 месторождений, где измерили качество нефти и объём её запасов.\n",
    "\n",
    "Задача: Построить модель машинного обучения, которая определит регион для бурения новой скважины, где добыча нефти принесёт наибольшую прибыль.\n",
    "\n",
    "Условия:\n",
    "<br>В регионе исследуют 500 точек, из которых выбирают 200 лучших для разработки.\n",
    "<br>Бюджет на разработку скважин в регионе - 10 млрд рублей.\n",
    "<br>Доход с одного барреля сырья - 450 рублей. Объём указан в тысячах баррелей.\n",
    "<br>Оставить лишь те регионы, в которых вероятность убытков меньше 2.5%, среди них выбрать регион с наибольшей средней прибылью."
   ]
  },
  {
   "cell_type": "markdown",
   "metadata": {},
   "source": [
    "## Загрузка и подготовка данных"
   ]
  },
  {
   "cell_type": "markdown",
   "metadata": {},
   "source": [
    "### Загрузите и подготовьте данные. Поясните порядок действий"
   ]
  },
  {
   "cell_type": "code",
   "execution_count": 1,
   "metadata": {},
   "outputs": [],
   "source": [
    "import pandas as pd\n",
    "import numpy as np\n",
    "\n",
    "from scipy import stats as st\n",
    "from sklearn.model_selection import train_test_split\n",
    "from sklearn.linear_model import LinearRegression\n",
    "from sklearn.metrics import mean_squared_error\n",
    "from sklearn.utils import shuffle\n",
    "from sklearn.preprocessing import StandardScaler"
   ]
  },
  {
   "cell_type": "code",
   "execution_count": 2,
   "metadata": {
    "scrolled": true
   },
   "outputs": [
    {
     "data": {
      "text/plain": [
       "'geo_data_0:'"
      ]
     },
     "metadata": {},
     "output_type": "display_data"
    },
    {
     "data": {
      "text/html": [
       "<div>\n",
       "<style scoped>\n",
       "    .dataframe tbody tr th:only-of-type {\n",
       "        vertical-align: middle;\n",
       "    }\n",
       "\n",
       "    .dataframe tbody tr th {\n",
       "        vertical-align: top;\n",
       "    }\n",
       "\n",
       "    .dataframe thead th {\n",
       "        text-align: right;\n",
       "    }\n",
       "</style>\n",
       "<table border=\"1\" class=\"dataframe\">\n",
       "  <thead>\n",
       "    <tr style=\"text-align: right;\">\n",
       "      <th></th>\n",
       "      <th>id</th>\n",
       "      <th>f0</th>\n",
       "      <th>f1</th>\n",
       "      <th>f2</th>\n",
       "      <th>product</th>\n",
       "    </tr>\n",
       "  </thead>\n",
       "  <tbody>\n",
       "    <tr>\n",
       "      <th>0</th>\n",
       "      <td>txEyH</td>\n",
       "      <td>0.705745</td>\n",
       "      <td>-0.497823</td>\n",
       "      <td>1.221170</td>\n",
       "      <td>105.280062</td>\n",
       "    </tr>\n",
       "    <tr>\n",
       "      <th>1</th>\n",
       "      <td>2acmU</td>\n",
       "      <td>1.334711</td>\n",
       "      <td>-0.340164</td>\n",
       "      <td>4.365080</td>\n",
       "      <td>73.037750</td>\n",
       "    </tr>\n",
       "    <tr>\n",
       "      <th>2</th>\n",
       "      <td>409Wp</td>\n",
       "      <td>1.022732</td>\n",
       "      <td>0.151990</td>\n",
       "      <td>1.419926</td>\n",
       "      <td>85.265647</td>\n",
       "    </tr>\n",
       "    <tr>\n",
       "      <th>3</th>\n",
       "      <td>iJLyR</td>\n",
       "      <td>-0.032172</td>\n",
       "      <td>0.139033</td>\n",
       "      <td>2.978566</td>\n",
       "      <td>168.620776</td>\n",
       "    </tr>\n",
       "    <tr>\n",
       "      <th>4</th>\n",
       "      <td>Xdl7t</td>\n",
       "      <td>1.988431</td>\n",
       "      <td>0.155413</td>\n",
       "      <td>4.751769</td>\n",
       "      <td>154.036647</td>\n",
       "    </tr>\n",
       "    <tr>\n",
       "      <th>...</th>\n",
       "      <td>...</td>\n",
       "      <td>...</td>\n",
       "      <td>...</td>\n",
       "      <td>...</td>\n",
       "      <td>...</td>\n",
       "    </tr>\n",
       "    <tr>\n",
       "      <th>99995</th>\n",
       "      <td>DLsed</td>\n",
       "      <td>0.971957</td>\n",
       "      <td>0.370953</td>\n",
       "      <td>6.075346</td>\n",
       "      <td>110.744026</td>\n",
       "    </tr>\n",
       "    <tr>\n",
       "      <th>99996</th>\n",
       "      <td>QKivN</td>\n",
       "      <td>1.392429</td>\n",
       "      <td>-0.382606</td>\n",
       "      <td>1.273912</td>\n",
       "      <td>122.346843</td>\n",
       "    </tr>\n",
       "    <tr>\n",
       "      <th>99997</th>\n",
       "      <td>3rnvd</td>\n",
       "      <td>1.029585</td>\n",
       "      <td>0.018787</td>\n",
       "      <td>-1.348308</td>\n",
       "      <td>64.375443</td>\n",
       "    </tr>\n",
       "    <tr>\n",
       "      <th>99998</th>\n",
       "      <td>7kl59</td>\n",
       "      <td>0.998163</td>\n",
       "      <td>-0.528582</td>\n",
       "      <td>1.583869</td>\n",
       "      <td>74.040764</td>\n",
       "    </tr>\n",
       "    <tr>\n",
       "      <th>99999</th>\n",
       "      <td>1CWhH</td>\n",
       "      <td>1.764754</td>\n",
       "      <td>-0.266417</td>\n",
       "      <td>5.722849</td>\n",
       "      <td>149.633246</td>\n",
       "    </tr>\n",
       "  </tbody>\n",
       "</table>\n",
       "<p>100000 rows × 5 columns</p>\n",
       "</div>"
      ],
      "text/plain": [
       "          id        f0        f1        f2     product\n",
       "0      txEyH  0.705745 -0.497823  1.221170  105.280062\n",
       "1      2acmU  1.334711 -0.340164  4.365080   73.037750\n",
       "2      409Wp  1.022732  0.151990  1.419926   85.265647\n",
       "3      iJLyR -0.032172  0.139033  2.978566  168.620776\n",
       "4      Xdl7t  1.988431  0.155413  4.751769  154.036647\n",
       "...      ...       ...       ...       ...         ...\n",
       "99995  DLsed  0.971957  0.370953  6.075346  110.744026\n",
       "99996  QKivN  1.392429 -0.382606  1.273912  122.346843\n",
       "99997  3rnvd  1.029585  0.018787 -1.348308   64.375443\n",
       "99998  7kl59  0.998163 -0.528582  1.583869   74.040764\n",
       "99999  1CWhH  1.764754 -0.266417  5.722849  149.633246\n",
       "\n",
       "[100000 rows x 5 columns]"
      ]
     },
     "metadata": {},
     "output_type": "display_data"
    },
    {
     "data": {
      "text/plain": [
       "'geo_data_1:'"
      ]
     },
     "metadata": {},
     "output_type": "display_data"
    },
    {
     "data": {
      "text/html": [
       "<div>\n",
       "<style scoped>\n",
       "    .dataframe tbody tr th:only-of-type {\n",
       "        vertical-align: middle;\n",
       "    }\n",
       "\n",
       "    .dataframe tbody tr th {\n",
       "        vertical-align: top;\n",
       "    }\n",
       "\n",
       "    .dataframe thead th {\n",
       "        text-align: right;\n",
       "    }\n",
       "</style>\n",
       "<table border=\"1\" class=\"dataframe\">\n",
       "  <thead>\n",
       "    <tr style=\"text-align: right;\">\n",
       "      <th></th>\n",
       "      <th>id</th>\n",
       "      <th>f0</th>\n",
       "      <th>f1</th>\n",
       "      <th>f2</th>\n",
       "      <th>product</th>\n",
       "    </tr>\n",
       "  </thead>\n",
       "  <tbody>\n",
       "    <tr>\n",
       "      <th>0</th>\n",
       "      <td>kBEdx</td>\n",
       "      <td>-15.001348</td>\n",
       "      <td>-8.276000</td>\n",
       "      <td>-0.005876</td>\n",
       "      <td>3.179103</td>\n",
       "    </tr>\n",
       "    <tr>\n",
       "      <th>1</th>\n",
       "      <td>62mP7</td>\n",
       "      <td>14.272088</td>\n",
       "      <td>-3.475083</td>\n",
       "      <td>0.999183</td>\n",
       "      <td>26.953261</td>\n",
       "    </tr>\n",
       "    <tr>\n",
       "      <th>2</th>\n",
       "      <td>vyE1P</td>\n",
       "      <td>6.263187</td>\n",
       "      <td>-5.948386</td>\n",
       "      <td>5.001160</td>\n",
       "      <td>134.766305</td>\n",
       "    </tr>\n",
       "    <tr>\n",
       "      <th>3</th>\n",
       "      <td>KcrkZ</td>\n",
       "      <td>-13.081196</td>\n",
       "      <td>-11.506057</td>\n",
       "      <td>4.999415</td>\n",
       "      <td>137.945408</td>\n",
       "    </tr>\n",
       "    <tr>\n",
       "      <th>4</th>\n",
       "      <td>AHL4O</td>\n",
       "      <td>12.702195</td>\n",
       "      <td>-8.147433</td>\n",
       "      <td>5.004363</td>\n",
       "      <td>134.766305</td>\n",
       "    </tr>\n",
       "    <tr>\n",
       "      <th>...</th>\n",
       "      <td>...</td>\n",
       "      <td>...</td>\n",
       "      <td>...</td>\n",
       "      <td>...</td>\n",
       "      <td>...</td>\n",
       "    </tr>\n",
       "    <tr>\n",
       "      <th>99995</th>\n",
       "      <td>QywKC</td>\n",
       "      <td>9.535637</td>\n",
       "      <td>-6.878139</td>\n",
       "      <td>1.998296</td>\n",
       "      <td>53.906522</td>\n",
       "    </tr>\n",
       "    <tr>\n",
       "      <th>99996</th>\n",
       "      <td>ptvty</td>\n",
       "      <td>-10.160631</td>\n",
       "      <td>-12.558096</td>\n",
       "      <td>5.005581</td>\n",
       "      <td>137.945408</td>\n",
       "    </tr>\n",
       "    <tr>\n",
       "      <th>99997</th>\n",
       "      <td>09gWa</td>\n",
       "      <td>-7.378891</td>\n",
       "      <td>-3.084104</td>\n",
       "      <td>4.998651</td>\n",
       "      <td>137.945408</td>\n",
       "    </tr>\n",
       "    <tr>\n",
       "      <th>99998</th>\n",
       "      <td>rqwUm</td>\n",
       "      <td>0.665714</td>\n",
       "      <td>-6.152593</td>\n",
       "      <td>1.000146</td>\n",
       "      <td>30.132364</td>\n",
       "    </tr>\n",
       "    <tr>\n",
       "      <th>99999</th>\n",
       "      <td>relB0</td>\n",
       "      <td>-3.426139</td>\n",
       "      <td>-7.794274</td>\n",
       "      <td>-0.003299</td>\n",
       "      <td>3.179103</td>\n",
       "    </tr>\n",
       "  </tbody>\n",
       "</table>\n",
       "<p>100000 rows × 5 columns</p>\n",
       "</div>"
      ],
      "text/plain": [
       "          id         f0         f1        f2     product\n",
       "0      kBEdx -15.001348  -8.276000 -0.005876    3.179103\n",
       "1      62mP7  14.272088  -3.475083  0.999183   26.953261\n",
       "2      vyE1P   6.263187  -5.948386  5.001160  134.766305\n",
       "3      KcrkZ -13.081196 -11.506057  4.999415  137.945408\n",
       "4      AHL4O  12.702195  -8.147433  5.004363  134.766305\n",
       "...      ...        ...        ...       ...         ...\n",
       "99995  QywKC   9.535637  -6.878139  1.998296   53.906522\n",
       "99996  ptvty -10.160631 -12.558096  5.005581  137.945408\n",
       "99997  09gWa  -7.378891  -3.084104  4.998651  137.945408\n",
       "99998  rqwUm   0.665714  -6.152593  1.000146   30.132364\n",
       "99999  relB0  -3.426139  -7.794274 -0.003299    3.179103\n",
       "\n",
       "[100000 rows x 5 columns]"
      ]
     },
     "metadata": {},
     "output_type": "display_data"
    },
    {
     "data": {
      "text/plain": [
       "'geo_data_2:'"
      ]
     },
     "metadata": {},
     "output_type": "display_data"
    },
    {
     "data": {
      "text/html": [
       "<div>\n",
       "<style scoped>\n",
       "    .dataframe tbody tr th:only-of-type {\n",
       "        vertical-align: middle;\n",
       "    }\n",
       "\n",
       "    .dataframe tbody tr th {\n",
       "        vertical-align: top;\n",
       "    }\n",
       "\n",
       "    .dataframe thead th {\n",
       "        text-align: right;\n",
       "    }\n",
       "</style>\n",
       "<table border=\"1\" class=\"dataframe\">\n",
       "  <thead>\n",
       "    <tr style=\"text-align: right;\">\n",
       "      <th></th>\n",
       "      <th>id</th>\n",
       "      <th>f0</th>\n",
       "      <th>f1</th>\n",
       "      <th>f2</th>\n",
       "      <th>product</th>\n",
       "    </tr>\n",
       "  </thead>\n",
       "  <tbody>\n",
       "    <tr>\n",
       "      <th>0</th>\n",
       "      <td>fwXo0</td>\n",
       "      <td>-1.146987</td>\n",
       "      <td>0.963328</td>\n",
       "      <td>-0.828965</td>\n",
       "      <td>27.758673</td>\n",
       "    </tr>\n",
       "    <tr>\n",
       "      <th>1</th>\n",
       "      <td>WJtFt</td>\n",
       "      <td>0.262778</td>\n",
       "      <td>0.269839</td>\n",
       "      <td>-2.530187</td>\n",
       "      <td>56.069697</td>\n",
       "    </tr>\n",
       "    <tr>\n",
       "      <th>2</th>\n",
       "      <td>ovLUW</td>\n",
       "      <td>0.194587</td>\n",
       "      <td>0.289035</td>\n",
       "      <td>-5.586433</td>\n",
       "      <td>62.871910</td>\n",
       "    </tr>\n",
       "    <tr>\n",
       "      <th>3</th>\n",
       "      <td>q6cA6</td>\n",
       "      <td>2.236060</td>\n",
       "      <td>-0.553760</td>\n",
       "      <td>0.930038</td>\n",
       "      <td>114.572842</td>\n",
       "    </tr>\n",
       "    <tr>\n",
       "      <th>4</th>\n",
       "      <td>WPMUX</td>\n",
       "      <td>-0.515993</td>\n",
       "      <td>1.716266</td>\n",
       "      <td>5.899011</td>\n",
       "      <td>149.600746</td>\n",
       "    </tr>\n",
       "    <tr>\n",
       "      <th>...</th>\n",
       "      <td>...</td>\n",
       "      <td>...</td>\n",
       "      <td>...</td>\n",
       "      <td>...</td>\n",
       "      <td>...</td>\n",
       "    </tr>\n",
       "    <tr>\n",
       "      <th>99995</th>\n",
       "      <td>4GxBu</td>\n",
       "      <td>-1.777037</td>\n",
       "      <td>1.125220</td>\n",
       "      <td>6.263374</td>\n",
       "      <td>172.327046</td>\n",
       "    </tr>\n",
       "    <tr>\n",
       "      <th>99996</th>\n",
       "      <td>YKFjq</td>\n",
       "      <td>-1.261523</td>\n",
       "      <td>-0.894828</td>\n",
       "      <td>2.524545</td>\n",
       "      <td>138.748846</td>\n",
       "    </tr>\n",
       "    <tr>\n",
       "      <th>99997</th>\n",
       "      <td>tKPY3</td>\n",
       "      <td>-1.199934</td>\n",
       "      <td>-2.957637</td>\n",
       "      <td>5.219411</td>\n",
       "      <td>157.080080</td>\n",
       "    </tr>\n",
       "    <tr>\n",
       "      <th>99998</th>\n",
       "      <td>nmxp2</td>\n",
       "      <td>-2.419896</td>\n",
       "      <td>2.417221</td>\n",
       "      <td>-5.548444</td>\n",
       "      <td>51.795253</td>\n",
       "    </tr>\n",
       "    <tr>\n",
       "      <th>99999</th>\n",
       "      <td>V9kWn</td>\n",
       "      <td>-2.551421</td>\n",
       "      <td>-2.025625</td>\n",
       "      <td>6.090891</td>\n",
       "      <td>102.775767</td>\n",
       "    </tr>\n",
       "  </tbody>\n",
       "</table>\n",
       "<p>100000 rows × 5 columns</p>\n",
       "</div>"
      ],
      "text/plain": [
       "          id        f0        f1        f2     product\n",
       "0      fwXo0 -1.146987  0.963328 -0.828965   27.758673\n",
       "1      WJtFt  0.262778  0.269839 -2.530187   56.069697\n",
       "2      ovLUW  0.194587  0.289035 -5.586433   62.871910\n",
       "3      q6cA6  2.236060 -0.553760  0.930038  114.572842\n",
       "4      WPMUX -0.515993  1.716266  5.899011  149.600746\n",
       "...      ...       ...       ...       ...         ...\n",
       "99995  4GxBu -1.777037  1.125220  6.263374  172.327046\n",
       "99996  YKFjq -1.261523 -0.894828  2.524545  138.748846\n",
       "99997  tKPY3 -1.199934 -2.957637  5.219411  157.080080\n",
       "99998  nmxp2 -2.419896  2.417221 -5.548444   51.795253\n",
       "99999  V9kWn -2.551421 -2.025625  6.090891  102.775767\n",
       "\n",
       "[100000 rows x 5 columns]"
      ]
     },
     "metadata": {},
     "output_type": "display_data"
    },
    {
     "name": "stdout",
     "output_type": "stream",
     "text": [
      "<class 'pandas.core.frame.DataFrame'>\n",
      "RangeIndex: 100000 entries, 0 to 99999\n",
      "Data columns (total 5 columns):\n",
      " #   Column   Non-Null Count   Dtype  \n",
      "---  ------   --------------   -----  \n",
      " 0   id       100000 non-null  object \n",
      " 1   f0       100000 non-null  float64\n",
      " 2   f1       100000 non-null  float64\n",
      " 3   f2       100000 non-null  float64\n",
      " 4   product  100000 non-null  float64\n",
      "dtypes: float64(4), object(1)\n",
      "memory usage: 3.8+ MB\n"
     ]
    },
    {
     "data": {
      "text/plain": [
       "'Общая информация о таблице geo_data_0:'"
      ]
     },
     "metadata": {},
     "output_type": "display_data"
    },
    {
     "data": {
      "text/plain": [
       "None"
      ]
     },
     "metadata": {},
     "output_type": "display_data"
    },
    {
     "data": {
      "text/plain": [
       "'Количество дубликатов geo_data_0:'"
      ]
     },
     "metadata": {},
     "output_type": "display_data"
    },
    {
     "data": {
      "text/plain": [
       "0"
      ]
     },
     "metadata": {},
     "output_type": "display_data"
    },
    {
     "data": {
      "text/plain": [
       "'Количество пропущенных значений geo_data_0:'"
      ]
     },
     "metadata": {},
     "output_type": "display_data"
    },
    {
     "data": {
      "text/plain": [
       "id         0\n",
       "f0         0\n",
       "f1         0\n",
       "f2         0\n",
       "product    0\n",
       "dtype: int64"
      ]
     },
     "metadata": {},
     "output_type": "display_data"
    },
    {
     "name": "stdout",
     "output_type": "stream",
     "text": [
      "<class 'pandas.core.frame.DataFrame'>\n",
      "RangeIndex: 100000 entries, 0 to 99999\n",
      "Data columns (total 5 columns):\n",
      " #   Column   Non-Null Count   Dtype  \n",
      "---  ------   --------------   -----  \n",
      " 0   id       100000 non-null  object \n",
      " 1   f0       100000 non-null  float64\n",
      " 2   f1       100000 non-null  float64\n",
      " 3   f2       100000 non-null  float64\n",
      " 4   product  100000 non-null  float64\n",
      "dtypes: float64(4), object(1)\n",
      "memory usage: 3.8+ MB\n"
     ]
    },
    {
     "data": {
      "text/plain": [
       "'Общая информация о таблице geo_data_1:'"
      ]
     },
     "metadata": {},
     "output_type": "display_data"
    },
    {
     "data": {
      "text/plain": [
       "None"
      ]
     },
     "metadata": {},
     "output_type": "display_data"
    },
    {
     "data": {
      "text/plain": [
       "'Количество дубликатов geo_data_1:'"
      ]
     },
     "metadata": {},
     "output_type": "display_data"
    },
    {
     "data": {
      "text/plain": [
       "0"
      ]
     },
     "metadata": {},
     "output_type": "display_data"
    },
    {
     "data": {
      "text/plain": [
       "'Количество пропущенных значений geo_data_1:'"
      ]
     },
     "metadata": {},
     "output_type": "display_data"
    },
    {
     "data": {
      "text/plain": [
       "id         0\n",
       "f0         0\n",
       "f1         0\n",
       "f2         0\n",
       "product    0\n",
       "dtype: int64"
      ]
     },
     "metadata": {},
     "output_type": "display_data"
    },
    {
     "name": "stdout",
     "output_type": "stream",
     "text": [
      "<class 'pandas.core.frame.DataFrame'>\n",
      "RangeIndex: 100000 entries, 0 to 99999\n",
      "Data columns (total 5 columns):\n",
      " #   Column   Non-Null Count   Dtype  \n",
      "---  ------   --------------   -----  \n",
      " 0   id       100000 non-null  object \n",
      " 1   f0       100000 non-null  float64\n",
      " 2   f1       100000 non-null  float64\n",
      " 3   f2       100000 non-null  float64\n",
      " 4   product  100000 non-null  float64\n",
      "dtypes: float64(4), object(1)\n",
      "memory usage: 3.8+ MB\n"
     ]
    },
    {
     "data": {
      "text/plain": [
       "'Общая информация о таблице geo_data_2:'"
      ]
     },
     "metadata": {},
     "output_type": "display_data"
    },
    {
     "data": {
      "text/plain": [
       "None"
      ]
     },
     "metadata": {},
     "output_type": "display_data"
    },
    {
     "data": {
      "text/plain": [
       "'Количество дубликатов geo_data_2:'"
      ]
     },
     "metadata": {},
     "output_type": "display_data"
    },
    {
     "data": {
      "text/plain": [
       "0"
      ]
     },
     "metadata": {},
     "output_type": "display_data"
    },
    {
     "data": {
      "text/plain": [
       "'Количество пропущенных значений geo_data_2:'"
      ]
     },
     "metadata": {},
     "output_type": "display_data"
    },
    {
     "data": {
      "text/plain": [
       "id         0\n",
       "f0         0\n",
       "f1         0\n",
       "f2         0\n",
       "product    0\n",
       "dtype: int64"
      ]
     },
     "metadata": {},
     "output_type": "display_data"
    }
   ],
   "source": [
    "data0 = pd.read_csv('/datasets/geo_data_0.csv')\n",
    "data1 = pd.read_csv('/datasets/geo_data_1.csv')\n",
    "data2 = pd.read_csv('/datasets/geo_data_2.csv')\n",
    "\n",
    "display('geo_data_0:', data0)\n",
    "display('geo_data_1:', data1)\n",
    "display('geo_data_2:', data2)\n",
    "\n",
    "display('Общая информация о таблице geo_data_0:', data0.info())\n",
    "display('Количество дубликатов geo_data_0:', data0.duplicated().sum())\n",
    "display('Количество пропущенных значений geo_data_0:', data0.isna().sum())\n",
    "\n",
    "display('Общая информация о таблице geo_data_1:', data1.info())\n",
    "display('Количество дубликатов geo_data_1:', data1.duplicated().sum())\n",
    "display('Количество пропущенных значений geo_data_1:', data1.isna().sum())\n",
    "\n",
    "display('Общая информация о таблице geo_data_2:', data2.info())\n",
    "display('Количество дубликатов geo_data_2:', data2.duplicated().sum())\n",
    "display('Количество пропущенных значений geo_data_2:', data2.isna().sum())"
   ]
  },
  {
   "cell_type": "markdown",
   "metadata": {},
   "source": [
    "Видим, что в таблице пять столбцов, дубликатов строк и пропущенных значений нет. \n",
    "<br>\n",
    "<br>Порядок действий следующий:\n",
    "<br>- удалить одинаковые id, т.к. непонятно какие строки из них актуальные, при условии, что одному id соответствует одна скважина\n",
    "<br>- сохранить оставшиеся id в отдельные таблицы\n",
    "<br>- удалить из основных таблиц id для удобства расчетов\n",
    "<br>\n",
    "<br>Т.к. целевой признак количественный, решаем задачу регрессии."
   ]
  },
  {
   "cell_type": "code",
   "execution_count": 3,
   "metadata": {},
   "outputs": [
    {
     "name": "stdout",
     "output_type": "stream",
     "text": [
      "Количество одинаковых id в geo_data_0 = 10\n"
     ]
    },
    {
     "data": {
      "text/plain": [
       "'Одинаковые id в geo_data_0:'"
      ]
     },
     "metadata": {},
     "output_type": "display_data"
    },
    {
     "data": {
      "text/plain": [
       "7530     HZww2\n",
       "41724    bxg6G\n",
       "51970    A5aEY\n",
       "63593    QcMuo\n",
       "66136    74z30\n",
       "69163    AGS9W\n",
       "75715    Tdehs\n",
       "90815    fiKDv\n",
       "92341    TtcGQ\n",
       "97785    bsk9y\n",
       "Name: id, dtype: object"
      ]
     },
     "metadata": {},
     "output_type": "display_data"
    },
    {
     "data": {
      "text/plain": [
       "'Строки одинаковыми id в geo_data_0:'"
      ]
     },
     "metadata": {},
     "output_type": "display_data"
    },
    {
     "data": {
      "text/html": [
       "<div>\n",
       "<style scoped>\n",
       "    .dataframe tbody tr th:only-of-type {\n",
       "        vertical-align: middle;\n",
       "    }\n",
       "\n",
       "    .dataframe tbody tr th {\n",
       "        vertical-align: top;\n",
       "    }\n",
       "\n",
       "    .dataframe thead th {\n",
       "        text-align: right;\n",
       "    }\n",
       "</style>\n",
       "<table border=\"1\" class=\"dataframe\">\n",
       "  <thead>\n",
       "    <tr style=\"text-align: right;\">\n",
       "      <th></th>\n",
       "      <th>id</th>\n",
       "      <th>f0</th>\n",
       "      <th>f1</th>\n",
       "      <th>f2</th>\n",
       "      <th>product</th>\n",
       "    </tr>\n",
       "  </thead>\n",
       "  <tbody>\n",
       "    <tr>\n",
       "      <th>66136</th>\n",
       "      <td>74z30</td>\n",
       "      <td>1.084962</td>\n",
       "      <td>-0.312358</td>\n",
       "      <td>6.990771</td>\n",
       "      <td>127.643327</td>\n",
       "    </tr>\n",
       "    <tr>\n",
       "      <th>64022</th>\n",
       "      <td>74z30</td>\n",
       "      <td>0.741456</td>\n",
       "      <td>0.459229</td>\n",
       "      <td>5.153109</td>\n",
       "      <td>140.771492</td>\n",
       "    </tr>\n",
       "    <tr>\n",
       "      <th>51970</th>\n",
       "      <td>A5aEY</td>\n",
       "      <td>-0.180335</td>\n",
       "      <td>0.935548</td>\n",
       "      <td>-2.094773</td>\n",
       "      <td>33.020205</td>\n",
       "    </tr>\n",
       "    <tr>\n",
       "      <th>3389</th>\n",
       "      <td>A5aEY</td>\n",
       "      <td>-0.039949</td>\n",
       "      <td>0.156872</td>\n",
       "      <td>0.209861</td>\n",
       "      <td>89.249364</td>\n",
       "    </tr>\n",
       "    <tr>\n",
       "      <th>69163</th>\n",
       "      <td>AGS9W</td>\n",
       "      <td>-0.933795</td>\n",
       "      <td>0.116194</td>\n",
       "      <td>-3.655896</td>\n",
       "      <td>19.230453</td>\n",
       "    </tr>\n",
       "    <tr>\n",
       "      <th>42529</th>\n",
       "      <td>AGS9W</td>\n",
       "      <td>1.454747</td>\n",
       "      <td>-0.479651</td>\n",
       "      <td>0.683380</td>\n",
       "      <td>126.370504</td>\n",
       "    </tr>\n",
       "    <tr>\n",
       "      <th>931</th>\n",
       "      <td>HZww2</td>\n",
       "      <td>0.755284</td>\n",
       "      <td>0.368511</td>\n",
       "      <td>1.863211</td>\n",
       "      <td>30.681774</td>\n",
       "    </tr>\n",
       "    <tr>\n",
       "      <th>7530</th>\n",
       "      <td>HZww2</td>\n",
       "      <td>1.061194</td>\n",
       "      <td>-0.373969</td>\n",
       "      <td>10.430210</td>\n",
       "      <td>158.828695</td>\n",
       "    </tr>\n",
       "    <tr>\n",
       "      <th>63593</th>\n",
       "      <td>QcMuo</td>\n",
       "      <td>0.635635</td>\n",
       "      <td>-0.473422</td>\n",
       "      <td>0.862670</td>\n",
       "      <td>64.578675</td>\n",
       "    </tr>\n",
       "    <tr>\n",
       "      <th>1949</th>\n",
       "      <td>QcMuo</td>\n",
       "      <td>0.506563</td>\n",
       "      <td>-0.323775</td>\n",
       "      <td>-2.215583</td>\n",
       "      <td>75.496502</td>\n",
       "    </tr>\n",
       "    <tr>\n",
       "      <th>75715</th>\n",
       "      <td>Tdehs</td>\n",
       "      <td>0.112079</td>\n",
       "      <td>0.430296</td>\n",
       "      <td>3.218993</td>\n",
       "      <td>60.964018</td>\n",
       "    </tr>\n",
       "    <tr>\n",
       "      <th>21426</th>\n",
       "      <td>Tdehs</td>\n",
       "      <td>0.829407</td>\n",
       "      <td>0.298807</td>\n",
       "      <td>-0.049563</td>\n",
       "      <td>96.035308</td>\n",
       "    </tr>\n",
       "    <tr>\n",
       "      <th>92341</th>\n",
       "      <td>TtcGQ</td>\n",
       "      <td>0.110711</td>\n",
       "      <td>1.022689</td>\n",
       "      <td>0.911381</td>\n",
       "      <td>101.318008</td>\n",
       "    </tr>\n",
       "    <tr>\n",
       "      <th>60140</th>\n",
       "      <td>TtcGQ</td>\n",
       "      <td>0.569276</td>\n",
       "      <td>-0.104876</td>\n",
       "      <td>6.440215</td>\n",
       "      <td>85.350186</td>\n",
       "    </tr>\n",
       "    <tr>\n",
       "      <th>89582</th>\n",
       "      <td>bsk9y</td>\n",
       "      <td>0.398908</td>\n",
       "      <td>-0.400253</td>\n",
       "      <td>10.122376</td>\n",
       "      <td>163.433078</td>\n",
       "    </tr>\n",
       "    <tr>\n",
       "      <th>97785</th>\n",
       "      <td>bsk9y</td>\n",
       "      <td>0.378429</td>\n",
       "      <td>0.005837</td>\n",
       "      <td>0.160827</td>\n",
       "      <td>160.637302</td>\n",
       "    </tr>\n",
       "    <tr>\n",
       "      <th>41724</th>\n",
       "      <td>bxg6G</td>\n",
       "      <td>-0.823752</td>\n",
       "      <td>0.546319</td>\n",
       "      <td>3.630479</td>\n",
       "      <td>93.007798</td>\n",
       "    </tr>\n",
       "    <tr>\n",
       "      <th>1364</th>\n",
       "      <td>bxg6G</td>\n",
       "      <td>0.411645</td>\n",
       "      <td>0.856830</td>\n",
       "      <td>-3.653440</td>\n",
       "      <td>73.604260</td>\n",
       "    </tr>\n",
       "    <tr>\n",
       "      <th>16633</th>\n",
       "      <td>fiKDv</td>\n",
       "      <td>0.157341</td>\n",
       "      <td>1.028359</td>\n",
       "      <td>5.585586</td>\n",
       "      <td>95.817889</td>\n",
       "    </tr>\n",
       "    <tr>\n",
       "      <th>90815</th>\n",
       "      <td>fiKDv</td>\n",
       "      <td>0.049883</td>\n",
       "      <td>0.841313</td>\n",
       "      <td>6.394613</td>\n",
       "      <td>137.346586</td>\n",
       "    </tr>\n",
       "  </tbody>\n",
       "</table>\n",
       "</div>"
      ],
      "text/plain": [
       "          id        f0        f1         f2     product\n",
       "66136  74z30  1.084962 -0.312358   6.990771  127.643327\n",
       "64022  74z30  0.741456  0.459229   5.153109  140.771492\n",
       "51970  A5aEY -0.180335  0.935548  -2.094773   33.020205\n",
       "3389   A5aEY -0.039949  0.156872   0.209861   89.249364\n",
       "69163  AGS9W -0.933795  0.116194  -3.655896   19.230453\n",
       "42529  AGS9W  1.454747 -0.479651   0.683380  126.370504\n",
       "931    HZww2  0.755284  0.368511   1.863211   30.681774\n",
       "7530   HZww2  1.061194 -0.373969  10.430210  158.828695\n",
       "63593  QcMuo  0.635635 -0.473422   0.862670   64.578675\n",
       "1949   QcMuo  0.506563 -0.323775  -2.215583   75.496502\n",
       "75715  Tdehs  0.112079  0.430296   3.218993   60.964018\n",
       "21426  Tdehs  0.829407  0.298807  -0.049563   96.035308\n",
       "92341  TtcGQ  0.110711  1.022689   0.911381  101.318008\n",
       "60140  TtcGQ  0.569276 -0.104876   6.440215   85.350186\n",
       "89582  bsk9y  0.398908 -0.400253  10.122376  163.433078\n",
       "97785  bsk9y  0.378429  0.005837   0.160827  160.637302\n",
       "41724  bxg6G -0.823752  0.546319   3.630479   93.007798\n",
       "1364   bxg6G  0.411645  0.856830  -3.653440   73.604260\n",
       "16633  fiKDv  0.157341  1.028359   5.585586   95.817889\n",
       "90815  fiKDv  0.049883  0.841313   6.394613  137.346586"
      ]
     },
     "metadata": {},
     "output_type": "display_data"
    },
    {
     "name": "stdout",
     "output_type": "stream",
     "text": [
      "Количество одинаковых id в geo_data_1 = 4\n"
     ]
    },
    {
     "data": {
      "text/plain": [
       "'Одинаковые id в geo_data_1:'"
      ]
     },
     "metadata": {},
     "output_type": "display_data"
    },
    {
     "data": {
      "text/plain": [
       "41906    LHZR0\n",
       "82178    bfPNe\n",
       "82873    wt4Uk\n",
       "84461    5ltQ6\n",
       "Name: id, dtype: object"
      ]
     },
     "metadata": {},
     "output_type": "display_data"
    },
    {
     "data": {
      "text/plain": [
       "'Строки одинаковыми id в geo_data_1:'"
      ]
     },
     "metadata": {},
     "output_type": "display_data"
    },
    {
     "data": {
      "text/html": [
       "<div>\n",
       "<style scoped>\n",
       "    .dataframe tbody tr th:only-of-type {\n",
       "        vertical-align: middle;\n",
       "    }\n",
       "\n",
       "    .dataframe tbody tr th {\n",
       "        vertical-align: top;\n",
       "    }\n",
       "\n",
       "    .dataframe thead th {\n",
       "        text-align: right;\n",
       "    }\n",
       "</style>\n",
       "<table border=\"1\" class=\"dataframe\">\n",
       "  <thead>\n",
       "    <tr style=\"text-align: right;\">\n",
       "      <th></th>\n",
       "      <th>id</th>\n",
       "      <th>f0</th>\n",
       "      <th>f1</th>\n",
       "      <th>f2</th>\n",
       "      <th>product</th>\n",
       "    </tr>\n",
       "  </thead>\n",
       "  <tbody>\n",
       "    <tr>\n",
       "      <th>5849</th>\n",
       "      <td>5ltQ6</td>\n",
       "      <td>-3.435401</td>\n",
       "      <td>-12.296043</td>\n",
       "      <td>1.999796</td>\n",
       "      <td>57.085625</td>\n",
       "    </tr>\n",
       "    <tr>\n",
       "      <th>84461</th>\n",
       "      <td>5ltQ6</td>\n",
       "      <td>18.213839</td>\n",
       "      <td>2.191999</td>\n",
       "      <td>3.993869</td>\n",
       "      <td>107.813044</td>\n",
       "    </tr>\n",
       "    <tr>\n",
       "      <th>1305</th>\n",
       "      <td>LHZR0</td>\n",
       "      <td>11.170835</td>\n",
       "      <td>-1.945066</td>\n",
       "      <td>3.002872</td>\n",
       "      <td>80.859783</td>\n",
       "    </tr>\n",
       "    <tr>\n",
       "      <th>41906</th>\n",
       "      <td>LHZR0</td>\n",
       "      <td>-8.989672</td>\n",
       "      <td>-4.286607</td>\n",
       "      <td>2.009139</td>\n",
       "      <td>57.085625</td>\n",
       "    </tr>\n",
       "    <tr>\n",
       "      <th>2721</th>\n",
       "      <td>bfPNe</td>\n",
       "      <td>-9.494442</td>\n",
       "      <td>-5.463692</td>\n",
       "      <td>4.006042</td>\n",
       "      <td>110.992147</td>\n",
       "    </tr>\n",
       "    <tr>\n",
       "      <th>82178</th>\n",
       "      <td>bfPNe</td>\n",
       "      <td>-6.202799</td>\n",
       "      <td>-4.820045</td>\n",
       "      <td>2.995107</td>\n",
       "      <td>84.038886</td>\n",
       "    </tr>\n",
       "    <tr>\n",
       "      <th>47591</th>\n",
       "      <td>wt4Uk</td>\n",
       "      <td>-9.091098</td>\n",
       "      <td>-8.109279</td>\n",
       "      <td>-0.002314</td>\n",
       "      <td>3.179103</td>\n",
       "    </tr>\n",
       "    <tr>\n",
       "      <th>82873</th>\n",
       "      <td>wt4Uk</td>\n",
       "      <td>10.259972</td>\n",
       "      <td>-9.376355</td>\n",
       "      <td>4.994297</td>\n",
       "      <td>134.766305</td>\n",
       "    </tr>\n",
       "  </tbody>\n",
       "</table>\n",
       "</div>"
      ],
      "text/plain": [
       "          id         f0         f1        f2     product\n",
       "5849   5ltQ6  -3.435401 -12.296043  1.999796   57.085625\n",
       "84461  5ltQ6  18.213839   2.191999  3.993869  107.813044\n",
       "1305   LHZR0  11.170835  -1.945066  3.002872   80.859783\n",
       "41906  LHZR0  -8.989672  -4.286607  2.009139   57.085625\n",
       "2721   bfPNe  -9.494442  -5.463692  4.006042  110.992147\n",
       "82178  bfPNe  -6.202799  -4.820045  2.995107   84.038886\n",
       "47591  wt4Uk  -9.091098  -8.109279 -0.002314    3.179103\n",
       "82873  wt4Uk  10.259972  -9.376355  4.994297  134.766305"
      ]
     },
     "metadata": {},
     "output_type": "display_data"
    },
    {
     "name": "stdout",
     "output_type": "stream",
     "text": [
      "Количество одинаковых id в geo_data_2 = 4\n"
     ]
    },
    {
     "data": {
      "text/plain": [
       "'Одинаковые id в geo_data_2:'"
      ]
     },
     "metadata": {},
     "output_type": "display_data"
    },
    {
     "data": {
      "text/plain": [
       "43233    xCHr8\n",
       "49564    VF7Jo\n",
       "55967    KUPhW\n",
       "95090    Vcm5J\n",
       "Name: id, dtype: object"
      ]
     },
     "metadata": {},
     "output_type": "display_data"
    },
    {
     "data": {
      "text/plain": [
       "'Строки одинаковыми id в geo_data_2:'"
      ]
     },
     "metadata": {},
     "output_type": "display_data"
    },
    {
     "data": {
      "text/html": [
       "<div>\n",
       "<style scoped>\n",
       "    .dataframe tbody tr th:only-of-type {\n",
       "        vertical-align: middle;\n",
       "    }\n",
       "\n",
       "    .dataframe tbody tr th {\n",
       "        vertical-align: top;\n",
       "    }\n",
       "\n",
       "    .dataframe thead th {\n",
       "        text-align: right;\n",
       "    }\n",
       "</style>\n",
       "<table border=\"1\" class=\"dataframe\">\n",
       "  <thead>\n",
       "    <tr style=\"text-align: right;\">\n",
       "      <th></th>\n",
       "      <th>id</th>\n",
       "      <th>f0</th>\n",
       "      <th>f1</th>\n",
       "      <th>f2</th>\n",
       "      <th>product</th>\n",
       "    </tr>\n",
       "  </thead>\n",
       "  <tbody>\n",
       "    <tr>\n",
       "      <th>45404</th>\n",
       "      <td>KUPhW</td>\n",
       "      <td>0.231846</td>\n",
       "      <td>-1.698941</td>\n",
       "      <td>4.990775</td>\n",
       "      <td>11.716299</td>\n",
       "    </tr>\n",
       "    <tr>\n",
       "      <th>55967</th>\n",
       "      <td>KUPhW</td>\n",
       "      <td>1.211150</td>\n",
       "      <td>3.176408</td>\n",
       "      <td>5.543540</td>\n",
       "      <td>132.831802</td>\n",
       "    </tr>\n",
       "    <tr>\n",
       "      <th>11449</th>\n",
       "      <td>VF7Jo</td>\n",
       "      <td>2.122656</td>\n",
       "      <td>-0.858275</td>\n",
       "      <td>5.746001</td>\n",
       "      <td>181.716817</td>\n",
       "    </tr>\n",
       "    <tr>\n",
       "      <th>49564</th>\n",
       "      <td>VF7Jo</td>\n",
       "      <td>-0.883115</td>\n",
       "      <td>0.560537</td>\n",
       "      <td>0.723601</td>\n",
       "      <td>136.233420</td>\n",
       "    </tr>\n",
       "    <tr>\n",
       "      <th>44378</th>\n",
       "      <td>Vcm5J</td>\n",
       "      <td>-1.229484</td>\n",
       "      <td>-2.439204</td>\n",
       "      <td>1.222909</td>\n",
       "      <td>137.968290</td>\n",
       "    </tr>\n",
       "    <tr>\n",
       "      <th>95090</th>\n",
       "      <td>Vcm5J</td>\n",
       "      <td>2.587702</td>\n",
       "      <td>1.986875</td>\n",
       "      <td>2.482245</td>\n",
       "      <td>92.327572</td>\n",
       "    </tr>\n",
       "    <tr>\n",
       "      <th>28039</th>\n",
       "      <td>xCHr8</td>\n",
       "      <td>1.633027</td>\n",
       "      <td>0.368135</td>\n",
       "      <td>-2.378367</td>\n",
       "      <td>6.120525</td>\n",
       "    </tr>\n",
       "    <tr>\n",
       "      <th>43233</th>\n",
       "      <td>xCHr8</td>\n",
       "      <td>-0.847066</td>\n",
       "      <td>2.101796</td>\n",
       "      <td>5.597130</td>\n",
       "      <td>184.388641</td>\n",
       "    </tr>\n",
       "  </tbody>\n",
       "</table>\n",
       "</div>"
      ],
      "text/plain": [
       "          id        f0        f1        f2     product\n",
       "45404  KUPhW  0.231846 -1.698941  4.990775   11.716299\n",
       "55967  KUPhW  1.211150  3.176408  5.543540  132.831802\n",
       "11449  VF7Jo  2.122656 -0.858275  5.746001  181.716817\n",
       "49564  VF7Jo -0.883115  0.560537  0.723601  136.233420\n",
       "44378  Vcm5J -1.229484 -2.439204  1.222909  137.968290\n",
       "95090  Vcm5J  2.587702  1.986875  2.482245   92.327572\n",
       "28039  xCHr8  1.633027  0.368135 -2.378367    6.120525\n",
       "43233  xCHr8 -0.847066  2.101796  5.597130  184.388641"
      ]
     },
     "metadata": {},
     "output_type": "display_data"
    }
   ],
   "source": [
    "print('Количество одинаковых id в geo_data_0 =', data0['id'].duplicated().sum())\n",
    "idd0 = data0[data0['id'].duplicated()]['id']\n",
    "display('Одинаковые id в geo_data_0:', idd0)\n",
    "display('Строки одинаковыми id в geo_data_0:', data0.query('id in @idd0').sort_values('id'))\n",
    "\n",
    "print('Количество одинаковых id в geo_data_1 =', data1['id'].duplicated().sum())\n",
    "idd1 = data1[data1['id'].duplicated()]['id']\n",
    "display('Одинаковые id в geo_data_1:', idd1)\n",
    "display('Строки одинаковыми id в geo_data_1:', data1.query('id in @idd1').sort_values('id'))\n",
    "\n",
    "print('Количество одинаковых id в geo_data_2 =', data2['id'].duplicated().sum())\n",
    "idd2 = data2[data2['id'].duplicated()]['id']\n",
    "display('Одинаковые id в geo_data_2:', idd2)\n",
    "display('Строки одинаковыми id в geo_data_2:', data2.query('id in @idd2').sort_values('id'))"
   ]
  },
  {
   "cell_type": "code",
   "execution_count": 4,
   "metadata": {},
   "outputs": [
    {
     "data": {
      "text/plain": [
       "'geo_data_0 без дублирующихся идентификаторов:'"
      ]
     },
     "metadata": {},
     "output_type": "display_data"
    },
    {
     "data": {
      "text/html": [
       "<div>\n",
       "<style scoped>\n",
       "    .dataframe tbody tr th:only-of-type {\n",
       "        vertical-align: middle;\n",
       "    }\n",
       "\n",
       "    .dataframe tbody tr th {\n",
       "        vertical-align: top;\n",
       "    }\n",
       "\n",
       "    .dataframe thead th {\n",
       "        text-align: right;\n",
       "    }\n",
       "</style>\n",
       "<table border=\"1\" class=\"dataframe\">\n",
       "  <thead>\n",
       "    <tr style=\"text-align: right;\">\n",
       "      <th></th>\n",
       "      <th>id</th>\n",
       "      <th>f0</th>\n",
       "      <th>f1</th>\n",
       "      <th>f2</th>\n",
       "      <th>product</th>\n",
       "    </tr>\n",
       "  </thead>\n",
       "  <tbody>\n",
       "    <tr>\n",
       "      <th>0</th>\n",
       "      <td>txEyH</td>\n",
       "      <td>0.705745</td>\n",
       "      <td>-0.497823</td>\n",
       "      <td>1.221170</td>\n",
       "      <td>105.280062</td>\n",
       "    </tr>\n",
       "    <tr>\n",
       "      <th>1</th>\n",
       "      <td>2acmU</td>\n",
       "      <td>1.334711</td>\n",
       "      <td>-0.340164</td>\n",
       "      <td>4.365080</td>\n",
       "      <td>73.037750</td>\n",
       "    </tr>\n",
       "    <tr>\n",
       "      <th>2</th>\n",
       "      <td>409Wp</td>\n",
       "      <td>1.022732</td>\n",
       "      <td>0.151990</td>\n",
       "      <td>1.419926</td>\n",
       "      <td>85.265647</td>\n",
       "    </tr>\n",
       "    <tr>\n",
       "      <th>3</th>\n",
       "      <td>iJLyR</td>\n",
       "      <td>-0.032172</td>\n",
       "      <td>0.139033</td>\n",
       "      <td>2.978566</td>\n",
       "      <td>168.620776</td>\n",
       "    </tr>\n",
       "    <tr>\n",
       "      <th>4</th>\n",
       "      <td>Xdl7t</td>\n",
       "      <td>1.988431</td>\n",
       "      <td>0.155413</td>\n",
       "      <td>4.751769</td>\n",
       "      <td>154.036647</td>\n",
       "    </tr>\n",
       "    <tr>\n",
       "      <th>...</th>\n",
       "      <td>...</td>\n",
       "      <td>...</td>\n",
       "      <td>...</td>\n",
       "      <td>...</td>\n",
       "      <td>...</td>\n",
       "    </tr>\n",
       "    <tr>\n",
       "      <th>99995</th>\n",
       "      <td>DLsed</td>\n",
       "      <td>0.971957</td>\n",
       "      <td>0.370953</td>\n",
       "      <td>6.075346</td>\n",
       "      <td>110.744026</td>\n",
       "    </tr>\n",
       "    <tr>\n",
       "      <th>99996</th>\n",
       "      <td>QKivN</td>\n",
       "      <td>1.392429</td>\n",
       "      <td>-0.382606</td>\n",
       "      <td>1.273912</td>\n",
       "      <td>122.346843</td>\n",
       "    </tr>\n",
       "    <tr>\n",
       "      <th>99997</th>\n",
       "      <td>3rnvd</td>\n",
       "      <td>1.029585</td>\n",
       "      <td>0.018787</td>\n",
       "      <td>-1.348308</td>\n",
       "      <td>64.375443</td>\n",
       "    </tr>\n",
       "    <tr>\n",
       "      <th>99998</th>\n",
       "      <td>7kl59</td>\n",
       "      <td>0.998163</td>\n",
       "      <td>-0.528582</td>\n",
       "      <td>1.583869</td>\n",
       "      <td>74.040764</td>\n",
       "    </tr>\n",
       "    <tr>\n",
       "      <th>99999</th>\n",
       "      <td>1CWhH</td>\n",
       "      <td>1.764754</td>\n",
       "      <td>-0.266417</td>\n",
       "      <td>5.722849</td>\n",
       "      <td>149.633246</td>\n",
       "    </tr>\n",
       "  </tbody>\n",
       "</table>\n",
       "<p>99980 rows × 5 columns</p>\n",
       "</div>"
      ],
      "text/plain": [
       "          id        f0        f1        f2     product\n",
       "0      txEyH  0.705745 -0.497823  1.221170  105.280062\n",
       "1      2acmU  1.334711 -0.340164  4.365080   73.037750\n",
       "2      409Wp  1.022732  0.151990  1.419926   85.265647\n",
       "3      iJLyR -0.032172  0.139033  2.978566  168.620776\n",
       "4      Xdl7t  1.988431  0.155413  4.751769  154.036647\n",
       "...      ...       ...       ...       ...         ...\n",
       "99995  DLsed  0.971957  0.370953  6.075346  110.744026\n",
       "99996  QKivN  1.392429 -0.382606  1.273912  122.346843\n",
       "99997  3rnvd  1.029585  0.018787 -1.348308   64.375443\n",
       "99998  7kl59  0.998163 -0.528582  1.583869   74.040764\n",
       "99999  1CWhH  1.764754 -0.266417  5.722849  149.633246\n",
       "\n",
       "[99980 rows x 5 columns]"
      ]
     },
     "metadata": {},
     "output_type": "display_data"
    },
    {
     "data": {
      "text/plain": [
       "'geo_data_1 без дублирующихся идентификаторов:'"
      ]
     },
     "metadata": {},
     "output_type": "display_data"
    },
    {
     "data": {
      "text/html": [
       "<div>\n",
       "<style scoped>\n",
       "    .dataframe tbody tr th:only-of-type {\n",
       "        vertical-align: middle;\n",
       "    }\n",
       "\n",
       "    .dataframe tbody tr th {\n",
       "        vertical-align: top;\n",
       "    }\n",
       "\n",
       "    .dataframe thead th {\n",
       "        text-align: right;\n",
       "    }\n",
       "</style>\n",
       "<table border=\"1\" class=\"dataframe\">\n",
       "  <thead>\n",
       "    <tr style=\"text-align: right;\">\n",
       "      <th></th>\n",
       "      <th>id</th>\n",
       "      <th>f0</th>\n",
       "      <th>f1</th>\n",
       "      <th>f2</th>\n",
       "      <th>product</th>\n",
       "    </tr>\n",
       "  </thead>\n",
       "  <tbody>\n",
       "    <tr>\n",
       "      <th>0</th>\n",
       "      <td>kBEdx</td>\n",
       "      <td>-15.001348</td>\n",
       "      <td>-8.276000</td>\n",
       "      <td>-0.005876</td>\n",
       "      <td>3.179103</td>\n",
       "    </tr>\n",
       "    <tr>\n",
       "      <th>1</th>\n",
       "      <td>62mP7</td>\n",
       "      <td>14.272088</td>\n",
       "      <td>-3.475083</td>\n",
       "      <td>0.999183</td>\n",
       "      <td>26.953261</td>\n",
       "    </tr>\n",
       "    <tr>\n",
       "      <th>2</th>\n",
       "      <td>vyE1P</td>\n",
       "      <td>6.263187</td>\n",
       "      <td>-5.948386</td>\n",
       "      <td>5.001160</td>\n",
       "      <td>134.766305</td>\n",
       "    </tr>\n",
       "    <tr>\n",
       "      <th>3</th>\n",
       "      <td>KcrkZ</td>\n",
       "      <td>-13.081196</td>\n",
       "      <td>-11.506057</td>\n",
       "      <td>4.999415</td>\n",
       "      <td>137.945408</td>\n",
       "    </tr>\n",
       "    <tr>\n",
       "      <th>4</th>\n",
       "      <td>AHL4O</td>\n",
       "      <td>12.702195</td>\n",
       "      <td>-8.147433</td>\n",
       "      <td>5.004363</td>\n",
       "      <td>134.766305</td>\n",
       "    </tr>\n",
       "    <tr>\n",
       "      <th>...</th>\n",
       "      <td>...</td>\n",
       "      <td>...</td>\n",
       "      <td>...</td>\n",
       "      <td>...</td>\n",
       "      <td>...</td>\n",
       "    </tr>\n",
       "    <tr>\n",
       "      <th>99995</th>\n",
       "      <td>QywKC</td>\n",
       "      <td>9.535637</td>\n",
       "      <td>-6.878139</td>\n",
       "      <td>1.998296</td>\n",
       "      <td>53.906522</td>\n",
       "    </tr>\n",
       "    <tr>\n",
       "      <th>99996</th>\n",
       "      <td>ptvty</td>\n",
       "      <td>-10.160631</td>\n",
       "      <td>-12.558096</td>\n",
       "      <td>5.005581</td>\n",
       "      <td>137.945408</td>\n",
       "    </tr>\n",
       "    <tr>\n",
       "      <th>99997</th>\n",
       "      <td>09gWa</td>\n",
       "      <td>-7.378891</td>\n",
       "      <td>-3.084104</td>\n",
       "      <td>4.998651</td>\n",
       "      <td>137.945408</td>\n",
       "    </tr>\n",
       "    <tr>\n",
       "      <th>99998</th>\n",
       "      <td>rqwUm</td>\n",
       "      <td>0.665714</td>\n",
       "      <td>-6.152593</td>\n",
       "      <td>1.000146</td>\n",
       "      <td>30.132364</td>\n",
       "    </tr>\n",
       "    <tr>\n",
       "      <th>99999</th>\n",
       "      <td>relB0</td>\n",
       "      <td>-3.426139</td>\n",
       "      <td>-7.794274</td>\n",
       "      <td>-0.003299</td>\n",
       "      <td>3.179103</td>\n",
       "    </tr>\n",
       "  </tbody>\n",
       "</table>\n",
       "<p>99992 rows × 5 columns</p>\n",
       "</div>"
      ],
      "text/plain": [
       "          id         f0         f1        f2     product\n",
       "0      kBEdx -15.001348  -8.276000 -0.005876    3.179103\n",
       "1      62mP7  14.272088  -3.475083  0.999183   26.953261\n",
       "2      vyE1P   6.263187  -5.948386  5.001160  134.766305\n",
       "3      KcrkZ -13.081196 -11.506057  4.999415  137.945408\n",
       "4      AHL4O  12.702195  -8.147433  5.004363  134.766305\n",
       "...      ...        ...        ...       ...         ...\n",
       "99995  QywKC   9.535637  -6.878139  1.998296   53.906522\n",
       "99996  ptvty -10.160631 -12.558096  5.005581  137.945408\n",
       "99997  09gWa  -7.378891  -3.084104  4.998651  137.945408\n",
       "99998  rqwUm   0.665714  -6.152593  1.000146   30.132364\n",
       "99999  relB0  -3.426139  -7.794274 -0.003299    3.179103\n",
       "\n",
       "[99992 rows x 5 columns]"
      ]
     },
     "metadata": {},
     "output_type": "display_data"
    },
    {
     "data": {
      "text/plain": [
       "'geo_data_2 без дублирующихся идентификаторов:'"
      ]
     },
     "metadata": {},
     "output_type": "display_data"
    },
    {
     "data": {
      "text/html": [
       "<div>\n",
       "<style scoped>\n",
       "    .dataframe tbody tr th:only-of-type {\n",
       "        vertical-align: middle;\n",
       "    }\n",
       "\n",
       "    .dataframe tbody tr th {\n",
       "        vertical-align: top;\n",
       "    }\n",
       "\n",
       "    .dataframe thead th {\n",
       "        text-align: right;\n",
       "    }\n",
       "</style>\n",
       "<table border=\"1\" class=\"dataframe\">\n",
       "  <thead>\n",
       "    <tr style=\"text-align: right;\">\n",
       "      <th></th>\n",
       "      <th>id</th>\n",
       "      <th>f0</th>\n",
       "      <th>f1</th>\n",
       "      <th>f2</th>\n",
       "      <th>product</th>\n",
       "    </tr>\n",
       "  </thead>\n",
       "  <tbody>\n",
       "    <tr>\n",
       "      <th>0</th>\n",
       "      <td>fwXo0</td>\n",
       "      <td>-1.146987</td>\n",
       "      <td>0.963328</td>\n",
       "      <td>-0.828965</td>\n",
       "      <td>27.758673</td>\n",
       "    </tr>\n",
       "    <tr>\n",
       "      <th>1</th>\n",
       "      <td>WJtFt</td>\n",
       "      <td>0.262778</td>\n",
       "      <td>0.269839</td>\n",
       "      <td>-2.530187</td>\n",
       "      <td>56.069697</td>\n",
       "    </tr>\n",
       "    <tr>\n",
       "      <th>2</th>\n",
       "      <td>ovLUW</td>\n",
       "      <td>0.194587</td>\n",
       "      <td>0.289035</td>\n",
       "      <td>-5.586433</td>\n",
       "      <td>62.871910</td>\n",
       "    </tr>\n",
       "    <tr>\n",
       "      <th>3</th>\n",
       "      <td>q6cA6</td>\n",
       "      <td>2.236060</td>\n",
       "      <td>-0.553760</td>\n",
       "      <td>0.930038</td>\n",
       "      <td>114.572842</td>\n",
       "    </tr>\n",
       "    <tr>\n",
       "      <th>4</th>\n",
       "      <td>WPMUX</td>\n",
       "      <td>-0.515993</td>\n",
       "      <td>1.716266</td>\n",
       "      <td>5.899011</td>\n",
       "      <td>149.600746</td>\n",
       "    </tr>\n",
       "    <tr>\n",
       "      <th>...</th>\n",
       "      <td>...</td>\n",
       "      <td>...</td>\n",
       "      <td>...</td>\n",
       "      <td>...</td>\n",
       "      <td>...</td>\n",
       "    </tr>\n",
       "    <tr>\n",
       "      <th>99995</th>\n",
       "      <td>4GxBu</td>\n",
       "      <td>-1.777037</td>\n",
       "      <td>1.125220</td>\n",
       "      <td>6.263374</td>\n",
       "      <td>172.327046</td>\n",
       "    </tr>\n",
       "    <tr>\n",
       "      <th>99996</th>\n",
       "      <td>YKFjq</td>\n",
       "      <td>-1.261523</td>\n",
       "      <td>-0.894828</td>\n",
       "      <td>2.524545</td>\n",
       "      <td>138.748846</td>\n",
       "    </tr>\n",
       "    <tr>\n",
       "      <th>99997</th>\n",
       "      <td>tKPY3</td>\n",
       "      <td>-1.199934</td>\n",
       "      <td>-2.957637</td>\n",
       "      <td>5.219411</td>\n",
       "      <td>157.080080</td>\n",
       "    </tr>\n",
       "    <tr>\n",
       "      <th>99998</th>\n",
       "      <td>nmxp2</td>\n",
       "      <td>-2.419896</td>\n",
       "      <td>2.417221</td>\n",
       "      <td>-5.548444</td>\n",
       "      <td>51.795253</td>\n",
       "    </tr>\n",
       "    <tr>\n",
       "      <th>99999</th>\n",
       "      <td>V9kWn</td>\n",
       "      <td>-2.551421</td>\n",
       "      <td>-2.025625</td>\n",
       "      <td>6.090891</td>\n",
       "      <td>102.775767</td>\n",
       "    </tr>\n",
       "  </tbody>\n",
       "</table>\n",
       "<p>99992 rows × 5 columns</p>\n",
       "</div>"
      ],
      "text/plain": [
       "          id        f0        f1        f2     product\n",
       "0      fwXo0 -1.146987  0.963328 -0.828965   27.758673\n",
       "1      WJtFt  0.262778  0.269839 -2.530187   56.069697\n",
       "2      ovLUW  0.194587  0.289035 -5.586433   62.871910\n",
       "3      q6cA6  2.236060 -0.553760  0.930038  114.572842\n",
       "4      WPMUX -0.515993  1.716266  5.899011  149.600746\n",
       "...      ...       ...       ...       ...         ...\n",
       "99995  4GxBu -1.777037  1.125220  6.263374  172.327046\n",
       "99996  YKFjq -1.261523 -0.894828  2.524545  138.748846\n",
       "99997  tKPY3 -1.199934 -2.957637  5.219411  157.080080\n",
       "99998  nmxp2 -2.419896  2.417221 -5.548444   51.795253\n",
       "99999  V9kWn -2.551421 -2.025625  6.090891  102.775767\n",
       "\n",
       "[99992 rows x 5 columns]"
      ]
     },
     "metadata": {},
     "output_type": "display_data"
    }
   ],
   "source": [
    "data0 = data0.query('id not in @idd0')\n",
    "display('geo_data_0 без дублирующихся идентификаторов:', data0)\n",
    "\n",
    "data1 = data1.query('id not in @idd1')\n",
    "display('geo_data_1 без дублирующихся идентификаторов:', data1)\n",
    "\n",
    "data2 = data2.query('id not in @idd2')\n",
    "display('geo_data_2 без дублирующихся идентификаторов:', data2)"
   ]
  },
  {
   "cell_type": "code",
   "execution_count": 5,
   "metadata": {},
   "outputs": [
    {
     "data": {
      "text/plain": [
       "'Таблица geo_data_0 с уникальными идентификаторами скважины:'"
      ]
     },
     "metadata": {},
     "output_type": "display_data"
    },
    {
     "data": {
      "text/plain": [
       "0        txEyH\n",
       "1        2acmU\n",
       "2        409Wp\n",
       "3        iJLyR\n",
       "4        Xdl7t\n",
       "         ...  \n",
       "99995    DLsed\n",
       "99996    QKivN\n",
       "99997    3rnvd\n",
       "99998    7kl59\n",
       "99999    1CWhH\n",
       "Name: id, Length: 99980, dtype: object"
      ]
     },
     "metadata": {},
     "output_type": "display_data"
    },
    {
     "data": {
      "text/plain": [
       "'Таблица geo_data_1 с уникальными идентификаторами скважины:'"
      ]
     },
     "metadata": {},
     "output_type": "display_data"
    },
    {
     "data": {
      "text/plain": [
       "0        kBEdx\n",
       "1        62mP7\n",
       "2        vyE1P\n",
       "3        KcrkZ\n",
       "4        AHL4O\n",
       "         ...  \n",
       "99995    QywKC\n",
       "99996    ptvty\n",
       "99997    09gWa\n",
       "99998    rqwUm\n",
       "99999    relB0\n",
       "Name: id, Length: 99992, dtype: object"
      ]
     },
     "metadata": {},
     "output_type": "display_data"
    },
    {
     "data": {
      "text/plain": [
       "'Таблица geo_data_2 с уникальными идентификаторами скважины:'"
      ]
     },
     "metadata": {},
     "output_type": "display_data"
    },
    {
     "data": {
      "text/plain": [
       "0        fwXo0\n",
       "1        WJtFt\n",
       "2        ovLUW\n",
       "3        q6cA6\n",
       "4        WPMUX\n",
       "         ...  \n",
       "99995    4GxBu\n",
       "99996    YKFjq\n",
       "99997    tKPY3\n",
       "99998    nmxp2\n",
       "99999    V9kWn\n",
       "Name: id, Length: 99992, dtype: object"
      ]
     },
     "metadata": {},
     "output_type": "display_data"
    }
   ],
   "source": [
    "data0_id = data0['id']\n",
    "display('Таблица geo_data_0 с уникальными идентификаторами скважины:', data0_id)\n",
    "\n",
    "data1_id = data1['id']\n",
    "display('Таблица geo_data_1 с уникальными идентификаторами скважины:', data1_id)\n",
    "\n",
    "data2_id = data2['id']\n",
    "display('Таблица geo_data_2 с уникальными идентификаторами скважины:', data2_id)"
   ]
  },
  {
   "cell_type": "code",
   "execution_count": 6,
   "metadata": {
    "scrolled": true
   },
   "outputs": [
    {
     "data": {
      "text/plain": [
       "'Таблица geo_data_0:'"
      ]
     },
     "metadata": {},
     "output_type": "display_data"
    },
    {
     "data": {
      "text/html": [
       "<div>\n",
       "<style scoped>\n",
       "    .dataframe tbody tr th:only-of-type {\n",
       "        vertical-align: middle;\n",
       "    }\n",
       "\n",
       "    .dataframe tbody tr th {\n",
       "        vertical-align: top;\n",
       "    }\n",
       "\n",
       "    .dataframe thead th {\n",
       "        text-align: right;\n",
       "    }\n",
       "</style>\n",
       "<table border=\"1\" class=\"dataframe\">\n",
       "  <thead>\n",
       "    <tr style=\"text-align: right;\">\n",
       "      <th></th>\n",
       "      <th>f0</th>\n",
       "      <th>f1</th>\n",
       "      <th>f2</th>\n",
       "      <th>product</th>\n",
       "    </tr>\n",
       "  </thead>\n",
       "  <tbody>\n",
       "    <tr>\n",
       "      <th>0</th>\n",
       "      <td>0.705745</td>\n",
       "      <td>-0.497823</td>\n",
       "      <td>1.221170</td>\n",
       "      <td>105.280062</td>\n",
       "    </tr>\n",
       "    <tr>\n",
       "      <th>1</th>\n",
       "      <td>1.334711</td>\n",
       "      <td>-0.340164</td>\n",
       "      <td>4.365080</td>\n",
       "      <td>73.037750</td>\n",
       "    </tr>\n",
       "    <tr>\n",
       "      <th>2</th>\n",
       "      <td>1.022732</td>\n",
       "      <td>0.151990</td>\n",
       "      <td>1.419926</td>\n",
       "      <td>85.265647</td>\n",
       "    </tr>\n",
       "    <tr>\n",
       "      <th>3</th>\n",
       "      <td>-0.032172</td>\n",
       "      <td>0.139033</td>\n",
       "      <td>2.978566</td>\n",
       "      <td>168.620776</td>\n",
       "    </tr>\n",
       "    <tr>\n",
       "      <th>4</th>\n",
       "      <td>1.988431</td>\n",
       "      <td>0.155413</td>\n",
       "      <td>4.751769</td>\n",
       "      <td>154.036647</td>\n",
       "    </tr>\n",
       "    <tr>\n",
       "      <th>...</th>\n",
       "      <td>...</td>\n",
       "      <td>...</td>\n",
       "      <td>...</td>\n",
       "      <td>...</td>\n",
       "    </tr>\n",
       "    <tr>\n",
       "      <th>99995</th>\n",
       "      <td>0.971957</td>\n",
       "      <td>0.370953</td>\n",
       "      <td>6.075346</td>\n",
       "      <td>110.744026</td>\n",
       "    </tr>\n",
       "    <tr>\n",
       "      <th>99996</th>\n",
       "      <td>1.392429</td>\n",
       "      <td>-0.382606</td>\n",
       "      <td>1.273912</td>\n",
       "      <td>122.346843</td>\n",
       "    </tr>\n",
       "    <tr>\n",
       "      <th>99997</th>\n",
       "      <td>1.029585</td>\n",
       "      <td>0.018787</td>\n",
       "      <td>-1.348308</td>\n",
       "      <td>64.375443</td>\n",
       "    </tr>\n",
       "    <tr>\n",
       "      <th>99998</th>\n",
       "      <td>0.998163</td>\n",
       "      <td>-0.528582</td>\n",
       "      <td>1.583869</td>\n",
       "      <td>74.040764</td>\n",
       "    </tr>\n",
       "    <tr>\n",
       "      <th>99999</th>\n",
       "      <td>1.764754</td>\n",
       "      <td>-0.266417</td>\n",
       "      <td>5.722849</td>\n",
       "      <td>149.633246</td>\n",
       "    </tr>\n",
       "  </tbody>\n",
       "</table>\n",
       "<p>99980 rows × 4 columns</p>\n",
       "</div>"
      ],
      "text/plain": [
       "             f0        f1        f2     product\n",
       "0      0.705745 -0.497823  1.221170  105.280062\n",
       "1      1.334711 -0.340164  4.365080   73.037750\n",
       "2      1.022732  0.151990  1.419926   85.265647\n",
       "3     -0.032172  0.139033  2.978566  168.620776\n",
       "4      1.988431  0.155413  4.751769  154.036647\n",
       "...         ...       ...       ...         ...\n",
       "99995  0.971957  0.370953  6.075346  110.744026\n",
       "99996  1.392429 -0.382606  1.273912  122.346843\n",
       "99997  1.029585  0.018787 -1.348308   64.375443\n",
       "99998  0.998163 -0.528582  1.583869   74.040764\n",
       "99999  1.764754 -0.266417  5.722849  149.633246\n",
       "\n",
       "[99980 rows x 4 columns]"
      ]
     },
     "metadata": {},
     "output_type": "display_data"
    },
    {
     "data": {
      "text/plain": [
       "'Таблица geo_data_1:'"
      ]
     },
     "metadata": {},
     "output_type": "display_data"
    },
    {
     "data": {
      "text/html": [
       "<div>\n",
       "<style scoped>\n",
       "    .dataframe tbody tr th:only-of-type {\n",
       "        vertical-align: middle;\n",
       "    }\n",
       "\n",
       "    .dataframe tbody tr th {\n",
       "        vertical-align: top;\n",
       "    }\n",
       "\n",
       "    .dataframe thead th {\n",
       "        text-align: right;\n",
       "    }\n",
       "</style>\n",
       "<table border=\"1\" class=\"dataframe\">\n",
       "  <thead>\n",
       "    <tr style=\"text-align: right;\">\n",
       "      <th></th>\n",
       "      <th>f0</th>\n",
       "      <th>f1</th>\n",
       "      <th>f2</th>\n",
       "      <th>product</th>\n",
       "    </tr>\n",
       "  </thead>\n",
       "  <tbody>\n",
       "    <tr>\n",
       "      <th>0</th>\n",
       "      <td>-15.001348</td>\n",
       "      <td>-8.276000</td>\n",
       "      <td>-0.005876</td>\n",
       "      <td>3.179103</td>\n",
       "    </tr>\n",
       "    <tr>\n",
       "      <th>1</th>\n",
       "      <td>14.272088</td>\n",
       "      <td>-3.475083</td>\n",
       "      <td>0.999183</td>\n",
       "      <td>26.953261</td>\n",
       "    </tr>\n",
       "    <tr>\n",
       "      <th>2</th>\n",
       "      <td>6.263187</td>\n",
       "      <td>-5.948386</td>\n",
       "      <td>5.001160</td>\n",
       "      <td>134.766305</td>\n",
       "    </tr>\n",
       "    <tr>\n",
       "      <th>3</th>\n",
       "      <td>-13.081196</td>\n",
       "      <td>-11.506057</td>\n",
       "      <td>4.999415</td>\n",
       "      <td>137.945408</td>\n",
       "    </tr>\n",
       "    <tr>\n",
       "      <th>4</th>\n",
       "      <td>12.702195</td>\n",
       "      <td>-8.147433</td>\n",
       "      <td>5.004363</td>\n",
       "      <td>134.766305</td>\n",
       "    </tr>\n",
       "    <tr>\n",
       "      <th>...</th>\n",
       "      <td>...</td>\n",
       "      <td>...</td>\n",
       "      <td>...</td>\n",
       "      <td>...</td>\n",
       "    </tr>\n",
       "    <tr>\n",
       "      <th>99995</th>\n",
       "      <td>9.535637</td>\n",
       "      <td>-6.878139</td>\n",
       "      <td>1.998296</td>\n",
       "      <td>53.906522</td>\n",
       "    </tr>\n",
       "    <tr>\n",
       "      <th>99996</th>\n",
       "      <td>-10.160631</td>\n",
       "      <td>-12.558096</td>\n",
       "      <td>5.005581</td>\n",
       "      <td>137.945408</td>\n",
       "    </tr>\n",
       "    <tr>\n",
       "      <th>99997</th>\n",
       "      <td>-7.378891</td>\n",
       "      <td>-3.084104</td>\n",
       "      <td>4.998651</td>\n",
       "      <td>137.945408</td>\n",
       "    </tr>\n",
       "    <tr>\n",
       "      <th>99998</th>\n",
       "      <td>0.665714</td>\n",
       "      <td>-6.152593</td>\n",
       "      <td>1.000146</td>\n",
       "      <td>30.132364</td>\n",
       "    </tr>\n",
       "    <tr>\n",
       "      <th>99999</th>\n",
       "      <td>-3.426139</td>\n",
       "      <td>-7.794274</td>\n",
       "      <td>-0.003299</td>\n",
       "      <td>3.179103</td>\n",
       "    </tr>\n",
       "  </tbody>\n",
       "</table>\n",
       "<p>99992 rows × 4 columns</p>\n",
       "</div>"
      ],
      "text/plain": [
       "              f0         f1        f2     product\n",
       "0     -15.001348  -8.276000 -0.005876    3.179103\n",
       "1      14.272088  -3.475083  0.999183   26.953261\n",
       "2       6.263187  -5.948386  5.001160  134.766305\n",
       "3     -13.081196 -11.506057  4.999415  137.945408\n",
       "4      12.702195  -8.147433  5.004363  134.766305\n",
       "...          ...        ...       ...         ...\n",
       "99995   9.535637  -6.878139  1.998296   53.906522\n",
       "99996 -10.160631 -12.558096  5.005581  137.945408\n",
       "99997  -7.378891  -3.084104  4.998651  137.945408\n",
       "99998   0.665714  -6.152593  1.000146   30.132364\n",
       "99999  -3.426139  -7.794274 -0.003299    3.179103\n",
       "\n",
       "[99992 rows x 4 columns]"
      ]
     },
     "metadata": {},
     "output_type": "display_data"
    },
    {
     "data": {
      "text/plain": [
       "'Таблица geo_data_2:'"
      ]
     },
     "metadata": {},
     "output_type": "display_data"
    },
    {
     "data": {
      "text/html": [
       "<div>\n",
       "<style scoped>\n",
       "    .dataframe tbody tr th:only-of-type {\n",
       "        vertical-align: middle;\n",
       "    }\n",
       "\n",
       "    .dataframe tbody tr th {\n",
       "        vertical-align: top;\n",
       "    }\n",
       "\n",
       "    .dataframe thead th {\n",
       "        text-align: right;\n",
       "    }\n",
       "</style>\n",
       "<table border=\"1\" class=\"dataframe\">\n",
       "  <thead>\n",
       "    <tr style=\"text-align: right;\">\n",
       "      <th></th>\n",
       "      <th>f0</th>\n",
       "      <th>f1</th>\n",
       "      <th>f2</th>\n",
       "      <th>product</th>\n",
       "    </tr>\n",
       "  </thead>\n",
       "  <tbody>\n",
       "    <tr>\n",
       "      <th>0</th>\n",
       "      <td>-1.146987</td>\n",
       "      <td>0.963328</td>\n",
       "      <td>-0.828965</td>\n",
       "      <td>27.758673</td>\n",
       "    </tr>\n",
       "    <tr>\n",
       "      <th>1</th>\n",
       "      <td>0.262778</td>\n",
       "      <td>0.269839</td>\n",
       "      <td>-2.530187</td>\n",
       "      <td>56.069697</td>\n",
       "    </tr>\n",
       "    <tr>\n",
       "      <th>2</th>\n",
       "      <td>0.194587</td>\n",
       "      <td>0.289035</td>\n",
       "      <td>-5.586433</td>\n",
       "      <td>62.871910</td>\n",
       "    </tr>\n",
       "    <tr>\n",
       "      <th>3</th>\n",
       "      <td>2.236060</td>\n",
       "      <td>-0.553760</td>\n",
       "      <td>0.930038</td>\n",
       "      <td>114.572842</td>\n",
       "    </tr>\n",
       "    <tr>\n",
       "      <th>4</th>\n",
       "      <td>-0.515993</td>\n",
       "      <td>1.716266</td>\n",
       "      <td>5.899011</td>\n",
       "      <td>149.600746</td>\n",
       "    </tr>\n",
       "    <tr>\n",
       "      <th>...</th>\n",
       "      <td>...</td>\n",
       "      <td>...</td>\n",
       "      <td>...</td>\n",
       "      <td>...</td>\n",
       "    </tr>\n",
       "    <tr>\n",
       "      <th>99995</th>\n",
       "      <td>-1.777037</td>\n",
       "      <td>1.125220</td>\n",
       "      <td>6.263374</td>\n",
       "      <td>172.327046</td>\n",
       "    </tr>\n",
       "    <tr>\n",
       "      <th>99996</th>\n",
       "      <td>-1.261523</td>\n",
       "      <td>-0.894828</td>\n",
       "      <td>2.524545</td>\n",
       "      <td>138.748846</td>\n",
       "    </tr>\n",
       "    <tr>\n",
       "      <th>99997</th>\n",
       "      <td>-1.199934</td>\n",
       "      <td>-2.957637</td>\n",
       "      <td>5.219411</td>\n",
       "      <td>157.080080</td>\n",
       "    </tr>\n",
       "    <tr>\n",
       "      <th>99998</th>\n",
       "      <td>-2.419896</td>\n",
       "      <td>2.417221</td>\n",
       "      <td>-5.548444</td>\n",
       "      <td>51.795253</td>\n",
       "    </tr>\n",
       "    <tr>\n",
       "      <th>99999</th>\n",
       "      <td>-2.551421</td>\n",
       "      <td>-2.025625</td>\n",
       "      <td>6.090891</td>\n",
       "      <td>102.775767</td>\n",
       "    </tr>\n",
       "  </tbody>\n",
       "</table>\n",
       "<p>99992 rows × 4 columns</p>\n",
       "</div>"
      ],
      "text/plain": [
       "             f0        f1        f2     product\n",
       "0     -1.146987  0.963328 -0.828965   27.758673\n",
       "1      0.262778  0.269839 -2.530187   56.069697\n",
       "2      0.194587  0.289035 -5.586433   62.871910\n",
       "3      2.236060 -0.553760  0.930038  114.572842\n",
       "4     -0.515993  1.716266  5.899011  149.600746\n",
       "...         ...       ...       ...         ...\n",
       "99995 -1.777037  1.125220  6.263374  172.327046\n",
       "99996 -1.261523 -0.894828  2.524545  138.748846\n",
       "99997 -1.199934 -2.957637  5.219411  157.080080\n",
       "99998 -2.419896  2.417221 -5.548444   51.795253\n",
       "99999 -2.551421 -2.025625  6.090891  102.775767\n",
       "\n",
       "[99992 rows x 4 columns]"
      ]
     },
     "metadata": {},
     "output_type": "display_data"
    }
   ],
   "source": [
    "data0 = data0.drop(['id'], axis=1)\n",
    "display('Таблица geo_data_0:', data0)\n",
    "\n",
    "data1 = data1.drop(['id'], axis=1)\n",
    "display('Таблица geo_data_1:', data1)\n",
    "\n",
    "data2 = data2.drop(['id'], axis=1)\n",
    "display('Таблица geo_data_2:', data2)"
   ]
  },
  {
   "cell_type": "markdown",
   "metadata": {},
   "source": [
    "## Обучение и проверка модели"
   ]
  },
  {
   "cell_type": "markdown",
   "metadata": {},
   "source": [
    "### Разбейте данные на обучающую и валидационную выборки в соотношении 75:25"
   ]
  },
  {
   "cell_type": "code",
   "execution_count": 8,
   "metadata": {},
   "outputs": [
    {
     "name": "stdout",
     "output_type": "stream",
     "text": [
      "Размеры таблиц: \n",
      "train_data = (74985, 4) \n",
      "valid_data = (24995, 4)\n"
     ]
    }
   ],
   "source": [
    "train_data0, valid_data0 = train_test_split(data0, test_size=0.25, random_state=12345)\n",
    "\n",
    "print('Размеры таблиц:',\n",
    "      '\\ntrain_data =', train_data0.shape,\n",
    "      '\\nvalid_data =', valid_data0.shape\n",
    "     )"
   ]
  },
  {
   "cell_type": "code",
   "execution_count": 9,
   "metadata": {},
   "outputs": [
    {
     "name": "stdout",
     "output_type": "stream",
     "text": [
      "Размеры таблиц: \n",
      "train_data = (74994, 4) \n",
      "valid_data = (24998, 4)\n",
      "Размеры таблиц: \n",
      "train_data = (74994, 4) \n",
      "valid_data = (24998, 4)\n"
     ]
    }
   ],
   "source": [
    "train_data1, valid_data1 = train_test_split(data1, test_size=0.25, random_state=12345)\n",
    "\n",
    "print('Размеры таблиц:',\n",
    "      '\\ntrain_data =', train_data1.shape,\n",
    "      '\\nvalid_data =', valid_data1.shape\n",
    "     )\n",
    "\n",
    "train_data2, valid_data2 = train_test_split(data2, test_size=0.25, random_state=12345)\n",
    "\n",
    "print('Размеры таблиц:',\n",
    "      '\\ntrain_data =', train_data2.shape,\n",
    "      '\\nvalid_data =', valid_data2.shape\n",
    "     )"
   ]
  },
  {
   "cell_type": "code",
   "execution_count": 11,
   "metadata": {},
   "outputs": [
    {
     "name": "stdout",
     "output_type": "stream",
     "text": [
      "Размеры таблиц: \n",
      "features_train0 = (74985, 3) \n",
      "target_train0 = (74985,) \n",
      "features_valid0 = (24995, 3) \n",
      "target_valid0 = (24995,)\n"
     ]
    }
   ],
   "source": [
    "features_train0 = train_data0.drop(['product'], axis=1)\n",
    "target_train0 = train_data0['product']\n",
    "\n",
    "features_valid0 = valid_data0.drop(['product'], axis=1)\n",
    "target_valid0 = valid_data0['product']\n",
    "\n",
    "print('Размеры таблиц:',\n",
    "      '\\nfeatures_train0 =', features_train0.shape,\n",
    "      '\\ntarget_train0 =', target_train0.shape,\n",
    "      '\\nfeatures_valid0 =', features_valid0.shape,\n",
    "      '\\ntarget_valid0 =', target_valid0.shape\n",
    "     )"
   ]
  },
  {
   "cell_type": "code",
   "execution_count": 12,
   "metadata": {
    "scrolled": true
   },
   "outputs": [
    {
     "name": "stdout",
     "output_type": "stream",
     "text": [
      "Размеры таблиц: \n",
      "features_train1 = (74994, 3) \n",
      "target_train1 = (74994,) \n",
      "features_valid1 = (24998, 3) \n",
      "target_valid1 = (24998,)\n",
      "Размеры таблиц: \n",
      "features_train2 = (74994, 3) \n",
      "target_train2 = (74994,) \n",
      "features_valid2 = (24998, 3) \n",
      "target_valid2 = (24998,)\n"
     ]
    }
   ],
   "source": [
    "features_train1 = train_data1.drop(['product'], axis=1)\n",
    "target_train1 = train_data1['product']\n",
    "\n",
    "features_valid1 = valid_data1.drop(['product'], axis=1)\n",
    "target_valid1 = valid_data1['product']\n",
    "\n",
    "print('Размеры таблиц:',\n",
    "      '\\nfeatures_train1 =', features_train1.shape,\n",
    "      '\\ntarget_train1 =', target_train1.shape,\n",
    "      '\\nfeatures_valid1 =', features_valid1.shape,\n",
    "      '\\ntarget_valid1 =', target_valid1.shape\n",
    "     )\n",
    "\n",
    "features_train2 = train_data2.drop(['product'], axis=1)\n",
    "target_train2 = train_data2['product']\n",
    "\n",
    "features_valid2 = valid_data2.drop(['product'], axis=1)\n",
    "target_valid2 = valid_data2['product']\n",
    "\n",
    "print('Размеры таблиц:',\n",
    "      '\\nfeatures_train2 =', features_train2.shape,\n",
    "      '\\ntarget_train2 =', target_train2.shape,\n",
    "      '\\nfeatures_valid2 =', features_valid2.shape,\n",
    "      '\\ntarget_valid2 =', target_valid2.shape\n",
    "     )"
   ]
  },
  {
   "cell_type": "markdown",
   "metadata": {},
   "source": [
    "### Обучите модель и сделайте предсказания на валидационной выборке"
   ]
  },
  {
   "cell_type": "markdown",
   "metadata": {},
   "source": [
    "Для обучения модели подходит линейная регрессия, т.к. другие модели недостаточно предсказуемые."
   ]
  },
  {
   "cell_type": "code",
   "execution_count": 13,
   "metadata": {
    "scrolled": true
   },
   "outputs": [],
   "source": [
    "model0 = LinearRegression()\n",
    "model0.fit(features_train0, target_train0)\n",
    "\n",
    "model1 = LinearRegression()\n",
    "model1.fit(features_train1, target_train1)\n",
    "\n",
    "model2 = LinearRegression()\n",
    "model2.fit(features_train2, target_train2)\n",
    "\n",
    "pred_product0 = model0.predict(features_valid0)\n",
    "pred_product1 = model1.predict(features_valid1)\n",
    "pred_product2 = model2.predict(features_valid2)"
   ]
  },
  {
   "cell_type": "markdown",
   "metadata": {},
   "source": [
    "### Сохраните предсказания и правильные ответы на валидационной выборке"
   ]
  },
  {
   "cell_type": "code",
   "execution_count": 14,
   "metadata": {
    "scrolled": true
   },
   "outputs": [
    {
     "data": {
      "text/plain": [
       "'Предсказания на валидационной выборке:'"
      ]
     },
     "metadata": {},
     "output_type": "display_data"
    },
    {
     "data": {
      "text/plain": [
       "0         62.286613\n",
       "1         70.428178\n",
       "2         87.349562\n",
       "3         26.782932\n",
       "4         34.554999\n",
       "            ...    \n",
       "24990     76.559803\n",
       "24991    122.739744\n",
       "24992     95.057433\n",
       "24993     78.944546\n",
       "24994    115.482999\n",
       "Length: 24995, dtype: float64"
      ]
     },
     "metadata": {},
     "output_type": "display_data"
    }
   ],
   "source": [
    "display('Предсказания на валидационной выборке:', pd.Series(pred_product0))"
   ]
  },
  {
   "cell_type": "code",
   "execution_count": 15,
   "metadata": {},
   "outputs": [
    {
     "data": {
      "text/plain": [
       "'Предсказания на валидационной выборке:'"
      ]
     },
     "metadata": {},
     "output_type": "display_data"
    },
    {
     "data": {
      "text/plain": [
       "0         55.971735\n",
       "1         54.633633\n",
       "2         54.674833\n",
       "3        133.810938\n",
       "4         85.478312\n",
       "            ...    \n",
       "24993      1.194595\n",
       "24994    109.729474\n",
       "24995    110.002046\n",
       "24996    137.901663\n",
       "24997      0.511335\n",
       "Length: 24998, dtype: float64"
      ]
     },
     "metadata": {},
     "output_type": "display_data"
    },
    {
     "data": {
      "text/plain": [
       "'Предсказания на валидационной выборке:'"
      ]
     },
     "metadata": {},
     "output_type": "display_data"
    },
    {
     "data": {
      "text/plain": [
       "0         42.989028\n",
       "1         95.462292\n",
       "2        109.408090\n",
       "3        144.760222\n",
       "4        103.116807\n",
       "            ...    \n",
       "24993    128.238720\n",
       "24994     70.665701\n",
       "24995     85.507578\n",
       "24996    111.319557\n",
       "24997     75.944310\n",
       "Length: 24998, dtype: float64"
      ]
     },
     "metadata": {},
     "output_type": "display_data"
    }
   ],
   "source": [
    "display('Предсказания на валидационной выборке:', pd.Series(pred_product1))\n",
    "display('Предсказания на валидационной выборке:', pd.Series(pred_product2))"
   ]
  },
  {
   "cell_type": "markdown",
   "metadata": {},
   "source": [
    "### Напечатайте на экране средний запас предсказанного сырья и RMSE модели."
   ]
  },
  {
   "cell_type": "code",
   "execution_count": 16,
   "metadata": {
    "scrolled": true
   },
   "outputs": [
    {
     "name": "stdout",
     "output_type": "stream",
     "text": [
      "Средний запас предсказанного сырья для первого региона = 92.42384109947359\n",
      "RMSE модели для первого региона = 37.716904960382735\n"
     ]
    }
   ],
   "source": [
    "pm_pred0 = pred_product0.mean()\n",
    "\n",
    "print('Средний запас предсказанного сырья для первого региона =', pm_pred0)\n",
    "\n",
    "mse0 = mean_squared_error(target_valid0, pred_product0)\n",
    "\n",
    "print('RMSE модели для первого региона =', mse0 ** 0.5)"
   ]
  },
  {
   "cell_type": "code",
   "execution_count": 17,
   "metadata": {
    "scrolled": true
   },
   "outputs": [
    {
     "name": "stdout",
     "output_type": "stream",
     "text": [
      "Средний запас предсказанного сырья для второго региона = 68.98311857983123\n",
      "RMSE модели для второго региона = 0.8914901390348537\n",
      "\n",
      "Средний запас предсказанного сырья для третьего региона = 95.11622302076478\n",
      "RMSE модели для третьего региона = 39.975543264382345\n"
     ]
    }
   ],
   "source": [
    "pm_pred1 = pred_product1.mean()\n",
    "\n",
    "print('Средний запас предсказанного сырья для второго региона =', pm_pred1)\n",
    "\n",
    "mse1 = mean_squared_error(target_valid1, pred_product1)\n",
    "\n",
    "print('RMSE модели для второго региона =', mse1 ** 0.5)\n",
    "\n",
    "pm_pred2 = pred_product2.mean()\n",
    "\n",
    "print('\\nСредний запас предсказанного сырья для третьего региона =', pm_pred2)\n",
    "\n",
    "mse2 = mean_squared_error(target_valid2, pred_product2)\n",
    "\n",
    "print('RMSE модели для третьего региона =', mse2 ** 0.5)"
   ]
  },
  {
   "cell_type": "markdown",
   "metadata": {},
   "source": [
    "### Проанализируйте результаты."
   ]
  },
  {
   "cell_type": "markdown",
   "metadata": {},
   "source": [
    "Вывод: Квадратный корень из средней квадратичной ошибки\n",
    "<br>RMSE модели для первого региона = 37.716904960382735\n",
    "<br>RMSE модели для второго региона = 0.8914901390348537\n",
    "<br>RMSE модели для третьего региона = 39.975543264382345\n",
    "<br>на эти значения отличается правильный ответ от предсказания. Модель с наименьшим RMSE лучшая, далее будем использовать model0."
   ]
  },
  {
   "cell_type": "code",
   "execution_count": 18,
   "metadata": {},
   "outputs": [],
   "source": [
    "pred_product1 = model1.predict(features_valid1)\n",
    "pred_product2 = model2.predict(features_valid2)"
   ]
  },
  {
   "cell_type": "markdown",
   "metadata": {},
   "source": [
    "## Подготовка к расчёту прибыли"
   ]
  },
  {
   "cell_type": "markdown",
   "metadata": {},
   "source": [
    "### Все ключевые значения для расчётов сохраните в отдельных переменных"
   ]
  },
  {
   "cell_type": "markdown",
   "metadata": {},
   "source": [
    "Ставку налога на прибыль возьму за 0, так как это не обговорено в задании, предположу, что долговых обязательств нет.\n",
    "<br>Объем запасов указан в тыс. баррелей, доход с каждой единицы продукта составляет 450 тыс. рублей. Для удобства расчетов объем запасов оставлю в единицах, а цену за 1 баррель возьму 450000."
   ]
  },
  {
   "cell_type": "code",
   "execution_count": 19,
   "metadata": {},
   "outputs": [],
   "source": [
    "points200 = 200\n",
    "\n",
    "budg = 10000000000\n",
    "\n",
    "points = 500\n",
    "\n",
    "price = 450000"
   ]
  },
  {
   "cell_type": "markdown",
   "metadata": {},
   "source": [
    "### Рассчитайте достаточный объём сырья для безубыточной разработки новой скважины. Сравните полученный объём сырья со средним запасом в каждом регионе"
   ]
  },
  {
   "cell_type": "markdown",
   "metadata": {},
   "source": [
    "Для безубыточной работы доход с одной скважины должен составлять не меньше 10 млрд / 200 скважин = 5 млрд, объем запасов тогда должен быть не меньше (10 млрд / 200 скважин) / 450 тыс = 111,11."
   ]
  },
  {
   "cell_type": "code",
   "execution_count": 20,
   "metadata": {
    "scrolled": false
   },
   "outputs": [
    {
     "name": "stdout",
     "output_type": "stream",
     "text": [
      "Необходимый средний объем запасов в регионе для безубыточной деятельности = 111.11111111111111\n",
      "Средний объем запасов в регионе 0 = 92.49916597893444 \n",
      "Средний объем запасов в регионе 1 = 68.82414772665173 \n",
      "Средний объем запасов в регионе 2 = 94.99876686768079\n"
     ]
    }
   ],
   "source": [
    "product_profit = (budg / points200) / price\n",
    "print('Необходимый средний объем запасов в регионе для безубыточной деятельности =', product_profit)\n",
    "\n",
    "pm0 = data0['product'].mean()\n",
    "pm1 = data1['product'].mean()\n",
    "pm2 = data2['product'].mean()\n",
    "\n",
    "print('Средний объем запасов в регионе 0 =', pm0,\n",
    "      '\\nСредний объем запасов в регионе 1 =', pm1,\n",
    "      '\\nСредний объем запасов в регионе 2 =', pm2\n",
    "     )"
   ]
  },
  {
   "cell_type": "markdown",
   "metadata": {},
   "source": [
    "### Напишите выводы по этапу подготовки расчёта прибыли"
   ]
  },
  {
   "cell_type": "markdown",
   "metadata": {},
   "source": [
    "Для расчета прибыли и рисков буду ориентироваться на значение объемов запасов безубыточной деятельности >= 111.11111111111111"
   ]
  },
  {
   "cell_type": "markdown",
   "metadata": {},
   "source": [
    "## Расчёт прибыли и рисков "
   ]
  },
  {
   "cell_type": "markdown",
   "metadata": {},
   "source": [
    "\n",
    "### Напишите функцию для расчёта прибыли по выбранным скважинам и предсказаниям модели:"
   ]
  },
  {
   "cell_type": "code",
   "execution_count": 25,
   "metadata": {},
   "outputs": [],
   "source": [
    "def profit(pred, real, pc200, p, b):\n",
    "\n",
    "    pred = pd.Series(pred)\n",
    "    real = pd.Series(real)\n",
    "    \n",
    "    pred.index = real.index\n",
    "    \n",
    "    pred_sorted = pred.sort_values(ascending=False)\n",
    "\n",
    "    real_sorted = real.sort_values(ascending=False)\n",
    "\n",
    "    selected = real_sorted.loc[pred_sorted.index][:pc200]\n",
    "    \n",
    "    return selected.sum() * p - b"
   ]
  },
  {
   "cell_type": "markdown",
   "metadata": {},
   "source": [
    "### Выберите скважины с максимальными значениями предсказаний"
   ]
  },
  {
   "cell_type": "code",
   "execution_count": 28,
   "metadata": {},
   "outputs": [
    {
     "name": "stdout",
     "output_type": "stream",
     "text": [
      "RMSE модели для первого региона = 37.716904960382735\n",
      "RMSE модели для второго региона = 0.8914901390348537\n",
      "RMSE модели для третьего региона = 39.975543264382345\n"
     ]
    }
   ],
   "source": [
    "mse00 = mean_squared_error(target_valid0, pred_product0)\n",
    "print('RMSE модели для первого региона =', mse00 ** 0.5)\n",
    "\n",
    "mse11 = mean_squared_error(target_valid1, pred_product1)\n",
    "print('RMSE модели для второго региона =', mse11 ** 0.5)\n",
    "\n",
    "mse22 = mean_squared_error(target_valid2, pred_product2)\n",
    "print('RMSE модели для третьего региона =', mse22 ** 0.5)"
   ]
  },
  {
   "cell_type": "code",
   "execution_count": 29,
   "metadata": {
    "scrolled": true
   },
   "outputs": [
    {
     "data": {
      "text/plain": [
       "'Скважины с максимальными значениями предсказаний в регионе 0:'"
      ]
     },
     "metadata": {},
     "output_type": "display_data"
    },
    {
     "data": {
      "text/html": [
       "<div>\n",
       "<style scoped>\n",
       "    .dataframe tbody tr th:only-of-type {\n",
       "        vertical-align: middle;\n",
       "    }\n",
       "\n",
       "    .dataframe tbody tr th {\n",
       "        vertical-align: top;\n",
       "    }\n",
       "\n",
       "    .dataframe thead th {\n",
       "        text-align: right;\n",
       "    }\n",
       "</style>\n",
       "<table border=\"1\" class=\"dataframe\">\n",
       "  <thead>\n",
       "    <tr style=\"text-align: right;\">\n",
       "      <th></th>\n",
       "      <th>pred_product</th>\n",
       "    </tr>\n",
       "    <tr>\n",
       "      <th>id</th>\n",
       "      <th></th>\n",
       "    </tr>\n",
       "  </thead>\n",
       "  <tbody>\n",
       "    <tr>\n",
       "      <th>5lB0f</th>\n",
       "      <td>173.769148</td>\n",
       "    </tr>\n",
       "    <tr>\n",
       "      <th>NpVmK</th>\n",
       "      <td>172.612158</td>\n",
       "    </tr>\n",
       "    <tr>\n",
       "      <th>Ci5hu</th>\n",
       "      <td>172.558475</td>\n",
       "    </tr>\n",
       "    <tr>\n",
       "      <th>wCxwS</th>\n",
       "      <td>170.986975</td>\n",
       "    </tr>\n",
       "    <tr>\n",
       "      <th>JU9Cf</th>\n",
       "      <td>169.739879</td>\n",
       "    </tr>\n",
       "    <tr>\n",
       "      <th>...</th>\n",
       "      <td>...</td>\n",
       "    </tr>\n",
       "    <tr>\n",
       "      <th>Np4xV</th>\n",
       "      <td>147.666815</td>\n",
       "    </tr>\n",
       "    <tr>\n",
       "      <th>0rRkD</th>\n",
       "      <td>147.665931</td>\n",
       "    </tr>\n",
       "    <tr>\n",
       "      <th>9fz3b</th>\n",
       "      <td>147.655987</td>\n",
       "    </tr>\n",
       "    <tr>\n",
       "      <th>i3NX5</th>\n",
       "      <td>147.648395</td>\n",
       "    </tr>\n",
       "    <tr>\n",
       "      <th>wCvtO</th>\n",
       "      <td>147.630958</td>\n",
       "    </tr>\n",
       "  </tbody>\n",
       "</table>\n",
       "<p>200 rows × 1 columns</p>\n",
       "</div>"
      ],
      "text/plain": [
       "       pred_product\n",
       "id                 \n",
       "5lB0f    173.769148\n",
       "NpVmK    172.612158\n",
       "Ci5hu    172.558475\n",
       "wCxwS    170.986975\n",
       "JU9Cf    169.739879\n",
       "...             ...\n",
       "Np4xV    147.666815\n",
       "0rRkD    147.665931\n",
       "9fz3b    147.655987\n",
       "i3NX5    147.648395\n",
       "wCvtO    147.630958\n",
       "\n",
       "[200 rows x 1 columns]"
      ]
     },
     "metadata": {},
     "output_type": "display_data"
    },
    {
     "data": {
      "text/plain": [
       "'Скважины с максимальными значениями предсказаний в регионе 1:'"
      ]
     },
     "metadata": {},
     "output_type": "display_data"
    },
    {
     "data": {
      "text/html": [
       "<div>\n",
       "<style scoped>\n",
       "    .dataframe tbody tr th:only-of-type {\n",
       "        vertical-align: middle;\n",
       "    }\n",
       "\n",
       "    .dataframe tbody tr th {\n",
       "        vertical-align: top;\n",
       "    }\n",
       "\n",
       "    .dataframe thead th {\n",
       "        text-align: right;\n",
       "    }\n",
       "</style>\n",
       "<table border=\"1\" class=\"dataframe\">\n",
       "  <thead>\n",
       "    <tr style=\"text-align: right;\">\n",
       "      <th></th>\n",
       "      <th>pred_product</th>\n",
       "    </tr>\n",
       "    <tr>\n",
       "      <th>id</th>\n",
       "      <th></th>\n",
       "    </tr>\n",
       "  </thead>\n",
       "  <tbody>\n",
       "    <tr>\n",
       "      <th>v7ppj</th>\n",
       "      <td>140.353099</td>\n",
       "    </tr>\n",
       "    <tr>\n",
       "      <th>58t1Q</th>\n",
       "      <td>139.976751</td>\n",
       "    </tr>\n",
       "    <tr>\n",
       "      <th>ECSVF</th>\n",
       "      <td>139.844652</td>\n",
       "    </tr>\n",
       "    <tr>\n",
       "      <th>eofq1</th>\n",
       "      <td>139.758002</td>\n",
       "    </tr>\n",
       "    <tr>\n",
       "      <th>1Jjlh</th>\n",
       "      <td>139.663321</td>\n",
       "    </tr>\n",
       "    <tr>\n",
       "      <th>...</th>\n",
       "      <td>...</td>\n",
       "    </tr>\n",
       "    <tr>\n",
       "      <th>qEsKj</th>\n",
       "      <td>138.401607</td>\n",
       "    </tr>\n",
       "    <tr>\n",
       "      <th>nO6DK</th>\n",
       "      <td>138.401299</td>\n",
       "    </tr>\n",
       "    <tr>\n",
       "      <th>EBClQ</th>\n",
       "      <td>138.400850</td>\n",
       "    </tr>\n",
       "    <tr>\n",
       "      <th>nnnBH</th>\n",
       "      <td>138.395073</td>\n",
       "    </tr>\n",
       "    <tr>\n",
       "      <th>vfcNs</th>\n",
       "      <td>138.391925</td>\n",
       "    </tr>\n",
       "  </tbody>\n",
       "</table>\n",
       "<p>200 rows × 1 columns</p>\n",
       "</div>"
      ],
      "text/plain": [
       "       pred_product\n",
       "id                 \n",
       "v7ppj    140.353099\n",
       "58t1Q    139.976751\n",
       "ECSVF    139.844652\n",
       "eofq1    139.758002\n",
       "1Jjlh    139.663321\n",
       "...             ...\n",
       "qEsKj    138.401607\n",
       "nO6DK    138.401299\n",
       "EBClQ    138.400850\n",
       "nnnBH    138.395073\n",
       "vfcNs    138.391925\n",
       "\n",
       "[200 rows x 1 columns]"
      ]
     },
     "metadata": {},
     "output_type": "display_data"
    },
    {
     "data": {
      "text/plain": [
       "'Скважины с максимальными значениями предсказаний в регионе 2:'"
      ]
     },
     "metadata": {},
     "output_type": "display_data"
    },
    {
     "data": {
      "text/html": [
       "<div>\n",
       "<style scoped>\n",
       "    .dataframe tbody tr th:only-of-type {\n",
       "        vertical-align: middle;\n",
       "    }\n",
       "\n",
       "    .dataframe tbody tr th {\n",
       "        vertical-align: top;\n",
       "    }\n",
       "\n",
       "    .dataframe thead th {\n",
       "        text-align: right;\n",
       "    }\n",
       "</style>\n",
       "<table border=\"1\" class=\"dataframe\">\n",
       "  <thead>\n",
       "    <tr style=\"text-align: right;\">\n",
       "      <th></th>\n",
       "      <th>pred_product</th>\n",
       "    </tr>\n",
       "    <tr>\n",
       "      <th>id</th>\n",
       "      <th></th>\n",
       "    </tr>\n",
       "  </thead>\n",
       "  <tbody>\n",
       "    <tr>\n",
       "      <th>PqOj4</th>\n",
       "      <td>174.374933</td>\n",
       "    </tr>\n",
       "    <tr>\n",
       "      <th>WXorA</th>\n",
       "      <td>170.939857</td>\n",
       "    </tr>\n",
       "    <tr>\n",
       "      <th>Wthdm</th>\n",
       "      <td>166.709877</td>\n",
       "    </tr>\n",
       "    <tr>\n",
       "      <th>crng6</th>\n",
       "      <td>166.569756</td>\n",
       "    </tr>\n",
       "    <tr>\n",
       "      <th>cLSl3</th>\n",
       "      <td>166.036689</td>\n",
       "    </tr>\n",
       "    <tr>\n",
       "      <th>...</th>\n",
       "      <td>...</td>\n",
       "    </tr>\n",
       "    <tr>\n",
       "      <th>QWHu7</th>\n",
       "      <td>143.753122</td>\n",
       "    </tr>\n",
       "    <tr>\n",
       "      <th>CcTKY</th>\n",
       "      <td>143.718548</td>\n",
       "    </tr>\n",
       "    <tr>\n",
       "      <th>Tsf0T</th>\n",
       "      <td>143.704474</td>\n",
       "    </tr>\n",
       "    <tr>\n",
       "      <th>58p9x</th>\n",
       "      <td>143.673320</td>\n",
       "    </tr>\n",
       "    <tr>\n",
       "      <th>gxTFm</th>\n",
       "      <td>143.645550</td>\n",
       "    </tr>\n",
       "  </tbody>\n",
       "</table>\n",
       "<p>200 rows × 1 columns</p>\n",
       "</div>"
      ],
      "text/plain": [
       "       pred_product\n",
       "id                 \n",
       "PqOj4    174.374933\n",
       "WXorA    170.939857\n",
       "Wthdm    166.709877\n",
       "crng6    166.569756\n",
       "cLSl3    166.036689\n",
       "...             ...\n",
       "QWHu7    143.753122\n",
       "CcTKY    143.718548\n",
       "Tsf0T    143.704474\n",
       "58p9x    143.673320\n",
       "gxTFm    143.645550\n",
       "\n",
       "[200 rows x 1 columns]"
      ]
     },
     "metadata": {},
     "output_type": "display_data"
    }
   ],
   "source": [
    "pred0 = pd.DataFrame(pred_product0).reset_index()\n",
    "data0_id = pd.DataFrame(data0_id).reset_index()\n",
    "max0 = pd.merge(pred0, data0_id, on='index')\n",
    "max0 = max0.rename(columns = {0: 'pred_product'}) \n",
    "max0_id = max0.pivot_table(index='id', values='pred_product', aggfunc='max').sort_values('pred_product', ascending=False)[:points200]\n",
    "\n",
    "pred1 = pd.DataFrame(pred_product1).reset_index()\n",
    "data1_id = pd.DataFrame(data1_id).reset_index()\n",
    "max1 = pd.merge(pred1, data1_id, on='index')\n",
    "max1 = max1.rename(columns = {0: 'pred_product'}) \n",
    "max1_id = max1.pivot_table(index='id', values='pred_product', aggfunc='max').sort_values('pred_product', ascending=False)[:points200]\n",
    "\n",
    "\n",
    "pred2 = pd.DataFrame(pred_product2).reset_index()\n",
    "data2_id = pd.DataFrame(data2_id).reset_index()\n",
    "max2 = pd.merge(pred2, data2_id, on='index')\n",
    "max2 = max2.rename(columns = {0: 'pred_product'}) \n",
    "max2_id = max2.pivot_table(index='id', values='pred_product', aggfunc='max').sort_values('pred_product', ascending=False)[:points200]\n",
    "\n",
    "display('Скважины с максимальными значениями предсказаний в регионе 0:', max0_id)\n",
    "display('Скважины с максимальными значениями предсказаний в регионе 1:', max1_id)\n",
    "display('Скважины с максимальными значениями предсказаний в регионе 2:', max2_id)"
   ]
  },
  {
   "cell_type": "markdown",
   "metadata": {},
   "source": [
    "### Просуммируйте целевое значение объёма сырья, соответствующее этим предсказаниям"
   ]
  },
  {
   "cell_type": "code",
   "execution_count": 30,
   "metadata": {},
   "outputs": [
    {
     "name": "stdout",
     "output_type": "stream",
     "text": [
      "Целевое значение объёма сырья в регионе 0 = 30804.345930358257\n",
      "Целевое значение объёма сырья в регионе 1 = 27744.434181599772\n",
      "Целевое значение объёма сырья в регионе 2 = 29988.979470532056\n"
     ]
    }
   ],
   "source": [
    "print('Целевое значение объёма сырья в регионе 0 =', max0_id['pred_product'].sum())\n",
    "print('Целевое значение объёма сырья в регионе 1 =', max1_id['pred_product'].sum())\n",
    "print('Целевое значение объёма сырья в регионе 2 =', max2_id['pred_product'].sum())"
   ]
  },
  {
   "cell_type": "markdown",
   "metadata": {},
   "source": [
    "### Рассчитайте прибыль для полученного объёма сырья"
   ]
  },
  {
   "cell_type": "code",
   "execution_count": 32,
   "metadata": {
    "scrolled": true
   },
   "outputs": [
    {
     "name": "stdout",
     "output_type": "stream",
     "text": [
      "Прибыль для полученного объёма сырья в регионе 0 = 3861955668.661215\n",
      "Прибыль для полученного объёма сырья в регионе 1 = 2484995381.719898\n",
      "Прибыль для полученного объёма сырья в регионе 2 = 3495040761.7394257\n"
     ]
    }
   ],
   "source": [
    "net_profit0 = max0_id['pred_product'].sum() * price - budg\n",
    "print('Прибыль для полученного объёма сырья в регионе 0 =', net_profit0)\n",
    "\n",
    "net_profit1 = max1_id['pred_product'].sum() * price - budg\n",
    "print('Прибыль для полученного объёма сырья в регионе 1 =', net_profit1)\n",
    "\n",
    "net_profit2 = max2_id['pred_product'].sum() * price - budg\n",
    "print('Прибыль для полученного объёма сырья в регионе 2 =', net_profit2)"
   ]
  },
  {
   "cell_type": "markdown",
   "metadata": {},
   "source": [
    "## Посчитайте риски и прибыль для каждого региона"
   ]
  },
  {
   "cell_type": "markdown",
   "metadata": {},
   "source": [
    "### Примените технику Bootstrap с 1000 выборок, чтобы найти распределение прибыли"
   ]
  },
  {
   "cell_type": "code",
   "execution_count": 36,
   "metadata": {},
   "outputs": [],
   "source": [
    "pred_product0 = pd.Series(pred_product0)\n",
    "pred_product0.index = target_valid0.index\n",
    "\n",
    "pred_product1 = pd.Series(pred_product1)\n",
    "pred_product1.index = target_valid1.index\n",
    "\n",
    "pred_product2 = pd.Series(pred_product2)\n",
    "pred_product2.index = target_valid2.index"
   ]
  },
  {
   "cell_type": "code",
   "execution_count": 37,
   "metadata": {},
   "outputs": [],
   "source": [
    "state = np.random.RandomState(12345)\n",
    "\n",
    "value0 = []\n",
    "value1 = []\n",
    "value2 = []\n",
    "\n",
    "for i in range(1000):\n",
    "    \n",
    "    pred_subsample0 = pred_product0.sample(n=points, replace=True, random_state=state) #frac=points, \n",
    "    target_subsample0 = target_valid0.loc[pred_subsample0.index]\n",
    "    value0.append(profit(pred_subsample0, target_subsample0, points200, price, budg))\n",
    "\n",
    "    pred_subsample1 = pred_product1.sample(n=points, replace=True, random_state=state) #frac=points, \n",
    "    target_subsample1 = target_valid1.loc[pred_subsample1.index]\n",
    "    value1.append(profit(pred_subsample1, target_subsample1, points200, price, budg))\n",
    "\n",
    "    pred_subsample2 = pred_product2.sample(n=points, replace=True, random_state=state) #frac=points, \n",
    "    target_subsample2 = target_valid2.loc[pred_subsample2.index]\n",
    "    value2.append(profit(pred_subsample2, target_subsample2, points200, price, budg))    "
   ]
  },
  {
   "cell_type": "markdown",
   "metadata": {},
   "source": [
    "### Найдите среднюю прибыль, 95%-й доверительный интервал и риск убытков. Убыток — это отрицательная прибыль"
   ]
  },
  {
   "cell_type": "code",
   "execution_count": 43,
   "metadata": {},
   "outputs": [],
   "source": [
    "value0 = pd.Series(value0)\n",
    "value1 = pd.Series(value1)\n",
    "value2 = pd.Series(value2)"
   ]
  },
  {
   "cell_type": "code",
   "execution_count": 45,
   "metadata": {},
   "outputs": [
    {
     "name": "stdout",
     "output_type": "stream",
     "text": [
      "Средняя прибыль для региона 0 = 464473127.68013746\n",
      "Средняя прибыль для региона 1 = 525400905.34057534\n",
      "Средняя прибыль для региона 2 = 338878364.0956245\n"
     ]
    }
   ],
   "source": [
    "profit_mean0 = value0.mean()\n",
    "print('Средняя прибыль для региона 0 =', profit_mean0)\n",
    "\n",
    "profit_mean1 = value1.mean()\n",
    "print('Средняя прибыль для региона 1 =', profit_mean1)\n",
    "\n",
    "profit_mean2 = value2.mean()\n",
    "print('Средняя прибыль для региона 2 =', profit_mean2)"
   ]
  },
  {
   "cell_type": "code",
   "execution_count": 46,
   "metadata": {},
   "outputs": [
    {
     "name": "stdout",
     "output_type": "stream",
     "text": [
      "95%-ый доверительный интервал для региона 0: -52044802.09013366 - 967200461.7868712\n",
      "95%-ый доверительный интервал для региона 1: 137355241.66832852 - 935450630.7871925\n",
      "95%-ый доверительный интервал для региона 2: -197662818.63274705 - 891519006.8475438\n"
     ]
    }
   ],
   "source": [
    "lower0 = value0.quantile(0.025)\n",
    "higher0 = value0.quantile(0.975)\n",
    "print('95%-ый доверительный интервал для региона 0:', lower0, '-', higher0)\n",
    "\n",
    "lower1 = value1.quantile(0.025)\n",
    "higher1 = value1.quantile(0.975)\n",
    "print('95%-ый доверительный интервал для региона 1:', lower1, '-', higher1)\n",
    "\n",
    "lower2 = value2.quantile(0.025)\n",
    "higher2 = value2.quantile(0.975)\n",
    "print('95%-ый доверительный интервал для региона 2:', lower2, '-', higher2)"
   ]
  },
  {
   "cell_type": "code",
   "execution_count": 48,
   "metadata": {},
   "outputs": [
    {
     "name": "stdout",
     "output_type": "stream",
     "text": [
      "Риск убытков для региона 0 = 4.10%\n",
      "Риск убытков для региона 1 = 0.80%\n",
      "Риск убытков для региона 2 = 11.90%\n"
     ]
    }
   ],
   "source": [
    "print('Риск убытков для региона 0 = {:.2%}'.format(\n",
    "                                     value0[value0 < 0].count() / len(value0)\n",
    "                                                   )\n",
    "      )\n",
    "print('Риск убытков для региона 1 = {:.2%}'.format(\n",
    "                                    value1[value1 < 0].count() / len(value1)\n",
    "                                                  )\n",
    "     )\n",
    "print('Риск убытков для региона 2 = {:.2%}'.format(\n",
    "                                    value2[value2 < 0].count() / len(value2)\n",
    "                                                  )\n",
    "     )"
   ]
  },
  {
   "cell_type": "markdown",
   "metadata": {},
   "source": [
    "### Напишите выводы: предложите регион для разработки скважин и обоснуйте выбор"
   ]
  },
  {
   "cell_type": "markdown",
   "metadata": {},
   "source": [
    "Вероятность убытков меньше 2.5% в регионе 1, средняя прибыль для региона 1 составялет 525400905.34057534, что выше средней прибыли в регионах 0 и 2. Т.е. после проведенного анализа и расчетов делаю вывод что регион 1 принесет наибольшую прибыль."
   ]
  }
 ],
 "metadata": {
  "ExecuteTimeLog": [
   {
    "duration": 1494,
    "start_time": "2022-06-04T03:36:01.177Z"
   },
   {
    "duration": 1154,
    "start_time": "2022-06-04T03:51:22.522Z"
   },
   {
    "duration": 707,
    "start_time": "2022-06-04T04:00:22.798Z"
   },
   {
    "duration": 810,
    "start_time": "2022-06-04T12:23:14.750Z"
   },
   {
    "duration": 120,
    "start_time": "2022-06-04T12:25:45.578Z"
   },
   {
    "duration": 769,
    "start_time": "2022-06-04T12:26:05.194Z"
   },
   {
    "duration": 648,
    "start_time": "2022-06-04T12:26:12.625Z"
   },
   {
    "duration": 47,
    "start_time": "2022-06-04T12:26:15.937Z"
   },
   {
    "duration": 39,
    "start_time": "2022-06-04T12:26:40.686Z"
   },
   {
    "duration": 18,
    "start_time": "2022-06-04T12:27:52.886Z"
   },
   {
    "duration": 30,
    "start_time": "2022-06-04T12:34:58.913Z"
   },
   {
    "duration": 25,
    "start_time": "2022-06-04T12:35:05.079Z"
   },
   {
    "duration": 13,
    "start_time": "2022-06-05T06:23:25.547Z"
   },
   {
    "duration": 9,
    "start_time": "2022-06-05T06:23:41.022Z"
   },
   {
    "duration": 25,
    "start_time": "2022-06-05T06:23:48.775Z"
   },
   {
    "duration": 12,
    "start_time": "2022-06-05T06:23:52.727Z"
   },
   {
    "duration": 15,
    "start_time": "2022-06-05T06:24:11.557Z"
   },
   {
    "duration": 10,
    "start_time": "2022-06-05T06:24:19.779Z"
   },
   {
    "duration": 9,
    "start_time": "2022-06-05T06:28:04.452Z"
   },
   {
    "duration": 13,
    "start_time": "2022-06-05T06:28:36.486Z"
   },
   {
    "duration": 41,
    "start_time": "2022-06-05T06:28:48.522Z"
   },
   {
    "duration": 757,
    "start_time": "2022-06-05T06:29:22.776Z"
   },
   {
    "duration": 10,
    "start_time": "2022-06-05T06:33:40.147Z"
   },
   {
    "duration": 22,
    "start_time": "2022-06-05T06:33:59.841Z"
   },
   {
    "duration": 61,
    "start_time": "2022-06-05T06:34:28.877Z"
   },
   {
    "duration": 2181,
    "start_time": "2022-06-05T06:34:33.507Z"
   },
   {
    "duration": 72,
    "start_time": "2022-06-05T06:35:49.427Z"
   },
   {
    "duration": 2204,
    "start_time": "2022-06-05T06:35:53.211Z"
   },
   {
    "duration": 19,
    "start_time": "2022-06-05T06:35:59.711Z"
   },
   {
    "duration": 16,
    "start_time": "2022-06-05T06:36:10.287Z"
   },
   {
    "duration": 680,
    "start_time": "2022-06-05T06:37:57.817Z"
   },
   {
    "duration": 17,
    "start_time": "2022-06-05T06:38:11.236Z"
   },
   {
    "duration": 12,
    "start_time": "2022-06-05T06:38:33.142Z"
   },
   {
    "duration": 2383,
    "start_time": "2022-06-05T06:39:24.339Z"
   },
   {
    "duration": 50,
    "start_time": "2022-06-05T06:39:26.725Z"
   },
   {
    "duration": 163,
    "start_time": "2022-06-05T06:39:26.776Z"
   },
   {
    "duration": 0,
    "start_time": "2022-06-05T06:39:26.941Z"
   },
   {
    "duration": 0,
    "start_time": "2022-06-05T06:39:26.943Z"
   },
   {
    "duration": 0,
    "start_time": "2022-06-05T06:39:26.944Z"
   },
   {
    "duration": 0,
    "start_time": "2022-06-05T06:39:26.946Z"
   },
   {
    "duration": 1879,
    "start_time": "2022-06-05T06:39:43.389Z"
   },
   {
    "duration": 24,
    "start_time": "2022-06-05T06:39:45.271Z"
   },
   {
    "duration": 18,
    "start_time": "2022-06-05T06:39:45.297Z"
   },
   {
    "duration": 57,
    "start_time": "2022-06-05T06:41:33.581Z"
   },
   {
    "duration": 2182,
    "start_time": "2022-06-05T06:41:37.201Z"
   },
   {
    "duration": 20,
    "start_time": "2022-06-05T06:41:42.573Z"
   },
   {
    "duration": 119,
    "start_time": "2022-06-05T06:41:44.417Z"
   },
   {
    "duration": 18,
    "start_time": "2022-06-05T06:42:02.433Z"
   },
   {
    "duration": 21,
    "start_time": "2022-06-05T06:43:14.551Z"
   },
   {
    "duration": 15,
    "start_time": "2022-06-05T06:43:22.706Z"
   },
   {
    "duration": 10,
    "start_time": "2022-06-05T06:43:40.001Z"
   },
   {
    "duration": 19,
    "start_time": "2022-06-05T06:43:50.246Z"
   },
   {
    "duration": 48,
    "start_time": "2022-06-05T06:44:19.641Z"
   },
   {
    "duration": 32,
    "start_time": "2022-06-05T06:44:29.947Z"
   },
   {
    "duration": 10,
    "start_time": "2022-06-05T06:44:39.572Z"
   },
   {
    "duration": 12,
    "start_time": "2022-06-05T06:44:50.286Z"
   },
   {
    "duration": 10,
    "start_time": "2022-06-05T06:44:54.024Z"
   },
   {
    "duration": 26,
    "start_time": "2022-06-05T06:44:57.179Z"
   },
   {
    "duration": 16,
    "start_time": "2022-06-05T06:46:15.137Z"
   },
   {
    "duration": 20,
    "start_time": "2022-06-05T06:46:26.276Z"
   },
   {
    "duration": 727,
    "start_time": "2022-06-05T06:46:42.176Z"
   },
   {
    "duration": 19,
    "start_time": "2022-06-05T06:46:45.522Z"
   },
   {
    "duration": 256,
    "start_time": "2022-06-05T06:46:54.811Z"
   },
   {
    "duration": 21,
    "start_time": "2022-06-05T06:47:39.911Z"
   },
   {
    "duration": 21,
    "start_time": "2022-06-05T07:05:30.411Z"
   },
   {
    "duration": 753,
    "start_time": "2022-06-05T07:05:39.348Z"
   },
   {
    "duration": 17,
    "start_time": "2022-06-05T07:05:45.291Z"
   },
   {
    "duration": 25,
    "start_time": "2022-06-05T07:06:01.856Z"
   },
   {
    "duration": 5,
    "start_time": "2022-06-05T07:06:26.751Z"
   },
   {
    "duration": 17,
    "start_time": "2022-06-05T07:06:39.027Z"
   },
   {
    "duration": 29,
    "start_time": "2022-06-05T07:06:48.356Z"
   },
   {
    "duration": 422,
    "start_time": "2022-06-05T07:07:54.182Z"
   },
   {
    "duration": 9,
    "start_time": "2022-06-05T07:09:26.331Z"
   },
   {
    "duration": 26,
    "start_time": "2022-06-05T07:09:31.116Z"
   },
   {
    "duration": 22,
    "start_time": "2022-06-05T07:09:42.986Z"
   },
   {
    "duration": 23,
    "start_time": "2022-06-05T07:09:55.353Z"
   },
   {
    "duration": 26,
    "start_time": "2022-06-05T07:10:30.178Z"
   },
   {
    "duration": 16,
    "start_time": "2022-06-05T07:10:35.476Z"
   },
   {
    "duration": 11,
    "start_time": "2022-06-05T07:11:03.813Z"
   },
   {
    "duration": 15,
    "start_time": "2022-06-05T07:11:13.328Z"
   },
   {
    "duration": 38,
    "start_time": "2022-06-05T07:11:43.831Z"
   },
   {
    "duration": 61,
    "start_time": "2022-06-05T07:12:03.733Z"
   },
   {
    "duration": 85,
    "start_time": "2022-06-05T07:12:48.408Z"
   },
   {
    "duration": 301,
    "start_time": "2022-06-05T07:14:34.395Z"
   },
   {
    "duration": 896,
    "start_time": "2022-06-05T07:14:58.719Z"
   },
   {
    "duration": 278,
    "start_time": "2022-06-05T07:15:20.937Z"
   },
   {
    "duration": 208,
    "start_time": "2022-06-05T07:15:51.398Z"
   },
   {
    "duration": 40,
    "start_time": "2022-06-05T07:17:02.988Z"
   },
   {
    "duration": 10,
    "start_time": "2022-06-05T07:17:06.792Z"
   },
   {
    "duration": 62,
    "start_time": "2022-06-05T07:17:09.299Z"
   },
   {
    "duration": 6,
    "start_time": "2022-06-05T09:04:41.603Z"
   },
   {
    "duration": 14,
    "start_time": "2022-06-05T09:04:50.488Z"
   },
   {
    "duration": 7,
    "start_time": "2022-06-05T09:04:57.899Z"
   },
   {
    "duration": 9,
    "start_time": "2022-06-05T09:05:13.484Z"
   },
   {
    "duration": 12,
    "start_time": "2022-06-05T09:07:07.138Z"
   },
   {
    "duration": 15,
    "start_time": "2022-06-05T11:48:35.223Z"
   },
   {
    "duration": 81,
    "start_time": "2022-06-05T11:52:01.483Z"
   },
   {
    "duration": 56,
    "start_time": "2022-06-05T12:05:22.554Z"
   },
   {
    "duration": 124,
    "start_time": "2022-06-05T12:06:04.296Z"
   },
   {
    "duration": 13,
    "start_time": "2022-06-05T12:06:59.922Z"
   },
   {
    "duration": 1862,
    "start_time": "2022-06-05T12:09:00.456Z"
   },
   {
    "duration": 276,
    "start_time": "2022-06-05T12:09:02.320Z"
   },
   {
    "duration": 0,
    "start_time": "2022-06-05T12:09:02.609Z"
   },
   {
    "duration": 0,
    "start_time": "2022-06-05T12:09:02.610Z"
   },
   {
    "duration": 0,
    "start_time": "2022-06-05T12:09:02.611Z"
   },
   {
    "duration": 0,
    "start_time": "2022-06-05T12:09:02.612Z"
   },
   {
    "duration": 0,
    "start_time": "2022-06-05T12:09:02.613Z"
   },
   {
    "duration": 0,
    "start_time": "2022-06-05T12:09:02.614Z"
   },
   {
    "duration": 0,
    "start_time": "2022-06-05T12:09:02.615Z"
   },
   {
    "duration": 0,
    "start_time": "2022-06-05T12:09:02.616Z"
   },
   {
    "duration": 104,
    "start_time": "2022-06-05T12:09:43.901Z"
   },
   {
    "duration": 13,
    "start_time": "2022-06-05T12:09:48.822Z"
   },
   {
    "duration": 80,
    "start_time": "2022-06-05T12:10:40.512Z"
   },
   {
    "duration": 73,
    "start_time": "2022-06-05T12:10:50.612Z"
   },
   {
    "duration": 67,
    "start_time": "2022-06-05T12:11:07.752Z"
   },
   {
    "duration": 30,
    "start_time": "2022-06-05T12:13:30.702Z"
   },
   {
    "duration": 56,
    "start_time": "2022-06-05T12:13:47.241Z"
   },
   {
    "duration": 62,
    "start_time": "2022-06-05T12:15:11.616Z"
   },
   {
    "duration": 66,
    "start_time": "2022-06-05T12:15:19.039Z"
   },
   {
    "duration": 64,
    "start_time": "2022-06-05T12:15:30.641Z"
   },
   {
    "duration": 50,
    "start_time": "2022-06-05T12:15:49.779Z"
   },
   {
    "duration": 50,
    "start_time": "2022-06-05T12:16:02.183Z"
   },
   {
    "duration": 45,
    "start_time": "2022-06-05T12:16:19.100Z"
   },
   {
    "duration": 37,
    "start_time": "2022-06-05T12:16:29.209Z"
   },
   {
    "duration": 34,
    "start_time": "2022-06-05T12:16:40.185Z"
   },
   {
    "duration": 38,
    "start_time": "2022-06-05T12:16:44.884Z"
   },
   {
    "duration": 59,
    "start_time": "2022-06-05T12:16:53.203Z"
   },
   {
    "duration": 57,
    "start_time": "2022-06-05T12:17:17.075Z"
   },
   {
    "duration": 53,
    "start_time": "2022-06-05T12:17:43.703Z"
   },
   {
    "duration": 45,
    "start_time": "2022-06-05T12:18:02.210Z"
   },
   {
    "duration": 80,
    "start_time": "2022-06-05T12:18:15.400Z"
   },
   {
    "duration": 63,
    "start_time": "2022-06-05T12:18:47.484Z"
   },
   {
    "duration": 55,
    "start_time": "2022-06-05T12:18:59.705Z"
   },
   {
    "duration": 61,
    "start_time": "2022-06-05T12:19:19.990Z"
   },
   {
    "duration": 60,
    "start_time": "2022-06-05T12:20:13.983Z"
   },
   {
    "duration": 36,
    "start_time": "2022-06-05T12:20:30.101Z"
   },
   {
    "duration": 12,
    "start_time": "2022-06-05T12:21:10.939Z"
   },
   {
    "duration": 15,
    "start_time": "2022-06-05T12:22:22.859Z"
   },
   {
    "duration": 25,
    "start_time": "2022-06-05T12:22:32.200Z"
   },
   {
    "duration": 8,
    "start_time": "2022-06-05T12:22:38.533Z"
   },
   {
    "duration": 9,
    "start_time": "2022-06-05T12:25:06.144Z"
   },
   {
    "duration": 13,
    "start_time": "2022-06-05T12:25:13.013Z"
   },
   {
    "duration": 15,
    "start_time": "2022-06-05T12:25:29.737Z"
   },
   {
    "duration": 12,
    "start_time": "2022-06-05T12:25:39.874Z"
   },
   {
    "duration": 15,
    "start_time": "2022-06-06T01:21:33.681Z"
   },
   {
    "duration": 274,
    "start_time": "2022-06-06T01:22:01.019Z"
   },
   {
    "duration": 17,
    "start_time": "2022-06-06T01:22:50.093Z"
   },
   {
    "duration": 17,
    "start_time": "2022-06-06T01:22:58.937Z"
   },
   {
    "duration": 176,
    "start_time": "2022-06-06T01:23:44.345Z"
   },
   {
    "duration": 147,
    "start_time": "2022-06-06T01:24:01.178Z"
   },
   {
    "duration": 11,
    "start_time": "2022-06-06T01:24:31.117Z"
   },
   {
    "duration": 26,
    "start_time": "2022-06-06T01:27:04.780Z"
   },
   {
    "duration": 23,
    "start_time": "2022-06-06T01:27:19.247Z"
   },
   {
    "duration": 229,
    "start_time": "2022-06-06T01:27:25.968Z"
   },
   {
    "duration": 19,
    "start_time": "2022-06-06T01:27:33.080Z"
   },
   {
    "duration": 19,
    "start_time": "2022-06-06T01:27:35.696Z"
   },
   {
    "duration": 7,
    "start_time": "2022-06-06T01:27:58.997Z"
   },
   {
    "duration": 14,
    "start_time": "2022-06-06T01:28:02.373Z"
   },
   {
    "duration": 35,
    "start_time": "2022-06-06T01:28:29.429Z"
   },
   {
    "duration": 3,
    "start_time": "2022-06-06T01:28:52.474Z"
   },
   {
    "duration": 22,
    "start_time": "2022-06-06T01:29:19.312Z"
   },
   {
    "duration": 65,
    "start_time": "2022-06-06T01:31:29.062Z"
   },
   {
    "duration": 99,
    "start_time": "2022-06-06T01:32:24.503Z"
   },
   {
    "duration": 84,
    "start_time": "2022-06-06T01:34:23.329Z"
   },
   {
    "duration": 92,
    "start_time": "2022-06-06T01:34:43.198Z"
   },
   {
    "duration": 88,
    "start_time": "2022-06-06T01:34:56.418Z"
   },
   {
    "duration": 181,
    "start_time": "2022-06-06T01:37:00.518Z"
   },
   {
    "duration": 174,
    "start_time": "2022-06-06T01:39:02.333Z"
   },
   {
    "duration": 60,
    "start_time": "2022-06-06T01:40:46.316Z"
   },
   {
    "duration": 28,
    "start_time": "2022-06-06T01:41:06.316Z"
   },
   {
    "duration": 175,
    "start_time": "2022-06-06T01:48:55.324Z"
   },
   {
    "duration": 188,
    "start_time": "2022-06-06T01:49:30.799Z"
   },
   {
    "duration": 179,
    "start_time": "2022-06-06T01:50:22.915Z"
   },
   {
    "duration": 166,
    "start_time": "2022-06-06T01:50:54.520Z"
   },
   {
    "duration": 118,
    "start_time": "2022-06-06T01:51:45.976Z"
   },
   {
    "duration": 22,
    "start_time": "2022-06-06T01:52:03.532Z"
   },
   {
    "duration": 58,
    "start_time": "2022-06-06T01:52:11.295Z"
   },
   {
    "duration": 468,
    "start_time": "2022-06-06T03:59:23.079Z"
   },
   {
    "duration": 1824,
    "start_time": "2022-06-06T03:59:42.636Z"
   },
   {
    "duration": 199,
    "start_time": "2022-06-06T03:59:44.462Z"
   },
   {
    "duration": 115,
    "start_time": "2022-06-06T03:59:44.666Z"
   },
   {
    "duration": 528,
    "start_time": "2022-06-06T03:59:44.783Z"
   },
   {
    "duration": 2,
    "start_time": "2022-06-06T03:59:45.313Z"
   },
   {
    "duration": 47,
    "start_time": "2022-06-06T03:59:45.317Z"
   },
   {
    "duration": 7,
    "start_time": "2022-06-06T03:59:45.366Z"
   },
   {
    "duration": 92,
    "start_time": "2022-06-06T03:59:45.375Z"
   },
   {
    "duration": 12,
    "start_time": "2022-06-06T04:06:03.851Z"
   },
   {
    "duration": 7,
    "start_time": "2022-06-06T04:06:10.292Z"
   },
   {
    "duration": 10,
    "start_time": "2022-06-06T04:07:09.423Z"
   },
   {
    "duration": 12,
    "start_time": "2022-06-06T04:07:29.449Z"
   },
   {
    "duration": 1635,
    "start_time": "2022-06-06T04:14:39.030Z"
   },
   {
    "duration": 202,
    "start_time": "2022-06-06T04:14:40.667Z"
   },
   {
    "duration": 107,
    "start_time": "2022-06-06T04:14:40.870Z"
   },
   {
    "duration": 563,
    "start_time": "2022-06-06T04:14:40.979Z"
   },
   {
    "duration": 3,
    "start_time": "2022-06-06T04:14:41.544Z"
   },
   {
    "duration": 29,
    "start_time": "2022-06-06T04:14:41.549Z"
   },
   {
    "duration": 8,
    "start_time": "2022-06-06T04:14:41.580Z"
   },
   {
    "duration": 71,
    "start_time": "2022-06-06T04:14:41.589Z"
   },
   {
    "duration": 110,
    "start_time": "2022-06-06T04:14:41.661Z"
   },
   {
    "duration": 1634,
    "start_time": "2022-06-06T04:14:57.594Z"
   },
   {
    "duration": 216,
    "start_time": "2022-06-06T04:14:59.260Z"
   },
   {
    "duration": 103,
    "start_time": "2022-06-06T04:14:59.478Z"
   },
   {
    "duration": 551,
    "start_time": "2022-06-06T04:14:59.583Z"
   },
   {
    "duration": 3,
    "start_time": "2022-06-06T04:15:00.135Z"
   },
   {
    "duration": 34,
    "start_time": "2022-06-06T04:15:00.139Z"
   },
   {
    "duration": 8,
    "start_time": "2022-06-06T04:15:00.175Z"
   },
   {
    "duration": 83,
    "start_time": "2022-06-06T04:15:00.184Z"
   },
   {
    "duration": 111,
    "start_time": "2022-06-06T04:15:00.269Z"
   },
   {
    "duration": 5,
    "start_time": "2022-06-06T04:28:35.143Z"
   },
   {
    "duration": 3,
    "start_time": "2022-06-06T04:28:40.124Z"
   },
   {
    "duration": 111,
    "start_time": "2022-06-06T04:30:14.052Z"
   },
   {
    "duration": 654,
    "start_time": "2022-06-06T04:30:33.068Z"
   },
   {
    "duration": 10,
    "start_time": "2022-06-06T04:30:41.080Z"
   },
   {
    "duration": 20,
    "start_time": "2022-06-06T04:31:04.373Z"
   },
   {
    "duration": 12,
    "start_time": "2022-06-06T04:31:06.160Z"
   },
   {
    "duration": 6,
    "start_time": "2022-06-06T04:31:08.659Z"
   },
   {
    "duration": 6,
    "start_time": "2022-06-06T04:34:20.334Z"
   },
   {
    "duration": 7,
    "start_time": "2022-06-06T04:34:26.596Z"
   },
   {
    "duration": 20,
    "start_time": "2022-06-06T04:44:42.778Z"
   },
   {
    "duration": 8,
    "start_time": "2022-06-06T04:44:57.501Z"
   },
   {
    "duration": 8,
    "start_time": "2022-06-06T04:45:13.461Z"
   },
   {
    "duration": 12,
    "start_time": "2022-06-06T04:45:24.795Z"
   },
   {
    "duration": 15,
    "start_time": "2022-06-06T04:45:32.784Z"
   },
   {
    "duration": 9,
    "start_time": "2022-06-06T04:45:44.669Z"
   },
   {
    "duration": 12,
    "start_time": "2022-06-06T04:45:56.925Z"
   },
   {
    "duration": 5,
    "start_time": "2022-06-06T04:46:10.727Z"
   },
   {
    "duration": 10,
    "start_time": "2022-06-06T04:48:40.810Z"
   },
   {
    "duration": 37,
    "start_time": "2022-06-06T04:49:29.425Z"
   },
   {
    "duration": 8,
    "start_time": "2022-06-06T04:49:33.009Z"
   },
   {
    "duration": 15,
    "start_time": "2022-06-06T04:49:37.299Z"
   },
   {
    "duration": 23,
    "start_time": "2022-06-06T04:49:40.553Z"
   },
   {
    "duration": 11,
    "start_time": "2022-06-06T04:49:43.961Z"
   },
   {
    "duration": 5,
    "start_time": "2022-06-06T04:49:56.379Z"
   },
   {
    "duration": 26,
    "start_time": "2022-06-06T04:50:33.527Z"
   },
   {
    "duration": 12,
    "start_time": "2022-06-06T04:51:18.604Z"
   },
   {
    "duration": 115,
    "start_time": "2022-06-06T04:51:26.446Z"
   },
   {
    "duration": 10,
    "start_time": "2022-06-06T04:51:29.553Z"
   },
   {
    "duration": 12,
    "start_time": "2022-06-06T04:51:31.410Z"
   },
   {
    "duration": 5,
    "start_time": "2022-06-06T04:51:34.295Z"
   },
   {
    "duration": 7,
    "start_time": "2022-06-06T04:51:36.967Z"
   },
   {
    "duration": 6,
    "start_time": "2022-06-06T04:52:19.178Z"
   },
   {
    "duration": 6,
    "start_time": "2022-06-06T04:53:21.749Z"
   },
   {
    "duration": 6,
    "start_time": "2022-06-06T04:53:27.155Z"
   },
   {
    "duration": 16,
    "start_time": "2022-06-06T06:56:36.525Z"
   },
   {
    "duration": 15,
    "start_time": "2022-06-06T07:03:28.833Z"
   },
   {
    "duration": 56,
    "start_time": "2022-06-06T07:03:58.671Z"
   },
   {
    "duration": 352,
    "start_time": "2022-06-06T07:27:37.299Z"
   },
   {
    "duration": 65,
    "start_time": "2022-06-06T07:27:53.505Z"
   },
   {
    "duration": 356,
    "start_time": "2022-06-06T07:28:01.397Z"
   },
   {
    "duration": 315,
    "start_time": "2022-06-06T07:28:52.073Z"
   },
   {
    "duration": 23,
    "start_time": "2022-06-06T07:29:52.190Z"
   },
   {
    "duration": 3,
    "start_time": "2022-06-06T07:31:25.097Z"
   },
   {
    "duration": 26,
    "start_time": "2022-06-06T07:32:28.498Z"
   },
   {
    "duration": 16,
    "start_time": "2022-06-06T07:33:04.659Z"
   },
   {
    "duration": 22,
    "start_time": "2022-06-06T07:33:15.165Z"
   },
   {
    "duration": 20,
    "start_time": "2022-06-06T07:34:05.390Z"
   },
   {
    "duration": 16,
    "start_time": "2022-06-06T07:34:13.181Z"
   },
   {
    "duration": 701,
    "start_time": "2022-06-06T07:34:27.008Z"
   },
   {
    "duration": 148,
    "start_time": "2022-06-06T07:34:30.475Z"
   },
   {
    "duration": 67,
    "start_time": "2022-06-06T07:34:34.998Z"
   },
   {
    "duration": 20,
    "start_time": "2022-06-06T07:34:38.118Z"
   },
   {
    "duration": 18,
    "start_time": "2022-06-06T07:34:41.979Z"
   },
   {
    "duration": 9,
    "start_time": "2022-06-06T07:34:56.461Z"
   },
   {
    "duration": 10,
    "start_time": "2022-06-06T07:36:02.720Z"
   },
   {
    "duration": 10,
    "start_time": "2022-06-06T07:36:16.337Z"
   },
   {
    "duration": 1716,
    "start_time": "2022-06-06T07:36:35.917Z"
   },
   {
    "duration": 204,
    "start_time": "2022-06-06T07:36:37.660Z"
   },
   {
    "duration": 105,
    "start_time": "2022-06-06T07:36:37.866Z"
   },
   {
    "duration": 15,
    "start_time": "2022-06-06T07:36:37.973Z"
   },
   {
    "duration": 98,
    "start_time": "2022-06-06T07:36:37.989Z"
   },
   {
    "duration": 3,
    "start_time": "2022-06-06T07:36:38.088Z"
   },
   {
    "duration": 10,
    "start_time": "2022-06-06T07:36:38.093Z"
   },
   {
    "duration": 64,
    "start_time": "2022-06-06T07:36:38.104Z"
   },
   {
    "duration": 32,
    "start_time": "2022-06-06T07:36:38.170Z"
   },
   {
    "duration": 155,
    "start_time": "2022-06-06T07:36:38.205Z"
   },
   {
    "duration": 0,
    "start_time": "2022-06-06T07:36:38.362Z"
   },
   {
    "duration": 0,
    "start_time": "2022-06-06T07:36:38.364Z"
   },
   {
    "duration": 0,
    "start_time": "2022-06-06T07:36:38.365Z"
   },
   {
    "duration": 0,
    "start_time": "2022-06-06T07:36:38.366Z"
   },
   {
    "duration": 0,
    "start_time": "2022-06-06T07:36:38.367Z"
   },
   {
    "duration": 0,
    "start_time": "2022-06-06T07:36:38.368Z"
   },
   {
    "duration": 0,
    "start_time": "2022-06-06T07:36:38.369Z"
   },
   {
    "duration": 0,
    "start_time": "2022-06-06T07:36:38.370Z"
   },
   {
    "duration": 16,
    "start_time": "2022-06-06T07:38:51.556Z"
   },
   {
    "duration": 11,
    "start_time": "2022-06-06T07:39:00.261Z"
   },
   {
    "duration": 9,
    "start_time": "2022-06-06T07:39:14.223Z"
   },
   {
    "duration": 8,
    "start_time": "2022-06-06T07:39:22.868Z"
   },
   {
    "duration": 9,
    "start_time": "2022-06-06T07:44:37.558Z"
   },
   {
    "duration": 1618,
    "start_time": "2022-06-06T07:45:27.344Z"
   },
   {
    "duration": 155,
    "start_time": "2022-06-06T07:45:28.964Z"
   },
   {
    "duration": 104,
    "start_time": "2022-06-06T07:45:29.121Z"
   },
   {
    "duration": 48,
    "start_time": "2022-06-06T07:45:29.227Z"
   },
   {
    "duration": 91,
    "start_time": "2022-06-06T07:45:29.277Z"
   },
   {
    "duration": 3,
    "start_time": "2022-06-06T07:45:29.370Z"
   },
   {
    "duration": 8,
    "start_time": "2022-06-06T07:45:29.374Z"
   },
   {
    "duration": 21,
    "start_time": "2022-06-06T07:45:29.384Z"
   },
   {
    "duration": 62,
    "start_time": "2022-06-06T07:45:29.407Z"
   },
   {
    "duration": 117,
    "start_time": "2022-06-06T07:45:29.471Z"
   },
   {
    "duration": 0,
    "start_time": "2022-06-06T07:45:29.590Z"
   },
   {
    "duration": 0,
    "start_time": "2022-06-06T07:45:29.591Z"
   },
   {
    "duration": 0,
    "start_time": "2022-06-06T07:45:29.592Z"
   },
   {
    "duration": 0,
    "start_time": "2022-06-06T07:45:29.593Z"
   },
   {
    "duration": 0,
    "start_time": "2022-06-06T07:45:29.594Z"
   },
   {
    "duration": 0,
    "start_time": "2022-06-06T07:45:29.595Z"
   },
   {
    "duration": 0,
    "start_time": "2022-06-06T07:45:29.596Z"
   },
   {
    "duration": 0,
    "start_time": "2022-06-06T07:45:29.597Z"
   },
   {
    "duration": 11,
    "start_time": "2022-06-06T07:46:03.809Z"
   },
   {
    "duration": 29,
    "start_time": "2022-06-06T07:46:07.810Z"
   },
   {
    "duration": 22,
    "start_time": "2022-06-06T07:46:15.871Z"
   },
   {
    "duration": 8,
    "start_time": "2022-06-06T07:46:24.813Z"
   },
   {
    "duration": 13,
    "start_time": "2022-06-06T07:46:27.516Z"
   },
   {
    "duration": 22,
    "start_time": "2022-06-06T07:46:29.969Z"
   },
   {
    "duration": 10,
    "start_time": "2022-06-06T07:46:32.393Z"
   },
   {
    "duration": 11,
    "start_time": "2022-06-06T07:46:36.785Z"
   },
   {
    "duration": 5,
    "start_time": "2022-06-06T07:46:39.985Z"
   },
   {
    "duration": 7,
    "start_time": "2022-06-06T07:46:42.068Z"
   },
   {
    "duration": 12,
    "start_time": "2022-06-06T07:46:52.604Z"
   },
   {
    "duration": 590,
    "start_time": "2022-06-06T07:47:04.556Z"
   },
   {
    "duration": 10,
    "start_time": "2022-06-06T07:47:26.636Z"
   },
   {
    "duration": 19,
    "start_time": "2022-06-06T07:47:45.275Z"
   },
   {
    "duration": 18,
    "start_time": "2022-06-06T07:48:16.763Z"
   },
   {
    "duration": 13,
    "start_time": "2022-06-06T07:48:30.167Z"
   },
   {
    "duration": 21,
    "start_time": "2022-06-06T07:48:46.849Z"
   },
   {
    "duration": 32,
    "start_time": "2022-06-06T08:10:55.129Z"
   },
   {
    "duration": 39,
    "start_time": "2022-06-06T08:11:01.328Z"
   },
   {
    "duration": 28,
    "start_time": "2022-06-06T08:11:15.067Z"
   },
   {
    "duration": 11,
    "start_time": "2022-06-06T08:11:17.536Z"
   },
   {
    "duration": 11,
    "start_time": "2022-06-06T08:11:19.992Z"
   },
   {
    "duration": 5,
    "start_time": "2022-06-06T08:11:22.647Z"
   },
   {
    "duration": 7,
    "start_time": "2022-06-06T08:11:26.703Z"
   },
   {
    "duration": 23,
    "start_time": "2022-06-07T04:11:44.744Z"
   },
   {
    "duration": 1738,
    "start_time": "2022-06-07T04:15:25.930Z"
   },
   {
    "duration": 207,
    "start_time": "2022-06-07T04:15:27.670Z"
   },
   {
    "duration": 128,
    "start_time": "2022-06-07T04:15:27.881Z"
   },
   {
    "duration": 61,
    "start_time": "2022-06-07T04:15:28.011Z"
   },
   {
    "duration": 93,
    "start_time": "2022-06-07T04:15:28.074Z"
   },
   {
    "duration": 2,
    "start_time": "2022-06-07T04:15:28.169Z"
   },
   {
    "duration": 5,
    "start_time": "2022-06-07T04:15:28.173Z"
   },
   {
    "duration": 14,
    "start_time": "2022-06-07T04:15:28.180Z"
   },
   {
    "duration": 65,
    "start_time": "2022-06-07T04:15:28.197Z"
   },
   {
    "duration": 8,
    "start_time": "2022-06-07T04:15:28.264Z"
   },
   {
    "duration": 20,
    "start_time": "2022-06-07T04:15:28.273Z"
   },
   {
    "duration": 171,
    "start_time": "2022-06-07T04:15:28.294Z"
   },
   {
    "duration": 102,
    "start_time": "2022-06-07T04:15:28.467Z"
   },
   {
    "duration": 97,
    "start_time": "2022-06-07T04:15:28.571Z"
   },
   {
    "duration": 7,
    "start_time": "2022-06-07T04:15:28.670Z"
   },
   {
    "duration": 7,
    "start_time": "2022-06-07T04:15:28.679Z"
   },
   {
    "duration": 16,
    "start_time": "2022-06-07T04:15:28.688Z"
   },
   {
    "duration": 69,
    "start_time": "2022-06-07T04:15:28.706Z"
   },
   {
    "duration": 139,
    "start_time": "2022-06-07T04:15:28.777Z"
   },
   {
    "duration": 11,
    "start_time": "2022-06-07T04:28:43.147Z"
   },
   {
    "duration": 795,
    "start_time": "2022-06-07T04:29:10.643Z"
   },
   {
    "duration": 11,
    "start_time": "2022-06-07T04:29:22.087Z"
   },
   {
    "duration": 18,
    "start_time": "2022-06-07T04:29:41.204Z"
   },
   {
    "duration": 16,
    "start_time": "2022-06-07T04:29:52.671Z"
   },
   {
    "duration": 13,
    "start_time": "2022-06-07T04:30:30.487Z"
   },
   {
    "duration": 721,
    "start_time": "2022-06-07T04:30:37.037Z"
   },
   {
    "duration": 156,
    "start_time": "2022-06-07T04:30:40.218Z"
   },
   {
    "duration": 66,
    "start_time": "2022-06-07T04:30:44.307Z"
   },
   {
    "duration": 49,
    "start_time": "2022-06-07T04:30:48.290Z"
   },
   {
    "duration": 11,
    "start_time": "2022-06-07T04:30:52.345Z"
   },
   {
    "duration": 17,
    "start_time": "2022-06-07T04:30:56.324Z"
   },
   {
    "duration": 7,
    "start_time": "2022-06-07T04:30:58.967Z"
   },
   {
    "duration": 32,
    "start_time": "2022-06-07T04:31:02.497Z"
   },
   {
    "duration": 12,
    "start_time": "2022-06-07T04:31:05.576Z"
   },
   {
    "duration": 12,
    "start_time": "2022-06-07T04:31:07.543Z"
   },
   {
    "duration": 6,
    "start_time": "2022-06-07T04:31:10.054Z"
   },
   {
    "duration": 8,
    "start_time": "2022-06-07T04:31:12.492Z"
   },
   {
    "duration": 32,
    "start_time": "2022-06-07T04:33:54.996Z"
   },
   {
    "duration": 33,
    "start_time": "2022-06-07T04:35:28.442Z"
   },
   {
    "duration": 31,
    "start_time": "2022-06-07T04:35:39.423Z"
   },
   {
    "duration": 3,
    "start_time": "2022-06-07T05:52:04.370Z"
   },
   {
    "duration": 5,
    "start_time": "2022-06-07T05:53:32.424Z"
   },
   {
    "duration": 4,
    "start_time": "2022-06-07T05:54:37.721Z"
   },
   {
    "duration": 7,
    "start_time": "2022-06-07T05:54:51.414Z"
   },
   {
    "duration": 26,
    "start_time": "2022-06-07T05:55:15.312Z"
   },
   {
    "duration": 5,
    "start_time": "2022-06-07T05:55:18.350Z"
   },
   {
    "duration": 5,
    "start_time": "2022-06-07T05:55:30.113Z"
   },
   {
    "duration": 6,
    "start_time": "2022-06-07T05:55:37.600Z"
   },
   {
    "duration": 8,
    "start_time": "2022-06-07T05:55:58.372Z"
   },
   {
    "duration": 9,
    "start_time": "2022-06-07T05:56:34.932Z"
   },
   {
    "duration": 10,
    "start_time": "2022-06-07T05:57:25.422Z"
   },
   {
    "duration": 11,
    "start_time": "2022-06-07T05:57:48.520Z"
   },
   {
    "duration": 12,
    "start_time": "2022-06-07T05:57:57.457Z"
   },
   {
    "duration": 43,
    "start_time": "2022-06-07T05:58:11.237Z"
   },
   {
    "duration": 16,
    "start_time": "2022-06-07T05:58:50.173Z"
   },
   {
    "duration": 37,
    "start_time": "2022-06-07T05:59:13.079Z"
   },
   {
    "duration": 34,
    "start_time": "2022-06-07T05:59:15.046Z"
   },
   {
    "duration": 33,
    "start_time": "2022-06-07T05:59:40.362Z"
   },
   {
    "duration": 47,
    "start_time": "2022-06-07T05:59:45.905Z"
   },
   {
    "duration": 35,
    "start_time": "2022-06-07T05:59:52.617Z"
   },
   {
    "duration": 33,
    "start_time": "2022-06-07T06:00:06.663Z"
   },
   {
    "duration": 31,
    "start_time": "2022-06-07T06:05:35.340Z"
   },
   {
    "duration": 700,
    "start_time": "2022-06-07T06:06:02.539Z"
   },
   {
    "duration": 33,
    "start_time": "2022-06-07T06:06:09.644Z"
   },
   {
    "duration": 33,
    "start_time": "2022-06-07T06:06:33.632Z"
   },
   {
    "duration": 31,
    "start_time": "2022-06-07T06:06:40.203Z"
   },
   {
    "duration": 32,
    "start_time": "2022-06-07T06:06:52.299Z"
   },
   {
    "duration": 31,
    "start_time": "2022-06-07T06:07:51.862Z"
   },
   {
    "duration": 27,
    "start_time": "2022-06-07T06:08:06.756Z"
   },
   {
    "duration": 14,
    "start_time": "2022-06-07T06:08:14.752Z"
   },
   {
    "duration": 11,
    "start_time": "2022-06-07T06:13:07.100Z"
   },
   {
    "duration": 10,
    "start_time": "2022-06-07T06:13:34.591Z"
   },
   {
    "duration": 14,
    "start_time": "2022-06-07T06:13:50.629Z"
   },
   {
    "duration": 19,
    "start_time": "2022-06-07T06:15:28.429Z"
   },
   {
    "duration": 31,
    "start_time": "2022-06-07T07:02:20.405Z"
   },
   {
    "duration": 22,
    "start_time": "2022-06-07T07:02:42.816Z"
   },
   {
    "duration": 22,
    "start_time": "2022-06-07T07:03:02.938Z"
   },
   {
    "duration": 29,
    "start_time": "2022-06-07T07:08:50.380Z"
   },
   {
    "duration": 13,
    "start_time": "2022-06-07T07:08:52.965Z"
   },
   {
    "duration": 11,
    "start_time": "2022-06-07T07:08:54.753Z"
   },
   {
    "duration": 11,
    "start_time": "2022-06-07T07:08:57.312Z"
   },
   {
    "duration": 8,
    "start_time": "2022-06-07T07:09:01.520Z"
   },
   {
    "duration": 50,
    "start_time": "2022-06-07T07:09:11.587Z"
   },
   {
    "duration": 22,
    "start_time": "2022-06-07T07:09:20.982Z"
   },
   {
    "duration": 26,
    "start_time": "2022-06-07T07:25:30.115Z"
   },
   {
    "duration": 3,
    "start_time": "2022-06-07T07:25:35.839Z"
   },
   {
    "duration": 22,
    "start_time": "2022-06-07T07:25:38.486Z"
   },
   {
    "duration": 9,
    "start_time": "2022-06-07T07:27:00.669Z"
   },
   {
    "duration": 41,
    "start_time": "2022-06-07T07:28:03.662Z"
   },
   {
    "duration": 53,
    "start_time": "2022-06-07T12:21:17.960Z"
   },
   {
    "duration": 215,
    "start_time": "2022-06-07T12:21:35.058Z"
   },
   {
    "duration": 1950,
    "start_time": "2022-06-07T12:21:48.198Z"
   },
   {
    "duration": 136,
    "start_time": "2022-06-07T12:21:50.149Z"
   },
   {
    "duration": 84,
    "start_time": "2022-06-07T12:21:50.286Z"
   },
   {
    "duration": 19,
    "start_time": "2022-06-07T12:21:50.372Z"
   },
   {
    "duration": 67,
    "start_time": "2022-06-07T12:21:50.392Z"
   },
   {
    "duration": 3,
    "start_time": "2022-06-07T12:21:50.461Z"
   },
   {
    "duration": 13,
    "start_time": "2022-06-07T12:21:50.465Z"
   },
   {
    "duration": 14,
    "start_time": "2022-06-07T12:21:50.479Z"
   },
   {
    "duration": 42,
    "start_time": "2022-06-07T12:21:50.495Z"
   },
   {
    "duration": 6,
    "start_time": "2022-06-07T12:21:50.541Z"
   },
   {
    "duration": 20,
    "start_time": "2022-06-07T12:21:50.549Z"
   },
   {
    "duration": 63,
    "start_time": "2022-06-07T12:21:50.571Z"
   },
   {
    "duration": 190,
    "start_time": "2022-06-07T12:21:50.637Z"
   },
   {
    "duration": 10,
    "start_time": "2022-06-07T12:21:50.829Z"
   },
   {
    "duration": 7,
    "start_time": "2022-06-07T12:21:50.840Z"
   },
   {
    "duration": 121,
    "start_time": "2022-06-07T12:21:50.848Z"
   },
   {
    "duration": 0,
    "start_time": "2022-06-07T12:21:50.970Z"
   },
   {
    "duration": 0,
    "start_time": "2022-06-07T12:21:50.971Z"
   },
   {
    "duration": 0,
    "start_time": "2022-06-07T12:21:50.972Z"
   },
   {
    "duration": 0,
    "start_time": "2022-06-07T12:21:50.973Z"
   },
   {
    "duration": 0,
    "start_time": "2022-06-07T12:21:50.974Z"
   },
   {
    "duration": 1450,
    "start_time": "2022-06-07T12:22:40.649Z"
   },
   {
    "duration": 159,
    "start_time": "2022-06-07T12:22:42.101Z"
   },
   {
    "duration": 83,
    "start_time": "2022-06-07T12:22:42.261Z"
   },
   {
    "duration": 20,
    "start_time": "2022-06-07T12:22:42.346Z"
   },
   {
    "duration": 62,
    "start_time": "2022-06-07T12:22:42.367Z"
   },
   {
    "duration": 3,
    "start_time": "2022-06-07T12:22:42.430Z"
   },
   {
    "duration": 10,
    "start_time": "2022-06-07T12:22:42.434Z"
   },
   {
    "duration": 15,
    "start_time": "2022-06-07T12:22:42.446Z"
   },
   {
    "duration": 17,
    "start_time": "2022-06-07T12:22:42.463Z"
   },
   {
    "duration": 8,
    "start_time": "2022-06-07T12:22:42.483Z"
   },
   {
    "duration": 41,
    "start_time": "2022-06-07T12:22:42.492Z"
   },
   {
    "duration": 95,
    "start_time": "2022-06-07T12:22:42.535Z"
   },
   {
    "duration": 102,
    "start_time": "2022-06-07T12:22:42.632Z"
   },
   {
    "duration": 101,
    "start_time": "2022-06-07T12:22:42.736Z"
   },
   {
    "duration": 6,
    "start_time": "2022-06-07T12:22:42.839Z"
   },
   {
    "duration": 8,
    "start_time": "2022-06-07T12:22:42.846Z"
   },
   {
    "duration": 4,
    "start_time": "2022-06-07T12:22:42.856Z"
   },
   {
    "duration": 36,
    "start_time": "2022-06-07T12:22:42.861Z"
   },
   {
    "duration": 28,
    "start_time": "2022-06-07T12:22:42.899Z"
   },
   {
    "duration": 0,
    "start_time": "2022-06-07T12:22:42.929Z"
   },
   {
    "duration": 0,
    "start_time": "2022-06-07T12:22:42.930Z"
   },
   {
    "duration": 6,
    "start_time": "2022-06-07T12:23:29.081Z"
   },
   {
    "duration": 102,
    "start_time": "2022-06-07T12:23:32.558Z"
   },
   {
    "duration": 13,
    "start_time": "2022-06-07T12:24:48.414Z"
   },
   {
    "duration": 36,
    "start_time": "2022-06-07T12:25:11.659Z"
   },
   {
    "duration": 23,
    "start_time": "2022-06-07T12:36:51.436Z"
   },
   {
    "duration": 2131,
    "start_time": "2022-06-07T19:08:04.454Z"
   },
   {
    "duration": 220,
    "start_time": "2022-06-07T19:08:06.587Z"
   },
   {
    "duration": 127,
    "start_time": "2022-06-07T19:08:06.810Z"
   },
   {
    "duration": 41,
    "start_time": "2022-06-07T19:08:06.942Z"
   },
   {
    "duration": 131,
    "start_time": "2022-06-07T19:08:06.985Z"
   },
   {
    "duration": 4,
    "start_time": "2022-06-07T19:08:07.118Z"
   },
   {
    "duration": 46,
    "start_time": "2022-06-07T19:08:07.124Z"
   },
   {
    "duration": 16,
    "start_time": "2022-06-07T19:08:07.172Z"
   },
   {
    "duration": 22,
    "start_time": "2022-06-07T19:08:07.190Z"
   },
   {
    "duration": 9,
    "start_time": "2022-06-07T19:08:07.216Z"
   },
   {
    "duration": 71,
    "start_time": "2022-06-07T19:08:07.227Z"
   },
   {
    "duration": 267,
    "start_time": "2022-06-07T19:08:07.300Z"
   },
   {
    "duration": 174,
    "start_time": "2022-06-07T19:08:07.569Z"
   },
   {
    "duration": 33,
    "start_time": "2022-06-07T19:08:07.746Z"
   },
   {
    "duration": 10,
    "start_time": "2022-06-07T19:08:07.781Z"
   },
   {
    "duration": 14,
    "start_time": "2022-06-07T19:08:07.794Z"
   },
   {
    "duration": 5,
    "start_time": "2022-06-07T19:08:07.811Z"
   },
   {
    "duration": 59,
    "start_time": "2022-06-07T19:08:07.818Z"
   },
   {
    "duration": 9,
    "start_time": "2022-06-07T19:08:07.879Z"
   },
   {
    "duration": 180,
    "start_time": "2022-06-07T19:08:07.890Z"
   },
   {
    "duration": 0,
    "start_time": "2022-06-07T19:08:08.072Z"
   },
   {
    "duration": 6,
    "start_time": "2022-06-07T19:08:21.559Z"
   },
   {
    "duration": 32,
    "start_time": "2022-06-07T19:08:24.466Z"
   },
   {
    "duration": 87,
    "start_time": "2022-06-07T19:09:42.054Z"
   },
   {
    "duration": 13,
    "start_time": "2022-06-07T19:09:45.610Z"
   },
   {
    "duration": 7,
    "start_time": "2022-06-07T19:09:57.095Z"
   },
   {
    "duration": 23,
    "start_time": "2022-06-07T19:10:07.100Z"
   },
   {
    "duration": 85,
    "start_time": "2022-06-07T19:10:36.165Z"
   },
   {
    "duration": 11,
    "start_time": "2022-06-07T19:11:03.546Z"
   },
   {
    "duration": 137,
    "start_time": "2022-06-07T19:16:57.051Z"
   },
   {
    "duration": 7,
    "start_time": "2022-06-07T19:17:03.156Z"
   },
   {
    "duration": 15,
    "start_time": "2022-06-07T19:17:07.394Z"
   },
   {
    "duration": 29,
    "start_time": "2022-06-07T19:17:41.280Z"
   },
   {
    "duration": 9,
    "start_time": "2022-06-07T19:17:43.381Z"
   },
   {
    "duration": 8,
    "start_time": "2022-06-07T19:17:45.580Z"
   },
   {
    "duration": 12,
    "start_time": "2022-06-07T19:18:23.079Z"
   },
   {
    "duration": 53,
    "start_time": "2022-06-07T19:36:31.805Z"
   },
   {
    "duration": 3,
    "start_time": "2022-06-07T19:36:41.910Z"
   },
   {
    "duration": 32,
    "start_time": "2022-06-07T19:36:44.990Z"
   },
   {
    "duration": 10,
    "start_time": "2022-06-07T19:36:49.166Z"
   },
   {
    "duration": 5,
    "start_time": "2022-06-07T19:38:12.325Z"
   },
   {
    "duration": 33,
    "start_time": "2022-06-07T19:38:14.429Z"
   },
   {
    "duration": 7,
    "start_time": "2022-06-07T19:38:16.981Z"
   },
   {
    "duration": 33,
    "start_time": "2022-06-07T19:41:13.605Z"
   },
   {
    "duration": 4,
    "start_time": "2022-06-07T19:41:17.390Z"
   },
   {
    "duration": 44,
    "start_time": "2022-06-07T19:41:19.206Z"
   },
   {
    "duration": 8,
    "start_time": "2022-06-07T19:41:22.210Z"
   },
   {
    "duration": 6,
    "start_time": "2022-06-07T19:44:19.051Z"
   },
   {
    "duration": 3,
    "start_time": "2022-06-07T19:56:27.015Z"
   },
   {
    "duration": 7,
    "start_time": "2022-06-07T20:01:28.412Z"
   },
   {
    "duration": 3,
    "start_time": "2022-06-07T20:02:07.776Z"
   },
   {
    "duration": 2,
    "start_time": "2022-06-07T20:02:14.423Z"
   },
   {
    "duration": 2,
    "start_time": "2022-06-07T20:02:40.181Z"
   },
   {
    "duration": 5,
    "start_time": "2022-06-07T20:04:56.478Z"
   },
   {
    "duration": 18,
    "start_time": "2022-06-07T20:05:47.643Z"
   },
   {
    "duration": 7,
    "start_time": "2022-06-07T20:05:58.677Z"
   },
   {
    "duration": 14,
    "start_time": "2022-06-07T20:09:46.479Z"
   },
   {
    "duration": 8,
    "start_time": "2022-06-07T20:09:51.294Z"
   },
   {
    "duration": 2,
    "start_time": "2022-06-07T20:11:20.378Z"
   },
   {
    "duration": 8,
    "start_time": "2022-06-07T20:12:57.283Z"
   },
   {
    "duration": 24,
    "start_time": "2022-06-07T20:47:35.911Z"
   },
   {
    "duration": 1498,
    "start_time": "2022-06-07T20:47:43.059Z"
   },
   {
    "duration": 141,
    "start_time": "2022-06-07T20:47:44.559Z"
   },
   {
    "duration": 81,
    "start_time": "2022-06-07T20:47:44.702Z"
   },
   {
    "duration": 22,
    "start_time": "2022-06-07T20:47:44.785Z"
   },
   {
    "duration": 72,
    "start_time": "2022-06-07T20:47:44.808Z"
   },
   {
    "duration": 3,
    "start_time": "2022-06-07T20:47:44.882Z"
   },
   {
    "duration": 8,
    "start_time": "2022-06-07T20:47:44.886Z"
   },
   {
    "duration": 37,
    "start_time": "2022-06-07T20:47:44.895Z"
   },
   {
    "duration": 17,
    "start_time": "2022-06-07T20:47:44.934Z"
   },
   {
    "duration": 9,
    "start_time": "2022-06-07T20:47:44.954Z"
   },
   {
    "duration": 25,
    "start_time": "2022-06-07T20:47:44.965Z"
   },
   {
    "duration": 58,
    "start_time": "2022-06-07T20:47:44.991Z"
   },
   {
    "duration": 178,
    "start_time": "2022-06-07T20:47:45.051Z"
   },
   {
    "duration": 27,
    "start_time": "2022-06-07T20:47:45.231Z"
   },
   {
    "duration": 11,
    "start_time": "2022-06-07T20:47:45.261Z"
   },
   {
    "duration": 22,
    "start_time": "2022-06-07T20:47:45.273Z"
   },
   {
    "duration": 14,
    "start_time": "2022-06-07T20:47:45.297Z"
   },
   {
    "duration": 15,
    "start_time": "2022-06-07T20:47:45.313Z"
   },
   {
    "duration": 265,
    "start_time": "2022-06-07T20:47:45.330Z"
   },
   {
    "duration": 0,
    "start_time": "2022-06-07T20:47:45.597Z"
   },
   {
    "duration": 0,
    "start_time": "2022-06-07T20:47:45.598Z"
   },
   {
    "duration": 0,
    "start_time": "2022-06-07T20:47:45.600Z"
   },
   {
    "duration": 0,
    "start_time": "2022-06-07T20:47:45.602Z"
   },
   {
    "duration": 3,
    "start_time": "2022-06-07T20:48:07.840Z"
   },
   {
    "duration": 4,
    "start_time": "2022-06-07T20:48:08.494Z"
   },
   {
    "duration": 3,
    "start_time": "2022-06-07T20:48:11.139Z"
   },
   {
    "duration": 7,
    "start_time": "2022-06-07T20:48:12.944Z"
   },
   {
    "duration": 6,
    "start_time": "2022-06-07T20:48:22.169Z"
   },
   {
    "duration": 8,
    "start_time": "2022-06-07T20:48:31.664Z"
   },
   {
    "duration": 6,
    "start_time": "2022-06-07T20:48:38.109Z"
   },
   {
    "duration": 8,
    "start_time": "2022-06-07T20:49:15.804Z"
   },
   {
    "duration": 37,
    "start_time": "2022-06-07T20:49:57.169Z"
   },
   {
    "duration": 7,
    "start_time": "2022-06-07T20:50:19.954Z"
   },
   {
    "duration": 4,
    "start_time": "2022-06-07T20:58:25.398Z"
   },
   {
    "duration": 6,
    "start_time": "2022-06-07T20:59:10.693Z"
   },
   {
    "duration": 6,
    "start_time": "2022-06-07T20:59:28.753Z"
   },
   {
    "duration": 7,
    "start_time": "2022-06-07T21:00:02.259Z"
   },
   {
    "duration": 7,
    "start_time": "2022-06-07T21:00:34.548Z"
   },
   {
    "duration": 10,
    "start_time": "2022-06-07T21:00:49.635Z"
   },
   {
    "duration": 10,
    "start_time": "2022-06-07T21:09:49.327Z"
   },
   {
    "duration": 22,
    "start_time": "2022-06-07T21:10:30.883Z"
   },
   {
    "duration": 31,
    "start_time": "2022-06-07T21:10:37.532Z"
   },
   {
    "duration": 30,
    "start_time": "2022-06-07T21:13:37.122Z"
   },
   {
    "duration": 7,
    "start_time": "2022-06-07T21:14:49.091Z"
   },
   {
    "duration": 51,
    "start_time": "2022-06-07T21:15:35.807Z"
   },
   {
    "duration": 45,
    "start_time": "2022-06-07T21:16:03.911Z"
   },
   {
    "duration": 41,
    "start_time": "2022-06-07T21:16:38.467Z"
   },
   {
    "duration": 3,
    "start_time": "2022-06-07T21:16:58.921Z"
   },
   {
    "duration": 49,
    "start_time": "2022-06-07T21:17:04.296Z"
   },
   {
    "duration": 47,
    "start_time": "2022-06-07T21:18:23.760Z"
   },
   {
    "duration": 37,
    "start_time": "2022-06-07T21:18:57.260Z"
   },
   {
    "duration": 59,
    "start_time": "2022-06-07T21:21:09.776Z"
   },
   {
    "duration": 24,
    "start_time": "2022-06-07T21:21:26.726Z"
   },
   {
    "duration": 39,
    "start_time": "2022-06-07T21:22:06.967Z"
   },
   {
    "duration": 26,
    "start_time": "2022-06-07T21:22:15.563Z"
   },
   {
    "duration": 3,
    "start_time": "2022-06-07T21:24:09.786Z"
   },
   {
    "duration": 22,
    "start_time": "2022-06-07T21:24:21.757Z"
   },
   {
    "duration": 22,
    "start_time": "2022-06-07T21:24:33.870Z"
   },
   {
    "duration": 19,
    "start_time": "2022-06-07T21:25:18.677Z"
   },
   {
    "duration": 1071,
    "start_time": "2022-06-07T21:41:45.594Z"
   },
   {
    "duration": 4821,
    "start_time": "2022-06-07T21:42:16.965Z"
   },
   {
    "duration": 3,
    "start_time": "2022-06-07T21:43:22.004Z"
   },
   {
    "duration": 5,
    "start_time": "2022-06-07T21:43:32.538Z"
   },
   {
    "duration": 3,
    "start_time": "2022-06-07T21:43:39.314Z"
   },
   {
    "duration": 25,
    "start_time": "2022-06-07T21:43:50.050Z"
   },
   {
    "duration": 20,
    "start_time": "2022-06-07T21:44:07.804Z"
   },
   {
    "duration": 5681,
    "start_time": "2022-06-07T21:44:17.524Z"
   },
   {
    "duration": 85,
    "start_time": "2022-06-07T21:49:42.220Z"
   },
   {
    "duration": 9,
    "start_time": "2022-06-07T21:52:21.305Z"
   },
   {
    "duration": 9,
    "start_time": "2022-06-07T21:53:03.804Z"
   },
   {
    "duration": 2232,
    "start_time": "2022-06-07T23:59:47.800Z"
   },
   {
    "duration": 203,
    "start_time": "2022-06-07T23:59:50.037Z"
   },
   {
    "duration": 70,
    "start_time": "2022-06-07T23:59:50.246Z"
   },
   {
    "duration": 37,
    "start_time": "2022-06-07T23:59:50.318Z"
   },
   {
    "duration": 93,
    "start_time": "2022-06-07T23:59:50.357Z"
   },
   {
    "duration": 3,
    "start_time": "2022-06-07T23:59:50.452Z"
   },
   {
    "duration": 5,
    "start_time": "2022-06-07T23:59:50.457Z"
   },
   {
    "duration": 18,
    "start_time": "2022-06-07T23:59:50.464Z"
   },
   {
    "duration": 49,
    "start_time": "2022-06-07T23:59:50.484Z"
   },
   {
    "duration": 8,
    "start_time": "2022-06-07T23:59:50.536Z"
   },
   {
    "duration": 25,
    "start_time": "2022-06-07T23:59:50.545Z"
   },
   {
    "duration": 171,
    "start_time": "2022-06-07T23:59:50.572Z"
   },
   {
    "duration": 83,
    "start_time": "2022-06-07T23:59:50.745Z"
   },
   {
    "duration": 129,
    "start_time": "2022-06-07T23:59:50.831Z"
   },
   {
    "duration": 6,
    "start_time": "2022-06-07T23:59:50.962Z"
   },
   {
    "duration": 10,
    "start_time": "2022-06-07T23:59:50.969Z"
   },
   {
    "duration": 10,
    "start_time": "2022-06-07T23:59:50.981Z"
   },
   {
    "duration": 152,
    "start_time": "2022-06-07T23:59:50.993Z"
   },
   {
    "duration": 11,
    "start_time": "2022-06-07T23:59:51.147Z"
   },
   {
    "duration": 7,
    "start_time": "2022-06-07T23:59:51.160Z"
   },
   {
    "duration": 10,
    "start_time": "2022-06-07T23:59:51.168Z"
   },
   {
    "duration": 12,
    "start_time": "2022-06-07T23:59:51.179Z"
   },
   {
    "duration": 120,
    "start_time": "2022-06-07T23:59:51.193Z"
   },
   {
    "duration": 0,
    "start_time": "2022-06-07T23:59:51.316Z"
   },
   {
    "duration": 0,
    "start_time": "2022-06-07T23:59:51.317Z"
   },
   {
    "duration": 0,
    "start_time": "2022-06-07T23:59:51.319Z"
   },
   {
    "duration": 925,
    "start_time": "2022-06-08T00:07:51.321Z"
   },
   {
    "duration": 166,
    "start_time": "2022-06-08T00:08:04.878Z"
   },
   {
    "duration": 26,
    "start_time": "2022-06-08T00:08:30.766Z"
   },
   {
    "duration": 39,
    "start_time": "2022-06-08T00:08:33.075Z"
   },
   {
    "duration": 14,
    "start_time": "2022-06-08T00:08:36.799Z"
   },
   {
    "duration": 31,
    "start_time": "2022-06-08T00:08:46.573Z"
   },
   {
    "duration": 35,
    "start_time": "2022-06-08T00:08:58.971Z"
   },
   {
    "duration": 9,
    "start_time": "2022-06-08T00:10:28.042Z"
   },
   {
    "duration": 10,
    "start_time": "2022-06-08T00:13:21.663Z"
   },
   {
    "duration": 63,
    "start_time": "2022-06-08T00:16:55.189Z"
   },
   {
    "duration": 2824,
    "start_time": "2022-06-08T00:17:06.286Z"
   },
   {
    "duration": 77,
    "start_time": "2022-06-08T00:17:39.972Z"
   },
   {
    "duration": 2721,
    "start_time": "2022-06-08T00:17:56.856Z"
   },
   {
    "duration": 53,
    "start_time": "2022-06-08T00:18:33.365Z"
   },
   {
    "duration": 7,
    "start_time": "2022-06-08T00:18:38.411Z"
   },
   {
    "duration": 2836,
    "start_time": "2022-06-08T00:19:20.126Z"
   },
   {
    "duration": 54,
    "start_time": "2022-06-08T00:20:49.448Z"
   },
   {
    "duration": 2542,
    "start_time": "2022-06-08T00:20:55.021Z"
   },
   {
    "duration": 109,
    "start_time": "2022-06-08T00:20:59.653Z"
   },
   {
    "duration": 182,
    "start_time": "2022-06-08T00:21:14.228Z"
   },
   {
    "duration": 28,
    "start_time": "2022-06-08T00:22:51.709Z"
   },
   {
    "duration": 813,
    "start_time": "2022-06-08T00:23:21.218Z"
   },
   {
    "duration": 261,
    "start_time": "2022-06-08T00:23:24.626Z"
   },
   {
    "duration": 37,
    "start_time": "2022-06-08T00:24:04.771Z"
   },
   {
    "duration": 7,
    "start_time": "2022-06-08T00:24:22.429Z"
   },
   {
    "duration": 21,
    "start_time": "2022-06-08T00:24:38.455Z"
   },
   {
    "duration": 16,
    "start_time": "2022-06-08T00:24:48.163Z"
   },
   {
    "duration": 6,
    "start_time": "2022-06-08T00:25:34.270Z"
   },
   {
    "duration": 3,
    "start_time": "2022-06-08T00:25:41.145Z"
   },
   {
    "duration": 3,
    "start_time": "2022-06-08T00:25:47.557Z"
   },
   {
    "duration": 55,
    "start_time": "2022-06-08T00:25:51.043Z"
   },
   {
    "duration": 3,
    "start_time": "2022-06-08T00:26:24.120Z"
   },
   {
    "duration": 9,
    "start_time": "2022-06-08T00:26:45.814Z"
   },
   {
    "duration": 22,
    "start_time": "2022-06-08T00:26:52.466Z"
   },
   {
    "duration": 5,
    "start_time": "2022-06-08T00:27:05.369Z"
   },
   {
    "duration": 11,
    "start_time": "2022-06-08T00:28:46.304Z"
   },
   {
    "duration": 17,
    "start_time": "2022-06-08T00:28:59.521Z"
   },
   {
    "duration": 7,
    "start_time": "2022-06-08T00:29:04.107Z"
   },
   {
    "duration": 4,
    "start_time": "2022-06-08T00:29:12.649Z"
   },
   {
    "duration": 50,
    "start_time": "2022-06-08T00:29:18.523Z"
   },
   {
    "duration": 733,
    "start_time": "2022-06-08T01:06:30.758Z"
   },
   {
    "duration": 3,
    "start_time": "2022-06-08T01:06:45.271Z"
   },
   {
    "duration": 207,
    "start_time": "2022-06-08T01:06:47.254Z"
   },
   {
    "duration": 88,
    "start_time": "2022-06-08T01:06:56.175Z"
   },
   {
    "duration": 50,
    "start_time": "2022-06-08T01:07:02.355Z"
   },
   {
    "duration": 10,
    "start_time": "2022-06-08T01:07:11.766Z"
   },
   {
    "duration": 20,
    "start_time": "2022-06-08T01:07:15.566Z"
   },
   {
    "duration": 10,
    "start_time": "2022-06-08T01:07:18.471Z"
   },
   {
    "duration": 12,
    "start_time": "2022-06-08T01:07:20.855Z"
   },
   {
    "duration": 20,
    "start_time": "2022-06-08T01:07:26.655Z"
   },
   {
    "duration": 9,
    "start_time": "2022-06-08T01:07:31.267Z"
   },
   {
    "duration": 84,
    "start_time": "2022-06-08T01:07:36.055Z"
   },
   {
    "duration": 12,
    "start_time": "2022-06-08T01:07:47.703Z"
   },
   {
    "duration": 10,
    "start_time": "2022-06-08T01:07:51.100Z"
   },
   {
    "duration": 13,
    "start_time": "2022-06-08T01:08:00.952Z"
   },
   {
    "duration": 5,
    "start_time": "2022-06-08T01:08:05.388Z"
   },
   {
    "duration": 7,
    "start_time": "2022-06-08T01:08:06.880Z"
   },
   {
    "duration": 17,
    "start_time": "2022-06-08T01:08:12.650Z"
   },
   {
    "duration": 3,
    "start_time": "2022-06-08T01:08:15.510Z"
   },
   {
    "duration": 5,
    "start_time": "2022-06-08T01:08:17.488Z"
   },
   {
    "duration": 3,
    "start_time": "2022-06-08T01:08:19.217Z"
   },
   {
    "duration": 7,
    "start_time": "2022-06-08T01:08:21.512Z"
   },
   {
    "duration": 39,
    "start_time": "2022-06-08T01:08:24.909Z"
   },
   {
    "duration": 697,
    "start_time": "2022-06-08T01:09:44.654Z"
   },
   {
    "duration": 152,
    "start_time": "2022-06-08T01:09:51.241Z"
   },
   {
    "duration": 130,
    "start_time": "2022-06-08T01:09:59.261Z"
   },
   {
    "duration": 88,
    "start_time": "2022-06-08T01:10:03.087Z"
   },
   {
    "duration": 63,
    "start_time": "2022-06-08T01:10:09.508Z"
   },
   {
    "duration": 14,
    "start_time": "2022-06-08T01:10:23.351Z"
   },
   {
    "duration": 19,
    "start_time": "2022-06-08T01:10:29.594Z"
   },
   {
    "duration": 16,
    "start_time": "2022-06-08T01:10:32.141Z"
   },
   {
    "duration": 18,
    "start_time": "2022-06-08T01:10:37.340Z"
   },
   {
    "duration": 11,
    "start_time": "2022-06-08T01:10:39.582Z"
   },
   {
    "duration": 10,
    "start_time": "2022-06-08T01:10:42.156Z"
   },
   {
    "duration": 65,
    "start_time": "2022-06-08T01:10:44.470Z"
   },
   {
    "duration": 10,
    "start_time": "2022-06-08T01:10:46.870Z"
   },
   {
    "duration": 11,
    "start_time": "2022-06-08T01:10:49.411Z"
   },
   {
    "duration": 7,
    "start_time": "2022-06-08T01:10:53.265Z"
   },
   {
    "duration": 9,
    "start_time": "2022-06-08T01:10:54.784Z"
   },
   {
    "duration": 3,
    "start_time": "2022-06-08T01:11:00.021Z"
   },
   {
    "duration": 2,
    "start_time": "2022-06-08T01:11:04.604Z"
   },
   {
    "duration": 7,
    "start_time": "2022-06-08T01:11:05.206Z"
   },
   {
    "duration": 29,
    "start_time": "2022-06-08T01:11:07.479Z"
   },
   {
    "duration": 54,
    "start_time": "2022-06-08T01:12:14.717Z"
   },
   {
    "duration": 8,
    "start_time": "2022-06-08T01:12:18.100Z"
   },
   {
    "duration": 45,
    "start_time": "2022-06-08T01:12:20.504Z"
   },
   {
    "duration": 28,
    "start_time": "2022-06-08T01:12:21.439Z"
   },
   {
    "duration": 10,
    "start_time": "2022-06-08T01:12:21.888Z"
   },
   {
    "duration": 5,
    "start_time": "2022-06-08T01:12:23.408Z"
   },
   {
    "duration": 9,
    "start_time": "2022-06-08T01:12:23.856Z"
   },
   {
    "duration": 12,
    "start_time": "2022-06-08T01:12:25.374Z"
   },
   {
    "duration": 4,
    "start_time": "2022-06-08T01:12:28.442Z"
   },
   {
    "duration": 5,
    "start_time": "2022-06-08T01:12:29.267Z"
   },
   {
    "duration": 2,
    "start_time": "2022-06-08T01:12:30.109Z"
   },
   {
    "duration": 3,
    "start_time": "2022-06-08T01:12:31.660Z"
   },
   {
    "duration": 7,
    "start_time": "2022-06-08T01:12:33.119Z"
   },
   {
    "duration": 34,
    "start_time": "2022-06-08T01:12:37.247Z"
   },
   {
    "duration": 2,
    "start_time": "2022-06-08T01:30:48.473Z"
   },
   {
    "duration": 36,
    "start_time": "2022-06-08T01:31:11.818Z"
   },
   {
    "duration": 34,
    "start_time": "2022-06-08T01:31:16.404Z"
   },
   {
    "duration": 715,
    "start_time": "2022-06-08T01:43:48.903Z"
   },
   {
    "duration": 155,
    "start_time": "2022-06-08T01:43:55.749Z"
   },
   {
    "duration": 67,
    "start_time": "2022-06-08T01:44:02.626Z"
   },
   {
    "duration": 41,
    "start_time": "2022-06-08T01:44:21.646Z"
   },
   {
    "duration": 3,
    "start_time": "2022-06-08T01:44:29.274Z"
   },
   {
    "duration": 19,
    "start_time": "2022-06-08T01:44:46.493Z"
   },
   {
    "duration": 20,
    "start_time": "2022-06-08T01:44:52.553Z"
   },
   {
    "duration": 13,
    "start_time": "2022-06-08T01:44:53.454Z"
   },
   {
    "duration": 33,
    "start_time": "2022-06-08T01:44:53.718Z"
   },
   {
    "duration": 7,
    "start_time": "2022-06-08T01:44:53.983Z"
   },
   {
    "duration": 12,
    "start_time": "2022-06-08T01:44:54.251Z"
   },
   {
    "duration": 27,
    "start_time": "2022-06-08T01:44:54.811Z"
   },
   {
    "duration": 5,
    "start_time": "2022-06-08T01:44:55.097Z"
   },
   {
    "duration": 33,
    "start_time": "2022-06-08T01:44:55.504Z"
   },
   {
    "duration": 9,
    "start_time": "2022-06-08T01:44:56.695Z"
   },
   {
    "duration": 14,
    "start_time": "2022-06-08T01:44:57.452Z"
   },
   {
    "duration": 5,
    "start_time": "2022-06-08T01:44:59.659Z"
   },
   {
    "duration": 8,
    "start_time": "2022-06-08T01:45:00.521Z"
   },
   {
    "duration": 8,
    "start_time": "2022-06-08T01:45:02.882Z"
   },
   {
    "duration": 3,
    "start_time": "2022-06-08T01:45:06.100Z"
   },
   {
    "duration": 5,
    "start_time": "2022-06-08T01:45:06.697Z"
   },
   {
    "duration": 2,
    "start_time": "2022-06-08T01:45:07.556Z"
   },
   {
    "duration": 3,
    "start_time": "2022-06-08T01:45:08.706Z"
   },
   {
    "duration": 8,
    "start_time": "2022-06-08T01:45:09.067Z"
   },
   {
    "duration": 9,
    "start_time": "2022-06-08T01:45:11.344Z"
   },
   {
    "duration": 22,
    "start_time": "2022-06-08T01:45:14.202Z"
   },
   {
    "duration": 29,
    "start_time": "2022-06-08T01:45:39.973Z"
   },
   {
    "duration": 27,
    "start_time": "2022-06-08T01:45:53.210Z"
   },
   {
    "duration": 21,
    "start_time": "2022-06-08T01:46:24.172Z"
   },
   {
    "duration": 27,
    "start_time": "2022-06-08T01:55:29.450Z"
   },
   {
    "duration": 17,
    "start_time": "2022-06-08T01:55:36.852Z"
   },
   {
    "duration": 25,
    "start_time": "2022-06-08T01:55:42.812Z"
   },
   {
    "duration": 8,
    "start_time": "2022-06-08T01:55:53.817Z"
   },
   {
    "duration": 10,
    "start_time": "2022-06-08T01:56:09.550Z"
   },
   {
    "duration": 6,
    "start_time": "2022-06-08T01:56:25.149Z"
   },
   {
    "duration": 17,
    "start_time": "2022-06-08T01:56:31.525Z"
   },
   {
    "duration": 58,
    "start_time": "2022-06-08T02:00:56.415Z"
   },
   {
    "duration": 24,
    "start_time": "2022-06-08T02:01:04.470Z"
   },
   {
    "duration": 14,
    "start_time": "2022-06-08T02:02:04.894Z"
   },
   {
    "duration": 5,
    "start_time": "2022-06-08T02:02:24.874Z"
   },
   {
    "duration": 37,
    "start_time": "2022-06-08T02:02:29.922Z"
   },
   {
    "duration": 51,
    "start_time": "2022-06-08T02:02:49.606Z"
   },
   {
    "duration": 35,
    "start_time": "2022-06-08T02:07:35.131Z"
   },
   {
    "duration": 25,
    "start_time": "2022-06-08T02:08:05.970Z"
   },
   {
    "duration": 24,
    "start_time": "2022-06-08T02:11:21.773Z"
   },
   {
    "duration": 295,
    "start_time": "2022-06-08T02:12:09.755Z"
   },
   {
    "duration": 31,
    "start_time": "2022-06-08T02:17:04.755Z"
   },
   {
    "duration": 28,
    "start_time": "2022-06-08T02:18:41.060Z"
   },
   {
    "duration": 14,
    "start_time": "2022-06-08T02:18:59.488Z"
   },
   {
    "duration": 10,
    "start_time": "2022-06-08T02:19:20.763Z"
   },
   {
    "duration": 25,
    "start_time": "2022-06-08T02:20:03.840Z"
   },
   {
    "duration": 24,
    "start_time": "2022-06-08T02:20:14.324Z"
   },
   {
    "duration": 19,
    "start_time": "2022-06-08T02:20:30.846Z"
   },
   {
    "duration": 25,
    "start_time": "2022-06-08T02:20:41.844Z"
   },
   {
    "duration": 29,
    "start_time": "2022-06-08T02:20:47.776Z"
   },
   {
    "duration": 28,
    "start_time": "2022-06-08T02:21:47.071Z"
   },
   {
    "duration": 42,
    "start_time": "2022-06-08T02:21:53.219Z"
   },
   {
    "duration": 30,
    "start_time": "2022-06-08T02:21:58.150Z"
   },
   {
    "duration": 23,
    "start_time": "2022-06-08T02:22:03.647Z"
   },
   {
    "duration": 11,
    "start_time": "2022-06-08T02:22:15.843Z"
   },
   {
    "duration": 33,
    "start_time": "2022-06-08T02:22:27.282Z"
   },
   {
    "duration": 10,
    "start_time": "2022-06-08T02:22:58.704Z"
   },
   {
    "duration": 10,
    "start_time": "2022-06-08T02:23:04.491Z"
   },
   {
    "duration": 13,
    "start_time": "2022-06-08T02:23:10.344Z"
   },
   {
    "duration": 9,
    "start_time": "2022-06-08T02:23:40.083Z"
   },
   {
    "duration": 15,
    "start_time": "2022-06-08T02:24:19.565Z"
   },
   {
    "duration": 21,
    "start_time": "2022-06-08T02:24:25.469Z"
   },
   {
    "duration": 9,
    "start_time": "2022-06-08T02:24:50.280Z"
   },
   {
    "duration": 11,
    "start_time": "2022-06-08T02:25:10.844Z"
   },
   {
    "duration": 13,
    "start_time": "2022-06-08T02:25:59.539Z"
   },
   {
    "duration": 19,
    "start_time": "2022-06-08T02:26:05.052Z"
   },
   {
    "duration": 27,
    "start_time": "2022-06-08T02:29:07.012Z"
   },
   {
    "duration": 22,
    "start_time": "2022-06-08T02:29:44.040Z"
   },
   {
    "duration": 13,
    "start_time": "2022-06-08T02:29:58.600Z"
   },
   {
    "duration": 17,
    "start_time": "2022-06-08T02:30:03.299Z"
   },
   {
    "duration": 11,
    "start_time": "2022-06-08T02:30:25.691Z"
   },
   {
    "duration": 5,
    "start_time": "2022-06-08T03:05:00.647Z"
   },
   {
    "duration": 21,
    "start_time": "2022-06-08T03:09:06.652Z"
   },
   {
    "duration": 30,
    "start_time": "2022-06-08T03:09:25.473Z"
   },
   {
    "duration": 1733,
    "start_time": "2022-06-08T03:16:22.648Z"
   },
   {
    "duration": 3,
    "start_time": "2022-06-08T03:16:24.383Z"
   },
   {
    "duration": 210,
    "start_time": "2022-06-08T03:16:24.388Z"
   },
   {
    "duration": 110,
    "start_time": "2022-06-08T03:16:24.601Z"
   },
   {
    "duration": 34,
    "start_time": "2022-06-08T03:16:24.713Z"
   },
   {
    "duration": 10,
    "start_time": "2022-06-08T03:16:24.749Z"
   },
   {
    "duration": 84,
    "start_time": "2022-06-08T03:16:24.761Z"
   },
   {
    "duration": 6,
    "start_time": "2022-06-08T03:16:24.851Z"
   },
   {
    "duration": 8,
    "start_time": "2022-06-08T03:16:24.859Z"
   },
   {
    "duration": 33,
    "start_time": "2022-06-08T03:16:24.868Z"
   },
   {
    "duration": 13,
    "start_time": "2022-06-08T03:16:24.903Z"
   },
   {
    "duration": 31,
    "start_time": "2022-06-08T03:16:24.927Z"
   },
   {
    "duration": 9,
    "start_time": "2022-06-08T03:16:24.959Z"
   },
   {
    "duration": 15,
    "start_time": "2022-06-08T03:16:24.972Z"
   },
   {
    "duration": 74,
    "start_time": "2022-06-08T03:16:24.988Z"
   },
   {
    "duration": 87,
    "start_time": "2022-06-08T03:16:25.063Z"
   },
   {
    "duration": 133,
    "start_time": "2022-06-08T03:16:25.153Z"
   },
   {
    "duration": 48,
    "start_time": "2022-06-08T03:16:25.288Z"
   },
   {
    "duration": 117,
    "start_time": "2022-06-08T03:16:25.344Z"
   },
   {
    "duration": 9,
    "start_time": "2022-06-08T03:16:25.463Z"
   },
   {
    "duration": 9,
    "start_time": "2022-06-08T03:16:25.474Z"
   },
   {
    "duration": 58,
    "start_time": "2022-06-08T03:16:25.485Z"
   },
   {
    "duration": 122,
    "start_time": "2022-06-08T03:16:25.545Z"
   },
   {
    "duration": 9,
    "start_time": "2022-06-08T03:16:25.669Z"
   },
   {
    "duration": 10,
    "start_time": "2022-06-08T03:16:25.730Z"
   },
   {
    "duration": 16,
    "start_time": "2022-06-08T03:16:25.742Z"
   },
   {
    "duration": 11,
    "start_time": "2022-06-08T03:16:25.760Z"
   },
   {
    "duration": 3,
    "start_time": "2022-06-08T03:16:25.773Z"
   },
   {
    "duration": 10,
    "start_time": "2022-06-08T03:16:25.777Z"
   },
   {
    "duration": 57,
    "start_time": "2022-06-08T03:16:25.789Z"
   },
   {
    "duration": 23,
    "start_time": "2022-06-08T03:16:25.849Z"
   },
   {
    "duration": 146,
    "start_time": "2022-06-08T03:16:25.874Z"
   },
   {
    "duration": 0,
    "start_time": "2022-06-08T03:16:26.022Z"
   },
   {
    "duration": 50,
    "start_time": "2022-06-08T03:19:30.511Z"
   },
   {
    "duration": 446,
    "start_time": "2022-06-08T03:21:52.571Z"
   },
   {
    "duration": 296,
    "start_time": "2022-06-08T03:22:02.778Z"
   },
   {
    "duration": 28,
    "start_time": "2022-06-08T03:22:08.902Z"
   },
   {
    "duration": 318,
    "start_time": "2022-06-08T03:23:50.743Z"
   },
   {
    "duration": 257,
    "start_time": "2022-06-08T03:24:05.951Z"
   },
   {
    "duration": 62,
    "start_time": "2022-06-08T03:24:28.948Z"
   },
   {
    "duration": 44,
    "start_time": "2022-06-08T03:24:59.806Z"
   },
   {
    "duration": 50,
    "start_time": "2022-06-08T03:25:58.138Z"
   },
   {
    "duration": 20,
    "start_time": "2022-06-08T03:26:45.996Z"
   },
   {
    "duration": 32,
    "start_time": "2022-06-08T03:27:02.040Z"
   },
   {
    "duration": 3,
    "start_time": "2022-06-08T03:29:03.854Z"
   },
   {
    "duration": 25,
    "start_time": "2022-06-08T03:29:50.315Z"
   },
   {
    "duration": 12,
    "start_time": "2022-06-08T03:30:49.888Z"
   },
   {
    "duration": 12,
    "start_time": "2022-06-08T03:31:24.305Z"
   },
   {
    "duration": 1707,
    "start_time": "2022-06-08T03:31:44.403Z"
   },
   {
    "duration": 18,
    "start_time": "2022-06-08T03:31:46.112Z"
   },
   {
    "duration": 216,
    "start_time": "2022-06-08T03:31:46.131Z"
   },
   {
    "duration": 117,
    "start_time": "2022-06-08T03:31:46.349Z"
   },
   {
    "duration": 21,
    "start_time": "2022-06-08T03:31:46.467Z"
   },
   {
    "duration": 3,
    "start_time": "2022-06-08T03:31:46.490Z"
   },
   {
    "duration": 102,
    "start_time": "2022-06-08T03:31:46.495Z"
   },
   {
    "duration": 6,
    "start_time": "2022-06-08T03:31:46.599Z"
   },
   {
    "duration": 17,
    "start_time": "2022-06-08T03:31:46.606Z"
   },
   {
    "duration": 82,
    "start_time": "2022-06-08T03:31:46.626Z"
   },
   {
    "duration": 35,
    "start_time": "2022-06-08T03:31:46.711Z"
   },
   {
    "duration": 66,
    "start_time": "2022-06-08T03:31:46.748Z"
   },
   {
    "duration": 13,
    "start_time": "2022-06-08T03:31:46.816Z"
   },
   {
    "duration": 53,
    "start_time": "2022-06-08T03:31:46.831Z"
   },
   {
    "duration": 2,
    "start_time": "2022-06-08T03:31:46.890Z"
   },
   {
    "duration": 66,
    "start_time": "2022-06-08T03:31:46.894Z"
   },
   {
    "duration": 122,
    "start_time": "2022-06-08T03:31:46.962Z"
   },
   {
    "duration": 146,
    "start_time": "2022-06-08T03:31:47.086Z"
   },
   {
    "duration": 96,
    "start_time": "2022-06-08T03:31:47.237Z"
   },
   {
    "duration": 25,
    "start_time": "2022-06-08T03:31:47.351Z"
   },
   {
    "duration": 5,
    "start_time": "2022-06-08T03:31:47.378Z"
   },
   {
    "duration": 9,
    "start_time": "2022-06-08T03:31:47.385Z"
   },
   {
    "duration": 37,
    "start_time": "2022-06-08T03:31:47.396Z"
   },
   {
    "duration": 6,
    "start_time": "2022-06-08T03:31:47.442Z"
   },
   {
    "duration": 119,
    "start_time": "2022-06-08T03:31:47.450Z"
   },
   {
    "duration": 5,
    "start_time": "2022-06-08T03:31:47.571Z"
   },
   {
    "duration": 5,
    "start_time": "2022-06-08T03:31:47.577Z"
   },
   {
    "duration": 7,
    "start_time": "2022-06-08T03:31:47.586Z"
   },
   {
    "duration": 3,
    "start_time": "2022-06-08T03:31:47.595Z"
   },
   {
    "duration": 50,
    "start_time": "2022-06-08T03:31:47.600Z"
   },
   {
    "duration": 155,
    "start_time": "2022-06-08T03:31:47.652Z"
   },
   {
    "duration": 0,
    "start_time": "2022-06-08T03:31:47.808Z"
   },
   {
    "duration": 0,
    "start_time": "2022-06-08T03:31:47.811Z"
   },
   {
    "duration": 7,
    "start_time": "2022-06-08T03:33:41.087Z"
   },
   {
    "duration": 16,
    "start_time": "2022-06-08T03:38:38.479Z"
   },
   {
    "duration": 32,
    "start_time": "2022-06-08T03:38:51.023Z"
   },
   {
    "duration": 24,
    "start_time": "2022-06-08T03:39:03.155Z"
   },
   {
    "duration": 10,
    "start_time": "2022-06-08T03:39:54.919Z"
   },
   {
    "duration": 26,
    "start_time": "2022-06-08T03:40:09.177Z"
   },
   {
    "duration": 29,
    "start_time": "2022-06-08T03:40:22.412Z"
   },
   {
    "duration": 32,
    "start_time": "2022-06-08T03:41:00.593Z"
   },
   {
    "duration": 36,
    "start_time": "2022-06-08T03:41:11.946Z"
   },
   {
    "duration": 37,
    "start_time": "2022-06-08T03:41:18.189Z"
   },
   {
    "duration": 18,
    "start_time": "2022-06-08T03:42:41.945Z"
   },
   {
    "duration": 16,
    "start_time": "2022-06-08T03:44:17.348Z"
   },
   {
    "duration": 29,
    "start_time": "2022-06-08T03:44:32.019Z"
   },
   {
    "duration": 16,
    "start_time": "2022-06-08T03:44:53.290Z"
   },
   {
    "duration": 19,
    "start_time": "2022-06-08T03:45:22.145Z"
   },
   {
    "duration": 37,
    "start_time": "2022-06-08T03:45:34.063Z"
   },
   {
    "duration": 24,
    "start_time": "2022-06-08T03:46:33.206Z"
   },
   {
    "duration": 14,
    "start_time": "2022-06-08T03:50:16.773Z"
   },
   {
    "duration": 13,
    "start_time": "2022-06-08T03:50:23.095Z"
   },
   {
    "duration": 13,
    "start_time": "2022-06-08T03:50:33.861Z"
   },
   {
    "duration": 38,
    "start_time": "2022-06-08T03:50:46.305Z"
   },
   {
    "duration": 53,
    "start_time": "2022-06-08T03:51:36.659Z"
   },
   {
    "duration": 32,
    "start_time": "2022-06-08T03:57:47.927Z"
   },
   {
    "duration": 10,
    "start_time": "2022-06-08T04:01:51.954Z"
   },
   {
    "duration": 8,
    "start_time": "2022-06-08T04:02:27.158Z"
   },
   {
    "duration": 18,
    "start_time": "2022-06-08T04:02:55.417Z"
   },
   {
    "duration": 14,
    "start_time": "2022-06-08T04:03:14.897Z"
   },
   {
    "duration": 15,
    "start_time": "2022-06-08T04:03:21.050Z"
   },
   {
    "duration": 8,
    "start_time": "2022-06-08T04:03:27.924Z"
   },
   {
    "duration": 17,
    "start_time": "2022-06-08T04:03:40.282Z"
   },
   {
    "duration": 12,
    "start_time": "2022-06-08T04:03:52.342Z"
   },
   {
    "duration": 24,
    "start_time": "2022-06-08T04:04:28.029Z"
   },
   {
    "duration": 15,
    "start_time": "2022-06-08T04:05:08.499Z"
   },
   {
    "duration": 15,
    "start_time": "2022-06-08T04:05:15.891Z"
   },
   {
    "duration": 32,
    "start_time": "2022-06-08T04:09:34.974Z"
   },
   {
    "duration": 22,
    "start_time": "2022-06-08T04:09:55.619Z"
   },
   {
    "duration": 20,
    "start_time": "2022-06-08T04:12:52.014Z"
   },
   {
    "duration": 10,
    "start_time": "2022-06-08T04:13:40.005Z"
   },
   {
    "duration": 17,
    "start_time": "2022-06-08T04:13:46.891Z"
   },
   {
    "duration": 19,
    "start_time": "2022-06-08T04:14:52.141Z"
   },
   {
    "duration": 16,
    "start_time": "2022-06-08T04:15:03.942Z"
   },
   {
    "duration": 8,
    "start_time": "2022-06-08T04:16:08.869Z"
   },
   {
    "duration": 12,
    "start_time": "2022-06-08T04:23:15.759Z"
   },
   {
    "duration": 6,
    "start_time": "2022-06-08T04:23:41.370Z"
   },
   {
    "duration": 9,
    "start_time": "2022-06-08T04:24:11.145Z"
   },
   {
    "duration": 10,
    "start_time": "2022-06-08T04:24:43.599Z"
   },
   {
    "duration": 13,
    "start_time": "2022-06-08T04:31:37.027Z"
   },
   {
    "duration": 10,
    "start_time": "2022-06-08T04:32:22.802Z"
   },
   {
    "duration": 8,
    "start_time": "2022-06-08T04:32:31.443Z"
   },
   {
    "duration": 12,
    "start_time": "2022-06-08T04:32:38.395Z"
   },
   {
    "duration": 13,
    "start_time": "2022-06-08T04:36:13.188Z"
   },
   {
    "duration": 12,
    "start_time": "2022-06-08T04:36:26.083Z"
   },
   {
    "duration": 11,
    "start_time": "2022-06-08T04:38:30.268Z"
   },
   {
    "duration": 11,
    "start_time": "2022-06-08T04:39:23.972Z"
   },
   {
    "duration": 11,
    "start_time": "2022-06-08T04:39:43.601Z"
   },
   {
    "duration": 14,
    "start_time": "2022-06-08T04:39:48.124Z"
   },
   {
    "duration": 11,
    "start_time": "2022-06-08T04:41:46.783Z"
   },
   {
    "duration": 9,
    "start_time": "2022-06-08T04:42:04.361Z"
   },
   {
    "duration": 8,
    "start_time": "2022-06-08T04:43:13.453Z"
   },
   {
    "duration": 12,
    "start_time": "2022-06-08T04:43:24.487Z"
   },
   {
    "duration": 11,
    "start_time": "2022-06-08T04:46:50.687Z"
   },
   {
    "duration": 14,
    "start_time": "2022-06-08T04:46:55.809Z"
   },
   {
    "duration": 12,
    "start_time": "2022-06-08T04:47:11.665Z"
   },
   {
    "duration": 17,
    "start_time": "2022-06-08T05:24:42.944Z"
   },
   {
    "duration": 21,
    "start_time": "2022-06-08T05:25:08.615Z"
   },
   {
    "duration": 19,
    "start_time": "2022-06-08T05:26:32.412Z"
   },
   {
    "duration": 10,
    "start_time": "2022-06-08T05:27:08.304Z"
   },
   {
    "duration": 14,
    "start_time": "2022-06-08T05:27:36.867Z"
   },
   {
    "duration": 9,
    "start_time": "2022-06-08T05:29:55.704Z"
   },
   {
    "duration": 11,
    "start_time": "2022-06-08T05:30:19.642Z"
   },
   {
    "duration": 11,
    "start_time": "2022-06-08T05:30:31.753Z"
   },
   {
    "duration": 11,
    "start_time": "2022-06-08T05:31:11.096Z"
   },
   {
    "duration": 11,
    "start_time": "2022-06-08T05:31:26.572Z"
   },
   {
    "duration": 9,
    "start_time": "2022-06-08T05:51:19.029Z"
   },
   {
    "duration": 8,
    "start_time": "2022-06-08T05:51:25.230Z"
   },
   {
    "duration": 8,
    "start_time": "2022-06-08T05:53:02.695Z"
   },
   {
    "duration": 35,
    "start_time": "2022-06-08T05:53:13.642Z"
   },
   {
    "duration": 11554,
    "start_time": "2022-06-08T05:53:17.518Z"
   },
   {
    "duration": 11930,
    "start_time": "2022-06-08T05:53:36.700Z"
   },
   {
    "duration": 1580,
    "start_time": "2022-06-08T06:02:41.416Z"
   },
   {
    "duration": 3,
    "start_time": "2022-06-08T06:02:42.998Z"
   },
   {
    "duration": 150,
    "start_time": "2022-06-08T06:02:43.027Z"
   },
   {
    "duration": 122,
    "start_time": "2022-06-08T06:02:43.179Z"
   },
   {
    "duration": 32,
    "start_time": "2022-06-08T06:02:43.303Z"
   },
   {
    "duration": 3,
    "start_time": "2022-06-08T06:02:43.336Z"
   },
   {
    "duration": 86,
    "start_time": "2022-06-08T06:02:43.341Z"
   },
   {
    "duration": 2,
    "start_time": "2022-06-08T06:02:43.429Z"
   },
   {
    "duration": 16,
    "start_time": "2022-06-08T06:02:43.433Z"
   },
   {
    "duration": 36,
    "start_time": "2022-06-08T06:02:43.452Z"
   },
   {
    "duration": 17,
    "start_time": "2022-06-08T06:02:43.491Z"
   },
   {
    "duration": 32,
    "start_time": "2022-06-08T06:02:43.509Z"
   },
   {
    "duration": 26,
    "start_time": "2022-06-08T06:02:43.542Z"
   },
   {
    "duration": 21,
    "start_time": "2022-06-08T06:02:43.570Z"
   },
   {
    "duration": 23,
    "start_time": "2022-06-08T06:02:43.592Z"
   },
   {
    "duration": 115,
    "start_time": "2022-06-08T06:02:43.616Z"
   },
   {
    "duration": 110,
    "start_time": "2022-06-08T06:02:43.734Z"
   },
   {
    "duration": 59,
    "start_time": "2022-06-08T06:02:43.846Z"
   },
   {
    "duration": 13,
    "start_time": "2022-06-08T06:02:43.927Z"
   },
   {
    "duration": 99,
    "start_time": "2022-06-08T06:02:43.942Z"
   },
   {
    "duration": 19,
    "start_time": "2022-06-08T06:02:44.043Z"
   },
   {
    "duration": 27,
    "start_time": "2022-06-08T06:02:44.063Z"
   },
   {
    "duration": 48,
    "start_time": "2022-06-08T06:02:44.092Z"
   },
   {
    "duration": 186,
    "start_time": "2022-06-08T06:02:44.142Z"
   },
   {
    "duration": 15,
    "start_time": "2022-06-08T06:02:44.331Z"
   },
   {
    "duration": 13,
    "start_time": "2022-06-08T06:02:44.348Z"
   },
   {
    "duration": 17,
    "start_time": "2022-06-08T06:02:44.362Z"
   },
   {
    "duration": 8,
    "start_time": "2022-06-08T06:02:44.383Z"
   },
   {
    "duration": 23,
    "start_time": "2022-06-08T06:02:44.393Z"
   },
   {
    "duration": 39,
    "start_time": "2022-06-08T06:02:44.418Z"
   },
   {
    "duration": 18,
    "start_time": "2022-06-08T06:02:44.459Z"
   },
   {
    "duration": 20,
    "start_time": "2022-06-08T06:02:44.479Z"
   },
   {
    "duration": 14,
    "start_time": "2022-06-08T06:02:44.500Z"
   },
   {
    "duration": 119,
    "start_time": "2022-06-08T06:02:44.516Z"
   },
   {
    "duration": 0,
    "start_time": "2022-06-08T06:02:44.637Z"
   },
   {
    "duration": 0,
    "start_time": "2022-06-08T06:02:44.638Z"
   },
   {
    "duration": 5,
    "start_time": "2022-06-08T06:03:57.815Z"
   },
   {
    "duration": 5,
    "start_time": "2022-06-08T06:04:03.189Z"
   },
   {
    "duration": 5,
    "start_time": "2022-06-08T06:04:11.257Z"
   },
   {
    "duration": 10,
    "start_time": "2022-06-08T06:05:20.023Z"
   },
   {
    "duration": 28,
    "start_time": "2022-06-08T06:05:31.956Z"
   },
   {
    "duration": 9,
    "start_time": "2022-06-08T06:06:39.096Z"
   },
   {
    "duration": 30,
    "start_time": "2022-06-08T06:07:27.976Z"
   },
   {
    "duration": 2,
    "start_time": "2022-06-08T06:08:49.975Z"
   },
   {
    "duration": 6,
    "start_time": "2022-06-08T06:09:09.326Z"
   },
   {
    "duration": 6,
    "start_time": "2022-06-08T06:09:33.120Z"
   },
   {
    "duration": 15,
    "start_time": "2022-06-08T06:10:38.111Z"
   },
   {
    "duration": 13,
    "start_time": "2022-06-08T06:10:55.094Z"
   },
   {
    "duration": 11,
    "start_time": "2022-06-08T06:11:53.131Z"
   },
   {
    "duration": 12,
    "start_time": "2022-06-08T06:12:59.261Z"
   },
   {
    "duration": 6,
    "start_time": "2022-06-08T06:13:09.971Z"
   },
   {
    "duration": 36,
    "start_time": "2022-06-08T06:14:49.191Z"
   },
   {
    "duration": 2,
    "start_time": "2022-06-08T06:14:55.767Z"
   },
   {
    "duration": 6,
    "start_time": "2022-06-08T06:15:13.445Z"
   },
   {
    "duration": 360,
    "start_time": "2022-06-08T06:15:33.427Z"
   },
   {
    "duration": 329,
    "start_time": "2022-06-08T06:15:51.690Z"
   },
   {
    "duration": 9,
    "start_time": "2022-06-08T06:15:59.999Z"
   },
   {
    "duration": 10,
    "start_time": "2022-06-08T06:16:33.833Z"
   },
   {
    "duration": 10,
    "start_time": "2022-06-08T06:16:41.463Z"
   },
   {
    "duration": 17,
    "start_time": "2022-06-08T06:16:56.789Z"
   },
   {
    "duration": 16,
    "start_time": "2022-06-08T06:17:26.373Z"
   },
   {
    "duration": 32,
    "start_time": "2022-06-08T06:17:55.544Z"
   },
   {
    "duration": 32,
    "start_time": "2022-06-08T06:18:00.456Z"
   },
   {
    "duration": 33,
    "start_time": "2022-06-08T06:18:12.190Z"
   },
   {
    "duration": 36,
    "start_time": "2022-06-08T06:18:15.279Z"
   },
   {
    "duration": 9,
    "start_time": "2022-06-08T06:18:53.346Z"
   },
   {
    "duration": 35,
    "start_time": "2022-06-08T06:18:56.844Z"
   },
   {
    "duration": 43,
    "start_time": "2022-06-08T06:19:01.598Z"
   },
   {
    "duration": 10,
    "start_time": "2022-06-08T06:19:13.509Z"
   },
   {
    "duration": 34,
    "start_time": "2022-06-08T06:19:50.686Z"
   },
   {
    "duration": 11,
    "start_time": "2022-06-08T06:20:29.173Z"
   },
   {
    "duration": 1578,
    "start_time": "2022-06-08T06:23:13.255Z"
   },
   {
    "duration": 3,
    "start_time": "2022-06-08T06:23:14.835Z"
   },
   {
    "duration": 154,
    "start_time": "2022-06-08T06:23:14.839Z"
   },
   {
    "duration": 95,
    "start_time": "2022-06-08T06:23:14.995Z"
   },
   {
    "duration": 43,
    "start_time": "2022-06-08T06:23:15.092Z"
   },
   {
    "duration": 2,
    "start_time": "2022-06-08T06:23:15.137Z"
   },
   {
    "duration": 40,
    "start_time": "2022-06-08T06:23:15.141Z"
   },
   {
    "duration": 2,
    "start_time": "2022-06-08T06:23:15.182Z"
   },
   {
    "duration": 41,
    "start_time": "2022-06-08T06:23:15.186Z"
   },
   {
    "duration": 19,
    "start_time": "2022-06-08T06:23:15.230Z"
   },
   {
    "duration": 16,
    "start_time": "2022-06-08T06:23:15.250Z"
   },
   {
    "duration": 35,
    "start_time": "2022-06-08T06:23:15.267Z"
   },
   {
    "duration": 7,
    "start_time": "2022-06-08T06:23:15.327Z"
   },
   {
    "duration": 14,
    "start_time": "2022-06-08T06:23:15.335Z"
   },
   {
    "duration": 8,
    "start_time": "2022-06-08T06:23:15.351Z"
   },
   {
    "duration": 74,
    "start_time": "2022-06-08T06:23:15.361Z"
   },
   {
    "duration": 94,
    "start_time": "2022-06-08T06:23:15.437Z"
   },
   {
    "duration": 95,
    "start_time": "2022-06-08T06:23:15.533Z"
   },
   {
    "duration": 100,
    "start_time": "2022-06-08T06:23:15.631Z"
   },
   {
    "duration": 13,
    "start_time": "2022-06-08T06:23:15.733Z"
   },
   {
    "duration": 5,
    "start_time": "2022-06-08T06:23:15.748Z"
   },
   {
    "duration": 7,
    "start_time": "2022-06-08T06:23:15.755Z"
   },
   {
    "duration": 64,
    "start_time": "2022-06-08T06:23:15.764Z"
   },
   {
    "duration": 99,
    "start_time": "2022-06-08T06:23:15.830Z"
   },
   {
    "duration": 10,
    "start_time": "2022-06-08T06:23:15.932Z"
   },
   {
    "duration": 3,
    "start_time": "2022-06-08T06:23:16.027Z"
   },
   {
    "duration": 7,
    "start_time": "2022-06-08T06:23:16.031Z"
   },
   {
    "duration": 8,
    "start_time": "2022-06-08T06:23:16.041Z"
   },
   {
    "duration": 3,
    "start_time": "2022-06-08T06:23:16.050Z"
   },
   {
    "duration": 31,
    "start_time": "2022-06-08T06:23:16.055Z"
   },
   {
    "duration": 47,
    "start_time": "2022-06-08T06:23:16.087Z"
   },
   {
    "duration": 11,
    "start_time": "2022-06-08T06:23:16.136Z"
   },
   {
    "duration": 10,
    "start_time": "2022-06-08T06:23:16.148Z"
   },
   {
    "duration": 27,
    "start_time": "2022-06-08T06:23:16.160Z"
   },
   {
    "duration": 2,
    "start_time": "2022-06-08T06:23:16.188Z"
   },
   {
    "duration": 167,
    "start_time": "2022-06-08T06:23:16.192Z"
   },
   {
    "duration": 0,
    "start_time": "2022-06-08T06:23:16.361Z"
   },
   {
    "duration": 1509,
    "start_time": "2022-06-08T06:24:03.056Z"
   },
   {
    "duration": 19,
    "start_time": "2022-06-08T06:24:23.292Z"
   },
   {
    "duration": 9,
    "start_time": "2022-06-08T06:24:29.030Z"
   },
   {
    "duration": 10,
    "start_time": "2022-06-08T06:24:36.012Z"
   },
   {
    "duration": 217,
    "start_time": "2022-06-08T06:25:18.316Z"
   },
   {
    "duration": 1576,
    "start_time": "2022-06-08T10:02:50.987Z"
   },
   {
    "duration": 2,
    "start_time": "2022-06-08T10:02:52.565Z"
   },
   {
    "duration": 178,
    "start_time": "2022-06-08T10:02:52.569Z"
   },
   {
    "duration": 86,
    "start_time": "2022-06-08T10:02:52.749Z"
   },
   {
    "duration": 17,
    "start_time": "2022-06-08T10:02:52.840Z"
   },
   {
    "duration": 2,
    "start_time": "2022-06-08T10:02:52.859Z"
   },
   {
    "duration": 81,
    "start_time": "2022-06-08T10:02:52.863Z"
   },
   {
    "duration": 8,
    "start_time": "2022-06-08T10:02:52.948Z"
   },
   {
    "duration": 16,
    "start_time": "2022-06-08T10:02:52.958Z"
   },
   {
    "duration": 21,
    "start_time": "2022-06-08T10:02:52.975Z"
   },
   {
    "duration": 44,
    "start_time": "2022-06-08T10:02:52.998Z"
   },
   {
    "duration": 23,
    "start_time": "2022-06-08T10:02:53.043Z"
   },
   {
    "duration": 9,
    "start_time": "2022-06-08T10:02:53.068Z"
   },
   {
    "duration": 17,
    "start_time": "2022-06-08T10:02:53.081Z"
   },
   {
    "duration": 37,
    "start_time": "2022-06-08T10:02:53.100Z"
   },
   {
    "duration": 93,
    "start_time": "2022-06-08T10:02:53.140Z"
   },
   {
    "duration": 98,
    "start_time": "2022-06-08T10:02:53.236Z"
   },
   {
    "duration": 40,
    "start_time": "2022-06-08T10:02:53.335Z"
   },
   {
    "duration": 98,
    "start_time": "2022-06-08T10:02:53.433Z"
   },
   {
    "duration": 50,
    "start_time": "2022-06-08T10:02:53.534Z"
   },
   {
    "duration": 19,
    "start_time": "2022-06-08T10:02:53.586Z"
   },
   {
    "duration": 42,
    "start_time": "2022-06-08T10:02:53.607Z"
   },
   {
    "duration": 77,
    "start_time": "2022-06-08T10:02:53.651Z"
   },
   {
    "duration": 5,
    "start_time": "2022-06-08T10:02:53.742Z"
   },
   {
    "duration": 15,
    "start_time": "2022-06-08T10:02:53.828Z"
   },
   {
    "duration": 14,
    "start_time": "2022-06-08T10:02:53.845Z"
   },
   {
    "duration": 6,
    "start_time": "2022-06-08T10:02:53.860Z"
   },
   {
    "duration": 10,
    "start_time": "2022-06-08T10:02:53.868Z"
   },
   {
    "duration": 11,
    "start_time": "2022-06-08T10:02:53.880Z"
   },
   {
    "duration": 41,
    "start_time": "2022-06-08T10:02:53.893Z"
   },
   {
    "duration": 10,
    "start_time": "2022-06-08T10:02:53.935Z"
   },
   {
    "duration": 18,
    "start_time": "2022-06-08T10:02:53.946Z"
   },
   {
    "duration": 21,
    "start_time": "2022-06-08T10:02:53.966Z"
   },
   {
    "duration": 51,
    "start_time": "2022-06-08T10:02:53.991Z"
   },
   {
    "duration": 3,
    "start_time": "2022-06-08T10:02:54.044Z"
   },
   {
    "duration": 322,
    "start_time": "2022-06-08T10:02:54.048Z"
   },
   {
    "duration": 0,
    "start_time": "2022-06-08T10:02:54.372Z"
   },
   {
    "duration": 14,
    "start_time": "2022-06-08T10:05:32.829Z"
   },
   {
    "duration": 1560,
    "start_time": "2022-06-08T10:05:53.741Z"
   },
   {
    "duration": 2,
    "start_time": "2022-06-08T10:05:55.302Z"
   },
   {
    "duration": 171,
    "start_time": "2022-06-08T10:05:55.306Z"
   },
   {
    "duration": 91,
    "start_time": "2022-06-08T10:05:55.478Z"
   },
   {
    "duration": 12,
    "start_time": "2022-06-08T10:05:55.572Z"
   },
   {
    "duration": 3,
    "start_time": "2022-06-08T10:05:55.586Z"
   },
   {
    "duration": 81,
    "start_time": "2022-06-08T10:05:55.591Z"
   },
   {
    "duration": 3,
    "start_time": "2022-06-08T10:05:55.673Z"
   },
   {
    "duration": 12,
    "start_time": "2022-06-08T10:05:55.678Z"
   },
   {
    "duration": 18,
    "start_time": "2022-06-08T10:05:55.692Z"
   },
   {
    "duration": 23,
    "start_time": "2022-06-08T10:05:55.726Z"
   },
   {
    "duration": 23,
    "start_time": "2022-06-08T10:05:55.751Z"
   },
   {
    "duration": 9,
    "start_time": "2022-06-08T10:05:55.776Z"
   },
   {
    "duration": 49,
    "start_time": "2022-06-08T10:05:55.788Z"
   },
   {
    "duration": 15,
    "start_time": "2022-06-08T10:05:55.841Z"
   },
   {
    "duration": 27,
    "start_time": "2022-06-08T10:05:55.858Z"
   },
   {
    "duration": 106,
    "start_time": "2022-06-08T10:05:55.928Z"
   },
   {
    "duration": 37,
    "start_time": "2022-06-08T10:05:56.036Z"
   },
   {
    "duration": 101,
    "start_time": "2022-06-08T10:05:56.138Z"
   },
   {
    "duration": 26,
    "start_time": "2022-06-08T10:05:56.240Z"
   },
   {
    "duration": 11,
    "start_time": "2022-06-08T10:05:56.267Z"
   },
   {
    "duration": 12,
    "start_time": "2022-06-08T10:05:56.280Z"
   },
   {
    "duration": 49,
    "start_time": "2022-06-08T10:05:56.294Z"
   },
   {
    "duration": 84,
    "start_time": "2022-06-08T10:05:56.345Z"
   },
   {
    "duration": 120,
    "start_time": "2022-06-08T10:05:56.431Z"
   },
   {
    "duration": 8,
    "start_time": "2022-06-08T10:05:56.553Z"
   },
   {
    "duration": 9,
    "start_time": "2022-06-08T10:05:56.563Z"
   },
   {
    "duration": 15,
    "start_time": "2022-06-08T10:05:56.573Z"
   },
   {
    "duration": 11,
    "start_time": "2022-06-08T10:05:56.591Z"
   },
   {
    "duration": 15,
    "start_time": "2022-06-08T10:05:56.604Z"
   },
   {
    "duration": 8,
    "start_time": "2022-06-08T10:05:56.620Z"
   },
   {
    "duration": 27,
    "start_time": "2022-06-08T10:05:56.629Z"
   },
   {
    "duration": 8,
    "start_time": "2022-06-08T10:05:56.657Z"
   },
   {
    "duration": 118,
    "start_time": "2022-06-08T10:05:56.666Z"
   },
   {
    "duration": 0,
    "start_time": "2022-06-08T10:05:56.786Z"
   },
   {
    "duration": 0,
    "start_time": "2022-06-08T10:05:56.787Z"
   },
   {
    "duration": 0,
    "start_time": "2022-06-08T10:05:56.789Z"
   },
   {
    "duration": 11,
    "start_time": "2022-06-08T10:07:15.045Z"
   },
   {
    "duration": 51,
    "start_time": "2022-06-08T10:07:19.188Z"
   },
   {
    "duration": 10,
    "start_time": "2022-06-08T10:07:41.103Z"
   },
   {
    "duration": 9,
    "start_time": "2022-06-08T10:07:42.042Z"
   },
   {
    "duration": 12,
    "start_time": "2022-06-08T10:07:43.076Z"
   },
   {
    "duration": 40,
    "start_time": "2022-06-08T10:07:51.704Z"
   },
   {
    "duration": 60,
    "start_time": "2022-06-08T10:14:11.627Z"
   },
   {
    "duration": 41,
    "start_time": "2022-06-08T10:14:36.049Z"
   },
   {
    "duration": 40,
    "start_time": "2022-06-08T10:39:40.893Z"
   },
   {
    "duration": 40,
    "start_time": "2022-06-08T10:39:52.479Z"
   },
   {
    "duration": 38,
    "start_time": "2022-06-08T10:40:18.066Z"
   },
   {
    "duration": 11,
    "start_time": "2022-06-08T10:40:48.235Z"
   },
   {
    "duration": 19,
    "start_time": "2022-06-08T10:41:31.964Z"
   },
   {
    "duration": 10,
    "start_time": "2022-06-08T10:44:23.912Z"
   },
   {
    "duration": 24,
    "start_time": "2022-06-08T10:45:12.362Z"
   },
   {
    "duration": 19,
    "start_time": "2022-06-08T10:46:54.020Z"
   },
   {
    "duration": 14,
    "start_time": "2022-06-08T10:47:47.294Z"
   },
   {
    "duration": 30,
    "start_time": "2022-06-08T10:47:52.641Z"
   },
   {
    "duration": 13,
    "start_time": "2022-06-08T10:47:55.511Z"
   },
   {
    "duration": 12,
    "start_time": "2022-06-08T10:48:01.686Z"
   },
   {
    "duration": 6,
    "start_time": "2022-06-08T10:48:49.730Z"
   },
   {
    "duration": 41,
    "start_time": "2022-06-08T10:49:35.480Z"
   },
   {
    "duration": 73,
    "start_time": "2022-06-08T10:50:38.285Z"
   },
   {
    "duration": 71,
    "start_time": "2022-06-08T10:50:42.874Z"
   },
   {
    "duration": 64,
    "start_time": "2022-06-08T10:50:47.535Z"
   },
   {
    "duration": 14,
    "start_time": "2022-06-08T10:51:00.546Z"
   },
   {
    "duration": 7,
    "start_time": "2022-06-08T10:51:17.644Z"
   },
   {
    "duration": 76,
    "start_time": "2022-06-08T10:51:20.475Z"
   },
   {
    "duration": 65,
    "start_time": "2022-06-08T10:51:23.545Z"
   },
   {
    "duration": 12,
    "start_time": "2022-06-08T10:53:19.965Z"
   },
   {
    "duration": 11,
    "start_time": "2022-06-08T10:53:26.803Z"
   },
   {
    "duration": 11,
    "start_time": "2022-06-08T10:54:11.372Z"
   },
   {
    "duration": 40,
    "start_time": "2022-06-08T10:55:01.600Z"
   },
   {
    "duration": 15,
    "start_time": "2022-06-08T10:55:39.694Z"
   },
   {
    "duration": 22,
    "start_time": "2022-06-08T10:55:46.255Z"
   },
   {
    "duration": 26,
    "start_time": "2022-06-08T10:59:32.967Z"
   },
   {
    "duration": 18,
    "start_time": "2022-06-08T11:00:17.668Z"
   },
   {
    "duration": 13,
    "start_time": "2022-06-08T11:00:28.499Z"
   },
   {
    "duration": 16,
    "start_time": "2022-06-08T11:00:48.883Z"
   },
   {
    "duration": 13,
    "start_time": "2022-06-08T11:01:10.123Z"
   },
   {
    "duration": 12,
    "start_time": "2022-06-08T11:01:22.082Z"
   },
   {
    "duration": 14,
    "start_time": "2022-06-08T11:01:43.866Z"
   },
   {
    "duration": 19,
    "start_time": "2022-06-08T11:02:13.014Z"
   },
   {
    "duration": 15,
    "start_time": "2022-06-08T11:02:20.598Z"
   },
   {
    "duration": 22,
    "start_time": "2022-06-08T11:03:00.129Z"
   },
   {
    "duration": 14,
    "start_time": "2022-06-08T11:04:28.930Z"
   },
   {
    "duration": 9,
    "start_time": "2022-06-08T11:04:47.526Z"
   },
   {
    "duration": 61,
    "start_time": "2022-06-08T11:05:02.391Z"
   },
   {
    "duration": 43,
    "start_time": "2022-06-08T11:05:10.536Z"
   },
   {
    "duration": 12,
    "start_time": "2022-06-08T11:05:22.610Z"
   },
   {
    "duration": 9,
    "start_time": "2022-06-08T11:05:25.183Z"
   },
   {
    "duration": 44,
    "start_time": "2022-06-08T11:05:28.971Z"
   },
   {
    "duration": 25,
    "start_time": "2022-06-08T11:06:25.976Z"
   },
   {
    "duration": 24,
    "start_time": "2022-06-08T11:07:22.318Z"
   },
   {
    "duration": 32,
    "start_time": "2022-06-08T11:07:31.774Z"
   },
   {
    "duration": 43,
    "start_time": "2022-06-08T11:08:08.741Z"
   },
   {
    "duration": 58,
    "start_time": "2022-06-08T11:08:41.090Z"
   },
   {
    "duration": 1550,
    "start_time": "2022-06-08T11:09:23.290Z"
   },
   {
    "duration": 6,
    "start_time": "2022-06-08T11:09:24.843Z"
   },
   {
    "duration": 193,
    "start_time": "2022-06-08T11:09:24.851Z"
   },
   {
    "duration": 89,
    "start_time": "2022-06-08T11:09:25.046Z"
   },
   {
    "duration": 13,
    "start_time": "2022-06-08T11:09:25.138Z"
   },
   {
    "duration": 20,
    "start_time": "2022-06-08T11:09:25.152Z"
   },
   {
    "duration": 70,
    "start_time": "2022-06-08T11:09:25.176Z"
   },
   {
    "duration": 2,
    "start_time": "2022-06-08T11:09:25.248Z"
   },
   {
    "duration": 35,
    "start_time": "2022-06-08T11:09:25.252Z"
   },
   {
    "duration": 26,
    "start_time": "2022-06-08T11:09:25.289Z"
   },
   {
    "duration": 30,
    "start_time": "2022-06-08T11:09:25.316Z"
   },
   {
    "duration": 31,
    "start_time": "2022-06-08T11:09:25.348Z"
   },
   {
    "duration": 27,
    "start_time": "2022-06-08T11:09:25.381Z"
   },
   {
    "duration": 44,
    "start_time": "2022-06-08T11:09:25.411Z"
   },
   {
    "duration": 22,
    "start_time": "2022-06-08T11:09:25.457Z"
   },
   {
    "duration": 46,
    "start_time": "2022-06-08T11:09:25.480Z"
   },
   {
    "duration": 212,
    "start_time": "2022-06-08T11:09:25.528Z"
   },
   {
    "duration": 29,
    "start_time": "2022-06-08T11:09:25.742Z"
   },
   {
    "duration": 98,
    "start_time": "2022-06-08T11:09:25.829Z"
   },
   {
    "duration": 16,
    "start_time": "2022-06-08T11:09:25.929Z"
   },
   {
    "duration": 5,
    "start_time": "2022-06-08T11:09:25.947Z"
   },
   {
    "duration": 13,
    "start_time": "2022-06-08T11:09:25.954Z"
   },
   {
    "duration": 59,
    "start_time": "2022-06-08T11:09:25.969Z"
   },
   {
    "duration": 3,
    "start_time": "2022-06-08T11:09:26.031Z"
   },
   {
    "duration": 94,
    "start_time": "2022-06-08T11:09:26.036Z"
   },
   {
    "duration": 11,
    "start_time": "2022-06-08T11:09:26.132Z"
   },
   {
    "duration": 6,
    "start_time": "2022-06-08T11:09:26.144Z"
   },
   {
    "duration": 12,
    "start_time": "2022-06-08T11:09:26.151Z"
   },
   {
    "duration": 14,
    "start_time": "2022-06-08T11:09:26.164Z"
   },
   {
    "duration": 26,
    "start_time": "2022-06-08T11:09:26.180Z"
   },
   {
    "duration": 39,
    "start_time": "2022-06-08T11:09:26.209Z"
   },
   {
    "duration": 53,
    "start_time": "2022-06-08T11:09:26.250Z"
   },
   {
    "duration": 40,
    "start_time": "2022-06-08T11:09:26.305Z"
   },
   {
    "duration": 20,
    "start_time": "2022-06-08T11:09:26.347Z"
   },
   {
    "duration": 341,
    "start_time": "2022-06-08T11:09:26.369Z"
   },
   {
    "duration": 0,
    "start_time": "2022-06-08T11:09:26.711Z"
   },
   {
    "duration": 50,
    "start_time": "2022-06-08T11:10:55.317Z"
   },
   {
    "duration": 34,
    "start_time": "2022-06-08T11:11:02.339Z"
   },
   {
    "duration": 53,
    "start_time": "2022-06-08T11:11:18.497Z"
   },
   {
    "duration": 37,
    "start_time": "2022-06-08T11:11:22.215Z"
   },
   {
    "duration": 50,
    "start_time": "2022-06-08T11:11:46.738Z"
   },
   {
    "duration": 24,
    "start_time": "2022-06-08T11:11:48.766Z"
   },
   {
    "duration": 42,
    "start_time": "2022-06-08T11:12:39.678Z"
   },
   {
    "duration": 6,
    "start_time": "2022-06-08T11:19:48.743Z"
   },
   {
    "duration": 6,
    "start_time": "2022-06-08T11:19:58.686Z"
   },
   {
    "duration": 10,
    "start_time": "2022-06-08T11:20:04.076Z"
   },
   {
    "duration": 10,
    "start_time": "2022-06-08T11:21:12.098Z"
   },
   {
    "duration": 19,
    "start_time": "2022-06-08T11:23:42.566Z"
   },
   {
    "duration": 1593,
    "start_time": "2022-06-08T11:24:31.726Z"
   },
   {
    "duration": 12,
    "start_time": "2022-06-08T11:24:33.320Z"
   },
   {
    "duration": 167,
    "start_time": "2022-06-08T11:24:33.334Z"
   },
   {
    "duration": 91,
    "start_time": "2022-06-08T11:24:33.503Z"
   },
   {
    "duration": 47,
    "start_time": "2022-06-08T11:24:33.596Z"
   },
   {
    "duration": 2,
    "start_time": "2022-06-08T11:24:33.645Z"
   },
   {
    "duration": 538,
    "start_time": "2022-06-08T11:24:33.649Z"
   },
   {
    "duration": 3,
    "start_time": "2022-06-08T11:24:34.188Z"
   },
   {
    "duration": 30,
    "start_time": "2022-06-08T11:24:34.192Z"
   },
   {
    "duration": 21,
    "start_time": "2022-06-08T11:24:34.228Z"
   },
   {
    "duration": 27,
    "start_time": "2022-06-08T11:24:34.251Z"
   },
   {
    "duration": 10,
    "start_time": "2022-06-08T11:24:34.280Z"
   },
   {
    "duration": 57,
    "start_time": "2022-06-08T11:24:34.292Z"
   },
   {
    "duration": 2,
    "start_time": "2022-06-08T11:24:34.351Z"
   },
   {
    "duration": 154,
    "start_time": "2022-06-08T11:24:34.355Z"
   },
   {
    "duration": 0,
    "start_time": "2022-06-08T11:24:34.511Z"
   },
   {
    "duration": 0,
    "start_time": "2022-06-08T11:24:34.512Z"
   },
   {
    "duration": 0,
    "start_time": "2022-06-08T11:24:34.513Z"
   },
   {
    "duration": 0,
    "start_time": "2022-06-08T11:24:34.514Z"
   },
   {
    "duration": 0,
    "start_time": "2022-06-08T11:24:34.515Z"
   },
   {
    "duration": 0,
    "start_time": "2022-06-08T11:24:34.516Z"
   },
   {
    "duration": 0,
    "start_time": "2022-06-08T11:24:34.527Z"
   },
   {
    "duration": 0,
    "start_time": "2022-06-08T11:24:34.527Z"
   },
   {
    "duration": 0,
    "start_time": "2022-06-08T11:24:34.537Z"
   },
   {
    "duration": 0,
    "start_time": "2022-06-08T11:24:34.538Z"
   },
   {
    "duration": 0,
    "start_time": "2022-06-08T11:24:34.539Z"
   },
   {
    "duration": 0,
    "start_time": "2022-06-08T11:24:34.540Z"
   },
   {
    "duration": 0,
    "start_time": "2022-06-08T11:24:34.541Z"
   },
   {
    "duration": 0,
    "start_time": "2022-06-08T11:24:34.542Z"
   },
   {
    "duration": 0,
    "start_time": "2022-06-08T11:24:34.543Z"
   },
   {
    "duration": 0,
    "start_time": "2022-06-08T11:24:34.545Z"
   },
   {
    "duration": 0,
    "start_time": "2022-06-08T11:24:34.546Z"
   },
   {
    "duration": 0,
    "start_time": "2022-06-08T11:24:34.547Z"
   },
   {
    "duration": 0,
    "start_time": "2022-06-08T11:24:34.548Z"
   },
   {
    "duration": 0,
    "start_time": "2022-06-08T11:24:34.550Z"
   },
   {
    "duration": 0,
    "start_time": "2022-06-08T11:24:34.551Z"
   },
   {
    "duration": 16,
    "start_time": "2022-06-08T11:25:40.854Z"
   },
   {
    "duration": 1695,
    "start_time": "2022-06-08T11:27:13.479Z"
   },
   {
    "duration": 3,
    "start_time": "2022-06-08T11:27:15.176Z"
   },
   {
    "duration": 191,
    "start_time": "2022-06-08T11:27:15.180Z"
   },
   {
    "duration": 96,
    "start_time": "2022-06-08T11:27:15.373Z"
   },
   {
    "duration": 16,
    "start_time": "2022-06-08T11:27:15.471Z"
   },
   {
    "duration": 3,
    "start_time": "2022-06-08T11:27:15.488Z"
   },
   {
    "duration": 589,
    "start_time": "2022-06-08T11:27:15.492Z"
   },
   {
    "duration": 4,
    "start_time": "2022-06-08T11:27:16.083Z"
   },
   {
    "duration": 28,
    "start_time": "2022-06-08T11:27:16.088Z"
   },
   {
    "duration": 4,
    "start_time": "2022-06-08T11:27:16.128Z"
   },
   {
    "duration": 54,
    "start_time": "2022-06-08T11:27:16.135Z"
   },
   {
    "duration": 12,
    "start_time": "2022-06-08T11:27:16.191Z"
   },
   {
    "duration": 17,
    "start_time": "2022-06-08T11:27:16.205Z"
   },
   {
    "duration": 37,
    "start_time": "2022-06-08T11:27:16.227Z"
   },
   {
    "duration": 4,
    "start_time": "2022-06-08T11:27:16.266Z"
   },
   {
    "duration": 157,
    "start_time": "2022-06-08T11:27:16.272Z"
   },
   {
    "duration": 31,
    "start_time": "2022-06-08T11:27:16.432Z"
   },
   {
    "duration": 66,
    "start_time": "2022-06-08T11:27:16.465Z"
   },
   {
    "duration": 137,
    "start_time": "2022-06-08T11:27:16.533Z"
   },
   {
    "duration": 70,
    "start_time": "2022-06-08T11:27:16.671Z"
   },
   {
    "duration": 4,
    "start_time": "2022-06-08T11:27:16.743Z"
   },
   {
    "duration": 17,
    "start_time": "2022-06-08T11:27:16.749Z"
   },
   {
    "duration": 8,
    "start_time": "2022-06-08T11:27:16.768Z"
   },
   {
    "duration": 101,
    "start_time": "2022-06-08T11:27:16.832Z"
   },
   {
    "duration": 16,
    "start_time": "2022-06-08T11:27:16.934Z"
   },
   {
    "duration": 8,
    "start_time": "2022-06-08T11:27:16.952Z"
   },
   {
    "duration": 7,
    "start_time": "2022-06-08T11:27:16.961Z"
   },
   {
    "duration": 10,
    "start_time": "2022-06-08T11:27:16.971Z"
   },
   {
    "duration": 3,
    "start_time": "2022-06-08T11:27:16.983Z"
   },
   {
    "duration": 17,
    "start_time": "2022-06-08T11:27:16.988Z"
   },
   {
    "duration": 136,
    "start_time": "2022-06-08T11:27:17.006Z"
   },
   {
    "duration": 0,
    "start_time": "2022-06-08T11:27:17.144Z"
   },
   {
    "duration": 0,
    "start_time": "2022-06-08T11:27:17.145Z"
   },
   {
    "duration": 0,
    "start_time": "2022-06-08T11:27:17.147Z"
   },
   {
    "duration": 0,
    "start_time": "2022-06-08T11:27:17.149Z"
   },
   {
    "duration": 0,
    "start_time": "2022-06-08T11:27:17.150Z"
   },
   {
    "duration": 0,
    "start_time": "2022-06-08T11:27:17.152Z"
   },
   {
    "duration": 3,
    "start_time": "2022-06-08T11:28:12.428Z"
   },
   {
    "duration": 5,
    "start_time": "2022-06-08T11:28:26.724Z"
   },
   {
    "duration": 11,
    "start_time": "2022-06-08T11:54:22.975Z"
   },
   {
    "duration": 33,
    "start_time": "2022-06-08T11:54:28.994Z"
   },
   {
    "duration": 10,
    "start_time": "2022-06-08T11:54:32.462Z"
   },
   {
    "duration": 9,
    "start_time": "2022-06-08T11:54:50.889Z"
   },
   {
    "duration": 10,
    "start_time": "2022-06-08T11:54:58.547Z"
   },
   {
    "duration": 13,
    "start_time": "2022-06-08T11:55:01.465Z"
   },
   {
    "duration": 5,
    "start_time": "2022-06-08T11:55:06.985Z"
   },
   {
    "duration": 7,
    "start_time": "2022-06-08T11:55:07.595Z"
   },
   {
    "duration": 12,
    "start_time": "2022-06-08T11:55:09.841Z"
   },
   {
    "duration": 17,
    "start_time": "2022-06-08T11:59:04.765Z"
   },
   {
    "duration": 2,
    "start_time": "2022-06-08T11:59:42.403Z"
   },
   {
    "duration": 1597,
    "start_time": "2022-06-08T11:59:48.251Z"
   },
   {
    "duration": 2,
    "start_time": "2022-06-08T11:59:49.850Z"
   },
   {
    "duration": 190,
    "start_time": "2022-06-08T11:59:49.854Z"
   },
   {
    "duration": 83,
    "start_time": "2022-06-08T11:59:50.047Z"
   },
   {
    "duration": 4,
    "start_time": "2022-06-08T11:59:50.135Z"
   },
   {
    "duration": 8,
    "start_time": "2022-06-08T11:59:50.141Z"
   },
   {
    "duration": 495,
    "start_time": "2022-06-08T11:59:50.150Z"
   },
   {
    "duration": 2,
    "start_time": "2022-06-08T11:59:50.647Z"
   },
   {
    "duration": 22,
    "start_time": "2022-06-08T11:59:50.651Z"
   },
   {
    "duration": 2,
    "start_time": "2022-06-08T11:59:50.675Z"
   },
   {
    "duration": 65,
    "start_time": "2022-06-08T11:59:50.679Z"
   },
   {
    "duration": 11,
    "start_time": "2022-06-08T11:59:50.746Z"
   },
   {
    "duration": 13,
    "start_time": "2022-06-08T11:59:50.759Z"
   },
   {
    "duration": 16,
    "start_time": "2022-06-08T11:59:50.773Z"
   },
   {
    "duration": 3,
    "start_time": "2022-06-08T11:59:50.790Z"
   },
   {
    "duration": 12,
    "start_time": "2022-06-08T11:59:50.795Z"
   },
   {
    "duration": 23,
    "start_time": "2022-06-08T11:59:50.808Z"
   },
   {
    "duration": 49,
    "start_time": "2022-06-08T11:59:50.834Z"
   },
   {
    "duration": 149,
    "start_time": "2022-06-08T11:59:50.888Z"
   },
   {
    "duration": 9,
    "start_time": "2022-06-08T11:59:51.044Z"
   },
   {
    "duration": 5,
    "start_time": "2022-06-08T11:59:51.055Z"
   },
   {
    "duration": 22,
    "start_time": "2022-06-08T11:59:51.061Z"
   },
   {
    "duration": 59,
    "start_time": "2022-06-08T11:59:51.084Z"
   },
   {
    "duration": 5,
    "start_time": "2022-06-08T11:59:51.145Z"
   },
   {
    "duration": 117,
    "start_time": "2022-06-08T11:59:51.230Z"
   },
   {
    "duration": 6,
    "start_time": "2022-06-08T11:59:51.348Z"
   },
   {
    "duration": 7,
    "start_time": "2022-06-08T11:59:51.356Z"
   },
   {
    "duration": 13,
    "start_time": "2022-06-08T11:59:51.367Z"
   },
   {
    "duration": 8,
    "start_time": "2022-06-08T11:59:51.381Z"
   },
   {
    "duration": 15,
    "start_time": "2022-06-08T11:59:51.390Z"
   },
   {
    "duration": 119,
    "start_time": "2022-06-08T11:59:51.407Z"
   },
   {
    "duration": 0,
    "start_time": "2022-06-08T11:59:51.534Z"
   },
   {
    "duration": 1,
    "start_time": "2022-06-08T11:59:51.534Z"
   },
   {
    "duration": 0,
    "start_time": "2022-06-08T11:59:51.535Z"
   },
   {
    "duration": 0,
    "start_time": "2022-06-08T11:59:51.536Z"
   },
   {
    "duration": 0,
    "start_time": "2022-06-08T11:59:51.539Z"
   },
   {
    "duration": 0,
    "start_time": "2022-06-08T11:59:51.540Z"
   },
   {
    "duration": 10,
    "start_time": "2022-06-08T12:00:24.150Z"
   },
   {
    "duration": 3,
    "start_time": "2022-06-08T12:01:26.420Z"
   },
   {
    "duration": 8,
    "start_time": "2022-06-08T12:01:28.992Z"
   },
   {
    "duration": 1578,
    "start_time": "2022-06-08T12:01:37.794Z"
   },
   {
    "duration": 2,
    "start_time": "2022-06-08T12:01:39.374Z"
   },
   {
    "duration": 185,
    "start_time": "2022-06-08T12:01:39.377Z"
   },
   {
    "duration": 92,
    "start_time": "2022-06-08T12:01:39.565Z"
   },
   {
    "duration": 2,
    "start_time": "2022-06-08T12:01:39.659Z"
   },
   {
    "duration": 7,
    "start_time": "2022-06-08T12:01:39.662Z"
   },
   {
    "duration": 581,
    "start_time": "2022-06-08T12:01:39.671Z"
   },
   {
    "duration": 2,
    "start_time": "2022-06-08T12:01:40.254Z"
   },
   {
    "duration": 22,
    "start_time": "2022-06-08T12:01:40.258Z"
   },
   {
    "duration": 3,
    "start_time": "2022-06-08T12:01:40.282Z"
   },
   {
    "duration": 62,
    "start_time": "2022-06-08T12:01:40.286Z"
   },
   {
    "duration": 14,
    "start_time": "2022-06-08T12:01:40.350Z"
   },
   {
    "duration": 12,
    "start_time": "2022-06-08T12:01:40.366Z"
   },
   {
    "duration": 18,
    "start_time": "2022-06-08T12:01:40.379Z"
   },
   {
    "duration": 3,
    "start_time": "2022-06-08T12:01:40.399Z"
   },
   {
    "duration": 38,
    "start_time": "2022-06-08T12:01:40.404Z"
   },
   {
    "duration": 8,
    "start_time": "2022-06-08T12:01:40.443Z"
   },
   {
    "duration": 79,
    "start_time": "2022-06-08T12:01:40.453Z"
   },
   {
    "duration": 99,
    "start_time": "2022-06-08T12:01:40.533Z"
   },
   {
    "duration": 38,
    "start_time": "2022-06-08T12:01:40.635Z"
   },
   {
    "duration": 14,
    "start_time": "2022-06-08T12:01:40.675Z"
   },
   {
    "duration": 25,
    "start_time": "2022-06-08T12:01:40.690Z"
   },
   {
    "duration": 63,
    "start_time": "2022-06-08T12:01:40.716Z"
   },
   {
    "duration": 168,
    "start_time": "2022-06-08T12:01:40.781Z"
   },
   {
    "duration": 8,
    "start_time": "2022-06-08T12:01:40.950Z"
   },
   {
    "duration": 4,
    "start_time": "2022-06-08T12:01:40.959Z"
   },
   {
    "duration": 7,
    "start_time": "2022-06-08T12:01:40.965Z"
   },
   {
    "duration": 7,
    "start_time": "2022-06-08T12:01:40.974Z"
   },
   {
    "duration": 8,
    "start_time": "2022-06-08T12:01:40.983Z"
   },
   {
    "duration": 8,
    "start_time": "2022-06-08T12:01:40.992Z"
   },
   {
    "duration": 10,
    "start_time": "2022-06-08T12:01:41.002Z"
   },
   {
    "duration": 19,
    "start_time": "2022-06-08T12:01:41.013Z"
   },
   {
    "duration": 18,
    "start_time": "2022-06-08T12:01:41.034Z"
   },
   {
    "duration": 118,
    "start_time": "2022-06-08T12:01:41.056Z"
   },
   {
    "duration": 0,
    "start_time": "2022-06-08T12:01:41.176Z"
   },
   {
    "duration": 0,
    "start_time": "2022-06-08T12:01:41.177Z"
   },
   {
    "duration": 0,
    "start_time": "2022-06-08T12:01:41.178Z"
   },
   {
    "duration": 0,
    "start_time": "2022-06-08T12:01:41.179Z"
   },
   {
    "duration": 16,
    "start_time": "2022-06-08T12:02:25.816Z"
   },
   {
    "duration": 2,
    "start_time": "2022-06-08T12:02:30.254Z"
   },
   {
    "duration": 9,
    "start_time": "2022-06-08T12:02:32.499Z"
   },
   {
    "duration": 24,
    "start_time": "2022-06-08T12:06:04.124Z"
   },
   {
    "duration": 13,
    "start_time": "2022-06-08T12:07:34.174Z"
   },
   {
    "duration": 16,
    "start_time": "2022-06-08T12:07:50.190Z"
   },
   {
    "duration": 5,
    "start_time": "2022-06-08T12:08:13.899Z"
   },
   {
    "duration": 9,
    "start_time": "2022-06-08T12:08:45.344Z"
   },
   {
    "duration": 23,
    "start_time": "2022-06-08T12:09:15.019Z"
   },
   {
    "duration": 15,
    "start_time": "2022-06-08T12:09:22.591Z"
   },
   {
    "duration": 34,
    "start_time": "2022-06-08T12:09:27.951Z"
   },
   {
    "duration": 8,
    "start_time": "2022-06-08T12:09:30.392Z"
   },
   {
    "duration": 11,
    "start_time": "2022-06-08T12:09:36.302Z"
   },
   {
    "duration": 28,
    "start_time": "2022-06-08T12:09:40.974Z"
   },
   {
    "duration": 4,
    "start_time": "2022-06-08T12:09:42.891Z"
   },
   {
    "duration": 26,
    "start_time": "2022-06-08T12:10:18.319Z"
   },
   {
    "duration": 14,
    "start_time": "2022-06-08T12:10:34.547Z"
   },
   {
    "duration": 24,
    "start_time": "2022-06-08T12:18:15.126Z"
   },
   {
    "duration": 1666,
    "start_time": "2022-06-08T12:18:35.379Z"
   },
   {
    "duration": 3,
    "start_time": "2022-06-08T12:18:37.047Z"
   },
   {
    "duration": 149,
    "start_time": "2022-06-08T12:18:37.051Z"
   },
   {
    "duration": 100,
    "start_time": "2022-06-08T12:18:37.226Z"
   },
   {
    "duration": 8,
    "start_time": "2022-06-08T12:18:37.331Z"
   },
   {
    "duration": 5,
    "start_time": "2022-06-08T12:18:37.344Z"
   },
   {
    "duration": 507,
    "start_time": "2022-06-08T12:18:37.350Z"
   },
   {
    "duration": 3,
    "start_time": "2022-06-08T12:18:37.859Z"
   },
   {
    "duration": 21,
    "start_time": "2022-06-08T12:18:37.864Z"
   },
   {
    "duration": 3,
    "start_time": "2022-06-08T12:18:37.888Z"
   },
   {
    "duration": 79,
    "start_time": "2022-06-08T12:18:37.893Z"
   },
   {
    "duration": 10,
    "start_time": "2022-06-08T12:18:37.974Z"
   },
   {
    "duration": 11,
    "start_time": "2022-06-08T12:18:37.985Z"
   },
   {
    "duration": 36,
    "start_time": "2022-06-08T12:18:37.998Z"
   },
   {
    "duration": 10,
    "start_time": "2022-06-08T12:18:38.036Z"
   },
   {
    "duration": 8,
    "start_time": "2022-06-08T12:18:38.048Z"
   },
   {
    "duration": 6,
    "start_time": "2022-06-08T12:18:38.058Z"
   },
   {
    "duration": 33,
    "start_time": "2022-06-08T12:18:38.066Z"
   },
   {
    "duration": 51,
    "start_time": "2022-06-08T12:18:38.101Z"
   },
   {
    "duration": 80,
    "start_time": "2022-06-08T12:18:38.154Z"
   },
   {
    "duration": 23,
    "start_time": "2022-06-08T12:18:38.238Z"
   },
   {
    "duration": 27,
    "start_time": "2022-06-08T12:18:38.328Z"
   },
   {
    "duration": 15,
    "start_time": "2022-06-08T12:18:38.357Z"
   },
   {
    "duration": 24,
    "start_time": "2022-06-08T12:18:38.374Z"
   },
   {
    "duration": 55,
    "start_time": "2022-06-08T12:18:38.400Z"
   },
   {
    "duration": 110,
    "start_time": "2022-06-08T12:18:38.527Z"
   },
   {
    "duration": 16,
    "start_time": "2022-06-08T12:18:38.639Z"
   },
   {
    "duration": 5,
    "start_time": "2022-06-08T12:18:38.658Z"
   },
   {
    "duration": 10,
    "start_time": "2022-06-08T12:18:38.665Z"
   },
   {
    "duration": 4,
    "start_time": "2022-06-08T12:18:38.677Z"
   },
   {
    "duration": 7,
    "start_time": "2022-06-08T12:18:38.683Z"
   },
   {
    "duration": 10,
    "start_time": "2022-06-08T12:18:38.691Z"
   },
   {
    "duration": 31,
    "start_time": "2022-06-08T12:18:38.703Z"
   },
   {
    "duration": 3,
    "start_time": "2022-06-08T12:18:38.740Z"
   },
   {
    "duration": 5,
    "start_time": "2022-06-08T12:18:38.745Z"
   },
   {
    "duration": 112,
    "start_time": "2022-06-08T12:18:38.751Z"
   },
   {
    "duration": 0,
    "start_time": "2022-06-08T12:18:38.864Z"
   },
   {
    "duration": 0,
    "start_time": "2022-06-08T12:18:38.865Z"
   },
   {
    "duration": 0,
    "start_time": "2022-06-08T12:18:38.867Z"
   },
   {
    "duration": 8,
    "start_time": "2022-06-08T12:19:33.430Z"
   },
   {
    "duration": 10,
    "start_time": "2022-06-08T12:20:35.409Z"
   },
   {
    "duration": 524,
    "start_time": "2022-06-08T12:22:33.435Z"
   },
   {
    "duration": 33,
    "start_time": "2022-06-08T12:22:37.181Z"
   },
   {
    "duration": 1644,
    "start_time": "2022-06-08T12:23:00.463Z"
   },
   {
    "duration": 3,
    "start_time": "2022-06-08T12:23:02.131Z"
   },
   {
    "duration": 157,
    "start_time": "2022-06-08T12:23:02.135Z"
   },
   {
    "duration": 106,
    "start_time": "2022-06-08T12:23:02.294Z"
   },
   {
    "duration": 3,
    "start_time": "2022-06-08T12:23:02.402Z"
   },
   {
    "duration": 518,
    "start_time": "2022-06-08T12:23:02.406Z"
   },
   {
    "duration": 43,
    "start_time": "2022-06-08T12:23:02.925Z"
   },
   {
    "duration": 2,
    "start_time": "2022-06-08T12:23:02.970Z"
   },
   {
    "duration": 15,
    "start_time": "2022-06-08T12:23:02.974Z"
   },
   {
    "duration": 3,
    "start_time": "2022-06-08T12:23:02.990Z"
   },
   {
    "duration": 57,
    "start_time": "2022-06-08T12:23:02.994Z"
   },
   {
    "duration": 14,
    "start_time": "2022-06-08T12:23:03.053Z"
   },
   {
    "duration": 12,
    "start_time": "2022-06-08T12:23:03.069Z"
   },
   {
    "duration": 50,
    "start_time": "2022-06-08T12:23:03.085Z"
   },
   {
    "duration": 13,
    "start_time": "2022-06-08T12:23:03.138Z"
   },
   {
    "duration": 6,
    "start_time": "2022-06-08T12:23:03.152Z"
   },
   {
    "duration": 16,
    "start_time": "2022-06-08T12:23:03.159Z"
   },
   {
    "duration": 28,
    "start_time": "2022-06-08T12:23:03.176Z"
   },
   {
    "duration": 223,
    "start_time": "2022-06-08T12:23:03.206Z"
   },
   {
    "duration": 6,
    "start_time": "2022-06-08T12:23:03.433Z"
   },
   {
    "duration": 121,
    "start_time": "2022-06-08T12:23:03.440Z"
   },
   {
    "duration": 12,
    "start_time": "2022-06-08T12:23:03.563Z"
   },
   {
    "duration": 5,
    "start_time": "2022-06-08T12:23:03.577Z"
   },
   {
    "duration": 11,
    "start_time": "2022-06-08T12:23:03.583Z"
   },
   {
    "duration": 58,
    "start_time": "2022-06-08T12:23:03.595Z"
   },
   {
    "duration": 7,
    "start_time": "2022-06-08T12:23:03.733Z"
   },
   {
    "duration": 96,
    "start_time": "2022-06-08T12:23:03.744Z"
   },
   {
    "duration": 8,
    "start_time": "2022-06-08T12:23:03.842Z"
   },
   {
    "duration": 9,
    "start_time": "2022-06-08T12:23:03.852Z"
   },
   {
    "duration": 8,
    "start_time": "2022-06-08T12:23:03.862Z"
   },
   {
    "duration": 114,
    "start_time": "2022-06-08T12:23:03.872Z"
   },
   {
    "duration": 0,
    "start_time": "2022-06-08T12:23:03.988Z"
   },
   {
    "duration": 0,
    "start_time": "2022-06-08T12:23:03.989Z"
   },
   {
    "duration": 0,
    "start_time": "2022-06-08T12:23:03.990Z"
   },
   {
    "duration": 0,
    "start_time": "2022-06-08T12:23:03.991Z"
   },
   {
    "duration": 0,
    "start_time": "2022-06-08T12:23:03.992Z"
   },
   {
    "duration": 0,
    "start_time": "2022-06-08T12:23:03.993Z"
   },
   {
    "duration": 0,
    "start_time": "2022-06-08T12:23:03.994Z"
   },
   {
    "duration": 0,
    "start_time": "2022-06-08T12:23:03.995Z"
   },
   {
    "duration": 0,
    "start_time": "2022-06-08T12:23:03.996Z"
   },
   {
    "duration": 7,
    "start_time": "2022-06-08T12:26:46.347Z"
   },
   {
    "duration": 18,
    "start_time": "2022-06-08T12:28:59.316Z"
   },
   {
    "duration": 11,
    "start_time": "2022-06-08T12:29:08.500Z"
   },
   {
    "duration": 15,
    "start_time": "2022-06-08T12:29:12.100Z"
   },
   {
    "duration": 9,
    "start_time": "2022-06-08T12:29:31.895Z"
   },
   {
    "duration": 20,
    "start_time": "2022-06-08T12:29:34.881Z"
   },
   {
    "duration": 13,
    "start_time": "2022-06-08T12:30:38.014Z"
   },
   {
    "duration": 1801,
    "start_time": "2022-06-08T12:30:46.086Z"
   },
   {
    "duration": 2,
    "start_time": "2022-06-08T12:30:47.889Z"
   },
   {
    "duration": 194,
    "start_time": "2022-06-08T12:30:47.892Z"
   },
   {
    "duration": 93,
    "start_time": "2022-06-08T12:30:48.088Z"
   },
   {
    "duration": 2,
    "start_time": "2022-06-08T12:30:48.185Z"
   },
   {
    "duration": 566,
    "start_time": "2022-06-08T12:30:48.189Z"
   },
   {
    "duration": 47,
    "start_time": "2022-06-08T12:30:48.757Z"
   },
   {
    "duration": 5,
    "start_time": "2022-06-08T12:30:48.828Z"
   },
   {
    "duration": 27,
    "start_time": "2022-06-08T12:30:48.834Z"
   },
   {
    "duration": 3,
    "start_time": "2022-06-08T12:30:48.863Z"
   },
   {
    "duration": 31,
    "start_time": "2022-06-08T12:30:48.868Z"
   },
   {
    "duration": 33,
    "start_time": "2022-06-08T12:30:48.900Z"
   },
   {
    "duration": 14,
    "start_time": "2022-06-08T12:30:48.935Z"
   },
   {
    "duration": 18,
    "start_time": "2022-06-08T12:30:48.954Z"
   },
   {
    "duration": 9,
    "start_time": "2022-06-08T12:30:48.974Z"
   },
   {
    "duration": 11,
    "start_time": "2022-06-08T12:30:48.985Z"
   },
   {
    "duration": 41,
    "start_time": "2022-06-08T12:30:48.997Z"
   },
   {
    "duration": 21,
    "start_time": "2022-06-08T12:30:49.040Z"
   },
   {
    "duration": 30,
    "start_time": "2022-06-08T12:30:49.062Z"
   },
   {
    "duration": 6,
    "start_time": "2022-06-08T12:30:49.128Z"
   },
   {
    "duration": 107,
    "start_time": "2022-06-08T12:30:49.137Z"
   },
   {
    "duration": 11,
    "start_time": "2022-06-08T12:30:49.246Z"
   },
   {
    "duration": 5,
    "start_time": "2022-06-08T12:30:49.258Z"
   },
   {
    "duration": 11,
    "start_time": "2022-06-08T12:30:49.265Z"
   },
   {
    "duration": 53,
    "start_time": "2022-06-08T12:30:49.278Z"
   },
   {
    "duration": 3,
    "start_time": "2022-06-08T12:30:49.334Z"
   },
   {
    "duration": 195,
    "start_time": "2022-06-08T12:30:49.339Z"
   },
   {
    "duration": 6,
    "start_time": "2022-06-08T12:30:49.536Z"
   },
   {
    "duration": 11,
    "start_time": "2022-06-08T12:30:49.543Z"
   },
   {
    "duration": 4,
    "start_time": "2022-06-08T12:30:49.556Z"
   },
   {
    "duration": 23,
    "start_time": "2022-06-08T12:30:49.561Z"
   },
   {
    "duration": 13,
    "start_time": "2022-06-08T12:30:49.586Z"
   },
   {
    "duration": 164,
    "start_time": "2022-06-08T12:30:49.601Z"
   },
   {
    "duration": 0,
    "start_time": "2022-06-08T12:30:49.766Z"
   },
   {
    "duration": 0,
    "start_time": "2022-06-08T12:30:49.767Z"
   },
   {
    "duration": 0,
    "start_time": "2022-06-08T12:30:49.768Z"
   },
   {
    "duration": 0,
    "start_time": "2022-06-08T12:30:49.770Z"
   },
   {
    "duration": 0,
    "start_time": "2022-06-08T12:30:49.771Z"
   },
   {
    "duration": 0,
    "start_time": "2022-06-08T12:30:49.772Z"
   },
   {
    "duration": 0,
    "start_time": "2022-06-08T12:30:49.773Z"
   },
   {
    "duration": 0,
    "start_time": "2022-06-08T12:30:49.775Z"
   },
   {
    "duration": 0,
    "start_time": "2022-06-08T12:30:49.776Z"
   },
   {
    "duration": 3,
    "start_time": "2022-06-08T12:31:18.352Z"
   },
   {
    "duration": 1601,
    "start_time": "2022-06-08T12:31:28.771Z"
   },
   {
    "duration": 2,
    "start_time": "2022-06-08T12:31:30.375Z"
   },
   {
    "duration": 189,
    "start_time": "2022-06-08T12:31:30.379Z"
   },
   {
    "duration": 99,
    "start_time": "2022-06-08T12:31:30.570Z"
   },
   {
    "duration": 2,
    "start_time": "2022-06-08T12:31:30.671Z"
   },
   {
    "duration": 29,
    "start_time": "2022-06-08T12:31:30.675Z"
   },
   {
    "duration": 85,
    "start_time": "2022-06-08T12:31:30.706Z"
   },
   {
    "duration": 3,
    "start_time": "2022-06-08T12:31:30.793Z"
   },
   {
    "duration": 28,
    "start_time": "2022-06-08T12:31:30.798Z"
   },
   {
    "duration": 3,
    "start_time": "2022-06-08T12:31:30.828Z"
   },
   {
    "duration": 25,
    "start_time": "2022-06-08T12:31:30.833Z"
   },
   {
    "duration": 29,
    "start_time": "2022-06-08T12:31:30.860Z"
   },
   {
    "duration": 22,
    "start_time": "2022-06-08T12:31:30.891Z"
   },
   {
    "duration": 25,
    "start_time": "2022-06-08T12:31:30.916Z"
   },
   {
    "duration": 17,
    "start_time": "2022-06-08T12:31:30.942Z"
   },
   {
    "duration": 13,
    "start_time": "2022-06-08T12:31:30.961Z"
   },
   {
    "duration": 13,
    "start_time": "2022-06-08T12:31:30.976Z"
   },
   {
    "duration": 20,
    "start_time": "2022-06-08T12:31:30.991Z"
   },
   {
    "duration": 218,
    "start_time": "2022-06-08T12:31:31.013Z"
   },
   {
    "duration": 5,
    "start_time": "2022-06-08T12:31:31.233Z"
   },
   {
    "duration": 217,
    "start_time": "2022-06-08T12:31:31.240Z"
   },
   {
    "duration": 18,
    "start_time": "2022-06-08T12:31:31.458Z"
   },
   {
    "duration": 33,
    "start_time": "2022-06-08T12:31:31.478Z"
   },
   {
    "duration": 17,
    "start_time": "2022-06-08T12:31:31.513Z"
   },
   {
    "duration": 17,
    "start_time": "2022-06-08T12:31:31.531Z"
   },
   {
    "duration": 184,
    "start_time": "2022-06-08T12:31:31.550Z"
   },
   {
    "duration": 10,
    "start_time": "2022-06-08T12:31:31.736Z"
   },
   {
    "duration": 7,
    "start_time": "2022-06-08T12:31:31.748Z"
   },
   {
    "duration": 14,
    "start_time": "2022-06-08T12:31:31.756Z"
   },
   {
    "duration": 38,
    "start_time": "2022-06-08T12:31:31.772Z"
   },
   {
    "duration": 152,
    "start_time": "2022-06-08T12:31:31.812Z"
   },
   {
    "duration": 0,
    "start_time": "2022-06-08T12:31:31.966Z"
   },
   {
    "duration": 0,
    "start_time": "2022-06-08T12:31:31.968Z"
   },
   {
    "duration": 0,
    "start_time": "2022-06-08T12:31:31.969Z"
   },
   {
    "duration": 0,
    "start_time": "2022-06-08T12:31:31.970Z"
   },
   {
    "duration": 0,
    "start_time": "2022-06-08T12:31:31.972Z"
   },
   {
    "duration": 0,
    "start_time": "2022-06-08T12:31:31.973Z"
   },
   {
    "duration": 0,
    "start_time": "2022-06-08T12:31:31.974Z"
   },
   {
    "duration": 0,
    "start_time": "2022-06-08T12:31:31.977Z"
   },
   {
    "duration": 0,
    "start_time": "2022-06-08T12:31:31.979Z"
   },
   {
    "duration": 0,
    "start_time": "2022-06-08T12:31:31.980Z"
   },
   {
    "duration": 0,
    "start_time": "2022-06-08T12:31:31.981Z"
   },
   {
    "duration": 1637,
    "start_time": "2022-06-08T12:32:22.026Z"
   },
   {
    "duration": 6,
    "start_time": "2022-06-08T12:32:23.665Z"
   },
   {
    "duration": 184,
    "start_time": "2022-06-08T12:32:23.673Z"
   },
   {
    "duration": 98,
    "start_time": "2022-06-08T12:32:23.861Z"
   },
   {
    "duration": 13,
    "start_time": "2022-06-08T12:32:23.961Z"
   },
   {
    "duration": 7,
    "start_time": "2022-06-08T12:32:23.976Z"
   },
   {
    "duration": 82,
    "start_time": "2022-06-08T12:32:23.984Z"
   },
   {
    "duration": 3,
    "start_time": "2022-06-08T12:32:24.068Z"
   },
   {
    "duration": 39,
    "start_time": "2022-06-08T12:32:24.073Z"
   },
   {
    "duration": 23,
    "start_time": "2022-06-08T12:32:24.116Z"
   },
   {
    "duration": 41,
    "start_time": "2022-06-08T12:32:24.142Z"
   },
   {
    "duration": 28,
    "start_time": "2022-06-08T12:32:24.185Z"
   },
   {
    "duration": 22,
    "start_time": "2022-06-08T12:32:24.215Z"
   },
   {
    "duration": 45,
    "start_time": "2022-06-08T12:32:24.239Z"
   },
   {
    "duration": 3,
    "start_time": "2022-06-08T12:32:24.286Z"
   },
   {
    "duration": 17,
    "start_time": "2022-06-08T12:32:24.291Z"
   },
   {
    "duration": 12,
    "start_time": "2022-06-08T12:32:24.310Z"
   },
   {
    "duration": 23,
    "start_time": "2022-06-08T12:32:24.324Z"
   },
   {
    "duration": 89,
    "start_time": "2022-06-08T12:32:24.349Z"
   },
   {
    "duration": 88,
    "start_time": "2022-06-08T12:32:24.441Z"
   },
   {
    "duration": 106,
    "start_time": "2022-06-08T12:32:24.531Z"
   },
   {
    "duration": 14,
    "start_time": "2022-06-08T12:32:24.638Z"
   },
   {
    "duration": 17,
    "start_time": "2022-06-08T12:32:24.654Z"
   },
   {
    "duration": 31,
    "start_time": "2022-06-08T12:32:24.672Z"
   },
   {
    "duration": 29,
    "start_time": "2022-06-08T12:32:24.705Z"
   },
   {
    "duration": 93,
    "start_time": "2022-06-08T12:32:24.736Z"
   },
   {
    "duration": 101,
    "start_time": "2022-06-08T12:32:24.831Z"
   },
   {
    "duration": 17,
    "start_time": "2022-06-08T12:32:24.935Z"
   },
   {
    "duration": 18,
    "start_time": "2022-06-08T12:32:24.953Z"
   },
   {
    "duration": 6,
    "start_time": "2022-06-08T12:32:24.973Z"
   },
   {
    "duration": 15,
    "start_time": "2022-06-08T12:32:24.981Z"
   },
   {
    "duration": 13,
    "start_time": "2022-06-08T12:32:24.998Z"
   },
   {
    "duration": 138,
    "start_time": "2022-06-08T12:32:25.013Z"
   },
   {
    "duration": 0,
    "start_time": "2022-06-08T12:32:25.153Z"
   },
   {
    "duration": 0,
    "start_time": "2022-06-08T12:32:25.154Z"
   },
   {
    "duration": 0,
    "start_time": "2022-06-08T12:32:25.155Z"
   },
   {
    "duration": 0,
    "start_time": "2022-06-08T12:32:25.156Z"
   },
   {
    "duration": 0,
    "start_time": "2022-06-08T12:32:25.157Z"
   },
   {
    "duration": 0,
    "start_time": "2022-06-08T12:32:25.158Z"
   },
   {
    "duration": 0,
    "start_time": "2022-06-08T12:32:25.159Z"
   },
   {
    "duration": 0,
    "start_time": "2022-06-08T12:32:25.160Z"
   },
   {
    "duration": 0,
    "start_time": "2022-06-08T12:32:25.161Z"
   },
   {
    "duration": 5,
    "start_time": "2022-06-08T12:35:34.647Z"
   },
   {
    "duration": 5,
    "start_time": "2022-06-08T12:35:38.406Z"
   },
   {
    "duration": 19,
    "start_time": "2022-06-08T12:35:39.641Z"
   },
   {
    "duration": 15,
    "start_time": "2022-06-08T12:35:56.865Z"
   },
   {
    "duration": 6,
    "start_time": "2022-06-08T12:36:31.175Z"
   },
   {
    "duration": 22,
    "start_time": "2022-06-08T12:36:32.020Z"
   },
   {
    "duration": 6,
    "start_time": "2022-06-08T12:37:43.268Z"
   },
   {
    "duration": 30,
    "start_time": "2022-06-08T12:37:43.966Z"
   },
   {
    "duration": 8,
    "start_time": "2022-06-08T12:39:55.476Z"
   },
   {
    "duration": 403,
    "start_time": "2022-06-08T12:39:58.335Z"
   },
   {
    "duration": 6,
    "start_time": "2022-06-08T12:40:17.041Z"
   },
   {
    "duration": 42,
    "start_time": "2022-06-08T12:40:19.975Z"
   },
   {
    "duration": 4,
    "start_time": "2022-06-08T12:40:46.777Z"
   },
   {
    "duration": 31,
    "start_time": "2022-06-08T12:40:49.570Z"
   },
   {
    "duration": 6,
    "start_time": "2022-06-08T12:42:16.806Z"
   },
   {
    "duration": 41,
    "start_time": "2022-06-08T12:42:17.650Z"
   },
   {
    "duration": 5,
    "start_time": "2022-06-08T12:43:37.233Z"
   },
   {
    "duration": 46,
    "start_time": "2022-06-08T12:43:37.880Z"
   },
   {
    "duration": 6,
    "start_time": "2022-06-08T12:45:46.260Z"
   },
   {
    "duration": 37,
    "start_time": "2022-06-08T12:45:49.570Z"
   },
   {
    "duration": 5,
    "start_time": "2022-06-08T12:46:04.950Z"
   },
   {
    "duration": 40,
    "start_time": "2022-06-08T12:46:05.770Z"
   },
   {
    "duration": 7,
    "start_time": "2022-06-08T12:47:59.423Z"
   },
   {
    "duration": 414,
    "start_time": "2022-06-08T12:48:00.342Z"
   },
   {
    "duration": 5,
    "start_time": "2022-06-08T12:48:25.539Z"
   },
   {
    "duration": 48,
    "start_time": "2022-06-08T12:48:26.436Z"
   },
   {
    "duration": 4,
    "start_time": "2022-06-08T12:48:54.141Z"
   },
   {
    "duration": 42,
    "start_time": "2022-06-08T12:48:55.061Z"
   },
   {
    "duration": 5,
    "start_time": "2022-06-08T12:50:13.511Z"
   },
   {
    "duration": 33,
    "start_time": "2022-06-08T12:50:14.584Z"
   },
   {
    "duration": 1627,
    "start_time": "2022-06-08T12:50:22.511Z"
   },
   {
    "duration": 3,
    "start_time": "2022-06-08T12:50:24.140Z"
   },
   {
    "duration": 152,
    "start_time": "2022-06-08T12:50:24.144Z"
   },
   {
    "duration": 97,
    "start_time": "2022-06-08T12:50:24.298Z"
   },
   {
    "duration": 34,
    "start_time": "2022-06-08T12:50:24.398Z"
   },
   {
    "duration": 3,
    "start_time": "2022-06-08T12:50:24.433Z"
   },
   {
    "duration": 63,
    "start_time": "2022-06-08T12:50:24.438Z"
   },
   {
    "duration": 3,
    "start_time": "2022-06-08T12:50:24.503Z"
   },
   {
    "duration": 31,
    "start_time": "2022-06-08T12:50:24.508Z"
   },
   {
    "duration": 3,
    "start_time": "2022-06-08T12:50:24.541Z"
   },
   {
    "duration": 25,
    "start_time": "2022-06-08T12:50:24.545Z"
   },
   {
    "duration": 10,
    "start_time": "2022-06-08T12:50:24.572Z"
   },
   {
    "duration": 46,
    "start_time": "2022-06-08T12:50:24.583Z"
   },
   {
    "duration": 15,
    "start_time": "2022-06-08T12:50:24.632Z"
   },
   {
    "duration": 8,
    "start_time": "2022-06-08T12:50:24.648Z"
   },
   {
    "duration": 8,
    "start_time": "2022-06-08T12:50:24.657Z"
   },
   {
    "duration": 8,
    "start_time": "2022-06-08T12:50:24.667Z"
   },
   {
    "duration": 17,
    "start_time": "2022-06-08T12:50:24.676Z"
   },
   {
    "duration": 141,
    "start_time": "2022-06-08T12:50:24.695Z"
   },
   {
    "duration": 90,
    "start_time": "2022-06-08T12:50:24.839Z"
   },
   {
    "duration": 111,
    "start_time": "2022-06-08T12:50:24.931Z"
   },
   {
    "duration": 12,
    "start_time": "2022-06-08T12:50:25.044Z"
   },
   {
    "duration": 5,
    "start_time": "2022-06-08T12:50:25.057Z"
   },
   {
    "duration": 14,
    "start_time": "2022-06-08T12:50:25.064Z"
   },
   {
    "duration": 149,
    "start_time": "2022-06-08T12:50:25.079Z"
   },
   {
    "duration": 98,
    "start_time": "2022-06-08T12:50:25.231Z"
   },
   {
    "duration": 105,
    "start_time": "2022-06-08T12:50:25.331Z"
   },
   {
    "duration": 6,
    "start_time": "2022-06-08T12:50:25.438Z"
   },
   {
    "duration": 9,
    "start_time": "2022-06-08T12:50:25.445Z"
   },
   {
    "duration": 4,
    "start_time": "2022-06-08T12:50:25.456Z"
   },
   {
    "duration": 13,
    "start_time": "2022-06-08T12:50:25.462Z"
   },
   {
    "duration": 5,
    "start_time": "2022-06-08T12:50:25.477Z"
   },
   {
    "duration": 54,
    "start_time": "2022-06-08T12:50:25.484Z"
   },
   {
    "duration": 2,
    "start_time": "2022-06-08T12:50:25.539Z"
   },
   {
    "duration": 8,
    "start_time": "2022-06-08T12:50:25.543Z"
   },
   {
    "duration": 112,
    "start_time": "2022-06-08T12:50:25.553Z"
   },
   {
    "duration": 0,
    "start_time": "2022-06-08T12:50:25.666Z"
   },
   {
    "duration": 0,
    "start_time": "2022-06-08T12:50:25.668Z"
   },
   {
    "duration": 0,
    "start_time": "2022-06-08T12:50:25.669Z"
   },
   {
    "duration": 0,
    "start_time": "2022-06-08T12:50:25.670Z"
   },
   {
    "duration": 0,
    "start_time": "2022-06-08T12:50:25.671Z"
   },
   {
    "duration": 0,
    "start_time": "2022-06-08T12:50:25.672Z"
   },
   {
    "duration": 74,
    "start_time": "2022-06-08T12:53:29.153Z"
   },
   {
    "duration": 27,
    "start_time": "2022-06-08T12:53:34.363Z"
   },
   {
    "duration": 1673,
    "start_time": "2022-06-08T12:54:15.615Z"
   },
   {
    "duration": 3,
    "start_time": "2022-06-08T12:54:17.290Z"
   },
   {
    "duration": 172,
    "start_time": "2022-06-08T12:54:17.295Z"
   },
   {
    "duration": 103,
    "start_time": "2022-06-08T12:54:17.468Z"
   },
   {
    "duration": 15,
    "start_time": "2022-06-08T12:54:17.574Z"
   },
   {
    "duration": 37,
    "start_time": "2022-06-08T12:54:17.590Z"
   },
   {
    "duration": 60,
    "start_time": "2022-06-08T12:54:17.629Z"
   },
   {
    "duration": 2,
    "start_time": "2022-06-08T12:54:17.691Z"
   },
   {
    "duration": 38,
    "start_time": "2022-06-08T12:54:17.695Z"
   },
   {
    "duration": 2,
    "start_time": "2022-06-08T12:54:17.735Z"
   },
   {
    "duration": 28,
    "start_time": "2022-06-08T12:54:17.739Z"
   },
   {
    "duration": 16,
    "start_time": "2022-06-08T12:54:17.768Z"
   },
   {
    "duration": 11,
    "start_time": "2022-06-08T12:54:17.786Z"
   },
   {
    "duration": 16,
    "start_time": "2022-06-08T12:54:17.830Z"
   },
   {
    "duration": 11,
    "start_time": "2022-06-08T12:54:17.848Z"
   },
   {
    "duration": 11,
    "start_time": "2022-06-08T12:54:17.860Z"
   },
   {
    "duration": 18,
    "start_time": "2022-06-08T12:54:17.872Z"
   },
   {
    "duration": 20,
    "start_time": "2022-06-08T12:54:17.892Z"
   },
   {
    "duration": 46,
    "start_time": "2022-06-08T12:54:17.913Z"
   },
   {
    "duration": 68,
    "start_time": "2022-06-08T12:54:17.962Z"
   },
   {
    "duration": 104,
    "start_time": "2022-06-08T12:54:18.031Z"
   },
   {
    "duration": 17,
    "start_time": "2022-06-08T12:54:18.137Z"
   },
   {
    "duration": 10,
    "start_time": "2022-06-08T12:54:18.156Z"
   },
   {
    "duration": 13,
    "start_time": "2022-06-08T12:54:18.167Z"
   },
   {
    "duration": 47,
    "start_time": "2022-06-08T12:54:18.182Z"
   },
   {
    "duration": 97,
    "start_time": "2022-06-08T12:54:18.231Z"
   },
   {
    "duration": 101,
    "start_time": "2022-06-08T12:54:18.330Z"
   },
   {
    "duration": 9,
    "start_time": "2022-06-08T12:54:18.433Z"
   },
   {
    "duration": 17,
    "start_time": "2022-06-08T12:54:18.444Z"
   },
   {
    "duration": 13,
    "start_time": "2022-06-08T12:54:18.463Z"
   },
   {
    "duration": 16,
    "start_time": "2022-06-08T12:54:18.477Z"
   },
   {
    "duration": 8,
    "start_time": "2022-06-08T12:54:18.495Z"
   },
   {
    "duration": 18,
    "start_time": "2022-06-08T12:54:18.505Z"
   },
   {
    "duration": 18,
    "start_time": "2022-06-08T12:54:18.525Z"
   },
   {
    "duration": 110,
    "start_time": "2022-06-08T12:54:18.545Z"
   },
   {
    "duration": 3,
    "start_time": "2022-06-08T12:54:18.658Z"
   },
   {
    "duration": 10,
    "start_time": "2022-06-08T12:54:18.662Z"
   },
   {
    "duration": 53,
    "start_time": "2022-06-08T12:54:18.674Z"
   },
   {
    "duration": 2,
    "start_time": "2022-06-08T12:54:18.729Z"
   },
   {
    "duration": 322,
    "start_time": "2022-06-08T12:54:18.732Z"
   },
   {
    "duration": 0,
    "start_time": "2022-06-08T12:54:19.056Z"
   },
   {
    "duration": 99,
    "start_time": "2022-06-08T12:55:51.280Z"
   },
   {
    "duration": 466,
    "start_time": "2022-06-08T13:30:24.515Z"
   },
   {
    "duration": 397,
    "start_time": "2022-06-08T13:30:48.566Z"
   },
   {
    "duration": 82,
    "start_time": "2022-06-08T13:31:03.295Z"
   },
   {
    "duration": 78,
    "start_time": "2022-06-08T13:31:55.314Z"
   },
   {
    "duration": 74,
    "start_time": "2022-06-08T13:32:09.139Z"
   },
   {
    "duration": 300,
    "start_time": "2022-06-08T13:32:22.880Z"
   },
   {
    "duration": 89,
    "start_time": "2022-06-08T13:35:17.710Z"
   },
   {
    "duration": 100,
    "start_time": "2022-06-08T13:35:36.029Z"
   },
   {
    "duration": 94,
    "start_time": "2022-06-08T13:35:50.194Z"
   },
   {
    "duration": 117,
    "start_time": "2022-06-08T13:38:17.023Z"
   },
   {
    "duration": 90,
    "start_time": "2022-06-08T13:38:26.954Z"
   },
   {
    "duration": 83,
    "start_time": "2022-06-08T13:38:40.239Z"
   },
   {
    "duration": 50,
    "start_time": "2022-06-08T13:41:15.209Z"
   },
   {
    "duration": 80,
    "start_time": "2022-06-08T13:41:19.728Z"
   },
   {
    "duration": 338,
    "start_time": "2022-06-08T13:41:34.499Z"
   },
   {
    "duration": 82,
    "start_time": "2022-06-08T13:41:43.274Z"
   },
   {
    "duration": 30,
    "start_time": "2022-06-08T13:41:50.338Z"
   },
   {
    "duration": 392,
    "start_time": "2022-06-08T13:42:15.034Z"
   },
   {
    "duration": 5,
    "start_time": "2022-06-08T13:43:29.248Z"
   },
   {
    "duration": 3,
    "start_time": "2022-06-08T13:43:32.059Z"
   },
   {
    "duration": 406,
    "start_time": "2022-06-08T13:43:32.934Z"
   },
   {
    "duration": 120,
    "start_time": "2022-06-08T13:43:57.190Z"
   },
   {
    "duration": 80,
    "start_time": "2022-06-08T13:44:21.438Z"
   },
   {
    "duration": 80,
    "start_time": "2022-06-08T13:44:30.892Z"
   },
   {
    "duration": 436,
    "start_time": "2022-06-08T13:44:38.332Z"
   },
   {
    "duration": 97,
    "start_time": "2022-06-08T13:44:53.890Z"
   },
   {
    "duration": 382,
    "start_time": "2022-06-08T13:46:32.063Z"
   },
   {
    "duration": 86,
    "start_time": "2022-06-08T13:47:46.000Z"
   },
   {
    "duration": 347,
    "start_time": "2022-06-08T13:49:04.509Z"
   },
   {
    "duration": 349,
    "start_time": "2022-06-08T13:49:14.541Z"
   },
   {
    "duration": 447,
    "start_time": "2022-06-08T13:50:26.796Z"
   },
   {
    "duration": 87,
    "start_time": "2022-06-08T13:50:32.558Z"
   },
   {
    "duration": 84,
    "start_time": "2022-06-08T13:50:58.169Z"
   },
   {
    "duration": 98,
    "start_time": "2022-06-08T13:51:49.034Z"
   },
   {
    "duration": 88,
    "start_time": "2022-06-08T13:53:42.915Z"
   },
   {
    "duration": 9,
    "start_time": "2022-06-08T13:54:33.105Z"
   },
   {
    "duration": 4,
    "start_time": "2022-06-08T13:54:43.103Z"
   },
   {
    "duration": 5,
    "start_time": "2022-06-08T13:56:28.755Z"
   },
   {
    "duration": 4,
    "start_time": "2022-06-08T13:58:42.765Z"
   },
   {
    "duration": 4,
    "start_time": "2022-06-08T13:58:52.603Z"
   },
   {
    "duration": 217,
    "start_time": "2022-06-08T14:00:03.283Z"
   },
   {
    "duration": 219,
    "start_time": "2022-06-08T14:00:17.104Z"
   },
   {
    "duration": 216,
    "start_time": "2022-06-08T14:01:13.997Z"
   },
   {
    "duration": 1552,
    "start_time": "2022-06-08T14:03:07.381Z"
   },
   {
    "duration": 2,
    "start_time": "2022-06-08T14:03:08.935Z"
   },
   {
    "duration": 144,
    "start_time": "2022-06-08T14:03:08.939Z"
   },
   {
    "duration": 91,
    "start_time": "2022-06-08T14:03:09.085Z"
   },
   {
    "duration": 12,
    "start_time": "2022-06-08T14:03:09.178Z"
   },
   {
    "duration": 35,
    "start_time": "2022-06-08T14:03:09.192Z"
   },
   {
    "duration": 57,
    "start_time": "2022-06-08T14:03:09.228Z"
   },
   {
    "duration": 3,
    "start_time": "2022-06-08T14:03:09.286Z"
   },
   {
    "duration": 28,
    "start_time": "2022-06-08T14:03:09.290Z"
   },
   {
    "duration": 6,
    "start_time": "2022-06-08T14:03:09.321Z"
   },
   {
    "duration": 34,
    "start_time": "2022-06-08T14:03:09.328Z"
   },
   {
    "duration": 15,
    "start_time": "2022-06-08T14:03:09.363Z"
   },
   {
    "duration": 15,
    "start_time": "2022-06-08T14:03:09.379Z"
   },
   {
    "duration": 20,
    "start_time": "2022-06-08T14:03:09.395Z"
   },
   {
    "duration": 28,
    "start_time": "2022-06-08T14:03:09.417Z"
   },
   {
    "duration": 9,
    "start_time": "2022-06-08T14:03:09.446Z"
   },
   {
    "duration": 20,
    "start_time": "2022-06-08T14:03:09.456Z"
   },
   {
    "duration": 27,
    "start_time": "2022-06-08T14:03:09.477Z"
   },
   {
    "duration": 44,
    "start_time": "2022-06-08T14:03:09.505Z"
   },
   {
    "duration": 179,
    "start_time": "2022-06-08T14:03:09.551Z"
   },
   {
    "duration": 13,
    "start_time": "2022-06-08T14:03:09.732Z"
   },
   {
    "duration": 9,
    "start_time": "2022-06-08T14:03:09.747Z"
   },
   {
    "duration": 9,
    "start_time": "2022-06-08T14:03:09.758Z"
   },
   {
    "duration": 10,
    "start_time": "2022-06-08T14:03:09.769Z"
   },
   {
    "duration": 48,
    "start_time": "2022-06-08T14:03:09.780Z"
   },
   {
    "duration": 3,
    "start_time": "2022-06-08T14:03:09.830Z"
   },
   {
    "duration": 192,
    "start_time": "2022-06-08T14:03:09.835Z"
   },
   {
    "duration": 2,
    "start_time": "2022-06-08T14:03:10.030Z"
   },
   {
    "duration": 9,
    "start_time": "2022-06-08T14:03:10.034Z"
   },
   {
    "duration": 5,
    "start_time": "2022-06-08T14:03:10.044Z"
   },
   {
    "duration": 11,
    "start_time": "2022-06-08T14:03:10.050Z"
   },
   {
    "duration": 4,
    "start_time": "2022-06-08T14:03:10.062Z"
   },
   {
    "duration": 127,
    "start_time": "2022-06-08T14:03:10.067Z"
   },
   {
    "duration": 5,
    "start_time": "2022-06-08T14:03:10.195Z"
   },
   {
    "duration": 26,
    "start_time": "2022-06-08T14:03:10.201Z"
   },
   {
    "duration": 9,
    "start_time": "2022-06-08T14:03:10.228Z"
   },
   {
    "duration": 1543,
    "start_time": "2022-06-08T14:06:01.891Z"
   },
   {
    "duration": 2,
    "start_time": "2022-06-08T14:06:03.436Z"
   },
   {
    "duration": 158,
    "start_time": "2022-06-08T14:06:03.440Z"
   },
   {
    "duration": 89,
    "start_time": "2022-06-08T14:06:03.600Z"
   },
   {
    "duration": 41,
    "start_time": "2022-06-08T14:06:03.690Z"
   },
   {
    "duration": 7,
    "start_time": "2022-06-08T14:06:03.733Z"
   },
   {
    "duration": 63,
    "start_time": "2022-06-08T14:06:03.741Z"
   },
   {
    "duration": 4,
    "start_time": "2022-06-08T14:06:03.806Z"
   },
   {
    "duration": 54,
    "start_time": "2022-06-08T14:06:03.812Z"
   },
   {
    "duration": 5,
    "start_time": "2022-06-08T14:06:03.869Z"
   },
   {
    "duration": 43,
    "start_time": "2022-06-08T14:06:03.876Z"
   },
   {
    "duration": 10,
    "start_time": "2022-06-08T14:06:03.921Z"
   },
   {
    "duration": 15,
    "start_time": "2022-06-08T14:06:03.932Z"
   },
   {
    "duration": 16,
    "start_time": "2022-06-08T14:06:03.949Z"
   },
   {
    "duration": 4,
    "start_time": "2022-06-08T14:06:03.967Z"
   },
   {
    "duration": 12,
    "start_time": "2022-06-08T14:06:03.973Z"
   },
   {
    "duration": 8,
    "start_time": "2022-06-08T14:06:03.986Z"
   },
   {
    "duration": 17,
    "start_time": "2022-06-08T14:06:03.996Z"
   },
   {
    "duration": 100,
    "start_time": "2022-06-08T14:06:04.027Z"
   },
   {
    "duration": 7,
    "start_time": "2022-06-08T14:06:04.129Z"
   },
   {
    "duration": 15,
    "start_time": "2022-06-08T14:06:04.228Z"
   },
   {
    "duration": 9,
    "start_time": "2022-06-08T14:06:04.244Z"
   },
   {
    "duration": 5,
    "start_time": "2022-06-08T14:06:04.254Z"
   },
   {
    "duration": 8,
    "start_time": "2022-06-08T14:06:04.260Z"
   },
   {
    "duration": 62,
    "start_time": "2022-06-08T14:06:04.269Z"
   },
   {
    "duration": 3,
    "start_time": "2022-06-08T14:06:04.334Z"
   },
   {
    "duration": 110,
    "start_time": "2022-06-08T14:06:04.428Z"
   },
   {
    "duration": 3,
    "start_time": "2022-06-08T14:06:04.542Z"
   },
   {
    "duration": 10,
    "start_time": "2022-06-08T14:06:04.546Z"
   },
   {
    "duration": 2,
    "start_time": "2022-06-08T14:06:04.558Z"
   },
   {
    "duration": 9,
    "start_time": "2022-06-08T14:06:04.562Z"
   },
   {
    "duration": 4,
    "start_time": "2022-06-08T14:06:04.573Z"
   },
   {
    "duration": 128,
    "start_time": "2022-06-08T14:06:04.578Z"
   },
   {
    "duration": 22,
    "start_time": "2022-06-08T14:06:04.707Z"
   },
   {
    "duration": 6,
    "start_time": "2022-06-08T14:06:04.731Z"
   },
   {
    "duration": 12,
    "start_time": "2022-06-08T14:06:04.738Z"
   },
   {
    "duration": 328,
    "start_time": "2022-06-08T14:06:04.751Z"
   },
   {
    "duration": 0,
    "start_time": "2022-06-08T14:06:05.081Z"
   },
   {
    "duration": 7,
    "start_time": "2022-06-08T14:10:25.643Z"
   },
   {
    "duration": 4,
    "start_time": "2022-06-08T14:10:35.307Z"
   },
   {
    "duration": 239,
    "start_time": "2022-06-08T14:10:58.087Z"
   },
   {
    "duration": 1575,
    "start_time": "2022-06-08T14:11:34.800Z"
   },
   {
    "duration": 2,
    "start_time": "2022-06-08T14:11:36.377Z"
   },
   {
    "duration": 185,
    "start_time": "2022-06-08T14:11:36.381Z"
   },
   {
    "duration": 96,
    "start_time": "2022-06-08T14:11:36.567Z"
   },
   {
    "duration": 11,
    "start_time": "2022-06-08T14:11:36.666Z"
   },
   {
    "duration": 16,
    "start_time": "2022-06-08T14:11:36.679Z"
   },
   {
    "duration": 61,
    "start_time": "2022-06-08T14:11:36.697Z"
   },
   {
    "duration": 3,
    "start_time": "2022-06-08T14:11:36.759Z"
   },
   {
    "duration": 32,
    "start_time": "2022-06-08T14:11:36.763Z"
   },
   {
    "duration": 18,
    "start_time": "2022-06-08T14:11:36.797Z"
   },
   {
    "duration": 33,
    "start_time": "2022-06-08T14:11:36.816Z"
   },
   {
    "duration": 24,
    "start_time": "2022-06-08T14:11:36.850Z"
   },
   {
    "duration": 34,
    "start_time": "2022-06-08T14:11:36.875Z"
   },
   {
    "duration": 19,
    "start_time": "2022-06-08T14:11:36.912Z"
   },
   {
    "duration": 21,
    "start_time": "2022-06-08T14:11:36.938Z"
   },
   {
    "duration": 19,
    "start_time": "2022-06-08T14:11:36.961Z"
   },
   {
    "duration": 30,
    "start_time": "2022-06-08T14:11:36.982Z"
   },
   {
    "duration": 30,
    "start_time": "2022-06-08T14:11:37.014Z"
   },
   {
    "duration": 89,
    "start_time": "2022-06-08T14:11:37.046Z"
   },
   {
    "duration": 84,
    "start_time": "2022-06-08T14:11:37.145Z"
   },
   {
    "duration": 29,
    "start_time": "2022-06-08T14:11:37.233Z"
   },
   {
    "duration": 32,
    "start_time": "2022-06-08T14:11:37.264Z"
   },
   {
    "duration": 13,
    "start_time": "2022-06-08T14:11:37.298Z"
   },
   {
    "duration": 31,
    "start_time": "2022-06-08T14:11:37.312Z"
   },
   {
    "duration": 36,
    "start_time": "2022-06-08T14:11:37.344Z"
   },
   {
    "duration": 146,
    "start_time": "2022-06-08T14:11:37.382Z"
   },
   {
    "duration": 20,
    "start_time": "2022-06-08T14:11:37.529Z"
   },
   {
    "duration": 30,
    "start_time": "2022-06-08T14:11:37.550Z"
   },
   {
    "duration": 8,
    "start_time": "2022-06-08T14:11:37.581Z"
   },
   {
    "duration": 29,
    "start_time": "2022-06-08T14:11:37.590Z"
   },
   {
    "duration": 25,
    "start_time": "2022-06-08T14:11:37.620Z"
   },
   {
    "duration": 127,
    "start_time": "2022-06-08T14:11:37.646Z"
   },
   {
    "duration": 5,
    "start_time": "2022-06-08T14:11:37.774Z"
   },
   {
    "duration": 16,
    "start_time": "2022-06-08T14:11:37.780Z"
   },
   {
    "duration": 47,
    "start_time": "2022-06-08T14:11:37.798Z"
   },
   {
    "duration": 28,
    "start_time": "2022-06-08T14:11:37.847Z"
   },
   {
    "duration": 337,
    "start_time": "2022-06-08T14:11:37.877Z"
   },
   {
    "duration": 0,
    "start_time": "2022-06-08T14:11:38.215Z"
   },
   {
    "duration": 243,
    "start_time": "2022-06-08T14:11:49.143Z"
   },
   {
    "duration": 231,
    "start_time": "2022-06-08T14:24:34.115Z"
   },
   {
    "duration": 115,
    "start_time": "2022-06-08T14:29:22.056Z"
   },
   {
    "duration": 35,
    "start_time": "2022-06-08T14:30:30.717Z"
   },
   {
    "duration": 34,
    "start_time": "2022-06-08T14:30:47.845Z"
   },
   {
    "duration": 35,
    "start_time": "2022-06-08T14:31:04.248Z"
   },
   {
    "duration": 14,
    "start_time": "2022-06-08T14:31:11.247Z"
   },
   {
    "duration": 31,
    "start_time": "2022-06-08T14:31:38.992Z"
   },
   {
    "duration": 11,
    "start_time": "2022-06-08T14:32:13.298Z"
   },
   {
    "duration": 31,
    "start_time": "2022-06-08T14:32:42.286Z"
   },
   {
    "duration": 42,
    "start_time": "2022-06-08T14:33:24.770Z"
   },
   {
    "duration": 1652,
    "start_time": "2022-06-08T14:33:58.143Z"
   },
   {
    "duration": 168,
    "start_time": "2022-06-08T14:33:59.797Z"
   },
   {
    "duration": 95,
    "start_time": "2022-06-08T14:33:59.966Z"
   },
   {
    "duration": 14,
    "start_time": "2022-06-08T14:34:00.063Z"
   },
   {
    "duration": 75,
    "start_time": "2022-06-08T14:34:00.079Z"
   },
   {
    "duration": 10,
    "start_time": "2022-06-08T14:34:00.155Z"
   },
   {
    "duration": 34,
    "start_time": "2022-06-08T14:34:00.166Z"
   },
   {
    "duration": 8,
    "start_time": "2022-06-08T14:34:00.202Z"
   },
   {
    "duration": 21,
    "start_time": "2022-06-08T14:34:00.231Z"
   },
   {
    "duration": 75,
    "start_time": "2022-06-08T14:34:00.255Z"
   },
   {
    "duration": 98,
    "start_time": "2022-06-08T14:34:00.332Z"
   },
   {
    "duration": 54,
    "start_time": "2022-06-08T14:34:00.433Z"
   },
   {
    "duration": 36,
    "start_time": "2022-06-08T14:34:00.489Z"
   },
   {
    "duration": 49,
    "start_time": "2022-06-08T14:34:00.527Z"
   },
   {
    "duration": 25,
    "start_time": "2022-06-08T14:34:00.578Z"
   },
   {
    "duration": 145,
    "start_time": "2022-06-08T14:34:00.606Z"
   },
   {
    "duration": 16,
    "start_time": "2022-06-08T14:34:00.753Z"
   },
   {
    "duration": 15,
    "start_time": "2022-06-08T14:34:00.771Z"
   },
   {
    "duration": 20,
    "start_time": "2022-06-08T14:34:00.788Z"
   },
   {
    "duration": 123,
    "start_time": "2022-06-08T14:34:00.811Z"
   },
   {
    "duration": 11,
    "start_time": "2022-06-08T14:34:00.935Z"
   },
   {
    "duration": 18,
    "start_time": "2022-06-08T14:34:00.947Z"
   },
   {
    "duration": 15,
    "start_time": "2022-06-08T14:34:00.967Z"
   },
   {
    "duration": 55,
    "start_time": "2022-06-09T00:11:59.590Z"
   },
   {
    "duration": 8,
    "start_time": "2022-06-09T00:12:40.501Z"
   },
   {
    "duration": 8,
    "start_time": "2022-06-09T00:16:11.844Z"
   },
   {
    "duration": 2017,
    "start_time": "2022-06-09T00:43:48.119Z"
   },
   {
    "duration": 145,
    "start_time": "2022-06-09T00:43:50.139Z"
   },
   {
    "duration": 84,
    "start_time": "2022-06-09T00:43:50.286Z"
   },
   {
    "duration": 12,
    "start_time": "2022-06-09T00:43:50.372Z"
   },
   {
    "duration": 67,
    "start_time": "2022-06-09T00:43:50.385Z"
   },
   {
    "duration": 3,
    "start_time": "2022-06-09T00:43:50.453Z"
   },
   {
    "duration": 15,
    "start_time": "2022-06-09T00:43:50.457Z"
   },
   {
    "duration": 21,
    "start_time": "2022-06-09T00:43:50.473Z"
   },
   {
    "duration": 10,
    "start_time": "2022-06-09T00:43:50.526Z"
   },
   {
    "duration": 8,
    "start_time": "2022-06-09T00:43:50.539Z"
   },
   {
    "duration": 12,
    "start_time": "2022-06-09T00:43:50.548Z"
   },
   {
    "duration": 69,
    "start_time": "2022-06-09T00:43:50.562Z"
   },
   {
    "duration": 100,
    "start_time": "2022-06-09T00:43:50.633Z"
   },
   {
    "duration": 101,
    "start_time": "2022-06-09T00:43:50.735Z"
   },
   {
    "duration": 4,
    "start_time": "2022-06-09T00:43:50.838Z"
   },
   {
    "duration": 10,
    "start_time": "2022-06-09T00:43:50.843Z"
   },
   {
    "duration": 75,
    "start_time": "2022-06-09T00:43:50.854Z"
   },
   {
    "duration": 109,
    "start_time": "2022-06-09T00:43:50.935Z"
   },
   {
    "duration": 9,
    "start_time": "2022-06-09T00:43:51.046Z"
   },
   {
    "duration": 10,
    "start_time": "2022-06-09T00:43:51.057Z"
   },
   {
    "duration": 8,
    "start_time": "2022-06-09T00:43:51.069Z"
   },
   {
    "duration": 93,
    "start_time": "2022-06-09T00:43:51.079Z"
   },
   {
    "duration": 4,
    "start_time": "2022-06-09T00:43:51.173Z"
   },
   {
    "duration": 19,
    "start_time": "2022-06-09T00:43:51.179Z"
   },
   {
    "duration": 0,
    "start_time": "2022-06-09T00:43:51.199Z"
   },
   {
    "duration": 0,
    "start_time": "2022-06-09T00:43:51.200Z"
   },
   {
    "duration": 0,
    "start_time": "2022-06-09T00:43:51.201Z"
   },
   {
    "duration": 5,
    "start_time": "2022-06-09T01:18:06.538Z"
   },
   {
    "duration": 6,
    "start_time": "2022-06-09T01:19:47.669Z"
   },
   {
    "duration": 5,
    "start_time": "2022-06-09T01:20:54.114Z"
   },
   {
    "duration": 7,
    "start_time": "2022-06-09T01:24:29.584Z"
   },
   {
    "duration": 7,
    "start_time": "2022-06-09T01:24:38.363Z"
   },
   {
    "duration": 5,
    "start_time": "2022-06-09T01:24:47.067Z"
   },
   {
    "duration": 2,
    "start_time": "2022-06-09T01:25:57.497Z"
   },
   {
    "duration": 3,
    "start_time": "2022-06-09T01:25:58.663Z"
   },
   {
    "duration": 7,
    "start_time": "2022-06-09T01:25:59.195Z"
   },
   {
    "duration": 4,
    "start_time": "2022-06-09T01:26:02.067Z"
   },
   {
    "duration": 99,
    "start_time": "2022-06-09T01:26:03.563Z"
   },
   {
    "duration": 6,
    "start_time": "2022-06-09T01:26:05.043Z"
   },
   {
    "duration": 4,
    "start_time": "2022-06-09T01:26:06.669Z"
   },
   {
    "duration": 1519,
    "start_time": "2022-06-09T01:27:51.837Z"
   },
   {
    "duration": 172,
    "start_time": "2022-06-09T01:27:53.358Z"
   },
   {
    "duration": 64,
    "start_time": "2022-06-09T01:27:53.531Z"
   },
   {
    "duration": 38,
    "start_time": "2022-06-09T01:27:53.597Z"
   },
   {
    "duration": 37,
    "start_time": "2022-06-09T01:27:53.636Z"
   },
   {
    "duration": 4,
    "start_time": "2022-06-09T01:27:53.675Z"
   },
   {
    "duration": 58,
    "start_time": "2022-06-09T01:27:53.680Z"
   },
   {
    "duration": 20,
    "start_time": "2022-06-09T01:27:53.740Z"
   },
   {
    "duration": 9,
    "start_time": "2022-06-09T01:27:53.761Z"
   },
   {
    "duration": 7,
    "start_time": "2022-06-09T01:27:53.773Z"
   },
   {
    "duration": 48,
    "start_time": "2022-06-09T01:27:53.782Z"
   },
   {
    "duration": 35,
    "start_time": "2022-06-09T01:27:53.831Z"
   },
   {
    "duration": 65,
    "start_time": "2022-06-09T01:27:53.868Z"
   },
   {
    "duration": 103,
    "start_time": "2022-06-09T01:27:53.935Z"
   },
   {
    "duration": 4,
    "start_time": "2022-06-09T01:27:54.040Z"
   },
   {
    "duration": 9,
    "start_time": "2022-06-09T01:27:54.046Z"
   },
   {
    "duration": 13,
    "start_time": "2022-06-09T01:27:54.056Z"
   },
   {
    "duration": 106,
    "start_time": "2022-06-09T01:27:54.128Z"
   },
   {
    "duration": 6,
    "start_time": "2022-06-09T01:27:54.235Z"
   },
   {
    "duration": 9,
    "start_time": "2022-06-09T01:27:54.242Z"
   },
   {
    "duration": 4,
    "start_time": "2022-06-09T01:27:54.252Z"
   },
   {
    "duration": 100,
    "start_time": "2022-06-09T01:27:54.257Z"
   },
   {
    "duration": 4,
    "start_time": "2022-06-09T01:27:54.358Z"
   },
   {
    "duration": 7,
    "start_time": "2022-06-09T01:27:54.364Z"
   },
   {
    "duration": 10,
    "start_time": "2022-06-09T01:27:54.372Z"
   },
   {
    "duration": 123,
    "start_time": "2022-06-09T01:27:54.383Z"
   },
   {
    "duration": 0,
    "start_time": "2022-06-09T01:27:54.508Z"
   },
   {
    "duration": 0,
    "start_time": "2022-06-09T01:27:54.510Z"
   },
   {
    "duration": 5,
    "start_time": "2022-06-09T01:28:25.817Z"
   },
   {
    "duration": 1611,
    "start_time": "2022-06-09T01:28:33.547Z"
   },
   {
    "duration": 133,
    "start_time": "2022-06-09T01:28:35.160Z"
   },
   {
    "duration": 91,
    "start_time": "2022-06-09T01:28:35.295Z"
   },
   {
    "duration": 40,
    "start_time": "2022-06-09T01:28:35.388Z"
   },
   {
    "duration": 33,
    "start_time": "2022-06-09T01:28:35.429Z"
   },
   {
    "duration": 5,
    "start_time": "2022-06-09T01:28:35.463Z"
   },
   {
    "duration": 32,
    "start_time": "2022-06-09T01:28:35.469Z"
   },
   {
    "duration": 34,
    "start_time": "2022-06-09T01:28:35.502Z"
   },
   {
    "duration": 13,
    "start_time": "2022-06-09T01:28:35.538Z"
   },
   {
    "duration": 32,
    "start_time": "2022-06-09T01:28:35.555Z"
   },
   {
    "duration": 26,
    "start_time": "2022-06-09T01:28:35.589Z"
   },
   {
    "duration": 37,
    "start_time": "2022-06-09T01:28:35.616Z"
   },
   {
    "duration": 79,
    "start_time": "2022-06-09T01:28:35.655Z"
   },
   {
    "duration": 110,
    "start_time": "2022-06-09T01:28:35.736Z"
   },
   {
    "duration": 5,
    "start_time": "2022-06-09T01:28:35.848Z"
   },
   {
    "duration": 12,
    "start_time": "2022-06-09T01:28:35.855Z"
   },
   {
    "duration": 60,
    "start_time": "2022-06-09T01:28:35.868Z"
   },
   {
    "duration": 98,
    "start_time": "2022-06-09T01:28:35.930Z"
   },
   {
    "duration": 4,
    "start_time": "2022-06-09T01:28:36.030Z"
   },
   {
    "duration": 10,
    "start_time": "2022-06-09T01:28:36.035Z"
   },
   {
    "duration": 7,
    "start_time": "2022-06-09T01:28:36.046Z"
   },
   {
    "duration": 105,
    "start_time": "2022-06-09T01:28:36.054Z"
   },
   {
    "duration": 4,
    "start_time": "2022-06-09T01:28:36.161Z"
   },
   {
    "duration": 5,
    "start_time": "2022-06-09T01:28:36.167Z"
   },
   {
    "duration": 12,
    "start_time": "2022-06-09T01:28:36.174Z"
   },
   {
    "duration": 17,
    "start_time": "2022-06-09T01:28:36.187Z"
   },
   {
    "duration": 335,
    "start_time": "2022-06-09T01:28:36.206Z"
   },
   {
    "duration": 0,
    "start_time": "2022-06-09T01:28:36.543Z"
   },
   {
    "duration": 1518,
    "start_time": "2022-06-09T01:28:58.858Z"
   },
   {
    "duration": 164,
    "start_time": "2022-06-09T01:29:00.378Z"
   },
   {
    "duration": 92,
    "start_time": "2022-06-09T01:29:00.543Z"
   },
   {
    "duration": 12,
    "start_time": "2022-06-09T01:29:00.637Z"
   },
   {
    "duration": 54,
    "start_time": "2022-06-09T01:29:00.651Z"
   },
   {
    "duration": 7,
    "start_time": "2022-06-09T01:29:00.727Z"
   },
   {
    "duration": 69,
    "start_time": "2022-06-09T01:29:00.735Z"
   },
   {
    "duration": 29,
    "start_time": "2022-06-09T01:29:00.806Z"
   },
   {
    "duration": 22,
    "start_time": "2022-06-09T01:29:00.837Z"
   },
   {
    "duration": 19,
    "start_time": "2022-06-09T01:29:00.862Z"
   },
   {
    "duration": 32,
    "start_time": "2022-06-09T01:29:00.883Z"
   },
   {
    "duration": 45,
    "start_time": "2022-06-09T01:29:00.917Z"
   },
   {
    "duration": 72,
    "start_time": "2022-06-09T01:29:00.964Z"
   },
   {
    "duration": 25,
    "start_time": "2022-06-09T01:29:01.128Z"
   },
   {
    "duration": 13,
    "start_time": "2022-06-09T01:29:01.154Z"
   },
   {
    "duration": 18,
    "start_time": "2022-06-09T01:29:01.168Z"
   },
   {
    "duration": 40,
    "start_time": "2022-06-09T01:29:01.188Z"
   },
   {
    "duration": 4,
    "start_time": "2022-06-09T01:29:01.230Z"
   },
   {
    "duration": 134,
    "start_time": "2022-06-09T01:29:01.236Z"
   },
   {
    "duration": 34,
    "start_time": "2022-06-09T01:29:01.371Z"
   },
   {
    "duration": 36,
    "start_time": "2022-06-09T01:29:01.407Z"
   },
   {
    "duration": 126,
    "start_time": "2022-06-09T01:29:01.445Z"
   },
   {
    "duration": 4,
    "start_time": "2022-06-09T01:29:01.573Z"
   },
   {
    "duration": 13,
    "start_time": "2022-06-09T01:29:01.578Z"
   },
   {
    "duration": 42,
    "start_time": "2022-06-09T01:29:01.592Z"
   },
   {
    "duration": 22,
    "start_time": "2022-06-09T01:29:01.636Z"
   },
   {
    "duration": 1683,
    "start_time": "2022-06-09T01:30:06.666Z"
   },
   {
    "duration": 187,
    "start_time": "2022-06-09T01:30:08.351Z"
   },
   {
    "duration": 90,
    "start_time": "2022-06-09T01:30:08.539Z"
   },
   {
    "duration": 16,
    "start_time": "2022-06-09T01:30:08.631Z"
   },
   {
    "duration": 86,
    "start_time": "2022-06-09T01:30:08.650Z"
   },
   {
    "duration": 3,
    "start_time": "2022-06-09T01:30:08.737Z"
   },
   {
    "duration": 26,
    "start_time": "2022-06-09T01:30:08.741Z"
   },
   {
    "duration": 34,
    "start_time": "2022-06-09T01:30:08.769Z"
   },
   {
    "duration": 30,
    "start_time": "2022-06-09T01:30:08.805Z"
   },
   {
    "duration": 18,
    "start_time": "2022-06-09T01:30:08.839Z"
   },
   {
    "duration": 18,
    "start_time": "2022-06-09T01:30:08.860Z"
   },
   {
    "duration": 153,
    "start_time": "2022-06-09T01:30:08.880Z"
   },
   {
    "duration": 97,
    "start_time": "2022-06-09T01:30:09.036Z"
   },
   {
    "duration": 103,
    "start_time": "2022-06-09T01:30:09.135Z"
   },
   {
    "duration": 5,
    "start_time": "2022-06-09T01:30:09.239Z"
   },
   {
    "duration": 19,
    "start_time": "2022-06-09T01:30:09.246Z"
   },
   {
    "duration": 61,
    "start_time": "2022-06-09T01:30:09.267Z"
   },
   {
    "duration": 98,
    "start_time": "2022-06-09T01:30:09.330Z"
   },
   {
    "duration": 9,
    "start_time": "2022-06-09T01:30:09.429Z"
   },
   {
    "duration": 9,
    "start_time": "2022-06-09T01:30:09.439Z"
   },
   {
    "duration": 6,
    "start_time": "2022-06-09T01:30:09.451Z"
   },
   {
    "duration": 130,
    "start_time": "2022-06-09T01:30:09.459Z"
   },
   {
    "duration": 5,
    "start_time": "2022-06-09T01:30:09.590Z"
   },
   {
    "duration": 13,
    "start_time": "2022-06-09T01:30:09.596Z"
   },
   {
    "duration": 7,
    "start_time": "2022-06-09T01:30:09.627Z"
   },
   {
    "duration": 11,
    "start_time": "2022-06-09T01:30:09.636Z"
   },
   {
    "duration": 1638,
    "start_time": "2022-06-09T01:33:02.653Z"
   },
   {
    "duration": 172,
    "start_time": "2022-06-09T01:33:04.293Z"
   },
   {
    "duration": 90,
    "start_time": "2022-06-09T01:33:04.467Z"
   },
   {
    "duration": 13,
    "start_time": "2022-06-09T01:33:04.559Z"
   },
   {
    "duration": 69,
    "start_time": "2022-06-09T01:33:04.574Z"
   },
   {
    "duration": 3,
    "start_time": "2022-06-09T01:33:04.645Z"
   },
   {
    "duration": 15,
    "start_time": "2022-06-09T01:33:04.650Z"
   },
   {
    "duration": 20,
    "start_time": "2022-06-09T01:33:04.667Z"
   },
   {
    "duration": 11,
    "start_time": "2022-06-09T01:33:04.728Z"
   },
   {
    "duration": 12,
    "start_time": "2022-06-09T01:33:04.741Z"
   },
   {
    "duration": 17,
    "start_time": "2022-06-09T01:33:04.755Z"
   },
   {
    "duration": 156,
    "start_time": "2022-06-09T01:33:04.774Z"
   },
   {
    "duration": 101,
    "start_time": "2022-06-09T01:33:04.933Z"
   },
   {
    "duration": 99,
    "start_time": "2022-06-09T01:33:05.036Z"
   },
   {
    "duration": 5,
    "start_time": "2022-06-09T01:33:05.137Z"
   },
   {
    "duration": 14,
    "start_time": "2022-06-09T01:33:05.143Z"
   },
   {
    "duration": 71,
    "start_time": "2022-06-09T01:33:05.159Z"
   },
   {
    "duration": 100,
    "start_time": "2022-06-09T01:33:05.232Z"
   },
   {
    "duration": 8,
    "start_time": "2022-06-09T01:33:05.335Z"
   },
   {
    "duration": 17,
    "start_time": "2022-06-09T01:33:05.345Z"
   },
   {
    "duration": 8,
    "start_time": "2022-06-09T01:33:05.363Z"
   },
   {
    "duration": 139,
    "start_time": "2022-06-09T01:33:05.373Z"
   },
   {
    "duration": 6,
    "start_time": "2022-06-09T01:33:05.527Z"
   },
   {
    "duration": 10,
    "start_time": "2022-06-09T01:33:05.535Z"
   },
   {
    "duration": 13,
    "start_time": "2022-06-09T01:33:05.547Z"
   },
   {
    "duration": 11,
    "start_time": "2022-06-09T01:33:05.562Z"
   },
   {
    "duration": 1598,
    "start_time": "2022-06-09T01:47:12.696Z"
   },
   {
    "duration": 169,
    "start_time": "2022-06-09T01:47:14.296Z"
   },
   {
    "duration": 89,
    "start_time": "2022-06-09T01:47:14.467Z"
   },
   {
    "duration": 13,
    "start_time": "2022-06-09T01:47:14.558Z"
   },
   {
    "duration": 75,
    "start_time": "2022-06-09T01:47:14.572Z"
   },
   {
    "duration": 2,
    "start_time": "2022-06-09T01:47:14.649Z"
   },
   {
    "duration": 16,
    "start_time": "2022-06-09T01:47:14.653Z"
   },
   {
    "duration": 21,
    "start_time": "2022-06-09T01:47:14.671Z"
   },
   {
    "duration": 41,
    "start_time": "2022-06-09T01:47:14.694Z"
   },
   {
    "duration": 9,
    "start_time": "2022-06-09T01:47:14.738Z"
   },
   {
    "duration": 18,
    "start_time": "2022-06-09T01:47:14.749Z"
   },
   {
    "duration": 161,
    "start_time": "2022-06-09T01:47:14.769Z"
   },
   {
    "duration": 100,
    "start_time": "2022-06-09T01:47:14.933Z"
   },
   {
    "duration": 13,
    "start_time": "2022-06-09T01:47:15.035Z"
   },
   {
    "duration": 6,
    "start_time": "2022-06-09T01:47:15.050Z"
   },
   {
    "duration": 75,
    "start_time": "2022-06-09T01:47:15.058Z"
   },
   {
    "duration": 11,
    "start_time": "2022-06-09T01:47:15.135Z"
   },
   {
    "duration": 81,
    "start_time": "2022-06-09T01:47:15.147Z"
   },
   {
    "duration": 97,
    "start_time": "2022-06-09T01:47:15.231Z"
   },
   {
    "duration": 14,
    "start_time": "2022-06-09T01:47:15.330Z"
   },
   {
    "duration": 7,
    "start_time": "2022-06-09T01:47:15.346Z"
   },
   {
    "duration": 111,
    "start_time": "2022-06-09T01:47:15.355Z"
   },
   {
    "duration": 6,
    "start_time": "2022-06-09T01:47:15.468Z"
   },
   {
    "duration": 7,
    "start_time": "2022-06-09T01:47:15.475Z"
   },
   {
    "duration": 45,
    "start_time": "2022-06-09T01:47:15.484Z"
   },
   {
    "duration": 11,
    "start_time": "2022-06-09T01:47:15.531Z"
   },
   {
    "duration": 100,
    "start_time": "2022-06-09T01:47:15.544Z"
   },
   {
    "duration": 0,
    "start_time": "2022-06-09T01:47:15.645Z"
   },
   {
    "duration": 0,
    "start_time": "2022-06-09T01:47:15.647Z"
   },
   {
    "duration": 19,
    "start_time": "2022-06-09T01:47:48.769Z"
   },
   {
    "duration": 32,
    "start_time": "2022-06-09T01:51:02.478Z"
   },
   {
    "duration": 16,
    "start_time": "2022-06-09T01:52:23.584Z"
   },
   {
    "duration": 5,
    "start_time": "2022-06-09T01:52:53.599Z"
   },
   {
    "duration": 16,
    "start_time": "2022-06-09T01:52:54.390Z"
   },
   {
    "duration": 20,
    "start_time": "2022-06-09T01:54:32.405Z"
   },
   {
    "duration": 1595,
    "start_time": "2022-06-09T01:54:59.811Z"
   },
   {
    "duration": 148,
    "start_time": "2022-06-09T01:55:01.427Z"
   },
   {
    "duration": 97,
    "start_time": "2022-06-09T01:55:01.577Z"
   },
   {
    "duration": 14,
    "start_time": "2022-06-09T01:55:01.676Z"
   },
   {
    "duration": 73,
    "start_time": "2022-06-09T01:55:01.692Z"
   },
   {
    "duration": 44,
    "start_time": "2022-06-09T01:55:01.767Z"
   },
   {
    "duration": 102,
    "start_time": "2022-06-09T01:55:01.812Z"
   },
   {
    "duration": 29,
    "start_time": "2022-06-09T01:55:01.916Z"
   },
   {
    "duration": 34,
    "start_time": "2022-06-09T01:55:01.947Z"
   },
   {
    "duration": 49,
    "start_time": "2022-06-09T01:55:01.984Z"
   },
   {
    "duration": 27,
    "start_time": "2022-06-09T01:55:02.035Z"
   },
   {
    "duration": 70,
    "start_time": "2022-06-09T01:55:02.064Z"
   },
   {
    "duration": 100,
    "start_time": "2022-06-09T01:55:02.136Z"
   },
   {
    "duration": 110,
    "start_time": "2022-06-09T01:55:02.238Z"
   },
   {
    "duration": 6,
    "start_time": "2022-06-09T01:55:02.350Z"
   },
   {
    "duration": 22,
    "start_time": "2022-06-09T01:55:02.357Z"
   },
   {
    "duration": 23,
    "start_time": "2022-06-09T01:55:02.380Z"
   },
   {
    "duration": 101,
    "start_time": "2022-06-09T01:55:02.427Z"
   },
   {
    "duration": 3,
    "start_time": "2022-06-09T01:55:02.530Z"
   },
   {
    "duration": 13,
    "start_time": "2022-06-09T01:55:02.534Z"
   },
   {
    "duration": 4,
    "start_time": "2022-06-09T01:55:02.548Z"
   },
   {
    "duration": 138,
    "start_time": "2022-06-09T01:55:02.554Z"
   },
   {
    "duration": 5,
    "start_time": "2022-06-09T01:55:02.693Z"
   },
   {
    "duration": 28,
    "start_time": "2022-06-09T01:55:02.700Z"
   },
   {
    "duration": 7,
    "start_time": "2022-06-09T01:55:02.730Z"
   },
   {
    "duration": 11,
    "start_time": "2022-06-09T01:55:02.738Z"
   },
   {
    "duration": 121,
    "start_time": "2022-06-09T01:55:02.750Z"
   },
   {
    "duration": 0,
    "start_time": "2022-06-09T01:55:02.872Z"
   },
   {
    "duration": 0,
    "start_time": "2022-06-09T01:55:02.873Z"
   },
   {
    "duration": 4,
    "start_time": "2022-06-09T01:55:09.008Z"
   },
   {
    "duration": 20,
    "start_time": "2022-06-09T01:55:53.650Z"
   },
   {
    "duration": 26,
    "start_time": "2022-06-09T01:56:24.838Z"
   },
   {
    "duration": 19,
    "start_time": "2022-06-09T01:57:24.569Z"
   },
   {
    "duration": 19,
    "start_time": "2022-06-09T01:59:16.442Z"
   },
   {
    "duration": 21148,
    "start_time": "2022-06-09T02:05:26.686Z"
   },
   {
    "duration": 294,
    "start_time": "2022-06-09T02:05:54.942Z"
   },
   {
    "duration": 252,
    "start_time": "2022-06-09T02:07:16.513Z"
   },
   {
    "duration": 1584,
    "start_time": "2022-06-09T02:12:35.512Z"
   },
   {
    "duration": 163,
    "start_time": "2022-06-09T02:12:37.098Z"
   },
   {
    "duration": 91,
    "start_time": "2022-06-09T02:12:37.263Z"
   },
   {
    "duration": 14,
    "start_time": "2022-06-09T02:12:37.356Z"
   },
   {
    "duration": 74,
    "start_time": "2022-06-09T02:12:37.372Z"
   },
   {
    "duration": 3,
    "start_time": "2022-06-09T02:12:37.447Z"
   },
   {
    "duration": 13,
    "start_time": "2022-06-09T02:12:37.452Z"
   },
   {
    "duration": 33,
    "start_time": "2022-06-09T02:12:37.466Z"
   },
   {
    "duration": 30,
    "start_time": "2022-06-09T02:12:37.500Z"
   },
   {
    "duration": 9,
    "start_time": "2022-06-09T02:12:37.533Z"
   },
   {
    "duration": 14,
    "start_time": "2022-06-09T02:12:37.543Z"
   },
   {
    "duration": 72,
    "start_time": "2022-06-09T02:12:37.558Z"
   },
   {
    "duration": 99,
    "start_time": "2022-06-09T02:12:37.633Z"
   },
   {
    "duration": 107,
    "start_time": "2022-06-09T02:12:37.734Z"
   },
   {
    "duration": 6,
    "start_time": "2022-06-09T02:12:37.843Z"
   },
   {
    "duration": 15,
    "start_time": "2022-06-09T02:12:37.851Z"
   },
   {
    "duration": 60,
    "start_time": "2022-06-09T02:12:37.868Z"
   },
   {
    "duration": 99,
    "start_time": "2022-06-09T02:12:37.931Z"
   },
   {
    "duration": 5,
    "start_time": "2022-06-09T02:12:38.031Z"
   },
   {
    "duration": 9,
    "start_time": "2022-06-09T02:12:38.038Z"
   },
   {
    "duration": 6,
    "start_time": "2022-06-09T02:12:38.049Z"
   },
   {
    "duration": 140,
    "start_time": "2022-06-09T02:12:38.057Z"
   },
   {
    "duration": 5,
    "start_time": "2022-06-09T02:12:38.198Z"
   },
   {
    "duration": 25,
    "start_time": "2022-06-09T02:12:38.204Z"
   },
   {
    "duration": 9,
    "start_time": "2022-06-09T02:12:38.230Z"
   },
   {
    "duration": 0,
    "start_time": "2022-06-09T02:12:38.240Z"
   },
   {
    "duration": 0,
    "start_time": "2022-06-09T02:12:38.241Z"
   },
   {
    "duration": 0,
    "start_time": "2022-06-09T02:12:38.242Z"
   },
   {
    "duration": 4,
    "start_time": "2022-06-09T02:13:36.481Z"
   },
   {
    "duration": 924934,
    "start_time": "2022-06-09T02:13:37.147Z"
   },
   {
    "duration": 2237,
    "start_time": "2022-06-09T03:12:56.978Z"
   },
   {
    "duration": 325,
    "start_time": "2022-06-09T03:14:26.482Z"
   },
   {
    "duration": 278,
    "start_time": "2022-06-09T03:14:42.655Z"
   },
   {
    "duration": 311,
    "start_time": "2022-06-09T03:14:48.243Z"
   },
   {
    "duration": 77,
    "start_time": "2022-06-09T03:48:31.248Z"
   },
   {
    "duration": 71,
    "start_time": "2022-06-09T03:54:07.220Z"
   },
   {
    "duration": 6,
    "start_time": "2022-06-09T03:57:11.955Z"
   },
   {
    "duration": 2148,
    "start_time": "2022-06-09T04:06:02.292Z"
   },
   {
    "duration": 150,
    "start_time": "2022-06-09T04:06:04.442Z"
   },
   {
    "duration": 91,
    "start_time": "2022-06-09T04:06:04.593Z"
   },
   {
    "duration": 46,
    "start_time": "2022-06-09T04:06:04.686Z"
   },
   {
    "duration": 38,
    "start_time": "2022-06-09T04:06:04.734Z"
   },
   {
    "duration": 4,
    "start_time": "2022-06-09T04:06:04.775Z"
   },
   {
    "duration": 73,
    "start_time": "2022-06-09T04:06:04.780Z"
   },
   {
    "duration": 23,
    "start_time": "2022-06-09T04:06:04.855Z"
   },
   {
    "duration": 11,
    "start_time": "2022-06-09T04:06:04.880Z"
   },
   {
    "duration": 13,
    "start_time": "2022-06-09T04:06:04.893Z"
   },
   {
    "duration": 25,
    "start_time": "2022-06-09T04:06:04.907Z"
   },
   {
    "duration": 95,
    "start_time": "2022-06-09T04:06:04.933Z"
   },
   {
    "duration": 98,
    "start_time": "2022-06-09T04:06:05.030Z"
   },
   {
    "duration": 21,
    "start_time": "2022-06-09T04:06:05.130Z"
   },
   {
    "duration": 11,
    "start_time": "2022-06-09T04:06:05.153Z"
   },
   {
    "duration": 17,
    "start_time": "2022-06-09T04:06:05.166Z"
   },
   {
    "duration": 43,
    "start_time": "2022-06-09T04:06:05.185Z"
   },
   {
    "duration": 105,
    "start_time": "2022-06-09T04:06:05.230Z"
   },
   {
    "duration": 6,
    "start_time": "2022-06-09T04:06:05.337Z"
   },
   {
    "duration": 12,
    "start_time": "2022-06-09T04:06:05.344Z"
   },
   {
    "duration": 74,
    "start_time": "2022-06-09T04:06:05.357Z"
   },
   {
    "duration": 110,
    "start_time": "2022-06-09T04:06:05.432Z"
   },
   {
    "duration": 4,
    "start_time": "2022-06-09T04:06:05.543Z"
   },
   {
    "duration": 8,
    "start_time": "2022-06-09T04:06:05.549Z"
   },
   {
    "duration": 10,
    "start_time": "2022-06-09T04:06:05.558Z"
   },
   {
    "duration": 1572,
    "start_time": "2022-06-09T04:09:40.312Z"
   },
   {
    "duration": 169,
    "start_time": "2022-06-09T04:09:41.886Z"
   },
   {
    "duration": 88,
    "start_time": "2022-06-09T04:09:42.057Z"
   },
   {
    "duration": 11,
    "start_time": "2022-06-09T04:09:42.147Z"
   },
   {
    "duration": 30,
    "start_time": "2022-06-09T04:09:42.159Z"
   },
   {
    "duration": 2,
    "start_time": "2022-06-09T04:09:42.228Z"
   },
   {
    "duration": 19,
    "start_time": "2022-06-09T04:09:42.231Z"
   },
   {
    "duration": 19,
    "start_time": "2022-06-09T04:09:42.251Z"
   },
   {
    "duration": 10,
    "start_time": "2022-06-09T04:09:42.271Z"
   },
   {
    "duration": 8,
    "start_time": "2022-06-09T04:09:42.284Z"
   },
   {
    "duration": 44,
    "start_time": "2022-06-09T04:09:42.294Z"
   },
   {
    "duration": 88,
    "start_time": "2022-06-09T04:09:42.340Z"
   },
   {
    "duration": 7,
    "start_time": "2022-06-09T04:09:42.430Z"
   },
   {
    "duration": 12,
    "start_time": "2022-06-09T04:09:42.527Z"
   },
   {
    "duration": 4,
    "start_time": "2022-06-09T04:09:42.541Z"
   },
   {
    "duration": 12,
    "start_time": "2022-06-09T04:09:42.546Z"
   },
   {
    "duration": 73,
    "start_time": "2022-06-09T04:09:42.559Z"
   },
   {
    "duration": 102,
    "start_time": "2022-06-09T04:09:42.633Z"
   },
   {
    "duration": 7,
    "start_time": "2022-06-09T04:09:42.737Z"
   },
   {
    "duration": 18,
    "start_time": "2022-06-09T04:09:42.745Z"
   },
   {
    "duration": 12,
    "start_time": "2022-06-09T04:09:42.764Z"
   },
   {
    "duration": 151,
    "start_time": "2022-06-09T04:09:42.778Z"
   },
   {
    "duration": 5,
    "start_time": "2022-06-09T04:09:42.930Z"
   },
   {
    "duration": 12,
    "start_time": "2022-06-09T04:09:42.936Z"
   },
   {
    "duration": 9,
    "start_time": "2022-06-09T04:09:42.950Z"
   },
   {
    "duration": 16,
    "start_time": "2022-06-09T04:09:42.960Z"
   },
   {
    "duration": 129,
    "start_time": "2022-06-09T04:09:42.977Z"
   },
   {
    "duration": 52,
    "start_time": "2022-06-09T04:10:55.927Z"
   },
   {
    "duration": 468,
    "start_time": "2022-06-09T04:11:47.927Z"
   },
   {
    "duration": 48,
    "start_time": "2022-06-09T04:11:50.251Z"
   },
   {
    "duration": 22,
    "start_time": "2022-06-09T04:12:00.483Z"
   },
   {
    "duration": 1154,
    "start_time": "2022-06-09T04:12:03.223Z"
   },
   {
    "duration": 76,
    "start_time": "2022-06-09T04:12:06.355Z"
   },
   {
    "duration": 4,
    "start_time": "2022-06-09T04:12:22.659Z"
   },
   {
    "duration": 1246,
    "start_time": "2022-06-09T04:13:31.436Z"
   },
   {
    "duration": 1123,
    "start_time": "2022-06-09T04:17:22.527Z"
   },
   {
    "duration": 1145,
    "start_time": "2022-06-09T04:17:40.092Z"
   },
   {
    "duration": 21,
    "start_time": "2022-06-09T04:18:08.561Z"
   },
   {
    "duration": 59,
    "start_time": "2022-06-09T04:18:20.279Z"
   },
   {
    "duration": 32,
    "start_time": "2022-06-09T04:20:14.541Z"
   },
   {
    "duration": 35,
    "start_time": "2022-06-09T04:20:17.337Z"
   },
   {
    "duration": 33,
    "start_time": "2022-06-09T04:20:26.073Z"
   },
   {
    "duration": 31,
    "start_time": "2022-06-09T04:20:33.666Z"
   },
   {
    "duration": 35,
    "start_time": "2022-06-09T04:20:37.976Z"
   },
   {
    "duration": 31,
    "start_time": "2022-06-09T04:20:54.669Z"
   },
   {
    "duration": 1107,
    "start_time": "2022-06-09T04:20:59.356Z"
   },
   {
    "duration": 21,
    "start_time": "2022-06-09T04:21:02.577Z"
   },
   {
    "duration": 24,
    "start_time": "2022-06-09T04:21:24.808Z"
   },
   {
    "duration": 21,
    "start_time": "2022-06-09T04:21:28.704Z"
   },
   {
    "duration": 8,
    "start_time": "2022-06-09T04:21:48.360Z"
   },
   {
    "duration": 15,
    "start_time": "2022-06-09T04:22:06.363Z"
   },
   {
    "duration": 25,
    "start_time": "2022-06-09T04:22:13.679Z"
   },
   {
    "duration": 5,
    "start_time": "2022-06-09T04:22:34.949Z"
   },
   {
    "duration": 1114,
    "start_time": "2022-06-09T04:22:35.394Z"
   },
   {
    "duration": 21,
    "start_time": "2022-06-09T04:22:38.723Z"
   },
   {
    "duration": 14,
    "start_time": "2022-06-09T04:23:49.739Z"
   },
   {
    "duration": 13,
    "start_time": "2022-06-09T04:23:54.715Z"
   },
   {
    "duration": 1062,
    "start_time": "2022-06-09T04:24:34.067Z"
   },
   {
    "duration": 17,
    "start_time": "2022-06-09T04:24:40.677Z"
   },
   {
    "duration": 24,
    "start_time": "2022-06-09T04:24:53.466Z"
   },
   {
    "duration": 7,
    "start_time": "2022-06-09T04:24:57.294Z"
   },
   {
    "duration": 9,
    "start_time": "2022-06-09T04:25:03.443Z"
   },
   {
    "duration": 1103,
    "start_time": "2022-06-09T04:26:02.014Z"
   },
   {
    "duration": 16,
    "start_time": "2022-06-09T04:26:18.251Z"
   },
   {
    "duration": 16,
    "start_time": "2022-06-09T04:27:16.707Z"
   },
   {
    "duration": 32,
    "start_time": "2022-06-09T04:30:38.056Z"
   },
   {
    "duration": 9,
    "start_time": "2022-06-09T04:30:51.183Z"
   },
   {
    "duration": 637,
    "start_time": "2022-06-09T04:31:25.865Z"
   },
   {
    "duration": 20,
    "start_time": "2022-06-09T04:31:32.715Z"
   },
   {
    "duration": 9,
    "start_time": "2022-06-09T04:31:41.183Z"
   },
   {
    "duration": 9,
    "start_time": "2022-06-09T04:32:25.833Z"
   },
   {
    "duration": 8,
    "start_time": "2022-06-09T04:32:46.820Z"
   },
   {
    "duration": 8,
    "start_time": "2022-06-09T04:32:57.340Z"
   },
   {
    "duration": 24,
    "start_time": "2022-06-09T04:35:02.313Z"
   },
   {
    "duration": 31,
    "start_time": "2022-06-09T04:35:56.289Z"
   },
   {
    "duration": 29,
    "start_time": "2022-06-09T04:36:17.157Z"
   },
   {
    "duration": 16,
    "start_time": "2022-06-09T04:36:20.807Z"
   },
   {
    "duration": 4,
    "start_time": "2022-06-09T04:36:33.284Z"
   },
   {
    "duration": 3,
    "start_time": "2022-06-09T04:36:40.823Z"
   },
   {
    "duration": 10,
    "start_time": "2022-06-09T04:36:47.839Z"
   },
   {
    "duration": 16,
    "start_time": "2022-06-09T04:37:05.202Z"
   },
   {
    "duration": 1121,
    "start_time": "2022-06-09T04:37:33.147Z"
   },
   {
    "duration": 16,
    "start_time": "2022-06-09T04:37:39.681Z"
   },
   {
    "duration": 235,
    "start_time": "2022-06-09T04:38:46.364Z"
   },
   {
    "duration": 8,
    "start_time": "2022-06-09T04:38:48.530Z"
   },
   {
    "duration": 223,
    "start_time": "2022-06-09T04:38:58.797Z"
   },
   {
    "duration": 9,
    "start_time": "2022-06-09T04:39:02.130Z"
   },
   {
    "duration": 1595,
    "start_time": "2022-06-09T04:39:19.167Z"
   },
   {
    "duration": 192,
    "start_time": "2022-06-09T04:39:20.764Z"
   },
   {
    "duration": 110,
    "start_time": "2022-06-09T04:39:20.959Z"
   },
   {
    "duration": 13,
    "start_time": "2022-06-09T04:39:21.072Z"
   },
   {
    "duration": 67,
    "start_time": "2022-06-09T04:39:21.087Z"
   },
   {
    "duration": 3,
    "start_time": "2022-06-09T04:39:21.156Z"
   },
   {
    "duration": 13,
    "start_time": "2022-06-09T04:39:21.161Z"
   },
   {
    "duration": 58,
    "start_time": "2022-06-09T04:39:21.176Z"
   },
   {
    "duration": 12,
    "start_time": "2022-06-09T04:39:21.236Z"
   },
   {
    "duration": 16,
    "start_time": "2022-06-09T04:39:21.252Z"
   },
   {
    "duration": 23,
    "start_time": "2022-06-09T04:39:21.270Z"
   },
   {
    "duration": 58,
    "start_time": "2022-06-09T04:39:21.295Z"
   },
   {
    "duration": 77,
    "start_time": "2022-06-09T04:39:21.355Z"
   },
   {
    "duration": 98,
    "start_time": "2022-06-09T04:39:21.435Z"
   },
   {
    "duration": 5,
    "start_time": "2022-06-09T04:39:21.535Z"
   },
   {
    "duration": 17,
    "start_time": "2022-06-09T04:39:21.542Z"
   },
   {
    "duration": 70,
    "start_time": "2022-06-09T04:39:21.560Z"
   },
   {
    "duration": 3,
    "start_time": "2022-06-09T04:39:21.632Z"
   },
   {
    "duration": 91,
    "start_time": "2022-06-09T04:39:21.637Z"
   },
   {
    "duration": 12,
    "start_time": "2022-06-09T04:39:21.730Z"
   },
   {
    "duration": 5,
    "start_time": "2022-06-09T04:39:21.743Z"
   },
   {
    "duration": 112,
    "start_time": "2022-06-09T04:39:21.750Z"
   },
   {
    "duration": 5,
    "start_time": "2022-06-09T04:39:21.864Z"
   },
   {
    "duration": 12,
    "start_time": "2022-06-09T04:39:21.871Z"
   },
   {
    "duration": 14,
    "start_time": "2022-06-09T04:39:21.885Z"
   },
   {
    "duration": 177,
    "start_time": "2022-06-09T04:39:21.900Z"
   },
   {
    "duration": 0,
    "start_time": "2022-06-09T04:39:22.078Z"
   },
   {
    "duration": 0,
    "start_time": "2022-06-09T04:39:22.079Z"
   },
   {
    "duration": 0,
    "start_time": "2022-06-09T04:39:22.080Z"
   },
   {
    "duration": 0,
    "start_time": "2022-06-09T04:39:22.082Z"
   },
   {
    "duration": 250,
    "start_time": "2022-06-09T04:40:33.177Z"
   },
   {
    "duration": 13,
    "start_time": "2022-06-09T04:40:55.727Z"
   },
   {
    "duration": 10,
    "start_time": "2022-06-09T04:41:13.317Z"
   },
   {
    "duration": 17,
    "start_time": "2022-06-09T04:41:21.827Z"
   },
   {
    "duration": 222,
    "start_time": "2022-06-09T04:41:28.672Z"
   },
   {
    "duration": 9,
    "start_time": "2022-06-09T04:41:30.055Z"
   },
   {
    "duration": 249,
    "start_time": "2022-06-09T04:41:41.796Z"
   },
   {
    "duration": 11,
    "start_time": "2022-06-09T04:41:43.701Z"
   },
   {
    "duration": 8,
    "start_time": "2022-06-09T04:41:53.485Z"
   },
   {
    "duration": 236,
    "start_time": "2022-06-09T04:42:11.259Z"
   },
   {
    "duration": 10,
    "start_time": "2022-06-09T04:42:13.353Z"
   },
   {
    "duration": 14,
    "start_time": "2022-06-09T04:42:44.808Z"
   },
   {
    "duration": 7,
    "start_time": "2022-06-09T04:42:57.858Z"
   },
   {
    "duration": 4,
    "start_time": "2022-06-09T04:43:03.396Z"
   },
   {
    "duration": 9,
    "start_time": "2022-06-09T04:43:06.377Z"
   },
   {
    "duration": 7,
    "start_time": "2022-06-09T04:43:09.794Z"
   },
   {
    "duration": 5,
    "start_time": "2022-06-09T04:43:15.643Z"
   },
   {
    "duration": 8,
    "start_time": "2022-06-09T04:43:23.441Z"
   },
   {
    "duration": 13,
    "start_time": "2022-06-09T04:43:26.440Z"
   },
   {
    "duration": 18,
    "start_time": "2022-06-09T04:44:52.075Z"
   },
   {
    "duration": 13,
    "start_time": "2022-06-09T04:45:03.331Z"
   },
   {
    "duration": 10,
    "start_time": "2022-06-09T04:45:58.015Z"
   },
   {
    "duration": 6,
    "start_time": "2022-06-09T04:46:04.668Z"
   },
   {
    "duration": 11,
    "start_time": "2022-06-09T04:46:10.192Z"
   },
   {
    "duration": 12,
    "start_time": "2022-06-09T04:46:25.673Z"
   },
   {
    "duration": 10,
    "start_time": "2022-06-09T04:47:01.482Z"
   },
   {
    "duration": 5,
    "start_time": "2022-06-09T04:47:16.891Z"
   },
   {
    "duration": 7,
    "start_time": "2022-06-09T04:47:29.325Z"
   },
   {
    "duration": 17,
    "start_time": "2022-06-09T04:47:41.196Z"
   },
   {
    "duration": 15,
    "start_time": "2022-06-09T04:47:46.927Z"
   },
   {
    "duration": 19,
    "start_time": "2022-06-09T04:47:55.289Z"
   },
   {
    "duration": 9,
    "start_time": "2022-06-09T04:48:11.241Z"
   },
   {
    "duration": 7,
    "start_time": "2022-06-09T04:48:26.249Z"
   },
   {
    "duration": 5,
    "start_time": "2022-06-09T04:48:45.898Z"
   },
   {
    "duration": 14,
    "start_time": "2022-06-09T04:48:51.232Z"
   },
   {
    "duration": 5,
    "start_time": "2022-06-09T04:49:45.419Z"
   },
   {
    "duration": 232,
    "start_time": "2022-06-09T04:49:47.730Z"
   },
   {
    "duration": 6,
    "start_time": "2022-06-09T04:49:48.861Z"
   },
   {
    "duration": 12,
    "start_time": "2022-06-09T04:49:49.573Z"
   },
   {
    "duration": 9,
    "start_time": "2022-06-09T04:53:01.975Z"
   },
   {
    "duration": 9,
    "start_time": "2022-06-09T04:53:13.614Z"
   },
   {
    "duration": 19,
    "start_time": "2022-06-09T04:54:01.105Z"
   },
   {
    "duration": 234,
    "start_time": "2022-06-09T04:54:10.130Z"
   },
   {
    "duration": 6,
    "start_time": "2022-06-09T04:54:11.370Z"
   },
   {
    "duration": 8,
    "start_time": "2022-06-09T04:54:14.123Z"
   },
   {
    "duration": 13,
    "start_time": "2022-06-09T04:54:33.983Z"
   },
   {
    "duration": 11,
    "start_time": "2022-06-09T04:54:48.996Z"
   },
   {
    "duration": 11,
    "start_time": "2022-06-09T04:54:54.724Z"
   },
   {
    "duration": 27,
    "start_time": "2022-06-09T04:56:08.389Z"
   },
   {
    "duration": 26,
    "start_time": "2022-06-09T04:56:12.877Z"
   },
   {
    "duration": 23,
    "start_time": "2022-06-09T04:56:38.295Z"
   },
   {
    "duration": 22,
    "start_time": "2022-06-09T04:56:49.678Z"
   },
   {
    "duration": 23,
    "start_time": "2022-06-09T04:56:56.657Z"
   },
   {
    "duration": 20,
    "start_time": "2022-06-09T04:59:18.437Z"
   },
   {
    "duration": 25,
    "start_time": "2022-06-09T04:59:45.566Z"
   },
   {
    "duration": 25,
    "start_time": "2022-06-09T04:59:52.517Z"
   },
   {
    "duration": 26,
    "start_time": "2022-06-09T05:00:31.014Z"
   },
   {
    "duration": 7,
    "start_time": "2022-06-09T05:00:33.902Z"
   },
   {
    "duration": 228,
    "start_time": "2022-06-09T05:00:38.581Z"
   },
   {
    "duration": 6,
    "start_time": "2022-06-09T05:00:40.350Z"
   },
   {
    "duration": 18,
    "start_time": "2022-06-09T05:01:52.563Z"
   },
   {
    "duration": 18,
    "start_time": "2022-06-09T05:01:59.549Z"
   },
   {
    "duration": 8,
    "start_time": "2022-06-09T05:02:12.457Z"
   },
   {
    "duration": 8,
    "start_time": "2022-06-09T05:02:28.274Z"
   },
   {
    "duration": 9,
    "start_time": "2022-06-09T05:02:39.653Z"
   },
   {
    "duration": 8,
    "start_time": "2022-06-09T05:06:59.027Z"
   },
   {
    "duration": 10,
    "start_time": "2022-06-09T05:07:05.164Z"
   },
   {
    "duration": 44,
    "start_time": "2022-06-09T05:09:01.166Z"
   },
   {
    "duration": 32,
    "start_time": "2022-06-09T05:09:12.463Z"
   },
   {
    "duration": 218,
    "start_time": "2022-06-09T05:09:28.252Z"
   },
   {
    "duration": 8,
    "start_time": "2022-06-09T05:09:29.082Z"
   },
   {
    "duration": 4,
    "start_time": "2022-06-09T05:09:30.084Z"
   },
   {
    "duration": 50,
    "start_time": "2022-06-09T05:09:35.914Z"
   },
   {
    "duration": 213,
    "start_time": "2022-06-09T05:09:38.064Z"
   },
   {
    "duration": 7,
    "start_time": "2022-06-09T05:09:39.178Z"
   },
   {
    "duration": 9,
    "start_time": "2022-06-09T05:09:40.499Z"
   },
   {
    "duration": 13,
    "start_time": "2022-06-09T05:10:02.602Z"
   },
   {
    "duration": 3,
    "start_time": "2022-06-09T05:10:07.749Z"
   },
   {
    "duration": 6,
    "start_time": "2022-06-09T05:10:08.442Z"
   },
   {
    "duration": 5,
    "start_time": "2022-06-09T05:10:08.986Z"
   },
   {
    "duration": 8,
    "start_time": "2022-06-09T05:10:24.455Z"
   },
   {
    "duration": 410,
    "start_time": "2022-06-09T05:10:48.905Z"
   },
   {
    "duration": 1605,
    "start_time": "2022-06-09T05:10:55.074Z"
   },
   {
    "duration": 147,
    "start_time": "2022-06-09T05:10:56.681Z"
   },
   {
    "duration": 60,
    "start_time": "2022-06-09T05:10:56.829Z"
   },
   {
    "duration": 40,
    "start_time": "2022-06-09T05:10:56.891Z"
   },
   {
    "duration": 33,
    "start_time": "2022-06-09T05:10:56.932Z"
   },
   {
    "duration": 3,
    "start_time": "2022-06-09T05:10:56.966Z"
   },
   {
    "duration": 13,
    "start_time": "2022-06-09T05:10:56.970Z"
   },
   {
    "duration": 59,
    "start_time": "2022-06-09T05:10:56.984Z"
   },
   {
    "duration": 10,
    "start_time": "2022-06-09T05:10:57.044Z"
   },
   {
    "duration": 8,
    "start_time": "2022-06-09T05:10:57.056Z"
   },
   {
    "duration": 13,
    "start_time": "2022-06-09T05:10:57.066Z"
   },
   {
    "duration": 61,
    "start_time": "2022-06-09T05:10:57.081Z"
   },
   {
    "duration": 183,
    "start_time": "2022-06-09T05:10:57.144Z"
   },
   {
    "duration": 10,
    "start_time": "2022-06-09T05:10:57.329Z"
   },
   {
    "duration": 4,
    "start_time": "2022-06-09T05:10:57.340Z"
   },
   {
    "duration": 8,
    "start_time": "2022-06-09T05:10:57.346Z"
   },
   {
    "duration": 6,
    "start_time": "2022-06-09T05:10:57.356Z"
   },
   {
    "duration": 8,
    "start_time": "2022-06-09T05:10:57.428Z"
   },
   {
    "duration": 2,
    "start_time": "2022-06-09T05:10:57.528Z"
   },
   {
    "duration": 8,
    "start_time": "2022-06-09T05:10:57.532Z"
   },
   {
    "duration": 4,
    "start_time": "2022-06-09T05:10:57.542Z"
   },
   {
    "duration": 111,
    "start_time": "2022-06-09T05:10:57.547Z"
   },
   {
    "duration": 4,
    "start_time": "2022-06-09T05:10:57.660Z"
   },
   {
    "duration": 8,
    "start_time": "2022-06-09T05:10:57.665Z"
   },
   {
    "duration": 8,
    "start_time": "2022-06-09T05:10:57.675Z"
   },
   {
    "duration": 271,
    "start_time": "2022-06-09T05:10:57.684Z"
   },
   {
    "duration": 6,
    "start_time": "2022-06-09T05:10:57.957Z"
   },
   {
    "duration": 16,
    "start_time": "2022-06-09T05:10:57.965Z"
   },
   {
    "duration": 6,
    "start_time": "2022-06-09T05:10:57.983Z"
   },
   {
    "duration": 8,
    "start_time": "2022-06-09T05:10:57.990Z"
   },
   {
    "duration": 29,
    "start_time": "2022-06-09T05:10:57.999Z"
   },
   {
    "duration": 1613,
    "start_time": "2022-06-09T05:11:29.660Z"
   },
   {
    "duration": 168,
    "start_time": "2022-06-09T05:11:31.275Z"
   },
   {
    "duration": 92,
    "start_time": "2022-06-09T05:11:31.445Z"
   },
   {
    "duration": 15,
    "start_time": "2022-06-09T05:11:31.540Z"
   },
   {
    "duration": 78,
    "start_time": "2022-06-09T05:11:31.557Z"
   },
   {
    "duration": 3,
    "start_time": "2022-06-09T05:11:31.636Z"
   },
   {
    "duration": 14,
    "start_time": "2022-06-09T05:11:31.641Z"
   },
   {
    "duration": 20,
    "start_time": "2022-06-09T05:11:31.657Z"
   },
   {
    "duration": 11,
    "start_time": "2022-06-09T05:11:31.679Z"
   },
   {
    "duration": 8,
    "start_time": "2022-06-09T05:11:31.729Z"
   },
   {
    "duration": 15,
    "start_time": "2022-06-09T05:11:31.738Z"
   },
   {
    "duration": 77,
    "start_time": "2022-06-09T05:11:31.754Z"
   },
   {
    "duration": 98,
    "start_time": "2022-06-09T05:11:31.833Z"
   },
   {
    "duration": 107,
    "start_time": "2022-06-09T05:11:31.933Z"
   },
   {
    "duration": 5,
    "start_time": "2022-06-09T05:11:32.042Z"
   },
   {
    "duration": 16,
    "start_time": "2022-06-09T05:11:32.049Z"
   },
   {
    "duration": 63,
    "start_time": "2022-06-09T05:11:32.067Z"
   },
   {
    "duration": 4,
    "start_time": "2022-06-09T05:11:32.133Z"
   },
   {
    "duration": 92,
    "start_time": "2022-06-09T05:11:32.138Z"
   },
   {
    "duration": 94,
    "start_time": "2022-06-09T05:11:32.234Z"
   },
   {
    "duration": 4,
    "start_time": "2022-06-09T05:11:32.330Z"
   },
   {
    "duration": 102,
    "start_time": "2022-06-09T05:11:32.336Z"
   },
   {
    "duration": 4,
    "start_time": "2022-06-09T05:11:32.440Z"
   },
   {
    "duration": 10,
    "start_time": "2022-06-09T05:11:32.445Z"
   },
   {
    "duration": 13,
    "start_time": "2022-06-09T05:11:32.456Z"
   },
   {
    "duration": 261,
    "start_time": "2022-06-09T05:11:32.470Z"
   },
   {
    "duration": 11,
    "start_time": "2022-06-09T05:11:32.732Z"
   },
   {
    "duration": 5,
    "start_time": "2022-06-09T05:11:32.746Z"
   },
   {
    "duration": 10,
    "start_time": "2022-06-09T05:11:32.753Z"
   },
   {
    "duration": 8,
    "start_time": "2022-06-09T05:11:32.764Z"
   },
   {
    "duration": 1640,
    "start_time": "2022-06-09T05:12:26.515Z"
   },
   {
    "duration": 196,
    "start_time": "2022-06-09T05:12:28.157Z"
   },
   {
    "duration": 87,
    "start_time": "2022-06-09T05:12:28.354Z"
   },
   {
    "duration": 14,
    "start_time": "2022-06-09T05:12:28.444Z"
   },
   {
    "duration": 73,
    "start_time": "2022-06-09T05:12:28.460Z"
   },
   {
    "duration": 3,
    "start_time": "2022-06-09T05:12:28.535Z"
   },
   {
    "duration": 14,
    "start_time": "2022-06-09T05:12:28.539Z"
   },
   {
    "duration": 19,
    "start_time": "2022-06-09T05:12:28.555Z"
   },
   {
    "duration": 11,
    "start_time": "2022-06-09T05:12:28.576Z"
   },
   {
    "duration": 7,
    "start_time": "2022-06-09T05:12:28.628Z"
   },
   {
    "duration": 18,
    "start_time": "2022-06-09T05:12:28.637Z"
   },
   {
    "duration": 73,
    "start_time": "2022-06-09T05:12:28.657Z"
   },
   {
    "duration": 94,
    "start_time": "2022-06-09T05:12:28.733Z"
   },
   {
    "duration": 11,
    "start_time": "2022-06-09T05:12:28.829Z"
   },
   {
    "duration": 4,
    "start_time": "2022-06-09T05:12:28.842Z"
   },
   {
    "duration": 9,
    "start_time": "2022-06-09T05:12:28.848Z"
   },
   {
    "duration": 74,
    "start_time": "2022-06-09T05:12:28.858Z"
   },
   {
    "duration": 91,
    "start_time": "2022-06-09T05:12:28.936Z"
   },
   {
    "duration": 101,
    "start_time": "2022-06-09T05:12:29.029Z"
   },
   {
    "duration": 9,
    "start_time": "2022-06-09T05:12:29.132Z"
   },
   {
    "duration": 6,
    "start_time": "2022-06-09T05:12:29.142Z"
   },
   {
    "duration": 120,
    "start_time": "2022-06-09T05:12:29.150Z"
   },
   {
    "duration": 5,
    "start_time": "2022-06-09T05:12:29.272Z"
   },
   {
    "duration": 9,
    "start_time": "2022-06-09T05:12:29.278Z"
   },
   {
    "duration": 42,
    "start_time": "2022-06-09T05:12:29.288Z"
   },
   {
    "duration": 244,
    "start_time": "2022-06-09T05:12:29.331Z"
   },
   {
    "duration": 10,
    "start_time": "2022-06-09T05:12:29.577Z"
   },
   {
    "duration": 6,
    "start_time": "2022-06-09T05:12:29.590Z"
   },
   {
    "duration": 29,
    "start_time": "2022-06-09T05:12:29.598Z"
   },
   {
    "duration": 10,
    "start_time": "2022-06-09T05:12:29.629Z"
   },
   {
    "duration": 1593,
    "start_time": "2022-06-09T05:14:23.315Z"
   },
   {
    "duration": 172,
    "start_time": "2022-06-09T05:14:24.927Z"
   },
   {
    "duration": 94,
    "start_time": "2022-06-09T05:14:25.100Z"
   },
   {
    "duration": 41,
    "start_time": "2022-06-09T05:14:25.197Z"
   },
   {
    "duration": 62,
    "start_time": "2022-06-09T05:14:25.240Z"
   },
   {
    "duration": 7,
    "start_time": "2022-06-09T05:14:25.327Z"
   },
   {
    "duration": 31,
    "start_time": "2022-06-09T05:14:25.336Z"
   },
   {
    "duration": 23,
    "start_time": "2022-06-09T05:14:25.369Z"
   },
   {
    "duration": 10,
    "start_time": "2022-06-09T05:14:25.394Z"
   },
   {
    "duration": 12,
    "start_time": "2022-06-09T05:14:25.407Z"
   },
   {
    "duration": 14,
    "start_time": "2022-06-09T05:14:25.427Z"
   },
   {
    "duration": 89,
    "start_time": "2022-06-09T05:14:25.442Z"
   },
   {
    "duration": 12,
    "start_time": "2022-06-09T05:14:25.533Z"
   },
   {
    "duration": 14,
    "start_time": "2022-06-09T05:14:25.628Z"
   },
   {
    "duration": 6,
    "start_time": "2022-06-09T05:14:25.643Z"
   },
   {
    "duration": 12,
    "start_time": "2022-06-09T05:14:25.650Z"
   },
   {
    "duration": 63,
    "start_time": "2022-06-09T05:14:25.664Z"
   },
   {
    "duration": 13,
    "start_time": "2022-06-09T05:14:25.730Z"
   },
   {
    "duration": 84,
    "start_time": "2022-06-09T05:14:25.745Z"
   },
   {
    "duration": 29,
    "start_time": "2022-06-09T05:14:25.831Z"
   },
   {
    "duration": 29,
    "start_time": "2022-06-09T05:14:25.862Z"
   },
   {
    "duration": 113,
    "start_time": "2022-06-09T05:14:25.893Z"
   },
   {
    "duration": 5,
    "start_time": "2022-06-09T05:14:26.008Z"
   },
   {
    "duration": 7,
    "start_time": "2022-06-09T05:14:26.028Z"
   },
   {
    "duration": 16,
    "start_time": "2022-06-09T05:14:26.037Z"
   },
   {
    "duration": 62,
    "start_time": "2022-06-09T05:30:32.594Z"
   },
   {
    "duration": 2205,
    "start_time": "2022-06-09T05:30:39.131Z"
   },
   {
    "duration": 197,
    "start_time": "2022-06-09T05:30:41.338Z"
   },
   {
    "duration": 92,
    "start_time": "2022-06-09T05:30:41.537Z"
   },
   {
    "duration": 15,
    "start_time": "2022-06-09T05:30:41.632Z"
   },
   {
    "duration": 86,
    "start_time": "2022-06-09T05:30:41.649Z"
   },
   {
    "duration": 4,
    "start_time": "2022-06-09T05:30:41.737Z"
   },
   {
    "duration": 32,
    "start_time": "2022-06-09T05:30:41.742Z"
   },
   {
    "duration": 36,
    "start_time": "2022-06-09T05:30:41.776Z"
   },
   {
    "duration": 18,
    "start_time": "2022-06-09T05:30:41.815Z"
   },
   {
    "duration": 30,
    "start_time": "2022-06-09T05:30:41.836Z"
   },
   {
    "duration": 41,
    "start_time": "2022-06-09T05:30:41.869Z"
   },
   {
    "duration": 56,
    "start_time": "2022-06-09T05:30:41.913Z"
   },
   {
    "duration": 118,
    "start_time": "2022-06-09T05:30:42.029Z"
   },
   {
    "duration": 24,
    "start_time": "2022-06-09T05:30:42.149Z"
   },
   {
    "duration": 15,
    "start_time": "2022-06-09T05:30:42.175Z"
   },
   {
    "duration": 30,
    "start_time": "2022-06-09T05:30:42.191Z"
   },
   {
    "duration": 31,
    "start_time": "2022-06-09T05:30:42.223Z"
   },
   {
    "duration": 100,
    "start_time": "2022-06-09T05:30:42.332Z"
   },
   {
    "duration": 9,
    "start_time": "2022-06-09T05:30:42.435Z"
   },
   {
    "duration": 16,
    "start_time": "2022-06-09T05:30:42.446Z"
   },
   {
    "duration": 5,
    "start_time": "2022-06-09T05:30:42.464Z"
   },
   {
    "duration": 156,
    "start_time": "2022-06-09T05:30:42.471Z"
   },
   {
    "duration": 7,
    "start_time": "2022-06-09T05:30:42.629Z"
   },
   {
    "duration": 8,
    "start_time": "2022-06-09T05:30:42.638Z"
   },
   {
    "duration": 13,
    "start_time": "2022-06-09T05:30:42.648Z"
   },
   {
    "duration": 5475,
    "start_time": "2022-06-09T05:30:42.663Z"
   },
   {
    "duration": 18,
    "start_time": "2022-06-09T05:30:48.140Z"
   },
   {
    "duration": 8,
    "start_time": "2022-06-09T05:30:48.160Z"
   },
   {
    "duration": 14,
    "start_time": "2022-06-09T05:30:48.169Z"
   },
   {
    "duration": 26,
    "start_time": "2022-06-09T05:30:48.185Z"
   },
   {
    "duration": 12,
    "start_time": "2022-06-09T05:31:26.590Z"
   },
   {
    "duration": 5040,
    "start_time": "2022-06-09T05:31:32.721Z"
   },
   {
    "duration": 9,
    "start_time": "2022-06-09T05:31:54.807Z"
   },
   {
    "duration": 5193,
    "start_time": "2022-06-09T05:32:05.048Z"
   },
   {
    "duration": 7,
    "start_time": "2022-06-09T05:32:10.243Z"
   },
   {
    "duration": 209330,
    "start_time": "2022-06-09T05:32:44.545Z"
   },
   {
    "duration": 12,
    "start_time": "2022-06-09T05:36:13.879Z"
   },
   {
    "duration": 43,
    "start_time": "2022-06-09T05:36:19.654Z"
   },
   {
    "duration": 7,
    "start_time": "2022-06-09T05:36:22.738Z"
   },
   {
    "duration": 46,
    "start_time": "2022-06-09T05:36:25.045Z"
   },
   {
    "duration": 94,
    "start_time": "2022-06-09T05:36:32.886Z"
   },
   {
    "duration": 37,
    "start_time": "2022-06-09T05:36:35.018Z"
   },
   {
    "duration": 58,
    "start_time": "2022-06-09T05:42:24.685Z"
   },
   {
    "duration": 2267,
    "start_time": "2022-06-09T05:42:31.776Z"
   },
   {
    "duration": 202,
    "start_time": "2022-06-09T05:42:34.045Z"
   },
   {
    "duration": 115,
    "start_time": "2022-06-09T05:42:34.250Z"
   },
   {
    "duration": 16,
    "start_time": "2022-06-09T05:42:34.368Z"
   },
   {
    "duration": 87,
    "start_time": "2022-06-09T05:42:34.386Z"
   },
   {
    "duration": 3,
    "start_time": "2022-06-09T05:42:34.476Z"
   },
   {
    "duration": 55,
    "start_time": "2022-06-09T05:42:34.481Z"
   },
   {
    "duration": 28,
    "start_time": "2022-06-09T05:42:34.539Z"
   },
   {
    "duration": 11,
    "start_time": "2022-06-09T05:42:34.569Z"
   },
   {
    "duration": 27,
    "start_time": "2022-06-09T05:42:34.583Z"
   },
   {
    "duration": 35,
    "start_time": "2022-06-09T05:42:34.612Z"
   },
   {
    "duration": 53,
    "start_time": "2022-06-09T05:42:34.649Z"
   },
   {
    "duration": 90,
    "start_time": "2022-06-09T05:42:34.743Z"
   },
   {
    "duration": 33,
    "start_time": "2022-06-09T05:42:34.835Z"
   },
   {
    "duration": 17,
    "start_time": "2022-06-09T05:42:34.870Z"
   },
   {
    "duration": 37,
    "start_time": "2022-06-09T05:42:34.890Z"
   },
   {
    "duration": 18,
    "start_time": "2022-06-09T05:42:34.930Z"
   },
   {
    "duration": 207,
    "start_time": "2022-06-09T05:42:34.951Z"
   },
   {
    "duration": 12,
    "start_time": "2022-06-09T05:42:35.160Z"
   },
   {
    "duration": 32,
    "start_time": "2022-06-09T05:42:35.174Z"
   },
   {
    "duration": 23,
    "start_time": "2022-06-09T05:42:35.207Z"
   },
   {
    "duration": 132,
    "start_time": "2022-06-09T05:42:35.231Z"
   },
   {
    "duration": 6,
    "start_time": "2022-06-09T05:42:35.365Z"
   },
   {
    "duration": 34,
    "start_time": "2022-06-09T05:42:35.373Z"
   },
   {
    "duration": 30,
    "start_time": "2022-06-09T05:42:35.409Z"
   },
   {
    "duration": 200000,
    "start_time": "2022-06-09T05:42:35.440Z"
   },
   {
    "duration": 8,
    "start_time": "2022-06-09T05:45:55.442Z"
   },
   {
    "duration": 36,
    "start_time": "2022-06-09T05:45:55.453Z"
   },
   {
    "duration": 36,
    "start_time": "2022-06-09T05:45:55.491Z"
   },
   {
    "duration": 61,
    "start_time": "2022-06-09T05:45:55.530Z"
   },
   {
    "duration": 63,
    "start_time": "2022-06-09T05:45:55.594Z"
   },
   {
    "duration": 28,
    "start_time": "2022-06-09T05:46:19.743Z"
   },
   {
    "duration": 19499,
    "start_time": "2022-06-09T05:46:34.626Z"
   },
   {
    "duration": 9,
    "start_time": "2022-06-09T05:46:54.127Z"
   },
   {
    "duration": 11,
    "start_time": "2022-06-09T05:47:01.468Z"
   },
   {
    "duration": 4,
    "start_time": "2022-06-09T05:47:05.276Z"
   },
   {
    "duration": 7,
    "start_time": "2022-06-09T05:47:06.082Z"
   },
   {
    "duration": 10,
    "start_time": "2022-06-09T05:47:08.730Z"
   },
   {
    "duration": 2,
    "start_time": "2022-06-09T05:47:28.381Z"
   },
   {
    "duration": 2,
    "start_time": "2022-06-09T05:50:57.515Z"
   },
   {
    "duration": 38,
    "start_time": "2022-06-11T07:29:28.507Z"
   },
   {
    "duration": 927,
    "start_time": "2022-06-11T07:58:09.800Z"
   },
   {
    "duration": 2063,
    "start_time": "2022-06-11T07:58:10.729Z"
   },
   {
    "duration": 130,
    "start_time": "2022-06-11T07:58:12.793Z"
   },
   {
    "duration": 77,
    "start_time": "2022-06-11T07:58:12.924Z"
   },
   {
    "duration": 11,
    "start_time": "2022-06-11T07:58:13.002Z"
   },
   {
    "duration": 29,
    "start_time": "2022-06-11T07:58:13.014Z"
   },
   {
    "duration": 33,
    "start_time": "2022-06-11T07:58:13.045Z"
   },
   {
    "duration": 9,
    "start_time": "2022-06-11T07:58:13.079Z"
   },
   {
    "duration": 19,
    "start_time": "2022-06-11T07:58:13.089Z"
   },
   {
    "duration": 2,
    "start_time": "2022-06-11T07:58:13.110Z"
   },
   {
    "duration": 10,
    "start_time": "2022-06-11T07:58:13.113Z"
   },
   {
    "duration": 16,
    "start_time": "2022-06-11T07:58:13.125Z"
   },
   {
    "duration": 46,
    "start_time": "2022-06-11T07:58:13.143Z"
   },
   {
    "duration": 90,
    "start_time": "2022-06-11T07:58:13.191Z"
   },
   {
    "duration": 103,
    "start_time": "2022-06-11T07:58:13.282Z"
   },
   {
    "duration": 4,
    "start_time": "2022-06-11T07:58:13.387Z"
   },
   {
    "duration": 8,
    "start_time": "2022-06-11T07:58:13.392Z"
   },
   {
    "duration": 77,
    "start_time": "2022-06-11T07:58:13.401Z"
   },
   {
    "duration": 103,
    "start_time": "2022-06-11T07:58:13.480Z"
   },
   {
    "duration": 11,
    "start_time": "2022-06-11T07:58:13.585Z"
   },
   {
    "duration": 87,
    "start_time": "2022-06-11T07:58:13.597Z"
   },
   {
    "duration": 5,
    "start_time": "2022-06-11T07:58:13.686Z"
   },
   {
    "duration": 14,
    "start_time": "2022-06-11T07:58:13.692Z"
   },
   {
    "duration": 10,
    "start_time": "2022-06-11T07:58:13.707Z"
   },
   {
    "duration": 6,
    "start_time": "2022-06-11T07:58:13.719Z"
   },
   {
    "duration": 5,
    "start_time": "2022-06-11T07:58:13.726Z"
   },
   {
    "duration": 7,
    "start_time": "2022-06-11T07:58:13.732Z"
   },
   {
    "duration": 4,
    "start_time": "2022-06-11T07:58:13.741Z"
   },
   {
    "duration": 4,
    "start_time": "2022-06-11T07:58:13.746Z"
   },
   {
    "duration": 4,
    "start_time": "2022-06-11T07:58:13.751Z"
   },
   {
    "duration": 5,
    "start_time": "2022-06-11T07:58:13.756Z"
   },
   {
    "duration": 4,
    "start_time": "2022-06-11T07:58:13.762Z"
   },
   {
    "duration": 6,
    "start_time": "2022-06-11T10:37:46.626Z"
   },
   {
    "duration": 936,
    "start_time": "2022-06-11T10:37:52.204Z"
   },
   {
    "duration": 568,
    "start_time": "2022-06-11T10:37:53.141Z"
   },
   {
    "duration": 141,
    "start_time": "2022-06-11T10:37:53.710Z"
   },
   {
    "duration": 78,
    "start_time": "2022-06-11T10:37:53.853Z"
   },
   {
    "duration": 12,
    "start_time": "2022-06-11T10:37:53.932Z"
   },
   {
    "duration": 66,
    "start_time": "2022-06-11T10:37:53.946Z"
   },
   {
    "duration": 3,
    "start_time": "2022-06-11T10:37:54.013Z"
   },
   {
    "duration": 14,
    "start_time": "2022-06-11T10:37:54.017Z"
   },
   {
    "duration": 20,
    "start_time": "2022-06-11T10:37:54.032Z"
   },
   {
    "duration": 2,
    "start_time": "2022-06-11T10:37:54.054Z"
   },
   {
    "duration": 7,
    "start_time": "2022-06-11T10:37:54.078Z"
   },
   {
    "duration": 12,
    "start_time": "2022-06-11T10:37:54.087Z"
   },
   {
    "duration": 177,
    "start_time": "2022-06-11T10:37:54.101Z"
   },
   {
    "duration": 7,
    "start_time": "2022-06-11T10:37:54.280Z"
   },
   {
    "duration": 105,
    "start_time": "2022-06-11T10:37:54.288Z"
   },
   {
    "duration": 5,
    "start_time": "2022-06-11T10:37:54.395Z"
   },
   {
    "duration": 11,
    "start_time": "2022-06-11T10:37:54.401Z"
   },
   {
    "duration": 68,
    "start_time": "2022-06-11T10:37:54.413Z"
   },
   {
    "duration": 7,
    "start_time": "2022-06-11T10:37:54.483Z"
   },
   {
    "duration": 87,
    "start_time": "2022-06-11T10:37:54.492Z"
   },
   {
    "duration": 97,
    "start_time": "2022-06-11T10:37:54.585Z"
   },
   {
    "duration": 10,
    "start_time": "2022-06-11T10:37:54.684Z"
   },
   {
    "duration": 15,
    "start_time": "2022-06-11T10:37:54.695Z"
   },
   {
    "duration": 17,
    "start_time": "2022-06-11T10:37:54.712Z"
   },
   {
    "duration": 30,
    "start_time": "2022-06-11T10:37:54.731Z"
   },
   {
    "duration": 12,
    "start_time": "2022-06-11T10:37:54.762Z"
   },
   {
    "duration": 12,
    "start_time": "2022-06-11T10:37:54.775Z"
   },
   {
    "duration": 11,
    "start_time": "2022-06-11T10:37:54.790Z"
   },
   {
    "duration": 9,
    "start_time": "2022-06-11T10:37:54.802Z"
   },
   {
    "duration": 9,
    "start_time": "2022-06-11T10:37:54.813Z"
   },
   {
    "duration": 17,
    "start_time": "2022-06-11T10:37:54.824Z"
   },
   {
    "duration": 15,
    "start_time": "2022-06-11T10:37:54.842Z"
   },
   {
    "duration": 4,
    "start_time": "2022-06-11T10:39:01.068Z"
   },
   {
    "duration": 3,
    "start_time": "2022-06-11T10:46:52.423Z"
   },
   {
    "duration": 90,
    "start_time": "2022-06-11T10:46:56.208Z"
   },
   {
    "duration": 39,
    "start_time": "2022-06-11T10:47:06.117Z"
   },
   {
    "duration": 5,
    "start_time": "2022-06-11T10:47:15.893Z"
   },
   {
    "duration": 6,
    "start_time": "2022-06-11T11:49:24.865Z"
   },
   {
    "duration": 7,
    "start_time": "2022-06-12T02:12:03.919Z"
   },
   {
    "duration": 948,
    "start_time": "2022-06-12T02:13:07.597Z"
   },
   {
    "duration": 1445,
    "start_time": "2022-06-12T02:13:08.547Z"
   },
   {
    "duration": 125,
    "start_time": "2022-06-12T02:13:09.994Z"
   },
   {
    "duration": 77,
    "start_time": "2022-06-12T02:13:10.121Z"
   },
   {
    "duration": 11,
    "start_time": "2022-06-12T02:13:10.199Z"
   },
   {
    "duration": 33,
    "start_time": "2022-06-12T02:13:10.211Z"
   },
   {
    "duration": 3,
    "start_time": "2022-06-12T02:13:10.277Z"
   },
   {
    "duration": 12,
    "start_time": "2022-06-12T02:13:10.282Z"
   },
   {
    "duration": 19,
    "start_time": "2022-06-12T02:13:10.296Z"
   },
   {
    "duration": 2,
    "start_time": "2022-06-12T02:13:10.317Z"
   },
   {
    "duration": 9,
    "start_time": "2022-06-12T02:13:10.320Z"
   },
   {
    "duration": 13,
    "start_time": "2022-06-12T02:13:10.330Z"
   },
   {
    "duration": 134,
    "start_time": "2022-06-12T02:13:10.345Z"
   },
   {
    "duration": 7,
    "start_time": "2022-06-12T02:13:10.480Z"
   },
   {
    "duration": 11,
    "start_time": "2022-06-12T02:13:10.579Z"
   },
   {
    "duration": 92,
    "start_time": "2022-06-12T02:13:10.591Z"
   },
   {
    "duration": 15,
    "start_time": "2022-06-12T02:13:10.684Z"
   },
   {
    "duration": 7,
    "start_time": "2022-06-12T02:13:10.700Z"
   },
   {
    "duration": 74,
    "start_time": "2022-06-12T02:13:10.708Z"
   },
   {
    "duration": 96,
    "start_time": "2022-06-12T02:13:10.787Z"
   },
   {
    "duration": 7,
    "start_time": "2022-06-12T02:13:10.884Z"
   },
   {
    "duration": 5,
    "start_time": "2022-06-12T02:13:10.892Z"
   },
   {
    "duration": 2,
    "start_time": "2022-06-12T02:13:10.898Z"
   },
   {
    "duration": 6,
    "start_time": "2022-06-12T02:13:10.902Z"
   },
   {
    "duration": 5,
    "start_time": "2022-06-12T02:13:10.909Z"
   },
   {
    "duration": 7,
    "start_time": "2022-06-12T02:13:10.915Z"
   },
   {
    "duration": 97,
    "start_time": "2022-06-12T02:13:10.923Z"
   },
   {
    "duration": 0,
    "start_time": "2022-06-12T02:13:11.021Z"
   },
   {
    "duration": 0,
    "start_time": "2022-06-12T02:13:11.023Z"
   },
   {
    "duration": 0,
    "start_time": "2022-06-12T02:13:11.023Z"
   },
   {
    "duration": 0,
    "start_time": "2022-06-12T02:13:11.025Z"
   },
   {
    "duration": 0,
    "start_time": "2022-06-12T02:13:11.026Z"
   },
   {
    "duration": 0,
    "start_time": "2022-06-12T02:13:11.026Z"
   },
   {
    "duration": 0,
    "start_time": "2022-06-12T02:13:11.027Z"
   },
   {
    "duration": 0,
    "start_time": "2022-06-12T02:13:11.029Z"
   },
   {
    "duration": 6,
    "start_time": "2022-06-12T03:19:28.268Z"
   },
   {
    "duration": 9,
    "start_time": "2022-06-12T03:19:36.383Z"
   },
   {
    "duration": 9,
    "start_time": "2022-06-12T03:21:00.399Z"
   },
   {
    "duration": 802,
    "start_time": "2022-06-12T03:21:19.094Z"
   },
   {
    "duration": 621,
    "start_time": "2022-06-12T03:21:54.448Z"
   },
   {
    "duration": 3522,
    "start_time": "2022-06-12T03:22:09.330Z"
   },
   {
    "duration": 3536,
    "start_time": "2022-06-12T03:26:13.764Z"
   },
   {
    "duration": 6,
    "start_time": "2022-06-12T03:27:59.283Z"
   },
   {
    "duration": 40,
    "start_time": "2022-06-12T04:05:18.093Z"
   },
   {
    "duration": 892,
    "start_time": "2022-06-12T04:05:24.733Z"
   },
   {
    "duration": 1695,
    "start_time": "2022-06-12T04:05:25.627Z"
   },
   {
    "duration": 136,
    "start_time": "2022-06-12T04:05:27.323Z"
   },
   {
    "duration": 56,
    "start_time": "2022-06-12T04:05:27.477Z"
   },
   {
    "duration": 11,
    "start_time": "2022-06-12T04:05:27.534Z"
   },
   {
    "duration": 61,
    "start_time": "2022-06-12T04:05:27.547Z"
   },
   {
    "duration": 3,
    "start_time": "2022-06-12T04:05:27.609Z"
   },
   {
    "duration": 12,
    "start_time": "2022-06-12T04:05:27.613Z"
   },
   {
    "duration": 18,
    "start_time": "2022-06-12T04:05:27.626Z"
   },
   {
    "duration": 2,
    "start_time": "2022-06-12T04:05:27.677Z"
   },
   {
    "duration": 8,
    "start_time": "2022-06-12T04:05:27.681Z"
   },
   {
    "duration": 11,
    "start_time": "2022-06-12T04:05:27.690Z"
   },
   {
    "duration": 30,
    "start_time": "2022-06-12T04:05:27.702Z"
   },
   {
    "duration": 7,
    "start_time": "2022-06-12T04:05:27.780Z"
   },
   {
    "duration": 12,
    "start_time": "2022-06-12T04:05:27.878Z"
   },
   {
    "duration": 3,
    "start_time": "2022-06-12T04:05:27.892Z"
   },
   {
    "duration": 8,
    "start_time": "2022-06-12T04:05:27.896Z"
   },
   {
    "duration": 7,
    "start_time": "2022-06-12T04:05:27.905Z"
   },
   {
    "duration": 101,
    "start_time": "2022-06-12T04:05:27.977Z"
   },
   {
    "duration": 5,
    "start_time": "2022-06-12T04:05:28.080Z"
   },
   {
    "duration": 7,
    "start_time": "2022-06-12T04:05:28.087Z"
   },
   {
    "duration": 5,
    "start_time": "2022-06-12T04:05:28.096Z"
   },
   {
    "duration": 3,
    "start_time": "2022-06-12T04:05:28.102Z"
   },
   {
    "duration": 7,
    "start_time": "2022-06-12T04:05:28.106Z"
   },
   {
    "duration": 4,
    "start_time": "2022-06-12T04:05:28.114Z"
   },
   {
    "duration": 7,
    "start_time": "2022-06-12T04:05:28.120Z"
   },
   {
    "duration": 872,
    "start_time": "2022-06-12T04:47:53.851Z"
   },
   {
    "duration": 526,
    "start_time": "2022-06-12T04:47:54.724Z"
   },
   {
    "duration": 140,
    "start_time": "2022-06-12T04:47:55.251Z"
   },
   {
    "duration": 56,
    "start_time": "2022-06-12T04:47:55.393Z"
   },
   {
    "duration": 35,
    "start_time": "2022-06-12T04:47:55.450Z"
   },
   {
    "duration": 34,
    "start_time": "2022-06-12T04:47:55.486Z"
   },
   {
    "duration": 3,
    "start_time": "2022-06-12T04:47:55.521Z"
   },
   {
    "duration": 11,
    "start_time": "2022-06-12T04:47:55.525Z"
   },
   {
    "duration": 49,
    "start_time": "2022-06-12T04:47:55.538Z"
   },
   {
    "duration": 2,
    "start_time": "2022-06-12T04:47:55.588Z"
   },
   {
    "duration": 9,
    "start_time": "2022-06-12T04:47:55.592Z"
   },
   {
    "duration": 13,
    "start_time": "2022-06-12T04:47:55.603Z"
   },
   {
    "duration": 64,
    "start_time": "2022-06-12T04:47:55.617Z"
   },
   {
    "duration": 97,
    "start_time": "2022-06-12T04:47:55.682Z"
   },
   {
    "duration": 103,
    "start_time": "2022-06-12T04:47:55.782Z"
   },
   {
    "duration": 4,
    "start_time": "2022-06-12T04:47:55.887Z"
   },
   {
    "duration": 8,
    "start_time": "2022-06-12T04:47:55.892Z"
   },
   {
    "duration": 9,
    "start_time": "2022-06-12T04:47:55.901Z"
   },
   {
    "duration": 3,
    "start_time": "2022-06-12T04:47:55.978Z"
   },
   {
    "duration": 97,
    "start_time": "2022-06-12T04:47:55.982Z"
   },
   {
    "duration": 11,
    "start_time": "2022-06-12T04:47:56.080Z"
   },
   {
    "duration": 6,
    "start_time": "2022-06-12T04:47:56.092Z"
   },
   {
    "duration": 3,
    "start_time": "2022-06-12T04:47:56.099Z"
   },
   {
    "duration": 7,
    "start_time": "2022-06-12T04:47:56.103Z"
   },
   {
    "duration": 5,
    "start_time": "2022-06-12T04:47:56.111Z"
   },
   {
    "duration": 6,
    "start_time": "2022-06-12T04:47:56.117Z"
   },
   {
    "duration": 3059,
    "start_time": "2022-06-12T04:47:56.124Z"
   },
   {
    "duration": 2,
    "start_time": "2022-06-12T04:47:59.185Z"
   },
   {
    "duration": 9,
    "start_time": "2022-06-12T04:47:59.188Z"
   },
   {
    "duration": 6,
    "start_time": "2022-06-12T04:47:59.198Z"
   },
   {
    "duration": 6,
    "start_time": "2022-06-12T04:47:59.205Z"
   },
   {
    "duration": 5,
    "start_time": "2022-06-12T04:47:59.213Z"
   },
   {
    "duration": 5,
    "start_time": "2022-06-12T04:47:59.219Z"
   },
   {
    "duration": 7,
    "start_time": "2022-06-12T04:47:59.225Z"
   },
   {
    "duration": 2,
    "start_time": "2022-06-12T04:47:59.234Z"
   },
   {
    "duration": 6,
    "start_time": "2022-06-12T05:05:26.050Z"
   },
   {
    "duration": 3,
    "start_time": "2022-06-12T05:05:36.031Z"
   },
   {
    "duration": 88,
    "start_time": "2022-06-12T05:05:39.609Z"
   },
   {
    "duration": 1094,
    "start_time": "2022-06-12T05:05:53.109Z"
   },
   {
    "duration": 1102,
    "start_time": "2022-06-12T05:06:17.480Z"
   },
   {
    "duration": 6,
    "start_time": "2022-06-12T05:06:23.910Z"
   },
   {
    "duration": 7,
    "start_time": "2022-06-12T05:12:11.252Z"
   },
   {
    "duration": 7,
    "start_time": "2022-06-12T05:12:26.013Z"
   },
   {
    "duration": 8,
    "start_time": "2022-06-12T05:16:59.453Z"
   },
   {
    "duration": 5,
    "start_time": "2022-06-12T05:17:21.023Z"
   },
   {
    "duration": 5,
    "start_time": "2022-06-12T05:18:04.698Z"
   },
   {
    "duration": 6,
    "start_time": "2022-06-12T05:18:23.484Z"
   },
   {
    "duration": 12,
    "start_time": "2022-06-12T05:24:54.753Z"
   },
   {
    "duration": 9,
    "start_time": "2022-06-12T05:24:59.578Z"
   },
   {
    "duration": 8,
    "start_time": "2022-06-12T05:25:13.843Z"
   },
   {
    "duration": 7,
    "start_time": "2022-06-12T05:28:32.108Z"
   },
   {
    "duration": 7,
    "start_time": "2022-06-12T05:29:06.237Z"
   },
   {
    "duration": 33,
    "start_time": "2022-06-12T05:31:39.858Z"
   },
   {
    "duration": 28,
    "start_time": "2022-06-12T05:31:57.802Z"
   },
   {
    "duration": 7,
    "start_time": "2022-06-12T05:32:02.103Z"
   },
   {
    "duration": 7,
    "start_time": "2022-06-12T05:32:10.603Z"
   },
   {
    "duration": 7,
    "start_time": "2022-06-12T05:32:13.923Z"
   },
   {
    "duration": 7,
    "start_time": "2022-06-12T05:35:18.412Z"
   },
   {
    "duration": 3,
    "start_time": "2022-06-12T05:40:14.377Z"
   },
   {
    "duration": 1278,
    "start_time": "2022-06-12T05:40:21.263Z"
   },
   {
    "duration": 7,
    "start_time": "2022-06-12T05:40:26.762Z"
   },
   {
    "duration": 3,
    "start_time": "2022-06-12T05:44:34.518Z"
   },
   {
    "duration": 3986,
    "start_time": "2022-06-12T05:44:36.221Z"
   },
   {
    "duration": 3976,
    "start_time": "2022-06-12T05:45:49.418Z"
   },
   {
    "duration": 3,
    "start_time": "2022-06-12T05:46:16.497Z"
   },
   {
    "duration": 1272,
    "start_time": "2022-06-12T05:46:17.195Z"
   },
   {
    "duration": 1237,
    "start_time": "2022-06-12T05:46:31.727Z"
   },
   {
    "duration": 3,
    "start_time": "2022-06-12T06:00:48.282Z"
   },
   {
    "duration": 11,
    "start_time": "2022-06-12T06:00:51.921Z"
   },
   {
    "duration": 1310,
    "start_time": "2022-06-12T06:01:04.732Z"
   },
   {
    "duration": 8,
    "start_time": "2022-06-12T06:01:15.879Z"
   },
   {
    "duration": 3,
    "start_time": "2022-06-12T06:02:04.174Z"
   },
   {
    "duration": 1279,
    "start_time": "2022-06-12T06:02:12.806Z"
   },
   {
    "duration": 7,
    "start_time": "2022-06-12T06:02:21.294Z"
   },
   {
    "duration": 896,
    "start_time": "2022-06-12T06:05:45.819Z"
   },
   {
    "duration": 536,
    "start_time": "2022-06-12T06:05:46.716Z"
   },
   {
    "duration": 149,
    "start_time": "2022-06-12T06:05:47.254Z"
   },
   {
    "duration": 84,
    "start_time": "2022-06-12T06:05:47.405Z"
   },
   {
    "duration": 11,
    "start_time": "2022-06-12T06:05:47.491Z"
   },
   {
    "duration": 32,
    "start_time": "2022-06-12T06:05:47.504Z"
   },
   {
    "duration": 43,
    "start_time": "2022-06-12T06:05:47.537Z"
   },
   {
    "duration": 13,
    "start_time": "2022-06-12T06:05:47.582Z"
   },
   {
    "duration": 24,
    "start_time": "2022-06-12T06:05:47.596Z"
   },
   {
    "duration": 3,
    "start_time": "2022-06-12T06:05:47.623Z"
   },
   {
    "duration": 13,
    "start_time": "2022-06-12T06:05:47.627Z"
   },
   {
    "duration": 37,
    "start_time": "2022-06-12T06:05:47.642Z"
   },
   {
    "duration": 27,
    "start_time": "2022-06-12T06:05:47.681Z"
   },
   {
    "duration": 7,
    "start_time": "2022-06-12T06:05:47.780Z"
   },
   {
    "duration": 13,
    "start_time": "2022-06-12T06:05:47.879Z"
   },
   {
    "duration": 4,
    "start_time": "2022-06-12T06:05:47.894Z"
   },
   {
    "duration": 6,
    "start_time": "2022-06-12T06:05:47.900Z"
   },
   {
    "duration": 71,
    "start_time": "2022-06-12T06:05:47.908Z"
   },
   {
    "duration": 104,
    "start_time": "2022-06-12T06:05:47.980Z"
   },
   {
    "duration": 7,
    "start_time": "2022-06-12T06:05:48.085Z"
   },
   {
    "duration": 10,
    "start_time": "2022-06-12T06:05:48.093Z"
   },
   {
    "duration": 3,
    "start_time": "2022-06-12T06:05:48.105Z"
   },
   {
    "duration": 4,
    "start_time": "2022-06-12T06:05:48.109Z"
   },
   {
    "duration": 1333,
    "start_time": "2022-06-12T06:05:48.114Z"
   },
   {
    "duration": 2,
    "start_time": "2022-06-12T06:05:49.448Z"
   },
   {
    "duration": 9,
    "start_time": "2022-06-12T06:05:49.452Z"
   },
   {
    "duration": 6,
    "start_time": "2022-06-12T06:05:49.462Z"
   },
   {
    "duration": 2,
    "start_time": "2022-06-12T06:05:49.477Z"
   },
   {
    "duration": 88,
    "start_time": "2022-06-12T06:05:49.480Z"
   },
   {
    "duration": 0,
    "start_time": "2022-06-12T06:05:49.578Z"
   },
   {
    "duration": 0,
    "start_time": "2022-06-12T06:05:49.579Z"
   },
   {
    "duration": 0,
    "start_time": "2022-06-12T06:05:49.580Z"
   },
   {
    "duration": 0,
    "start_time": "2022-06-12T06:05:49.581Z"
   },
   {
    "duration": 0,
    "start_time": "2022-06-12T06:05:49.581Z"
   },
   {
    "duration": 0,
    "start_time": "2022-06-12T06:05:49.582Z"
   },
   {
    "duration": 0,
    "start_time": "2022-06-12T06:05:49.583Z"
   },
   {
    "duration": 0,
    "start_time": "2022-06-12T06:05:49.584Z"
   },
   {
    "duration": 1294,
    "start_time": "2022-06-12T06:06:28.354Z"
   },
   {
    "duration": 1279,
    "start_time": "2022-06-12T06:06:39.824Z"
   },
   {
    "duration": 3,
    "start_time": "2022-06-12T06:07:28.609Z"
   },
   {
    "duration": 1309,
    "start_time": "2022-06-12T06:07:31.032Z"
   },
   {
    "duration": 1326,
    "start_time": "2022-06-12T06:07:35.149Z"
   },
   {
    "duration": 3,
    "start_time": "2022-06-12T06:17:06.691Z"
   },
   {
    "duration": 1331,
    "start_time": "2022-06-12T06:17:07.468Z"
   },
   {
    "duration": 3,
    "start_time": "2022-06-12T06:17:57.259Z"
   },
   {
    "duration": 1316,
    "start_time": "2022-06-12T06:18:01.220Z"
   },
   {
    "duration": 1314,
    "start_time": "2022-06-12T06:19:59.040Z"
   },
   {
    "duration": 4,
    "start_time": "2022-06-12T06:25:41.557Z"
   },
   {
    "duration": 14,
    "start_time": "2022-06-12T06:25:51.867Z"
   },
   {
    "duration": 4,
    "start_time": "2022-06-12T06:26:38.621Z"
   },
   {
    "duration": 14,
    "start_time": "2022-06-12T06:26:42.277Z"
   },
   {
    "duration": 4,
    "start_time": "2022-06-12T06:27:30.964Z"
   },
   {
    "duration": 20,
    "start_time": "2022-06-12T06:27:33.487Z"
   },
   {
    "duration": 4,
    "start_time": "2022-06-12T06:28:16.008Z"
   },
   {
    "duration": 24,
    "start_time": "2022-06-12T06:28:21.449Z"
   },
   {
    "duration": 8,
    "start_time": "2022-06-12T06:28:56.294Z"
   },
   {
    "duration": 4,
    "start_time": "2022-06-12T06:29:05.499Z"
   },
   {
    "duration": 21,
    "start_time": "2022-06-12T06:29:11.921Z"
   },
   {
    "duration": 3,
    "start_time": "2022-06-12T06:29:39.569Z"
   },
   {
    "duration": 21,
    "start_time": "2022-06-12T06:29:42.202Z"
   },
   {
    "duration": 4,
    "start_time": "2022-06-12T06:29:54.284Z"
   },
   {
    "duration": 28,
    "start_time": "2022-06-12T06:29:57.156Z"
   },
   {
    "duration": 4,
    "start_time": "2022-06-12T06:30:49.269Z"
   },
   {
    "duration": 28,
    "start_time": "2022-06-12T06:30:53.000Z"
   },
   {
    "duration": 4,
    "start_time": "2022-06-12T06:32:39.114Z"
   },
   {
    "duration": 3,
    "start_time": "2022-06-12T06:33:07.177Z"
   },
   {
    "duration": 27,
    "start_time": "2022-06-12T06:33:09.325Z"
   },
   {
    "duration": 4,
    "start_time": "2022-06-12T06:34:02.514Z"
   },
   {
    "duration": 26,
    "start_time": "2022-06-12T06:34:05.287Z"
   },
   {
    "duration": 4,
    "start_time": "2022-06-12T06:34:41.144Z"
   },
   {
    "duration": 24,
    "start_time": "2022-06-12T06:34:41.894Z"
   },
   {
    "duration": 4,
    "start_time": "2022-06-12T06:34:51.157Z"
   },
   {
    "duration": 24,
    "start_time": "2022-06-12T06:34:52.043Z"
   },
   {
    "duration": 4,
    "start_time": "2022-06-12T06:35:03.947Z"
   },
   {
    "duration": 24,
    "start_time": "2022-06-12T06:35:04.802Z"
   },
   {
    "duration": 3,
    "start_time": "2022-06-12T06:36:29.464Z"
   },
   {
    "duration": 1118,
    "start_time": "2022-06-12T06:36:32.384Z"
   },
   {
    "duration": 4,
    "start_time": "2022-06-12T06:37:18.899Z"
   },
   {
    "duration": 220,
    "start_time": "2022-06-12T06:37:20.436Z"
   },
   {
    "duration": 4,
    "start_time": "2022-06-12T06:44:33.954Z"
   },
   {
    "duration": 134,
    "start_time": "2022-06-12T06:44:38.197Z"
   },
   {
    "duration": 5,
    "start_time": "2022-06-12T06:50:07.916Z"
   },
   {
    "duration": 8694,
    "start_time": "2022-06-12T06:50:10.669Z"
   },
   {
    "duration": 5,
    "start_time": "2022-06-12T06:52:23.337Z"
   },
   {
    "duration": 8736,
    "start_time": "2022-06-12T06:52:24.261Z"
   },
   {
    "duration": 3,
    "start_time": "2022-06-12T06:54:05.768Z"
   },
   {
    "duration": 3092,
    "start_time": "2022-06-12T06:54:06.702Z"
   },
   {
    "duration": 4,
    "start_time": "2022-06-12T06:54:34.572Z"
   },
   {
    "duration": 3004,
    "start_time": "2022-06-12T06:54:35.461Z"
   },
   {
    "duration": 4,
    "start_time": "2022-06-12T06:54:48.716Z"
   },
   {
    "duration": 2964,
    "start_time": "2022-06-12T06:54:49.738Z"
   },
   {
    "duration": 4,
    "start_time": "2022-06-12T06:57:16.034Z"
   },
   {
    "duration": 3050,
    "start_time": "2022-06-12T06:57:16.629Z"
   },
   {
    "duration": 4,
    "start_time": "2022-06-12T06:57:29.919Z"
   },
   {
    "duration": 4173,
    "start_time": "2022-06-12T06:57:30.709Z"
   },
   {
    "duration": 5,
    "start_time": "2022-06-12T07:06:22.481Z"
   },
   {
    "duration": 3765,
    "start_time": "2022-06-12T07:06:24.630Z"
   },
   {
    "duration": 4,
    "start_time": "2022-06-12T07:07:59.976Z"
   },
   {
    "duration": 6226,
    "start_time": "2022-06-12T07:08:00.535Z"
   },
   {
    "duration": 4,
    "start_time": "2022-06-12T07:08:23.150Z"
   },
   {
    "duration": 5879,
    "start_time": "2022-06-12T07:08:23.921Z"
   },
   {
    "duration": 4,
    "start_time": "2022-06-12T07:08:52.895Z"
   },
   {
    "duration": 6349,
    "start_time": "2022-06-12T07:08:53.596Z"
   },
   {
    "duration": 3,
    "start_time": "2022-06-12T07:09:53.301Z"
   },
   {
    "duration": 19,
    "start_time": "2022-06-12T07:09:54.116Z"
   },
   {
    "duration": 4,
    "start_time": "2022-06-12T07:14:52.755Z"
   },
   {
    "duration": 18,
    "start_time": "2022-06-12T07:14:53.386Z"
   },
   {
    "duration": 3,
    "start_time": "2022-06-12T07:15:05.941Z"
   },
   {
    "duration": 20,
    "start_time": "2022-06-12T07:15:06.515Z"
   },
   {
    "duration": 4,
    "start_time": "2022-06-12T07:16:44.200Z"
   },
   {
    "duration": 3367,
    "start_time": "2022-06-12T07:16:45.163Z"
   },
   {
    "duration": 4,
    "start_time": "2022-06-12T07:16:59.002Z"
   },
   {
    "duration": 6256,
    "start_time": "2022-06-12T07:16:59.845Z"
   },
   {
    "duration": 4,
    "start_time": "2022-06-12T07:17:19.905Z"
   },
   {
    "duration": 3657,
    "start_time": "2022-06-12T07:17:20.766Z"
   },
   {
    "duration": 4,
    "start_time": "2022-06-12T07:17:43.085Z"
   },
   {
    "duration": 6495,
    "start_time": "2022-06-12T07:17:44.060Z"
   },
   {
    "duration": 281,
    "start_time": "2022-06-12T07:18:32.765Z"
   },
   {
    "duration": 4,
    "start_time": "2022-06-12T07:20:01.082Z"
   },
   {
    "duration": 6949,
    "start_time": "2022-06-12T07:20:01.817Z"
   },
   {
    "duration": 31,
    "start_time": "2022-06-12T07:29:32.466Z"
   },
   {
    "duration": 3,
    "start_time": "2022-06-12T07:29:41.980Z"
   },
   {
    "duration": 16,
    "start_time": "2022-06-12T07:29:42.610Z"
   },
   {
    "duration": 5,
    "start_time": "2022-06-12T07:29:57.605Z"
   },
   {
    "duration": 18,
    "start_time": "2022-06-12T07:29:58.254Z"
   },
   {
    "duration": 4,
    "start_time": "2022-06-12T07:30:10.105Z"
   },
   {
    "duration": 5647,
    "start_time": "2022-06-12T07:30:10.760Z"
   },
   {
    "duration": 281,
    "start_time": "2022-06-12T07:31:21.375Z"
   },
   {
    "duration": 287,
    "start_time": "2022-06-12T07:32:07.120Z"
   },
   {
    "duration": 5704,
    "start_time": "2022-06-12T07:32:12.875Z"
   },
   {
    "duration": 8055,
    "start_time": "2022-06-12T07:32:39.871Z"
   },
   {
    "duration": 7744,
    "start_time": "2022-06-12T07:47:31.753Z"
   },
   {
    "duration": 5,
    "start_time": "2022-06-12T07:54:22.616Z"
   },
   {
    "duration": 20,
    "start_time": "2022-06-12T07:54:23.221Z"
   },
   {
    "duration": 4,
    "start_time": "2022-06-12T07:54:44.346Z"
   },
   {
    "duration": 8586,
    "start_time": "2022-06-12T07:54:44.736Z"
   },
   {
    "duration": 4,
    "start_time": "2022-06-12T07:55:11.161Z"
   },
   {
    "duration": 8638,
    "start_time": "2022-06-12T07:55:11.814Z"
   },
   {
    "duration": 4703,
    "start_time": "2022-06-12T08:00:00.122Z"
   },
   {
    "duration": 7614,
    "start_time": "2022-06-12T08:00:17.011Z"
   },
   {
    "duration": 8,
    "start_time": "2022-06-12T08:01:43.961Z"
   },
   {
    "duration": 9,
    "start_time": "2022-06-12T08:01:53.703Z"
   },
   {
    "duration": 245,
    "start_time": "2022-06-12T08:01:59.790Z"
   },
   {
    "duration": 7243,
    "start_time": "2022-06-12T08:02:10.100Z"
   },
   {
    "duration": 7,
    "start_time": "2022-06-12T08:02:17.345Z"
   },
   {
    "duration": 8,
    "start_time": "2022-06-12T08:02:54.900Z"
   },
   {
    "duration": 7,
    "start_time": "2022-06-12T08:02:59.530Z"
   },
   {
    "duration": 7484,
    "start_time": "2022-06-12T08:03:05.024Z"
   },
   {
    "duration": 7,
    "start_time": "2022-06-12T08:03:22.106Z"
   },
   {
    "duration": 8,
    "start_time": "2022-06-12T08:03:31.217Z"
   },
   {
    "duration": 192,
    "start_time": "2022-06-12T08:03:42.511Z"
   },
   {
    "duration": 16,
    "start_time": "2022-06-12T08:03:53.439Z"
   },
   {
    "duration": 4,
    "start_time": "2022-06-12T08:06:15.380Z"
   },
   {
    "duration": 6082,
    "start_time": "2022-06-12T08:06:16.133Z"
   },
   {
    "duration": 447,
    "start_time": "2022-06-12T08:06:22.217Z"
   },
   {
    "duration": 360,
    "start_time": "2022-06-12T08:06:35.241Z"
   },
   {
    "duration": 14,
    "start_time": "2022-06-12T08:07:03.773Z"
   },
   {
    "duration": 5786,
    "start_time": "2022-06-12T08:07:11.142Z"
   },
   {
    "duration": 163,
    "start_time": "2022-06-12T08:07:24.266Z"
   },
   {
    "duration": 4,
    "start_time": "2022-06-12T08:09:32.519Z"
   },
   {
    "duration": 6604,
    "start_time": "2022-06-12T08:09:36.253Z"
   },
   {
    "duration": 4,
    "start_time": "2022-06-12T08:11:01.345Z"
   },
   {
    "duration": 471,
    "start_time": "2022-06-12T08:11:02.953Z"
   },
   {
    "duration": 452,
    "start_time": "2022-06-12T08:11:12.345Z"
   },
   {
    "duration": 4,
    "start_time": "2022-06-12T08:19:43.423Z"
   },
   {
    "duration": 6436,
    "start_time": "2022-06-12T08:19:44.458Z"
   },
   {
    "duration": 4,
    "start_time": "2022-06-12T08:21:28.003Z"
   },
   {
    "duration": 9861,
    "start_time": "2022-06-12T08:21:29.450Z"
   },
   {
    "duration": 18,
    "start_time": "2022-06-12T08:21:59.800Z"
   },
   {
    "duration": 4,
    "start_time": "2022-06-12T08:24:50.517Z"
   },
   {
    "duration": 12739,
    "start_time": "2022-06-12T08:24:51.727Z"
   },
   {
    "duration": 5,
    "start_time": "2022-06-12T10:06:47.661Z"
   },
   {
    "duration": 11316,
    "start_time": "2022-06-12T10:06:48.550Z"
   },
   {
    "duration": 5,
    "start_time": "2022-06-12T10:09:06.326Z"
   },
   {
    "duration": 11411,
    "start_time": "2022-06-12T10:09:07.934Z"
   },
   {
    "duration": 5,
    "start_time": "2022-06-12T10:09:28.402Z"
   },
   {
    "duration": 11503,
    "start_time": "2022-06-12T10:09:29.695Z"
   },
   {
    "duration": 5,
    "start_time": "2022-06-12T10:09:56.305Z"
   },
   {
    "duration": 11552,
    "start_time": "2022-06-12T10:09:57.376Z"
   },
   {
    "duration": 5,
    "start_time": "2022-06-12T10:10:28.781Z"
   },
   {
    "duration": 4,
    "start_time": "2022-06-12T10:10:41.941Z"
   },
   {
    "duration": 11709,
    "start_time": "2022-06-12T10:10:42.879Z"
   },
   {
    "duration": 5,
    "start_time": "2022-06-12T10:10:59.700Z"
   },
   {
    "duration": 11407,
    "start_time": "2022-06-12T10:11:03.185Z"
   },
   {
    "duration": 6,
    "start_time": "2022-06-12T10:11:23.381Z"
   },
   {
    "duration": 11493,
    "start_time": "2022-06-12T10:11:24.563Z"
   },
   {
    "duration": 11539,
    "start_time": "2022-06-12T10:12:01.351Z"
   },
   {
    "duration": 3,
    "start_time": "2022-06-12T10:12:12.892Z"
   },
   {
    "duration": 11493,
    "start_time": "2022-06-12T10:13:00.839Z"
   },
   {
    "duration": 8,
    "start_time": "2022-06-12T10:32:42.036Z"
   },
   {
    "duration": 4,
    "start_time": "2022-06-12T10:32:56.792Z"
   },
   {
    "duration": 7,
    "start_time": "2022-06-12T10:32:58.827Z"
   },
   {
    "duration": 36,
    "start_time": "2022-06-12T10:34:10.584Z"
   },
   {
    "duration": 10872,
    "start_time": "2022-06-12T10:34:12.124Z"
   },
   {
    "duration": 4,
    "start_time": "2022-06-12T10:35:22.327Z"
   },
   {
    "duration": 5632,
    "start_time": "2022-06-12T10:35:25.953Z"
   },
   {
    "duration": 5543,
    "start_time": "2022-06-12T10:35:37.964Z"
   },
   {
    "duration": 355,
    "start_time": "2022-06-12T10:35:47.191Z"
   },
   {
    "duration": 5560,
    "start_time": "2022-06-12T10:36:12.808Z"
   },
   {
    "duration": 358,
    "start_time": "2022-06-12T10:36:20.194Z"
   },
   {
    "duration": 6344,
    "start_time": "2022-06-12T10:36:38.099Z"
   },
   {
    "duration": 355,
    "start_time": "2022-06-12T10:41:21.080Z"
   },
   {
    "duration": 5,
    "start_time": "2022-06-12T10:50:39.800Z"
   },
   {
    "duration": 6331,
    "start_time": "2022-06-12T10:50:41.686Z"
   },
   {
    "duration": 1228,
    "start_time": "2022-06-12T10:51:06.101Z"
   },
   {
    "duration": 5,
    "start_time": "2022-06-12T10:51:57.907Z"
   },
   {
    "duration": 5550,
    "start_time": "2022-06-12T10:51:59.856Z"
   },
   {
    "duration": 5526,
    "start_time": "2022-06-12T10:52:10.259Z"
   },
   {
    "duration": 848,
    "start_time": "2022-06-12T10:52:20.920Z"
   },
   {
    "duration": 375,
    "start_time": "2022-06-12T10:52:52.579Z"
   },
   {
    "duration": 322,
    "start_time": "2022-06-12T10:54:05.496Z"
   },
   {
    "duration": 391,
    "start_time": "2022-06-12T10:54:23.236Z"
   },
   {
    "duration": 10,
    "start_time": "2022-06-12T10:59:16.288Z"
   },
   {
    "duration": 9,
    "start_time": "2022-06-12T10:59:26.911Z"
   },
   {
    "duration": 25,
    "start_time": "2022-06-12T10:59:34.256Z"
   },
   {
    "duration": 5662,
    "start_time": "2022-06-12T10:59:43.961Z"
   },
   {
    "duration": 819,
    "start_time": "2022-06-12T10:59:51.296Z"
   },
   {
    "duration": 30,
    "start_time": "2022-06-12T11:00:06.791Z"
   },
   {
    "duration": 3,
    "start_time": "2022-06-12T11:12:20.596Z"
   },
   {
    "duration": 316,
    "start_time": "2022-06-12T11:12:45.421Z"
   },
   {
    "duration": 5576,
    "start_time": "2022-06-12T11:13:07.596Z"
   },
   {
    "duration": 852,
    "start_time": "2022-06-12T11:13:18.700Z"
   },
   {
    "duration": 3,
    "start_time": "2022-06-12T11:13:29.232Z"
   },
   {
    "duration": 11,
    "start_time": "2022-06-12T11:13:33.256Z"
   },
   {
    "duration": 10,
    "start_time": "2022-06-12T11:14:07.042Z"
   },
   {
    "duration": 9,
    "start_time": "2022-06-12T11:14:13.706Z"
   },
   {
    "duration": 3,
    "start_time": "2022-06-12T11:14:24.031Z"
   },
   {
    "duration": 865,
    "start_time": "2022-06-12T11:14:39.256Z"
   },
   {
    "duration": 809,
    "start_time": "2022-06-12T11:15:00.752Z"
   },
   {
    "duration": 356,
    "start_time": "2022-06-12T11:15:31.432Z"
   },
   {
    "duration": 308,
    "start_time": "2022-06-12T11:15:46.609Z"
   },
   {
    "duration": 301,
    "start_time": "2022-06-12T11:15:58.409Z"
   },
   {
    "duration": 317,
    "start_time": "2022-06-12T11:16:06.299Z"
   },
   {
    "duration": 10,
    "start_time": "2022-06-12T11:16:16.915Z"
   },
   {
    "duration": 314,
    "start_time": "2022-06-12T11:16:22.522Z"
   },
   {
    "duration": 306,
    "start_time": "2022-06-12T11:16:29.347Z"
   },
   {
    "duration": 303,
    "start_time": "2022-06-12T11:16:53.562Z"
   },
   {
    "duration": 10,
    "start_time": "2022-06-12T11:18:32.847Z"
   },
   {
    "duration": 3,
    "start_time": "2022-06-12T11:19:26.143Z"
   },
   {
    "duration": 1354,
    "start_time": "2022-06-12T11:19:31.326Z"
   },
   {
    "duration": 3,
    "start_time": "2022-06-12T11:19:35.089Z"
   },
   {
    "duration": 6,
    "start_time": "2022-06-12T11:19:38.196Z"
   },
   {
    "duration": 5,
    "start_time": "2022-06-12T11:19:46.542Z"
   },
   {
    "duration": 3,
    "start_time": "2022-06-12T11:19:54.362Z"
   },
   {
    "duration": 1502,
    "start_time": "2022-06-12T11:19:59.098Z"
   },
   {
    "duration": 3,
    "start_time": "2022-06-12T11:20:01.399Z"
   },
   {
    "duration": 2585,
    "start_time": "2022-06-12T11:20:03.873Z"
   },
   {
    "duration": 4,
    "start_time": "2022-06-12T11:20:48.821Z"
   },
   {
    "duration": 2591,
    "start_time": "2022-06-12T11:20:53.000Z"
   },
   {
    "duration": 3,
    "start_time": "2022-06-12T11:21:02.702Z"
   },
   {
    "duration": 3,
    "start_time": "2022-06-12T12:50:07.695Z"
   },
   {
    "duration": 3,
    "start_time": "2022-06-12T12:50:51.093Z"
   },
   {
    "duration": 2697,
    "start_time": "2022-06-12T12:51:04.493Z"
   },
   {
    "duration": 892,
    "start_time": "2022-06-12T12:51:44.938Z"
   },
   {
    "duration": 562,
    "start_time": "2022-06-12T12:51:45.832Z"
   },
   {
    "duration": 148,
    "start_time": "2022-06-12T12:51:46.396Z"
   },
   {
    "duration": 77,
    "start_time": "2022-06-12T12:51:46.546Z"
   },
   {
    "duration": 14,
    "start_time": "2022-06-12T12:51:46.624Z"
   },
   {
    "duration": 60,
    "start_time": "2022-06-12T12:51:46.639Z"
   },
   {
    "duration": 3,
    "start_time": "2022-06-12T12:51:46.701Z"
   },
   {
    "duration": 12,
    "start_time": "2022-06-12T12:51:46.705Z"
   },
   {
    "duration": 19,
    "start_time": "2022-06-12T12:51:46.719Z"
   },
   {
    "duration": 2,
    "start_time": "2022-06-12T12:51:46.740Z"
   },
   {
    "duration": 37,
    "start_time": "2022-06-12T12:51:46.743Z"
   },
   {
    "duration": 13,
    "start_time": "2022-06-12T12:51:46.781Z"
   },
   {
    "duration": 85,
    "start_time": "2022-06-12T12:51:46.796Z"
   },
   {
    "duration": 97,
    "start_time": "2022-06-12T12:51:46.882Z"
   },
   {
    "duration": 103,
    "start_time": "2022-06-12T12:51:46.980Z"
   },
   {
    "duration": 5,
    "start_time": "2022-06-12T12:51:47.084Z"
   },
   {
    "duration": 8,
    "start_time": "2022-06-12T12:51:47.091Z"
   },
   {
    "duration": 6,
    "start_time": "2022-06-12T12:51:47.101Z"
   },
   {
    "duration": 70,
    "start_time": "2022-06-12T12:51:47.108Z"
   },
   {
    "duration": 6,
    "start_time": "2022-06-12T12:51:47.180Z"
   },
   {
    "duration": 94,
    "start_time": "2022-06-12T12:51:47.188Z"
   },
   {
    "duration": 5,
    "start_time": "2022-06-12T12:51:47.283Z"
   },
   {
    "duration": 4,
    "start_time": "2022-06-12T12:51:47.290Z"
   },
   {
    "duration": 91,
    "start_time": "2022-06-12T12:51:47.295Z"
   },
   {
    "duration": 0,
    "start_time": "2022-06-12T12:51:47.388Z"
   },
   {
    "duration": 0,
    "start_time": "2022-06-12T12:51:47.389Z"
   },
   {
    "duration": 0,
    "start_time": "2022-06-12T12:51:47.390Z"
   },
   {
    "duration": 0,
    "start_time": "2022-06-12T12:51:47.391Z"
   },
   {
    "duration": 0,
    "start_time": "2022-06-12T12:51:47.392Z"
   },
   {
    "duration": 0,
    "start_time": "2022-06-12T12:51:47.392Z"
   },
   {
    "duration": 0,
    "start_time": "2022-06-12T12:51:47.393Z"
   },
   {
    "duration": 0,
    "start_time": "2022-06-12T12:51:47.394Z"
   },
   {
    "duration": 0,
    "start_time": "2022-06-12T12:51:47.395Z"
   },
   {
    "duration": 0,
    "start_time": "2022-06-12T12:51:47.396Z"
   },
   {
    "duration": 0,
    "start_time": "2022-06-12T12:51:47.397Z"
   },
   {
    "duration": 0,
    "start_time": "2022-06-12T12:51:47.398Z"
   },
   {
    "duration": 0,
    "start_time": "2022-06-12T12:51:47.398Z"
   },
   {
    "duration": 0,
    "start_time": "2022-06-12T12:51:47.399Z"
   },
   {
    "duration": 0,
    "start_time": "2022-06-12T12:51:47.400Z"
   },
   {
    "duration": 3,
    "start_time": "2022-06-12T12:59:09.121Z"
   },
   {
    "duration": 9,
    "start_time": "2022-06-12T12:59:09.874Z"
   },
   {
    "duration": 5,
    "start_time": "2022-06-12T12:59:51.178Z"
   },
   {
    "duration": 9,
    "start_time": "2022-06-12T12:59:51.944Z"
   },
   {
    "duration": 15,
    "start_time": "2022-06-12T13:00:13.730Z"
   },
   {
    "duration": 1750,
    "start_time": "2022-06-12T13:00:24.249Z"
   },
   {
    "duration": 3,
    "start_time": "2022-06-12T13:00:46.888Z"
   },
   {
    "duration": 1481,
    "start_time": "2022-06-12T13:00:51.473Z"
   },
   {
    "duration": 985,
    "start_time": "2022-06-12T13:01:00.347Z"
   },
   {
    "duration": 570,
    "start_time": "2022-06-12T13:01:01.333Z"
   },
   {
    "duration": 141,
    "start_time": "2022-06-12T13:01:01.905Z"
   },
   {
    "duration": 78,
    "start_time": "2022-06-12T13:01:02.048Z"
   },
   {
    "duration": 12,
    "start_time": "2022-06-12T13:01:02.127Z"
   },
   {
    "duration": 59,
    "start_time": "2022-06-12T13:01:02.140Z"
   },
   {
    "duration": 3,
    "start_time": "2022-06-12T13:01:02.200Z"
   },
   {
    "duration": 13,
    "start_time": "2022-06-12T13:01:02.204Z"
   },
   {
    "duration": 19,
    "start_time": "2022-06-12T13:01:02.219Z"
   },
   {
    "duration": 2,
    "start_time": "2022-06-12T13:01:02.241Z"
   },
   {
    "duration": 35,
    "start_time": "2022-06-12T13:01:02.244Z"
   },
   {
    "duration": 15,
    "start_time": "2022-06-12T13:01:02.281Z"
   },
   {
    "duration": 82,
    "start_time": "2022-06-12T13:01:02.297Z"
   },
   {
    "duration": 97,
    "start_time": "2022-06-12T13:01:02.381Z"
   },
   {
    "duration": 11,
    "start_time": "2022-06-12T13:01:02.480Z"
   },
   {
    "duration": 21,
    "start_time": "2022-06-12T13:01:02.493Z"
   },
   {
    "duration": 12,
    "start_time": "2022-06-12T13:01:02.515Z"
   },
   {
    "duration": 18,
    "start_time": "2022-06-12T13:01:02.528Z"
   },
   {
    "duration": 40,
    "start_time": "2022-06-12T13:01:02.548Z"
   },
   {
    "duration": 6,
    "start_time": "2022-06-12T13:01:02.678Z"
   },
   {
    "duration": 20,
    "start_time": "2022-06-12T13:01:02.685Z"
   },
   {
    "duration": 13,
    "start_time": "2022-06-12T13:01:02.706Z"
   },
   {
    "duration": 8,
    "start_time": "2022-06-12T13:01:02.721Z"
   },
   {
    "duration": 92,
    "start_time": "2022-06-12T13:01:02.731Z"
   },
   {
    "duration": 0,
    "start_time": "2022-06-12T13:01:02.824Z"
   },
   {
    "duration": 0,
    "start_time": "2022-06-12T13:01:02.825Z"
   },
   {
    "duration": 0,
    "start_time": "2022-06-12T13:01:02.826Z"
   },
   {
    "duration": 0,
    "start_time": "2022-06-12T13:01:02.827Z"
   },
   {
    "duration": 0,
    "start_time": "2022-06-12T13:01:02.828Z"
   },
   {
    "duration": 0,
    "start_time": "2022-06-12T13:01:02.829Z"
   },
   {
    "duration": 0,
    "start_time": "2022-06-12T13:01:02.830Z"
   },
   {
    "duration": 0,
    "start_time": "2022-06-12T13:01:02.831Z"
   },
   {
    "duration": 0,
    "start_time": "2022-06-12T13:01:02.832Z"
   },
   {
    "duration": 0,
    "start_time": "2022-06-12T13:01:02.833Z"
   },
   {
    "duration": 0,
    "start_time": "2022-06-12T13:01:02.834Z"
   },
   {
    "duration": 0,
    "start_time": "2022-06-12T13:01:02.835Z"
   },
   {
    "duration": 0,
    "start_time": "2022-06-12T13:01:02.836Z"
   },
   {
    "duration": 0,
    "start_time": "2022-06-12T13:01:02.837Z"
   },
   {
    "duration": 0,
    "start_time": "2022-06-12T13:01:02.838Z"
   },
   {
    "duration": 939,
    "start_time": "2022-06-12T14:20:06.489Z"
   },
   {
    "duration": 591,
    "start_time": "2022-06-12T14:20:07.430Z"
   },
   {
    "duration": 125,
    "start_time": "2022-06-12T14:20:08.023Z"
   },
   {
    "duration": 90,
    "start_time": "2022-06-12T14:20:08.150Z"
   },
   {
    "duration": 38,
    "start_time": "2022-06-12T14:20:08.241Z"
   },
   {
    "duration": 33,
    "start_time": "2022-06-12T14:20:08.280Z"
   },
   {
    "duration": 2,
    "start_time": "2022-06-12T14:20:08.314Z"
   },
   {
    "duration": 13,
    "start_time": "2022-06-12T14:20:08.317Z"
   },
   {
    "duration": 22,
    "start_time": "2022-06-12T14:20:08.332Z"
   },
   {
    "duration": 3,
    "start_time": "2022-06-12T14:20:08.377Z"
   },
   {
    "duration": 10,
    "start_time": "2022-06-12T14:20:08.381Z"
   },
   {
    "duration": 13,
    "start_time": "2022-06-12T14:20:08.392Z"
   },
   {
    "duration": 75,
    "start_time": "2022-06-12T14:20:08.406Z"
   },
   {
    "duration": 98,
    "start_time": "2022-06-12T14:20:08.482Z"
   },
   {
    "duration": 108,
    "start_time": "2022-06-12T14:20:08.582Z"
   },
   {
    "duration": 5,
    "start_time": "2022-06-12T14:20:08.691Z"
   },
   {
    "duration": 9,
    "start_time": "2022-06-12T14:20:08.697Z"
   },
   {
    "duration": 10,
    "start_time": "2022-06-12T14:20:08.707Z"
   },
   {
    "duration": 165,
    "start_time": "2022-06-12T14:20:08.718Z"
   },
   {
    "duration": 8,
    "start_time": "2022-06-12T14:20:08.885Z"
   },
   {
    "duration": 13,
    "start_time": "2022-06-12T14:20:08.894Z"
   },
   {
    "duration": 14,
    "start_time": "2022-06-12T14:20:08.908Z"
   },
   {
    "duration": 7,
    "start_time": "2022-06-12T14:20:08.923Z"
   },
   {
    "duration": 106,
    "start_time": "2022-06-12T14:20:08.931Z"
   },
   {
    "duration": 0,
    "start_time": "2022-06-12T14:20:09.038Z"
   },
   {
    "duration": 0,
    "start_time": "2022-06-12T14:20:09.039Z"
   },
   {
    "duration": 0,
    "start_time": "2022-06-12T14:20:09.040Z"
   },
   {
    "duration": 0,
    "start_time": "2022-06-12T14:20:09.041Z"
   },
   {
    "duration": 0,
    "start_time": "2022-06-12T14:20:09.042Z"
   },
   {
    "duration": 0,
    "start_time": "2022-06-12T14:20:09.043Z"
   },
   {
    "duration": 0,
    "start_time": "2022-06-12T14:20:09.044Z"
   },
   {
    "duration": 0,
    "start_time": "2022-06-12T14:20:09.045Z"
   },
   {
    "duration": 0,
    "start_time": "2022-06-12T14:20:09.046Z"
   },
   {
    "duration": 0,
    "start_time": "2022-06-12T14:20:09.047Z"
   },
   {
    "duration": 0,
    "start_time": "2022-06-12T14:20:09.048Z"
   },
   {
    "duration": 0,
    "start_time": "2022-06-12T14:20:09.049Z"
   },
   {
    "duration": 0,
    "start_time": "2022-06-12T14:20:09.050Z"
   },
   {
    "duration": 0,
    "start_time": "2022-06-12T14:20:09.051Z"
   },
   {
    "duration": 0,
    "start_time": "2022-06-12T14:20:09.051Z"
   },
   {
    "duration": 3,
    "start_time": "2022-06-12T14:21:19.111Z"
   },
   {
    "duration": 9,
    "start_time": "2022-06-12T14:21:20.801Z"
   },
   {
    "duration": 890,
    "start_time": "2022-06-12T14:21:51.437Z"
   },
   {
    "duration": 530,
    "start_time": "2022-06-12T14:21:52.329Z"
   },
   {
    "duration": 134,
    "start_time": "2022-06-12T14:21:52.861Z"
   },
   {
    "duration": 82,
    "start_time": "2022-06-12T14:21:52.996Z"
   },
   {
    "duration": 13,
    "start_time": "2022-06-12T14:21:53.080Z"
   },
   {
    "duration": 30,
    "start_time": "2022-06-12T14:21:53.095Z"
   },
   {
    "duration": 2,
    "start_time": "2022-06-12T14:21:53.127Z"
   },
   {
    "duration": 19,
    "start_time": "2022-06-12T14:21:53.130Z"
   },
   {
    "duration": 18,
    "start_time": "2022-06-12T14:21:53.178Z"
   },
   {
    "duration": 1,
    "start_time": "2022-06-12T14:21:53.199Z"
   },
   {
    "duration": 9,
    "start_time": "2022-06-12T14:21:53.202Z"
   },
   {
    "duration": 13,
    "start_time": "2022-06-12T14:21:53.212Z"
   },
   {
    "duration": 55,
    "start_time": "2022-06-12T14:21:53.226Z"
   },
   {
    "duration": 95,
    "start_time": "2022-06-12T14:21:53.283Z"
   },
   {
    "duration": 103,
    "start_time": "2022-06-12T14:21:53.380Z"
   },
   {
    "duration": 11,
    "start_time": "2022-06-12T14:21:53.485Z"
   },
   {
    "duration": 17,
    "start_time": "2022-06-12T14:21:53.498Z"
   },
   {
    "duration": 21,
    "start_time": "2022-06-12T14:21:53.516Z"
   },
   {
    "duration": 146,
    "start_time": "2022-06-12T14:21:53.538Z"
   },
   {
    "duration": 6,
    "start_time": "2022-06-12T14:21:53.686Z"
   },
   {
    "duration": 13,
    "start_time": "2022-06-12T14:21:53.694Z"
   },
   {
    "duration": 5,
    "start_time": "2022-06-12T14:21:53.709Z"
   },
   {
    "duration": 10,
    "start_time": "2022-06-12T14:21:53.716Z"
   },
   {
    "duration": 1633,
    "start_time": "2022-06-12T14:21:53.728Z"
   },
   {
    "duration": 3,
    "start_time": "2022-06-12T14:21:55.363Z"
   },
   {
    "duration": 2693,
    "start_time": "2022-06-12T14:21:55.367Z"
   },
   {
    "duration": 0,
    "start_time": "2022-06-12T14:21:58.061Z"
   },
   {
    "duration": 0,
    "start_time": "2022-06-12T14:21:58.062Z"
   },
   {
    "duration": 0,
    "start_time": "2022-06-12T14:21:58.063Z"
   },
   {
    "duration": 0,
    "start_time": "2022-06-12T14:21:58.064Z"
   },
   {
    "duration": 0,
    "start_time": "2022-06-12T14:21:58.065Z"
   },
   {
    "duration": 0,
    "start_time": "2022-06-12T14:21:58.066Z"
   },
   {
    "duration": 0,
    "start_time": "2022-06-12T14:21:58.078Z"
   },
   {
    "duration": 0,
    "start_time": "2022-06-12T14:21:58.078Z"
   },
   {
    "duration": 0,
    "start_time": "2022-06-12T14:21:58.079Z"
   },
   {
    "duration": 0,
    "start_time": "2022-06-12T14:21:58.080Z"
   },
   {
    "duration": 0,
    "start_time": "2022-06-12T14:21:58.081Z"
   },
   {
    "duration": 0,
    "start_time": "2022-06-12T14:21:58.082Z"
   },
   {
    "duration": 0,
    "start_time": "2022-06-12T14:21:58.083Z"
   },
   {
    "duration": 2522,
    "start_time": "2022-06-12T14:23:04.143Z"
   },
   {
    "duration": 6,
    "start_time": "2022-06-12T14:24:13.501Z"
   },
   {
    "duration": 3,
    "start_time": "2022-06-12T14:24:22.514Z"
   },
   {
    "duration": 1717,
    "start_time": "2022-06-12T14:24:24.532Z"
   },
   {
    "duration": 6,
    "start_time": "2022-06-12T14:24:28.287Z"
   },
   {
    "duration": 2632,
    "start_time": "2022-06-12T14:24:30.209Z"
   },
   {
    "duration": 982,
    "start_time": "2022-06-12T14:24:50.173Z"
   },
   {
    "duration": 556,
    "start_time": "2022-06-12T14:24:51.157Z"
   },
   {
    "duration": 124,
    "start_time": "2022-06-12T14:24:51.714Z"
   },
   {
    "duration": 82,
    "start_time": "2022-06-12T14:24:51.840Z"
   },
   {
    "duration": 12,
    "start_time": "2022-06-12T14:24:51.924Z"
   },
   {
    "duration": 56,
    "start_time": "2022-06-12T14:24:51.938Z"
   },
   {
    "duration": 2,
    "start_time": "2022-06-12T14:24:51.995Z"
   },
   {
    "duration": 19,
    "start_time": "2022-06-12T14:24:51.999Z"
   },
   {
    "duration": 26,
    "start_time": "2022-06-12T14:24:52.019Z"
   },
   {
    "duration": 2,
    "start_time": "2022-06-12T14:24:52.047Z"
   },
   {
    "duration": 10,
    "start_time": "2022-06-12T14:24:52.051Z"
   },
   {
    "duration": 13,
    "start_time": "2022-06-12T14:24:52.078Z"
   },
   {
    "duration": 86,
    "start_time": "2022-06-12T14:24:52.092Z"
   },
   {
    "duration": 7,
    "start_time": "2022-06-12T14:24:52.180Z"
   },
   {
    "duration": 102,
    "start_time": "2022-06-12T14:24:52.188Z"
   },
   {
    "duration": 5,
    "start_time": "2022-06-12T14:24:52.292Z"
   },
   {
    "duration": 11,
    "start_time": "2022-06-12T14:24:52.298Z"
   },
   {
    "duration": 8,
    "start_time": "2022-06-12T14:24:52.310Z"
   },
   {
    "duration": 72,
    "start_time": "2022-06-12T14:24:52.319Z"
   },
   {
    "duration": 2,
    "start_time": "2022-06-12T14:24:52.479Z"
   },
   {
    "duration": 9,
    "start_time": "2022-06-12T14:24:52.482Z"
   },
   {
    "duration": 4,
    "start_time": "2022-06-12T14:24:52.492Z"
   },
   {
    "duration": 4,
    "start_time": "2022-06-12T14:24:52.497Z"
   },
   {
    "duration": 103,
    "start_time": "2022-06-12T14:24:52.503Z"
   },
   {
    "duration": 0,
    "start_time": "2022-06-12T14:24:52.607Z"
   },
   {
    "duration": 0,
    "start_time": "2022-06-12T14:24:52.609Z"
   },
   {
    "duration": 0,
    "start_time": "2022-06-12T14:24:52.610Z"
   },
   {
    "duration": 0,
    "start_time": "2022-06-12T14:24:52.611Z"
   },
   {
    "duration": 1,
    "start_time": "2022-06-12T14:24:52.612Z"
   },
   {
    "duration": 0,
    "start_time": "2022-06-12T14:24:52.614Z"
   },
   {
    "duration": 0,
    "start_time": "2022-06-12T14:24:52.615Z"
   },
   {
    "duration": 0,
    "start_time": "2022-06-12T14:24:52.616Z"
   },
   {
    "duration": 0,
    "start_time": "2022-06-12T14:24:52.617Z"
   },
   {
    "duration": 0,
    "start_time": "2022-06-12T14:24:52.618Z"
   },
   {
    "duration": 0,
    "start_time": "2022-06-12T14:24:52.618Z"
   },
   {
    "duration": 0,
    "start_time": "2022-06-12T14:24:52.620Z"
   },
   {
    "duration": 0,
    "start_time": "2022-06-12T14:24:52.621Z"
   },
   {
    "duration": 0,
    "start_time": "2022-06-12T14:24:52.622Z"
   },
   {
    "duration": 0,
    "start_time": "2022-06-12T14:24:52.624Z"
   },
   {
    "duration": 1021,
    "start_time": "2022-06-12T14:25:23.455Z"
   },
   {
    "duration": 565,
    "start_time": "2022-06-12T14:25:24.478Z"
   },
   {
    "duration": 148,
    "start_time": "2022-06-12T14:25:25.044Z"
   },
   {
    "duration": 61,
    "start_time": "2022-06-12T14:25:25.194Z"
   },
   {
    "duration": 32,
    "start_time": "2022-06-12T14:25:25.256Z"
   },
   {
    "duration": 33,
    "start_time": "2022-06-12T14:25:25.290Z"
   },
   {
    "duration": 3,
    "start_time": "2022-06-12T14:25:25.325Z"
   },
   {
    "duration": 16,
    "start_time": "2022-06-12T14:25:25.329Z"
   },
   {
    "duration": 22,
    "start_time": "2022-06-12T14:25:25.379Z"
   },
   {
    "duration": 2,
    "start_time": "2022-06-12T14:25:25.404Z"
   },
   {
    "duration": 10,
    "start_time": "2022-06-12T14:25:25.407Z"
   },
   {
    "duration": 14,
    "start_time": "2022-06-12T14:25:25.418Z"
   },
   {
    "duration": 56,
    "start_time": "2022-06-12T14:25:25.433Z"
   },
   {
    "duration": 93,
    "start_time": "2022-06-12T14:25:25.490Z"
   },
   {
    "duration": 105,
    "start_time": "2022-06-12T14:25:25.585Z"
   },
   {
    "duration": 5,
    "start_time": "2022-06-12T14:25:25.692Z"
   },
   {
    "duration": 8,
    "start_time": "2022-06-12T14:25:25.698Z"
   },
   {
    "duration": 6,
    "start_time": "2022-06-12T14:25:25.707Z"
   },
   {
    "duration": 9,
    "start_time": "2022-06-12T14:25:25.777Z"
   },
   {
    "duration": 96,
    "start_time": "2022-06-12T14:25:25.787Z"
   },
   {
    "duration": 14,
    "start_time": "2022-06-12T14:25:25.884Z"
   },
   {
    "duration": 2,
    "start_time": "2022-06-12T14:25:25.900Z"
   },
   {
    "duration": 7,
    "start_time": "2022-06-12T14:25:25.903Z"
   },
   {
    "duration": 92,
    "start_time": "2022-06-12T14:25:25.911Z"
   },
   {
    "duration": 0,
    "start_time": "2022-06-12T14:25:26.005Z"
   },
   {
    "duration": 0,
    "start_time": "2022-06-12T14:25:26.006Z"
   },
   {
    "duration": 0,
    "start_time": "2022-06-12T14:25:26.007Z"
   },
   {
    "duration": 0,
    "start_time": "2022-06-12T14:25:26.008Z"
   },
   {
    "duration": 0,
    "start_time": "2022-06-12T14:25:26.009Z"
   },
   {
    "duration": 0,
    "start_time": "2022-06-12T14:25:26.010Z"
   },
   {
    "duration": 0,
    "start_time": "2022-06-12T14:25:26.011Z"
   },
   {
    "duration": 0,
    "start_time": "2022-06-12T14:25:26.012Z"
   },
   {
    "duration": 0,
    "start_time": "2022-06-12T14:25:26.013Z"
   },
   {
    "duration": 0,
    "start_time": "2022-06-12T14:25:26.014Z"
   },
   {
    "duration": 0,
    "start_time": "2022-06-12T14:25:26.015Z"
   },
   {
    "duration": 0,
    "start_time": "2022-06-12T14:25:26.016Z"
   },
   {
    "duration": 0,
    "start_time": "2022-06-12T14:25:26.017Z"
   },
   {
    "duration": 0,
    "start_time": "2022-06-12T14:25:26.018Z"
   },
   {
    "duration": 0,
    "start_time": "2022-06-12T14:25:26.019Z"
   },
   {
    "duration": 988,
    "start_time": "2022-06-12T14:25:49.761Z"
   },
   {
    "duration": 560,
    "start_time": "2022-06-12T14:25:50.751Z"
   },
   {
    "duration": 136,
    "start_time": "2022-06-12T14:25:51.312Z"
   },
   {
    "duration": 81,
    "start_time": "2022-06-12T14:25:51.451Z"
   },
   {
    "duration": 11,
    "start_time": "2022-06-12T14:25:51.533Z"
   },
   {
    "duration": 57,
    "start_time": "2022-06-12T14:25:51.546Z"
   },
   {
    "duration": 3,
    "start_time": "2022-06-12T14:25:51.604Z"
   },
   {
    "duration": 18,
    "start_time": "2022-06-12T14:25:51.608Z"
   },
   {
    "duration": 20,
    "start_time": "2022-06-12T14:25:51.628Z"
   },
   {
    "duration": 2,
    "start_time": "2022-06-12T14:25:51.650Z"
   },
   {
    "duration": 32,
    "start_time": "2022-06-12T14:25:51.654Z"
   },
   {
    "duration": 15,
    "start_time": "2022-06-12T14:25:51.688Z"
   },
   {
    "duration": 77,
    "start_time": "2022-06-12T14:25:51.704Z"
   },
   {
    "duration": 95,
    "start_time": "2022-06-12T14:25:51.784Z"
   },
   {
    "duration": 18,
    "start_time": "2022-06-12T14:25:51.881Z"
   },
   {
    "duration": 5,
    "start_time": "2022-06-12T14:25:51.901Z"
   },
   {
    "duration": 8,
    "start_time": "2022-06-12T14:25:51.907Z"
   },
   {
    "duration": 6,
    "start_time": "2022-06-12T14:25:51.917Z"
   },
   {
    "duration": 157,
    "start_time": "2022-06-12T14:25:51.925Z"
   },
   {
    "duration": 5,
    "start_time": "2022-06-12T14:25:52.084Z"
   },
   {
    "duration": 10,
    "start_time": "2022-06-12T14:25:52.091Z"
   },
   {
    "duration": 2,
    "start_time": "2022-06-12T14:25:52.102Z"
   },
   {
    "duration": 5,
    "start_time": "2022-06-12T14:25:52.106Z"
   },
   {
    "duration": 104,
    "start_time": "2022-06-12T14:25:52.112Z"
   },
   {
    "duration": 0,
    "start_time": "2022-06-12T14:25:52.218Z"
   },
   {
    "duration": 0,
    "start_time": "2022-06-12T14:25:52.219Z"
   },
   {
    "duration": 0,
    "start_time": "2022-06-12T14:25:52.220Z"
   },
   {
    "duration": 0,
    "start_time": "2022-06-12T14:25:52.221Z"
   },
   {
    "duration": 0,
    "start_time": "2022-06-12T14:25:52.222Z"
   },
   {
    "duration": 0,
    "start_time": "2022-06-12T14:25:52.223Z"
   },
   {
    "duration": 0,
    "start_time": "2022-06-12T14:25:52.224Z"
   },
   {
    "duration": 0,
    "start_time": "2022-06-12T14:25:52.225Z"
   },
   {
    "duration": 0,
    "start_time": "2022-06-12T14:25:52.226Z"
   },
   {
    "duration": 0,
    "start_time": "2022-06-12T14:25:52.227Z"
   },
   {
    "duration": 0,
    "start_time": "2022-06-12T14:25:52.228Z"
   },
   {
    "duration": 0,
    "start_time": "2022-06-12T14:25:52.229Z"
   },
   {
    "duration": 0,
    "start_time": "2022-06-12T14:25:52.230Z"
   },
   {
    "duration": 0,
    "start_time": "2022-06-12T14:25:52.231Z"
   },
   {
    "duration": 0,
    "start_time": "2022-06-12T14:25:52.232Z"
   },
   {
    "duration": 936,
    "start_time": "2022-06-12T14:26:17.845Z"
   },
   {
    "duration": 540,
    "start_time": "2022-06-12T14:26:18.783Z"
   },
   {
    "duration": 127,
    "start_time": "2022-06-12T14:26:19.325Z"
   },
   {
    "duration": 77,
    "start_time": "2022-06-12T14:26:19.454Z"
   },
   {
    "duration": 13,
    "start_time": "2022-06-12T14:26:19.532Z"
   },
   {
    "duration": 62,
    "start_time": "2022-06-12T14:26:19.546Z"
   },
   {
    "duration": 2,
    "start_time": "2022-06-12T14:26:19.609Z"
   },
   {
    "duration": 13,
    "start_time": "2022-06-12T14:26:19.612Z"
   },
   {
    "duration": 21,
    "start_time": "2022-06-12T14:26:19.626Z"
   },
   {
    "duration": 2,
    "start_time": "2022-06-12T14:26:19.677Z"
   },
   {
    "duration": 9,
    "start_time": "2022-06-12T14:26:19.681Z"
   },
   {
    "duration": 13,
    "start_time": "2022-06-12T14:26:19.691Z"
   },
   {
    "duration": 76,
    "start_time": "2022-06-12T14:26:19.705Z"
   },
   {
    "duration": 95,
    "start_time": "2022-06-12T14:26:19.784Z"
   },
   {
    "duration": 105,
    "start_time": "2022-06-12T14:26:19.881Z"
   },
   {
    "duration": 5,
    "start_time": "2022-06-12T14:26:19.987Z"
   },
   {
    "duration": 7,
    "start_time": "2022-06-12T14:26:19.994Z"
   },
   {
    "duration": 10,
    "start_time": "2022-06-12T14:26:20.003Z"
   },
   {
    "duration": 70,
    "start_time": "2022-06-12T14:26:20.015Z"
   },
   {
    "duration": 95,
    "start_time": "2022-06-12T14:26:20.088Z"
   },
   {
    "duration": 7,
    "start_time": "2022-06-12T14:26:20.184Z"
   },
   {
    "duration": 5,
    "start_time": "2022-06-12T14:26:20.192Z"
   },
   {
    "duration": 5,
    "start_time": "2022-06-12T14:26:20.198Z"
   },
   {
    "duration": 1559,
    "start_time": "2022-06-12T14:26:20.205Z"
   },
   {
    "duration": 5,
    "start_time": "2022-06-12T14:26:21.765Z"
   },
   {
    "duration": 2901,
    "start_time": "2022-06-12T14:26:21.778Z"
   },
   {
    "duration": 0,
    "start_time": "2022-06-12T14:26:24.680Z"
   },
   {
    "duration": 0,
    "start_time": "2022-06-12T14:26:24.681Z"
   },
   {
    "duration": 0,
    "start_time": "2022-06-12T14:26:24.682Z"
   },
   {
    "duration": 0,
    "start_time": "2022-06-12T14:26:24.683Z"
   },
   {
    "duration": 0,
    "start_time": "2022-06-12T14:26:24.684Z"
   },
   {
    "duration": 0,
    "start_time": "2022-06-12T14:26:24.686Z"
   },
   {
    "duration": 0,
    "start_time": "2022-06-12T14:26:24.687Z"
   },
   {
    "duration": 0,
    "start_time": "2022-06-12T14:26:24.688Z"
   },
   {
    "duration": 0,
    "start_time": "2022-06-12T14:26:24.688Z"
   },
   {
    "duration": 0,
    "start_time": "2022-06-12T14:26:24.689Z"
   },
   {
    "duration": 0,
    "start_time": "2022-06-12T14:26:24.690Z"
   },
   {
    "duration": 0,
    "start_time": "2022-06-12T14:26:24.691Z"
   },
   {
    "duration": 0,
    "start_time": "2022-06-12T14:26:24.692Z"
   },
   {
    "duration": 119,
    "start_time": "2022-06-12T14:36:16.520Z"
   },
   {
    "duration": 145,
    "start_time": "2022-06-12T14:36:28.867Z"
   },
   {
    "duration": 1503,
    "start_time": "2022-06-12T14:36:34.082Z"
   },
   {
    "duration": 6,
    "start_time": "2022-06-12T14:36:42.106Z"
   },
   {
    "duration": 140,
    "start_time": "2022-06-12T14:36:43.679Z"
   },
   {
    "duration": 8,
    "start_time": "2022-06-12T14:37:12.164Z"
   },
   {
    "duration": 30,
    "start_time": "2022-06-12T14:37:19.329Z"
   },
   {
    "duration": 905,
    "start_time": "2022-06-12T14:37:42.742Z"
   },
   {
    "duration": 555,
    "start_time": "2022-06-12T14:37:43.649Z"
   },
   {
    "duration": 133,
    "start_time": "2022-06-12T14:37:44.205Z"
   },
   {
    "duration": 79,
    "start_time": "2022-06-12T14:37:44.340Z"
   },
   {
    "duration": 11,
    "start_time": "2022-06-12T14:37:44.421Z"
   },
   {
    "duration": 59,
    "start_time": "2022-06-12T14:37:44.433Z"
   },
   {
    "duration": 2,
    "start_time": "2022-06-12T14:37:44.494Z"
   },
   {
    "duration": 12,
    "start_time": "2022-06-12T14:37:44.497Z"
   },
   {
    "duration": 20,
    "start_time": "2022-06-12T14:37:44.511Z"
   },
   {
    "duration": 2,
    "start_time": "2022-06-12T14:37:44.532Z"
   },
   {
    "duration": 9,
    "start_time": "2022-06-12T14:37:44.536Z"
   },
   {
    "duration": 39,
    "start_time": "2022-06-12T14:37:44.546Z"
   },
   {
    "duration": 93,
    "start_time": "2022-06-12T14:37:44.587Z"
   },
   {
    "duration": 96,
    "start_time": "2022-06-12T14:37:44.683Z"
   },
   {
    "duration": 14,
    "start_time": "2022-06-12T14:37:44.781Z"
   },
   {
    "duration": 5,
    "start_time": "2022-06-12T14:37:44.796Z"
   },
   {
    "duration": 9,
    "start_time": "2022-06-12T14:37:44.802Z"
   },
   {
    "duration": 7,
    "start_time": "2022-06-12T14:37:44.813Z"
   },
   {
    "duration": 101,
    "start_time": "2022-06-12T14:37:44.877Z"
   },
   {
    "duration": 2,
    "start_time": "2022-06-12T14:37:44.980Z"
   },
   {
    "duration": 9,
    "start_time": "2022-06-12T14:37:44.983Z"
   },
   {
    "duration": 4,
    "start_time": "2022-06-12T14:37:44.993Z"
   },
   {
    "duration": 7,
    "start_time": "2022-06-12T14:37:44.998Z"
   },
   {
    "duration": 1567,
    "start_time": "2022-06-12T14:37:45.007Z"
   },
   {
    "duration": 5,
    "start_time": "2022-06-12T14:37:46.576Z"
   },
   {
    "duration": 25,
    "start_time": "2022-06-12T14:37:46.583Z"
   },
   {
    "duration": 3,
    "start_time": "2022-06-12T14:37:46.609Z"
   },
   {
    "duration": 6,
    "start_time": "2022-06-12T14:37:46.614Z"
   },
   {
    "duration": 3,
    "start_time": "2022-06-12T14:37:46.623Z"
   },
   {
    "duration": 7,
    "start_time": "2022-06-12T14:37:46.628Z"
   },
   {
    "duration": 1631,
    "start_time": "2022-06-12T14:37:46.636Z"
   },
   {
    "duration": 9,
    "start_time": "2022-06-12T14:37:48.269Z"
   },
   {
    "duration": 9,
    "start_time": "2022-06-12T14:37:48.279Z"
   },
   {
    "duration": 6,
    "start_time": "2022-06-12T14:37:48.290Z"
   },
   {
    "duration": 4,
    "start_time": "2022-06-12T14:37:48.297Z"
   },
   {
    "duration": 4,
    "start_time": "2022-06-12T14:37:48.303Z"
   },
   {
    "duration": 3,
    "start_time": "2022-06-12T14:37:48.308Z"
   },
   {
    "duration": 3,
    "start_time": "2022-06-12T14:37:48.313Z"
   },
   {
    "duration": 2638,
    "start_time": "2022-06-12T14:37:48.317Z"
   },
   {
    "duration": 964,
    "start_time": "2022-06-12T14:38:09.174Z"
   },
   {
    "duration": 545,
    "start_time": "2022-06-12T14:38:10.139Z"
   },
   {
    "duration": 135,
    "start_time": "2022-06-12T14:38:10.685Z"
   },
   {
    "duration": 78,
    "start_time": "2022-06-12T14:38:10.822Z"
   },
   {
    "duration": 12,
    "start_time": "2022-06-12T14:38:10.902Z"
   },
   {
    "duration": 30,
    "start_time": "2022-06-12T14:38:10.915Z"
   },
   {
    "duration": 3,
    "start_time": "2022-06-12T14:38:10.946Z"
   },
   {
    "duration": 9,
    "start_time": "2022-06-12T14:38:10.978Z"
   },
   {
    "duration": 17,
    "start_time": "2022-06-12T14:38:10.989Z"
   },
   {
    "duration": 1,
    "start_time": "2022-06-12T14:38:11.009Z"
   },
   {
    "duration": 8,
    "start_time": "2022-06-12T14:38:11.012Z"
   },
   {
    "duration": 16,
    "start_time": "2022-06-12T14:38:11.021Z"
   },
   {
    "duration": 57,
    "start_time": "2022-06-12T14:38:11.038Z"
   },
   {
    "duration": 82,
    "start_time": "2022-06-12T14:38:11.097Z"
   },
   {
    "duration": 105,
    "start_time": "2022-06-12T14:38:11.180Z"
   },
   {
    "duration": 4,
    "start_time": "2022-06-12T14:38:11.287Z"
   },
   {
    "duration": 8,
    "start_time": "2022-06-12T14:38:11.292Z"
   },
   {
    "duration": 5,
    "start_time": "2022-06-12T14:38:11.301Z"
   },
   {
    "duration": 170,
    "start_time": "2022-06-12T14:38:11.308Z"
   },
   {
    "duration": 5,
    "start_time": "2022-06-12T14:38:11.480Z"
   },
   {
    "duration": 9,
    "start_time": "2022-06-12T14:38:11.486Z"
   },
   {
    "duration": 4,
    "start_time": "2022-06-12T14:38:11.497Z"
   },
   {
    "duration": 5,
    "start_time": "2022-06-12T14:38:11.502Z"
   },
   {
    "duration": 1573,
    "start_time": "2022-06-12T14:38:11.508Z"
   },
   {
    "duration": 6,
    "start_time": "2022-06-12T14:38:13.083Z"
   },
   {
    "duration": 26,
    "start_time": "2022-06-12T14:38:13.090Z"
   },
   {
    "duration": 3,
    "start_time": "2022-06-12T14:38:13.117Z"
   },
   {
    "duration": 4,
    "start_time": "2022-06-12T14:38:13.123Z"
   },
   {
    "duration": 4,
    "start_time": "2022-06-12T14:38:13.128Z"
   },
   {
    "duration": 13,
    "start_time": "2022-06-12T14:38:13.134Z"
   },
   {
    "duration": 1514,
    "start_time": "2022-06-12T14:38:13.148Z"
   },
   {
    "duration": 2,
    "start_time": "2022-06-12T14:38:14.664Z"
   },
   {
    "duration": 11,
    "start_time": "2022-06-12T14:38:14.667Z"
   },
   {
    "duration": 14,
    "start_time": "2022-06-12T14:38:14.679Z"
   },
   {
    "duration": 7,
    "start_time": "2022-06-12T14:38:14.695Z"
   },
   {
    "duration": 5,
    "start_time": "2022-06-12T14:38:14.704Z"
   },
   {
    "duration": 14,
    "start_time": "2022-06-12T14:38:14.710Z"
   },
   {
    "duration": 11,
    "start_time": "2022-06-12T14:38:14.726Z"
   },
   {
    "duration": 85,
    "start_time": "2022-06-12T14:38:14.738Z"
   },
   {
    "duration": 34,
    "start_time": "2022-06-12T14:39:18.626Z"
   },
   {
    "duration": 902,
    "start_time": "2022-06-12T14:39:34.219Z"
   },
   {
    "duration": 555,
    "start_time": "2022-06-12T14:39:35.123Z"
   },
   {
    "duration": 133,
    "start_time": "2022-06-12T14:39:35.680Z"
   },
   {
    "duration": 78,
    "start_time": "2022-06-12T14:39:35.815Z"
   },
   {
    "duration": 11,
    "start_time": "2022-06-12T14:39:35.894Z"
   },
   {
    "duration": 30,
    "start_time": "2022-06-12T14:39:35.907Z"
   },
   {
    "duration": 2,
    "start_time": "2022-06-12T14:39:35.939Z"
   },
   {
    "duration": 45,
    "start_time": "2022-06-12T14:39:35.942Z"
   },
   {
    "duration": 18,
    "start_time": "2022-06-12T14:39:35.988Z"
   },
   {
    "duration": 2,
    "start_time": "2022-06-12T14:39:36.008Z"
   },
   {
    "duration": 11,
    "start_time": "2022-06-12T14:39:36.011Z"
   },
   {
    "duration": 11,
    "start_time": "2022-06-12T14:39:36.023Z"
   },
   {
    "duration": 144,
    "start_time": "2022-06-12T14:39:36.035Z"
   },
   {
    "duration": 6,
    "start_time": "2022-06-12T14:39:36.181Z"
   },
   {
    "duration": 11,
    "start_time": "2022-06-12T14:39:36.278Z"
   },
   {
    "duration": 5,
    "start_time": "2022-06-12T14:39:36.290Z"
   },
   {
    "duration": 84,
    "start_time": "2022-06-12T14:39:36.297Z"
   },
   {
    "duration": 10,
    "start_time": "2022-06-12T14:39:36.382Z"
   },
   {
    "duration": 86,
    "start_time": "2022-06-12T14:39:36.393Z"
   },
   {
    "duration": 98,
    "start_time": "2022-06-12T14:39:36.481Z"
   },
   {
    "duration": 21,
    "start_time": "2022-06-12T14:39:36.581Z"
   },
   {
    "duration": 17,
    "start_time": "2022-06-12T14:39:36.604Z"
   },
   {
    "duration": 14,
    "start_time": "2022-06-12T14:39:36.623Z"
   },
   {
    "duration": 1659,
    "start_time": "2022-06-12T14:39:36.638Z"
   },
   {
    "duration": 111,
    "start_time": "2022-06-12T14:39:38.299Z"
   },
   {
    "duration": 0,
    "start_time": "2022-06-12T14:39:38.411Z"
   },
   {
    "duration": 0,
    "start_time": "2022-06-12T14:39:38.412Z"
   },
   {
    "duration": 0,
    "start_time": "2022-06-12T14:39:38.414Z"
   },
   {
    "duration": 0,
    "start_time": "2022-06-12T14:39:38.414Z"
   },
   {
    "duration": 0,
    "start_time": "2022-06-12T14:39:38.416Z"
   },
   {
    "duration": 0,
    "start_time": "2022-06-12T14:39:38.417Z"
   },
   {
    "duration": 0,
    "start_time": "2022-06-12T14:39:38.418Z"
   },
   {
    "duration": 0,
    "start_time": "2022-06-12T14:39:38.419Z"
   },
   {
    "duration": 0,
    "start_time": "2022-06-12T14:39:38.419Z"
   },
   {
    "duration": 0,
    "start_time": "2022-06-12T14:39:38.420Z"
   },
   {
    "duration": 0,
    "start_time": "2022-06-12T14:39:38.421Z"
   },
   {
    "duration": 0,
    "start_time": "2022-06-12T14:39:38.422Z"
   },
   {
    "duration": 0,
    "start_time": "2022-06-12T14:39:38.423Z"
   },
   {
    "duration": 12,
    "start_time": "2022-06-12T14:39:58.712Z"
   },
   {
    "duration": 915,
    "start_time": "2022-06-12T14:40:08.726Z"
   },
   {
    "duration": 556,
    "start_time": "2022-06-12T14:40:09.643Z"
   },
   {
    "duration": 125,
    "start_time": "2022-06-12T14:40:10.200Z"
   },
   {
    "duration": 77,
    "start_time": "2022-06-12T14:40:10.327Z"
   },
   {
    "duration": 11,
    "start_time": "2022-06-12T14:40:10.405Z"
   },
   {
    "duration": 31,
    "start_time": "2022-06-12T14:40:10.418Z"
   },
   {
    "duration": 2,
    "start_time": "2022-06-12T14:40:10.478Z"
   },
   {
    "duration": 11,
    "start_time": "2022-06-12T14:40:10.482Z"
   },
   {
    "duration": 20,
    "start_time": "2022-06-12T14:40:10.495Z"
   },
   {
    "duration": 2,
    "start_time": "2022-06-12T14:40:10.517Z"
   },
   {
    "duration": 12,
    "start_time": "2022-06-12T14:40:10.520Z"
   },
   {
    "duration": 12,
    "start_time": "2022-06-12T14:40:10.533Z"
   },
   {
    "duration": 55,
    "start_time": "2022-06-12T14:40:10.546Z"
   },
   {
    "duration": 81,
    "start_time": "2022-06-12T14:40:10.602Z"
   },
   {
    "duration": 107,
    "start_time": "2022-06-12T14:40:10.684Z"
   },
   {
    "duration": 6,
    "start_time": "2022-06-12T14:40:10.792Z"
   },
   {
    "duration": 10,
    "start_time": "2022-06-12T14:40:10.799Z"
   },
   {
    "duration": 7,
    "start_time": "2022-06-12T14:40:10.811Z"
   },
   {
    "duration": 67,
    "start_time": "2022-06-12T14:40:10.819Z"
   },
   {
    "duration": 93,
    "start_time": "2022-06-12T14:40:10.888Z"
   },
   {
    "duration": 10,
    "start_time": "2022-06-12T14:40:10.983Z"
   },
   {
    "duration": 4,
    "start_time": "2022-06-12T14:40:10.994Z"
   },
   {
    "duration": 4,
    "start_time": "2022-06-12T14:40:11.000Z"
   },
   {
    "duration": 1627,
    "start_time": "2022-06-12T14:40:11.006Z"
   },
   {
    "duration": 109,
    "start_time": "2022-06-12T14:40:12.634Z"
   },
   {
    "duration": 0,
    "start_time": "2022-06-12T14:40:12.745Z"
   },
   {
    "duration": 0,
    "start_time": "2022-06-12T14:40:12.746Z"
   },
   {
    "duration": 0,
    "start_time": "2022-06-12T14:40:12.747Z"
   },
   {
    "duration": 0,
    "start_time": "2022-06-12T14:40:12.747Z"
   },
   {
    "duration": 0,
    "start_time": "2022-06-12T14:40:12.748Z"
   },
   {
    "duration": 0,
    "start_time": "2022-06-12T14:40:12.749Z"
   },
   {
    "duration": 0,
    "start_time": "2022-06-12T14:40:12.750Z"
   },
   {
    "duration": 0,
    "start_time": "2022-06-12T14:40:12.751Z"
   },
   {
    "duration": 0,
    "start_time": "2022-06-12T14:40:12.752Z"
   },
   {
    "duration": 0,
    "start_time": "2022-06-12T14:40:12.753Z"
   },
   {
    "duration": 0,
    "start_time": "2022-06-12T14:40:12.754Z"
   },
   {
    "duration": 0,
    "start_time": "2022-06-12T14:40:12.755Z"
   },
   {
    "duration": 0,
    "start_time": "2022-06-12T14:40:12.756Z"
   },
   {
    "duration": 2614,
    "start_time": "2022-06-12T14:41:07.546Z"
   },
   {
    "duration": 2528,
    "start_time": "2022-06-12T14:43:03.526Z"
   },
   {
    "duration": 932,
    "start_time": "2022-06-12T14:43:13.890Z"
   },
   {
    "duration": 586,
    "start_time": "2022-06-12T14:43:14.823Z"
   },
   {
    "duration": 138,
    "start_time": "2022-06-12T14:43:15.411Z"
   },
   {
    "duration": 83,
    "start_time": "2022-06-12T14:43:15.551Z"
   },
   {
    "duration": 11,
    "start_time": "2022-06-12T14:43:15.635Z"
   },
   {
    "duration": 59,
    "start_time": "2022-06-12T14:43:15.647Z"
   },
   {
    "duration": 2,
    "start_time": "2022-06-12T14:43:15.708Z"
   },
   {
    "duration": 11,
    "start_time": "2022-06-12T14:43:15.712Z"
   },
   {
    "duration": 20,
    "start_time": "2022-06-12T14:43:15.724Z"
   },
   {
    "duration": 33,
    "start_time": "2022-06-12T14:43:15.746Z"
   },
   {
    "duration": 8,
    "start_time": "2022-06-12T14:43:15.781Z"
   },
   {
    "duration": 11,
    "start_time": "2022-06-12T14:43:15.790Z"
   },
   {
    "duration": 78,
    "start_time": "2022-06-12T14:43:15.803Z"
   },
   {
    "duration": 97,
    "start_time": "2022-06-12T14:43:15.882Z"
   },
   {
    "duration": 106,
    "start_time": "2022-06-12T14:43:15.980Z"
   },
   {
    "duration": 5,
    "start_time": "2022-06-12T14:43:16.087Z"
   },
   {
    "duration": 9,
    "start_time": "2022-06-12T14:43:16.093Z"
   },
   {
    "duration": 8,
    "start_time": "2022-06-12T14:43:16.103Z"
   },
   {
    "duration": 65,
    "start_time": "2022-06-12T14:43:16.113Z"
   },
   {
    "duration": 6,
    "start_time": "2022-06-12T14:43:16.180Z"
   },
   {
    "duration": 99,
    "start_time": "2022-06-12T14:43:16.188Z"
   },
   {
    "duration": 3,
    "start_time": "2022-06-12T14:43:16.288Z"
   },
   {
    "duration": 5,
    "start_time": "2022-06-12T14:43:16.292Z"
   },
   {
    "duration": 1628,
    "start_time": "2022-06-12T14:43:16.298Z"
   },
   {
    "duration": 114,
    "start_time": "2022-06-12T14:43:17.928Z"
   },
   {
    "duration": 0,
    "start_time": "2022-06-12T14:43:18.043Z"
   },
   {
    "duration": 0,
    "start_time": "2022-06-12T14:43:18.044Z"
   },
   {
    "duration": 0,
    "start_time": "2022-06-12T14:43:18.045Z"
   },
   {
    "duration": 0,
    "start_time": "2022-06-12T14:43:18.046Z"
   },
   {
    "duration": 0,
    "start_time": "2022-06-12T14:43:18.047Z"
   },
   {
    "duration": 0,
    "start_time": "2022-06-12T14:43:18.048Z"
   },
   {
    "duration": 0,
    "start_time": "2022-06-12T14:43:18.049Z"
   },
   {
    "duration": 0,
    "start_time": "2022-06-12T14:43:18.051Z"
   },
   {
    "duration": 0,
    "start_time": "2022-06-12T14:43:18.051Z"
   },
   {
    "duration": 0,
    "start_time": "2022-06-12T14:43:18.052Z"
   },
   {
    "duration": 0,
    "start_time": "2022-06-12T14:43:18.053Z"
   },
   {
    "duration": 0,
    "start_time": "2022-06-12T14:43:18.054Z"
   },
   {
    "duration": 0,
    "start_time": "2022-06-12T14:43:18.055Z"
   },
   {
    "duration": 11,
    "start_time": "2022-06-12T14:43:49.890Z"
   },
   {
    "duration": 926,
    "start_time": "2022-06-12T14:44:03.598Z"
   },
   {
    "duration": 565,
    "start_time": "2022-06-12T14:44:04.525Z"
   },
   {
    "duration": 136,
    "start_time": "2022-06-12T14:44:05.092Z"
   },
   {
    "duration": 88,
    "start_time": "2022-06-12T14:44:05.230Z"
   },
   {
    "duration": 13,
    "start_time": "2022-06-12T14:44:05.319Z"
   },
   {
    "duration": 67,
    "start_time": "2022-06-12T14:44:05.333Z"
   },
   {
    "duration": 2,
    "start_time": "2022-06-12T14:44:05.401Z"
   },
   {
    "duration": 12,
    "start_time": "2022-06-12T14:44:05.404Z"
   },
   {
    "duration": 19,
    "start_time": "2022-06-12T14:44:05.418Z"
   },
   {
    "duration": 2,
    "start_time": "2022-06-12T14:44:05.439Z"
   },
   {
    "duration": 37,
    "start_time": "2022-06-12T14:44:05.442Z"
   },
   {
    "duration": 12,
    "start_time": "2022-06-12T14:44:05.481Z"
   },
   {
    "duration": 84,
    "start_time": "2022-06-12T14:44:05.494Z"
   },
   {
    "duration": 7,
    "start_time": "2022-06-12T14:44:05.580Z"
   },
   {
    "duration": 102,
    "start_time": "2022-06-12T14:44:05.588Z"
   },
   {
    "duration": 4,
    "start_time": "2022-06-12T14:44:05.691Z"
   },
   {
    "duration": 11,
    "start_time": "2022-06-12T14:44:05.696Z"
   },
   {
    "duration": 6,
    "start_time": "2022-06-12T14:44:05.708Z"
   },
   {
    "duration": 68,
    "start_time": "2022-06-12T14:44:05.716Z"
   },
   {
    "duration": 92,
    "start_time": "2022-06-12T14:44:05.786Z"
   },
   {
    "duration": 8,
    "start_time": "2022-06-12T14:44:05.880Z"
   },
   {
    "duration": 10,
    "start_time": "2022-06-12T14:44:05.889Z"
   },
   {
    "duration": 9,
    "start_time": "2022-06-12T14:44:05.901Z"
   },
   {
    "duration": 1559,
    "start_time": "2022-06-12T14:44:05.911Z"
   },
   {
    "duration": 121,
    "start_time": "2022-06-12T14:44:07.471Z"
   },
   {
    "duration": 0,
    "start_time": "2022-06-12T14:44:07.595Z"
   },
   {
    "duration": 0,
    "start_time": "2022-06-12T14:44:07.597Z"
   },
   {
    "duration": 0,
    "start_time": "2022-06-12T14:44:07.598Z"
   },
   {
    "duration": 0,
    "start_time": "2022-06-12T14:44:07.599Z"
   },
   {
    "duration": 0,
    "start_time": "2022-06-12T14:44:07.600Z"
   },
   {
    "duration": 0,
    "start_time": "2022-06-12T14:44:07.601Z"
   },
   {
    "duration": 0,
    "start_time": "2022-06-12T14:44:07.602Z"
   },
   {
    "duration": 0,
    "start_time": "2022-06-12T14:44:07.603Z"
   },
   {
    "duration": 0,
    "start_time": "2022-06-12T14:44:07.604Z"
   },
   {
    "duration": 0,
    "start_time": "2022-06-12T14:44:07.605Z"
   },
   {
    "duration": 0,
    "start_time": "2022-06-12T14:44:07.606Z"
   },
   {
    "duration": 0,
    "start_time": "2022-06-12T14:44:07.607Z"
   },
   {
    "duration": 0,
    "start_time": "2022-06-12T14:44:07.608Z"
   },
   {
    "duration": 3,
    "start_time": "2022-06-12T14:44:54.509Z"
   },
   {
    "duration": 12,
    "start_time": "2022-06-12T14:44:55.984Z"
   },
   {
    "duration": 3,
    "start_time": "2022-06-12T14:45:53.345Z"
   },
   {
    "duration": 1337,
    "start_time": "2022-06-12T14:45:54.414Z"
   },
   {
    "duration": 72,
    "start_time": "2022-06-12T14:45:56.336Z"
   },
   {
    "duration": 8,
    "start_time": "2022-06-12T14:46:20.363Z"
   },
   {
    "duration": 4,
    "start_time": "2022-06-12T14:46:29.298Z"
   },
   {
    "duration": 14,
    "start_time": "2022-06-12T14:46:36.548Z"
   },
   {
    "duration": 947,
    "start_time": "2022-06-12T14:46:56.069Z"
   },
   {
    "duration": 536,
    "start_time": "2022-06-12T14:46:57.018Z"
   },
   {
    "duration": 161,
    "start_time": "2022-06-12T14:46:57.580Z"
   },
   {
    "duration": 87,
    "start_time": "2022-06-12T14:46:57.743Z"
   },
   {
    "duration": 11,
    "start_time": "2022-06-12T14:46:57.831Z"
   },
   {
    "duration": 58,
    "start_time": "2022-06-12T14:46:57.843Z"
   },
   {
    "duration": 2,
    "start_time": "2022-06-12T14:46:57.902Z"
   },
   {
    "duration": 12,
    "start_time": "2022-06-12T14:46:57.906Z"
   },
   {
    "duration": 21,
    "start_time": "2022-06-12T14:46:57.919Z"
   },
   {
    "duration": 37,
    "start_time": "2022-06-12T14:46:57.941Z"
   },
   {
    "duration": 9,
    "start_time": "2022-06-12T14:46:57.980Z"
   },
   {
    "duration": 16,
    "start_time": "2022-06-12T14:46:57.991Z"
   },
   {
    "duration": 72,
    "start_time": "2022-06-12T14:46:58.009Z"
   },
   {
    "duration": 95,
    "start_time": "2022-06-12T14:46:58.084Z"
   },
   {
    "duration": 111,
    "start_time": "2022-06-12T14:46:58.181Z"
   },
   {
    "duration": 4,
    "start_time": "2022-06-12T14:46:58.293Z"
   },
   {
    "duration": 18,
    "start_time": "2022-06-12T14:46:58.299Z"
   },
   {
    "duration": 7,
    "start_time": "2022-06-12T14:46:58.318Z"
   },
   {
    "duration": 107,
    "start_time": "2022-06-12T14:46:58.378Z"
   },
   {
    "duration": 5,
    "start_time": "2022-06-12T14:46:58.487Z"
   },
   {
    "duration": 9,
    "start_time": "2022-06-12T14:46:58.494Z"
   },
   {
    "duration": 4,
    "start_time": "2022-06-12T14:46:58.505Z"
   },
   {
    "duration": 4,
    "start_time": "2022-06-12T14:46:58.510Z"
   },
   {
    "duration": 101,
    "start_time": "2022-06-12T14:46:58.516Z"
   },
   {
    "duration": 0,
    "start_time": "2022-06-12T14:46:58.619Z"
   },
   {
    "duration": 0,
    "start_time": "2022-06-12T14:46:58.621Z"
   },
   {
    "duration": 0,
    "start_time": "2022-06-12T14:46:58.621Z"
   },
   {
    "duration": 0,
    "start_time": "2022-06-12T14:46:58.622Z"
   },
   {
    "duration": 0,
    "start_time": "2022-06-12T14:46:58.623Z"
   },
   {
    "duration": 0,
    "start_time": "2022-06-12T14:46:58.624Z"
   },
   {
    "duration": 0,
    "start_time": "2022-06-12T14:46:58.625Z"
   },
   {
    "duration": 0,
    "start_time": "2022-06-12T14:46:58.626Z"
   },
   {
    "duration": 0,
    "start_time": "2022-06-12T14:46:58.627Z"
   },
   {
    "duration": 0,
    "start_time": "2022-06-12T14:46:58.628Z"
   },
   {
    "duration": 0,
    "start_time": "2022-06-12T14:46:58.629Z"
   },
   {
    "duration": 0,
    "start_time": "2022-06-12T14:46:58.630Z"
   },
   {
    "duration": 0,
    "start_time": "2022-06-12T14:46:58.631Z"
   },
   {
    "duration": 0,
    "start_time": "2022-06-12T14:46:58.632Z"
   },
   {
    "duration": 0,
    "start_time": "2022-06-12T14:46:58.633Z"
   },
   {
    "duration": 1452,
    "start_time": "2022-06-12T14:47:20.022Z"
   },
   {
    "duration": 937,
    "start_time": "2022-06-12T14:47:24.923Z"
   },
   {
    "duration": 46,
    "start_time": "2022-06-12T14:47:35.481Z"
   },
   {
    "duration": 3,
    "start_time": "2022-06-12T14:48:59.898Z"
   },
   {
    "duration": 1366,
    "start_time": "2022-06-12T14:49:00.934Z"
   },
   {
    "duration": 853,
    "start_time": "2022-06-12T14:49:02.384Z"
   },
   {
    "duration": 73,
    "start_time": "2022-06-12T14:49:03.489Z"
   },
   {
    "duration": 107,
    "start_time": "2022-06-12T14:49:22.895Z"
   },
   {
    "duration": 3,
    "start_time": "2022-06-12T14:50:21.894Z"
   },
   {
    "duration": 1829,
    "start_time": "2022-06-12T14:50:22.911Z"
   },
   {
    "duration": 878,
    "start_time": "2022-06-12T14:50:24.742Z"
   },
   {
    "duration": 2604,
    "start_time": "2022-06-12T14:50:31.019Z"
   },
   {
    "duration": 2520,
    "start_time": "2022-06-12T14:51:08.076Z"
   },
   {
    "duration": 2561,
    "start_time": "2022-06-12T14:51:19.506Z"
   },
   {
    "duration": 999,
    "start_time": "2022-06-12T14:51:29.779Z"
   },
   {
    "duration": 560,
    "start_time": "2022-06-12T14:51:30.780Z"
   },
   {
    "duration": 165,
    "start_time": "2022-06-12T14:51:31.341Z"
   },
   {
    "duration": 87,
    "start_time": "2022-06-12T14:51:31.507Z"
   },
   {
    "duration": 11,
    "start_time": "2022-06-12T14:51:31.595Z"
   },
   {
    "duration": 31,
    "start_time": "2022-06-12T14:51:31.608Z"
   },
   {
    "duration": 3,
    "start_time": "2022-06-12T14:51:31.678Z"
   },
   {
    "duration": 12,
    "start_time": "2022-06-12T14:51:31.682Z"
   },
   {
    "duration": 18,
    "start_time": "2022-06-12T14:51:31.696Z"
   },
   {
    "duration": 2,
    "start_time": "2022-06-12T14:51:31.717Z"
   },
   {
    "duration": 10,
    "start_time": "2022-06-12T14:51:31.720Z"
   },
   {
    "duration": 16,
    "start_time": "2022-06-12T14:51:31.732Z"
   },
   {
    "duration": 227,
    "start_time": "2022-06-12T14:51:31.750Z"
   },
   {
    "duration": 8,
    "start_time": "2022-06-12T14:51:31.980Z"
   },
   {
    "duration": 105,
    "start_time": "2022-06-12T14:51:31.989Z"
   },
   {
    "duration": 5,
    "start_time": "2022-06-12T14:51:32.095Z"
   },
   {
    "duration": 10,
    "start_time": "2022-06-12T14:51:32.102Z"
   },
   {
    "duration": 72,
    "start_time": "2022-06-12T14:51:32.114Z"
   },
   {
    "duration": 196,
    "start_time": "2022-06-12T14:51:32.187Z"
   },
   {
    "duration": 8,
    "start_time": "2022-06-12T14:51:32.385Z"
   },
   {
    "duration": 17,
    "start_time": "2022-06-12T14:51:32.395Z"
   },
   {
    "duration": 4,
    "start_time": "2022-06-12T14:51:32.414Z"
   },
   {
    "duration": 17,
    "start_time": "2022-06-12T14:51:32.420Z"
   },
   {
    "duration": 1720,
    "start_time": "2022-06-12T14:51:32.439Z"
   },
   {
    "duration": 912,
    "start_time": "2022-06-12T14:51:34.161Z"
   },
   {
    "duration": 123,
    "start_time": "2022-06-12T14:51:35.074Z"
   },
   {
    "duration": 0,
    "start_time": "2022-06-12T14:51:35.198Z"
   },
   {
    "duration": 0,
    "start_time": "2022-06-12T14:51:35.200Z"
   },
   {
    "duration": 0,
    "start_time": "2022-06-12T14:51:35.201Z"
   },
   {
    "duration": 0,
    "start_time": "2022-06-12T14:51:35.202Z"
   },
   {
    "duration": 0,
    "start_time": "2022-06-12T14:51:35.203Z"
   },
   {
    "duration": 0,
    "start_time": "2022-06-12T14:51:35.204Z"
   },
   {
    "duration": 0,
    "start_time": "2022-06-12T14:51:35.204Z"
   },
   {
    "duration": 0,
    "start_time": "2022-06-12T14:51:35.205Z"
   },
   {
    "duration": 0,
    "start_time": "2022-06-12T14:51:35.206Z"
   },
   {
    "duration": 0,
    "start_time": "2022-06-12T14:51:35.207Z"
   },
   {
    "duration": 0,
    "start_time": "2022-06-12T14:51:35.208Z"
   },
   {
    "duration": 0,
    "start_time": "2022-06-12T14:51:35.209Z"
   },
   {
    "duration": 0,
    "start_time": "2022-06-12T14:51:35.211Z"
   },
   {
    "duration": 1000,
    "start_time": "2022-06-12T14:52:08.361Z"
   },
   {
    "duration": 558,
    "start_time": "2022-06-12T14:52:09.364Z"
   },
   {
    "duration": 164,
    "start_time": "2022-06-12T14:52:09.924Z"
   },
   {
    "duration": 60,
    "start_time": "2022-06-12T14:52:10.090Z"
   },
   {
    "duration": 11,
    "start_time": "2022-06-12T14:52:10.178Z"
   },
   {
    "duration": 38,
    "start_time": "2022-06-12T14:52:10.190Z"
   },
   {
    "duration": 2,
    "start_time": "2022-06-12T14:52:10.229Z"
   },
   {
    "duration": 28,
    "start_time": "2022-06-12T14:52:10.233Z"
   },
   {
    "duration": 19,
    "start_time": "2022-06-12T14:52:10.277Z"
   },
   {
    "duration": 3,
    "start_time": "2022-06-12T14:52:10.298Z"
   },
   {
    "duration": 23,
    "start_time": "2022-06-12T14:52:10.302Z"
   },
   {
    "duration": 21,
    "start_time": "2022-06-12T14:52:10.326Z"
   },
   {
    "duration": 46,
    "start_time": "2022-06-12T14:52:10.348Z"
   },
   {
    "duration": 87,
    "start_time": "2022-06-12T14:52:10.395Z"
   },
   {
    "duration": 111,
    "start_time": "2022-06-12T14:52:10.484Z"
   },
   {
    "duration": 14,
    "start_time": "2022-06-12T14:52:10.597Z"
   },
   {
    "duration": 27,
    "start_time": "2022-06-12T14:52:10.612Z"
   },
   {
    "duration": 43,
    "start_time": "2022-06-12T14:52:10.641Z"
   },
   {
    "duration": 196,
    "start_time": "2022-06-12T14:52:10.686Z"
   },
   {
    "duration": 9,
    "start_time": "2022-06-12T14:52:10.884Z"
   },
   {
    "duration": 15,
    "start_time": "2022-06-12T14:52:10.894Z"
   },
   {
    "duration": 4,
    "start_time": "2022-06-12T14:52:10.910Z"
   },
   {
    "duration": 11,
    "start_time": "2022-06-12T14:52:10.915Z"
   },
   {
    "duration": 1588,
    "start_time": "2022-06-12T14:52:10.928Z"
   },
   {
    "duration": 859,
    "start_time": "2022-06-12T14:52:12.518Z"
   },
   {
    "duration": 134,
    "start_time": "2022-06-12T14:52:13.379Z"
   },
   {
    "duration": 0,
    "start_time": "2022-06-12T14:52:13.515Z"
   },
   {
    "duration": 0,
    "start_time": "2022-06-12T14:52:13.516Z"
   },
   {
    "duration": 0,
    "start_time": "2022-06-12T14:52:13.516Z"
   },
   {
    "duration": 0,
    "start_time": "2022-06-12T14:52:13.517Z"
   },
   {
    "duration": 0,
    "start_time": "2022-06-12T14:52:13.518Z"
   },
   {
    "duration": 0,
    "start_time": "2022-06-12T14:52:13.519Z"
   },
   {
    "duration": 0,
    "start_time": "2022-06-12T14:52:13.520Z"
   },
   {
    "duration": 0,
    "start_time": "2022-06-12T14:52:13.521Z"
   },
   {
    "duration": 0,
    "start_time": "2022-06-12T14:52:13.522Z"
   },
   {
    "duration": 0,
    "start_time": "2022-06-12T14:52:13.523Z"
   },
   {
    "duration": 0,
    "start_time": "2022-06-12T14:52:13.524Z"
   },
   {
    "duration": 0,
    "start_time": "2022-06-12T14:52:13.525Z"
   },
   {
    "duration": 0,
    "start_time": "2022-06-12T14:52:13.527Z"
   },
   {
    "duration": 935,
    "start_time": "2022-06-12T14:53:20.704Z"
   },
   {
    "duration": 568,
    "start_time": "2022-06-12T14:53:21.641Z"
   },
   {
    "duration": 198,
    "start_time": "2022-06-12T14:53:22.211Z"
   },
   {
    "duration": 117,
    "start_time": "2022-06-12T14:53:22.411Z"
   },
   {
    "duration": 14,
    "start_time": "2022-06-12T14:53:22.530Z"
   },
   {
    "duration": 65,
    "start_time": "2022-06-12T14:53:22.545Z"
   },
   {
    "duration": 3,
    "start_time": "2022-06-12T14:53:22.611Z"
   },
   {
    "duration": 12,
    "start_time": "2022-06-12T14:53:22.616Z"
   },
   {
    "duration": 59,
    "start_time": "2022-06-12T14:53:22.630Z"
   },
   {
    "duration": 2,
    "start_time": "2022-06-12T14:53:22.692Z"
   },
   {
    "duration": 11,
    "start_time": "2022-06-12T14:53:22.696Z"
   },
   {
    "duration": 17,
    "start_time": "2022-06-12T14:53:22.708Z"
   },
   {
    "duration": 57,
    "start_time": "2022-06-12T14:53:22.727Z"
   },
   {
    "duration": 8,
    "start_time": "2022-06-12T14:53:22.786Z"
   },
   {
    "duration": 13,
    "start_time": "2022-06-12T14:53:22.878Z"
   },
   {
    "duration": 96,
    "start_time": "2022-06-12T14:53:22.893Z"
   },
   {
    "duration": 10,
    "start_time": "2022-06-12T14:53:22.991Z"
   },
   {
    "duration": 7,
    "start_time": "2022-06-12T14:53:23.002Z"
   },
   {
    "duration": 68,
    "start_time": "2022-06-12T14:53:23.011Z"
   },
   {
    "duration": 8,
    "start_time": "2022-06-12T14:53:23.081Z"
   },
   {
    "duration": 95,
    "start_time": "2022-06-12T14:53:23.091Z"
   },
   {
    "duration": 3,
    "start_time": "2022-06-12T14:53:23.187Z"
   },
   {
    "duration": 9,
    "start_time": "2022-06-12T14:53:23.192Z"
   },
   {
    "duration": 2295,
    "start_time": "2022-06-12T14:53:23.202Z"
   },
   {
    "duration": 954,
    "start_time": "2022-06-12T14:53:25.498Z"
   },
   {
    "duration": 45,
    "start_time": "2022-06-12T14:53:26.454Z"
   },
   {
    "duration": 109,
    "start_time": "2022-06-12T14:53:26.501Z"
   },
   {
    "duration": 0,
    "start_time": "2022-06-12T14:53:26.612Z"
   },
   {
    "duration": 0,
    "start_time": "2022-06-12T14:53:26.613Z"
   },
   {
    "duration": 0,
    "start_time": "2022-06-12T14:53:26.614Z"
   },
   {
    "duration": 0,
    "start_time": "2022-06-12T14:53:26.615Z"
   },
   {
    "duration": 0,
    "start_time": "2022-06-12T14:53:26.616Z"
   },
   {
    "duration": 0,
    "start_time": "2022-06-12T14:53:26.617Z"
   },
   {
    "duration": 0,
    "start_time": "2022-06-12T14:53:26.618Z"
   },
   {
    "duration": 0,
    "start_time": "2022-06-12T14:53:26.619Z"
   },
   {
    "duration": 0,
    "start_time": "2022-06-12T14:53:26.620Z"
   },
   {
    "duration": 0,
    "start_time": "2022-06-12T14:53:26.621Z"
   },
   {
    "duration": 0,
    "start_time": "2022-06-12T14:53:26.622Z"
   },
   {
    "duration": 0,
    "start_time": "2022-06-12T14:53:26.623Z"
   },
   {
    "duration": 0,
    "start_time": "2022-06-12T14:53:26.624Z"
   },
   {
    "duration": 10,
    "start_time": "2022-06-12T14:54:06.681Z"
   },
   {
    "duration": 956,
    "start_time": "2022-06-12T14:54:16.072Z"
   },
   {
    "duration": 583,
    "start_time": "2022-06-12T14:54:17.030Z"
   },
   {
    "duration": 198,
    "start_time": "2022-06-12T14:54:17.615Z"
   },
   {
    "duration": 89,
    "start_time": "2022-06-12T14:54:17.815Z"
   },
   {
    "duration": 12,
    "start_time": "2022-06-12T14:54:17.905Z"
   },
   {
    "duration": 71,
    "start_time": "2022-06-12T14:54:17.918Z"
   },
   {
    "duration": 2,
    "start_time": "2022-06-12T14:54:17.990Z"
   },
   {
    "duration": 16,
    "start_time": "2022-06-12T14:54:17.993Z"
   },
   {
    "duration": 20,
    "start_time": "2022-06-12T14:54:18.010Z"
   },
   {
    "duration": 2,
    "start_time": "2022-06-12T14:54:18.032Z"
   },
   {
    "duration": 45,
    "start_time": "2022-06-12T14:54:18.035Z"
   },
   {
    "duration": 17,
    "start_time": "2022-06-12T14:54:18.081Z"
   },
   {
    "duration": 39,
    "start_time": "2022-06-12T14:54:18.099Z"
   },
   {
    "duration": 7,
    "start_time": "2022-06-12T14:54:18.278Z"
   },
   {
    "duration": 26,
    "start_time": "2022-06-12T14:54:18.287Z"
   },
   {
    "duration": 5,
    "start_time": "2022-06-12T14:54:18.315Z"
   },
   {
    "duration": 16,
    "start_time": "2022-06-12T14:54:18.321Z"
   },
   {
    "duration": 44,
    "start_time": "2022-06-12T14:54:18.339Z"
   },
   {
    "duration": 193,
    "start_time": "2022-06-12T14:54:18.385Z"
   },
   {
    "duration": 7,
    "start_time": "2022-06-12T14:54:18.580Z"
   },
   {
    "duration": 13,
    "start_time": "2022-06-12T14:54:18.589Z"
   },
   {
    "duration": 4,
    "start_time": "2022-06-12T14:54:18.603Z"
   },
   {
    "duration": 7,
    "start_time": "2022-06-12T14:54:18.608Z"
   },
   {
    "duration": 1596,
    "start_time": "2022-06-12T14:54:18.616Z"
   },
   {
    "duration": 943,
    "start_time": "2022-06-12T14:54:20.214Z"
   },
   {
    "duration": 117,
    "start_time": "2022-06-12T14:54:21.158Z"
   },
   {
    "duration": 0,
    "start_time": "2022-06-12T14:54:21.278Z"
   },
   {
    "duration": 0,
    "start_time": "2022-06-12T14:54:21.280Z"
   },
   {
    "duration": 0,
    "start_time": "2022-06-12T14:54:21.281Z"
   },
   {
    "duration": 0,
    "start_time": "2022-06-12T14:54:21.282Z"
   },
   {
    "duration": 0,
    "start_time": "2022-06-12T14:54:21.283Z"
   },
   {
    "duration": 0,
    "start_time": "2022-06-12T14:54:21.284Z"
   },
   {
    "duration": 0,
    "start_time": "2022-06-12T14:54:21.285Z"
   },
   {
    "duration": 0,
    "start_time": "2022-06-12T14:54:21.286Z"
   },
   {
    "duration": 0,
    "start_time": "2022-06-12T14:54:21.287Z"
   },
   {
    "duration": 0,
    "start_time": "2022-06-12T14:54:21.288Z"
   },
   {
    "duration": 0,
    "start_time": "2022-06-12T14:54:21.289Z"
   },
   {
    "duration": 0,
    "start_time": "2022-06-12T14:54:21.290Z"
   },
   {
    "duration": 0,
    "start_time": "2022-06-12T14:54:21.291Z"
   },
   {
    "duration": 0,
    "start_time": "2022-06-12T14:54:21.292Z"
   },
   {
    "duration": 2656,
    "start_time": "2022-06-12T14:55:44.971Z"
   },
   {
    "duration": 67,
    "start_time": "2022-06-12T14:56:01.818Z"
   },
   {
    "duration": 941,
    "start_time": "2022-06-12T14:58:00.188Z"
   },
   {
    "duration": 555,
    "start_time": "2022-06-12T14:58:01.131Z"
   },
   {
    "duration": 139,
    "start_time": "2022-06-12T14:58:01.688Z"
   },
   {
    "duration": 83,
    "start_time": "2022-06-12T14:58:01.830Z"
   },
   {
    "duration": 14,
    "start_time": "2022-06-12T14:58:01.914Z"
   },
   {
    "duration": 72,
    "start_time": "2022-06-12T14:58:01.930Z"
   },
   {
    "duration": 3,
    "start_time": "2022-06-12T14:58:02.003Z"
   },
   {
    "duration": 13,
    "start_time": "2022-06-12T14:58:02.007Z"
   },
   {
    "duration": 19,
    "start_time": "2022-06-12T14:58:02.022Z"
   },
   {
    "duration": 2,
    "start_time": "2022-06-12T14:58:02.044Z"
   },
   {
    "duration": 7,
    "start_time": "2022-06-12T14:58:02.079Z"
   },
   {
    "duration": 18,
    "start_time": "2022-06-12T14:58:02.087Z"
   },
   {
    "duration": 75,
    "start_time": "2022-06-12T14:58:02.106Z"
   },
   {
    "duration": 100,
    "start_time": "2022-06-12T14:58:02.182Z"
   },
   {
    "duration": 116,
    "start_time": "2022-06-12T14:58:02.284Z"
   },
   {
    "duration": 4,
    "start_time": "2022-06-12T14:58:02.402Z"
   },
   {
    "duration": 8,
    "start_time": "2022-06-12T14:58:02.407Z"
   },
   {
    "duration": 8,
    "start_time": "2022-06-12T14:58:02.416Z"
   },
   {
    "duration": 105,
    "start_time": "2022-06-12T14:58:02.479Z"
   },
   {
    "duration": 16,
    "start_time": "2022-06-12T14:58:02.585Z"
   },
   {
    "duration": 9,
    "start_time": "2022-06-12T14:58:02.602Z"
   },
   {
    "duration": 14,
    "start_time": "2022-06-12T14:58:02.612Z"
   },
   {
    "duration": 10,
    "start_time": "2022-06-12T14:58:02.627Z"
   },
   {
    "duration": 107,
    "start_time": "2022-06-12T14:58:02.638Z"
   },
   {
    "duration": 0,
    "start_time": "2022-06-12T14:58:02.747Z"
   },
   {
    "duration": 0,
    "start_time": "2022-06-12T14:58:02.749Z"
   },
   {
    "duration": 0,
    "start_time": "2022-06-12T14:58:02.750Z"
   },
   {
    "duration": 0,
    "start_time": "2022-06-12T14:58:02.751Z"
   },
   {
    "duration": 0,
    "start_time": "2022-06-12T14:58:02.752Z"
   },
   {
    "duration": 0,
    "start_time": "2022-06-12T14:58:02.752Z"
   },
   {
    "duration": 0,
    "start_time": "2022-06-12T14:58:02.753Z"
   },
   {
    "duration": 0,
    "start_time": "2022-06-12T14:58:02.754Z"
   },
   {
    "duration": 0,
    "start_time": "2022-06-12T14:58:02.755Z"
   },
   {
    "duration": 0,
    "start_time": "2022-06-12T14:58:02.756Z"
   },
   {
    "duration": 0,
    "start_time": "2022-06-12T14:58:02.757Z"
   },
   {
    "duration": 0,
    "start_time": "2022-06-12T14:58:02.758Z"
   },
   {
    "duration": 0,
    "start_time": "2022-06-12T14:58:02.758Z"
   },
   {
    "duration": 0,
    "start_time": "2022-06-12T14:58:02.759Z"
   },
   {
    "duration": 0,
    "start_time": "2022-06-12T14:58:02.760Z"
   },
   {
    "duration": 0,
    "start_time": "2022-06-12T14:58:02.778Z"
   },
   {
    "duration": 1737,
    "start_time": "2022-06-12T14:58:16.984Z"
   },
   {
    "duration": 897,
    "start_time": "2022-06-12T14:58:24.319Z"
   },
   {
    "duration": 963,
    "start_time": "2022-06-12T14:58:38.288Z"
   },
   {
    "duration": 1035,
    "start_time": "2022-06-12T14:58:57.418Z"
   },
   {
    "duration": 952,
    "start_time": "2022-06-12T14:59:04.282Z"
   },
   {
    "duration": 560,
    "start_time": "2022-06-12T14:59:05.236Z"
   },
   {
    "duration": 126,
    "start_time": "2022-06-12T14:59:05.797Z"
   },
   {
    "duration": 86,
    "start_time": "2022-06-12T14:59:05.925Z"
   },
   {
    "duration": 11,
    "start_time": "2022-06-12T14:59:06.012Z"
   },
   {
    "duration": 62,
    "start_time": "2022-06-12T14:59:06.024Z"
   },
   {
    "duration": 3,
    "start_time": "2022-06-12T14:59:06.087Z"
   },
   {
    "duration": 19,
    "start_time": "2022-06-12T14:59:06.091Z"
   },
   {
    "duration": 19,
    "start_time": "2022-06-12T14:59:06.112Z"
   },
   {
    "duration": 2,
    "start_time": "2022-06-12T14:59:06.133Z"
   },
   {
    "duration": 19,
    "start_time": "2022-06-12T14:59:06.136Z"
   },
   {
    "duration": 32,
    "start_time": "2022-06-12T14:59:06.156Z"
   },
   {
    "duration": 90,
    "start_time": "2022-06-12T14:59:06.190Z"
   },
   {
    "duration": 7,
    "start_time": "2022-06-12T14:59:06.281Z"
   },
   {
    "duration": 9,
    "start_time": "2022-06-12T14:59:06.379Z"
   },
   {
    "duration": 4,
    "start_time": "2022-06-12T14:59:06.389Z"
   },
   {
    "duration": 9,
    "start_time": "2022-06-12T14:59:06.394Z"
   },
   {
    "duration": 10,
    "start_time": "2022-06-12T14:59:06.404Z"
   },
   {
    "duration": 8,
    "start_time": "2022-06-12T14:59:06.478Z"
   },
   {
    "duration": 94,
    "start_time": "2022-06-12T14:59:06.487Z"
   },
   {
    "duration": 10,
    "start_time": "2022-06-12T14:59:06.582Z"
   },
   {
    "duration": 4,
    "start_time": "2022-06-12T14:59:06.593Z"
   },
   {
    "duration": 4,
    "start_time": "2022-06-12T14:59:06.598Z"
   },
   {
    "duration": 1653,
    "start_time": "2022-06-12T14:59:06.603Z"
   },
   {
    "duration": 854,
    "start_time": "2022-06-12T14:59:08.258Z"
   },
   {
    "duration": 1058,
    "start_time": "2022-06-12T14:59:09.114Z"
   },
   {
    "duration": 0,
    "start_time": "2022-06-12T14:59:10.174Z"
   },
   {
    "duration": 0,
    "start_time": "2022-06-12T14:59:10.175Z"
   },
   {
    "duration": 0,
    "start_time": "2022-06-12T14:59:10.178Z"
   },
   {
    "duration": 0,
    "start_time": "2022-06-12T14:59:10.178Z"
   },
   {
    "duration": 0,
    "start_time": "2022-06-12T14:59:10.179Z"
   },
   {
    "duration": 0,
    "start_time": "2022-06-12T14:59:10.180Z"
   },
   {
    "duration": 0,
    "start_time": "2022-06-12T14:59:10.181Z"
   },
   {
    "duration": 0,
    "start_time": "2022-06-12T14:59:10.182Z"
   },
   {
    "duration": 0,
    "start_time": "2022-06-12T14:59:10.183Z"
   },
   {
    "duration": 0,
    "start_time": "2022-06-12T14:59:10.184Z"
   },
   {
    "duration": 0,
    "start_time": "2022-06-12T14:59:10.185Z"
   },
   {
    "duration": 0,
    "start_time": "2022-06-12T14:59:10.186Z"
   },
   {
    "duration": 0,
    "start_time": "2022-06-12T14:59:10.187Z"
   },
   {
    "duration": 0,
    "start_time": "2022-06-12T14:59:10.188Z"
   },
   {
    "duration": 2583,
    "start_time": "2022-06-12T15:01:02.512Z"
   },
   {
    "duration": 3,
    "start_time": "2022-06-12T15:06:31.147Z"
   },
   {
    "duration": 2586,
    "start_time": "2022-06-12T15:06:33.247Z"
   },
   {
    "duration": 3,
    "start_time": "2022-06-12T15:07:39.690Z"
   },
   {
    "duration": 21,
    "start_time": "2022-06-12T15:07:41.481Z"
   },
   {
    "duration": 968,
    "start_time": "2022-06-12T15:07:56.986Z"
   },
   {
    "duration": 570,
    "start_time": "2022-06-12T15:07:57.957Z"
   },
   {
    "duration": 124,
    "start_time": "2022-06-12T15:07:58.529Z"
   },
   {
    "duration": 57,
    "start_time": "2022-06-12T15:07:58.678Z"
   },
   {
    "duration": 11,
    "start_time": "2022-06-12T15:07:58.736Z"
   },
   {
    "duration": 55,
    "start_time": "2022-06-12T15:07:58.748Z"
   },
   {
    "duration": 2,
    "start_time": "2022-06-12T15:07:58.805Z"
   },
   {
    "duration": 17,
    "start_time": "2022-06-12T15:07:58.808Z"
   },
   {
    "duration": 19,
    "start_time": "2022-06-12T15:07:58.826Z"
   },
   {
    "duration": 2,
    "start_time": "2022-06-12T15:07:58.847Z"
   },
   {
    "duration": 31,
    "start_time": "2022-06-12T15:07:58.850Z"
   },
   {
    "duration": 29,
    "start_time": "2022-06-12T15:07:58.884Z"
   },
   {
    "duration": 81,
    "start_time": "2022-06-12T15:07:58.915Z"
   },
   {
    "duration": 84,
    "start_time": "2022-06-12T15:07:58.998Z"
   },
   {
    "duration": 111,
    "start_time": "2022-06-12T15:07:59.085Z"
   },
   {
    "duration": 6,
    "start_time": "2022-06-12T15:07:59.197Z"
   },
   {
    "duration": 10,
    "start_time": "2022-06-12T15:07:59.204Z"
   },
   {
    "duration": 64,
    "start_time": "2022-06-12T15:07:59.215Z"
   },
   {
    "duration": 105,
    "start_time": "2022-06-12T15:07:59.281Z"
   },
   {
    "duration": 9,
    "start_time": "2022-06-12T15:07:59.388Z"
   },
   {
    "duration": 8,
    "start_time": "2022-06-12T15:07:59.398Z"
   },
   {
    "duration": 2,
    "start_time": "2022-06-12T15:07:59.407Z"
   },
   {
    "duration": 4,
    "start_time": "2022-06-12T15:07:59.410Z"
   },
   {
    "duration": 99,
    "start_time": "2022-06-12T15:07:59.415Z"
   },
   {
    "duration": 0,
    "start_time": "2022-06-12T15:07:59.516Z"
   },
   {
    "duration": 0,
    "start_time": "2022-06-12T15:07:59.517Z"
   },
   {
    "duration": 0,
    "start_time": "2022-06-12T15:07:59.518Z"
   },
   {
    "duration": 0,
    "start_time": "2022-06-12T15:07:59.519Z"
   },
   {
    "duration": 0,
    "start_time": "2022-06-12T15:07:59.519Z"
   },
   {
    "duration": 0,
    "start_time": "2022-06-12T15:07:59.520Z"
   },
   {
    "duration": 0,
    "start_time": "2022-06-12T15:07:59.521Z"
   },
   {
    "duration": 0,
    "start_time": "2022-06-12T15:07:59.522Z"
   },
   {
    "duration": 0,
    "start_time": "2022-06-12T15:07:59.522Z"
   },
   {
    "duration": 0,
    "start_time": "2022-06-12T15:07:59.523Z"
   },
   {
    "duration": 0,
    "start_time": "2022-06-12T15:07:59.524Z"
   },
   {
    "duration": 0,
    "start_time": "2022-06-12T15:07:59.525Z"
   },
   {
    "duration": 0,
    "start_time": "2022-06-12T15:07:59.526Z"
   },
   {
    "duration": 0,
    "start_time": "2022-06-12T15:07:59.527Z"
   },
   {
    "duration": 0,
    "start_time": "2022-06-12T15:07:59.528Z"
   },
   {
    "duration": 0,
    "start_time": "2022-06-12T15:07:59.529Z"
   },
   {
    "duration": 3,
    "start_time": "2022-06-12T15:09:11.462Z"
   },
   {
    "duration": 2530,
    "start_time": "2022-06-12T15:09:15.351Z"
   },
   {
    "duration": 2727,
    "start_time": "2022-06-12T15:09:24.338Z"
   },
   {
    "duration": 14,
    "start_time": "2022-06-12T15:10:07.040Z"
   },
   {
    "duration": 4,
    "start_time": "2022-06-12T15:10:41.695Z"
   },
   {
    "duration": 1318,
    "start_time": "2022-06-12T15:10:43.541Z"
   },
   {
    "duration": 876,
    "start_time": "2022-06-12T15:10:45.024Z"
   },
   {
    "duration": 2976,
    "start_time": "2022-06-12T15:10:55.776Z"
   },
   {
    "duration": 2537,
    "start_time": "2022-06-12T15:11:11.891Z"
   },
   {
    "duration": 2681,
    "start_time": "2022-06-12T15:11:44.956Z"
   },
   {
    "duration": 928,
    "start_time": "2022-06-12T15:12:07.123Z"
   },
   {
    "duration": 565,
    "start_time": "2022-06-12T15:12:08.053Z"
   },
   {
    "duration": 125,
    "start_time": "2022-06-12T15:12:08.619Z"
   },
   {
    "duration": 81,
    "start_time": "2022-06-12T15:12:08.746Z"
   },
   {
    "duration": 11,
    "start_time": "2022-06-12T15:12:08.828Z"
   },
   {
    "duration": 52,
    "start_time": "2022-06-12T15:12:08.841Z"
   },
   {
    "duration": 2,
    "start_time": "2022-06-12T15:12:08.894Z"
   },
   {
    "duration": 11,
    "start_time": "2022-06-12T15:12:08.897Z"
   },
   {
    "duration": 18,
    "start_time": "2022-06-12T15:12:08.909Z"
   },
   {
    "duration": 2,
    "start_time": "2022-06-12T15:12:08.929Z"
   },
   {
    "duration": 8,
    "start_time": "2022-06-12T15:12:08.932Z"
   },
   {
    "duration": 47,
    "start_time": "2022-06-12T15:12:08.942Z"
   },
   {
    "duration": 91,
    "start_time": "2022-06-12T15:12:08.990Z"
   },
   {
    "duration": 6,
    "start_time": "2022-06-12T15:12:09.082Z"
   },
   {
    "duration": 107,
    "start_time": "2022-06-12T15:12:09.179Z"
   },
   {
    "duration": 4,
    "start_time": "2022-06-12T15:12:09.288Z"
   },
   {
    "duration": 9,
    "start_time": "2022-06-12T15:12:09.294Z"
   },
   {
    "duration": 7,
    "start_time": "2022-06-12T15:12:09.304Z"
   },
   {
    "duration": 74,
    "start_time": "2022-06-12T15:12:09.312Z"
   },
   {
    "duration": 96,
    "start_time": "2022-06-12T15:12:09.388Z"
   },
   {
    "duration": 7,
    "start_time": "2022-06-12T15:12:09.486Z"
   },
   {
    "duration": 2,
    "start_time": "2022-06-12T15:12:09.495Z"
   },
   {
    "duration": 4,
    "start_time": "2022-06-12T15:12:09.498Z"
   },
   {
    "duration": 1390,
    "start_time": "2022-06-12T15:12:09.504Z"
   },
   {
    "duration": 885,
    "start_time": "2022-06-12T15:12:10.895Z"
   },
   {
    "duration": 1019,
    "start_time": "2022-06-12T15:12:11.782Z"
   },
   {
    "duration": 0,
    "start_time": "2022-06-12T15:12:12.803Z"
   },
   {
    "duration": 0,
    "start_time": "2022-06-12T15:12:12.804Z"
   },
   {
    "duration": 0,
    "start_time": "2022-06-12T15:12:12.806Z"
   },
   {
    "duration": 0,
    "start_time": "2022-06-12T15:12:12.807Z"
   },
   {
    "duration": 0,
    "start_time": "2022-06-12T15:12:12.808Z"
   },
   {
    "duration": 0,
    "start_time": "2022-06-12T15:12:12.809Z"
   },
   {
    "duration": 0,
    "start_time": "2022-06-12T15:12:12.810Z"
   },
   {
    "duration": 0,
    "start_time": "2022-06-12T15:12:12.811Z"
   },
   {
    "duration": 0,
    "start_time": "2022-06-12T15:12:12.812Z"
   },
   {
    "duration": 0,
    "start_time": "2022-06-12T15:12:12.813Z"
   },
   {
    "duration": 0,
    "start_time": "2022-06-12T15:12:12.814Z"
   },
   {
    "duration": 0,
    "start_time": "2022-06-12T15:12:12.815Z"
   },
   {
    "duration": 0,
    "start_time": "2022-06-12T15:12:12.816Z"
   },
   {
    "duration": 0,
    "start_time": "2022-06-12T15:12:12.817Z"
   },
   {
    "duration": 4,
    "start_time": "2022-06-12T15:13:40.182Z"
   },
   {
    "duration": 3193,
    "start_time": "2022-06-12T15:13:42.302Z"
   },
   {
    "duration": 3,
    "start_time": "2022-06-12T15:15:00.032Z"
   },
   {
    "duration": 3,
    "start_time": "2022-06-12T15:20:19.397Z"
   },
   {
    "duration": 1263,
    "start_time": "2022-06-12T15:20:23.742Z"
   },
   {
    "duration": 826,
    "start_time": "2022-06-12T15:20:27.947Z"
   },
   {
    "duration": 3,
    "start_time": "2022-06-12T15:30:46.961Z"
   },
   {
    "duration": 1326,
    "start_time": "2022-06-12T15:30:48.136Z"
   },
   {
    "duration": 817,
    "start_time": "2022-06-12T15:30:52.853Z"
   },
   {
    "duration": 3460,
    "start_time": "2022-06-12T15:31:05.704Z"
   },
   {
    "duration": 964,
    "start_time": "2022-06-12T15:31:40.451Z"
   },
   {
    "duration": 537,
    "start_time": "2022-06-12T15:31:41.416Z"
   },
   {
    "duration": 157,
    "start_time": "2022-06-12T15:31:41.954Z"
   },
   {
    "duration": 82,
    "start_time": "2022-06-12T15:31:42.113Z"
   },
   {
    "duration": 15,
    "start_time": "2022-06-12T15:31:42.197Z"
   },
   {
    "duration": 68,
    "start_time": "2022-06-12T15:31:42.213Z"
   },
   {
    "duration": 3,
    "start_time": "2022-06-12T15:31:42.282Z"
   },
   {
    "duration": 12,
    "start_time": "2022-06-12T15:31:42.286Z"
   },
   {
    "duration": 19,
    "start_time": "2022-06-12T15:31:42.299Z"
   },
   {
    "duration": 2,
    "start_time": "2022-06-12T15:31:42.320Z"
   },
   {
    "duration": 20,
    "start_time": "2022-06-12T15:31:42.323Z"
   },
   {
    "duration": 38,
    "start_time": "2022-06-12T15:31:42.345Z"
   },
   {
    "duration": 28,
    "start_time": "2022-06-12T15:31:42.384Z"
   },
   {
    "duration": 99,
    "start_time": "2022-06-12T15:31:42.479Z"
   },
   {
    "duration": 9,
    "start_time": "2022-06-12T15:31:42.580Z"
   },
   {
    "duration": 4,
    "start_time": "2022-06-12T15:31:42.590Z"
   },
   {
    "duration": 11,
    "start_time": "2022-06-12T15:31:42.595Z"
   },
   {
    "duration": 7,
    "start_time": "2022-06-12T15:31:42.608Z"
   },
   {
    "duration": 62,
    "start_time": "2022-06-12T15:31:42.617Z"
   },
   {
    "duration": 98,
    "start_time": "2022-06-12T15:31:42.680Z"
   },
   {
    "duration": 7,
    "start_time": "2022-06-12T15:31:42.780Z"
   },
   {
    "duration": 3,
    "start_time": "2022-06-12T15:31:42.788Z"
   },
   {
    "duration": 6,
    "start_time": "2022-06-12T15:31:42.792Z"
   },
   {
    "duration": 7,
    "start_time": "2022-06-12T15:31:42.799Z"
   },
   {
    "duration": 98,
    "start_time": "2022-06-12T15:31:42.807Z"
   },
   {
    "duration": 0,
    "start_time": "2022-06-12T15:31:42.907Z"
   },
   {
    "duration": 0,
    "start_time": "2022-06-12T15:31:42.908Z"
   },
   {
    "duration": 0,
    "start_time": "2022-06-12T15:31:42.910Z"
   },
   {
    "duration": 0,
    "start_time": "2022-06-12T15:31:42.911Z"
   },
   {
    "duration": 0,
    "start_time": "2022-06-12T15:31:42.912Z"
   },
   {
    "duration": 0,
    "start_time": "2022-06-12T15:31:42.913Z"
   },
   {
    "duration": 0,
    "start_time": "2022-06-12T15:31:42.914Z"
   },
   {
    "duration": 0,
    "start_time": "2022-06-12T15:31:42.916Z"
   },
   {
    "duration": 0,
    "start_time": "2022-06-12T15:31:42.917Z"
   },
   {
    "duration": 0,
    "start_time": "2022-06-12T15:31:42.918Z"
   },
   {
    "duration": 0,
    "start_time": "2022-06-12T15:31:42.920Z"
   },
   {
    "duration": 0,
    "start_time": "2022-06-12T15:31:42.921Z"
   },
   {
    "duration": 0,
    "start_time": "2022-06-12T15:31:42.922Z"
   },
   {
    "duration": 0,
    "start_time": "2022-06-12T15:31:42.923Z"
   },
   {
    "duration": 0,
    "start_time": "2022-06-12T15:31:42.925Z"
   },
   {
    "duration": 0,
    "start_time": "2022-06-12T15:31:42.926Z"
   },
   {
    "duration": 1396,
    "start_time": "2022-06-12T15:32:19.122Z"
   },
   {
    "duration": 3716,
    "start_time": "2022-06-12T15:32:23.225Z"
   },
   {
    "duration": 928,
    "start_time": "2022-06-12T15:32:41.003Z"
   },
   {
    "duration": 557,
    "start_time": "2022-06-12T15:32:41.934Z"
   },
   {
    "duration": 131,
    "start_time": "2022-06-12T15:32:42.493Z"
   },
   {
    "duration": 86,
    "start_time": "2022-06-12T15:32:42.626Z"
   },
   {
    "duration": 15,
    "start_time": "2022-06-12T15:32:42.715Z"
   },
   {
    "duration": 65,
    "start_time": "2022-06-12T15:32:42.732Z"
   },
   {
    "duration": 3,
    "start_time": "2022-06-12T15:32:42.798Z"
   },
   {
    "duration": 18,
    "start_time": "2022-06-12T15:32:42.802Z"
   },
   {
    "duration": 21,
    "start_time": "2022-06-12T15:32:42.821Z"
   },
   {
    "duration": 3,
    "start_time": "2022-06-12T15:32:42.844Z"
   },
   {
    "duration": 7,
    "start_time": "2022-06-12T15:32:42.878Z"
   },
   {
    "duration": 19,
    "start_time": "2022-06-12T15:32:42.887Z"
   },
   {
    "duration": 73,
    "start_time": "2022-06-12T15:32:42.908Z"
   },
   {
    "duration": 93,
    "start_time": "2022-06-12T15:32:42.986Z"
   },
   {
    "duration": 111,
    "start_time": "2022-06-12T15:32:43.081Z"
   },
   {
    "duration": 5,
    "start_time": "2022-06-12T15:32:43.193Z"
   },
   {
    "duration": 12,
    "start_time": "2022-06-12T15:32:43.201Z"
   },
   {
    "duration": 14,
    "start_time": "2022-06-12T15:32:43.215Z"
   },
   {
    "duration": 49,
    "start_time": "2022-06-12T15:32:43.231Z"
   },
   {
    "duration": 10,
    "start_time": "2022-06-12T15:32:43.283Z"
   },
   {
    "duration": 11,
    "start_time": "2022-06-12T15:32:43.378Z"
   },
   {
    "duration": 3,
    "start_time": "2022-06-12T15:32:43.390Z"
   },
   {
    "duration": 8,
    "start_time": "2022-06-12T15:32:43.395Z"
   },
   {
    "duration": 11,
    "start_time": "2022-06-12T15:32:43.404Z"
   },
   {
    "duration": 1369,
    "start_time": "2022-06-12T15:32:43.417Z"
   },
   {
    "duration": 2,
    "start_time": "2022-06-12T15:32:44.788Z"
   },
   {
    "duration": 3526,
    "start_time": "2022-06-12T15:32:44.792Z"
   },
   {
    "duration": 113,
    "start_time": "2022-06-12T15:32:48.320Z"
   },
   {
    "duration": 0,
    "start_time": "2022-06-12T15:32:48.435Z"
   },
   {
    "duration": 0,
    "start_time": "2022-06-12T15:32:48.436Z"
   },
   {
    "duration": 0,
    "start_time": "2022-06-12T15:32:48.437Z"
   },
   {
    "duration": 0,
    "start_time": "2022-06-12T15:32:48.439Z"
   },
   {
    "duration": 0,
    "start_time": "2022-06-12T15:32:48.440Z"
   },
   {
    "duration": 0,
    "start_time": "2022-06-12T15:32:48.441Z"
   },
   {
    "duration": 0,
    "start_time": "2022-06-12T15:32:48.441Z"
   },
   {
    "duration": 0,
    "start_time": "2022-06-12T15:32:48.443Z"
   },
   {
    "duration": 0,
    "start_time": "2022-06-12T15:32:48.444Z"
   },
   {
    "duration": 0,
    "start_time": "2022-06-12T15:32:48.445Z"
   },
   {
    "duration": 0,
    "start_time": "2022-06-12T15:32:48.445Z"
   },
   {
    "duration": 0,
    "start_time": "2022-06-12T15:32:48.446Z"
   },
   {
    "duration": 0,
    "start_time": "2022-06-12T15:32:48.447Z"
   },
   {
    "duration": 827,
    "start_time": "2022-06-12T15:37:22.433Z"
   },
   {
    "duration": 2558,
    "start_time": "2022-06-12T15:37:51.983Z"
   },
   {
    "duration": 1004,
    "start_time": "2022-06-12T15:38:22.966Z"
   },
   {
    "duration": 550,
    "start_time": "2022-06-12T15:38:23.972Z"
   },
   {
    "duration": 120,
    "start_time": "2022-06-12T15:38:24.523Z"
   },
   {
    "duration": 83,
    "start_time": "2022-06-12T15:38:24.645Z"
   },
   {
    "duration": 11,
    "start_time": "2022-06-12T15:38:24.729Z"
   },
   {
    "duration": 63,
    "start_time": "2022-06-12T15:38:24.741Z"
   },
   {
    "duration": 2,
    "start_time": "2022-06-12T15:38:24.805Z"
   },
   {
    "duration": 12,
    "start_time": "2022-06-12T15:38:24.809Z"
   },
   {
    "duration": 19,
    "start_time": "2022-06-12T15:38:24.822Z"
   },
   {
    "duration": 2,
    "start_time": "2022-06-12T15:38:24.878Z"
   },
   {
    "duration": 12,
    "start_time": "2022-06-12T15:38:24.881Z"
   },
   {
    "duration": 13,
    "start_time": "2022-06-12T15:38:24.894Z"
   },
   {
    "duration": 71,
    "start_time": "2022-06-12T15:38:24.909Z"
   },
   {
    "duration": 6,
    "start_time": "2022-06-12T15:38:24.982Z"
   },
   {
    "duration": 98,
    "start_time": "2022-06-12T15:38:24.989Z"
   },
   {
    "duration": 5,
    "start_time": "2022-06-12T15:38:25.179Z"
   },
   {
    "duration": 10,
    "start_time": "2022-06-12T15:38:25.185Z"
   },
   {
    "duration": 9,
    "start_time": "2022-06-12T15:38:25.196Z"
   },
   {
    "duration": 80,
    "start_time": "2022-06-12T15:38:25.206Z"
   },
   {
    "duration": 96,
    "start_time": "2022-06-12T15:38:25.288Z"
   },
   {
    "duration": 8,
    "start_time": "2022-06-12T15:38:25.385Z"
   },
   {
    "duration": 2,
    "start_time": "2022-06-12T15:38:25.395Z"
   },
   {
    "duration": 7,
    "start_time": "2022-06-12T15:38:25.398Z"
   },
   {
    "duration": 5,
    "start_time": "2022-06-12T15:38:25.406Z"
   },
   {
    "duration": 1388,
    "start_time": "2022-06-12T15:38:25.412Z"
   },
   {
    "duration": 3,
    "start_time": "2022-06-12T15:38:26.801Z"
   },
   {
    "duration": 2779,
    "start_time": "2022-06-12T15:38:26.805Z"
   },
   {
    "duration": 0,
    "start_time": "2022-06-12T15:38:29.586Z"
   },
   {
    "duration": 0,
    "start_time": "2022-06-12T15:38:29.587Z"
   },
   {
    "duration": 0,
    "start_time": "2022-06-12T15:38:29.588Z"
   },
   {
    "duration": 0,
    "start_time": "2022-06-12T15:38:29.589Z"
   },
   {
    "duration": 0,
    "start_time": "2022-06-12T15:38:29.590Z"
   },
   {
    "duration": 0,
    "start_time": "2022-06-12T15:38:29.590Z"
   },
   {
    "duration": 0,
    "start_time": "2022-06-12T15:38:29.591Z"
   },
   {
    "duration": 0,
    "start_time": "2022-06-12T15:38:29.592Z"
   },
   {
    "duration": 0,
    "start_time": "2022-06-12T15:38:29.593Z"
   },
   {
    "duration": 0,
    "start_time": "2022-06-12T15:38:29.594Z"
   },
   {
    "duration": 0,
    "start_time": "2022-06-12T15:38:29.595Z"
   },
   {
    "duration": 0,
    "start_time": "2022-06-12T15:38:29.596Z"
   },
   {
    "duration": 0,
    "start_time": "2022-06-12T15:38:29.596Z"
   },
   {
    "duration": 0,
    "start_time": "2022-06-12T15:38:29.597Z"
   },
   {
    "duration": 914,
    "start_time": "2022-06-12T15:38:49.813Z"
   },
   {
    "duration": 550,
    "start_time": "2022-06-12T15:38:50.728Z"
   },
   {
    "duration": 134,
    "start_time": "2022-06-12T15:38:51.279Z"
   },
   {
    "duration": 79,
    "start_time": "2022-06-12T15:38:51.415Z"
   },
   {
    "duration": 15,
    "start_time": "2022-06-12T15:38:51.495Z"
   },
   {
    "duration": 70,
    "start_time": "2022-06-12T15:38:51.512Z"
   },
   {
    "duration": 2,
    "start_time": "2022-06-12T15:38:51.583Z"
   },
   {
    "duration": 15,
    "start_time": "2022-06-12T15:38:51.587Z"
   },
   {
    "duration": 26,
    "start_time": "2022-06-12T15:38:51.604Z"
   },
   {
    "duration": 3,
    "start_time": "2022-06-12T15:38:51.633Z"
   },
   {
    "duration": 41,
    "start_time": "2022-06-12T15:38:51.637Z"
   },
   {
    "duration": 17,
    "start_time": "2022-06-12T15:38:51.680Z"
   },
   {
    "duration": 82,
    "start_time": "2022-06-12T15:38:51.699Z"
   },
   {
    "duration": 7,
    "start_time": "2022-06-12T15:38:51.783Z"
   },
   {
    "duration": 99,
    "start_time": "2022-06-12T15:38:51.791Z"
   },
   {
    "duration": 4,
    "start_time": "2022-06-12T15:38:51.891Z"
   },
   {
    "duration": 9,
    "start_time": "2022-06-12T15:38:51.896Z"
   },
   {
    "duration": 7,
    "start_time": "2022-06-12T15:38:51.906Z"
   },
   {
    "duration": 85,
    "start_time": "2022-06-12T15:38:51.914Z"
   },
   {
    "duration": 5,
    "start_time": "2022-06-12T15:38:52.079Z"
   },
   {
    "duration": 8,
    "start_time": "2022-06-12T15:38:52.085Z"
   },
   {
    "duration": 9,
    "start_time": "2022-06-12T15:38:52.095Z"
   },
   {
    "duration": 7,
    "start_time": "2022-06-12T15:38:52.105Z"
   },
   {
    "duration": 7,
    "start_time": "2022-06-12T15:38:52.113Z"
   },
   {
    "duration": 1360,
    "start_time": "2022-06-12T15:38:52.121Z"
   },
   {
    "duration": 2,
    "start_time": "2022-06-12T15:38:53.483Z"
   },
   {
    "duration": 3340,
    "start_time": "2022-06-12T15:38:53.486Z"
   },
   {
    "duration": 106,
    "start_time": "2022-06-12T15:38:56.829Z"
   },
   {
    "duration": 0,
    "start_time": "2022-06-12T15:38:56.937Z"
   },
   {
    "duration": 0,
    "start_time": "2022-06-12T15:38:56.938Z"
   },
   {
    "duration": 0,
    "start_time": "2022-06-12T15:38:56.939Z"
   },
   {
    "duration": 0,
    "start_time": "2022-06-12T15:38:56.940Z"
   },
   {
    "duration": 0,
    "start_time": "2022-06-12T15:38:56.941Z"
   },
   {
    "duration": 0,
    "start_time": "2022-06-12T15:38:56.943Z"
   },
   {
    "duration": 0,
    "start_time": "2022-06-12T15:38:56.944Z"
   },
   {
    "duration": 0,
    "start_time": "2022-06-12T15:38:56.945Z"
   },
   {
    "duration": 0,
    "start_time": "2022-06-12T15:38:56.946Z"
   },
   {
    "duration": 0,
    "start_time": "2022-06-12T15:38:56.947Z"
   },
   {
    "duration": 0,
    "start_time": "2022-06-12T15:38:56.948Z"
   },
   {
    "duration": 0,
    "start_time": "2022-06-12T15:38:56.948Z"
   },
   {
    "duration": 0,
    "start_time": "2022-06-12T15:38:56.950Z"
   },
   {
    "duration": 3,
    "start_time": "2022-06-12T15:42:26.921Z"
   },
   {
    "duration": 20,
    "start_time": "2022-06-12T15:42:29.558Z"
   },
   {
    "duration": 939,
    "start_time": "2022-06-12T15:45:00.097Z"
   },
   {
    "duration": 573,
    "start_time": "2022-06-12T15:45:01.038Z"
   },
   {
    "duration": 130,
    "start_time": "2022-06-12T15:45:01.613Z"
   },
   {
    "duration": 84,
    "start_time": "2022-06-12T15:45:01.745Z"
   },
   {
    "duration": 13,
    "start_time": "2022-06-12T15:45:01.832Z"
   },
   {
    "duration": 68,
    "start_time": "2022-06-12T15:45:01.846Z"
   },
   {
    "duration": 3,
    "start_time": "2022-06-12T15:45:01.915Z"
   },
   {
    "duration": 15,
    "start_time": "2022-06-12T15:45:01.919Z"
   },
   {
    "duration": 55,
    "start_time": "2022-06-12T15:45:01.936Z"
   },
   {
    "duration": 3,
    "start_time": "2022-06-12T15:45:01.992Z"
   },
   {
    "duration": 23,
    "start_time": "2022-06-12T15:45:01.996Z"
   },
   {
    "duration": 13,
    "start_time": "2022-06-12T15:45:02.020Z"
   },
   {
    "duration": 46,
    "start_time": "2022-06-12T15:45:02.035Z"
   },
   {
    "duration": 96,
    "start_time": "2022-06-12T15:45:02.087Z"
   },
   {
    "duration": 140,
    "start_time": "2022-06-12T15:45:02.184Z"
   },
   {
    "duration": 55,
    "start_time": "2022-06-12T15:45:02.325Z"
   },
   {
    "duration": 24,
    "start_time": "2022-06-12T15:45:02.382Z"
   },
   {
    "duration": 71,
    "start_time": "2022-06-12T15:45:02.408Z"
   },
   {
    "duration": 100,
    "start_time": "2022-06-12T15:45:02.483Z"
   },
   {
    "duration": 6,
    "start_time": "2022-06-12T15:45:02.585Z"
   },
   {
    "duration": 22,
    "start_time": "2022-06-12T15:45:02.592Z"
   },
   {
    "duration": 7,
    "start_time": "2022-06-12T15:45:02.615Z"
   },
   {
    "duration": 9,
    "start_time": "2022-06-12T15:45:02.623Z"
   },
   {
    "duration": 8,
    "start_time": "2022-06-12T15:45:02.633Z"
   },
   {
    "duration": 89,
    "start_time": "2022-06-12T15:45:02.643Z"
   },
   {
    "duration": 0,
    "start_time": "2022-06-12T15:45:02.733Z"
   },
   {
    "duration": 0,
    "start_time": "2022-06-12T15:45:02.734Z"
   },
   {
    "duration": 0,
    "start_time": "2022-06-12T15:45:02.735Z"
   },
   {
    "duration": 0,
    "start_time": "2022-06-12T15:45:02.736Z"
   },
   {
    "duration": 0,
    "start_time": "2022-06-12T15:45:02.737Z"
   },
   {
    "duration": 0,
    "start_time": "2022-06-12T15:45:02.738Z"
   },
   {
    "duration": 0,
    "start_time": "2022-06-12T15:45:02.739Z"
   },
   {
    "duration": 0,
    "start_time": "2022-06-12T15:45:02.740Z"
   },
   {
    "duration": 0,
    "start_time": "2022-06-12T15:45:02.741Z"
   },
   {
    "duration": 0,
    "start_time": "2022-06-12T15:45:02.742Z"
   },
   {
    "duration": 0,
    "start_time": "2022-06-12T15:45:02.743Z"
   },
   {
    "duration": 0,
    "start_time": "2022-06-12T15:45:02.744Z"
   },
   {
    "duration": 0,
    "start_time": "2022-06-12T15:45:02.745Z"
   },
   {
    "duration": 0,
    "start_time": "2022-06-12T15:45:02.746Z"
   },
   {
    "duration": 0,
    "start_time": "2022-06-12T15:45:02.746Z"
   },
   {
    "duration": 0,
    "start_time": "2022-06-12T15:45:02.747Z"
   },
   {
    "duration": 1405,
    "start_time": "2022-06-12T15:45:17.475Z"
   },
   {
    "duration": 2576,
    "start_time": "2022-06-12T15:45:27.845Z"
   },
   {
    "duration": 938,
    "start_time": "2022-06-12T16:04:54.797Z"
   },
   {
    "duration": 520,
    "start_time": "2022-06-12T16:04:55.737Z"
   },
   {
    "duration": 139,
    "start_time": "2022-06-12T16:04:56.258Z"
   },
   {
    "duration": 55,
    "start_time": "2022-06-12T16:04:56.399Z"
   },
   {
    "duration": 31,
    "start_time": "2022-06-12T16:04:56.455Z"
   },
   {
    "duration": 31,
    "start_time": "2022-06-12T16:04:56.487Z"
   },
   {
    "duration": 2,
    "start_time": "2022-06-12T16:04:56.519Z"
   },
   {
    "duration": 12,
    "start_time": "2022-06-12T16:04:56.523Z"
   },
   {
    "duration": 51,
    "start_time": "2022-06-12T16:04:56.536Z"
   },
   {
    "duration": 2,
    "start_time": "2022-06-12T16:04:56.589Z"
   },
   {
    "duration": 11,
    "start_time": "2022-06-12T16:04:56.593Z"
   },
   {
    "duration": 11,
    "start_time": "2022-06-12T16:04:56.605Z"
   },
   {
    "duration": 64,
    "start_time": "2022-06-12T16:04:56.617Z"
   },
   {
    "duration": 97,
    "start_time": "2022-06-12T16:04:56.682Z"
   },
   {
    "duration": 105,
    "start_time": "2022-06-12T16:04:56.780Z"
   },
   {
    "duration": 4,
    "start_time": "2022-06-12T16:04:56.886Z"
   },
   {
    "duration": 9,
    "start_time": "2022-06-12T16:04:56.892Z"
   },
   {
    "duration": 7,
    "start_time": "2022-06-12T16:04:56.903Z"
   },
   {
    "duration": 169,
    "start_time": "2022-06-12T16:04:56.911Z"
   },
   {
    "duration": 5,
    "start_time": "2022-06-12T16:04:57.082Z"
   },
   {
    "duration": 19,
    "start_time": "2022-06-12T16:04:57.089Z"
   },
   {
    "duration": 4,
    "start_time": "2022-06-12T16:04:57.109Z"
   },
   {
    "duration": 7,
    "start_time": "2022-06-12T16:04:57.114Z"
   },
   {
    "duration": 6,
    "start_time": "2022-06-12T16:04:57.122Z"
   },
   {
    "duration": 1400,
    "start_time": "2022-06-12T16:04:57.129Z"
   },
   {
    "duration": 2,
    "start_time": "2022-06-12T16:04:58.531Z"
   },
   {
    "duration": 2765,
    "start_time": "2022-06-12T16:04:58.535Z"
   },
   {
    "duration": 0,
    "start_time": "2022-06-12T16:05:01.302Z"
   },
   {
    "duration": 0,
    "start_time": "2022-06-12T16:05:01.303Z"
   },
   {
    "duration": 0,
    "start_time": "2022-06-12T16:05:01.304Z"
   },
   {
    "duration": 0,
    "start_time": "2022-06-12T16:05:01.305Z"
   },
   {
    "duration": 0,
    "start_time": "2022-06-12T16:05:01.307Z"
   },
   {
    "duration": 0,
    "start_time": "2022-06-12T16:05:01.308Z"
   },
   {
    "duration": 0,
    "start_time": "2022-06-12T16:05:01.309Z"
   },
   {
    "duration": 0,
    "start_time": "2022-06-12T16:05:01.309Z"
   },
   {
    "duration": 0,
    "start_time": "2022-06-12T16:05:01.310Z"
   },
   {
    "duration": 0,
    "start_time": "2022-06-12T16:05:01.311Z"
   },
   {
    "duration": 0,
    "start_time": "2022-06-12T16:05:01.312Z"
   },
   {
    "duration": 0,
    "start_time": "2022-06-12T16:05:01.313Z"
   },
   {
    "duration": 0,
    "start_time": "2022-06-12T16:05:01.314Z"
   },
   {
    "duration": 0,
    "start_time": "2022-06-12T16:05:01.315Z"
   },
   {
    "duration": 915,
    "start_time": "2022-06-12T16:12:11.819Z"
   },
   {
    "duration": 543,
    "start_time": "2022-06-12T16:12:12.736Z"
   },
   {
    "duration": 127,
    "start_time": "2022-06-12T16:12:13.281Z"
   },
   {
    "duration": 76,
    "start_time": "2022-06-12T16:12:13.410Z"
   },
   {
    "duration": 11,
    "start_time": "2022-06-12T16:12:13.487Z"
   },
   {
    "duration": 30,
    "start_time": "2022-06-12T16:12:13.499Z"
   },
   {
    "duration": 2,
    "start_time": "2022-06-12T16:12:13.530Z"
   },
   {
    "duration": 12,
    "start_time": "2022-06-12T16:12:13.533Z"
   },
   {
    "duration": 49,
    "start_time": "2022-06-12T16:12:13.546Z"
   },
   {
    "duration": 2,
    "start_time": "2022-06-12T16:12:13.596Z"
   },
   {
    "duration": 8,
    "start_time": "2022-06-12T16:12:13.600Z"
   },
   {
    "duration": 12,
    "start_time": "2022-06-12T16:12:13.609Z"
   },
   {
    "duration": 61,
    "start_time": "2022-06-12T16:12:13.622Z"
   },
   {
    "duration": 97,
    "start_time": "2022-06-12T16:12:13.685Z"
   },
   {
    "duration": 106,
    "start_time": "2022-06-12T16:12:13.784Z"
   },
   {
    "duration": 4,
    "start_time": "2022-06-12T16:12:13.892Z"
   },
   {
    "duration": 6,
    "start_time": "2022-06-12T16:12:13.898Z"
   },
   {
    "duration": 6,
    "start_time": "2022-06-12T16:12:13.906Z"
   },
   {
    "duration": 171,
    "start_time": "2022-06-12T16:12:13.913Z"
   },
   {
    "duration": 6,
    "start_time": "2022-06-12T16:12:14.085Z"
   },
   {
    "duration": 8,
    "start_time": "2022-06-12T16:12:14.092Z"
   },
   {
    "duration": 2,
    "start_time": "2022-06-12T16:12:14.102Z"
   },
   {
    "duration": 7,
    "start_time": "2022-06-12T16:12:14.105Z"
   },
   {
    "duration": 5,
    "start_time": "2022-06-12T16:12:14.114Z"
   },
   {
    "duration": 1400,
    "start_time": "2022-06-12T16:12:14.120Z"
   },
   {
    "duration": 2,
    "start_time": "2022-06-12T16:12:15.522Z"
   },
   {
    "duration": 87,
    "start_time": "2022-06-12T16:12:15.525Z"
   },
   {
    "duration": 0,
    "start_time": "2022-06-12T16:12:15.614Z"
   },
   {
    "duration": 0,
    "start_time": "2022-06-12T16:12:15.615Z"
   },
   {
    "duration": 0,
    "start_time": "2022-06-12T16:12:15.617Z"
   },
   {
    "duration": 0,
    "start_time": "2022-06-12T16:12:15.617Z"
   },
   {
    "duration": 0,
    "start_time": "2022-06-12T16:12:15.618Z"
   },
   {
    "duration": 0,
    "start_time": "2022-06-12T16:12:15.619Z"
   },
   {
    "duration": 0,
    "start_time": "2022-06-12T16:12:15.620Z"
   },
   {
    "duration": 0,
    "start_time": "2022-06-12T16:12:15.622Z"
   },
   {
    "duration": 0,
    "start_time": "2022-06-12T16:12:15.623Z"
   },
   {
    "duration": 0,
    "start_time": "2022-06-12T16:12:15.624Z"
   },
   {
    "duration": 0,
    "start_time": "2022-06-12T16:12:15.625Z"
   },
   {
    "duration": 0,
    "start_time": "2022-06-12T16:12:15.626Z"
   },
   {
    "duration": 0,
    "start_time": "2022-06-12T16:12:15.627Z"
   },
   {
    "duration": 0,
    "start_time": "2022-06-12T16:12:15.628Z"
   },
   {
    "duration": 872,
    "start_time": "2022-06-12T16:12:48.589Z"
   },
   {
    "duration": 3,
    "start_time": "2022-06-12T16:15:32.710Z"
   },
   {
    "duration": 1106,
    "start_time": "2022-06-12T16:15:33.951Z"
   },
   {
    "duration": 5,
    "start_time": "2022-06-12T16:15:37.716Z"
   },
   {
    "duration": 6,
    "start_time": "2022-06-12T16:15:41.457Z"
   },
   {
    "duration": 3,
    "start_time": "2022-06-12T16:16:09.356Z"
   },
   {
    "duration": 1136,
    "start_time": "2022-06-12T16:16:11.212Z"
   },
   {
    "duration": 2,
    "start_time": "2022-06-12T16:16:12.360Z"
   },
   {
    "duration": 4,
    "start_time": "2022-06-12T16:16:13.202Z"
   },
   {
    "duration": 6,
    "start_time": "2022-06-12T16:16:21.181Z"
   },
   {
    "duration": 3,
    "start_time": "2022-06-12T16:17:42.241Z"
   },
   {
    "duration": 1327,
    "start_time": "2022-06-12T16:17:43.286Z"
   },
   {
    "duration": 3,
    "start_time": "2022-06-12T16:17:44.615Z"
   },
   {
    "duration": 2658,
    "start_time": "2022-06-12T16:17:45.336Z"
   },
   {
    "duration": 2711,
    "start_time": "2022-06-12T16:17:57.556Z"
   },
   {
    "duration": 3,
    "start_time": "2022-06-12T16:18:21.941Z"
   },
   {
    "duration": 20,
    "start_time": "2022-06-12T16:18:24.856Z"
   },
   {
    "duration": 4,
    "start_time": "2022-06-12T16:18:35.037Z"
   },
   {
    "duration": 1346,
    "start_time": "2022-06-12T16:18:35.767Z"
   },
   {
    "duration": 2666,
    "start_time": "2022-06-12T16:18:39.956Z"
   },
   {
    "duration": 1210,
    "start_time": "2022-06-12T16:19:02.288Z"
   },
   {
    "duration": 558,
    "start_time": "2022-06-12T16:19:03.500Z"
   },
   {
    "duration": 167,
    "start_time": "2022-06-12T16:19:04.060Z"
   },
   {
    "duration": 83,
    "start_time": "2022-06-12T16:19:04.229Z"
   },
   {
    "duration": 12,
    "start_time": "2022-06-12T16:19:04.313Z"
   },
   {
    "duration": 58,
    "start_time": "2022-06-12T16:19:04.327Z"
   },
   {
    "duration": 2,
    "start_time": "2022-06-12T16:19:04.387Z"
   },
   {
    "duration": 12,
    "start_time": "2022-06-12T16:19:04.390Z"
   },
   {
    "duration": 18,
    "start_time": "2022-06-12T16:19:04.403Z"
   },
   {
    "duration": 2,
    "start_time": "2022-06-12T16:19:04.423Z"
   },
   {
    "duration": 10,
    "start_time": "2022-06-12T16:19:04.427Z"
   },
   {
    "duration": 15,
    "start_time": "2022-06-12T16:19:04.438Z"
   },
   {
    "duration": 31,
    "start_time": "2022-06-12T16:19:04.478Z"
   },
   {
    "duration": 99,
    "start_time": "2022-06-12T16:19:04.580Z"
   },
   {
    "duration": 9,
    "start_time": "2022-06-12T16:19:04.681Z"
   },
   {
    "duration": 5,
    "start_time": "2022-06-12T16:19:04.691Z"
   },
   {
    "duration": 9,
    "start_time": "2022-06-12T16:19:04.698Z"
   },
   {
    "duration": 10,
    "start_time": "2022-06-12T16:19:04.708Z"
   },
   {
    "duration": 4,
    "start_time": "2022-06-12T16:19:04.780Z"
   },
   {
    "duration": 98,
    "start_time": "2022-06-12T16:19:04.786Z"
   },
   {
    "duration": 11,
    "start_time": "2022-06-12T16:19:04.886Z"
   },
   {
    "duration": 2,
    "start_time": "2022-06-12T16:19:04.899Z"
   },
   {
    "duration": 8,
    "start_time": "2022-06-12T16:19:04.903Z"
   },
   {
    "duration": 8,
    "start_time": "2022-06-12T16:19:04.912Z"
   },
   {
    "duration": 1418,
    "start_time": "2022-06-12T16:19:04.922Z"
   },
   {
    "duration": 3547,
    "start_time": "2022-06-12T16:19:06.342Z"
   },
   {
    "duration": 113,
    "start_time": "2022-06-12T16:19:09.890Z"
   },
   {
    "duration": 0,
    "start_time": "2022-06-12T16:19:10.004Z"
   },
   {
    "duration": 0,
    "start_time": "2022-06-12T16:19:10.005Z"
   },
   {
    "duration": 0,
    "start_time": "2022-06-12T16:19:10.006Z"
   },
   {
    "duration": 0,
    "start_time": "2022-06-12T16:19:10.007Z"
   },
   {
    "duration": 0,
    "start_time": "2022-06-12T16:19:10.008Z"
   },
   {
    "duration": 0,
    "start_time": "2022-06-12T16:19:10.009Z"
   },
   {
    "duration": 0,
    "start_time": "2022-06-12T16:19:10.010Z"
   },
   {
    "duration": 0,
    "start_time": "2022-06-12T16:19:10.011Z"
   },
   {
    "duration": 0,
    "start_time": "2022-06-12T16:19:10.012Z"
   },
   {
    "duration": 0,
    "start_time": "2022-06-12T16:19:10.013Z"
   },
   {
    "duration": 0,
    "start_time": "2022-06-12T16:19:10.014Z"
   },
   {
    "duration": 0,
    "start_time": "2022-06-12T16:19:10.015Z"
   },
   {
    "duration": 0,
    "start_time": "2022-06-12T16:19:10.016Z"
   },
   {
    "duration": 4,
    "start_time": "2022-06-12T16:29:43.809Z"
   },
   {
    "duration": 29,
    "start_time": "2022-06-12T16:29:53.765Z"
   },
   {
    "duration": 3,
    "start_time": "2022-06-12T16:30:24.404Z"
   },
   {
    "duration": 20,
    "start_time": "2022-06-12T16:30:25.435Z"
   },
   {
    "duration": 3,
    "start_time": "2022-06-12T16:31:12.500Z"
   },
   {
    "duration": 1560,
    "start_time": "2022-06-12T16:31:14.019Z"
   },
   {
    "duration": 31,
    "start_time": "2022-06-12T16:31:18.400Z"
   },
   {
    "duration": 928,
    "start_time": "2022-06-12T16:31:38.916Z"
   },
   {
    "duration": 609,
    "start_time": "2022-06-12T16:31:39.845Z"
   },
   {
    "duration": 162,
    "start_time": "2022-06-12T16:31:40.456Z"
   },
   {
    "duration": 79,
    "start_time": "2022-06-12T16:31:40.620Z"
   },
   {
    "duration": 15,
    "start_time": "2022-06-12T16:31:40.700Z"
   },
   {
    "duration": 76,
    "start_time": "2022-06-12T16:31:40.716Z"
   },
   {
    "duration": 3,
    "start_time": "2022-06-12T16:31:40.795Z"
   },
   {
    "duration": 17,
    "start_time": "2022-06-12T16:31:40.800Z"
   },
   {
    "duration": 24,
    "start_time": "2022-06-12T16:31:40.819Z"
   },
   {
    "duration": 7,
    "start_time": "2022-06-12T16:31:40.846Z"
   },
   {
    "duration": 25,
    "start_time": "2022-06-12T16:31:40.855Z"
   },
   {
    "duration": 15,
    "start_time": "2022-06-12T16:31:40.882Z"
   },
   {
    "duration": 82,
    "start_time": "2022-06-12T16:31:40.899Z"
   },
   {
    "duration": 7,
    "start_time": "2022-06-12T16:31:40.983Z"
   },
   {
    "duration": 198,
    "start_time": "2022-06-12T16:31:40.992Z"
   },
   {
    "duration": 5,
    "start_time": "2022-06-12T16:31:41.191Z"
   },
   {
    "duration": 13,
    "start_time": "2022-06-12T16:31:41.198Z"
   },
   {
    "duration": 65,
    "start_time": "2022-06-12T16:31:41.213Z"
   },
   {
    "duration": 97,
    "start_time": "2022-06-12T16:31:41.282Z"
   },
   {
    "duration": 9,
    "start_time": "2022-06-12T16:31:41.381Z"
   },
   {
    "duration": 11,
    "start_time": "2022-06-12T16:31:41.392Z"
   },
   {
    "duration": 9,
    "start_time": "2022-06-12T16:31:41.405Z"
   },
   {
    "duration": 10,
    "start_time": "2022-06-12T16:31:41.415Z"
   },
   {
    "duration": 7,
    "start_time": "2022-06-12T16:31:41.427Z"
   },
   {
    "duration": 1796,
    "start_time": "2022-06-12T16:31:41.435Z"
   },
   {
    "duration": 940,
    "start_time": "2022-06-12T16:31:43.233Z"
   },
   {
    "duration": 0,
    "start_time": "2022-06-12T16:31:44.178Z"
   },
   {
    "duration": 0,
    "start_time": "2022-06-12T16:31:44.179Z"
   },
   {
    "duration": 0,
    "start_time": "2022-06-12T16:31:44.180Z"
   },
   {
    "duration": 0,
    "start_time": "2022-06-12T16:31:44.181Z"
   },
   {
    "duration": 0,
    "start_time": "2022-06-12T16:31:44.182Z"
   },
   {
    "duration": 0,
    "start_time": "2022-06-12T16:31:44.183Z"
   },
   {
    "duration": 0,
    "start_time": "2022-06-12T16:31:44.184Z"
   },
   {
    "duration": 0,
    "start_time": "2022-06-12T16:31:44.186Z"
   },
   {
    "duration": 0,
    "start_time": "2022-06-12T16:31:44.187Z"
   },
   {
    "duration": 0,
    "start_time": "2022-06-12T16:31:44.188Z"
   },
   {
    "duration": 0,
    "start_time": "2022-06-12T16:31:44.189Z"
   },
   {
    "duration": 0,
    "start_time": "2022-06-12T16:31:44.190Z"
   },
   {
    "duration": 0,
    "start_time": "2022-06-12T16:31:44.191Z"
   },
   {
    "duration": 0,
    "start_time": "2022-06-12T16:31:44.192Z"
   },
   {
    "duration": 3,
    "start_time": "2022-06-12T16:32:06.505Z"
   },
   {
    "duration": 1620,
    "start_time": "2022-06-12T16:32:07.154Z"
   },
   {
    "duration": 2638,
    "start_time": "2022-06-12T16:32:08.775Z"
   },
   {
    "duration": 3,
    "start_time": "2022-06-12T16:32:51.305Z"
   },
   {
    "duration": 20,
    "start_time": "2022-06-12T16:33:03.597Z"
   },
   {
    "duration": 1647,
    "start_time": "2022-06-12T16:33:13.107Z"
   },
   {
    "duration": 5414,
    "start_time": "2022-06-12T16:33:14.855Z"
   },
   {
    "duration": 1054,
    "start_time": "2022-06-12T16:33:32.557Z"
   },
   {
    "duration": 622,
    "start_time": "2022-06-12T16:33:33.614Z"
   },
   {
    "duration": 159,
    "start_time": "2022-06-12T16:33:34.238Z"
   },
   {
    "duration": 80,
    "start_time": "2022-06-12T16:33:34.399Z"
   },
   {
    "duration": 16,
    "start_time": "2022-06-12T16:33:34.480Z"
   },
   {
    "duration": 43,
    "start_time": "2022-06-12T16:33:34.498Z"
   },
   {
    "duration": 36,
    "start_time": "2022-06-12T16:33:34.542Z"
   },
   {
    "duration": 13,
    "start_time": "2022-06-12T16:33:34.581Z"
   },
   {
    "duration": 22,
    "start_time": "2022-06-12T16:33:34.596Z"
   },
   {
    "duration": 3,
    "start_time": "2022-06-12T16:33:34.621Z"
   },
   {
    "duration": 10,
    "start_time": "2022-06-12T16:33:34.626Z"
   },
   {
    "duration": 42,
    "start_time": "2022-06-12T16:33:34.637Z"
   },
   {
    "duration": 46,
    "start_time": "2022-06-12T16:33:34.681Z"
   },
   {
    "duration": 9,
    "start_time": "2022-06-12T16:33:34.779Z"
   },
   {
    "duration": 108,
    "start_time": "2022-06-12T16:33:34.790Z"
   },
   {
    "duration": 6,
    "start_time": "2022-06-12T16:33:34.899Z"
   },
   {
    "duration": 8,
    "start_time": "2022-06-12T16:33:34.906Z"
   },
   {
    "duration": 162,
    "start_time": "2022-06-12T16:33:34.917Z"
   },
   {
    "duration": 105,
    "start_time": "2022-06-12T16:33:35.080Z"
   },
   {
    "duration": 18,
    "start_time": "2022-06-12T16:33:35.186Z"
   },
   {
    "duration": 13,
    "start_time": "2022-06-12T16:33:35.206Z"
   },
   {
    "duration": 3,
    "start_time": "2022-06-12T16:33:35.220Z"
   },
   {
    "duration": 7,
    "start_time": "2022-06-12T16:33:35.224Z"
   },
   {
    "duration": 6,
    "start_time": "2022-06-12T16:33:35.232Z"
   },
   {
    "duration": 1772,
    "start_time": "2022-06-12T16:33:35.240Z"
   },
   {
    "duration": 6377,
    "start_time": "2022-06-12T16:33:37.015Z"
   },
   {
    "duration": 0,
    "start_time": "2022-06-12T16:33:43.394Z"
   },
   {
    "duration": 0,
    "start_time": "2022-06-12T16:33:43.395Z"
   },
   {
    "duration": 0,
    "start_time": "2022-06-12T16:33:43.396Z"
   },
   {
    "duration": 0,
    "start_time": "2022-06-12T16:33:43.398Z"
   },
   {
    "duration": 0,
    "start_time": "2022-06-12T16:33:43.399Z"
   },
   {
    "duration": 0,
    "start_time": "2022-06-12T16:33:43.400Z"
   },
   {
    "duration": 0,
    "start_time": "2022-06-12T16:33:43.401Z"
   },
   {
    "duration": 0,
    "start_time": "2022-06-12T16:33:43.402Z"
   },
   {
    "duration": 0,
    "start_time": "2022-06-12T16:33:43.403Z"
   },
   {
    "duration": 0,
    "start_time": "2022-06-12T16:33:43.404Z"
   },
   {
    "duration": 0,
    "start_time": "2022-06-12T16:33:43.405Z"
   },
   {
    "duration": 0,
    "start_time": "2022-06-12T16:33:43.406Z"
   },
   {
    "duration": 0,
    "start_time": "2022-06-12T16:33:43.407Z"
   },
   {
    "duration": 0,
    "start_time": "2022-06-12T16:33:43.408Z"
   },
   {
    "duration": 943,
    "start_time": "2022-06-12T16:35:03.793Z"
   },
   {
    "duration": 545,
    "start_time": "2022-06-12T16:35:04.738Z"
   },
   {
    "duration": 140,
    "start_time": "2022-06-12T16:35:05.284Z"
   },
   {
    "duration": 92,
    "start_time": "2022-06-12T16:35:05.426Z"
   },
   {
    "duration": 66,
    "start_time": "2022-06-12T16:35:05.520Z"
   },
   {
    "duration": 93,
    "start_time": "2022-06-12T16:35:05.587Z"
   },
   {
    "duration": 2,
    "start_time": "2022-06-12T16:35:05.682Z"
   },
   {
    "duration": 18,
    "start_time": "2022-06-12T16:35:05.686Z"
   },
   {
    "duration": 74,
    "start_time": "2022-06-12T16:35:05.705Z"
   },
   {
    "duration": 3,
    "start_time": "2022-06-12T16:35:05.782Z"
   },
   {
    "duration": 18,
    "start_time": "2022-06-12T16:35:05.787Z"
   },
   {
    "duration": 25,
    "start_time": "2022-06-12T16:35:05.807Z"
   },
   {
    "duration": 243,
    "start_time": "2022-06-12T16:35:05.835Z"
   },
   {
    "duration": 8,
    "start_time": "2022-06-12T16:35:06.081Z"
   },
   {
    "duration": 18,
    "start_time": "2022-06-12T16:35:06.091Z"
   },
   {
    "duration": 71,
    "start_time": "2022-06-12T16:35:06.111Z"
   },
   {
    "duration": 10,
    "start_time": "2022-06-12T16:35:06.184Z"
   },
   {
    "duration": 103,
    "start_time": "2022-06-12T16:35:06.196Z"
   },
   {
    "duration": 177,
    "start_time": "2022-06-12T16:35:06.302Z"
   },
   {
    "duration": 5,
    "start_time": "2022-06-12T16:35:06.481Z"
   },
   {
    "duration": 17,
    "start_time": "2022-06-12T16:35:06.487Z"
   },
   {
    "duration": 13,
    "start_time": "2022-06-12T16:35:06.506Z"
   },
   {
    "duration": 8,
    "start_time": "2022-06-12T16:35:06.521Z"
   },
   {
    "duration": 47,
    "start_time": "2022-06-12T16:35:06.531Z"
   },
   {
    "duration": 2412,
    "start_time": "2022-06-12T16:35:06.580Z"
   },
   {
    "duration": 2817,
    "start_time": "2022-06-12T16:35:08.993Z"
   },
   {
    "duration": 0,
    "start_time": "2022-06-12T16:35:11.812Z"
   },
   {
    "duration": 0,
    "start_time": "2022-06-12T16:35:11.813Z"
   },
   {
    "duration": 0,
    "start_time": "2022-06-12T16:35:11.814Z"
   },
   {
    "duration": 0,
    "start_time": "2022-06-12T16:35:11.815Z"
   },
   {
    "duration": 0,
    "start_time": "2022-06-12T16:35:11.816Z"
   },
   {
    "duration": 0,
    "start_time": "2022-06-12T16:35:11.817Z"
   },
   {
    "duration": 0,
    "start_time": "2022-06-12T16:35:11.817Z"
   },
   {
    "duration": 0,
    "start_time": "2022-06-12T16:35:11.818Z"
   },
   {
    "duration": 0,
    "start_time": "2022-06-12T16:35:11.819Z"
   },
   {
    "duration": 0,
    "start_time": "2022-06-12T16:35:11.820Z"
   },
   {
    "duration": 0,
    "start_time": "2022-06-12T16:35:11.821Z"
   },
   {
    "duration": 0,
    "start_time": "2022-06-12T16:35:11.822Z"
   },
   {
    "duration": 0,
    "start_time": "2022-06-12T16:35:11.823Z"
   },
   {
    "duration": 0,
    "start_time": "2022-06-12T16:35:11.824Z"
   },
   {
    "duration": 14,
    "start_time": "2022-06-12T16:37:28.473Z"
   },
   {
    "duration": 9,
    "start_time": "2022-06-12T16:40:14.313Z"
   },
   {
    "duration": 3589,
    "start_time": "2022-06-12T16:40:30.353Z"
   },
   {
    "duration": 21,
    "start_time": "2022-06-12T16:42:39.996Z"
   },
   {
    "duration": 2612,
    "start_time": "2022-06-12T16:42:49.903Z"
   },
   {
    "duration": 2663,
    "start_time": "2022-06-12T16:43:34.107Z"
   },
   {
    "duration": 4,
    "start_time": "2022-06-12T16:47:06.388Z"
   },
   {
    "duration": 1364,
    "start_time": "2022-06-12T16:47:07.523Z"
   },
   {
    "duration": 2604,
    "start_time": "2022-06-12T16:47:08.889Z"
   },
   {
    "duration": 3,
    "start_time": "2022-06-12T16:50:15.123Z"
   },
   {
    "duration": 23,
    "start_time": "2022-06-12T16:50:17.493Z"
   },
   {
    "duration": 16,
    "start_time": "2022-06-12T16:51:14.468Z"
   },
   {
    "duration": 20,
    "start_time": "2022-06-12T16:51:23.563Z"
   },
   {
    "duration": 26,
    "start_time": "2022-06-12T16:51:42.199Z"
   },
   {
    "duration": 15,
    "start_time": "2022-06-12T16:51:52.292Z"
   },
   {
    "duration": 16,
    "start_time": "2022-06-12T16:52:04.028Z"
   },
   {
    "duration": 3,
    "start_time": "2022-06-12T16:52:10.228Z"
   },
   {
    "duration": 1263,
    "start_time": "2022-06-12T16:52:11.253Z"
   },
   {
    "duration": 5,
    "start_time": "2022-06-12T16:52:23.270Z"
   },
   {
    "duration": 9,
    "start_time": "2022-06-12T16:53:01.033Z"
   },
   {
    "duration": 910,
    "start_time": "2022-06-12T16:54:46.219Z"
   },
   {
    "duration": 572,
    "start_time": "2022-06-12T16:54:47.131Z"
   },
   {
    "duration": 186,
    "start_time": "2022-06-12T16:54:47.705Z"
   },
   {
    "duration": 66,
    "start_time": "2022-06-12T16:54:47.893Z"
   },
   {
    "duration": 27,
    "start_time": "2022-06-12T16:54:47.961Z"
   },
   {
    "duration": 32,
    "start_time": "2022-06-12T16:54:47.989Z"
   },
   {
    "duration": 2,
    "start_time": "2022-06-12T16:54:48.023Z"
   },
   {
    "duration": 14,
    "start_time": "2022-06-12T16:54:48.027Z"
   },
   {
    "duration": 52,
    "start_time": "2022-06-12T16:54:48.042Z"
   },
   {
    "duration": 2,
    "start_time": "2022-06-12T16:54:48.097Z"
   },
   {
    "duration": 9,
    "start_time": "2022-06-12T16:54:48.101Z"
   },
   {
    "duration": 11,
    "start_time": "2022-06-12T16:54:48.111Z"
   },
   {
    "duration": 155,
    "start_time": "2022-06-12T16:54:48.124Z"
   },
   {
    "duration": 8,
    "start_time": "2022-06-12T16:54:48.280Z"
   },
   {
    "duration": 100,
    "start_time": "2022-06-12T16:54:48.290Z"
   },
   {
    "duration": 4,
    "start_time": "2022-06-12T16:54:48.391Z"
   },
   {
    "duration": 9,
    "start_time": "2022-06-12T16:54:48.397Z"
   },
   {
    "duration": 6,
    "start_time": "2022-06-12T16:54:48.407Z"
   },
   {
    "duration": 67,
    "start_time": "2022-06-12T16:54:48.414Z"
   },
   {
    "duration": 6,
    "start_time": "2022-06-12T16:54:48.483Z"
   },
   {
    "duration": 89,
    "start_time": "2022-06-12T16:54:48.490Z"
   },
   {
    "duration": 5,
    "start_time": "2022-06-12T16:54:48.581Z"
   },
   {
    "duration": 5,
    "start_time": "2022-06-12T16:54:48.587Z"
   },
   {
    "duration": 9,
    "start_time": "2022-06-12T16:54:48.593Z"
   },
   {
    "duration": 1338,
    "start_time": "2022-06-12T16:54:48.603Z"
   },
   {
    "duration": 2807,
    "start_time": "2022-06-12T16:54:49.943Z"
   },
   {
    "duration": 0,
    "start_time": "2022-06-12T16:54:52.752Z"
   },
   {
    "duration": 0,
    "start_time": "2022-06-12T16:54:52.752Z"
   },
   {
    "duration": 0,
    "start_time": "2022-06-12T16:54:52.753Z"
   },
   {
    "duration": 0,
    "start_time": "2022-06-12T16:54:52.755Z"
   },
   {
    "duration": 0,
    "start_time": "2022-06-12T16:54:52.756Z"
   },
   {
    "duration": 0,
    "start_time": "2022-06-12T16:54:52.758Z"
   },
   {
    "duration": 0,
    "start_time": "2022-06-12T16:54:52.759Z"
   },
   {
    "duration": 0,
    "start_time": "2022-06-12T16:54:52.760Z"
   },
   {
    "duration": 0,
    "start_time": "2022-06-12T16:54:52.779Z"
   },
   {
    "duration": 0,
    "start_time": "2022-06-12T16:54:52.780Z"
   },
   {
    "duration": 0,
    "start_time": "2022-06-12T16:54:52.781Z"
   },
   {
    "duration": 0,
    "start_time": "2022-06-12T16:54:52.783Z"
   },
   {
    "duration": 0,
    "start_time": "2022-06-12T16:54:52.784Z"
   },
   {
    "duration": 0,
    "start_time": "2022-06-12T16:54:52.785Z"
   },
   {
    "duration": 2617,
    "start_time": "2022-06-12T16:55:34.316Z"
   },
   {
    "duration": 3,
    "start_time": "2022-06-12T16:56:45.875Z"
   },
   {
    "duration": 12,
    "start_time": "2022-06-12T16:57:05.808Z"
   },
   {
    "duration": 19,
    "start_time": "2022-06-12T16:57:11.519Z"
   },
   {
    "duration": 1437,
    "start_time": "2022-06-12T16:57:58.710Z"
   },
   {
    "duration": 3,
    "start_time": "2022-06-12T16:59:46.809Z"
   },
   {
    "duration": 1393,
    "start_time": "2022-06-12T16:59:48.007Z"
   },
   {
    "duration": 21,
    "start_time": "2022-06-12T16:59:49.402Z"
   },
   {
    "duration": 5,
    "start_time": "2022-06-12T17:02:43.019Z"
   },
   {
    "duration": 1742,
    "start_time": "2022-06-12T17:02:43.746Z"
   },
   {
    "duration": 19,
    "start_time": "2022-06-12T17:02:45.490Z"
   },
   {
    "duration": 62,
    "start_time": "2022-06-12T17:03:22.522Z"
   },
   {
    "duration": 906,
    "start_time": "2022-06-12T17:03:56.334Z"
   },
   {
    "duration": 650,
    "start_time": "2022-06-12T17:03:57.242Z"
   },
   {
    "duration": 150,
    "start_time": "2022-06-12T17:03:57.894Z"
   },
   {
    "duration": 80,
    "start_time": "2022-06-12T17:03:58.046Z"
   },
   {
    "duration": 12,
    "start_time": "2022-06-12T17:03:58.127Z"
   },
   {
    "duration": 65,
    "start_time": "2022-06-12T17:03:58.140Z"
   },
   {
    "duration": 2,
    "start_time": "2022-06-12T17:03:58.207Z"
   },
   {
    "duration": 18,
    "start_time": "2022-06-12T17:03:58.212Z"
   },
   {
    "duration": 32,
    "start_time": "2022-06-12T17:03:58.232Z"
   },
   {
    "duration": 1,
    "start_time": "2022-06-12T17:03:58.278Z"
   },
   {
    "duration": 9,
    "start_time": "2022-06-12T17:03:58.281Z"
   },
   {
    "duration": 12,
    "start_time": "2022-06-12T17:03:58.291Z"
   },
   {
    "duration": 77,
    "start_time": "2022-06-12T17:03:58.304Z"
   },
   {
    "duration": 7,
    "start_time": "2022-06-12T17:03:58.383Z"
   },
   {
    "duration": 196,
    "start_time": "2022-06-12T17:03:58.392Z"
   },
   {
    "duration": 4,
    "start_time": "2022-06-12T17:03:58.589Z"
   },
   {
    "duration": 10,
    "start_time": "2022-06-12T17:03:58.595Z"
   },
   {
    "duration": 8,
    "start_time": "2022-06-12T17:03:58.606Z"
   },
   {
    "duration": 63,
    "start_time": "2022-06-12T17:03:58.616Z"
   },
   {
    "duration": 2,
    "start_time": "2022-06-12T17:03:58.681Z"
   },
   {
    "duration": 96,
    "start_time": "2022-06-12T17:03:58.685Z"
   },
   {
    "duration": 6,
    "start_time": "2022-06-12T17:03:58.782Z"
   },
   {
    "duration": 7,
    "start_time": "2022-06-12T17:03:58.790Z"
   },
   {
    "duration": 5,
    "start_time": "2022-06-12T17:03:58.798Z"
   },
   {
    "duration": 1585,
    "start_time": "2022-06-12T17:03:58.804Z"
   },
   {
    "duration": 707,
    "start_time": "2022-06-12T17:04:00.390Z"
   },
   {
    "duration": 0,
    "start_time": "2022-06-12T17:04:01.099Z"
   },
   {
    "duration": 0,
    "start_time": "2022-06-12T17:04:01.100Z"
   },
   {
    "duration": 0,
    "start_time": "2022-06-12T17:04:01.102Z"
   },
   {
    "duration": 0,
    "start_time": "2022-06-12T17:04:01.103Z"
   },
   {
    "duration": 0,
    "start_time": "2022-06-12T17:04:01.104Z"
   },
   {
    "duration": 0,
    "start_time": "2022-06-12T17:04:01.105Z"
   },
   {
    "duration": 0,
    "start_time": "2022-06-12T17:04:01.106Z"
   },
   {
    "duration": 0,
    "start_time": "2022-06-12T17:04:01.107Z"
   },
   {
    "duration": 0,
    "start_time": "2022-06-12T17:04:01.108Z"
   },
   {
    "duration": 0,
    "start_time": "2022-06-12T17:04:01.109Z"
   },
   {
    "duration": 0,
    "start_time": "2022-06-12T17:04:01.110Z"
   },
   {
    "duration": 0,
    "start_time": "2022-06-12T17:04:01.111Z"
   },
   {
    "duration": 0,
    "start_time": "2022-06-12T17:04:01.112Z"
   },
   {
    "duration": 0,
    "start_time": "2022-06-12T17:04:01.113Z"
   },
   {
    "duration": 977,
    "start_time": "2022-06-12T17:05:09.551Z"
   },
   {
    "duration": 566,
    "start_time": "2022-06-12T17:05:10.530Z"
   },
   {
    "duration": 145,
    "start_time": "2022-06-12T17:05:11.097Z"
   },
   {
    "duration": 78,
    "start_time": "2022-06-12T17:05:11.243Z"
   },
   {
    "duration": 13,
    "start_time": "2022-06-12T17:05:11.323Z"
   },
   {
    "duration": 61,
    "start_time": "2022-06-12T17:05:11.338Z"
   },
   {
    "duration": 2,
    "start_time": "2022-06-12T17:05:11.400Z"
   },
   {
    "duration": 13,
    "start_time": "2022-06-12T17:05:11.404Z"
   },
   {
    "duration": 19,
    "start_time": "2022-06-12T17:05:11.418Z"
   },
   {
    "duration": 3,
    "start_time": "2022-06-12T17:05:11.438Z"
   },
   {
    "duration": 37,
    "start_time": "2022-06-12T17:05:11.442Z"
   },
   {
    "duration": 13,
    "start_time": "2022-06-12T17:05:11.481Z"
   },
   {
    "duration": 84,
    "start_time": "2022-06-12T17:05:11.496Z"
   },
   {
    "duration": 7,
    "start_time": "2022-06-12T17:05:11.583Z"
   },
   {
    "duration": 18,
    "start_time": "2022-06-12T17:05:11.677Z"
   },
   {
    "duration": 5,
    "start_time": "2022-06-12T17:05:11.696Z"
   },
   {
    "duration": 11,
    "start_time": "2022-06-12T17:05:11.702Z"
   },
   {
    "duration": 12,
    "start_time": "2022-06-12T17:05:11.715Z"
   },
   {
    "duration": 61,
    "start_time": "2022-06-12T17:05:11.729Z"
   },
   {
    "duration": 87,
    "start_time": "2022-06-12T17:05:11.792Z"
   },
   {
    "duration": 8,
    "start_time": "2022-06-12T17:05:11.881Z"
   },
   {
    "duration": 3,
    "start_time": "2022-06-12T17:05:11.891Z"
   },
   {
    "duration": 6,
    "start_time": "2022-06-12T17:05:11.895Z"
   },
   {
    "duration": 4,
    "start_time": "2022-06-12T17:05:11.902Z"
   },
   {
    "duration": 1597,
    "start_time": "2022-06-12T17:05:11.908Z"
   },
   {
    "duration": 1414,
    "start_time": "2022-06-12T17:05:13.507Z"
   },
   {
    "duration": 0,
    "start_time": "2022-06-12T17:05:14.922Z"
   },
   {
    "duration": 0,
    "start_time": "2022-06-12T17:05:14.923Z"
   },
   {
    "duration": 0,
    "start_time": "2022-06-12T17:05:14.924Z"
   },
   {
    "duration": 0,
    "start_time": "2022-06-12T17:05:14.925Z"
   },
   {
    "duration": 0,
    "start_time": "2022-06-12T17:05:14.926Z"
   },
   {
    "duration": 0,
    "start_time": "2022-06-12T17:05:14.927Z"
   },
   {
    "duration": 0,
    "start_time": "2022-06-12T17:05:14.928Z"
   },
   {
    "duration": 0,
    "start_time": "2022-06-12T17:05:14.930Z"
   },
   {
    "duration": 1,
    "start_time": "2022-06-12T17:05:14.931Z"
   },
   {
    "duration": 0,
    "start_time": "2022-06-12T17:05:14.933Z"
   },
   {
    "duration": 0,
    "start_time": "2022-06-12T17:05:14.978Z"
   },
   {
    "duration": 0,
    "start_time": "2022-06-12T17:05:14.980Z"
   },
   {
    "duration": 0,
    "start_time": "2022-06-12T17:05:14.982Z"
   },
   {
    "duration": 0,
    "start_time": "2022-06-12T17:05:14.984Z"
   },
   {
    "duration": 4,
    "start_time": "2022-06-12T17:06:23.519Z"
   },
   {
    "duration": 1672,
    "start_time": "2022-06-12T17:06:25.011Z"
   },
   {
    "duration": 846,
    "start_time": "2022-06-12T17:06:30.417Z"
   },
   {
    "duration": 137,
    "start_time": "2022-06-12T17:06:50.051Z"
   },
   {
    "duration": 5,
    "start_time": "2022-06-12T17:07:11.381Z"
   },
   {
    "duration": 1564,
    "start_time": "2022-06-12T17:07:11.724Z"
   },
   {
    "duration": 3,
    "start_time": "2022-06-12T17:09:47.463Z"
   },
   {
    "duration": 1547,
    "start_time": "2022-06-12T17:09:48.841Z"
   },
   {
    "duration": 15,
    "start_time": "2022-06-12T17:09:50.587Z"
   },
   {
    "duration": 59,
    "start_time": "2022-06-12T17:10:03.766Z"
   },
   {
    "duration": 4,
    "start_time": "2022-06-12T17:10:41.749Z"
   },
   {
    "duration": 1580,
    "start_time": "2022-06-12T17:10:43.072Z"
   },
   {
    "duration": 20,
    "start_time": "2022-06-12T17:10:44.658Z"
   },
   {
    "duration": 1483,
    "start_time": "2022-06-12T17:11:09.877Z"
   },
   {
    "duration": 16,
    "start_time": "2022-06-12T17:15:35.616Z"
   },
   {
    "duration": 952,
    "start_time": "2022-06-12T17:15:50.106Z"
   },
   {
    "duration": 596,
    "start_time": "2022-06-12T17:15:51.060Z"
   },
   {
    "duration": 154,
    "start_time": "2022-06-12T17:15:51.658Z"
   },
   {
    "duration": 80,
    "start_time": "2022-06-12T17:15:51.814Z"
   },
   {
    "duration": 11,
    "start_time": "2022-06-12T17:15:51.896Z"
   },
   {
    "duration": 31,
    "start_time": "2022-06-12T17:15:51.908Z"
   },
   {
    "duration": 37,
    "start_time": "2022-06-12T17:15:51.941Z"
   },
   {
    "duration": 11,
    "start_time": "2022-06-12T17:15:51.980Z"
   },
   {
    "duration": 27,
    "start_time": "2022-06-12T17:15:51.993Z"
   },
   {
    "duration": 2,
    "start_time": "2022-06-12T17:15:52.022Z"
   },
   {
    "duration": 15,
    "start_time": "2022-06-12T17:15:52.025Z"
   },
   {
    "duration": 37,
    "start_time": "2022-06-12T17:15:52.042Z"
   },
   {
    "duration": 27,
    "start_time": "2022-06-12T17:15:52.081Z"
   },
   {
    "duration": 74,
    "start_time": "2022-06-12T17:15:52.110Z"
   },
   {
    "duration": 96,
    "start_time": "2022-06-12T17:15:52.186Z"
   },
   {
    "duration": 5,
    "start_time": "2022-06-12T17:15:52.283Z"
   },
   {
    "duration": 9,
    "start_time": "2022-06-12T17:15:52.289Z"
   },
   {
    "duration": 78,
    "start_time": "2022-06-12T17:15:52.300Z"
   },
   {
    "duration": 9,
    "start_time": "2022-06-12T17:15:52.380Z"
   },
   {
    "duration": 89,
    "start_time": "2022-06-12T17:15:52.392Z"
   },
   {
    "duration": 10,
    "start_time": "2022-06-12T17:15:52.483Z"
   },
   {
    "duration": 4,
    "start_time": "2022-06-12T17:15:52.495Z"
   },
   {
    "duration": 7,
    "start_time": "2022-06-12T17:15:52.500Z"
   },
   {
    "duration": 5,
    "start_time": "2022-06-12T17:15:52.508Z"
   },
   {
    "duration": 1544,
    "start_time": "2022-06-12T17:15:52.514Z"
   },
   {
    "duration": 20,
    "start_time": "2022-06-12T17:15:54.060Z"
   },
   {
    "duration": 112,
    "start_time": "2022-06-12T17:15:54.082Z"
   },
   {
    "duration": 0,
    "start_time": "2022-06-12T17:15:54.196Z"
   },
   {
    "duration": 0,
    "start_time": "2022-06-12T17:15:54.197Z"
   },
   {
    "duration": 0,
    "start_time": "2022-06-12T17:15:54.199Z"
   },
   {
    "duration": 0,
    "start_time": "2022-06-12T17:15:54.199Z"
   },
   {
    "duration": 0,
    "start_time": "2022-06-12T17:15:54.201Z"
   },
   {
    "duration": 0,
    "start_time": "2022-06-12T17:15:54.202Z"
   },
   {
    "duration": 0,
    "start_time": "2022-06-12T17:15:54.203Z"
   },
   {
    "duration": 0,
    "start_time": "2022-06-12T17:15:54.204Z"
   },
   {
    "duration": 0,
    "start_time": "2022-06-12T17:15:54.205Z"
   },
   {
    "duration": 0,
    "start_time": "2022-06-12T17:15:54.206Z"
   },
   {
    "duration": 0,
    "start_time": "2022-06-12T17:15:54.208Z"
   },
   {
    "duration": 0,
    "start_time": "2022-06-12T17:15:54.209Z"
   },
   {
    "duration": 0,
    "start_time": "2022-06-12T17:15:54.211Z"
   },
   {
    "duration": 15,
    "start_time": "2022-06-12T17:16:17.280Z"
   },
   {
    "duration": 8,
    "start_time": "2022-06-12T17:16:33.619Z"
   },
   {
    "duration": 3,
    "start_time": "2022-06-12T17:17:37.649Z"
   },
   {
    "duration": 1539,
    "start_time": "2022-06-12T17:17:38.759Z"
   },
   {
    "duration": 8,
    "start_time": "2022-06-12T17:17:40.299Z"
   },
   {
    "duration": 9,
    "start_time": "2022-06-12T17:17:59.350Z"
   },
   {
    "duration": 8,
    "start_time": "2022-06-12T17:18:14.934Z"
   },
   {
    "duration": 1345,
    "start_time": "2022-06-12T17:18:20.215Z"
   },
   {
    "duration": 3,
    "start_time": "2022-06-12T17:19:25.815Z"
   },
   {
    "duration": 14,
    "start_time": "2022-06-12T17:19:26.930Z"
   },
   {
    "duration": 3,
    "start_time": "2022-06-12T17:19:35.465Z"
   },
   {
    "duration": 3,
    "start_time": "2022-06-12T17:19:40.319Z"
   },
   {
    "duration": 1587,
    "start_time": "2022-06-12T17:19:41.170Z"
   },
   {
    "duration": 1047,
    "start_time": "2022-06-12T17:19:42.954Z"
   },
   {
    "duration": 351,
    "start_time": "2022-06-12T17:21:51.354Z"
   },
   {
    "duration": 370,
    "start_time": "2022-06-12T17:22:03.665Z"
   },
   {
    "duration": 4,
    "start_time": "2022-06-12T17:22:34.129Z"
   },
   {
    "duration": 1578,
    "start_time": "2022-06-12T17:22:35.054Z"
   },
   {
    "duration": 2,
    "start_time": "2022-06-12T17:22:37.016Z"
   },
   {
    "duration": 382,
    "start_time": "2022-06-12T17:22:38.374Z"
   },
   {
    "duration": 9,
    "start_time": "2022-06-12T17:22:47.266Z"
   },
   {
    "duration": 4,
    "start_time": "2022-06-12T17:23:21.527Z"
   },
   {
    "duration": 4,
    "start_time": "2022-06-12T17:23:29.425Z"
   },
   {
    "duration": 1610,
    "start_time": "2022-06-12T17:23:30.310Z"
   },
   {
    "duration": 3,
    "start_time": "2022-06-12T17:24:39.555Z"
   },
   {
    "duration": 17,
    "start_time": "2022-06-12T17:24:40.674Z"
   },
   {
    "duration": 4,
    "start_time": "2022-06-12T17:24:55.009Z"
   },
   {
    "duration": 21,
    "start_time": "2022-06-12T17:24:56.490Z"
   },
   {
    "duration": 5,
    "start_time": "2022-06-12T17:24:57.745Z"
   },
   {
    "duration": 4,
    "start_time": "2022-06-12T17:29:38.159Z"
   },
   {
    "duration": 15,
    "start_time": "2022-06-12T17:29:39.130Z"
   },
   {
    "duration": 5,
    "start_time": "2022-06-12T17:30:17.794Z"
   },
   {
    "duration": 15,
    "start_time": "2022-06-12T17:30:18.785Z"
   },
   {
    "duration": 3,
    "start_time": "2022-06-12T17:31:54.715Z"
   },
   {
    "duration": 20,
    "start_time": "2022-06-12T17:31:55.810Z"
   },
   {
    "duration": 4,
    "start_time": "2022-06-12T17:32:03.369Z"
   },
   {
    "duration": 3719,
    "start_time": "2022-06-12T17:32:04.919Z"
   },
   {
    "duration": 2385,
    "start_time": "2022-06-12T17:32:11.330Z"
   },
   {
    "duration": 4,
    "start_time": "2022-06-12T17:33:51.285Z"
   },
   {
    "duration": 3056,
    "start_time": "2022-06-12T17:33:52.579Z"
   },
   {
    "duration": 1034,
    "start_time": "2022-06-12T17:36:21.821Z"
   },
   {
    "duration": 662,
    "start_time": "2022-06-12T17:36:22.858Z"
   },
   {
    "duration": 168,
    "start_time": "2022-06-12T17:36:23.522Z"
   },
   {
    "duration": 90,
    "start_time": "2022-06-12T17:36:23.692Z"
   },
   {
    "duration": 15,
    "start_time": "2022-06-12T17:36:23.784Z"
   },
   {
    "duration": 78,
    "start_time": "2022-06-12T17:36:23.801Z"
   },
   {
    "duration": 3,
    "start_time": "2022-06-12T17:36:23.880Z"
   },
   {
    "duration": 14,
    "start_time": "2022-06-12T17:36:23.884Z"
   },
   {
    "duration": 22,
    "start_time": "2022-06-12T17:36:23.899Z"
   },
   {
    "duration": 2,
    "start_time": "2022-06-12T17:36:23.924Z"
   },
   {
    "duration": 10,
    "start_time": "2022-06-12T17:36:23.928Z"
   },
   {
    "duration": 45,
    "start_time": "2022-06-12T17:36:23.939Z"
   },
   {
    "duration": 93,
    "start_time": "2022-06-12T17:36:23.985Z"
   },
   {
    "duration": 8,
    "start_time": "2022-06-12T17:36:24.080Z"
   },
   {
    "duration": 15,
    "start_time": "2022-06-12T17:36:24.178Z"
   },
   {
    "duration": 4,
    "start_time": "2022-06-12T17:36:24.194Z"
   },
   {
    "duration": 10,
    "start_time": "2022-06-12T17:36:24.200Z"
   },
   {
    "duration": 67,
    "start_time": "2022-06-12T17:36:24.212Z"
   },
   {
    "duration": 3,
    "start_time": "2022-06-12T17:36:24.281Z"
   },
   {
    "duration": 94,
    "start_time": "2022-06-12T17:36:24.285Z"
   },
   {
    "duration": 95,
    "start_time": "2022-06-12T17:36:24.382Z"
   },
   {
    "duration": 4,
    "start_time": "2022-06-12T17:36:24.479Z"
   },
   {
    "duration": 7,
    "start_time": "2022-06-12T17:36:24.485Z"
   },
   {
    "duration": 6,
    "start_time": "2022-06-12T17:36:24.494Z"
   },
   {
    "duration": 3370,
    "start_time": "2022-06-12T17:36:24.501Z"
   },
   {
    "duration": 1112,
    "start_time": "2022-06-12T17:40:21.464Z"
   },
   {
    "duration": 816,
    "start_time": "2022-06-12T17:40:22.579Z"
   },
   {
    "duration": 214,
    "start_time": "2022-06-12T17:40:23.397Z"
   },
   {
    "duration": 122,
    "start_time": "2022-06-12T17:40:23.613Z"
   },
   {
    "duration": 17,
    "start_time": "2022-06-12T17:40:23.737Z"
   },
   {
    "duration": 43,
    "start_time": "2022-06-12T17:40:23.779Z"
   },
   {
    "duration": 4,
    "start_time": "2022-06-12T17:40:23.824Z"
   },
   {
    "duration": 32,
    "start_time": "2022-06-12T17:40:23.830Z"
   },
   {
    "duration": 24,
    "start_time": "2022-06-12T17:40:23.877Z"
   },
   {
    "duration": 3,
    "start_time": "2022-06-12T17:40:23.906Z"
   },
   {
    "duration": 31,
    "start_time": "2022-06-12T17:40:23.911Z"
   },
   {
    "duration": 31,
    "start_time": "2022-06-12T17:40:23.944Z"
   },
   {
    "duration": 202,
    "start_time": "2022-06-12T17:40:23.977Z"
   },
   {
    "duration": 7,
    "start_time": "2022-06-12T17:40:24.181Z"
   },
   {
    "duration": 24,
    "start_time": "2022-06-12T17:40:24.277Z"
   },
   {
    "duration": 5,
    "start_time": "2022-06-12T17:40:24.302Z"
   },
   {
    "duration": 29,
    "start_time": "2022-06-12T17:40:24.309Z"
   },
   {
    "duration": 42,
    "start_time": "2022-06-12T17:40:24.340Z"
   },
   {
    "duration": 107,
    "start_time": "2022-06-12T17:40:24.384Z"
   },
   {
    "duration": 7,
    "start_time": "2022-06-12T17:40:24.578Z"
   },
   {
    "duration": 16,
    "start_time": "2022-06-12T17:40:24.586Z"
   },
   {
    "duration": 5,
    "start_time": "2022-06-12T17:40:24.603Z"
   },
   {
    "duration": 7,
    "start_time": "2022-06-12T17:40:24.609Z"
   },
   {
    "duration": 5,
    "start_time": "2022-06-12T17:40:24.618Z"
   },
   {
    "duration": 2195,
    "start_time": "2022-06-12T17:40:24.625Z"
   },
   {
    "duration": 192,
    "start_time": "2022-06-12T17:40:26.822Z"
   },
   {
    "duration": 6,
    "start_time": "2022-06-12T17:40:27.017Z"
   },
   {
    "duration": 212,
    "start_time": "2022-06-12T17:40:27.080Z"
   },
   {
    "duration": 0,
    "start_time": "2022-06-12T17:40:27.294Z"
   },
   {
    "duration": 0,
    "start_time": "2022-06-12T17:40:27.296Z"
   },
   {
    "duration": 1,
    "start_time": "2022-06-12T17:40:27.296Z"
   },
   {
    "duration": 0,
    "start_time": "2022-06-12T17:40:27.297Z"
   },
   {
    "duration": 0,
    "start_time": "2022-06-12T17:40:27.298Z"
   },
   {
    "duration": 0,
    "start_time": "2022-06-12T17:40:27.299Z"
   },
   {
    "duration": 0,
    "start_time": "2022-06-12T17:40:27.300Z"
   },
   {
    "duration": 0,
    "start_time": "2022-06-12T17:40:27.301Z"
   },
   {
    "duration": 0,
    "start_time": "2022-06-12T17:40:27.303Z"
   },
   {
    "duration": 0,
    "start_time": "2022-06-12T17:40:27.304Z"
   },
   {
    "duration": 0,
    "start_time": "2022-06-12T17:40:27.305Z"
   },
   {
    "duration": 0,
    "start_time": "2022-06-12T17:40:27.306Z"
   },
   {
    "duration": 0,
    "start_time": "2022-06-12T17:40:27.307Z"
   },
   {
    "duration": 3,
    "start_time": "2022-06-12T17:40:56.765Z"
   },
   {
    "duration": 1609,
    "start_time": "2022-06-12T17:40:57.790Z"
   },
   {
    "duration": 1247,
    "start_time": "2022-06-12T17:40:59.401Z"
   },
   {
    "duration": 4,
    "start_time": "2022-06-12T17:41:55.630Z"
   },
   {
    "duration": 1659,
    "start_time": "2022-06-12T17:41:57.198Z"
   },
   {
    "duration": 1225,
    "start_time": "2022-06-12T17:42:02.498Z"
   },
   {
    "duration": 3,
    "start_time": "2022-06-12T17:42:54.891Z"
   },
   {
    "duration": 17,
    "start_time": "2022-06-12T17:42:56.229Z"
   },
   {
    "duration": 4,
    "start_time": "2022-06-12T17:43:08.815Z"
   },
   {
    "duration": 15,
    "start_time": "2022-06-12T17:43:10.445Z"
   },
   {
    "duration": 4,
    "start_time": "2022-06-12T17:43:28.965Z"
   },
   {
    "duration": 1553,
    "start_time": "2022-06-12T17:43:29.840Z"
   },
   {
    "duration": 4,
    "start_time": "2022-06-12T17:44:50.170Z"
   },
   {
    "duration": 18,
    "start_time": "2022-06-12T17:44:51.814Z"
   },
   {
    "duration": 3,
    "start_time": "2022-06-12T17:45:04.405Z"
   },
   {
    "duration": 17,
    "start_time": "2022-06-12T17:45:06.084Z"
   },
   {
    "duration": 3,
    "start_time": "2022-06-12T17:47:31.879Z"
   },
   {
    "duration": 16,
    "start_time": "2022-06-12T17:47:33.459Z"
   },
   {
    "duration": 4,
    "start_time": "2022-06-12T17:48:36.998Z"
   },
   {
    "duration": 53,
    "start_time": "2022-06-12T17:48:38.274Z"
   },
   {
    "duration": 5,
    "start_time": "2022-06-12T17:49:58.213Z"
   },
   {
    "duration": 1621,
    "start_time": "2022-06-12T17:49:59.354Z"
   },
   {
    "duration": 1093,
    "start_time": "2022-06-12T17:50:01.233Z"
   },
   {
    "duration": 376,
    "start_time": "2022-06-12T17:51:00.414Z"
   },
   {
    "duration": 1516,
    "start_time": "2022-06-12T17:51:54.863Z"
   },
   {
    "duration": 3,
    "start_time": "2022-06-12T17:52:03.884Z"
   },
   {
    "duration": 1541,
    "start_time": "2022-06-12T17:52:05.048Z"
   },
   {
    "duration": 1064,
    "start_time": "2022-06-12T17:52:11.424Z"
   },
   {
    "duration": 355,
    "start_time": "2022-06-12T17:54:09.847Z"
   },
   {
    "duration": 3,
    "start_time": "2022-06-12T17:54:41.063Z"
   },
   {
    "duration": 1668,
    "start_time": "2022-06-12T17:54:50.958Z"
   },
   {
    "duration": 1553,
    "start_time": "2022-06-12T17:54:52.628Z"
   },
   {
    "duration": 7,
    "start_time": "2022-06-12T17:57:53.308Z"
   },
   {
    "duration": 7,
    "start_time": "2022-06-12T17:58:13.624Z"
   },
   {
    "duration": 6,
    "start_time": "2022-06-12T17:58:25.103Z"
   },
   {
    "duration": 60,
    "start_time": "2022-06-12T17:58:25.268Z"
   },
   {
    "duration": 3,
    "start_time": "2022-06-12T17:59:35.508Z"
   },
   {
    "duration": 12,
    "start_time": "2022-06-12T17:59:37.203Z"
   },
   {
    "duration": 1423,
    "start_time": "2022-06-12T17:59:43.209Z"
   },
   {
    "duration": 1271,
    "start_time": "2022-06-12T17:59:46.728Z"
   },
   {
    "duration": 3,
    "start_time": "2022-06-12T18:00:35.398Z"
   },
   {
    "duration": 1466,
    "start_time": "2022-06-12T18:00:36.353Z"
   },
   {
    "duration": 3191,
    "start_time": "2022-06-12T18:00:37.820Z"
   },
   {
    "duration": 2,
    "start_time": "2022-06-12T18:01:41.263Z"
   },
   {
    "duration": 18,
    "start_time": "2022-06-12T18:01:41.922Z"
   },
   {
    "duration": 20,
    "start_time": "2022-06-12T18:01:56.943Z"
   },
   {
    "duration": 23,
    "start_time": "2022-06-12T18:02:07.738Z"
   },
   {
    "duration": 4,
    "start_time": "2022-06-12T18:02:31.113Z"
   },
   {
    "duration": 1314,
    "start_time": "2022-06-12T18:02:32.528Z"
   },
   {
    "duration": 2,
    "start_time": "2022-06-12T18:02:36.073Z"
   },
   {
    "duration": 16,
    "start_time": "2022-06-12T18:02:36.383Z"
   },
   {
    "duration": 4,
    "start_time": "2022-06-12T18:02:54.777Z"
   },
   {
    "duration": 1458,
    "start_time": "2022-06-12T18:02:56.043Z"
   },
   {
    "duration": 3,
    "start_time": "2022-06-12T18:02:58.873Z"
   },
   {
    "duration": 5,
    "start_time": "2022-06-12T18:02:59.448Z"
   },
   {
    "duration": 54,
    "start_time": "2022-06-12T18:03:09.603Z"
   },
   {
    "duration": 4,
    "start_time": "2022-06-12T18:04:11.068Z"
   },
   {
    "duration": 1558,
    "start_time": "2022-06-12T18:04:12.468Z"
   },
   {
    "duration": 2,
    "start_time": "2022-06-12T18:04:14.028Z"
   },
   {
    "duration": 5,
    "start_time": "2022-06-12T18:04:14.179Z"
   },
   {
    "duration": 3,
    "start_time": "2022-06-12T18:04:28.213Z"
   },
   {
    "duration": 1493,
    "start_time": "2022-06-12T18:04:29.363Z"
   },
   {
    "duration": 2,
    "start_time": "2022-06-12T18:04:32.003Z"
   },
   {
    "duration": 2648,
    "start_time": "2022-06-12T18:04:32.563Z"
   },
   {
    "duration": 4,
    "start_time": "2022-06-12T18:05:00.123Z"
   },
   {
    "duration": 17,
    "start_time": "2022-06-12T18:05:05.033Z"
   },
   {
    "duration": 5,
    "start_time": "2022-06-12T18:05:12.221Z"
   },
   {
    "duration": 16,
    "start_time": "2022-06-12T18:05:13.022Z"
   },
   {
    "duration": 4,
    "start_time": "2022-06-12T18:05:19.713Z"
   },
   {
    "duration": 18,
    "start_time": "2022-06-12T18:05:20.972Z"
   },
   {
    "duration": 3,
    "start_time": "2022-06-12T18:05:28.693Z"
   },
   {
    "duration": 1521,
    "start_time": "2022-06-12T18:05:30.103Z"
   },
   {
    "duration": 2,
    "start_time": "2022-06-12T18:05:32.853Z"
   },
   {
    "duration": 370,
    "start_time": "2022-06-12T18:05:33.557Z"
   },
   {
    "duration": 3,
    "start_time": "2022-06-12T18:05:56.173Z"
   },
   {
    "duration": 4,
    "start_time": "2022-06-12T18:06:25.763Z"
   },
   {
    "duration": 1643,
    "start_time": "2022-06-12T18:06:29.093Z"
   },
   {
    "duration": 6,
    "start_time": "2022-06-12T18:06:43.877Z"
   },
   {
    "duration": 8,
    "start_time": "2022-06-12T18:06:50.577Z"
   },
   {
    "duration": 52,
    "start_time": "2022-06-12T18:07:01.537Z"
   },
   {
    "duration": 16,
    "start_time": "2022-06-12T18:08:07.953Z"
   },
   {
    "duration": 1502,
    "start_time": "2022-06-12T18:08:19.097Z"
   },
   {
    "duration": 2,
    "start_time": "2022-06-12T18:08:21.848Z"
   },
   {
    "duration": 13,
    "start_time": "2022-06-12T18:08:22.558Z"
   },
   {
    "duration": 17,
    "start_time": "2022-06-12T18:08:47.642Z"
   },
   {
    "duration": 8,
    "start_time": "2022-06-12T18:08:57.533Z"
   },
   {
    "duration": 54,
    "start_time": "2022-06-12T18:10:15.504Z"
   },
   {
    "duration": 44,
    "start_time": "2022-06-12T18:10:37.007Z"
   },
   {
    "duration": 40,
    "start_time": "2022-06-12T18:10:49.013Z"
   },
   {
    "duration": 3,
    "start_time": "2022-06-12T18:11:03.524Z"
   },
   {
    "duration": 1474,
    "start_time": "2022-06-12T18:11:04.702Z"
   },
   {
    "duration": 3,
    "start_time": "2022-06-12T18:11:06.977Z"
   },
   {
    "duration": 6,
    "start_time": "2022-06-12T18:11:07.333Z"
   },
   {
    "duration": 6,
    "start_time": "2022-06-12T18:11:15.725Z"
   },
   {
    "duration": 5,
    "start_time": "2022-06-12T18:11:21.578Z"
   },
   {
    "duration": 1224,
    "start_time": "2022-06-12T18:11:29.964Z"
   },
   {
    "duration": 6,
    "start_time": "2022-06-12T18:13:54.382Z"
   },
   {
    "duration": 11,
    "start_time": "2022-06-12T18:14:27.467Z"
   },
   {
    "duration": 6,
    "start_time": "2022-06-12T18:14:35.233Z"
   },
   {
    "duration": 54,
    "start_time": "2022-06-12T18:14:42.827Z"
   },
   {
    "duration": 7,
    "start_time": "2022-06-12T18:15:57.675Z"
   },
   {
    "duration": 5,
    "start_time": "2022-06-12T18:16:09.853Z"
   },
   {
    "duration": 11,
    "start_time": "2022-06-12T18:16:12.462Z"
   },
   {
    "duration": 5,
    "start_time": "2022-06-12T18:16:28.958Z"
   },
   {
    "duration": 5393,
    "start_time": "2022-06-12T18:16:31.548Z"
   },
   {
    "duration": 3005,
    "start_time": "2022-06-12T18:16:36.943Z"
   },
   {
    "duration": 1049,
    "start_time": "2022-06-12T18:16:54.253Z"
   },
   {
    "duration": 9,
    "start_time": "2022-06-12T18:18:19.373Z"
   },
   {
    "duration": 3,
    "start_time": "2022-06-12T18:18:36.128Z"
   },
   {
    "duration": 4,
    "start_time": "2022-06-12T18:19:08.067Z"
   },
   {
    "duration": 13,
    "start_time": "2022-06-12T18:19:09.182Z"
   },
   {
    "duration": 5560,
    "start_time": "2022-06-12T18:19:23.953Z"
   },
   {
    "duration": 25,
    "start_time": "2022-06-12T18:19:29.888Z"
   },
   {
    "duration": 7,
    "start_time": "2022-06-12T18:20:54.978Z"
   },
   {
    "duration": 5640,
    "start_time": "2022-06-12T18:21:57.433Z"
   },
   {
    "duration": 5,
    "start_time": "2022-06-12T18:22:03.075Z"
   },
   {
    "duration": 7,
    "start_time": "2022-06-12T18:22:06.273Z"
   },
   {
    "duration": 21,
    "start_time": "2022-06-12T18:22:11.708Z"
   },
   {
    "duration": 11,
    "start_time": "2022-06-12T18:22:58.778Z"
   },
   {
    "duration": 11,
    "start_time": "2022-06-12T18:23:01.498Z"
   },
   {
    "duration": 4,
    "start_time": "2022-06-12T18:23:24.623Z"
   },
   {
    "duration": 12,
    "start_time": "2022-06-12T18:23:25.647Z"
   },
   {
    "duration": 21,
    "start_time": "2022-06-12T18:24:13.547Z"
   },
   {
    "duration": 911,
    "start_time": "2022-06-12T18:25:14.236Z"
   },
   {
    "duration": 595,
    "start_time": "2022-06-12T18:25:15.148Z"
   },
   {
    "duration": 180,
    "start_time": "2022-06-12T18:25:15.745Z"
   },
   {
    "duration": 92,
    "start_time": "2022-06-12T18:25:15.927Z"
   },
   {
    "duration": 12,
    "start_time": "2022-06-12T18:25:16.021Z"
   },
   {
    "duration": 71,
    "start_time": "2022-06-12T18:25:16.035Z"
   },
   {
    "duration": 3,
    "start_time": "2022-06-12T18:25:16.108Z"
   },
   {
    "duration": 26,
    "start_time": "2022-06-12T18:25:16.113Z"
   },
   {
    "duration": 46,
    "start_time": "2022-06-12T18:25:16.141Z"
   },
   {
    "duration": 3,
    "start_time": "2022-06-12T18:25:16.190Z"
   },
   {
    "duration": 10,
    "start_time": "2022-06-12T18:25:16.194Z"
   },
   {
    "duration": 16,
    "start_time": "2022-06-12T18:25:16.206Z"
   },
   {
    "duration": 62,
    "start_time": "2022-06-12T18:25:16.224Z"
   },
   {
    "duration": 7,
    "start_time": "2022-06-12T18:25:16.288Z"
   },
   {
    "duration": 103,
    "start_time": "2022-06-12T18:25:16.379Z"
   },
   {
    "duration": 10,
    "start_time": "2022-06-12T18:25:16.484Z"
   },
   {
    "duration": 15,
    "start_time": "2022-06-12T18:25:16.495Z"
   },
   {
    "duration": 71,
    "start_time": "2022-06-12T18:25:16.511Z"
   },
   {
    "duration": 3,
    "start_time": "2022-06-12T18:25:16.584Z"
   },
   {
    "duration": 96,
    "start_time": "2022-06-12T18:25:16.589Z"
   },
   {
    "duration": 95,
    "start_time": "2022-06-12T18:25:16.687Z"
   },
   {
    "duration": 3,
    "start_time": "2022-06-12T18:25:16.784Z"
   },
   {
    "duration": 9,
    "start_time": "2022-06-12T18:25:16.788Z"
   },
   {
    "duration": 6,
    "start_time": "2022-06-12T18:25:16.798Z"
   },
   {
    "duration": 6,
    "start_time": "2022-06-12T18:25:16.806Z"
   },
   {
    "duration": 5544,
    "start_time": "2022-06-12T18:25:16.814Z"
   },
   {
    "duration": 2,
    "start_time": "2022-06-12T18:25:22.360Z"
   },
   {
    "duration": 15,
    "start_time": "2022-06-12T18:25:22.365Z"
   },
   {
    "duration": 5,
    "start_time": "2022-06-12T18:25:22.382Z"
   },
   {
    "duration": 6,
    "start_time": "2022-06-12T18:25:22.388Z"
   },
   {
    "duration": 134,
    "start_time": "2022-06-12T18:25:22.396Z"
   },
   {
    "duration": 0,
    "start_time": "2022-06-12T18:25:22.533Z"
   },
   {
    "duration": 0,
    "start_time": "2022-06-12T18:25:22.534Z"
   },
   {
    "duration": 0,
    "start_time": "2022-06-12T18:25:22.535Z"
   },
   {
    "duration": 0,
    "start_time": "2022-06-12T18:25:22.536Z"
   },
   {
    "duration": 0,
    "start_time": "2022-06-12T18:25:22.537Z"
   },
   {
    "duration": 0,
    "start_time": "2022-06-12T18:25:22.538Z"
   },
   {
    "duration": 0,
    "start_time": "2022-06-12T18:25:22.539Z"
   },
   {
    "duration": 0,
    "start_time": "2022-06-12T18:25:22.540Z"
   },
   {
    "duration": 0,
    "start_time": "2022-06-12T18:25:22.541Z"
   },
   {
    "duration": 0,
    "start_time": "2022-06-12T18:25:22.542Z"
   },
   {
    "duration": 0,
    "start_time": "2022-06-12T18:25:22.543Z"
   },
   {
    "duration": 40,
    "start_time": "2022-06-12T18:26:28.566Z"
   },
   {
    "duration": 4,
    "start_time": "2022-06-12T18:26:35.267Z"
   },
   {
    "duration": 21,
    "start_time": "2022-06-12T18:26:36.836Z"
   },
   {
    "duration": 4,
    "start_time": "2022-06-12T18:27:28.836Z"
   },
   {
    "duration": 4982,
    "start_time": "2022-06-12T18:27:29.625Z"
   },
   {
    "duration": 3,
    "start_time": "2022-06-12T18:27:35.525Z"
   },
   {
    "duration": 5,
    "start_time": "2022-06-12T18:27:36.965Z"
   },
   {
    "duration": 2,
    "start_time": "2022-06-12T18:27:38.561Z"
   },
   {
    "duration": 2,
    "start_time": "2022-06-12T18:27:39.731Z"
   },
   {
    "duration": 123,
    "start_time": "2022-06-12T18:27:40.521Z"
   },
   {
    "duration": 4,
    "start_time": "2022-06-12T18:28:48.595Z"
   },
   {
    "duration": 15,
    "start_time": "2022-06-12T18:28:56.839Z"
   },
   {
    "duration": 5008,
    "start_time": "2022-06-12T18:29:03.941Z"
   },
   {
    "duration": 169,
    "start_time": "2022-06-12T18:29:31.901Z"
   },
   {
    "duration": 4,
    "start_time": "2022-06-12T18:30:08.635Z"
   },
   {
    "duration": 7534,
    "start_time": "2022-06-12T18:30:09.985Z"
   },
   {
    "duration": 5,
    "start_time": "2022-06-12T18:31:07.471Z"
   },
   {
    "duration": 22,
    "start_time": "2022-06-12T18:31:09.125Z"
   },
   {
    "duration": 5,
    "start_time": "2022-06-12T18:31:16.380Z"
   },
   {
    "duration": 5,
    "start_time": "2022-06-12T18:31:26.491Z"
   },
   {
    "duration": 9182,
    "start_time": "2022-06-12T18:31:26.497Z"
   },
   {
    "duration": 2,
    "start_time": "2022-06-12T18:31:35.682Z"
   },
   {
    "duration": 9,
    "start_time": "2022-06-12T18:31:35.685Z"
   },
   {
    "duration": 23,
    "start_time": "2022-06-12T18:31:36.226Z"
   },
   {
    "duration": 132,
    "start_time": "2022-06-12T18:32:08.617Z"
   },
   {
    "duration": 136,
    "start_time": "2022-06-12T18:32:19.431Z"
   },
   {
    "duration": 978,
    "start_time": "2022-06-12T18:32:56.355Z"
   },
   {
    "duration": 649,
    "start_time": "2022-06-12T18:32:57.335Z"
   },
   {
    "duration": 142,
    "start_time": "2022-06-12T18:32:57.986Z"
   },
   {
    "duration": 98,
    "start_time": "2022-06-12T18:32:58.130Z"
   },
   {
    "duration": 15,
    "start_time": "2022-06-12T18:32:58.230Z"
   },
   {
    "duration": 79,
    "start_time": "2022-06-12T18:32:58.247Z"
   },
   {
    "duration": 2,
    "start_time": "2022-06-12T18:32:58.328Z"
   },
   {
    "duration": 33,
    "start_time": "2022-06-12T18:32:58.332Z"
   },
   {
    "duration": 29,
    "start_time": "2022-06-12T18:32:58.366Z"
   },
   {
    "duration": 2,
    "start_time": "2022-06-12T18:32:58.397Z"
   },
   {
    "duration": 37,
    "start_time": "2022-06-12T18:32:58.400Z"
   },
   {
    "duration": 14,
    "start_time": "2022-06-12T18:32:58.438Z"
   },
   {
    "duration": 125,
    "start_time": "2022-06-12T18:32:58.453Z"
   },
   {
    "duration": 6,
    "start_time": "2022-06-12T18:32:58.580Z"
   },
   {
    "duration": 100,
    "start_time": "2022-06-12T18:32:58.588Z"
   },
   {
    "duration": 14,
    "start_time": "2022-06-12T18:32:58.689Z"
   },
   {
    "duration": 25,
    "start_time": "2022-06-12T18:32:58.705Z"
   },
   {
    "duration": 10,
    "start_time": "2022-06-12T18:32:58.732Z"
   },
   {
    "duration": 11,
    "start_time": "2022-06-12T18:32:58.778Z"
   },
   {
    "duration": 89,
    "start_time": "2022-06-12T18:32:58.790Z"
   },
   {
    "duration": 13,
    "start_time": "2022-06-12T18:32:58.880Z"
   },
   {
    "duration": 13,
    "start_time": "2022-06-12T18:32:58.895Z"
   },
   {
    "duration": 22,
    "start_time": "2022-06-12T18:32:58.909Z"
   },
   {
    "duration": 5,
    "start_time": "2022-06-12T18:32:58.932Z"
   },
   {
    "duration": 11,
    "start_time": "2022-06-12T18:32:58.938Z"
   },
   {
    "duration": 5468,
    "start_time": "2022-06-12T18:32:58.950Z"
   },
   {
    "duration": 3,
    "start_time": "2022-06-12T18:33:04.419Z"
   },
   {
    "duration": 11,
    "start_time": "2022-06-12T18:33:04.428Z"
   },
   {
    "duration": 120,
    "start_time": "2022-06-12T18:33:04.441Z"
   },
   {
    "duration": 0,
    "start_time": "2022-06-12T18:33:04.563Z"
   },
   {
    "duration": 0,
    "start_time": "2022-06-12T18:33:04.564Z"
   },
   {
    "duration": 0,
    "start_time": "2022-06-12T18:33:04.564Z"
   },
   {
    "duration": 0,
    "start_time": "2022-06-12T18:33:04.565Z"
   },
   {
    "duration": 0,
    "start_time": "2022-06-12T18:33:04.566Z"
   },
   {
    "duration": 0,
    "start_time": "2022-06-12T18:33:04.567Z"
   },
   {
    "duration": 0,
    "start_time": "2022-06-12T18:33:04.568Z"
   },
   {
    "duration": 0,
    "start_time": "2022-06-12T18:33:04.569Z"
   },
   {
    "duration": 0,
    "start_time": "2022-06-12T18:33:04.578Z"
   },
   {
    "duration": 0,
    "start_time": "2022-06-12T18:33:04.579Z"
   },
   {
    "duration": 4,
    "start_time": "2022-06-12T18:35:46.701Z"
   },
   {
    "duration": 3,
    "start_time": "2022-06-12T18:35:49.142Z"
   },
   {
    "duration": 34,
    "start_time": "2022-06-12T18:35:49.976Z"
   },
   {
    "duration": 53,
    "start_time": "2022-06-12T18:35:58.320Z"
   },
   {
    "duration": 7,
    "start_time": "2022-06-12T18:36:38.596Z"
   },
   {
    "duration": 6,
    "start_time": "2022-06-12T18:37:21.695Z"
   },
   {
    "duration": 7,
    "start_time": "2022-06-12T18:38:38.606Z"
   },
   {
    "duration": 5,
    "start_time": "2022-06-12T18:38:54.981Z"
   },
   {
    "duration": 5508,
    "start_time": "2022-06-12T18:39:10.791Z"
   },
   {
    "duration": 9,
    "start_time": "2022-06-12T18:39:23.632Z"
   },
   {
    "duration": 965,
    "start_time": "2022-06-12T18:39:43.685Z"
   },
   {
    "duration": 580,
    "start_time": "2022-06-12T18:39:44.652Z"
   },
   {
    "duration": 164,
    "start_time": "2022-06-12T18:39:45.233Z"
   },
   {
    "duration": 90,
    "start_time": "2022-06-12T18:39:45.398Z"
   },
   {
    "duration": 16,
    "start_time": "2022-06-12T18:39:45.489Z"
   },
   {
    "duration": 74,
    "start_time": "2022-06-12T18:39:45.506Z"
   },
   {
    "duration": 2,
    "start_time": "2022-06-12T18:39:45.582Z"
   },
   {
    "duration": 13,
    "start_time": "2022-06-12T18:39:45.586Z"
   },
   {
    "duration": 19,
    "start_time": "2022-06-12T18:39:45.601Z"
   },
   {
    "duration": 55,
    "start_time": "2022-06-12T18:39:45.623Z"
   },
   {
    "duration": 8,
    "start_time": "2022-06-12T18:39:45.680Z"
   },
   {
    "duration": 19,
    "start_time": "2022-06-12T18:39:45.689Z"
   },
   {
    "duration": 87,
    "start_time": "2022-06-12T18:39:45.710Z"
   },
   {
    "duration": 179,
    "start_time": "2022-06-12T18:39:45.799Z"
   },
   {
    "duration": 13,
    "start_time": "2022-06-12T18:39:45.980Z"
   },
   {
    "duration": 10,
    "start_time": "2022-06-12T18:39:45.994Z"
   },
   {
    "duration": 10,
    "start_time": "2022-06-12T18:39:46.005Z"
   },
   {
    "duration": 70,
    "start_time": "2022-06-12T18:39:46.016Z"
   },
   {
    "duration": 104,
    "start_time": "2022-06-12T18:39:46.178Z"
   },
   {
    "duration": 6,
    "start_time": "2022-06-12T18:39:46.284Z"
   },
   {
    "duration": 9,
    "start_time": "2022-06-12T18:39:46.292Z"
   },
   {
    "duration": 3,
    "start_time": "2022-06-12T18:39:46.303Z"
   },
   {
    "duration": 16,
    "start_time": "2022-06-12T18:39:46.308Z"
   },
   {
    "duration": 53,
    "start_time": "2022-06-12T18:39:46.325Z"
   },
   {
    "duration": 3,
    "start_time": "2022-06-12T18:39:46.380Z"
   },
   {
    "duration": 6,
    "start_time": "2022-06-12T18:39:46.385Z"
   },
   {
    "duration": 9,
    "start_time": "2022-06-12T18:39:46.392Z"
   },
   {
    "duration": 98,
    "start_time": "2022-06-12T18:39:46.404Z"
   },
   {
    "duration": 5,
    "start_time": "2022-06-12T18:39:46.504Z"
   },
   {
    "duration": 5,
    "start_time": "2022-06-12T18:39:46.511Z"
   },
   {
    "duration": 61,
    "start_time": "2022-06-12T18:39:46.518Z"
   },
   {
    "duration": 7,
    "start_time": "2022-06-12T18:39:46.581Z"
   },
   {
    "duration": 4,
    "start_time": "2022-06-12T18:39:46.590Z"
   },
   {
    "duration": 5,
    "start_time": "2022-06-12T18:39:46.595Z"
   },
   {
    "duration": 6091,
    "start_time": "2022-06-12T18:39:46.602Z"
   },
   {
    "duration": 3,
    "start_time": "2022-06-12T18:39:52.694Z"
   },
   {
    "duration": 10,
    "start_time": "2022-06-12T18:39:52.699Z"
   },
   {
    "duration": 14,
    "start_time": "2022-06-12T18:39:52.711Z"
   },
   {
    "duration": 14,
    "start_time": "2022-06-12T18:39:52.726Z"
   },
   {
    "duration": 88,
    "start_time": "2022-06-12T18:39:52.741Z"
   },
   {
    "duration": 1000,
    "start_time": "2022-06-12T18:46:08.910Z"
   },
   {
    "duration": 623,
    "start_time": "2022-06-12T18:46:09.911Z"
   },
   {
    "duration": 164,
    "start_time": "2022-06-12T18:46:10.537Z"
   },
   {
    "duration": 87,
    "start_time": "2022-06-12T18:46:10.703Z"
   },
   {
    "duration": 16,
    "start_time": "2022-06-12T18:46:10.794Z"
   },
   {
    "duration": 67,
    "start_time": "2022-06-12T18:46:10.812Z"
   },
   {
    "duration": 3,
    "start_time": "2022-06-12T18:46:10.881Z"
   },
   {
    "duration": 18,
    "start_time": "2022-06-12T18:46:10.885Z"
   },
   {
    "duration": 20,
    "start_time": "2022-06-12T18:46:10.905Z"
   },
   {
    "duration": 3,
    "start_time": "2022-06-12T18:46:10.928Z"
   },
   {
    "duration": 10,
    "start_time": "2022-06-12T18:46:10.933Z"
   },
   {
    "duration": 15,
    "start_time": "2022-06-12T18:46:10.977Z"
   },
   {
    "duration": 87,
    "start_time": "2022-06-12T18:46:10.994Z"
   },
   {
    "duration": 8,
    "start_time": "2022-06-12T18:46:11.083Z"
   },
   {
    "duration": 98,
    "start_time": "2022-06-12T18:46:11.093Z"
   },
   {
    "duration": 5,
    "start_time": "2022-06-12T18:46:11.193Z"
   },
   {
    "duration": 10,
    "start_time": "2022-06-12T18:46:11.200Z"
   },
   {
    "duration": 6,
    "start_time": "2022-06-12T18:46:11.211Z"
   },
   {
    "duration": 63,
    "start_time": "2022-06-12T18:46:11.218Z"
   },
   {
    "duration": 2,
    "start_time": "2022-06-12T18:46:11.283Z"
   },
   {
    "duration": 104,
    "start_time": "2022-06-12T18:46:11.287Z"
   },
   {
    "duration": 5,
    "start_time": "2022-06-12T18:46:11.392Z"
   },
   {
    "duration": 6,
    "start_time": "2022-06-12T18:46:11.399Z"
   },
   {
    "duration": 6,
    "start_time": "2022-06-12T18:46:11.407Z"
   },
   {
    "duration": 8,
    "start_time": "2022-06-12T18:46:11.415Z"
   },
   {
    "duration": 64,
    "start_time": "2022-06-12T18:46:11.425Z"
   },
   {
    "duration": 5,
    "start_time": "2022-06-12T18:46:11.491Z"
   },
   {
    "duration": 7,
    "start_time": "2022-06-12T18:46:11.499Z"
   },
   {
    "duration": 16,
    "start_time": "2022-06-12T18:46:11.508Z"
   },
   {
    "duration": 5,
    "start_time": "2022-06-12T18:46:11.526Z"
   },
   {
    "duration": 7,
    "start_time": "2022-06-12T18:46:11.533Z"
   },
   {
    "duration": 37,
    "start_time": "2022-06-12T18:46:11.541Z"
   },
   {
    "duration": 5488,
    "start_time": "2022-06-12T18:46:11.581Z"
   },
   {
    "duration": 7,
    "start_time": "2022-06-12T18:46:17.071Z"
   },
   {
    "duration": 11,
    "start_time": "2022-06-12T18:46:17.079Z"
   },
   {
    "duration": 6,
    "start_time": "2022-06-12T18:46:17.091Z"
   },
   {
    "duration": 5,
    "start_time": "2022-06-12T18:46:17.099Z"
   },
   {
    "duration": 92,
    "start_time": "2022-06-12T18:46:17.106Z"
   },
   {
    "duration": 61,
    "start_time": "2022-06-12T18:47:22.849Z"
   },
   {
    "duration": 73,
    "start_time": "2022-06-12T18:47:48.637Z"
   },
   {
    "duration": 36,
    "start_time": "2022-06-12T18:48:03.094Z"
   },
   {
    "duration": 70,
    "start_time": "2022-06-12T18:48:08.779Z"
   },
   {
    "duration": 90,
    "start_time": "2022-06-12T18:48:23.465Z"
   },
   {
    "duration": 65,
    "start_time": "2022-06-12T18:49:10.389Z"
   },
   {
    "duration": 7,
    "start_time": "2022-06-12T18:49:27.574Z"
   },
   {
    "duration": 5,
    "start_time": "2022-06-12T18:49:38.474Z"
   },
   {
    "duration": 5553,
    "start_time": "2022-06-12T18:49:57.364Z"
   },
   {
    "duration": 6,
    "start_time": "2022-06-12T18:53:35.104Z"
   },
   {
    "duration": 34,
    "start_time": "2022-06-12T18:53:50.289Z"
   },
   {
    "duration": 6,
    "start_time": "2022-06-12T18:53:55.159Z"
   },
   {
    "duration": 10,
    "start_time": "2022-06-12T18:54:15.519Z"
   },
   {
    "duration": 39,
    "start_time": "2022-06-12T18:54:28.489Z"
   },
   {
    "duration": 996,
    "start_time": "2022-06-12T18:54:59.200Z"
   },
   {
    "duration": 613,
    "start_time": "2022-06-12T18:55:00.198Z"
   },
   {
    "duration": 138,
    "start_time": "2022-06-12T18:55:00.812Z"
   },
   {
    "duration": 100,
    "start_time": "2022-06-12T18:55:00.952Z"
   },
   {
    "duration": 35,
    "start_time": "2022-06-12T18:55:01.054Z"
   },
   {
    "duration": 34,
    "start_time": "2022-06-12T18:55:01.090Z"
   },
   {
    "duration": 2,
    "start_time": "2022-06-12T18:55:01.126Z"
   },
   {
    "duration": 11,
    "start_time": "2022-06-12T18:55:01.178Z"
   },
   {
    "duration": 20,
    "start_time": "2022-06-12T18:55:01.191Z"
   },
   {
    "duration": 2,
    "start_time": "2022-06-12T18:55:01.213Z"
   },
   {
    "duration": 11,
    "start_time": "2022-06-12T18:55:01.217Z"
   },
   {
    "duration": 56,
    "start_time": "2022-06-12T18:55:01.230Z"
   },
   {
    "duration": 190,
    "start_time": "2022-06-12T18:55:01.288Z"
   },
   {
    "duration": 9,
    "start_time": "2022-06-12T18:55:01.480Z"
   },
   {
    "duration": 117,
    "start_time": "2022-06-12T18:55:01.490Z"
   },
   {
    "duration": 5,
    "start_time": "2022-06-12T18:55:01.608Z"
   },
   {
    "duration": 14,
    "start_time": "2022-06-12T18:55:01.614Z"
   },
   {
    "duration": 49,
    "start_time": "2022-06-12T18:55:01.630Z"
   },
   {
    "duration": 4,
    "start_time": "2022-06-12T18:55:01.681Z"
   },
   {
    "duration": 92,
    "start_time": "2022-06-12T18:55:01.686Z"
   },
   {
    "duration": 16,
    "start_time": "2022-06-12T18:55:01.780Z"
   },
   {
    "duration": 6,
    "start_time": "2022-06-12T18:55:01.798Z"
   },
   {
    "duration": 17,
    "start_time": "2022-06-12T18:55:01.805Z"
   },
   {
    "duration": 7,
    "start_time": "2022-06-12T18:55:01.824Z"
   },
   {
    "duration": 7,
    "start_time": "2022-06-12T18:55:01.833Z"
   },
   {
    "duration": 19,
    "start_time": "2022-06-12T18:55:01.842Z"
   },
   {
    "duration": 139,
    "start_time": "2022-06-12T18:55:01.863Z"
   },
   {
    "duration": 0,
    "start_time": "2022-06-12T18:55:02.004Z"
   },
   {
    "duration": 0,
    "start_time": "2022-06-12T18:55:02.005Z"
   },
   {
    "duration": 0,
    "start_time": "2022-06-12T18:55:02.006Z"
   },
   {
    "duration": 0,
    "start_time": "2022-06-12T18:55:02.008Z"
   },
   {
    "duration": 0,
    "start_time": "2022-06-12T18:55:02.009Z"
   },
   {
    "duration": 0,
    "start_time": "2022-06-12T18:55:02.012Z"
   },
   {
    "duration": 0,
    "start_time": "2022-06-12T18:55:02.013Z"
   },
   {
    "duration": 0,
    "start_time": "2022-06-12T18:55:02.014Z"
   },
   {
    "duration": 0,
    "start_time": "2022-06-12T18:55:02.015Z"
   },
   {
    "duration": 0,
    "start_time": "2022-06-12T18:55:02.016Z"
   },
   {
    "duration": 0,
    "start_time": "2022-06-12T18:55:02.017Z"
   },
   {
    "duration": 0,
    "start_time": "2022-06-12T18:55:02.019Z"
   },
   {
    "duration": 4,
    "start_time": "2022-06-12T18:56:21.250Z"
   },
   {
    "duration": 56,
    "start_time": "2022-06-12T18:56:22.075Z"
   },
   {
    "duration": 27,
    "start_time": "2022-06-12T18:57:45.839Z"
   },
   {
    "duration": 4,
    "start_time": "2022-06-12T18:58:04.680Z"
   },
   {
    "duration": 36,
    "start_time": "2022-06-12T18:58:07.200Z"
   },
   {
    "duration": 10,
    "start_time": "2022-06-12T18:58:20.574Z"
   },
   {
    "duration": 54,
    "start_time": "2022-06-12T18:58:56.710Z"
   },
   {
    "duration": 6,
    "start_time": "2022-06-12T18:59:05.685Z"
   },
   {
    "duration": 5,
    "start_time": "2022-06-12T18:59:11.150Z"
   },
   {
    "duration": 6074,
    "start_time": "2022-06-12T18:59:22.410Z"
   },
   {
    "duration": 2,
    "start_time": "2022-06-12T18:59:32.745Z"
   },
   {
    "duration": 12,
    "start_time": "2022-06-12T18:59:59.356Z"
   },
   {
    "duration": 1157,
    "start_time": "2022-06-12T19:00:10.500Z"
   },
   {
    "duration": 9,
    "start_time": "2022-06-12T19:01:02.685Z"
   },
   {
    "duration": 10,
    "start_time": "2022-06-12T19:01:11.170Z"
   },
   {
    "duration": 9,
    "start_time": "2022-06-12T19:01:16.265Z"
   },
   {
    "duration": 12,
    "start_time": "2022-06-12T19:01:19.289Z"
   },
   {
    "duration": 10,
    "start_time": "2022-06-12T19:01:33.041Z"
   },
   {
    "duration": 82,
    "start_time": "2022-06-12T19:01:41.385Z"
   },
   {
    "duration": 626,
    "start_time": "2022-06-12T19:02:09.744Z"
   },
   {
    "duration": 425,
    "start_time": "2022-06-12T19:02:38.360Z"
   },
   {
    "duration": 5599,
    "start_time": "2022-06-12T19:02:42.040Z"
   },
   {
    "duration": 208,
    "start_time": "2022-06-12T19:02:49.195Z"
   },
   {
    "duration": 14,
    "start_time": "2022-06-12T19:04:02.360Z"
   },
   {
    "duration": 981,
    "start_time": "2022-06-12T19:04:11.431Z"
   },
   {
    "duration": 614,
    "start_time": "2022-06-12T19:04:12.414Z"
   },
   {
    "duration": 165,
    "start_time": "2022-06-12T19:04:13.030Z"
   },
   {
    "duration": 89,
    "start_time": "2022-06-12T19:04:13.196Z"
   },
   {
    "duration": 12,
    "start_time": "2022-06-12T19:04:13.286Z"
   },
   {
    "duration": 34,
    "start_time": "2022-06-12T19:04:13.299Z"
   },
   {
    "duration": 44,
    "start_time": "2022-06-12T19:04:13.335Z"
   },
   {
    "duration": 17,
    "start_time": "2022-06-12T19:04:13.381Z"
   },
   {
    "duration": 28,
    "start_time": "2022-06-12T19:04:13.399Z"
   },
   {
    "duration": 3,
    "start_time": "2022-06-12T19:04:13.431Z"
   },
   {
    "duration": 11,
    "start_time": "2022-06-12T19:04:13.436Z"
   },
   {
    "duration": 19,
    "start_time": "2022-06-12T19:04:13.478Z"
   },
   {
    "duration": 82,
    "start_time": "2022-06-12T19:04:13.500Z"
   },
   {
    "duration": 94,
    "start_time": "2022-06-12T19:04:13.584Z"
   },
   {
    "duration": 114,
    "start_time": "2022-06-12T19:04:13.680Z"
   },
   {
    "duration": 4,
    "start_time": "2022-06-12T19:04:13.796Z"
   },
   {
    "duration": 12,
    "start_time": "2022-06-12T19:04:13.802Z"
   },
   {
    "duration": 14,
    "start_time": "2022-06-12T19:04:13.816Z"
   },
   {
    "duration": 10,
    "start_time": "2022-06-12T19:04:13.878Z"
   },
   {
    "duration": 95,
    "start_time": "2022-06-12T19:04:13.890Z"
   },
   {
    "duration": 9,
    "start_time": "2022-06-12T19:04:13.986Z"
   },
   {
    "duration": 4,
    "start_time": "2022-06-12T19:04:13.996Z"
   },
   {
    "duration": 7,
    "start_time": "2022-06-12T19:04:14.001Z"
   },
   {
    "duration": 5,
    "start_time": "2022-06-12T19:04:14.010Z"
   },
   {
    "duration": 6,
    "start_time": "2022-06-12T19:04:14.016Z"
   },
   {
    "duration": 12,
    "start_time": "2022-06-12T19:04:14.023Z"
   },
   {
    "duration": 9,
    "start_time": "2022-06-12T19:04:14.036Z"
   },
   {
    "duration": 60,
    "start_time": "2022-06-12T19:04:14.048Z"
   },
   {
    "duration": 4,
    "start_time": "2022-06-12T19:04:14.110Z"
   },
   {
    "duration": 4,
    "start_time": "2022-06-12T19:04:14.116Z"
   },
   {
    "duration": 10,
    "start_time": "2022-06-12T19:04:14.121Z"
   },
   {
    "duration": 6,
    "start_time": "2022-06-12T19:04:14.133Z"
   },
   {
    "duration": 4,
    "start_time": "2022-06-12T19:04:14.141Z"
   },
   {
    "duration": 37,
    "start_time": "2022-06-12T19:04:14.146Z"
   },
   {
    "duration": 5635,
    "start_time": "2022-06-12T19:04:14.185Z"
   },
   {
    "duration": 270,
    "start_time": "2022-06-12T19:04:19.821Z"
   },
   {
    "duration": 2,
    "start_time": "2022-06-12T19:04:20.093Z"
   },
   {
    "duration": 10,
    "start_time": "2022-06-12T19:04:20.097Z"
   },
   {
    "duration": 13,
    "start_time": "2022-06-12T19:04:20.109Z"
   },
   {
    "duration": 101,
    "start_time": "2022-06-12T19:04:20.124Z"
   },
   {
    "duration": 32,
    "start_time": "2022-06-12T19:04:38.222Z"
   },
   {
    "duration": 948,
    "start_time": "2022-06-12T19:04:47.639Z"
   },
   {
    "duration": 597,
    "start_time": "2022-06-12T19:04:48.589Z"
   },
   {
    "duration": 142,
    "start_time": "2022-06-12T19:04:49.188Z"
   },
   {
    "duration": 95,
    "start_time": "2022-06-12T19:04:49.332Z"
   },
   {
    "duration": 12,
    "start_time": "2022-06-12T19:04:49.428Z"
   },
   {
    "duration": 62,
    "start_time": "2022-06-12T19:04:49.441Z"
   },
   {
    "duration": 3,
    "start_time": "2022-06-12T19:04:49.504Z"
   },
   {
    "duration": 14,
    "start_time": "2022-06-12T19:04:49.509Z"
   },
   {
    "duration": 22,
    "start_time": "2022-06-12T19:04:49.524Z"
   },
   {
    "duration": 2,
    "start_time": "2022-06-12T19:04:49.580Z"
   },
   {
    "duration": 11,
    "start_time": "2022-06-12T19:04:49.583Z"
   },
   {
    "duration": 13,
    "start_time": "2022-06-12T19:04:49.595Z"
   },
   {
    "duration": 71,
    "start_time": "2022-06-12T19:04:49.610Z"
   },
   {
    "duration": 6,
    "start_time": "2022-06-12T19:04:49.683Z"
   },
   {
    "duration": 99,
    "start_time": "2022-06-12T19:04:49.691Z"
   },
   {
    "duration": 95,
    "start_time": "2022-06-12T19:04:49.792Z"
   },
   {
    "duration": 7,
    "start_time": "2022-06-12T19:04:49.889Z"
   },
   {
    "duration": 12,
    "start_time": "2022-06-12T19:04:49.897Z"
   },
   {
    "duration": 106,
    "start_time": "2022-06-12T19:04:49.978Z"
   },
   {
    "duration": 6,
    "start_time": "2022-06-12T19:04:50.086Z"
   },
   {
    "duration": 8,
    "start_time": "2022-06-12T19:04:50.094Z"
   },
   {
    "duration": 3,
    "start_time": "2022-06-12T19:04:50.104Z"
   },
   {
    "duration": 10,
    "start_time": "2022-06-12T19:04:50.108Z"
   },
   {
    "duration": 7,
    "start_time": "2022-06-12T19:04:50.120Z"
   },
   {
    "duration": 8,
    "start_time": "2022-06-12T19:04:50.128Z"
   },
   {
    "duration": 10,
    "start_time": "2022-06-12T19:04:50.138Z"
   },
   {
    "duration": 6,
    "start_time": "2022-06-12T19:04:50.149Z"
   },
   {
    "duration": 56,
    "start_time": "2022-06-12T19:04:50.178Z"
   },
   {
    "duration": 5,
    "start_time": "2022-06-12T19:04:50.236Z"
   },
   {
    "duration": 5,
    "start_time": "2022-06-12T19:04:50.243Z"
   },
   {
    "duration": 33,
    "start_time": "2022-06-12T19:04:50.249Z"
   },
   {
    "duration": 5,
    "start_time": "2022-06-12T19:04:50.285Z"
   },
   {
    "duration": 4,
    "start_time": "2022-06-12T19:04:50.292Z"
   },
   {
    "duration": 4,
    "start_time": "2022-06-12T19:04:50.297Z"
   },
   {
    "duration": 6007,
    "start_time": "2022-06-12T19:04:50.303Z"
   },
   {
    "duration": 236,
    "start_time": "2022-06-12T19:04:56.312Z"
   },
   {
    "duration": 3,
    "start_time": "2022-06-12T19:04:56.550Z"
   },
   {
    "duration": 18,
    "start_time": "2022-06-12T19:04:56.554Z"
   },
   {
    "duration": 14,
    "start_time": "2022-06-12T19:04:56.573Z"
   },
   {
    "duration": 101,
    "start_time": "2022-06-12T19:04:56.588Z"
   },
   {
    "duration": 9,
    "start_time": "2022-06-12T19:05:18.320Z"
   },
   {
    "duration": 4,
    "start_time": "2022-06-12T19:05:24.985Z"
   },
   {
    "duration": 21,
    "start_time": "2022-06-12T19:05:50.426Z"
   },
   {
    "duration": 16,
    "start_time": "2022-06-12T19:06:32.945Z"
   },
   {
    "duration": 13,
    "start_time": "2022-06-12T19:06:38.220Z"
   },
   {
    "duration": 10,
    "start_time": "2022-06-12T19:07:14.500Z"
   },
   {
    "duration": 11,
    "start_time": "2022-06-12T19:07:22.864Z"
   },
   {
    "duration": 5462,
    "start_time": "2022-06-12T19:08:34.011Z"
   },
   {
    "duration": 3167,
    "start_time": "2022-06-12T19:08:41.451Z"
   },
   {
    "duration": 454,
    "start_time": "2022-06-12T19:09:24.310Z"
   },
   {
    "duration": 5497,
    "start_time": "2022-06-12T19:09:29.060Z"
   },
   {
    "duration": 3151,
    "start_time": "2022-06-12T19:09:39.545Z"
   },
   {
    "duration": 978,
    "start_time": "2022-06-12T19:11:41.141Z"
   },
   {
    "duration": 631,
    "start_time": "2022-06-12T19:11:42.121Z"
   },
   {
    "duration": 156,
    "start_time": "2022-06-12T19:11:42.777Z"
   },
   {
    "duration": 91,
    "start_time": "2022-06-12T19:11:42.935Z"
   },
   {
    "duration": 11,
    "start_time": "2022-06-12T19:11:43.027Z"
   },
   {
    "duration": 77,
    "start_time": "2022-06-12T19:11:43.040Z"
   },
   {
    "duration": 2,
    "start_time": "2022-06-12T19:11:43.119Z"
   },
   {
    "duration": 13,
    "start_time": "2022-06-12T19:11:43.123Z"
   },
   {
    "duration": 52,
    "start_time": "2022-06-12T19:11:43.138Z"
   },
   {
    "duration": 3,
    "start_time": "2022-06-12T19:11:43.193Z"
   },
   {
    "duration": 10,
    "start_time": "2022-06-12T19:11:43.197Z"
   },
   {
    "duration": 19,
    "start_time": "2022-06-12T19:11:43.208Z"
   },
   {
    "duration": 57,
    "start_time": "2022-06-12T19:11:43.229Z"
   },
   {
    "duration": 94,
    "start_time": "2022-06-12T19:11:43.288Z"
   },
   {
    "duration": 109,
    "start_time": "2022-06-12T19:11:43.383Z"
   },
   {
    "duration": 5,
    "start_time": "2022-06-12T19:11:43.494Z"
   },
   {
    "duration": 9,
    "start_time": "2022-06-12T19:11:43.500Z"
   },
   {
    "duration": 6,
    "start_time": "2022-06-12T19:11:43.511Z"
   },
   {
    "duration": 68,
    "start_time": "2022-06-12T19:11:43.518Z"
   },
   {
    "duration": 96,
    "start_time": "2022-06-12T19:11:43.588Z"
   },
   {
    "duration": 12,
    "start_time": "2022-06-12T19:11:43.685Z"
   },
   {
    "duration": 3,
    "start_time": "2022-06-12T19:11:43.698Z"
   },
   {
    "duration": 6,
    "start_time": "2022-06-12T19:11:43.702Z"
   },
   {
    "duration": 7,
    "start_time": "2022-06-12T19:11:43.710Z"
   },
   {
    "duration": 5,
    "start_time": "2022-06-12T19:11:43.718Z"
   },
   {
    "duration": 6,
    "start_time": "2022-06-12T19:11:43.724Z"
   },
   {
    "duration": 6,
    "start_time": "2022-06-12T19:11:43.731Z"
   },
   {
    "duration": 94,
    "start_time": "2022-06-12T19:11:43.741Z"
   },
   {
    "duration": 5,
    "start_time": "2022-06-12T19:11:43.837Z"
   },
   {
    "duration": 9,
    "start_time": "2022-06-12T19:11:43.844Z"
   },
   {
    "duration": 26,
    "start_time": "2022-06-12T19:11:43.855Z"
   },
   {
    "duration": 6,
    "start_time": "2022-06-12T19:11:43.882Z"
   },
   {
    "duration": 5,
    "start_time": "2022-06-12T19:11:43.890Z"
   },
   {
    "duration": 5,
    "start_time": "2022-06-12T19:11:43.896Z"
   },
   {
    "duration": 5627,
    "start_time": "2022-06-12T19:11:43.903Z"
   },
   {
    "duration": 3241,
    "start_time": "2022-06-12T19:11:49.531Z"
   },
   {
    "duration": 7,
    "start_time": "2022-06-12T19:11:52.774Z"
   },
   {
    "duration": 9,
    "start_time": "2022-06-12T19:11:52.783Z"
   },
   {
    "duration": 13,
    "start_time": "2022-06-12T19:11:52.793Z"
   },
   {
    "duration": 21,
    "start_time": "2022-06-12T19:11:52.808Z"
   },
   {
    "duration": 129,
    "start_time": "2022-06-12T19:11:52.831Z"
   },
   {
    "duration": 5,
    "start_time": "2022-06-12T19:12:44.244Z"
   },
   {
    "duration": 7,
    "start_time": "2022-06-12T19:12:49.451Z"
   },
   {
    "duration": 8,
    "start_time": "2022-06-12T19:13:50.931Z"
   },
   {
    "duration": 8,
    "start_time": "2022-06-12T19:14:06.996Z"
   },
   {
    "duration": 13,
    "start_time": "2022-06-12T19:14:41.231Z"
   },
   {
    "duration": 4,
    "start_time": "2022-06-12T19:15:30.206Z"
   },
   {
    "duration": 4,
    "start_time": "2022-06-12T19:15:45.189Z"
   },
   {
    "duration": 8,
    "start_time": "2022-06-12T19:16:28.917Z"
   },
   {
    "duration": 18,
    "start_time": "2022-06-12T19:16:44.480Z"
   },
   {
    "duration": 6,
    "start_time": "2022-06-12T19:17:01.016Z"
   },
   {
    "duration": 7,
    "start_time": "2022-06-12T19:17:39.850Z"
   },
   {
    "duration": 13,
    "start_time": "2022-06-12T19:17:58.836Z"
   },
   {
    "duration": 18,
    "start_time": "2022-06-12T19:18:13.676Z"
   },
   {
    "duration": 12,
    "start_time": "2022-06-12T19:18:16.910Z"
   },
   {
    "duration": 13,
    "start_time": "2022-06-12T19:18:38.937Z"
   },
   {
    "duration": 19,
    "start_time": "2022-06-12T19:19:05.477Z"
   },
   {
    "duration": 9,
    "start_time": "2022-06-12T19:19:14.771Z"
   },
   {
    "duration": 9,
    "start_time": "2022-06-12T19:19:20.062Z"
   },
   {
    "duration": 36,
    "start_time": "2022-06-12T19:19:27.106Z"
   },
   {
    "duration": 6,
    "start_time": "2022-06-12T19:19:30.641Z"
   },
   {
    "duration": 9,
    "start_time": "2022-06-12T19:19:40.802Z"
   },
   {
    "duration": 10,
    "start_time": "2022-06-12T19:19:56.088Z"
   },
   {
    "duration": 52,
    "start_time": "2022-06-12T19:20:27.446Z"
   },
   {
    "duration": 31,
    "start_time": "2022-06-12T19:20:41.596Z"
   },
   {
    "duration": 27,
    "start_time": "2022-06-12T19:20:46.998Z"
   },
   {
    "duration": 30,
    "start_time": "2022-06-12T19:20:50.101Z"
   },
   {
    "duration": 27,
    "start_time": "2022-06-12T19:21:25.199Z"
   },
   {
    "duration": 6,
    "start_time": "2022-06-12T19:21:33.801Z"
   },
   {
    "duration": 11,
    "start_time": "2022-06-12T19:21:46.897Z"
   },
   {
    "duration": 36,
    "start_time": "2022-06-12T19:22:10.421Z"
   },
   {
    "duration": 6,
    "start_time": "2022-06-12T19:22:26.422Z"
   },
   {
    "duration": 26,
    "start_time": "2022-06-12T19:23:35.971Z"
   },
   {
    "duration": 17172,
    "start_time": "2022-06-12T19:23:49.266Z"
   },
   {
    "duration": 651,
    "start_time": "2022-06-12T19:24:46.946Z"
   },
   {
    "duration": 534,
    "start_time": "2022-06-12T19:25:05.236Z"
   },
   {
    "duration": 958,
    "start_time": "2022-06-12T19:27:54.104Z"
   },
   {
    "duration": 638,
    "start_time": "2022-06-12T19:27:55.065Z"
   },
   {
    "duration": 144,
    "start_time": "2022-06-12T19:27:55.705Z"
   },
   {
    "duration": 88,
    "start_time": "2022-06-12T19:27:55.851Z"
   },
   {
    "duration": 37,
    "start_time": "2022-06-12T19:27:55.941Z"
   },
   {
    "duration": 40,
    "start_time": "2022-06-12T19:27:55.979Z"
   },
   {
    "duration": 2,
    "start_time": "2022-06-12T19:27:56.020Z"
   },
   {
    "duration": 15,
    "start_time": "2022-06-12T19:27:56.024Z"
   },
   {
    "duration": 67,
    "start_time": "2022-06-12T19:27:56.041Z"
   },
   {
    "duration": 2,
    "start_time": "2022-06-12T19:27:56.110Z"
   },
   {
    "duration": 11,
    "start_time": "2022-06-12T19:27:56.114Z"
   },
   {
    "duration": 14,
    "start_time": "2022-06-12T19:27:56.126Z"
   },
   {
    "duration": 63,
    "start_time": "2022-06-12T19:27:56.141Z"
   },
   {
    "duration": 81,
    "start_time": "2022-06-12T19:27:56.206Z"
   },
   {
    "duration": 116,
    "start_time": "2022-06-12T19:27:56.288Z"
   },
   {
    "duration": 4,
    "start_time": "2022-06-12T19:27:56.406Z"
   },
   {
    "duration": 11,
    "start_time": "2022-06-12T19:27:56.412Z"
   },
   {
    "duration": 10,
    "start_time": "2022-06-12T19:27:56.424Z"
   },
   {
    "duration": 111,
    "start_time": "2022-06-12T19:27:56.484Z"
   },
   {
    "duration": 5,
    "start_time": "2022-06-12T19:27:56.597Z"
   },
   {
    "duration": 7,
    "start_time": "2022-06-12T19:27:56.604Z"
   },
   {
    "duration": 3,
    "start_time": "2022-06-12T19:27:56.613Z"
   },
   {
    "duration": 5,
    "start_time": "2022-06-12T19:27:56.618Z"
   },
   {
    "duration": 5,
    "start_time": "2022-06-12T19:27:56.625Z"
   },
   {
    "duration": 5,
    "start_time": "2022-06-12T19:27:56.632Z"
   },
   {
    "duration": 9,
    "start_time": "2022-06-12T19:27:56.639Z"
   },
   {
    "duration": 6,
    "start_time": "2022-06-12T19:27:56.649Z"
   },
   {
    "duration": 65,
    "start_time": "2022-06-12T19:27:56.657Z"
   },
   {
    "duration": 4,
    "start_time": "2022-06-12T19:27:56.724Z"
   },
   {
    "duration": 9,
    "start_time": "2022-06-12T19:27:56.730Z"
   },
   {
    "duration": 10,
    "start_time": "2022-06-12T19:27:56.741Z"
   },
   {
    "duration": 46,
    "start_time": "2022-06-12T19:27:56.752Z"
   },
   {
    "duration": 5,
    "start_time": "2022-06-12T19:27:56.800Z"
   },
   {
    "duration": 5,
    "start_time": "2022-06-12T19:27:56.806Z"
   },
   {
    "duration": 17585,
    "start_time": "2022-06-12T19:27:56.812Z"
   },
   {
    "duration": 699,
    "start_time": "2022-06-12T19:28:14.398Z"
   },
   {
    "duration": 5,
    "start_time": "2022-06-12T19:28:15.099Z"
   },
   {
    "duration": 17,
    "start_time": "2022-06-12T19:28:15.106Z"
   },
   {
    "duration": 8,
    "start_time": "2022-06-12T19:28:15.124Z"
   },
   {
    "duration": 12,
    "start_time": "2022-06-12T19:28:15.134Z"
   },
   {
    "duration": 4,
    "start_time": "2022-06-12T19:28:15.148Z"
   },
   {
    "duration": 28,
    "start_time": "2022-06-12T19:28:15.154Z"
   },
   {
    "duration": 19,
    "start_time": "2022-06-12T19:29:26.864Z"
   },
   {
    "duration": 5,
    "start_time": "2022-06-12T19:29:57.296Z"
   },
   {
    "duration": 8,
    "start_time": "2022-06-12T19:30:54.197Z"
   },
   {
    "duration": 8,
    "start_time": "2022-06-12T19:31:57.550Z"
   },
   {
    "duration": 1099,
    "start_time": "2022-06-12T19:35:01.272Z"
   },
   {
    "duration": 665,
    "start_time": "2022-06-12T19:35:02.373Z"
   },
   {
    "duration": 210,
    "start_time": "2022-06-12T19:35:03.040Z"
   },
   {
    "duration": 106,
    "start_time": "2022-06-12T19:35:03.252Z"
   },
   {
    "duration": 28,
    "start_time": "2022-06-12T19:35:03.359Z"
   },
   {
    "duration": 42,
    "start_time": "2022-06-12T19:35:03.389Z"
   },
   {
    "duration": 3,
    "start_time": "2022-06-12T19:35:03.432Z"
   },
   {
    "duration": 14,
    "start_time": "2022-06-12T19:35:03.436Z"
   },
   {
    "duration": 35,
    "start_time": "2022-06-12T19:35:03.478Z"
   },
   {
    "duration": 2,
    "start_time": "2022-06-12T19:35:03.517Z"
   },
   {
    "duration": 15,
    "start_time": "2022-06-12T19:35:03.521Z"
   },
   {
    "duration": 20,
    "start_time": "2022-06-12T19:35:03.538Z"
   },
   {
    "duration": 45,
    "start_time": "2022-06-12T19:35:03.560Z"
   },
   {
    "duration": 79,
    "start_time": "2022-06-12T19:35:03.608Z"
   },
   {
    "duration": 128,
    "start_time": "2022-06-12T19:35:03.688Z"
   },
   {
    "duration": 5,
    "start_time": "2022-06-12T19:35:03.818Z"
   },
   {
    "duration": 19,
    "start_time": "2022-06-12T19:35:03.825Z"
   },
   {
    "duration": 14,
    "start_time": "2022-06-12T19:35:03.846Z"
   },
   {
    "duration": 140,
    "start_time": "2022-06-12T19:35:03.861Z"
   },
   {
    "duration": 7,
    "start_time": "2022-06-12T19:35:04.004Z"
   },
   {
    "duration": 12,
    "start_time": "2022-06-12T19:35:04.014Z"
   },
   {
    "duration": 7,
    "start_time": "2022-06-12T19:35:04.028Z"
   },
   {
    "duration": 13,
    "start_time": "2022-06-12T19:35:04.037Z"
   },
   {
    "duration": 6,
    "start_time": "2022-06-12T19:35:04.052Z"
   },
   {
    "duration": 7,
    "start_time": "2022-06-12T19:35:04.060Z"
   },
   {
    "duration": 32,
    "start_time": "2022-06-12T19:35:04.069Z"
   },
   {
    "duration": 10,
    "start_time": "2022-06-12T19:35:04.102Z"
   },
   {
    "duration": 67,
    "start_time": "2022-06-12T19:35:04.115Z"
   },
   {
    "duration": 5,
    "start_time": "2022-06-12T19:35:04.184Z"
   },
   {
    "duration": 23,
    "start_time": "2022-06-12T19:35:04.191Z"
   },
   {
    "duration": 18,
    "start_time": "2022-06-12T19:35:04.216Z"
   },
   {
    "duration": 24,
    "start_time": "2022-06-12T19:35:04.236Z"
   },
   {
    "duration": 35,
    "start_time": "2022-06-12T19:35:04.262Z"
   },
   {
    "duration": 9,
    "start_time": "2022-06-12T19:35:04.299Z"
   },
   {
    "duration": 18116,
    "start_time": "2022-06-12T19:35:04.309Z"
   },
   {
    "duration": 741,
    "start_time": "2022-06-12T19:35:22.428Z"
   },
   {
    "duration": 8,
    "start_time": "2022-06-12T19:35:23.170Z"
   },
   {
    "duration": 24,
    "start_time": "2022-06-12T19:35:23.179Z"
   },
   {
    "duration": 6,
    "start_time": "2022-06-12T19:35:23.204Z"
   },
   {
    "duration": 22,
    "start_time": "2022-06-12T19:35:23.211Z"
   },
   {
    "duration": 9,
    "start_time": "2022-06-12T19:35:23.234Z"
   },
   {
    "duration": 20,
    "start_time": "2022-06-12T19:36:08.389Z"
   },
   {
    "duration": 1092,
    "start_time": "2022-06-12T19:36:59.136Z"
   },
   {
    "duration": 684,
    "start_time": "2022-06-12T19:37:00.230Z"
   },
   {
    "duration": 186,
    "start_time": "2022-06-12T19:37:00.916Z"
   },
   {
    "duration": 107,
    "start_time": "2022-06-12T19:37:01.105Z"
   },
   {
    "duration": 17,
    "start_time": "2022-06-12T19:37:01.214Z"
   },
   {
    "duration": 73,
    "start_time": "2022-06-12T19:37:01.233Z"
   },
   {
    "duration": 2,
    "start_time": "2022-06-12T19:37:01.308Z"
   },
   {
    "duration": 23,
    "start_time": "2022-06-12T19:37:01.312Z"
   },
   {
    "duration": 27,
    "start_time": "2022-06-12T19:37:01.337Z"
   },
   {
    "duration": 8,
    "start_time": "2022-06-12T19:37:01.382Z"
   },
   {
    "duration": 48,
    "start_time": "2022-06-12T19:37:01.392Z"
   },
   {
    "duration": 44,
    "start_time": "2022-06-12T19:37:01.441Z"
   },
   {
    "duration": 45,
    "start_time": "2022-06-12T19:37:01.490Z"
   },
   {
    "duration": 48,
    "start_time": "2022-06-12T19:37:01.537Z"
   },
   {
    "duration": 120,
    "start_time": "2022-06-12T19:37:01.587Z"
   },
   {
    "duration": 5,
    "start_time": "2022-06-12T19:37:01.709Z"
   },
   {
    "duration": 18,
    "start_time": "2022-06-12T19:37:01.715Z"
   },
   {
    "duration": 12,
    "start_time": "2022-06-12T19:37:01.734Z"
   },
   {
    "duration": 114,
    "start_time": "2022-06-12T19:37:01.785Z"
   },
   {
    "duration": 7,
    "start_time": "2022-06-12T19:37:01.900Z"
   },
   {
    "duration": 8,
    "start_time": "2022-06-12T19:37:01.909Z"
   },
   {
    "duration": 4,
    "start_time": "2022-06-12T19:37:01.919Z"
   },
   {
    "duration": 16,
    "start_time": "2022-06-12T19:37:01.925Z"
   },
   {
    "duration": 10,
    "start_time": "2022-06-12T19:37:01.942Z"
   },
   {
    "duration": 13,
    "start_time": "2022-06-12T19:37:01.953Z"
   },
   {
    "duration": 14,
    "start_time": "2022-06-12T19:37:01.967Z"
   },
   {
    "duration": 47,
    "start_time": "2022-06-12T19:37:01.989Z"
   },
   {
    "duration": 85,
    "start_time": "2022-06-12T19:37:02.041Z"
   },
   {
    "duration": 8,
    "start_time": "2022-06-12T19:37:02.129Z"
   },
   {
    "duration": 11,
    "start_time": "2022-06-12T19:37:02.139Z"
   },
   {
    "duration": 32,
    "start_time": "2022-06-12T19:37:02.152Z"
   },
   {
    "duration": 26,
    "start_time": "2022-06-12T19:37:02.187Z"
   },
   {
    "duration": 7,
    "start_time": "2022-06-12T19:37:02.215Z"
   },
   {
    "duration": 6,
    "start_time": "2022-06-12T19:37:02.224Z"
   },
   {
    "duration": 18030,
    "start_time": "2022-06-12T19:37:02.232Z"
   },
   {
    "duration": 690,
    "start_time": "2022-06-12T19:37:20.263Z"
   },
   {
    "duration": 6,
    "start_time": "2022-06-12T19:37:20.955Z"
   },
   {
    "duration": 16,
    "start_time": "2022-06-12T19:37:20.963Z"
   },
   {
    "duration": 21,
    "start_time": "2022-06-12T19:37:20.981Z"
   },
   {
    "duration": 21,
    "start_time": "2022-06-12T19:37:21.004Z"
   },
   {
    "duration": 9,
    "start_time": "2022-06-12T19:37:21.027Z"
   },
   {
    "duration": 1186,
    "start_time": "2022-06-12T19:40:23.376Z"
   },
   {
    "duration": 688,
    "start_time": "2022-06-12T19:40:24.564Z"
   },
   {
    "duration": 197,
    "start_time": "2022-06-12T19:40:25.254Z"
   },
   {
    "duration": 98,
    "start_time": "2022-06-12T19:40:25.454Z"
   },
   {
    "duration": 43,
    "start_time": "2022-06-12T19:40:25.554Z"
   },
   {
    "duration": 48,
    "start_time": "2022-06-12T19:40:25.601Z"
   },
   {
    "duration": 2,
    "start_time": "2022-06-12T19:40:25.651Z"
   },
   {
    "duration": 27,
    "start_time": "2022-06-12T19:40:25.655Z"
   },
   {
    "duration": 33,
    "start_time": "2022-06-12T19:40:25.684Z"
   },
   {
    "duration": 3,
    "start_time": "2022-06-12T19:40:25.720Z"
   },
   {
    "duration": 13,
    "start_time": "2022-06-12T19:40:25.725Z"
   },
   {
    "duration": 52,
    "start_time": "2022-06-12T19:40:25.740Z"
   },
   {
    "duration": 51,
    "start_time": "2022-06-12T19:40:25.794Z"
   },
   {
    "duration": 10,
    "start_time": "2022-06-12T19:40:25.900Z"
   },
   {
    "duration": 98,
    "start_time": "2022-06-12T19:40:25.920Z"
   },
   {
    "duration": 5,
    "start_time": "2022-06-12T19:40:26.020Z"
   },
   {
    "duration": 10,
    "start_time": "2022-06-12T19:40:26.027Z"
   },
   {
    "duration": 59,
    "start_time": "2022-06-12T19:40:26.039Z"
   },
   {
    "duration": 75,
    "start_time": "2022-06-12T19:40:26.105Z"
   },
   {
    "duration": 118,
    "start_time": "2022-06-12T19:40:26.183Z"
   },
   {
    "duration": 13,
    "start_time": "2022-06-12T19:40:26.303Z"
   },
   {
    "duration": 2,
    "start_time": "2022-06-12T19:40:26.318Z"
   },
   {
    "duration": 9,
    "start_time": "2022-06-12T19:40:26.322Z"
   },
   {
    "duration": 12,
    "start_time": "2022-06-12T19:40:26.333Z"
   },
   {
    "duration": 2,
    "start_time": "2022-06-12T19:40:26.347Z"
   },
   {
    "duration": 7,
    "start_time": "2022-06-12T19:40:26.351Z"
   },
   {
    "duration": 7,
    "start_time": "2022-06-12T19:40:26.360Z"
   },
   {
    "duration": 75,
    "start_time": "2022-06-12T19:40:26.370Z"
   },
   {
    "duration": 6,
    "start_time": "2022-06-12T19:40:26.447Z"
   },
   {
    "duration": 11,
    "start_time": "2022-06-12T19:40:26.455Z"
   },
   {
    "duration": 20,
    "start_time": "2022-06-12T19:40:26.480Z"
   },
   {
    "duration": 15,
    "start_time": "2022-06-12T19:40:26.502Z"
   },
   {
    "duration": 5,
    "start_time": "2022-06-12T19:40:26.519Z"
   },
   {
    "duration": 8,
    "start_time": "2022-06-12T19:40:26.526Z"
   },
   {
    "duration": 18013,
    "start_time": "2022-06-12T19:40:26.536Z"
   },
   {
    "duration": 668,
    "start_time": "2022-06-12T19:40:44.551Z"
   },
   {
    "duration": 8,
    "start_time": "2022-06-12T19:40:45.221Z"
   },
   {
    "duration": 4,
    "start_time": "2022-06-12T19:40:45.230Z"
   },
   {
    "duration": 4,
    "start_time": "2022-06-12T19:40:45.235Z"
   },
   {
    "duration": 51,
    "start_time": "2022-06-12T19:40:45.240Z"
   },
   {
    "duration": 10,
    "start_time": "2022-06-12T19:40:45.293Z"
   },
   {
    "duration": 1028,
    "start_time": "2022-06-12T19:42:38.021Z"
   },
   {
    "duration": 669,
    "start_time": "2022-06-12T19:42:39.050Z"
   },
   {
    "duration": 172,
    "start_time": "2022-06-12T19:42:39.721Z"
   },
   {
    "duration": 62,
    "start_time": "2022-06-12T19:42:39.895Z"
   },
   {
    "duration": 51,
    "start_time": "2022-06-12T19:42:39.958Z"
   },
   {
    "duration": 51,
    "start_time": "2022-06-12T19:42:40.011Z"
   },
   {
    "duration": 19,
    "start_time": "2022-06-12T19:42:40.064Z"
   },
   {
    "duration": 27,
    "start_time": "2022-06-12T19:42:40.087Z"
   },
   {
    "duration": 21,
    "start_time": "2022-06-12T19:42:40.116Z"
   },
   {
    "duration": 3,
    "start_time": "2022-06-12T19:42:40.140Z"
   },
   {
    "duration": 17,
    "start_time": "2022-06-12T19:42:40.145Z"
   },
   {
    "duration": 18,
    "start_time": "2022-06-12T19:42:40.183Z"
   },
   {
    "duration": 93,
    "start_time": "2022-06-12T19:42:40.203Z"
   },
   {
    "duration": 84,
    "start_time": "2022-06-12T19:42:40.300Z"
   },
   {
    "duration": 122,
    "start_time": "2022-06-12T19:42:40.386Z"
   },
   {
    "duration": 5,
    "start_time": "2022-06-12T19:42:40.510Z"
   },
   {
    "duration": 12,
    "start_time": "2022-06-12T19:42:40.516Z"
   },
   {
    "duration": 63,
    "start_time": "2022-06-12T19:42:40.530Z"
   },
   {
    "duration": 88,
    "start_time": "2022-06-12T19:42:40.595Z"
   },
   {
    "duration": 120,
    "start_time": "2022-06-12T19:42:40.685Z"
   },
   {
    "duration": 15,
    "start_time": "2022-06-12T19:42:40.806Z"
   },
   {
    "duration": 2,
    "start_time": "2022-06-12T19:42:40.823Z"
   },
   {
    "duration": 6,
    "start_time": "2022-06-12T19:42:40.827Z"
   },
   {
    "duration": 6,
    "start_time": "2022-06-12T19:42:40.835Z"
   },
   {
    "duration": 5,
    "start_time": "2022-06-12T19:42:40.843Z"
   },
   {
    "duration": 9,
    "start_time": "2022-06-12T19:42:40.849Z"
   },
   {
    "duration": 7,
    "start_time": "2022-06-12T19:42:40.859Z"
   },
   {
    "duration": 72,
    "start_time": "2022-06-12T19:42:40.869Z"
   },
   {
    "duration": 4,
    "start_time": "2022-06-12T19:42:40.942Z"
   },
   {
    "duration": 6,
    "start_time": "2022-06-12T19:42:40.948Z"
   },
   {
    "duration": 30,
    "start_time": "2022-06-12T19:42:40.955Z"
   },
   {
    "duration": 45,
    "start_time": "2022-06-12T19:42:40.986Z"
   },
   {
    "duration": 19,
    "start_time": "2022-06-12T19:42:41.033Z"
   },
   {
    "duration": 10,
    "start_time": "2022-06-12T19:42:41.055Z"
   },
   {
    "duration": 18113,
    "start_time": "2022-06-12T19:42:41.066Z"
   },
   {
    "duration": 691,
    "start_time": "2022-06-12T19:42:59.181Z"
   },
   {
    "duration": 8,
    "start_time": "2022-06-12T19:42:59.874Z"
   },
   {
    "duration": 37,
    "start_time": "2022-06-12T19:42:59.883Z"
   },
   {
    "duration": 5,
    "start_time": "2022-06-12T19:42:59.921Z"
   },
   {
    "duration": 17,
    "start_time": "2022-06-12T19:42:59.928Z"
   },
   {
    "duration": 8,
    "start_time": "2022-06-12T19:42:59.946Z"
   },
   {
    "duration": 3641,
    "start_time": "2022-06-13T08:32:58.031Z"
   },
   {
    "duration": 9,
    "start_time": "2022-06-13T08:33:20.257Z"
   },
   {
    "duration": 7,
    "start_time": "2022-06-13T08:33:32.267Z"
   },
   {
    "duration": 8,
    "start_time": "2022-06-13T09:18:35.336Z"
   },
   {
    "duration": 928,
    "start_time": "2022-06-13T09:18:43.624Z"
   },
   {
    "duration": 1787,
    "start_time": "2022-06-13T09:18:44.553Z"
   },
   {
    "duration": 120,
    "start_time": "2022-06-13T09:18:46.341Z"
   },
   {
    "duration": 78,
    "start_time": "2022-06-13T09:18:46.463Z"
   },
   {
    "duration": 12,
    "start_time": "2022-06-13T09:18:46.542Z"
   },
   {
    "duration": 60,
    "start_time": "2022-06-13T09:18:46.555Z"
   },
   {
    "duration": 2,
    "start_time": "2022-06-13T09:18:46.616Z"
   },
   {
    "duration": 13,
    "start_time": "2022-06-13T09:18:46.619Z"
   },
   {
    "duration": 18,
    "start_time": "2022-06-13T09:18:46.633Z"
   },
   {
    "duration": 1,
    "start_time": "2022-06-13T09:18:46.654Z"
   },
   {
    "duration": 35,
    "start_time": "2022-06-13T09:18:46.657Z"
   },
   {
    "duration": 15,
    "start_time": "2022-06-13T09:18:46.694Z"
   },
   {
    "duration": 86,
    "start_time": "2022-06-13T09:18:46.711Z"
   },
   {
    "duration": 7,
    "start_time": "2022-06-13T09:18:46.799Z"
   },
   {
    "duration": 123,
    "start_time": "2022-06-13T09:18:46.807Z"
   },
   {
    "duration": 4,
    "start_time": "2022-06-13T09:18:46.932Z"
   },
   {
    "duration": 11,
    "start_time": "2022-06-13T09:18:46.938Z"
   },
   {
    "duration": 39,
    "start_time": "2022-06-13T09:18:46.951Z"
   },
   {
    "duration": 117,
    "start_time": "2022-06-13T09:18:46.992Z"
   },
   {
    "duration": 12,
    "start_time": "2022-06-13T09:18:47.111Z"
   },
   {
    "duration": 12,
    "start_time": "2022-06-13T09:18:47.125Z"
   },
   {
    "duration": 5,
    "start_time": "2022-06-13T09:18:47.138Z"
   },
   {
    "duration": 11,
    "start_time": "2022-06-13T09:18:47.145Z"
   },
   {
    "duration": 7,
    "start_time": "2022-06-13T09:18:47.157Z"
   },
   {
    "duration": 13,
    "start_time": "2022-06-13T09:18:47.165Z"
   },
   {
    "duration": 25,
    "start_time": "2022-06-13T09:18:47.179Z"
   },
   {
    "duration": 8,
    "start_time": "2022-06-13T09:18:47.205Z"
   },
   {
    "duration": 3,
    "start_time": "2022-06-13T09:18:47.216Z"
   },
   {
    "duration": 4,
    "start_time": "2022-06-13T09:18:47.220Z"
   },
   {
    "duration": 22,
    "start_time": "2022-06-13T09:18:47.226Z"
   },
   {
    "duration": 92,
    "start_time": "2022-06-13T09:18:47.249Z"
   },
   {
    "duration": 0,
    "start_time": "2022-06-13T09:18:47.343Z"
   },
   {
    "duration": 0,
    "start_time": "2022-06-13T09:18:47.345Z"
   },
   {
    "duration": 0,
    "start_time": "2022-06-13T09:18:47.346Z"
   },
   {
    "duration": 0,
    "start_time": "2022-06-13T09:18:47.347Z"
   },
   {
    "duration": 0,
    "start_time": "2022-06-13T09:18:47.348Z"
   },
   {
    "duration": 0,
    "start_time": "2022-06-13T09:18:47.348Z"
   },
   {
    "duration": 0,
    "start_time": "2022-06-13T09:18:47.349Z"
   },
   {
    "duration": 0,
    "start_time": "2022-06-13T09:18:47.350Z"
   },
   {
    "duration": 0,
    "start_time": "2022-06-13T09:18:47.351Z"
   },
   {
    "duration": 0,
    "start_time": "2022-06-13T09:18:47.351Z"
   },
   {
    "duration": 0,
    "start_time": "2022-06-13T09:18:47.352Z"
   },
   {
    "duration": 0,
    "start_time": "2022-06-13T09:18:47.353Z"
   },
   {
    "duration": 3,
    "start_time": "2022-06-13T09:19:59.903Z"
   },
   {
    "duration": 2,
    "start_time": "2022-06-13T09:21:31.575Z"
   },
   {
    "duration": 3,
    "start_time": "2022-06-13T09:22:43.766Z"
   },
   {
    "duration": 25,
    "start_time": "2022-06-13T09:22:56.371Z"
   },
   {
    "duration": 4,
    "start_time": "2022-06-13T09:23:18.259Z"
   },
   {
    "duration": 27,
    "start_time": "2022-06-13T09:23:20.596Z"
   },
   {
    "duration": 22,
    "start_time": "2022-06-13T10:13:58.799Z"
   },
   {
    "duration": 3,
    "start_time": "2022-06-13T10:14:12.869Z"
   },
   {
    "duration": 20,
    "start_time": "2022-06-13T10:14:15.195Z"
   },
   {
    "duration": 3,
    "start_time": "2022-06-13T10:14:50.454Z"
   },
   {
    "duration": 28,
    "start_time": "2022-06-13T10:14:52.157Z"
   },
   {
    "duration": 4,
    "start_time": "2022-06-13T10:15:15.398Z"
   },
   {
    "duration": 30,
    "start_time": "2022-06-13T10:15:17.059Z"
   },
   {
    "duration": 3,
    "start_time": "2022-06-13T10:17:04.353Z"
   },
   {
    "duration": 19,
    "start_time": "2022-06-13T10:17:05.123Z"
   },
   {
    "duration": 4,
    "start_time": "2022-06-13T10:24:58.102Z"
   },
   {
    "duration": 4,
    "start_time": "2022-06-13T10:25:13.193Z"
   },
   {
    "duration": 21,
    "start_time": "2022-06-13T10:25:14.772Z"
   },
   {
    "duration": 3818,
    "start_time": "2022-06-13T10:25:21.248Z"
   },
   {
    "duration": 8,
    "start_time": "2022-06-13T10:27:10.490Z"
   },
   {
    "duration": 3,
    "start_time": "2022-06-13T10:27:46.284Z"
   },
   {
    "duration": 12,
    "start_time": "2022-06-13T10:27:46.859Z"
   },
   {
    "duration": 17,
    "start_time": "2022-06-13T10:27:59.527Z"
   },
   {
    "duration": 3,
    "start_time": "2022-06-13T10:29:03.468Z"
   },
   {
    "duration": 28,
    "start_time": "2022-06-13T10:30:05.592Z"
   },
   {
    "duration": 5,
    "start_time": "2022-06-13T10:30:20.650Z"
   },
   {
    "duration": 36,
    "start_time": "2022-06-13T10:31:11.497Z"
   },
   {
    "duration": 3,
    "start_time": "2022-06-13T10:38:58.333Z"
   },
   {
    "duration": 20,
    "start_time": "2022-06-13T10:38:59.312Z"
   },
   {
    "duration": 2,
    "start_time": "2022-06-13T10:39:56.042Z"
   },
   {
    "duration": 2,
    "start_time": "2022-06-13T10:40:12.532Z"
   },
   {
    "duration": 21,
    "start_time": "2022-06-13T10:40:13.589Z"
   },
   {
    "duration": 3,
    "start_time": "2022-06-13T10:40:20.932Z"
   },
   {
    "duration": 20,
    "start_time": "2022-06-13T10:40:21.782Z"
   },
   {
    "duration": 18,
    "start_time": "2022-06-13T10:40:38.959Z"
   },
   {
    "duration": 3,
    "start_time": "2022-06-13T10:40:54.987Z"
   },
   {
    "duration": 21,
    "start_time": "2022-06-13T10:41:00.082Z"
   },
   {
    "duration": 3,
    "start_time": "2022-06-13T10:41:07.637Z"
   },
   {
    "duration": 21,
    "start_time": "2022-06-13T10:41:08.437Z"
   },
   {
    "duration": 3899,
    "start_time": "2022-06-13T10:41:17.612Z"
   },
   {
    "duration": 3,
    "start_time": "2022-06-13T10:41:29.647Z"
   },
   {
    "duration": 3,
    "start_time": "2022-06-13T10:41:31.408Z"
   },
   {
    "duration": 5,
    "start_time": "2022-06-13T10:41:35.199Z"
   },
   {
    "duration": 4,
    "start_time": "2022-06-13T10:41:40.049Z"
   },
   {
    "duration": 9,
    "start_time": "2022-06-13T10:42:48.557Z"
   },
   {
    "duration": 4,
    "start_time": "2022-06-13T10:43:11.967Z"
   },
   {
    "duration": 10,
    "start_time": "2022-06-13T10:43:36.292Z"
   },
   {
    "duration": 8,
    "start_time": "2022-06-13T10:44:13.342Z"
   },
   {
    "duration": 6,
    "start_time": "2022-06-13T10:44:17.747Z"
   },
   {
    "duration": 4,
    "start_time": "2022-06-13T10:45:22.216Z"
   },
   {
    "duration": 3,
    "start_time": "2022-06-13T10:45:23.536Z"
   },
   {
    "duration": 22,
    "start_time": "2022-06-13T10:45:24.298Z"
   },
   {
    "duration": 3,
    "start_time": "2022-06-13T10:46:03.346Z"
   },
   {
    "duration": 8,
    "start_time": "2022-06-13T10:46:08.145Z"
   },
   {
    "duration": 9,
    "start_time": "2022-06-13T10:46:30.812Z"
   },
   {
    "duration": 20,
    "start_time": "2022-06-13T10:46:38.822Z"
   },
   {
    "duration": 3,
    "start_time": "2022-06-13T10:47:36.242Z"
   },
   {
    "duration": 19,
    "start_time": "2022-06-13T10:47:40.957Z"
   },
   {
    "duration": 3,
    "start_time": "2022-06-13T10:48:12.262Z"
   },
   {
    "duration": 23,
    "start_time": "2022-06-13T10:48:15.192Z"
   },
   {
    "duration": 4,
    "start_time": "2022-06-13T10:50:23.218Z"
   },
   {
    "duration": 23,
    "start_time": "2022-06-13T10:50:27.828Z"
   },
   {
    "duration": 3,
    "start_time": "2022-06-13T10:50:39.808Z"
   },
   {
    "duration": 15,
    "start_time": "2022-06-13T10:50:43.397Z"
   },
   {
    "duration": 12,
    "start_time": "2022-06-13T10:51:57.218Z"
   },
   {
    "duration": 10,
    "start_time": "2022-06-13T10:53:11.188Z"
   },
   {
    "duration": 12050,
    "start_time": "2022-06-13T10:54:08.816Z"
   },
   {
    "duration": 8,
    "start_time": "2022-06-13T10:54:28.918Z"
   },
   {
    "duration": 4,
    "start_time": "2022-06-13T10:54:32.048Z"
   },
   {
    "duration": 5,
    "start_time": "2022-06-13T10:54:32.697Z"
   },
   {
    "duration": 9,
    "start_time": "2022-06-13T10:54:48.048Z"
   },
   {
    "duration": 7,
    "start_time": "2022-06-13T10:54:53.813Z"
   },
   {
    "duration": 3,
    "start_time": "2022-06-13T10:56:13.960Z"
   },
   {
    "duration": 3827,
    "start_time": "2022-06-13T10:56:51.013Z"
   },
   {
    "duration": 3,
    "start_time": "2022-06-13T10:56:59.003Z"
   },
   {
    "duration": 5,
    "start_time": "2022-06-13T10:56:59.573Z"
   },
   {
    "duration": 26,
    "start_time": "2022-06-13T10:58:02.706Z"
   },
   {
    "duration": 5,
    "start_time": "2022-06-13T11:07:28.629Z"
   },
   {
    "duration": 14,
    "start_time": "2022-06-13T11:08:22.572Z"
   },
   {
    "duration": 27,
    "start_time": "2022-06-13T11:17:03.534Z"
   },
   {
    "duration": 3,
    "start_time": "2022-06-13T11:17:54.753Z"
   },
   {
    "duration": 917,
    "start_time": "2022-06-13T11:18:11.828Z"
   },
   {
    "duration": 517,
    "start_time": "2022-06-13T11:18:12.747Z"
   },
   {
    "duration": 138,
    "start_time": "2022-06-13T11:18:13.265Z"
   },
   {
    "duration": 55,
    "start_time": "2022-06-13T11:18:13.404Z"
   },
   {
    "duration": 32,
    "start_time": "2022-06-13T11:18:13.460Z"
   },
   {
    "duration": 31,
    "start_time": "2022-06-13T11:18:13.493Z"
   },
   {
    "duration": 2,
    "start_time": "2022-06-13T11:18:13.526Z"
   },
   {
    "duration": 12,
    "start_time": "2022-06-13T11:18:13.530Z"
   },
   {
    "duration": 18,
    "start_time": "2022-06-13T11:18:13.544Z"
   },
   {
    "duration": 2,
    "start_time": "2022-06-13T11:18:13.592Z"
   },
   {
    "duration": 8,
    "start_time": "2022-06-13T11:18:13.596Z"
   },
   {
    "duration": 11,
    "start_time": "2022-06-13T11:18:13.605Z"
   },
   {
    "duration": 76,
    "start_time": "2022-06-13T11:18:13.617Z"
   },
   {
    "duration": 96,
    "start_time": "2022-06-13T11:18:13.695Z"
   },
   {
    "duration": 99,
    "start_time": "2022-06-13T11:18:13.793Z"
   },
   {
    "duration": 4,
    "start_time": "2022-06-13T11:18:13.894Z"
   },
   {
    "duration": 7,
    "start_time": "2022-06-13T11:18:13.900Z"
   },
   {
    "duration": 7,
    "start_time": "2022-06-13T11:18:13.908Z"
   },
   {
    "duration": 84,
    "start_time": "2022-06-13T11:18:13.916Z"
   },
   {
    "duration": 92,
    "start_time": "2022-06-13T11:18:14.002Z"
   },
   {
    "duration": 7,
    "start_time": "2022-06-13T11:18:14.096Z"
   },
   {
    "duration": 2,
    "start_time": "2022-06-13T11:18:14.104Z"
   },
   {
    "duration": 6,
    "start_time": "2022-06-13T11:18:14.108Z"
   },
   {
    "duration": 5,
    "start_time": "2022-06-13T11:18:14.115Z"
   },
   {
    "duration": 9,
    "start_time": "2022-06-13T11:18:14.121Z"
   },
   {
    "duration": 5,
    "start_time": "2022-06-13T11:18:14.131Z"
   },
   {
    "duration": 7,
    "start_time": "2022-06-13T11:18:14.137Z"
   },
   {
    "duration": 5,
    "start_time": "2022-06-13T11:18:14.146Z"
   },
   {
    "duration": 5,
    "start_time": "2022-06-13T11:18:14.152Z"
   },
   {
    "duration": 124,
    "start_time": "2022-06-13T11:18:14.158Z"
   },
   {
    "duration": 0,
    "start_time": "2022-06-13T11:18:14.284Z"
   },
   {
    "duration": 0,
    "start_time": "2022-06-13T11:18:14.290Z"
   },
   {
    "duration": 0,
    "start_time": "2022-06-13T11:18:14.291Z"
   },
   {
    "duration": 0,
    "start_time": "2022-06-13T11:18:14.292Z"
   },
   {
    "duration": 0,
    "start_time": "2022-06-13T11:18:14.293Z"
   },
   {
    "duration": 0,
    "start_time": "2022-06-13T11:18:14.294Z"
   },
   {
    "duration": 0,
    "start_time": "2022-06-13T11:18:14.295Z"
   },
   {
    "duration": 0,
    "start_time": "2022-06-13T11:18:14.295Z"
   },
   {
    "duration": 0,
    "start_time": "2022-06-13T11:18:14.297Z"
   },
   {
    "duration": 0,
    "start_time": "2022-06-13T11:18:14.297Z"
   },
   {
    "duration": 0,
    "start_time": "2022-06-13T11:18:14.298Z"
   },
   {
    "duration": 0,
    "start_time": "2022-06-13T11:18:14.299Z"
   },
   {
    "duration": 0,
    "start_time": "2022-06-13T11:18:14.301Z"
   },
   {
    "duration": 0,
    "start_time": "2022-06-13T11:18:14.301Z"
   },
   {
    "duration": 0,
    "start_time": "2022-06-13T11:18:14.302Z"
   },
   {
    "duration": 0,
    "start_time": "2022-06-13T11:18:14.303Z"
   },
   {
    "duration": 0,
    "start_time": "2022-06-13T11:18:14.304Z"
   },
   {
    "duration": 0,
    "start_time": "2022-06-13T11:18:14.305Z"
   },
   {
    "duration": 974,
    "start_time": "2022-06-13T11:19:30.672Z"
   },
   {
    "duration": 581,
    "start_time": "2022-06-13T11:19:31.647Z"
   },
   {
    "duration": 129,
    "start_time": "2022-06-13T11:19:32.229Z"
   },
   {
    "duration": 83,
    "start_time": "2022-06-13T11:19:32.360Z"
   },
   {
    "duration": 11,
    "start_time": "2022-06-13T11:19:32.445Z"
   },
   {
    "duration": 58,
    "start_time": "2022-06-13T11:19:32.457Z"
   },
   {
    "duration": 2,
    "start_time": "2022-06-13T11:19:32.517Z"
   },
   {
    "duration": 30,
    "start_time": "2022-06-13T11:19:32.520Z"
   },
   {
    "duration": 27,
    "start_time": "2022-06-13T11:19:32.551Z"
   },
   {
    "duration": 2,
    "start_time": "2022-06-13T11:19:32.591Z"
   },
   {
    "duration": 27,
    "start_time": "2022-06-13T11:19:32.595Z"
   },
   {
    "duration": 31,
    "start_time": "2022-06-13T11:19:32.623Z"
   },
   {
    "duration": 37,
    "start_time": "2022-06-13T11:19:32.656Z"
   },
   {
    "duration": 11,
    "start_time": "2022-06-13T11:19:32.694Z"
   },
   {
    "duration": 103,
    "start_time": "2022-06-13T11:19:32.801Z"
   },
   {
    "duration": 5,
    "start_time": "2022-06-13T11:19:32.905Z"
   },
   {
    "duration": 9,
    "start_time": "2022-06-13T11:19:32.911Z"
   },
   {
    "duration": 8,
    "start_time": "2022-06-13T11:19:32.922Z"
   },
   {
    "duration": 163,
    "start_time": "2022-06-13T11:19:32.932Z"
   },
   {
    "duration": 4,
    "start_time": "2022-06-13T11:19:33.097Z"
   },
   {
    "duration": 7,
    "start_time": "2022-06-13T11:19:33.102Z"
   },
   {
    "duration": 3,
    "start_time": "2022-06-13T11:19:33.110Z"
   },
   {
    "duration": 6,
    "start_time": "2022-06-13T11:19:33.115Z"
   },
   {
    "duration": 5,
    "start_time": "2022-06-13T11:19:33.123Z"
   },
   {
    "duration": 8,
    "start_time": "2022-06-13T11:19:33.129Z"
   },
   {
    "duration": 6,
    "start_time": "2022-06-13T11:19:33.139Z"
   },
   {
    "duration": 7,
    "start_time": "2022-06-13T11:19:33.146Z"
   },
   {
    "duration": 4,
    "start_time": "2022-06-13T11:19:33.156Z"
   },
   {
    "duration": 5,
    "start_time": "2022-06-13T11:19:33.161Z"
   },
   {
    "duration": 116,
    "start_time": "2022-06-13T11:19:33.167Z"
   },
   {
    "duration": 0,
    "start_time": "2022-06-13T11:19:33.284Z"
   },
   {
    "duration": 0,
    "start_time": "2022-06-13T11:19:33.285Z"
   },
   {
    "duration": 0,
    "start_time": "2022-06-13T11:19:33.291Z"
   },
   {
    "duration": 0,
    "start_time": "2022-06-13T11:19:33.292Z"
   },
   {
    "duration": 0,
    "start_time": "2022-06-13T11:19:33.293Z"
   },
   {
    "duration": 0,
    "start_time": "2022-06-13T11:19:33.294Z"
   },
   {
    "duration": 0,
    "start_time": "2022-06-13T11:19:33.295Z"
   },
   {
    "duration": 0,
    "start_time": "2022-06-13T11:19:33.296Z"
   },
   {
    "duration": 0,
    "start_time": "2022-06-13T11:19:33.297Z"
   },
   {
    "duration": 0,
    "start_time": "2022-06-13T11:19:33.297Z"
   },
   {
    "duration": 0,
    "start_time": "2022-06-13T11:19:33.298Z"
   },
   {
    "duration": 0,
    "start_time": "2022-06-13T11:19:33.299Z"
   },
   {
    "duration": 0,
    "start_time": "2022-06-13T11:19:33.300Z"
   },
   {
    "duration": 0,
    "start_time": "2022-06-13T11:19:33.301Z"
   },
   {
    "duration": 0,
    "start_time": "2022-06-13T11:19:33.302Z"
   },
   {
    "duration": 0,
    "start_time": "2022-06-13T11:19:33.303Z"
   },
   {
    "duration": 0,
    "start_time": "2022-06-13T11:19:33.303Z"
   },
   {
    "duration": 0,
    "start_time": "2022-06-13T11:19:33.304Z"
   },
   {
    "duration": 907,
    "start_time": "2022-06-13T11:21:21.038Z"
   },
   {
    "duration": 563,
    "start_time": "2022-06-13T11:21:21.947Z"
   },
   {
    "duration": 129,
    "start_time": "2022-06-13T11:21:22.511Z"
   },
   {
    "duration": 86,
    "start_time": "2022-06-13T11:21:22.642Z"
   },
   {
    "duration": 12,
    "start_time": "2022-06-13T11:21:22.730Z"
   },
   {
    "duration": 66,
    "start_time": "2022-06-13T11:21:22.743Z"
   },
   {
    "duration": 2,
    "start_time": "2022-06-13T11:21:22.811Z"
   },
   {
    "duration": 13,
    "start_time": "2022-06-13T11:21:22.815Z"
   },
   {
    "duration": 20,
    "start_time": "2022-06-13T11:21:22.830Z"
   },
   {
    "duration": 3,
    "start_time": "2022-06-13T11:21:22.852Z"
   },
   {
    "duration": 36,
    "start_time": "2022-06-13T11:21:22.857Z"
   },
   {
    "duration": 22,
    "start_time": "2022-06-13T11:21:22.894Z"
   },
   {
    "duration": 33,
    "start_time": "2022-06-13T11:21:22.918Z"
   },
   {
    "duration": 9,
    "start_time": "2022-06-13T11:21:22.991Z"
   },
   {
    "duration": 9,
    "start_time": "2022-06-13T11:21:23.092Z"
   },
   {
    "duration": 5,
    "start_time": "2022-06-13T11:21:23.102Z"
   },
   {
    "duration": 11,
    "start_time": "2022-06-13T11:21:23.108Z"
   },
   {
    "duration": 9,
    "start_time": "2022-06-13T11:21:23.120Z"
   },
   {
    "duration": 162,
    "start_time": "2022-06-13T11:21:23.130Z"
   },
   {
    "duration": 5,
    "start_time": "2022-06-13T11:21:23.293Z"
   },
   {
    "duration": 17,
    "start_time": "2022-06-13T11:21:23.299Z"
   },
   {
    "duration": 2,
    "start_time": "2022-06-13T11:21:23.317Z"
   },
   {
    "duration": 6,
    "start_time": "2022-06-13T11:21:23.321Z"
   },
   {
    "duration": 6,
    "start_time": "2022-06-13T11:21:23.329Z"
   },
   {
    "duration": 7,
    "start_time": "2022-06-13T11:21:23.336Z"
   },
   {
    "duration": 4,
    "start_time": "2022-06-13T11:21:23.345Z"
   },
   {
    "duration": 6,
    "start_time": "2022-06-13T11:21:23.350Z"
   },
   {
    "duration": 2,
    "start_time": "2022-06-13T11:21:23.359Z"
   },
   {
    "duration": 4,
    "start_time": "2022-06-13T11:21:23.363Z"
   },
   {
    "duration": 116,
    "start_time": "2022-06-13T11:21:23.369Z"
   },
   {
    "duration": 0,
    "start_time": "2022-06-13T11:21:23.486Z"
   },
   {
    "duration": 0,
    "start_time": "2022-06-13T11:21:23.491Z"
   },
   {
    "duration": 0,
    "start_time": "2022-06-13T11:21:23.492Z"
   },
   {
    "duration": 0,
    "start_time": "2022-06-13T11:21:23.493Z"
   },
   {
    "duration": 0,
    "start_time": "2022-06-13T11:21:23.494Z"
   },
   {
    "duration": 0,
    "start_time": "2022-06-13T11:21:23.495Z"
   },
   {
    "duration": 0,
    "start_time": "2022-06-13T11:21:23.496Z"
   },
   {
    "duration": 0,
    "start_time": "2022-06-13T11:21:23.496Z"
   },
   {
    "duration": 0,
    "start_time": "2022-06-13T11:21:23.497Z"
   },
   {
    "duration": 0,
    "start_time": "2022-06-13T11:21:23.499Z"
   },
   {
    "duration": 0,
    "start_time": "2022-06-13T11:21:23.499Z"
   },
   {
    "duration": 0,
    "start_time": "2022-06-13T11:21:23.500Z"
   },
   {
    "duration": 0,
    "start_time": "2022-06-13T11:21:23.501Z"
   },
   {
    "duration": 0,
    "start_time": "2022-06-13T11:21:23.502Z"
   },
   {
    "duration": 0,
    "start_time": "2022-06-13T11:21:23.503Z"
   },
   {
    "duration": 0,
    "start_time": "2022-06-13T11:21:23.504Z"
   },
   {
    "duration": 0,
    "start_time": "2022-06-13T11:21:23.505Z"
   },
   {
    "duration": 0,
    "start_time": "2022-06-13T11:21:23.506Z"
   },
   {
    "duration": 9,
    "start_time": "2022-06-13T11:27:59.024Z"
   },
   {
    "duration": 926,
    "start_time": "2022-06-13T11:28:30.816Z"
   },
   {
    "duration": 528,
    "start_time": "2022-06-13T11:28:31.744Z"
   },
   {
    "duration": 132,
    "start_time": "2022-06-13T11:28:32.273Z"
   },
   {
    "duration": 56,
    "start_time": "2022-06-13T11:28:32.407Z"
   },
   {
    "duration": 12,
    "start_time": "2022-06-13T11:28:32.491Z"
   },
   {
    "duration": 30,
    "start_time": "2022-06-13T11:28:32.504Z"
   },
   {
    "duration": 2,
    "start_time": "2022-06-13T11:28:32.535Z"
   },
   {
    "duration": 11,
    "start_time": "2022-06-13T11:28:32.538Z"
   },
   {
    "duration": 49,
    "start_time": "2022-06-13T11:28:32.551Z"
   },
   {
    "duration": 2,
    "start_time": "2022-06-13T11:28:32.602Z"
   },
   {
    "duration": 9,
    "start_time": "2022-06-13T11:28:32.605Z"
   },
   {
    "duration": 12,
    "start_time": "2022-06-13T11:28:32.615Z"
   },
   {
    "duration": 66,
    "start_time": "2022-06-13T11:28:32.628Z"
   },
   {
    "duration": 95,
    "start_time": "2022-06-13T11:28:32.697Z"
   },
   {
    "duration": 112,
    "start_time": "2022-06-13T11:28:32.796Z"
   },
   {
    "duration": 4,
    "start_time": "2022-06-13T11:28:32.909Z"
   },
   {
    "duration": 8,
    "start_time": "2022-06-13T11:28:32.915Z"
   },
   {
    "duration": 8,
    "start_time": "2022-06-13T11:28:32.924Z"
   },
   {
    "duration": 102,
    "start_time": "2022-06-13T11:28:32.991Z"
   },
   {
    "duration": 5,
    "start_time": "2022-06-13T11:28:33.095Z"
   },
   {
    "duration": 7,
    "start_time": "2022-06-13T11:28:33.101Z"
   },
   {
    "duration": 3,
    "start_time": "2022-06-13T11:28:33.109Z"
   },
   {
    "duration": 6,
    "start_time": "2022-06-13T11:28:33.113Z"
   },
   {
    "duration": 5,
    "start_time": "2022-06-13T11:28:33.120Z"
   },
   {
    "duration": 8,
    "start_time": "2022-06-13T11:28:33.126Z"
   },
   {
    "duration": 5,
    "start_time": "2022-06-13T11:28:33.135Z"
   },
   {
    "duration": 7,
    "start_time": "2022-06-13T11:28:33.141Z"
   },
   {
    "duration": 3,
    "start_time": "2022-06-13T11:28:33.150Z"
   },
   {
    "duration": 4,
    "start_time": "2022-06-13T11:28:33.155Z"
   },
   {
    "duration": 116,
    "start_time": "2022-06-13T11:28:33.161Z"
   },
   {
    "duration": 0,
    "start_time": "2022-06-13T11:28:33.278Z"
   },
   {
    "duration": 0,
    "start_time": "2022-06-13T11:28:33.279Z"
   },
   {
    "duration": 0,
    "start_time": "2022-06-13T11:28:33.280Z"
   },
   {
    "duration": 0,
    "start_time": "2022-06-13T11:28:33.282Z"
   },
   {
    "duration": 0,
    "start_time": "2022-06-13T11:28:33.283Z"
   },
   {
    "duration": 0,
    "start_time": "2022-06-13T11:28:33.284Z"
   },
   {
    "duration": 0,
    "start_time": "2022-06-13T11:28:33.291Z"
   },
   {
    "duration": 0,
    "start_time": "2022-06-13T11:28:33.292Z"
   },
   {
    "duration": 0,
    "start_time": "2022-06-13T11:28:33.293Z"
   },
   {
    "duration": 0,
    "start_time": "2022-06-13T11:28:33.295Z"
   },
   {
    "duration": 0,
    "start_time": "2022-06-13T11:28:33.296Z"
   },
   {
    "duration": 0,
    "start_time": "2022-06-13T11:28:33.297Z"
   },
   {
    "duration": 0,
    "start_time": "2022-06-13T11:28:33.298Z"
   },
   {
    "duration": 0,
    "start_time": "2022-06-13T11:28:33.300Z"
   },
   {
    "duration": 0,
    "start_time": "2022-06-13T11:28:33.301Z"
   },
   {
    "duration": 0,
    "start_time": "2022-06-13T11:28:33.302Z"
   },
   {
    "duration": 0,
    "start_time": "2022-06-13T11:28:33.303Z"
   },
   {
    "duration": 0,
    "start_time": "2022-06-13T11:28:33.305Z"
   },
   {
    "duration": 971,
    "start_time": "2022-06-13T12:20:10.701Z"
   },
   {
    "duration": 608,
    "start_time": "2022-06-13T12:20:11.674Z"
   },
   {
    "duration": 137,
    "start_time": "2022-06-13T12:20:12.283Z"
   },
   {
    "duration": 77,
    "start_time": "2022-06-13T12:20:12.421Z"
   },
   {
    "duration": 12,
    "start_time": "2022-06-13T12:20:12.506Z"
   },
   {
    "duration": 31,
    "start_time": "2022-06-13T12:20:12.519Z"
   },
   {
    "duration": 2,
    "start_time": "2022-06-13T12:20:12.551Z"
   },
   {
    "duration": 49,
    "start_time": "2022-06-13T12:20:12.554Z"
   },
   {
    "duration": 18,
    "start_time": "2022-06-13T12:20:12.605Z"
   },
   {
    "duration": 2,
    "start_time": "2022-06-13T12:20:12.624Z"
   },
   {
    "duration": 11,
    "start_time": "2022-06-13T12:20:12.627Z"
   },
   {
    "duration": 10,
    "start_time": "2022-06-13T12:20:12.639Z"
   },
   {
    "duration": 68,
    "start_time": "2022-06-13T12:20:12.650Z"
   },
   {
    "duration": 22,
    "start_time": "2022-06-13T12:20:12.797Z"
   },
   {
    "duration": 30,
    "start_time": "2022-06-13T12:20:12.891Z"
   },
   {
    "duration": 5,
    "start_time": "2022-06-13T12:20:12.923Z"
   },
   {
    "duration": 9,
    "start_time": "2022-06-13T12:20:12.930Z"
   },
   {
    "duration": 9,
    "start_time": "2022-06-13T12:20:12.940Z"
   },
   {
    "duration": 159,
    "start_time": "2022-06-13T12:20:12.951Z"
   },
   {
    "duration": 10,
    "start_time": "2022-06-13T12:20:13.112Z"
   },
   {
    "duration": 17,
    "start_time": "2022-06-13T12:20:13.124Z"
   },
   {
    "duration": 3,
    "start_time": "2022-06-13T12:20:13.142Z"
   },
   {
    "duration": 7,
    "start_time": "2022-06-13T12:20:13.146Z"
   },
   {
    "duration": 10,
    "start_time": "2022-06-13T12:20:13.154Z"
   },
   {
    "duration": 6,
    "start_time": "2022-06-13T12:20:13.166Z"
   },
   {
    "duration": 5,
    "start_time": "2022-06-13T12:20:13.173Z"
   },
   {
    "duration": 11,
    "start_time": "2022-06-13T12:20:13.179Z"
   },
   {
    "duration": 12,
    "start_time": "2022-06-13T12:20:13.198Z"
   },
   {
    "duration": 5,
    "start_time": "2022-06-13T12:20:13.211Z"
   },
   {
    "duration": 141,
    "start_time": "2022-06-13T12:20:13.217Z"
   },
   {
    "duration": 0,
    "start_time": "2022-06-13T12:20:13.360Z"
   },
   {
    "duration": 0,
    "start_time": "2022-06-13T12:20:13.361Z"
   },
   {
    "duration": 0,
    "start_time": "2022-06-13T12:20:13.362Z"
   },
   {
    "duration": 0,
    "start_time": "2022-06-13T12:20:13.363Z"
   },
   {
    "duration": 0,
    "start_time": "2022-06-13T12:20:13.364Z"
   },
   {
    "duration": 0,
    "start_time": "2022-06-13T12:20:13.365Z"
   },
   {
    "duration": 1,
    "start_time": "2022-06-13T12:20:13.366Z"
   },
   {
    "duration": 0,
    "start_time": "2022-06-13T12:20:13.368Z"
   },
   {
    "duration": 0,
    "start_time": "2022-06-13T12:20:13.370Z"
   },
   {
    "duration": 0,
    "start_time": "2022-06-13T12:20:13.391Z"
   },
   {
    "duration": 0,
    "start_time": "2022-06-13T12:20:13.392Z"
   },
   {
    "duration": 0,
    "start_time": "2022-06-13T12:20:13.393Z"
   },
   {
    "duration": 0,
    "start_time": "2022-06-13T12:20:13.394Z"
   },
   {
    "duration": 0,
    "start_time": "2022-06-13T12:20:13.397Z"
   },
   {
    "duration": 0,
    "start_time": "2022-06-13T12:20:13.400Z"
   },
   {
    "duration": 0,
    "start_time": "2022-06-13T12:20:13.402Z"
   },
   {
    "duration": 0,
    "start_time": "2022-06-13T12:20:13.402Z"
   },
   {
    "duration": 0,
    "start_time": "2022-06-13T12:20:13.403Z"
   },
   {
    "duration": 4,
    "start_time": "2022-06-13T12:20:38.155Z"
   },
   {
    "duration": 928,
    "start_time": "2022-06-13T12:20:44.341Z"
   },
   {
    "duration": 568,
    "start_time": "2022-06-13T12:20:45.270Z"
   },
   {
    "duration": 133,
    "start_time": "2022-06-13T12:20:45.839Z"
   },
   {
    "duration": 77,
    "start_time": "2022-06-13T12:20:45.974Z"
   },
   {
    "duration": 11,
    "start_time": "2022-06-13T12:20:46.052Z"
   },
   {
    "duration": 55,
    "start_time": "2022-06-13T12:20:46.065Z"
   },
   {
    "duration": 2,
    "start_time": "2022-06-13T12:20:46.121Z"
   },
   {
    "duration": 12,
    "start_time": "2022-06-13T12:20:46.125Z"
   },
   {
    "duration": 20,
    "start_time": "2022-06-13T12:20:46.139Z"
   },
   {
    "duration": 2,
    "start_time": "2022-06-13T12:20:46.161Z"
   },
   {
    "duration": 12,
    "start_time": "2022-06-13T12:20:46.195Z"
   },
   {
    "duration": 14,
    "start_time": "2022-06-13T12:20:46.210Z"
   },
   {
    "duration": 71,
    "start_time": "2022-06-13T12:20:46.225Z"
   },
   {
    "duration": 94,
    "start_time": "2022-06-13T12:20:46.298Z"
   },
   {
    "duration": 27,
    "start_time": "2022-06-13T12:20:46.394Z"
   },
   {
    "duration": 5,
    "start_time": "2022-06-13T12:20:46.423Z"
   },
   {
    "duration": 15,
    "start_time": "2022-06-13T12:20:46.430Z"
   },
   {
    "duration": 44,
    "start_time": "2022-06-13T12:20:46.447Z"
   },
   {
    "duration": 4,
    "start_time": "2022-06-13T12:20:46.502Z"
   },
   {
    "duration": 104,
    "start_time": "2022-06-13T12:20:46.507Z"
   },
   {
    "duration": 11,
    "start_time": "2022-06-13T12:20:46.614Z"
   },
   {
    "duration": 2,
    "start_time": "2022-06-13T12:20:46.627Z"
   },
   {
    "duration": 10,
    "start_time": "2022-06-13T12:20:46.631Z"
   },
   {
    "duration": 6,
    "start_time": "2022-06-13T12:20:46.643Z"
   },
   {
    "duration": 4,
    "start_time": "2022-06-13T12:20:46.650Z"
   },
   {
    "duration": 6,
    "start_time": "2022-06-13T12:20:46.656Z"
   },
   {
    "duration": 8,
    "start_time": "2022-06-13T12:20:46.663Z"
   },
   {
    "duration": 2,
    "start_time": "2022-06-13T12:20:46.675Z"
   },
   {
    "duration": 3,
    "start_time": "2022-06-13T12:20:46.679Z"
   },
   {
    "duration": 103,
    "start_time": "2022-06-13T12:20:46.684Z"
   },
   {
    "duration": 0,
    "start_time": "2022-06-13T12:20:46.788Z"
   },
   {
    "duration": 0,
    "start_time": "2022-06-13T12:20:46.791Z"
   },
   {
    "duration": 0,
    "start_time": "2022-06-13T12:20:46.792Z"
   },
   {
    "duration": 0,
    "start_time": "2022-06-13T12:20:46.793Z"
   },
   {
    "duration": 0,
    "start_time": "2022-06-13T12:20:46.795Z"
   },
   {
    "duration": 0,
    "start_time": "2022-06-13T12:20:46.800Z"
   },
   {
    "duration": 0,
    "start_time": "2022-06-13T12:20:46.800Z"
   },
   {
    "duration": 0,
    "start_time": "2022-06-13T12:20:46.801Z"
   },
   {
    "duration": 0,
    "start_time": "2022-06-13T12:20:46.802Z"
   },
   {
    "duration": 0,
    "start_time": "2022-06-13T12:20:46.802Z"
   },
   {
    "duration": 0,
    "start_time": "2022-06-13T12:20:46.804Z"
   },
   {
    "duration": 0,
    "start_time": "2022-06-13T12:20:46.805Z"
   },
   {
    "duration": 0,
    "start_time": "2022-06-13T12:20:46.808Z"
   },
   {
    "duration": 0,
    "start_time": "2022-06-13T12:20:46.810Z"
   },
   {
    "duration": 0,
    "start_time": "2022-06-13T12:20:46.811Z"
   },
   {
    "duration": 0,
    "start_time": "2022-06-13T12:20:46.812Z"
   },
   {
    "duration": 0,
    "start_time": "2022-06-13T12:20:46.813Z"
   },
   {
    "duration": 0,
    "start_time": "2022-06-13T12:20:46.814Z"
   },
   {
    "duration": 3,
    "start_time": "2022-06-13T12:21:09.862Z"
   },
   {
    "duration": 25,
    "start_time": "2022-06-13T12:21:13.816Z"
   },
   {
    "duration": 3,
    "start_time": "2022-06-13T12:22:40.725Z"
   },
   {
    "duration": 24,
    "start_time": "2022-06-13T12:22:44.345Z"
   },
   {
    "duration": 8,
    "start_time": "2022-06-13T12:24:05.776Z"
   },
   {
    "duration": 41,
    "start_time": "2022-06-13T12:24:09.414Z"
   },
   {
    "duration": 982,
    "start_time": "2022-06-13T12:24:20.677Z"
   },
   {
    "duration": 581,
    "start_time": "2022-06-13T12:24:21.661Z"
   },
   {
    "duration": 174,
    "start_time": "2022-06-13T12:24:22.244Z"
   },
   {
    "duration": 94,
    "start_time": "2022-06-13T12:24:22.421Z"
   },
   {
    "duration": 14,
    "start_time": "2022-06-13T12:24:22.516Z"
   },
   {
    "duration": 77,
    "start_time": "2022-06-13T12:24:22.532Z"
   },
   {
    "duration": 6,
    "start_time": "2022-06-13T12:24:22.611Z"
   },
   {
    "duration": 14,
    "start_time": "2022-06-13T12:24:22.618Z"
   },
   {
    "duration": 21,
    "start_time": "2022-06-13T12:24:22.634Z"
   },
   {
    "duration": 2,
    "start_time": "2022-06-13T12:24:22.658Z"
   },
   {
    "duration": 36,
    "start_time": "2022-06-13T12:24:22.662Z"
   },
   {
    "duration": 16,
    "start_time": "2022-06-13T12:24:22.700Z"
   },
   {
    "duration": 74,
    "start_time": "2022-06-13T12:24:22.718Z"
   },
   {
    "duration": 99,
    "start_time": "2022-06-13T12:24:22.794Z"
   },
   {
    "duration": 16,
    "start_time": "2022-06-13T12:24:22.895Z"
   },
   {
    "duration": 10,
    "start_time": "2022-06-13T12:24:22.913Z"
   },
   {
    "duration": 12,
    "start_time": "2022-06-13T12:24:22.925Z"
   },
   {
    "duration": 155,
    "start_time": "2022-06-13T12:24:22.939Z"
   },
   {
    "duration": 198,
    "start_time": "2022-06-13T12:24:23.096Z"
   },
   {
    "duration": 6,
    "start_time": "2022-06-13T12:24:23.296Z"
   },
   {
    "duration": 14,
    "start_time": "2022-06-13T12:24:23.304Z"
   },
   {
    "duration": 3,
    "start_time": "2022-06-13T12:24:23.320Z"
   },
   {
    "duration": 23,
    "start_time": "2022-06-13T12:24:23.325Z"
   },
   {
    "duration": 11,
    "start_time": "2022-06-13T12:24:23.350Z"
   },
   {
    "duration": 7,
    "start_time": "2022-06-13T12:24:23.364Z"
   },
   {
    "duration": 6,
    "start_time": "2022-06-13T12:24:23.373Z"
   },
   {
    "duration": 8,
    "start_time": "2022-06-13T12:24:23.381Z"
   },
   {
    "duration": 4,
    "start_time": "2022-06-13T12:24:23.394Z"
   },
   {
    "duration": 7,
    "start_time": "2022-06-13T12:24:23.399Z"
   },
   {
    "duration": 45,
    "start_time": "2022-06-13T12:24:23.407Z"
   },
   {
    "duration": 3,
    "start_time": "2022-06-13T12:24:23.453Z"
   },
   {
    "duration": 7,
    "start_time": "2022-06-13T12:24:23.458Z"
   },
   {
    "duration": 6,
    "start_time": "2022-06-13T12:24:23.467Z"
   },
   {
    "duration": 2,
    "start_time": "2022-06-13T12:24:23.492Z"
   },
   {
    "duration": 8,
    "start_time": "2022-06-13T12:24:23.496Z"
   },
   {
    "duration": 7,
    "start_time": "2022-06-13T12:24:23.506Z"
   },
   {
    "duration": 103,
    "start_time": "2022-06-13T12:24:23.514Z"
   },
   {
    "duration": 0,
    "start_time": "2022-06-13T12:24:23.619Z"
   },
   {
    "duration": 0,
    "start_time": "2022-06-13T12:24:23.620Z"
   },
   {
    "duration": 0,
    "start_time": "2022-06-13T12:24:23.621Z"
   },
   {
    "duration": 0,
    "start_time": "2022-06-13T12:24:23.622Z"
   },
   {
    "duration": 0,
    "start_time": "2022-06-13T12:24:23.623Z"
   },
   {
    "duration": 0,
    "start_time": "2022-06-13T12:24:23.625Z"
   },
   {
    "duration": 0,
    "start_time": "2022-06-13T12:24:23.626Z"
   },
   {
    "duration": 0,
    "start_time": "2022-06-13T12:24:23.627Z"
   },
   {
    "duration": 0,
    "start_time": "2022-06-13T12:24:23.628Z"
   },
   {
    "duration": 0,
    "start_time": "2022-06-13T12:24:23.629Z"
   },
   {
    "duration": 0,
    "start_time": "2022-06-13T12:24:23.630Z"
   },
   {
    "duration": 933,
    "start_time": "2022-06-13T12:25:09.703Z"
   },
   {
    "duration": 518,
    "start_time": "2022-06-13T12:25:10.638Z"
   },
   {
    "duration": 147,
    "start_time": "2022-06-13T12:25:11.157Z"
   },
   {
    "duration": 59,
    "start_time": "2022-06-13T12:25:11.306Z"
   },
   {
    "duration": 35,
    "start_time": "2022-06-13T12:25:11.367Z"
   },
   {
    "duration": 31,
    "start_time": "2022-06-13T12:25:11.403Z"
   },
   {
    "duration": 2,
    "start_time": "2022-06-13T12:25:11.436Z"
   },
   {
    "duration": 10,
    "start_time": "2022-06-13T12:25:11.440Z"
   },
   {
    "duration": 56,
    "start_time": "2022-06-13T12:25:11.452Z"
   },
   {
    "duration": 3,
    "start_time": "2022-06-13T12:25:11.510Z"
   },
   {
    "duration": 9,
    "start_time": "2022-06-13T12:25:11.514Z"
   },
   {
    "duration": 11,
    "start_time": "2022-06-13T12:25:11.524Z"
   },
   {
    "duration": 56,
    "start_time": "2022-06-13T12:25:11.537Z"
   },
   {
    "duration": 97,
    "start_time": "2022-06-13T12:25:11.595Z"
   },
   {
    "duration": 104,
    "start_time": "2022-06-13T12:25:11.694Z"
   },
   {
    "duration": 4,
    "start_time": "2022-06-13T12:25:11.799Z"
   },
   {
    "duration": 9,
    "start_time": "2022-06-13T12:25:11.804Z"
   },
   {
    "duration": 6,
    "start_time": "2022-06-13T12:25:11.815Z"
   },
   {
    "duration": 71,
    "start_time": "2022-06-13T12:25:11.823Z"
   },
   {
    "duration": 95,
    "start_time": "2022-06-13T12:25:11.896Z"
   },
   {
    "duration": 9,
    "start_time": "2022-06-13T12:25:11.993Z"
   },
   {
    "duration": 4,
    "start_time": "2022-06-13T12:25:12.003Z"
   },
   {
    "duration": 8,
    "start_time": "2022-06-13T12:25:12.008Z"
   },
   {
    "duration": 10,
    "start_time": "2022-06-13T12:25:12.017Z"
   },
   {
    "duration": 13,
    "start_time": "2022-06-13T12:25:12.028Z"
   },
   {
    "duration": 7,
    "start_time": "2022-06-13T12:25:12.042Z"
   },
   {
    "duration": 12,
    "start_time": "2022-06-13T12:25:12.050Z"
   },
   {
    "duration": 9,
    "start_time": "2022-06-13T12:25:12.065Z"
   },
   {
    "duration": 11,
    "start_time": "2022-06-13T12:25:12.075Z"
   },
   {
    "duration": 37,
    "start_time": "2022-06-13T12:25:12.087Z"
   },
   {
    "duration": 2,
    "start_time": "2022-06-13T12:25:12.126Z"
   },
   {
    "duration": 4,
    "start_time": "2022-06-13T12:25:12.129Z"
   },
   {
    "duration": 5,
    "start_time": "2022-06-13T12:25:12.134Z"
   },
   {
    "duration": 8,
    "start_time": "2022-06-13T12:25:12.140Z"
   },
   {
    "duration": 6,
    "start_time": "2022-06-13T12:25:12.149Z"
   },
   {
    "duration": 4,
    "start_time": "2022-06-13T12:25:12.156Z"
   },
   {
    "duration": 12892,
    "start_time": "2022-06-13T12:25:12.161Z"
   },
   {
    "duration": 3,
    "start_time": "2022-06-13T12:25:25.054Z"
   },
   {
    "duration": 11,
    "start_time": "2022-06-13T12:25:25.058Z"
   },
   {
    "duration": 11,
    "start_time": "2022-06-13T12:25:25.070Z"
   },
   {
    "duration": 44,
    "start_time": "2022-06-13T12:25:25.082Z"
   },
   {
    "duration": 33,
    "start_time": "2022-06-13T12:25:25.128Z"
   },
   {
    "duration": 23,
    "start_time": "2022-06-13T12:25:25.162Z"
   },
   {
    "duration": 32,
    "start_time": "2022-06-13T12:25:25.187Z"
   },
   {
    "duration": 4,
    "start_time": "2022-06-13T12:25:25.221Z"
   },
   {
    "duration": 21,
    "start_time": "2022-06-13T12:25:25.227Z"
   },
   {
    "duration": 10,
    "start_time": "2022-06-13T12:25:25.250Z"
   },
   {
    "duration": 58,
    "start_time": "2022-06-13T12:25:25.262Z"
   },
   {
    "duration": 37,
    "start_time": "2022-06-13T12:25:55.706Z"
   },
   {
    "duration": 936,
    "start_time": "2022-06-13T12:26:30.126Z"
   },
   {
    "duration": 528,
    "start_time": "2022-06-13T12:26:31.064Z"
   },
   {
    "duration": 115,
    "start_time": "2022-06-13T12:26:31.593Z"
   },
   {
    "duration": 53,
    "start_time": "2022-06-13T12:26:31.710Z"
   },
   {
    "duration": 36,
    "start_time": "2022-06-13T12:26:31.765Z"
   },
   {
    "duration": 35,
    "start_time": "2022-06-13T12:26:31.803Z"
   },
   {
    "duration": 3,
    "start_time": "2022-06-13T12:26:31.839Z"
   },
   {
    "duration": 14,
    "start_time": "2022-06-13T12:26:31.843Z"
   },
   {
    "duration": 50,
    "start_time": "2022-06-13T12:26:31.859Z"
   },
   {
    "duration": 3,
    "start_time": "2022-06-13T12:26:31.910Z"
   },
   {
    "duration": 10,
    "start_time": "2022-06-13T12:26:31.914Z"
   },
   {
    "duration": 14,
    "start_time": "2022-06-13T12:26:31.925Z"
   },
   {
    "duration": 53,
    "start_time": "2022-06-13T12:26:31.940Z"
   },
   {
    "duration": 6,
    "start_time": "2022-06-13T12:26:31.997Z"
   },
   {
    "duration": 100,
    "start_time": "2022-06-13T12:26:32.092Z"
   },
   {
    "duration": 4,
    "start_time": "2022-06-13T12:26:32.194Z"
   },
   {
    "duration": 10,
    "start_time": "2022-06-13T12:26:32.200Z"
   },
   {
    "duration": 8,
    "start_time": "2022-06-13T12:26:32.212Z"
   },
   {
    "duration": 76,
    "start_time": "2022-06-13T12:26:32.222Z"
   },
   {
    "duration": 96,
    "start_time": "2022-06-13T12:26:32.300Z"
   },
   {
    "duration": 7,
    "start_time": "2022-06-13T12:26:32.398Z"
   },
   {
    "duration": 4,
    "start_time": "2022-06-13T12:26:32.406Z"
   },
   {
    "duration": 7,
    "start_time": "2022-06-13T12:26:32.411Z"
   },
   {
    "duration": 5,
    "start_time": "2022-06-13T12:26:32.419Z"
   },
   {
    "duration": 5,
    "start_time": "2022-06-13T12:26:32.425Z"
   },
   {
    "duration": 4,
    "start_time": "2022-06-13T12:26:32.431Z"
   },
   {
    "duration": 11,
    "start_time": "2022-06-13T12:26:32.437Z"
   },
   {
    "duration": 4,
    "start_time": "2022-06-13T12:26:32.449Z"
   },
   {
    "duration": 6,
    "start_time": "2022-06-13T12:26:32.454Z"
   },
   {
    "duration": 46,
    "start_time": "2022-06-13T12:26:32.461Z"
   },
   {
    "duration": 2,
    "start_time": "2022-06-13T12:26:32.509Z"
   },
   {
    "duration": 4,
    "start_time": "2022-06-13T12:26:32.513Z"
   },
   {
    "duration": 4,
    "start_time": "2022-06-13T12:26:32.518Z"
   },
   {
    "duration": 5,
    "start_time": "2022-06-13T12:26:32.523Z"
   },
   {
    "duration": 4,
    "start_time": "2022-06-13T12:26:32.530Z"
   },
   {
    "duration": 4,
    "start_time": "2022-06-13T12:26:32.535Z"
   },
   {
    "duration": 14334,
    "start_time": "2022-06-13T12:26:32.541Z"
   },
   {
    "duration": 15,
    "start_time": "2022-06-13T12:26:46.877Z"
   },
   {
    "duration": 32,
    "start_time": "2022-06-13T12:26:46.893Z"
   },
   {
    "duration": 19,
    "start_time": "2022-06-13T12:26:46.927Z"
   },
   {
    "duration": 23,
    "start_time": "2022-06-13T12:26:46.950Z"
   },
   {
    "duration": 8,
    "start_time": "2022-06-13T12:26:46.976Z"
   },
   {
    "duration": 46,
    "start_time": "2022-06-13T12:26:46.986Z"
   },
   {
    "duration": 35,
    "start_time": "2022-06-13T12:26:47.034Z"
   },
   {
    "duration": 6,
    "start_time": "2022-06-13T12:26:47.071Z"
   },
   {
    "duration": 43,
    "start_time": "2022-06-13T12:26:47.079Z"
   },
   {
    "duration": 19,
    "start_time": "2022-06-13T12:26:47.124Z"
   },
   {
    "duration": 26,
    "start_time": "2022-06-13T12:26:47.145Z"
   },
   {
    "duration": 33,
    "start_time": "2022-06-13T12:27:49.802Z"
   },
   {
    "duration": 986,
    "start_time": "2022-06-13T12:29:56.026Z"
   },
   {
    "duration": 591,
    "start_time": "2022-06-13T12:29:57.014Z"
   },
   {
    "duration": 147,
    "start_time": "2022-06-13T12:29:57.606Z"
   },
   {
    "duration": 82,
    "start_time": "2022-06-13T12:29:57.755Z"
   },
   {
    "duration": 12,
    "start_time": "2022-06-13T12:29:57.838Z"
   },
   {
    "duration": 60,
    "start_time": "2022-06-13T12:29:57.851Z"
   },
   {
    "duration": 3,
    "start_time": "2022-06-13T12:29:57.912Z"
   },
   {
    "duration": 19,
    "start_time": "2022-06-13T12:29:57.916Z"
   },
   {
    "duration": 18,
    "start_time": "2022-06-13T12:29:57.937Z"
   },
   {
    "duration": 2,
    "start_time": "2022-06-13T12:29:57.958Z"
   },
   {
    "duration": 10,
    "start_time": "2022-06-13T12:29:57.961Z"
   },
   {
    "duration": 11,
    "start_time": "2022-06-13T12:29:57.992Z"
   },
   {
    "duration": 32,
    "start_time": "2022-06-13T12:29:58.004Z"
   },
   {
    "duration": 7,
    "start_time": "2022-06-13T12:29:58.094Z"
   },
   {
    "duration": 104,
    "start_time": "2022-06-13T12:29:58.102Z"
   },
   {
    "duration": 13,
    "start_time": "2022-06-13T12:29:58.207Z"
   },
   {
    "duration": 14,
    "start_time": "2022-06-13T12:29:58.222Z"
   },
   {
    "duration": 10,
    "start_time": "2022-06-13T12:29:58.238Z"
   },
   {
    "duration": 2,
    "start_time": "2022-06-13T12:29:58.292Z"
   },
   {
    "duration": 100,
    "start_time": "2022-06-13T12:29:58.296Z"
   },
   {
    "duration": 9,
    "start_time": "2022-06-13T12:29:58.398Z"
   },
   {
    "duration": 7,
    "start_time": "2022-06-13T12:29:58.408Z"
   },
   {
    "duration": 10,
    "start_time": "2022-06-13T12:29:58.417Z"
   },
   {
    "duration": 7,
    "start_time": "2022-06-13T12:29:58.428Z"
   },
   {
    "duration": 6,
    "start_time": "2022-06-13T12:29:58.436Z"
   },
   {
    "duration": 7,
    "start_time": "2022-06-13T12:29:58.444Z"
   },
   {
    "duration": 15,
    "start_time": "2022-06-13T12:29:58.452Z"
   },
   {
    "duration": 6,
    "start_time": "2022-06-13T12:29:58.470Z"
   },
   {
    "duration": 7,
    "start_time": "2022-06-13T12:29:58.478Z"
   },
   {
    "duration": 34,
    "start_time": "2022-06-13T12:29:58.486Z"
   },
   {
    "duration": 2,
    "start_time": "2022-06-13T12:29:58.521Z"
   },
   {
    "duration": 6,
    "start_time": "2022-06-13T12:29:58.525Z"
   },
   {
    "duration": 9,
    "start_time": "2022-06-13T12:29:58.532Z"
   },
   {
    "duration": 10,
    "start_time": "2022-06-13T12:29:58.542Z"
   },
   {
    "duration": 6,
    "start_time": "2022-06-13T12:29:58.553Z"
   },
   {
    "duration": 5,
    "start_time": "2022-06-13T12:29:58.560Z"
   },
   {
    "duration": 8699,
    "start_time": "2022-06-13T12:29:58.567Z"
   },
   {
    "duration": 4,
    "start_time": "2022-06-13T12:30:07.269Z"
   },
   {
    "duration": 13,
    "start_time": "2022-06-13T12:30:07.274Z"
   },
   {
    "duration": 6,
    "start_time": "2022-06-13T12:30:07.289Z"
   },
   {
    "duration": 7,
    "start_time": "2022-06-13T12:30:07.296Z"
   },
   {
    "duration": 4,
    "start_time": "2022-06-13T12:30:07.305Z"
   },
   {
    "duration": 9,
    "start_time": "2022-06-13T12:30:07.310Z"
   },
   {
    "duration": 13,
    "start_time": "2022-06-13T12:30:07.321Z"
   },
   {
    "duration": 5,
    "start_time": "2022-06-13T12:30:07.336Z"
   },
   {
    "duration": 16,
    "start_time": "2022-06-13T12:30:07.342Z"
   },
   {
    "duration": 11,
    "start_time": "2022-06-13T12:30:07.360Z"
   },
   {
    "duration": 20,
    "start_time": "2022-06-13T12:30:07.373Z"
   },
   {
    "duration": 5,
    "start_time": "2022-06-13T12:42:07.449Z"
   },
   {
    "duration": 9,
    "start_time": "2022-06-13T12:43:05.475Z"
   },
   {
    "duration": 7,
    "start_time": "2022-06-13T12:44:09.340Z"
   },
   {
    "duration": 950,
    "start_time": "2022-06-13T12:44:54.030Z"
   },
   {
    "duration": 579,
    "start_time": "2022-06-13T12:44:54.982Z"
   },
   {
    "duration": 145,
    "start_time": "2022-06-13T12:44:55.563Z"
   },
   {
    "duration": 87,
    "start_time": "2022-06-13T12:44:55.710Z"
   },
   {
    "duration": 13,
    "start_time": "2022-06-13T12:44:55.799Z"
   },
   {
    "duration": 37,
    "start_time": "2022-06-13T12:44:55.814Z"
   },
   {
    "duration": 2,
    "start_time": "2022-06-13T12:44:55.853Z"
   },
   {
    "duration": 48,
    "start_time": "2022-06-13T12:44:55.856Z"
   },
   {
    "duration": 19,
    "start_time": "2022-06-13T12:44:55.905Z"
   },
   {
    "duration": 2,
    "start_time": "2022-06-13T12:44:55.926Z"
   },
   {
    "duration": 19,
    "start_time": "2022-06-13T12:44:55.929Z"
   },
   {
    "duration": 21,
    "start_time": "2022-06-13T12:44:55.950Z"
   },
   {
    "duration": 41,
    "start_time": "2022-06-13T12:44:55.973Z"
   },
   {
    "duration": 80,
    "start_time": "2022-06-13T12:44:56.016Z"
   },
   {
    "duration": 109,
    "start_time": "2022-06-13T12:44:56.098Z"
   },
   {
    "duration": 6,
    "start_time": "2022-06-13T12:44:56.208Z"
   },
   {
    "duration": 8,
    "start_time": "2022-06-13T12:44:56.216Z"
   },
   {
    "duration": 65,
    "start_time": "2022-06-13T12:44:56.226Z"
   },
   {
    "duration": 3,
    "start_time": "2022-06-13T12:44:56.293Z"
   },
   {
    "duration": 95,
    "start_time": "2022-06-13T12:44:56.297Z"
   },
   {
    "duration": 11,
    "start_time": "2022-06-13T12:44:56.394Z"
   },
   {
    "duration": 2,
    "start_time": "2022-06-13T12:44:56.407Z"
   },
   {
    "duration": 7,
    "start_time": "2022-06-13T12:44:56.411Z"
   },
   {
    "duration": 6,
    "start_time": "2022-06-13T12:44:56.419Z"
   },
   {
    "duration": 9,
    "start_time": "2022-06-13T12:44:56.427Z"
   },
   {
    "duration": 6,
    "start_time": "2022-06-13T12:44:56.438Z"
   },
   {
    "duration": 18,
    "start_time": "2022-06-13T12:44:56.453Z"
   },
   {
    "duration": 2,
    "start_time": "2022-06-13T12:44:56.493Z"
   },
   {
    "duration": 9,
    "start_time": "2022-06-13T12:44:56.496Z"
   },
   {
    "duration": 9,
    "start_time": "2022-06-13T12:44:56.507Z"
   },
   {
    "duration": 79,
    "start_time": "2022-06-13T12:44:56.517Z"
   },
   {
    "duration": 6,
    "start_time": "2022-06-13T12:44:56.598Z"
   },
   {
    "duration": 8,
    "start_time": "2022-06-13T12:44:56.606Z"
   },
   {
    "duration": 9,
    "start_time": "2022-06-13T12:44:56.616Z"
   },
   {
    "duration": 4,
    "start_time": "2022-06-13T12:44:56.627Z"
   },
   {
    "duration": 13,
    "start_time": "2022-06-13T12:44:56.632Z"
   },
   {
    "duration": 6,
    "start_time": "2022-06-13T12:44:56.647Z"
   },
   {
    "duration": 10537,
    "start_time": "2022-06-13T12:44:56.654Z"
   },
   {
    "duration": 3,
    "start_time": "2022-06-13T12:45:07.193Z"
   },
   {
    "duration": 9,
    "start_time": "2022-06-13T12:45:07.198Z"
   },
   {
    "duration": 6,
    "start_time": "2022-06-13T12:45:07.209Z"
   },
   {
    "duration": 5,
    "start_time": "2022-06-13T12:45:07.217Z"
   },
   {
    "duration": 7,
    "start_time": "2022-06-13T12:45:07.223Z"
   },
   {
    "duration": 60,
    "start_time": "2022-06-13T12:45:07.231Z"
   },
   {
    "duration": 41,
    "start_time": "2022-06-13T12:45:07.293Z"
   },
   {
    "duration": 2871,
    "start_time": "2022-06-13T12:45:07.335Z"
   },
   {
    "duration": 0,
    "start_time": "2022-06-13T12:45:10.209Z"
   },
   {
    "duration": 0,
    "start_time": "2022-06-13T12:45:10.210Z"
   },
   {
    "duration": 0,
    "start_time": "2022-06-13T12:45:10.212Z"
   },
   {
    "duration": 30,
    "start_time": "2022-06-13T13:00:34.122Z"
   },
   {
    "duration": 990,
    "start_time": "2022-06-13T13:04:29.814Z"
   },
   {
    "duration": 625,
    "start_time": "2022-06-13T13:04:30.806Z"
   },
   {
    "duration": 125,
    "start_time": "2022-06-13T13:04:31.433Z"
   },
   {
    "duration": 84,
    "start_time": "2022-06-13T13:04:31.559Z"
   },
   {
    "duration": 13,
    "start_time": "2022-06-13T13:04:31.644Z"
   },
   {
    "duration": 63,
    "start_time": "2022-06-13T13:04:31.658Z"
   },
   {
    "duration": 2,
    "start_time": "2022-06-13T13:04:31.722Z"
   },
   {
    "duration": 15,
    "start_time": "2022-06-13T13:04:31.726Z"
   },
   {
    "duration": 19,
    "start_time": "2022-06-13T13:04:31.743Z"
   },
   {
    "duration": 1,
    "start_time": "2022-06-13T13:04:31.764Z"
   },
   {
    "duration": 14,
    "start_time": "2022-06-13T13:04:31.791Z"
   },
   {
    "duration": 15,
    "start_time": "2022-06-13T13:04:31.807Z"
   },
   {
    "duration": 76,
    "start_time": "2022-06-13T13:04:31.823Z"
   },
   {
    "duration": 8,
    "start_time": "2022-06-13T13:04:31.901Z"
   },
   {
    "duration": 124,
    "start_time": "2022-06-13T13:04:31.999Z"
   },
   {
    "duration": 4,
    "start_time": "2022-06-13T13:04:32.125Z"
   },
   {
    "duration": 10,
    "start_time": "2022-06-13T13:04:32.131Z"
   },
   {
    "duration": 7,
    "start_time": "2022-06-13T13:04:32.142Z"
   },
   {
    "duration": 161,
    "start_time": "2022-06-13T13:04:32.150Z"
   },
   {
    "duration": 15,
    "start_time": "2022-06-13T13:04:32.313Z"
   },
   {
    "duration": 9,
    "start_time": "2022-06-13T13:04:32.330Z"
   },
   {
    "duration": 2,
    "start_time": "2022-06-13T13:04:32.340Z"
   },
   {
    "duration": 10,
    "start_time": "2022-06-13T13:04:32.344Z"
   },
   {
    "duration": 13,
    "start_time": "2022-06-13T13:04:32.356Z"
   },
   {
    "duration": 5,
    "start_time": "2022-06-13T13:04:32.370Z"
   },
   {
    "duration": 8,
    "start_time": "2022-06-13T13:04:32.377Z"
   },
   {
    "duration": 22,
    "start_time": "2022-06-13T13:04:32.386Z"
   },
   {
    "duration": 4,
    "start_time": "2022-06-13T13:04:32.411Z"
   },
   {
    "duration": 4,
    "start_time": "2022-06-13T13:04:32.417Z"
   },
   {
    "duration": 9,
    "start_time": "2022-06-13T13:04:32.422Z"
   },
   {
    "duration": 30,
    "start_time": "2022-06-13T13:04:32.432Z"
   },
   {
    "duration": 2,
    "start_time": "2022-06-13T13:04:32.463Z"
   },
   {
    "duration": 4,
    "start_time": "2022-06-13T13:04:32.466Z"
   },
   {
    "duration": 6,
    "start_time": "2022-06-13T13:04:32.472Z"
   },
   {
    "duration": 5,
    "start_time": "2022-06-13T13:04:32.479Z"
   },
   {
    "duration": 7,
    "start_time": "2022-06-13T13:04:32.485Z"
   },
   {
    "duration": 14,
    "start_time": "2022-06-13T13:04:32.496Z"
   },
   {
    "duration": 92,
    "start_time": "2022-06-13T13:04:32.512Z"
   },
   {
    "duration": 0,
    "start_time": "2022-06-13T13:04:32.607Z"
   },
   {
    "duration": 0,
    "start_time": "2022-06-13T13:04:32.608Z"
   },
   {
    "duration": 0,
    "start_time": "2022-06-13T13:04:32.610Z"
   },
   {
    "duration": 0,
    "start_time": "2022-06-13T13:04:32.611Z"
   },
   {
    "duration": 0,
    "start_time": "2022-06-13T13:04:32.613Z"
   },
   {
    "duration": 0,
    "start_time": "2022-06-13T13:04:32.614Z"
   },
   {
    "duration": 0,
    "start_time": "2022-06-13T13:04:32.615Z"
   },
   {
    "duration": 0,
    "start_time": "2022-06-13T13:04:32.617Z"
   },
   {
    "duration": 0,
    "start_time": "2022-06-13T13:04:32.618Z"
   },
   {
    "duration": 0,
    "start_time": "2022-06-13T13:04:32.619Z"
   },
   {
    "duration": 0,
    "start_time": "2022-06-13T13:04:32.621Z"
   },
   {
    "duration": 1051,
    "start_time": "2022-06-13T13:05:30.468Z"
   },
   {
    "duration": 617,
    "start_time": "2022-06-13T13:05:31.521Z"
   },
   {
    "duration": 169,
    "start_time": "2022-06-13T13:05:32.139Z"
   },
   {
    "duration": 73,
    "start_time": "2022-06-13T13:05:32.310Z"
   },
   {
    "duration": 18,
    "start_time": "2022-06-13T13:05:32.392Z"
   },
   {
    "duration": 47,
    "start_time": "2022-06-13T13:05:32.412Z"
   },
   {
    "duration": 2,
    "start_time": "2022-06-13T13:05:32.460Z"
   },
   {
    "duration": 38,
    "start_time": "2022-06-13T13:05:32.464Z"
   },
   {
    "duration": 20,
    "start_time": "2022-06-13T13:05:32.504Z"
   },
   {
    "duration": 2,
    "start_time": "2022-06-13T13:05:32.526Z"
   },
   {
    "duration": 12,
    "start_time": "2022-06-13T13:05:32.529Z"
   },
   {
    "duration": 15,
    "start_time": "2022-06-13T13:05:32.542Z"
   },
   {
    "duration": 52,
    "start_time": "2022-06-13T13:05:32.558Z"
   },
   {
    "duration": 80,
    "start_time": "2022-06-13T13:05:32.613Z"
   },
   {
    "duration": 108,
    "start_time": "2022-06-13T13:05:32.697Z"
   },
   {
    "duration": 14,
    "start_time": "2022-06-13T13:05:32.806Z"
   },
   {
    "duration": 20,
    "start_time": "2022-06-13T13:05:32.822Z"
   },
   {
    "duration": 7,
    "start_time": "2022-06-13T13:05:32.844Z"
   },
   {
    "duration": 155,
    "start_time": "2022-06-13T13:05:32.853Z"
   },
   {
    "duration": 9,
    "start_time": "2022-06-13T13:05:33.010Z"
   },
   {
    "duration": 9,
    "start_time": "2022-06-13T13:05:33.021Z"
   },
   {
    "duration": 4,
    "start_time": "2022-06-13T13:05:33.032Z"
   },
   {
    "duration": 8,
    "start_time": "2022-06-13T13:05:33.038Z"
   },
   {
    "duration": 6,
    "start_time": "2022-06-13T13:05:33.047Z"
   },
   {
    "duration": 6,
    "start_time": "2022-06-13T13:05:33.055Z"
   },
   {
    "duration": 6,
    "start_time": "2022-06-13T13:05:33.062Z"
   },
   {
    "duration": 7,
    "start_time": "2022-06-13T13:05:33.069Z"
   },
   {
    "duration": 6,
    "start_time": "2022-06-13T13:05:33.079Z"
   },
   {
    "duration": 8,
    "start_time": "2022-06-13T13:05:33.086Z"
   },
   {
    "duration": 42,
    "start_time": "2022-06-13T13:05:33.096Z"
   },
   {
    "duration": 3,
    "start_time": "2022-06-13T13:05:33.139Z"
   },
   {
    "duration": 5,
    "start_time": "2022-06-13T13:05:33.143Z"
   },
   {
    "duration": 6,
    "start_time": "2022-06-13T13:05:33.149Z"
   },
   {
    "duration": 5,
    "start_time": "2022-06-13T13:05:33.156Z"
   },
   {
    "duration": 5,
    "start_time": "2022-06-13T13:05:33.162Z"
   },
   {
    "duration": 6,
    "start_time": "2022-06-13T13:05:33.168Z"
   },
   {
    "duration": 8,
    "start_time": "2022-06-13T13:05:33.176Z"
   },
   {
    "duration": 121,
    "start_time": "2022-06-13T13:05:33.190Z"
   },
   {
    "duration": 0,
    "start_time": "2022-06-13T13:05:33.313Z"
   },
   {
    "duration": 0,
    "start_time": "2022-06-13T13:05:33.314Z"
   },
   {
    "duration": 0,
    "start_time": "2022-06-13T13:05:33.315Z"
   },
   {
    "duration": 0,
    "start_time": "2022-06-13T13:05:33.316Z"
   },
   {
    "duration": 0,
    "start_time": "2022-06-13T13:05:33.318Z"
   },
   {
    "duration": 0,
    "start_time": "2022-06-13T13:05:33.319Z"
   },
   {
    "duration": 0,
    "start_time": "2022-06-13T13:05:33.320Z"
   },
   {
    "duration": 0,
    "start_time": "2022-06-13T13:05:33.321Z"
   },
   {
    "duration": 0,
    "start_time": "2022-06-13T13:05:33.322Z"
   },
   {
    "duration": 0,
    "start_time": "2022-06-13T13:05:33.323Z"
   },
   {
    "duration": 0,
    "start_time": "2022-06-13T13:05:33.324Z"
   },
   {
    "duration": 1017,
    "start_time": "2022-06-13T13:05:57.865Z"
   },
   {
    "duration": 613,
    "start_time": "2022-06-13T13:05:58.883Z"
   },
   {
    "duration": 142,
    "start_time": "2022-06-13T13:05:59.497Z"
   },
   {
    "duration": 77,
    "start_time": "2022-06-13T13:05:59.641Z"
   },
   {
    "duration": 11,
    "start_time": "2022-06-13T13:05:59.719Z"
   },
   {
    "duration": 64,
    "start_time": "2022-06-13T13:05:59.731Z"
   },
   {
    "duration": 2,
    "start_time": "2022-06-13T13:05:59.797Z"
   },
   {
    "duration": 15,
    "start_time": "2022-06-13T13:05:59.800Z"
   },
   {
    "duration": 21,
    "start_time": "2022-06-13T13:05:59.817Z"
   },
   {
    "duration": 3,
    "start_time": "2022-06-13T13:05:59.840Z"
   },
   {
    "duration": 10,
    "start_time": "2022-06-13T13:05:59.844Z"
   },
   {
    "duration": 43,
    "start_time": "2022-06-13T13:05:59.855Z"
   },
   {
    "duration": 94,
    "start_time": "2022-06-13T13:05:59.900Z"
   },
   {
    "duration": 96,
    "start_time": "2022-06-13T13:05:59.997Z"
   },
   {
    "duration": 15,
    "start_time": "2022-06-13T13:06:00.094Z"
   },
   {
    "duration": 4,
    "start_time": "2022-06-13T13:06:00.111Z"
   },
   {
    "duration": 12,
    "start_time": "2022-06-13T13:06:00.116Z"
   },
   {
    "duration": 10,
    "start_time": "2022-06-13T13:06:00.129Z"
   },
   {
    "duration": 52,
    "start_time": "2022-06-13T13:06:00.141Z"
   },
   {
    "duration": 97,
    "start_time": "2022-06-13T13:06:00.195Z"
   },
   {
    "duration": 16,
    "start_time": "2022-06-13T13:06:00.295Z"
   },
   {
    "duration": 19,
    "start_time": "2022-06-13T13:06:00.312Z"
   },
   {
    "duration": 37,
    "start_time": "2022-06-13T13:06:00.333Z"
   },
   {
    "duration": 24,
    "start_time": "2022-06-13T13:06:00.372Z"
   },
   {
    "duration": 14,
    "start_time": "2022-06-13T13:06:00.398Z"
   },
   {
    "duration": 19,
    "start_time": "2022-06-13T13:06:00.414Z"
   },
   {
    "duration": 27,
    "start_time": "2022-06-13T13:06:00.435Z"
   },
   {
    "duration": 16,
    "start_time": "2022-06-13T13:06:00.467Z"
   },
   {
    "duration": 31,
    "start_time": "2022-06-13T13:06:00.485Z"
   },
   {
    "duration": 39,
    "start_time": "2022-06-13T13:06:00.517Z"
   },
   {
    "duration": 2,
    "start_time": "2022-06-13T13:06:00.558Z"
   },
   {
    "duration": 31,
    "start_time": "2022-06-13T13:06:00.562Z"
   },
   {
    "duration": 27,
    "start_time": "2022-06-13T13:06:00.594Z"
   },
   {
    "duration": 23,
    "start_time": "2022-06-13T13:06:00.623Z"
   },
   {
    "duration": 25,
    "start_time": "2022-06-13T13:06:00.647Z"
   },
   {
    "duration": 16,
    "start_time": "2022-06-13T13:06:00.674Z"
   },
   {
    "duration": 38,
    "start_time": "2022-06-13T13:06:00.691Z"
   },
   {
    "duration": 4194,
    "start_time": "2022-06-13T13:06:00.731Z"
   },
   {
    "duration": 2,
    "start_time": "2022-06-13T13:06:04.927Z"
   },
   {
    "duration": 16,
    "start_time": "2022-06-13T13:06:04.931Z"
   },
   {
    "duration": 8,
    "start_time": "2022-06-13T13:06:04.949Z"
   },
   {
    "duration": 6,
    "start_time": "2022-06-13T13:06:04.958Z"
   },
   {
    "duration": 8,
    "start_time": "2022-06-13T13:06:04.966Z"
   },
   {
    "duration": 25,
    "start_time": "2022-06-13T13:06:04.975Z"
   },
   {
    "duration": 23,
    "start_time": "2022-06-13T13:06:05.002Z"
   },
   {
    "duration": 5,
    "start_time": "2022-06-13T13:06:05.027Z"
   },
   {
    "duration": 14,
    "start_time": "2022-06-13T13:06:05.034Z"
   },
   {
    "duration": 3,
    "start_time": "2022-06-13T13:06:05.050Z"
   },
   {
    "duration": 22,
    "start_time": "2022-06-13T13:06:05.054Z"
   },
   {
    "duration": 2,
    "start_time": "2022-06-13T13:16:05.626Z"
   },
   {
    "duration": 1012,
    "start_time": "2022-06-13T13:16:11.191Z"
   },
   {
    "duration": 615,
    "start_time": "2022-06-13T13:16:12.206Z"
   },
   {
    "duration": 144,
    "start_time": "2022-06-13T13:16:12.823Z"
   },
   {
    "duration": 84,
    "start_time": "2022-06-13T13:16:12.968Z"
   },
   {
    "duration": 39,
    "start_time": "2022-06-13T13:16:13.054Z"
   },
   {
    "duration": 33,
    "start_time": "2022-06-13T13:16:13.098Z"
   },
   {
    "duration": 2,
    "start_time": "2022-06-13T13:16:13.133Z"
   },
   {
    "duration": 12,
    "start_time": "2022-06-13T13:16:13.136Z"
   },
   {
    "duration": 20,
    "start_time": "2022-06-13T13:16:13.149Z"
   },
   {
    "duration": 6,
    "start_time": "2022-06-13T13:16:13.190Z"
   },
   {
    "duration": 19,
    "start_time": "2022-06-13T13:16:13.198Z"
   },
   {
    "duration": 14,
    "start_time": "2022-06-13T13:16:13.219Z"
   },
   {
    "duration": 64,
    "start_time": "2022-06-13T13:16:13.234Z"
   },
   {
    "duration": 89,
    "start_time": "2022-06-13T13:16:13.303Z"
   },
   {
    "duration": 100,
    "start_time": "2022-06-13T13:16:13.394Z"
   },
   {
    "duration": 25,
    "start_time": "2022-06-13T13:16:13.496Z"
   },
   {
    "duration": 19,
    "start_time": "2022-06-13T13:16:13.523Z"
   },
   {
    "duration": 10,
    "start_time": "2022-06-13T13:16:13.543Z"
   },
   {
    "duration": 17,
    "start_time": "2022-06-13T13:16:13.555Z"
   },
   {
    "duration": 10,
    "start_time": "2022-06-13T13:16:13.574Z"
   },
   {
    "duration": 36,
    "start_time": "2022-06-13T13:16:13.586Z"
   },
   {
    "duration": 3,
    "start_time": "2022-06-13T13:16:13.624Z"
   },
   {
    "duration": 16,
    "start_time": "2022-06-13T13:16:13.629Z"
   },
   {
    "duration": 7,
    "start_time": "2022-06-13T13:16:13.647Z"
   },
   {
    "duration": 8,
    "start_time": "2022-06-13T13:16:13.656Z"
   },
   {
    "duration": 5,
    "start_time": "2022-06-13T13:16:13.665Z"
   },
   {
    "duration": 17,
    "start_time": "2022-06-13T13:16:13.672Z"
   },
   {
    "duration": 23,
    "start_time": "2022-06-13T13:16:13.691Z"
   },
   {
    "duration": 7,
    "start_time": "2022-06-13T13:16:13.716Z"
   },
   {
    "duration": 30,
    "start_time": "2022-06-13T13:16:13.725Z"
   },
   {
    "duration": 2,
    "start_time": "2022-06-13T13:16:13.757Z"
   },
   {
    "duration": 6,
    "start_time": "2022-06-13T13:16:13.761Z"
   },
   {
    "duration": 11,
    "start_time": "2022-06-13T13:16:13.769Z"
   },
   {
    "duration": 7,
    "start_time": "2022-06-13T13:16:13.781Z"
   },
   {
    "duration": 22,
    "start_time": "2022-06-13T13:16:13.789Z"
   },
   {
    "duration": 7,
    "start_time": "2022-06-13T13:16:13.813Z"
   },
   {
    "duration": 7,
    "start_time": "2022-06-13T13:16:13.821Z"
   },
   {
    "duration": 4377,
    "start_time": "2022-06-13T13:16:13.829Z"
   },
   {
    "duration": 3,
    "start_time": "2022-06-13T13:16:18.208Z"
   },
   {
    "duration": 9,
    "start_time": "2022-06-13T13:16:18.213Z"
   },
   {
    "duration": 5,
    "start_time": "2022-06-13T13:16:18.226Z"
   },
   {
    "duration": 6,
    "start_time": "2022-06-13T13:16:18.232Z"
   },
   {
    "duration": 6,
    "start_time": "2022-06-13T13:16:18.239Z"
   },
   {
    "duration": 7,
    "start_time": "2022-06-13T13:16:18.247Z"
   },
   {
    "duration": 15,
    "start_time": "2022-06-13T13:16:18.256Z"
   },
   {
    "duration": 22,
    "start_time": "2022-06-13T13:16:18.272Z"
   },
   {
    "duration": 22,
    "start_time": "2022-06-13T13:16:18.295Z"
   },
   {
    "duration": 2,
    "start_time": "2022-06-13T13:16:18.319Z"
   },
   {
    "duration": 12,
    "start_time": "2022-06-13T13:16:18.323Z"
   },
   {
    "duration": 2,
    "start_time": "2022-06-13T13:16:30.929Z"
   },
   {
    "duration": 100,
    "start_time": "2022-06-13T13:20:05.492Z"
   },
   {
    "duration": 959,
    "start_time": "2022-06-13T13:21:50.989Z"
   },
   {
    "duration": 543,
    "start_time": "2022-06-13T13:21:51.950Z"
   },
   {
    "duration": 121,
    "start_time": "2022-06-13T13:21:52.494Z"
   },
   {
    "duration": 75,
    "start_time": "2022-06-13T13:21:52.617Z"
   },
   {
    "duration": 11,
    "start_time": "2022-06-13T13:21:52.693Z"
   },
   {
    "duration": 30,
    "start_time": "2022-06-13T13:21:52.705Z"
   },
   {
    "duration": 3,
    "start_time": "2022-06-13T13:21:52.736Z"
   },
   {
    "duration": 12,
    "start_time": "2022-06-13T13:21:52.740Z"
   },
   {
    "duration": 53,
    "start_time": "2022-06-13T13:21:52.753Z"
   },
   {
    "duration": 2,
    "start_time": "2022-06-13T13:21:52.808Z"
   },
   {
    "duration": 12,
    "start_time": "2022-06-13T13:21:52.811Z"
   },
   {
    "duration": 12,
    "start_time": "2022-06-13T13:21:52.825Z"
   },
   {
    "duration": 56,
    "start_time": "2022-06-13T13:21:52.838Z"
   },
   {
    "duration": 6,
    "start_time": "2022-06-13T13:21:52.895Z"
   },
   {
    "duration": 113,
    "start_time": "2022-06-13T13:21:52.992Z"
   },
   {
    "duration": 6,
    "start_time": "2022-06-13T13:21:53.106Z"
   },
   {
    "duration": 10,
    "start_time": "2022-06-13T13:21:53.114Z"
   },
   {
    "duration": 6,
    "start_time": "2022-06-13T13:21:53.125Z"
   },
   {
    "duration": 59,
    "start_time": "2022-06-13T13:21:53.132Z"
   },
   {
    "duration": 8,
    "start_time": "2022-06-13T13:21:53.193Z"
   },
   {
    "duration": 8,
    "start_time": "2022-06-13T13:21:53.291Z"
   },
   {
    "duration": 3,
    "start_time": "2022-06-13T13:21:53.300Z"
   },
   {
    "duration": 15,
    "start_time": "2022-06-13T13:21:53.304Z"
   },
   {
    "duration": 9,
    "start_time": "2022-06-13T13:21:53.320Z"
   },
   {
    "duration": 6,
    "start_time": "2022-06-13T13:21:53.330Z"
   },
   {
    "duration": 9,
    "start_time": "2022-06-13T13:21:53.337Z"
   },
   {
    "duration": 11,
    "start_time": "2022-06-13T13:21:53.347Z"
   },
   {
    "duration": 5,
    "start_time": "2022-06-13T13:21:53.361Z"
   },
   {
    "duration": 8,
    "start_time": "2022-06-13T13:21:53.367Z"
   },
   {
    "duration": 30,
    "start_time": "2022-06-13T13:21:53.376Z"
   },
   {
    "duration": 1,
    "start_time": "2022-06-13T13:21:53.408Z"
   },
   {
    "duration": 6,
    "start_time": "2022-06-13T13:21:53.411Z"
   },
   {
    "duration": 6,
    "start_time": "2022-06-13T13:21:53.418Z"
   },
   {
    "duration": 4,
    "start_time": "2022-06-13T13:21:53.425Z"
   },
   {
    "duration": 6,
    "start_time": "2022-06-13T13:21:53.430Z"
   },
   {
    "duration": 4,
    "start_time": "2022-06-13T13:21:53.437Z"
   },
   {
    "duration": 6,
    "start_time": "2022-06-13T13:21:53.442Z"
   },
   {
    "duration": 5189,
    "start_time": "2022-06-13T13:21:53.450Z"
   },
   {
    "duration": 2,
    "start_time": "2022-06-13T13:21:58.640Z"
   },
   {
    "duration": 9,
    "start_time": "2022-06-13T13:21:58.644Z"
   },
   {
    "duration": 6,
    "start_time": "2022-06-13T13:21:58.654Z"
   },
   {
    "duration": 29,
    "start_time": "2022-06-13T13:21:58.662Z"
   },
   {
    "duration": 4,
    "start_time": "2022-06-13T13:21:58.693Z"
   },
   {
    "duration": 8,
    "start_time": "2022-06-13T13:21:58.698Z"
   },
   {
    "duration": 5,
    "start_time": "2022-06-13T13:21:58.707Z"
   },
   {
    "duration": 18,
    "start_time": "2022-06-13T13:21:58.713Z"
   },
   {
    "duration": 10,
    "start_time": "2022-06-13T13:21:58.733Z"
   },
   {
    "duration": 4,
    "start_time": "2022-06-13T13:21:58.744Z"
   },
   {
    "duration": 11,
    "start_time": "2022-06-13T13:21:58.790Z"
   },
   {
    "duration": 918,
    "start_time": "2022-06-13T13:30:18.636Z"
   },
   {
    "duration": 566,
    "start_time": "2022-06-13T13:30:19.555Z"
   },
   {
    "duration": 144,
    "start_time": "2022-06-13T13:30:20.123Z"
   },
   {
    "duration": 70,
    "start_time": "2022-06-13T13:30:20.290Z"
   },
   {
    "duration": 34,
    "start_time": "2022-06-13T13:30:20.362Z"
   },
   {
    "duration": 32,
    "start_time": "2022-06-13T13:30:20.397Z"
   },
   {
    "duration": 3,
    "start_time": "2022-06-13T13:30:20.430Z"
   },
   {
    "duration": 17,
    "start_time": "2022-06-13T13:30:20.435Z"
   },
   {
    "duration": 46,
    "start_time": "2022-06-13T13:30:20.454Z"
   },
   {
    "duration": 3,
    "start_time": "2022-06-13T13:30:20.501Z"
   },
   {
    "duration": 14,
    "start_time": "2022-06-13T13:30:20.505Z"
   },
   {
    "duration": 20,
    "start_time": "2022-06-13T13:30:20.520Z"
   },
   {
    "duration": 52,
    "start_time": "2022-06-13T13:30:20.541Z"
   },
   {
    "duration": 98,
    "start_time": "2022-06-13T13:30:20.596Z"
   },
   {
    "duration": 112,
    "start_time": "2022-06-13T13:30:20.696Z"
   },
   {
    "duration": 5,
    "start_time": "2022-06-13T13:30:20.809Z"
   },
   {
    "duration": 10,
    "start_time": "2022-06-13T13:30:20.816Z"
   },
   {
    "duration": 65,
    "start_time": "2022-06-13T13:30:20.827Z"
   },
   {
    "duration": 3,
    "start_time": "2022-06-13T13:30:20.893Z"
   },
   {
    "duration": 105,
    "start_time": "2022-06-13T13:30:20.898Z"
   },
   {
    "duration": 10,
    "start_time": "2022-06-13T13:30:21.004Z"
   },
   {
    "duration": 5,
    "start_time": "2022-06-13T13:30:21.015Z"
   },
   {
    "duration": 11,
    "start_time": "2022-06-13T13:30:21.021Z"
   },
   {
    "duration": 4,
    "start_time": "2022-06-13T13:30:21.033Z"
   },
   {
    "duration": 52,
    "start_time": "2022-06-13T13:30:21.039Z"
   },
   {
    "duration": 3,
    "start_time": "2022-06-13T13:30:21.093Z"
   },
   {
    "duration": 16,
    "start_time": "2022-06-13T13:30:21.097Z"
   },
   {
    "duration": 12,
    "start_time": "2022-06-13T13:30:21.114Z"
   },
   {
    "duration": 12,
    "start_time": "2022-06-13T13:30:21.127Z"
   },
   {
    "duration": 47,
    "start_time": "2022-06-13T13:30:21.140Z"
   },
   {
    "duration": 2,
    "start_time": "2022-06-13T13:30:21.189Z"
   },
   {
    "duration": 13,
    "start_time": "2022-06-13T13:30:21.192Z"
   },
   {
    "duration": 6,
    "start_time": "2022-06-13T13:30:21.206Z"
   },
   {
    "duration": 12,
    "start_time": "2022-06-13T13:30:21.214Z"
   },
   {
    "duration": 8,
    "start_time": "2022-06-13T13:30:21.228Z"
   },
   {
    "duration": 19,
    "start_time": "2022-06-13T13:30:21.237Z"
   },
   {
    "duration": 7,
    "start_time": "2022-06-13T13:30:21.258Z"
   },
   {
    "duration": 5,
    "start_time": "2022-06-13T13:30:21.266Z"
   },
   {
    "duration": 5894,
    "start_time": "2022-06-13T13:30:21.273Z"
   },
   {
    "duration": 3,
    "start_time": "2022-06-13T13:30:27.168Z"
   },
   {
    "duration": 9,
    "start_time": "2022-06-13T13:30:27.174Z"
   },
   {
    "duration": 8,
    "start_time": "2022-06-13T13:30:27.184Z"
   },
   {
    "duration": 6,
    "start_time": "2022-06-13T13:30:27.193Z"
   },
   {
    "duration": 6,
    "start_time": "2022-06-13T13:30:27.201Z"
   },
   {
    "duration": 8,
    "start_time": "2022-06-13T13:30:27.208Z"
   },
   {
    "duration": 9,
    "start_time": "2022-06-13T13:30:27.218Z"
   },
   {
    "duration": 6,
    "start_time": "2022-06-13T13:30:27.229Z"
   },
   {
    "duration": 11,
    "start_time": "2022-06-13T13:30:27.236Z"
   },
   {
    "duration": 3,
    "start_time": "2022-06-13T13:30:27.248Z"
   },
   {
    "duration": 10,
    "start_time": "2022-06-13T13:30:27.252Z"
   },
   {
    "duration": 4,
    "start_time": "2022-06-13T13:34:42.891Z"
   },
   {
    "duration": 943,
    "start_time": "2022-06-13T13:34:47.829Z"
   },
   {
    "duration": 556,
    "start_time": "2022-06-13T13:34:48.773Z"
   },
   {
    "duration": 127,
    "start_time": "2022-06-13T13:34:49.330Z"
   },
   {
    "duration": 79,
    "start_time": "2022-06-13T13:34:49.459Z"
   },
   {
    "duration": 13,
    "start_time": "2022-06-13T13:34:49.540Z"
   },
   {
    "duration": 61,
    "start_time": "2022-06-13T13:34:49.554Z"
   },
   {
    "duration": 2,
    "start_time": "2022-06-13T13:34:49.616Z"
   },
   {
    "duration": 13,
    "start_time": "2022-06-13T13:34:49.620Z"
   },
   {
    "duration": 20,
    "start_time": "2022-06-13T13:34:49.635Z"
   },
   {
    "duration": 2,
    "start_time": "2022-06-13T13:34:49.658Z"
   },
   {
    "duration": 36,
    "start_time": "2022-06-13T13:34:49.662Z"
   },
   {
    "duration": 17,
    "start_time": "2022-06-13T13:34:49.700Z"
   },
   {
    "duration": 74,
    "start_time": "2022-06-13T13:34:49.719Z"
   },
   {
    "duration": 95,
    "start_time": "2022-06-13T13:34:49.795Z"
   },
   {
    "duration": 115,
    "start_time": "2022-06-13T13:34:49.892Z"
   },
   {
    "duration": 6,
    "start_time": "2022-06-13T13:34:50.008Z"
   },
   {
    "duration": 10,
    "start_time": "2022-06-13T13:34:50.015Z"
   },
   {
    "duration": 8,
    "start_time": "2022-06-13T13:34:50.026Z"
   },
   {
    "duration": 59,
    "start_time": "2022-06-13T13:34:50.035Z"
   },
   {
    "duration": 3,
    "start_time": "2022-06-13T13:34:50.098Z"
   },
   {
    "duration": 11,
    "start_time": "2022-06-13T13:34:50.190Z"
   },
   {
    "duration": 5,
    "start_time": "2022-06-13T13:34:50.202Z"
   },
   {
    "duration": 7,
    "start_time": "2022-06-13T13:34:50.209Z"
   },
   {
    "duration": 8,
    "start_time": "2022-06-13T13:34:50.217Z"
   },
   {
    "duration": 7,
    "start_time": "2022-06-13T13:34:50.226Z"
   },
   {
    "duration": 8,
    "start_time": "2022-06-13T13:34:50.234Z"
   },
   {
    "duration": 7,
    "start_time": "2022-06-13T13:34:50.244Z"
   },
   {
    "duration": 4,
    "start_time": "2022-06-13T13:34:50.254Z"
   },
   {
    "duration": 8,
    "start_time": "2022-06-13T13:34:50.260Z"
   },
   {
    "duration": 52,
    "start_time": "2022-06-13T13:34:50.269Z"
   },
   {
    "duration": 2,
    "start_time": "2022-06-13T13:34:50.322Z"
   },
   {
    "duration": 7,
    "start_time": "2022-06-13T13:34:50.325Z"
   },
   {
    "duration": 4,
    "start_time": "2022-06-13T13:34:50.333Z"
   },
   {
    "duration": 10,
    "start_time": "2022-06-13T13:34:50.339Z"
   },
   {
    "duration": 6,
    "start_time": "2022-06-13T13:34:50.351Z"
   },
   {
    "duration": 13,
    "start_time": "2022-06-13T13:34:50.358Z"
   },
   {
    "duration": 5,
    "start_time": "2022-06-13T13:34:50.372Z"
   },
   {
    "duration": 23,
    "start_time": "2022-06-13T13:34:50.378Z"
   },
   {
    "duration": 15012,
    "start_time": "2022-06-13T13:34:50.402Z"
   },
   {
    "duration": 2,
    "start_time": "2022-06-13T13:35:05.416Z"
   },
   {
    "duration": 10,
    "start_time": "2022-06-13T13:35:05.420Z"
   },
   {
    "duration": 7,
    "start_time": "2022-06-13T13:35:05.432Z"
   },
   {
    "duration": 5,
    "start_time": "2022-06-13T13:35:05.441Z"
   },
   {
    "duration": 8,
    "start_time": "2022-06-13T13:35:05.448Z"
   },
   {
    "duration": 12,
    "start_time": "2022-06-13T13:35:05.457Z"
   },
   {
    "duration": 11,
    "start_time": "2022-06-13T13:35:05.471Z"
   },
   {
    "duration": 25,
    "start_time": "2022-06-13T13:35:05.483Z"
   },
   {
    "duration": 13,
    "start_time": "2022-06-13T13:35:05.509Z"
   },
   {
    "duration": 3,
    "start_time": "2022-06-13T13:35:05.523Z"
   },
   {
    "duration": 13,
    "start_time": "2022-06-13T13:35:05.527Z"
   },
   {
    "duration": 974,
    "start_time": "2022-06-13T13:37:27.713Z"
   },
   {
    "duration": 644,
    "start_time": "2022-06-13T13:37:28.689Z"
   },
   {
    "duration": 137,
    "start_time": "2022-06-13T13:37:29.334Z"
   },
   {
    "duration": 86,
    "start_time": "2022-06-13T13:37:29.473Z"
   },
   {
    "duration": 11,
    "start_time": "2022-06-13T13:37:29.561Z"
   },
   {
    "duration": 47,
    "start_time": "2022-06-13T13:37:29.592Z"
   },
   {
    "duration": 2,
    "start_time": "2022-06-13T13:37:29.641Z"
   },
   {
    "duration": 21,
    "start_time": "2022-06-13T13:37:29.645Z"
   },
   {
    "duration": 42,
    "start_time": "2022-06-13T13:37:29.668Z"
   },
   {
    "duration": 3,
    "start_time": "2022-06-13T13:37:29.715Z"
   },
   {
    "duration": 18,
    "start_time": "2022-06-13T13:37:29.720Z"
   },
   {
    "duration": 20,
    "start_time": "2022-06-13T13:37:29.739Z"
   },
   {
    "duration": 68,
    "start_time": "2022-06-13T13:37:29.760Z"
   },
   {
    "duration": 191,
    "start_time": "2022-06-13T13:37:29.830Z"
   },
   {
    "duration": 33,
    "start_time": "2022-06-13T13:37:30.022Z"
   },
   {
    "duration": 7,
    "start_time": "2022-06-13T13:37:30.057Z"
   },
   {
    "duration": 23,
    "start_time": "2022-06-13T13:37:30.065Z"
   },
   {
    "duration": 41,
    "start_time": "2022-06-13T13:37:30.090Z"
   },
   {
    "duration": 192,
    "start_time": "2022-06-13T13:37:30.133Z"
   },
   {
    "duration": 28,
    "start_time": "2022-06-13T13:37:30.326Z"
   },
   {
    "duration": 15,
    "start_time": "2022-06-13T13:37:30.355Z"
   },
   {
    "duration": 47,
    "start_time": "2022-06-13T13:37:30.372Z"
   },
   {
    "duration": 21,
    "start_time": "2022-06-13T13:37:30.420Z"
   },
   {
    "duration": 25,
    "start_time": "2022-06-13T13:37:30.442Z"
   },
   {
    "duration": 36,
    "start_time": "2022-06-13T13:37:30.469Z"
   },
   {
    "duration": 50,
    "start_time": "2022-06-13T13:37:30.512Z"
   },
   {
    "duration": 28,
    "start_time": "2022-06-13T13:37:30.564Z"
   },
   {
    "duration": 46,
    "start_time": "2022-06-13T13:37:30.600Z"
   },
   {
    "duration": 51,
    "start_time": "2022-06-13T13:37:30.647Z"
   },
   {
    "duration": 74,
    "start_time": "2022-06-13T13:37:30.700Z"
   },
   {
    "duration": 3,
    "start_time": "2022-06-13T13:37:30.776Z"
   },
   {
    "duration": 46,
    "start_time": "2022-06-13T13:37:30.780Z"
   },
   {
    "duration": 6,
    "start_time": "2022-06-13T13:37:30.828Z"
   },
   {
    "duration": 45,
    "start_time": "2022-06-13T13:37:30.836Z"
   },
   {
    "duration": 52,
    "start_time": "2022-06-13T13:37:30.883Z"
   },
   {
    "duration": 42,
    "start_time": "2022-06-13T13:37:30.937Z"
   },
   {
    "duration": 66,
    "start_time": "2022-06-13T13:37:30.980Z"
   },
   {
    "duration": 27,
    "start_time": "2022-06-13T13:37:31.048Z"
   },
   {
    "duration": 17763,
    "start_time": "2022-06-13T13:37:31.076Z"
   },
   {
    "duration": 3,
    "start_time": "2022-06-13T13:37:48.841Z"
   },
   {
    "duration": 7,
    "start_time": "2022-06-13T13:37:48.846Z"
   },
   {
    "duration": 4,
    "start_time": "2022-06-13T13:37:48.854Z"
   },
   {
    "duration": 5,
    "start_time": "2022-06-13T13:37:48.860Z"
   },
   {
    "duration": 4,
    "start_time": "2022-06-13T13:37:48.866Z"
   },
   {
    "duration": 7,
    "start_time": "2022-06-13T13:37:48.871Z"
   },
   {
    "duration": 40,
    "start_time": "2022-06-13T13:37:48.879Z"
   },
   {
    "duration": 6,
    "start_time": "2022-06-13T13:37:48.920Z"
   },
   {
    "duration": 9,
    "start_time": "2022-06-13T13:37:48.928Z"
   },
   {
    "duration": 2,
    "start_time": "2022-06-13T13:37:48.939Z"
   },
   {
    "duration": 8,
    "start_time": "2022-06-13T13:37:48.943Z"
   },
   {
    "duration": 1039,
    "start_time": "2022-06-13T13:43:08.282Z"
   },
   {
    "duration": 595,
    "start_time": "2022-06-13T13:43:09.322Z"
   },
   {
    "duration": 180,
    "start_time": "2022-06-13T13:43:09.919Z"
   },
   {
    "duration": 93,
    "start_time": "2022-06-13T13:43:10.101Z"
   },
   {
    "duration": 27,
    "start_time": "2022-06-13T13:43:10.196Z"
   },
   {
    "duration": 39,
    "start_time": "2022-06-13T13:43:10.224Z"
   },
   {
    "duration": 2,
    "start_time": "2022-06-13T13:43:10.266Z"
   },
   {
    "duration": 37,
    "start_time": "2022-06-13T13:43:10.269Z"
   },
   {
    "duration": 23,
    "start_time": "2022-06-13T13:43:10.308Z"
   },
   {
    "duration": 3,
    "start_time": "2022-06-13T13:43:10.333Z"
   },
   {
    "duration": 12,
    "start_time": "2022-06-13T13:43:10.337Z"
   },
   {
    "duration": 14,
    "start_time": "2022-06-13T13:43:10.351Z"
   },
   {
    "duration": 33,
    "start_time": "2022-06-13T13:43:10.391Z"
   },
   {
    "duration": 75,
    "start_time": "2022-06-13T13:43:10.426Z"
   },
   {
    "duration": 101,
    "start_time": "2022-06-13T13:43:10.502Z"
   },
   {
    "duration": 10,
    "start_time": "2022-06-13T13:43:10.605Z"
   },
   {
    "duration": 14,
    "start_time": "2022-06-13T13:43:10.617Z"
   },
   {
    "duration": 8,
    "start_time": "2022-06-13T13:43:10.633Z"
   },
   {
    "duration": 55,
    "start_time": "2022-06-13T13:43:10.643Z"
   },
   {
    "duration": 8,
    "start_time": "2022-06-13T13:43:10.700Z"
   },
   {
    "duration": 92,
    "start_time": "2022-06-13T13:43:10.710Z"
   },
   {
    "duration": 2,
    "start_time": "2022-06-13T13:43:10.804Z"
   },
   {
    "duration": 11,
    "start_time": "2022-06-13T13:43:10.808Z"
   },
   {
    "duration": 4,
    "start_time": "2022-06-13T13:43:10.821Z"
   },
   {
    "duration": 4,
    "start_time": "2022-06-13T13:43:10.826Z"
   },
   {
    "duration": 6,
    "start_time": "2022-06-13T13:43:10.832Z"
   },
   {
    "duration": 10,
    "start_time": "2022-06-13T13:43:10.840Z"
   },
   {
    "duration": 6,
    "start_time": "2022-06-13T13:43:10.853Z"
   },
   {
    "duration": 11,
    "start_time": "2022-06-13T13:43:10.861Z"
   },
   {
    "duration": 38,
    "start_time": "2022-06-13T13:43:10.873Z"
   },
   {
    "duration": 3,
    "start_time": "2022-06-13T13:43:10.913Z"
   },
   {
    "duration": 5,
    "start_time": "2022-06-13T13:43:10.917Z"
   },
   {
    "duration": 4,
    "start_time": "2022-06-13T13:43:10.924Z"
   },
   {
    "duration": 7,
    "start_time": "2022-06-13T13:43:10.929Z"
   },
   {
    "duration": 5,
    "start_time": "2022-06-13T13:43:10.937Z"
   },
   {
    "duration": 8,
    "start_time": "2022-06-13T13:43:10.943Z"
   },
   {
    "duration": 4,
    "start_time": "2022-06-13T13:43:10.953Z"
   },
   {
    "duration": 10,
    "start_time": "2022-06-13T13:43:10.958Z"
   },
   {
    "duration": 4167,
    "start_time": "2022-06-13T13:43:10.992Z"
   },
   {
    "duration": 3,
    "start_time": "2022-06-13T13:43:15.160Z"
   },
   {
    "duration": 13,
    "start_time": "2022-06-13T13:43:15.165Z"
   },
   {
    "duration": 7,
    "start_time": "2022-06-13T13:43:15.180Z"
   },
   {
    "duration": 5,
    "start_time": "2022-06-13T13:43:15.189Z"
   },
   {
    "duration": 5,
    "start_time": "2022-06-13T13:43:15.195Z"
   },
   {
    "duration": 8,
    "start_time": "2022-06-13T13:43:15.201Z"
   },
   {
    "duration": 5,
    "start_time": "2022-06-13T13:43:15.210Z"
   },
   {
    "duration": 7,
    "start_time": "2022-06-13T13:43:15.216Z"
   },
   {
    "duration": 9,
    "start_time": "2022-06-13T13:43:15.224Z"
   },
   {
    "duration": 2,
    "start_time": "2022-06-13T13:43:15.234Z"
   },
   {
    "duration": 12,
    "start_time": "2022-06-13T13:43:15.238Z"
   },
   {
    "duration": 90,
    "start_time": "2022-06-13T13:46:09.994Z"
   },
   {
    "duration": 10,
    "start_time": "2022-06-13T13:46:27.557Z"
   },
   {
    "duration": 14,
    "start_time": "2022-06-13T13:47:37.177Z"
   },
   {
    "duration": 27,
    "start_time": "2022-06-13T13:49:49.177Z"
   },
   {
    "duration": 38,
    "start_time": "2022-06-13T13:51:22.104Z"
   },
   {
    "duration": 38,
    "start_time": "2022-06-13T13:51:44.973Z"
   },
   {
    "duration": 46,
    "start_time": "2022-06-13T13:52:17.982Z"
   },
   {
    "duration": 32,
    "start_time": "2022-06-13T13:52:21.812Z"
   },
   {
    "duration": 20,
    "start_time": "2022-06-13T13:52:29.830Z"
   },
   {
    "duration": 21,
    "start_time": "2022-06-13T13:53:17.702Z"
   },
   {
    "duration": 24,
    "start_time": "2022-06-13T13:53:28.222Z"
   },
   {
    "duration": 29,
    "start_time": "2022-06-13T13:53:47.372Z"
   },
   {
    "duration": 31,
    "start_time": "2022-06-13T13:54:22.346Z"
   },
   {
    "duration": 33,
    "start_time": "2022-06-13T13:56:10.662Z"
   },
   {
    "duration": 25,
    "start_time": "2022-06-13T13:56:27.644Z"
   },
   {
    "duration": 29,
    "start_time": "2022-06-13T13:56:39.922Z"
   },
   {
    "duration": 29,
    "start_time": "2022-06-13T13:56:45.458Z"
   },
   {
    "duration": 29,
    "start_time": "2022-06-13T13:57:23.708Z"
   },
   {
    "duration": 979,
    "start_time": "2022-06-13T13:58:10.768Z"
   },
   {
    "duration": 561,
    "start_time": "2022-06-13T13:58:11.749Z"
   },
   {
    "duration": 150,
    "start_time": "2022-06-13T13:58:12.312Z"
   },
   {
    "duration": 77,
    "start_time": "2022-06-13T13:58:12.466Z"
   },
   {
    "duration": 13,
    "start_time": "2022-06-13T13:58:12.545Z"
   },
   {
    "duration": 62,
    "start_time": "2022-06-13T13:58:12.560Z"
   },
   {
    "duration": 3,
    "start_time": "2022-06-13T13:58:12.624Z"
   },
   {
    "duration": 119,
    "start_time": "2022-06-13T13:58:12.629Z"
   },
   {
    "duration": 22,
    "start_time": "2022-06-13T13:58:12.750Z"
   },
   {
    "duration": 1,
    "start_time": "2022-06-13T13:58:12.775Z"
   },
   {
    "duration": 9,
    "start_time": "2022-06-13T13:58:12.778Z"
   },
   {
    "duration": 20,
    "start_time": "2022-06-13T13:58:12.789Z"
   },
   {
    "duration": 86,
    "start_time": "2022-06-13T13:58:12.811Z"
   },
   {
    "duration": 97,
    "start_time": "2022-06-13T13:58:12.898Z"
   },
   {
    "duration": 109,
    "start_time": "2022-06-13T13:58:12.997Z"
   },
   {
    "duration": 5,
    "start_time": "2022-06-13T13:58:13.107Z"
   },
   {
    "duration": 10,
    "start_time": "2022-06-13T13:58:13.113Z"
   },
   {
    "duration": 9,
    "start_time": "2022-06-13T13:58:13.125Z"
   },
   {
    "duration": 57,
    "start_time": "2022-06-13T13:58:13.135Z"
   },
   {
    "duration": 100,
    "start_time": "2022-06-13T13:58:13.194Z"
   },
   {
    "duration": 8,
    "start_time": "2022-06-13T13:58:13.296Z"
   },
   {
    "duration": 7,
    "start_time": "2022-06-13T13:58:13.305Z"
   },
   {
    "duration": 8,
    "start_time": "2022-06-13T13:58:13.313Z"
   },
   {
    "duration": 5,
    "start_time": "2022-06-13T13:58:13.323Z"
   },
   {
    "duration": 11,
    "start_time": "2022-06-13T13:58:13.330Z"
   },
   {
    "duration": 9,
    "start_time": "2022-06-13T13:58:13.343Z"
   },
   {
    "duration": 7,
    "start_time": "2022-06-13T13:58:13.354Z"
   },
   {
    "duration": 3,
    "start_time": "2022-06-13T13:58:13.364Z"
   },
   {
    "duration": 10,
    "start_time": "2022-06-13T13:58:13.368Z"
   },
   {
    "duration": 94,
    "start_time": "2022-06-13T13:58:13.379Z"
   },
   {
    "duration": 0,
    "start_time": "2022-06-13T13:58:13.474Z"
   },
   {
    "duration": 0,
    "start_time": "2022-06-13T13:58:13.475Z"
   },
   {
    "duration": 0,
    "start_time": "2022-06-13T13:58:13.477Z"
   },
   {
    "duration": 0,
    "start_time": "2022-06-13T13:58:13.478Z"
   },
   {
    "duration": 0,
    "start_time": "2022-06-13T13:58:13.479Z"
   },
   {
    "duration": 0,
    "start_time": "2022-06-13T13:58:13.481Z"
   },
   {
    "duration": 0,
    "start_time": "2022-06-13T13:58:13.481Z"
   },
   {
    "duration": 0,
    "start_time": "2022-06-13T13:58:13.482Z"
   },
   {
    "duration": 0,
    "start_time": "2022-06-13T13:58:13.482Z"
   },
   {
    "duration": 0,
    "start_time": "2022-06-13T13:58:13.483Z"
   },
   {
    "duration": 1,
    "start_time": "2022-06-13T13:58:13.491Z"
   },
   {
    "duration": 0,
    "start_time": "2022-06-13T13:58:13.493Z"
   },
   {
    "duration": 0,
    "start_time": "2022-06-13T13:58:13.494Z"
   },
   {
    "duration": 0,
    "start_time": "2022-06-13T13:58:13.495Z"
   },
   {
    "duration": 0,
    "start_time": "2022-06-13T13:58:13.496Z"
   },
   {
    "duration": 0,
    "start_time": "2022-06-13T13:58:13.497Z"
   },
   {
    "duration": 0,
    "start_time": "2022-06-13T13:58:13.498Z"
   },
   {
    "duration": 0,
    "start_time": "2022-06-13T13:58:13.499Z"
   },
   {
    "duration": 0,
    "start_time": "2022-06-13T13:58:13.501Z"
   },
   {
    "duration": 0,
    "start_time": "2022-06-13T13:58:13.502Z"
   },
   {
    "duration": 21,
    "start_time": "2022-06-13T13:59:17.949Z"
   },
   {
    "duration": 29,
    "start_time": "2022-06-13T14:00:02.168Z"
   },
   {
    "duration": 29,
    "start_time": "2022-06-13T14:00:12.323Z"
   },
   {
    "duration": 926,
    "start_time": "2022-06-13T14:00:38.725Z"
   },
   {
    "duration": 569,
    "start_time": "2022-06-13T14:00:39.653Z"
   },
   {
    "duration": 140,
    "start_time": "2022-06-13T14:00:40.224Z"
   },
   {
    "duration": 73,
    "start_time": "2022-06-13T14:00:40.366Z"
   },
   {
    "duration": 11,
    "start_time": "2022-06-13T14:00:40.441Z"
   },
   {
    "duration": 60,
    "start_time": "2022-06-13T14:00:40.454Z"
   },
   {
    "duration": 2,
    "start_time": "2022-06-13T14:00:40.515Z"
   },
   {
    "duration": 28,
    "start_time": "2022-06-13T14:00:40.518Z"
   },
   {
    "duration": 46,
    "start_time": "2022-06-13T14:00:40.547Z"
   },
   {
    "duration": 6,
    "start_time": "2022-06-13T14:00:40.595Z"
   },
   {
    "duration": 14,
    "start_time": "2022-06-13T14:00:40.602Z"
   },
   {
    "duration": 19,
    "start_time": "2022-06-13T14:00:40.617Z"
   },
   {
    "duration": 153,
    "start_time": "2022-06-13T14:00:40.637Z"
   },
   {
    "duration": 8,
    "start_time": "2022-06-13T14:00:40.793Z"
   },
   {
    "duration": 19,
    "start_time": "2022-06-13T14:00:40.892Z"
   },
   {
    "duration": 22,
    "start_time": "2022-06-13T14:00:40.913Z"
   },
   {
    "duration": 28,
    "start_time": "2022-06-13T14:00:40.936Z"
   },
   {
    "duration": 34,
    "start_time": "2022-06-13T14:00:40.965Z"
   },
   {
    "duration": 92,
    "start_time": "2022-06-13T14:00:41.001Z"
   },
   {
    "duration": 109,
    "start_time": "2022-06-13T14:00:41.094Z"
   },
   {
    "duration": 28,
    "start_time": "2022-06-13T14:00:41.204Z"
   },
   {
    "duration": 13,
    "start_time": "2022-06-13T14:00:41.234Z"
   },
   {
    "duration": 26,
    "start_time": "2022-06-13T14:00:41.249Z"
   },
   {
    "duration": 33,
    "start_time": "2022-06-13T14:00:41.277Z"
   },
   {
    "duration": 23,
    "start_time": "2022-06-13T14:00:41.312Z"
   },
   {
    "duration": 24,
    "start_time": "2022-06-13T14:00:41.337Z"
   },
   {
    "duration": 29,
    "start_time": "2022-06-13T14:00:41.363Z"
   },
   {
    "duration": 30,
    "start_time": "2022-06-13T14:00:41.395Z"
   },
   {
    "duration": 22,
    "start_time": "2022-06-13T14:00:41.426Z"
   },
   {
    "duration": 74,
    "start_time": "2022-06-13T14:00:41.449Z"
   },
   {
    "duration": 2,
    "start_time": "2022-06-13T14:00:41.524Z"
   },
   {
    "duration": 160,
    "start_time": "2022-06-13T14:00:41.528Z"
   },
   {
    "duration": 0,
    "start_time": "2022-06-13T14:00:41.691Z"
   },
   {
    "duration": 0,
    "start_time": "2022-06-13T14:00:41.692Z"
   },
   {
    "duration": 0,
    "start_time": "2022-06-13T14:00:41.693Z"
   },
   {
    "duration": 0,
    "start_time": "2022-06-13T14:00:41.694Z"
   },
   {
    "duration": 0,
    "start_time": "2022-06-13T14:00:41.696Z"
   },
   {
    "duration": 0,
    "start_time": "2022-06-13T14:00:41.697Z"
   },
   {
    "duration": 0,
    "start_time": "2022-06-13T14:00:41.698Z"
   },
   {
    "duration": 0,
    "start_time": "2022-06-13T14:00:41.700Z"
   },
   {
    "duration": 0,
    "start_time": "2022-06-13T14:00:41.701Z"
   },
   {
    "duration": 0,
    "start_time": "2022-06-13T14:00:41.702Z"
   },
   {
    "duration": 0,
    "start_time": "2022-06-13T14:00:41.704Z"
   },
   {
    "duration": 0,
    "start_time": "2022-06-13T14:00:41.705Z"
   },
   {
    "duration": 0,
    "start_time": "2022-06-13T14:00:41.706Z"
   },
   {
    "duration": 0,
    "start_time": "2022-06-13T14:00:41.708Z"
   },
   {
    "duration": 0,
    "start_time": "2022-06-13T14:00:41.709Z"
   },
   {
    "duration": 0,
    "start_time": "2022-06-13T14:00:41.709Z"
   },
   {
    "duration": 0,
    "start_time": "2022-06-13T14:00:41.710Z"
   },
   {
    "duration": 0,
    "start_time": "2022-06-13T14:00:41.711Z"
   },
   {
    "duration": 72,
    "start_time": "2022-06-13T14:03:55.522Z"
   },
   {
    "duration": 987,
    "start_time": "2022-06-13T14:04:17.872Z"
   },
   {
    "duration": 567,
    "start_time": "2022-06-13T14:04:18.860Z"
   },
   {
    "duration": 129,
    "start_time": "2022-06-13T14:04:19.429Z"
   },
   {
    "duration": 77,
    "start_time": "2022-06-13T14:04:19.560Z"
   },
   {
    "duration": 11,
    "start_time": "2022-06-13T14:04:19.639Z"
   },
   {
    "duration": 62,
    "start_time": "2022-06-13T14:04:19.651Z"
   },
   {
    "duration": 3,
    "start_time": "2022-06-13T14:04:19.714Z"
   },
   {
    "duration": 13,
    "start_time": "2022-06-13T14:04:19.718Z"
   },
   {
    "duration": 20,
    "start_time": "2022-06-13T14:04:19.733Z"
   },
   {
    "duration": 2,
    "start_time": "2022-06-13T14:04:19.756Z"
   },
   {
    "duration": 33,
    "start_time": "2022-06-13T14:04:19.759Z"
   },
   {
    "duration": 12,
    "start_time": "2022-06-13T14:04:19.794Z"
   },
   {
    "duration": 25,
    "start_time": "2022-06-13T14:04:19.807Z"
   },
   {
    "duration": 63,
    "start_time": "2022-06-13T14:04:19.834Z"
   },
   {
    "duration": 105,
    "start_time": "2022-06-13T14:04:19.899Z"
   },
   {
    "duration": 4,
    "start_time": "2022-06-13T14:04:20.005Z"
   },
   {
    "duration": 18,
    "start_time": "2022-06-13T14:04:20.011Z"
   },
   {
    "duration": 15,
    "start_time": "2022-06-13T14:04:20.030Z"
   },
   {
    "duration": 46,
    "start_time": "2022-06-13T14:04:20.047Z"
   },
   {
    "duration": 105,
    "start_time": "2022-06-13T14:04:20.094Z"
   },
   {
    "duration": 9,
    "start_time": "2022-06-13T14:04:20.201Z"
   },
   {
    "duration": 2,
    "start_time": "2022-06-13T14:04:20.212Z"
   },
   {
    "duration": 11,
    "start_time": "2022-06-13T14:04:20.216Z"
   },
   {
    "duration": 5,
    "start_time": "2022-06-13T14:04:20.230Z"
   },
   {
    "duration": 9,
    "start_time": "2022-06-13T14:04:20.237Z"
   },
   {
    "duration": 23,
    "start_time": "2022-06-13T14:04:20.249Z"
   },
   {
    "duration": 28,
    "start_time": "2022-06-13T14:04:20.274Z"
   },
   {
    "duration": 6,
    "start_time": "2022-06-13T14:04:20.304Z"
   },
   {
    "duration": 8,
    "start_time": "2022-06-13T14:04:20.311Z"
   },
   {
    "duration": 79,
    "start_time": "2022-06-13T14:04:20.320Z"
   },
   {
    "duration": 2,
    "start_time": "2022-06-13T14:04:20.401Z"
   },
   {
    "duration": 160,
    "start_time": "2022-06-13T14:04:20.405Z"
   },
   {
    "duration": 3,
    "start_time": "2022-06-13T14:04:20.566Z"
   },
   {
    "duration": 12,
    "start_time": "2022-06-13T14:04:20.571Z"
   },
   {
    "duration": 7,
    "start_time": "2022-06-13T14:04:20.585Z"
   },
   {
    "duration": 7,
    "start_time": "2022-06-13T14:04:20.594Z"
   },
   {
    "duration": 6,
    "start_time": "2022-06-13T14:04:20.603Z"
   },
   {
    "duration": 91,
    "start_time": "2022-06-13T14:04:20.610Z"
   },
   {
    "duration": 0,
    "start_time": "2022-06-13T14:04:20.703Z"
   },
   {
    "duration": 0,
    "start_time": "2022-06-13T14:04:20.704Z"
   },
   {
    "duration": 0,
    "start_time": "2022-06-13T14:04:20.705Z"
   },
   {
    "duration": 0,
    "start_time": "2022-06-13T14:04:20.706Z"
   },
   {
    "duration": 0,
    "start_time": "2022-06-13T14:04:20.706Z"
   },
   {
    "duration": 0,
    "start_time": "2022-06-13T14:04:20.707Z"
   },
   {
    "duration": 0,
    "start_time": "2022-06-13T14:04:20.708Z"
   },
   {
    "duration": 0,
    "start_time": "2022-06-13T14:04:20.709Z"
   },
   {
    "duration": 0,
    "start_time": "2022-06-13T14:04:20.710Z"
   },
   {
    "duration": 0,
    "start_time": "2022-06-13T14:04:20.711Z"
   },
   {
    "duration": 0,
    "start_time": "2022-06-13T14:04:20.712Z"
   },
   {
    "duration": 0,
    "start_time": "2022-06-13T14:04:20.713Z"
   },
   {
    "duration": 996,
    "start_time": "2022-06-13T14:05:27.022Z"
   },
   {
    "duration": 603,
    "start_time": "2022-06-13T14:05:28.020Z"
   },
   {
    "duration": 142,
    "start_time": "2022-06-13T14:05:28.625Z"
   },
   {
    "duration": 76,
    "start_time": "2022-06-13T14:05:28.770Z"
   },
   {
    "duration": 43,
    "start_time": "2022-06-13T14:05:28.848Z"
   },
   {
    "duration": 40,
    "start_time": "2022-06-13T14:05:28.893Z"
   },
   {
    "duration": 2,
    "start_time": "2022-06-13T14:05:28.934Z"
   },
   {
    "duration": 11,
    "start_time": "2022-06-13T14:05:28.938Z"
   },
   {
    "duration": 50,
    "start_time": "2022-06-13T14:05:28.951Z"
   },
   {
    "duration": 3,
    "start_time": "2022-06-13T14:05:29.006Z"
   },
   {
    "duration": 13,
    "start_time": "2022-06-13T14:05:29.010Z"
   },
   {
    "duration": 14,
    "start_time": "2022-06-13T14:05:29.025Z"
   },
   {
    "duration": 64,
    "start_time": "2022-06-13T14:05:29.040Z"
   },
   {
    "duration": 97,
    "start_time": "2022-06-13T14:05:29.196Z"
   },
   {
    "duration": 11,
    "start_time": "2022-06-13T14:05:29.296Z"
   },
   {
    "duration": 12,
    "start_time": "2022-06-13T14:05:29.310Z"
   },
   {
    "duration": 9,
    "start_time": "2022-06-13T14:05:29.323Z"
   },
   {
    "duration": 64,
    "start_time": "2022-06-13T14:05:29.333Z"
   },
   {
    "duration": 197,
    "start_time": "2022-06-13T14:05:29.398Z"
   },
   {
    "duration": 11,
    "start_time": "2022-06-13T14:05:29.598Z"
   },
   {
    "duration": 13,
    "start_time": "2022-06-13T14:05:29.611Z"
   },
   {
    "duration": 3,
    "start_time": "2022-06-13T14:05:29.625Z"
   },
   {
    "duration": 12,
    "start_time": "2022-06-13T14:05:29.629Z"
   },
   {
    "duration": 9,
    "start_time": "2022-06-13T14:05:29.642Z"
   },
   {
    "duration": 6,
    "start_time": "2022-06-13T14:05:29.652Z"
   },
   {
    "duration": 6,
    "start_time": "2022-06-13T14:05:29.659Z"
   },
   {
    "duration": 7,
    "start_time": "2022-06-13T14:05:29.667Z"
   },
   {
    "duration": 4,
    "start_time": "2022-06-13T14:05:29.677Z"
   },
   {
    "duration": 11,
    "start_time": "2022-06-13T14:05:29.682Z"
   },
   {
    "duration": 76,
    "start_time": "2022-06-13T14:05:29.695Z"
   },
   {
    "duration": 2,
    "start_time": "2022-06-13T14:05:29.772Z"
   },
   {
    "duration": 188,
    "start_time": "2022-06-13T14:05:29.776Z"
   },
   {
    "duration": 2,
    "start_time": "2022-06-13T14:05:29.965Z"
   },
   {
    "duration": 4,
    "start_time": "2022-06-13T14:05:29.969Z"
   },
   {
    "duration": 4,
    "start_time": "2022-06-13T14:05:29.975Z"
   },
   {
    "duration": 22,
    "start_time": "2022-06-13T14:05:29.980Z"
   },
   {
    "duration": 12,
    "start_time": "2022-06-13T14:05:30.005Z"
   },
   {
    "duration": 6,
    "start_time": "2022-06-13T14:05:30.018Z"
   },
   {
    "duration": 4300,
    "start_time": "2022-06-13T14:05:30.025Z"
   },
   {
    "duration": 3,
    "start_time": "2022-06-13T14:05:34.326Z"
   },
   {
    "duration": 10,
    "start_time": "2022-06-13T14:05:34.330Z"
   },
   {
    "duration": 4,
    "start_time": "2022-06-13T14:05:34.341Z"
   },
   {
    "duration": 5,
    "start_time": "2022-06-13T14:05:34.346Z"
   },
   {
    "duration": 10,
    "start_time": "2022-06-13T14:05:34.352Z"
   },
   {
    "duration": 10,
    "start_time": "2022-06-13T14:05:34.364Z"
   },
   {
    "duration": 7,
    "start_time": "2022-06-13T14:05:34.375Z"
   },
   {
    "duration": 10,
    "start_time": "2022-06-13T14:05:34.383Z"
   },
   {
    "duration": 32,
    "start_time": "2022-06-13T14:05:34.395Z"
   },
   {
    "duration": 4,
    "start_time": "2022-06-13T14:05:34.429Z"
   },
   {
    "duration": 16,
    "start_time": "2022-06-13T14:05:34.434Z"
   },
   {
    "duration": 916,
    "start_time": "2022-06-13T14:06:38.558Z"
   },
   {
    "duration": 597,
    "start_time": "2022-06-13T14:06:39.475Z"
   },
   {
    "duration": 175,
    "start_time": "2022-06-13T14:06:40.074Z"
   },
   {
    "duration": 87,
    "start_time": "2022-06-13T14:06:40.251Z"
   },
   {
    "duration": 12,
    "start_time": "2022-06-13T14:06:40.339Z"
   },
   {
    "duration": 78,
    "start_time": "2022-06-13T14:06:40.352Z"
   },
   {
    "duration": 3,
    "start_time": "2022-06-13T14:06:40.431Z"
   },
   {
    "duration": 12,
    "start_time": "2022-06-13T14:06:40.435Z"
   },
   {
    "duration": 19,
    "start_time": "2022-06-13T14:06:40.448Z"
   },
   {
    "duration": 3,
    "start_time": "2022-06-13T14:06:40.494Z"
   },
   {
    "duration": 19,
    "start_time": "2022-06-13T14:06:40.499Z"
   },
   {
    "duration": 15,
    "start_time": "2022-06-13T14:06:40.520Z"
   },
   {
    "duration": 57,
    "start_time": "2022-06-13T14:06:40.536Z"
   },
   {
    "duration": 6,
    "start_time": "2022-06-13T14:06:40.595Z"
   },
   {
    "duration": 209,
    "start_time": "2022-06-13T14:06:40.603Z"
   },
   {
    "duration": 5,
    "start_time": "2022-06-13T14:06:40.814Z"
   },
   {
    "duration": 8,
    "start_time": "2022-06-13T14:06:40.821Z"
   },
   {
    "duration": 12,
    "start_time": "2022-06-13T14:06:40.831Z"
   },
   {
    "duration": 51,
    "start_time": "2022-06-13T14:06:40.845Z"
   },
   {
    "duration": 2,
    "start_time": "2022-06-13T14:06:40.898Z"
   },
   {
    "duration": 99,
    "start_time": "2022-06-13T14:06:40.901Z"
   },
   {
    "duration": 15,
    "start_time": "2022-06-13T14:06:41.002Z"
   },
   {
    "duration": 16,
    "start_time": "2022-06-13T14:06:41.019Z"
   },
   {
    "duration": 7,
    "start_time": "2022-06-13T14:06:41.037Z"
   },
   {
    "duration": 4,
    "start_time": "2022-06-13T14:06:41.045Z"
   },
   {
    "duration": 4,
    "start_time": "2022-06-13T14:06:41.051Z"
   },
   {
    "duration": 6,
    "start_time": "2022-06-13T14:06:41.056Z"
   },
   {
    "duration": 5,
    "start_time": "2022-06-13T14:06:41.065Z"
   },
   {
    "duration": 8,
    "start_time": "2022-06-13T14:06:41.071Z"
   },
   {
    "duration": 185,
    "start_time": "2022-06-13T14:06:41.080Z"
   },
   {
    "duration": 0,
    "start_time": "2022-06-13T14:06:41.266Z"
   },
   {
    "duration": 0,
    "start_time": "2022-06-13T14:06:41.267Z"
   },
   {
    "duration": 0,
    "start_time": "2022-06-13T14:06:41.268Z"
   },
   {
    "duration": 0,
    "start_time": "2022-06-13T14:06:41.269Z"
   },
   {
    "duration": 0,
    "start_time": "2022-06-13T14:06:41.270Z"
   },
   {
    "duration": 0,
    "start_time": "2022-06-13T14:06:41.271Z"
   },
   {
    "duration": 0,
    "start_time": "2022-06-13T14:06:41.272Z"
   },
   {
    "duration": 0,
    "start_time": "2022-06-13T14:06:41.273Z"
   },
   {
    "duration": 0,
    "start_time": "2022-06-13T14:06:41.274Z"
   },
   {
    "duration": 0,
    "start_time": "2022-06-13T14:06:41.275Z"
   },
   {
    "duration": 0,
    "start_time": "2022-06-13T14:06:41.276Z"
   },
   {
    "duration": 0,
    "start_time": "2022-06-13T14:06:41.292Z"
   },
   {
    "duration": 0,
    "start_time": "2022-06-13T14:06:41.293Z"
   },
   {
    "duration": 0,
    "start_time": "2022-06-13T14:06:41.294Z"
   },
   {
    "duration": 0,
    "start_time": "2022-06-13T14:06:41.295Z"
   },
   {
    "duration": 0,
    "start_time": "2022-06-13T14:06:41.296Z"
   },
   {
    "duration": 0,
    "start_time": "2022-06-13T14:06:41.297Z"
   },
   {
    "duration": 0,
    "start_time": "2022-06-13T14:06:41.298Z"
   },
   {
    "duration": 0,
    "start_time": "2022-06-13T14:06:41.299Z"
   },
   {
    "duration": 0,
    "start_time": "2022-06-13T14:06:41.301Z"
   },
   {
    "duration": 83,
    "start_time": "2022-06-13T14:07:07.337Z"
   },
   {
    "duration": 1151,
    "start_time": "2022-06-13T14:08:25.387Z"
   },
   {
    "duration": 695,
    "start_time": "2022-06-13T14:08:26.540Z"
   },
   {
    "duration": 166,
    "start_time": "2022-06-13T14:08:27.237Z"
   },
   {
    "duration": 64,
    "start_time": "2022-06-13T14:08:27.409Z"
   },
   {
    "duration": 22,
    "start_time": "2022-06-13T14:08:27.491Z"
   },
   {
    "duration": 33,
    "start_time": "2022-06-13T14:08:27.515Z"
   },
   {
    "duration": 3,
    "start_time": "2022-06-13T14:08:27.549Z"
   },
   {
    "duration": 47,
    "start_time": "2022-06-13T14:08:27.553Z"
   },
   {
    "duration": 22,
    "start_time": "2022-06-13T14:08:27.602Z"
   },
   {
    "duration": 2,
    "start_time": "2022-06-13T14:08:27.627Z"
   },
   {
    "duration": 9,
    "start_time": "2022-06-13T14:08:27.631Z"
   },
   {
    "duration": 20,
    "start_time": "2022-06-13T14:08:27.642Z"
   },
   {
    "duration": 60,
    "start_time": "2022-06-13T14:08:27.664Z"
   },
   {
    "duration": 77,
    "start_time": "2022-06-13T14:08:27.726Z"
   },
   {
    "duration": 115,
    "start_time": "2022-06-13T14:08:27.806Z"
   },
   {
    "duration": 5,
    "start_time": "2022-06-13T14:08:27.923Z"
   },
   {
    "duration": 20,
    "start_time": "2022-06-13T14:08:27.930Z"
   },
   {
    "duration": 18,
    "start_time": "2022-06-13T14:08:27.952Z"
   },
   {
    "duration": 121,
    "start_time": "2022-06-13T14:08:27.998Z"
   },
   {
    "duration": 4,
    "start_time": "2022-06-13T14:08:28.121Z"
   },
   {
    "duration": 13,
    "start_time": "2022-06-13T14:08:28.127Z"
   },
   {
    "duration": 16,
    "start_time": "2022-06-13T14:08:28.142Z"
   },
   {
    "duration": 7,
    "start_time": "2022-06-13T14:08:28.160Z"
   },
   {
    "duration": 6,
    "start_time": "2022-06-13T14:08:28.169Z"
   },
   {
    "duration": 4,
    "start_time": "2022-06-13T14:08:28.177Z"
   },
   {
    "duration": 4,
    "start_time": "2022-06-13T14:08:28.183Z"
   },
   {
    "duration": 29,
    "start_time": "2022-06-13T14:08:28.189Z"
   },
   {
    "duration": 6,
    "start_time": "2022-06-13T14:08:28.222Z"
   },
   {
    "duration": 13,
    "start_time": "2022-06-13T14:08:28.230Z"
   },
   {
    "duration": 115,
    "start_time": "2022-06-13T14:08:28.244Z"
   },
   {
    "duration": 2,
    "start_time": "2022-06-13T14:08:28.361Z"
   },
   {
    "duration": 194,
    "start_time": "2022-06-13T14:08:28.364Z"
   },
   {
    "duration": 2,
    "start_time": "2022-06-13T14:08:28.560Z"
   },
   {
    "duration": 13,
    "start_time": "2022-06-13T14:08:28.564Z"
   },
   {
    "duration": 19,
    "start_time": "2022-06-13T14:08:28.579Z"
   },
   {
    "duration": 10,
    "start_time": "2022-06-13T14:08:28.600Z"
   },
   {
    "duration": 11,
    "start_time": "2022-06-13T14:08:28.612Z"
   },
   {
    "duration": 6,
    "start_time": "2022-06-13T14:08:28.624Z"
   },
   {
    "duration": 4582,
    "start_time": "2022-06-13T14:08:28.631Z"
   },
   {
    "duration": 6,
    "start_time": "2022-06-13T14:08:33.215Z"
   },
   {
    "duration": 7,
    "start_time": "2022-06-13T14:08:33.223Z"
   },
   {
    "duration": 5,
    "start_time": "2022-06-13T14:08:33.231Z"
   },
   {
    "duration": 4,
    "start_time": "2022-06-13T14:08:33.238Z"
   },
   {
    "duration": 6,
    "start_time": "2022-06-13T14:08:33.243Z"
   },
   {
    "duration": 8,
    "start_time": "2022-06-13T14:08:33.250Z"
   },
   {
    "duration": 13,
    "start_time": "2022-06-13T14:08:33.265Z"
   },
   {
    "duration": 11,
    "start_time": "2022-06-13T14:08:33.280Z"
   },
   {
    "duration": 35,
    "start_time": "2022-06-13T14:08:33.293Z"
   },
   {
    "duration": 5,
    "start_time": "2022-06-13T14:08:33.330Z"
   },
   {
    "duration": 13,
    "start_time": "2022-06-13T14:08:33.337Z"
   },
   {
    "duration": 85,
    "start_time": "2022-06-13T14:09:29.128Z"
   },
   {
    "duration": 18,
    "start_time": "2022-06-13T14:09:37.175Z"
   },
   {
    "duration": 6,
    "start_time": "2022-06-13T14:10:12.438Z"
   },
   {
    "duration": 1044,
    "start_time": "2022-06-13T14:10:35.918Z"
   },
   {
    "duration": 655,
    "start_time": "2022-06-13T14:10:36.965Z"
   },
   {
    "duration": 152,
    "start_time": "2022-06-13T14:10:37.622Z"
   },
   {
    "duration": 79,
    "start_time": "2022-06-13T14:10:37.775Z"
   },
   {
    "duration": 40,
    "start_time": "2022-06-13T14:10:37.855Z"
   },
   {
    "duration": 34,
    "start_time": "2022-06-13T14:10:37.896Z"
   },
   {
    "duration": 2,
    "start_time": "2022-06-13T14:10:37.932Z"
   },
   {
    "duration": 13,
    "start_time": "2022-06-13T14:10:37.935Z"
   },
   {
    "duration": 50,
    "start_time": "2022-06-13T14:10:37.949Z"
   },
   {
    "duration": 4,
    "start_time": "2022-06-13T14:10:38.002Z"
   },
   {
    "duration": 18,
    "start_time": "2022-06-13T14:10:38.008Z"
   },
   {
    "duration": 12,
    "start_time": "2022-06-13T14:10:38.027Z"
   },
   {
    "duration": 70,
    "start_time": "2022-06-13T14:10:38.041Z"
   },
   {
    "duration": 7,
    "start_time": "2022-06-13T14:10:38.197Z"
   },
   {
    "duration": 104,
    "start_time": "2022-06-13T14:10:38.206Z"
   },
   {
    "duration": 4,
    "start_time": "2022-06-13T14:10:38.312Z"
   },
   {
    "duration": 14,
    "start_time": "2022-06-13T14:10:38.318Z"
   },
   {
    "duration": 8,
    "start_time": "2022-06-13T14:10:38.333Z"
   },
   {
    "duration": 112,
    "start_time": "2022-06-13T14:10:38.392Z"
   },
   {
    "duration": 9,
    "start_time": "2022-06-13T14:10:38.506Z"
   },
   {
    "duration": 13,
    "start_time": "2022-06-13T14:10:38.517Z"
   },
   {
    "duration": 7,
    "start_time": "2022-06-13T14:10:38.532Z"
   },
   {
    "duration": 9,
    "start_time": "2022-06-13T14:10:38.541Z"
   },
   {
    "duration": 7,
    "start_time": "2022-06-13T14:10:38.551Z"
   },
   {
    "duration": 4,
    "start_time": "2022-06-13T14:10:38.560Z"
   },
   {
    "duration": 5,
    "start_time": "2022-06-13T14:10:38.565Z"
   },
   {
    "duration": 9,
    "start_time": "2022-06-13T14:10:38.571Z"
   },
   {
    "duration": 4,
    "start_time": "2022-06-13T14:10:38.584Z"
   },
   {
    "duration": 11,
    "start_time": "2022-06-13T14:10:38.589Z"
   },
   {
    "duration": 104,
    "start_time": "2022-06-13T14:10:38.602Z"
   },
   {
    "duration": 6,
    "start_time": "2022-06-13T14:10:38.707Z"
   },
   {
    "duration": 8,
    "start_time": "2022-06-13T14:10:38.714Z"
   },
   {
    "duration": 6,
    "start_time": "2022-06-13T14:10:38.723Z"
   },
   {
    "duration": 4,
    "start_time": "2022-06-13T14:10:38.730Z"
   },
   {
    "duration": 4,
    "start_time": "2022-06-13T14:10:38.735Z"
   },
   {
    "duration": 5,
    "start_time": "2022-06-13T14:10:38.741Z"
   },
   {
    "duration": 6,
    "start_time": "2022-06-13T14:10:38.748Z"
   },
   {
    "duration": 4327,
    "start_time": "2022-06-13T14:10:38.755Z"
   },
   {
    "duration": 8,
    "start_time": "2022-06-13T14:10:43.084Z"
   },
   {
    "duration": 19,
    "start_time": "2022-06-13T14:10:43.095Z"
   },
   {
    "duration": 9,
    "start_time": "2022-06-13T14:10:43.116Z"
   },
   {
    "duration": 6,
    "start_time": "2022-06-13T14:10:43.127Z"
   },
   {
    "duration": 7,
    "start_time": "2022-06-13T14:10:43.135Z"
   },
   {
    "duration": 9,
    "start_time": "2022-06-13T14:10:43.143Z"
   },
   {
    "duration": 5,
    "start_time": "2022-06-13T14:10:43.153Z"
   },
   {
    "duration": 9,
    "start_time": "2022-06-13T14:10:43.159Z"
   },
   {
    "duration": 21,
    "start_time": "2022-06-13T14:10:43.170Z"
   },
   {
    "duration": 7,
    "start_time": "2022-06-13T14:10:43.193Z"
   },
   {
    "duration": 21,
    "start_time": "2022-06-13T14:10:43.202Z"
   },
   {
    "duration": 580,
    "start_time": "2022-06-13T14:12:48.638Z"
   },
   {
    "duration": 15,
    "start_time": "2022-06-13T14:13:27.648Z"
   },
   {
    "duration": 15,
    "start_time": "2022-06-13T14:13:47.442Z"
   },
   {
    "duration": 944,
    "start_time": "2022-06-13T14:14:06.710Z"
   },
   {
    "duration": 545,
    "start_time": "2022-06-13T14:14:07.655Z"
   },
   {
    "duration": 136,
    "start_time": "2022-06-13T14:14:08.201Z"
   },
   {
    "duration": 81,
    "start_time": "2022-06-13T14:14:08.339Z"
   },
   {
    "duration": 13,
    "start_time": "2022-06-13T14:14:08.422Z"
   },
   {
    "duration": 64,
    "start_time": "2022-06-13T14:14:08.437Z"
   },
   {
    "duration": 3,
    "start_time": "2022-06-13T14:14:08.503Z"
   },
   {
    "duration": 12,
    "start_time": "2022-06-13T14:14:08.507Z"
   },
   {
    "duration": 18,
    "start_time": "2022-06-13T14:14:08.521Z"
   },
   {
    "duration": 2,
    "start_time": "2022-06-13T14:14:08.541Z"
   },
   {
    "duration": 8,
    "start_time": "2022-06-13T14:14:08.545Z"
   },
   {
    "duration": 43,
    "start_time": "2022-06-13T14:14:08.555Z"
   },
   {
    "duration": 31,
    "start_time": "2022-06-13T14:14:08.600Z"
   },
   {
    "duration": 8,
    "start_time": "2022-06-13T14:14:08.691Z"
   },
   {
    "duration": 13,
    "start_time": "2022-06-13T14:14:08.791Z"
   },
   {
    "duration": 5,
    "start_time": "2022-06-13T14:14:08.806Z"
   },
   {
    "duration": 13,
    "start_time": "2022-06-13T14:14:08.812Z"
   },
   {
    "duration": 7,
    "start_time": "2022-06-13T14:14:08.826Z"
   },
   {
    "duration": 58,
    "start_time": "2022-06-13T14:14:08.834Z"
   },
   {
    "duration": 98,
    "start_time": "2022-06-13T14:14:08.894Z"
   },
   {
    "duration": 8,
    "start_time": "2022-06-13T14:14:08.994Z"
   },
   {
    "duration": 2,
    "start_time": "2022-06-13T14:14:09.003Z"
   },
   {
    "duration": 6,
    "start_time": "2022-06-13T14:14:09.007Z"
   },
   {
    "duration": 6,
    "start_time": "2022-06-13T14:14:09.015Z"
   },
   {
    "duration": 4,
    "start_time": "2022-06-13T14:14:09.022Z"
   },
   {
    "duration": 5,
    "start_time": "2022-06-13T14:14:09.028Z"
   },
   {
    "duration": 6,
    "start_time": "2022-06-13T14:14:09.034Z"
   },
   {
    "duration": 3,
    "start_time": "2022-06-13T14:14:09.043Z"
   },
   {
    "duration": 7,
    "start_time": "2022-06-13T14:14:09.047Z"
   },
   {
    "duration": 197,
    "start_time": "2022-06-13T14:14:09.056Z"
   },
   {
    "duration": 1,
    "start_time": "2022-06-13T14:14:09.254Z"
   },
   {
    "duration": 0,
    "start_time": "2022-06-13T14:14:09.256Z"
   },
   {
    "duration": 0,
    "start_time": "2022-06-13T14:14:09.257Z"
   },
   {
    "duration": 0,
    "start_time": "2022-06-13T14:14:09.257Z"
   },
   {
    "duration": 0,
    "start_time": "2022-06-13T14:14:09.258Z"
   },
   {
    "duration": 0,
    "start_time": "2022-06-13T14:14:09.259Z"
   },
   {
    "duration": 0,
    "start_time": "2022-06-13T14:14:09.260Z"
   },
   {
    "duration": 0,
    "start_time": "2022-06-13T14:14:09.261Z"
   },
   {
    "duration": 0,
    "start_time": "2022-06-13T14:14:09.262Z"
   },
   {
    "duration": 0,
    "start_time": "2022-06-13T14:14:09.263Z"
   },
   {
    "duration": 0,
    "start_time": "2022-06-13T14:14:09.264Z"
   },
   {
    "duration": 0,
    "start_time": "2022-06-13T14:14:09.265Z"
   },
   {
    "duration": 0,
    "start_time": "2022-06-13T14:14:09.266Z"
   },
   {
    "duration": 0,
    "start_time": "2022-06-13T14:14:09.267Z"
   },
   {
    "duration": 0,
    "start_time": "2022-06-13T14:14:09.267Z"
   },
   {
    "duration": 0,
    "start_time": "2022-06-13T14:14:09.291Z"
   },
   {
    "duration": 0,
    "start_time": "2022-06-13T14:14:09.292Z"
   },
   {
    "duration": 0,
    "start_time": "2022-06-13T14:14:09.293Z"
   },
   {
    "duration": 0,
    "start_time": "2022-06-13T14:14:09.294Z"
   },
   {
    "duration": 89,
    "start_time": "2022-06-13T14:16:50.535Z"
   },
   {
    "duration": 16,
    "start_time": "2022-06-13T14:17:31.988Z"
   },
   {
    "duration": 954,
    "start_time": "2022-06-13T14:17:40.732Z"
   },
   {
    "duration": 565,
    "start_time": "2022-06-13T14:17:41.690Z"
   },
   {
    "duration": 146,
    "start_time": "2022-06-13T14:17:42.256Z"
   },
   {
    "duration": 54,
    "start_time": "2022-06-13T14:17:42.404Z"
   },
   {
    "duration": 37,
    "start_time": "2022-06-13T14:17:42.460Z"
   },
   {
    "duration": 37,
    "start_time": "2022-06-13T14:17:42.498Z"
   },
   {
    "duration": 3,
    "start_time": "2022-06-13T14:17:42.537Z"
   },
   {
    "duration": 12,
    "start_time": "2022-06-13T14:17:42.541Z"
   },
   {
    "duration": 46,
    "start_time": "2022-06-13T14:17:42.555Z"
   },
   {
    "duration": 2,
    "start_time": "2022-06-13T14:17:42.604Z"
   },
   {
    "duration": 9,
    "start_time": "2022-06-13T14:17:42.607Z"
   },
   {
    "duration": 12,
    "start_time": "2022-06-13T14:17:42.617Z"
   },
   {
    "duration": 66,
    "start_time": "2022-06-13T14:17:42.630Z"
   },
   {
    "duration": 97,
    "start_time": "2022-06-13T14:17:42.698Z"
   },
   {
    "duration": 104,
    "start_time": "2022-06-13T14:17:42.797Z"
   },
   {
    "duration": 4,
    "start_time": "2022-06-13T14:17:42.902Z"
   },
   {
    "duration": 9,
    "start_time": "2022-06-13T14:17:42.907Z"
   },
   {
    "duration": 7,
    "start_time": "2022-06-13T14:17:42.917Z"
   },
   {
    "duration": 167,
    "start_time": "2022-06-13T14:17:42.925Z"
   },
   {
    "duration": 8,
    "start_time": "2022-06-13T14:17:43.094Z"
   },
   {
    "duration": 11,
    "start_time": "2022-06-13T14:17:43.104Z"
   },
   {
    "duration": 6,
    "start_time": "2022-06-13T14:17:43.116Z"
   },
   {
    "duration": 9,
    "start_time": "2022-06-13T14:17:43.123Z"
   },
   {
    "duration": 4,
    "start_time": "2022-06-13T14:17:43.133Z"
   },
   {
    "duration": 5,
    "start_time": "2022-06-13T14:17:43.139Z"
   },
   {
    "duration": 5,
    "start_time": "2022-06-13T14:17:43.145Z"
   },
   {
    "duration": 7,
    "start_time": "2022-06-13T14:17:43.153Z"
   },
   {
    "duration": 6,
    "start_time": "2022-06-13T14:17:43.164Z"
   },
   {
    "duration": 21,
    "start_time": "2022-06-13T14:17:43.172Z"
   },
   {
    "duration": 129,
    "start_time": "2022-06-13T14:17:43.194Z"
   },
   {
    "duration": 5,
    "start_time": "2022-06-13T14:17:43.324Z"
   },
   {
    "duration": 10,
    "start_time": "2022-06-13T14:17:43.330Z"
   },
   {
    "duration": 7,
    "start_time": "2022-06-13T14:17:43.341Z"
   },
   {
    "duration": 11,
    "start_time": "2022-06-13T14:17:43.349Z"
   },
   {
    "duration": 7,
    "start_time": "2022-06-13T14:17:43.361Z"
   },
   {
    "duration": 11,
    "start_time": "2022-06-13T14:17:43.369Z"
   },
   {
    "duration": 5,
    "start_time": "2022-06-13T14:17:43.382Z"
   },
   {
    "duration": 4063,
    "start_time": "2022-06-13T14:17:43.389Z"
   },
   {
    "duration": 3,
    "start_time": "2022-06-13T14:17:47.453Z"
   },
   {
    "duration": 7,
    "start_time": "2022-06-13T14:17:47.458Z"
   },
   {
    "duration": 25,
    "start_time": "2022-06-13T14:17:47.467Z"
   },
   {
    "duration": 14,
    "start_time": "2022-06-13T14:17:47.493Z"
   },
   {
    "duration": 6,
    "start_time": "2022-06-13T14:17:47.508Z"
   },
   {
    "duration": 9,
    "start_time": "2022-06-13T14:17:47.516Z"
   },
   {
    "duration": 5,
    "start_time": "2022-06-13T14:17:47.526Z"
   },
   {
    "duration": 6,
    "start_time": "2022-06-13T14:17:47.533Z"
   },
   {
    "duration": 13,
    "start_time": "2022-06-13T14:17:47.540Z"
   },
   {
    "duration": 3,
    "start_time": "2022-06-13T14:17:47.554Z"
   },
   {
    "duration": 11,
    "start_time": "2022-06-13T14:17:47.558Z"
   },
   {
    "duration": 194,
    "start_time": "2022-06-13T14:18:38.540Z"
   },
   {
    "duration": 19,
    "start_time": "2022-06-13T14:18:46.828Z"
   },
   {
    "duration": 925,
    "start_time": "2022-06-13T14:18:51.798Z"
   },
   {
    "duration": 528,
    "start_time": "2022-06-13T14:18:52.725Z"
   },
   {
    "duration": 144,
    "start_time": "2022-06-13T14:18:53.254Z"
   },
   {
    "duration": 52,
    "start_time": "2022-06-13T14:18:53.400Z"
   },
   {
    "duration": 38,
    "start_time": "2022-06-13T14:18:53.454Z"
   },
   {
    "duration": 30,
    "start_time": "2022-06-13T14:18:53.493Z"
   },
   {
    "duration": 2,
    "start_time": "2022-06-13T14:18:53.524Z"
   },
   {
    "duration": 12,
    "start_time": "2022-06-13T14:18:53.527Z"
   },
   {
    "duration": 19,
    "start_time": "2022-06-13T14:18:53.540Z"
   },
   {
    "duration": 30,
    "start_time": "2022-06-13T14:18:53.561Z"
   },
   {
    "duration": 8,
    "start_time": "2022-06-13T14:18:53.593Z"
   },
   {
    "duration": 11,
    "start_time": "2022-06-13T14:18:53.602Z"
   },
   {
    "duration": 78,
    "start_time": "2022-06-13T14:18:53.614Z"
   },
   {
    "duration": 6,
    "start_time": "2022-06-13T14:18:53.695Z"
   },
   {
    "duration": 101,
    "start_time": "2022-06-13T14:18:53.703Z"
   },
   {
    "duration": 5,
    "start_time": "2022-06-13T14:18:53.805Z"
   },
   {
    "duration": 10,
    "start_time": "2022-06-13T14:18:53.812Z"
   },
   {
    "duration": 11,
    "start_time": "2022-06-13T14:18:53.823Z"
   },
   {
    "duration": 7,
    "start_time": "2022-06-13T14:18:53.890Z"
   },
   {
    "duration": 92,
    "start_time": "2022-06-13T14:18:53.899Z"
   },
   {
    "duration": 6,
    "start_time": "2022-06-13T14:18:53.993Z"
   },
   {
    "duration": 5,
    "start_time": "2022-06-13T14:18:54.000Z"
   },
   {
    "duration": 6,
    "start_time": "2022-06-13T14:18:54.006Z"
   },
   {
    "duration": 5,
    "start_time": "2022-06-13T14:18:54.013Z"
   },
   {
    "duration": 4,
    "start_time": "2022-06-13T14:18:54.020Z"
   },
   {
    "duration": 5,
    "start_time": "2022-06-13T14:18:54.026Z"
   },
   {
    "duration": 7,
    "start_time": "2022-06-13T14:18:54.032Z"
   },
   {
    "duration": 4,
    "start_time": "2022-06-13T14:18:54.042Z"
   },
   {
    "duration": 7,
    "start_time": "2022-06-13T14:18:54.047Z"
   },
   {
    "duration": 140,
    "start_time": "2022-06-13T14:18:54.055Z"
   },
   {
    "duration": 6,
    "start_time": "2022-06-13T14:18:54.196Z"
   },
   {
    "duration": 7,
    "start_time": "2022-06-13T14:18:54.203Z"
   },
   {
    "duration": 6,
    "start_time": "2022-06-13T14:18:54.211Z"
   },
   {
    "duration": 13,
    "start_time": "2022-06-13T14:18:54.219Z"
   },
   {
    "duration": 5,
    "start_time": "2022-06-13T14:18:54.233Z"
   },
   {
    "duration": 6,
    "start_time": "2022-06-13T14:18:54.239Z"
   },
   {
    "duration": 5,
    "start_time": "2022-06-13T14:18:54.246Z"
   },
   {
    "duration": 3834,
    "start_time": "2022-06-13T14:18:54.253Z"
   },
   {
    "duration": 2,
    "start_time": "2022-06-13T14:18:58.089Z"
   },
   {
    "duration": 19,
    "start_time": "2022-06-13T14:18:58.093Z"
   },
   {
    "duration": 11,
    "start_time": "2022-06-13T14:18:58.113Z"
   },
   {
    "duration": 7,
    "start_time": "2022-06-13T14:18:58.125Z"
   },
   {
    "duration": 19,
    "start_time": "2022-06-13T14:18:58.134Z"
   },
   {
    "duration": 7,
    "start_time": "2022-06-13T14:18:58.154Z"
   },
   {
    "duration": 9,
    "start_time": "2022-06-13T14:18:58.162Z"
   },
   {
    "duration": 20,
    "start_time": "2022-06-13T14:18:58.172Z"
   },
   {
    "duration": 17,
    "start_time": "2022-06-13T14:18:58.194Z"
   },
   {
    "duration": 4,
    "start_time": "2022-06-13T14:18:58.213Z"
   },
   {
    "duration": 32,
    "start_time": "2022-06-13T14:18:58.218Z"
   },
   {
    "duration": 226,
    "start_time": "2022-06-13T14:19:27.295Z"
   },
   {
    "duration": 986,
    "start_time": "2022-06-13T14:19:33.368Z"
   },
   {
    "duration": 577,
    "start_time": "2022-06-13T14:19:34.356Z"
   },
   {
    "duration": 129,
    "start_time": "2022-06-13T14:19:34.935Z"
   },
   {
    "duration": 77,
    "start_time": "2022-06-13T14:19:35.066Z"
   },
   {
    "duration": 12,
    "start_time": "2022-06-13T14:19:35.145Z"
   },
   {
    "duration": 59,
    "start_time": "2022-06-13T14:19:35.158Z"
   },
   {
    "duration": 2,
    "start_time": "2022-06-13T14:19:35.219Z"
   },
   {
    "duration": 12,
    "start_time": "2022-06-13T14:19:35.222Z"
   },
   {
    "duration": 20,
    "start_time": "2022-06-13T14:19:35.235Z"
   },
   {
    "duration": 2,
    "start_time": "2022-06-13T14:19:35.258Z"
   },
   {
    "duration": 7,
    "start_time": "2022-06-13T14:19:35.292Z"
   },
   {
    "duration": 12,
    "start_time": "2022-06-13T14:19:35.301Z"
   },
   {
    "duration": 83,
    "start_time": "2022-06-13T14:19:35.314Z"
   },
   {
    "duration": 91,
    "start_time": "2022-06-13T14:19:35.399Z"
   },
   {
    "duration": 111,
    "start_time": "2022-06-13T14:19:35.492Z"
   },
   {
    "duration": 4,
    "start_time": "2022-06-13T14:19:35.605Z"
   },
   {
    "duration": 9,
    "start_time": "2022-06-13T14:19:35.611Z"
   },
   {
    "duration": 77,
    "start_time": "2022-06-13T14:19:35.621Z"
   },
   {
    "duration": 194,
    "start_time": "2022-06-13T14:19:35.700Z"
   },
   {
    "duration": 5,
    "start_time": "2022-06-13T14:19:35.896Z"
   },
   {
    "duration": 7,
    "start_time": "2022-06-13T14:19:35.902Z"
   },
   {
    "duration": 2,
    "start_time": "2022-06-13T14:19:35.910Z"
   },
   {
    "duration": 7,
    "start_time": "2022-06-13T14:19:35.913Z"
   },
   {
    "duration": 5,
    "start_time": "2022-06-13T14:19:35.921Z"
   },
   {
    "duration": 5,
    "start_time": "2022-06-13T14:19:35.927Z"
   },
   {
    "duration": 6,
    "start_time": "2022-06-13T14:19:35.933Z"
   },
   {
    "duration": 9,
    "start_time": "2022-06-13T14:19:35.940Z"
   },
   {
    "duration": 4,
    "start_time": "2022-06-13T14:19:35.952Z"
   },
   {
    "duration": 9,
    "start_time": "2022-06-13T14:19:35.957Z"
   },
   {
    "duration": 208,
    "start_time": "2022-06-13T14:19:35.967Z"
   },
   {
    "duration": 0,
    "start_time": "2022-06-13T14:19:36.176Z"
   },
   {
    "duration": 0,
    "start_time": "2022-06-13T14:19:36.177Z"
   },
   {
    "duration": 0,
    "start_time": "2022-06-13T14:19:36.178Z"
   },
   {
    "duration": 0,
    "start_time": "2022-06-13T14:19:36.179Z"
   },
   {
    "duration": 0,
    "start_time": "2022-06-13T14:19:36.180Z"
   },
   {
    "duration": 0,
    "start_time": "2022-06-13T14:19:36.181Z"
   },
   {
    "duration": 0,
    "start_time": "2022-06-13T14:19:36.182Z"
   },
   {
    "duration": 0,
    "start_time": "2022-06-13T14:19:36.190Z"
   },
   {
    "duration": 0,
    "start_time": "2022-06-13T14:19:36.191Z"
   },
   {
    "duration": 0,
    "start_time": "2022-06-13T14:19:36.193Z"
   },
   {
    "duration": 0,
    "start_time": "2022-06-13T14:19:36.194Z"
   },
   {
    "duration": 0,
    "start_time": "2022-06-13T14:19:36.195Z"
   },
   {
    "duration": 0,
    "start_time": "2022-06-13T14:19:36.196Z"
   },
   {
    "duration": 0,
    "start_time": "2022-06-13T14:19:36.198Z"
   },
   {
    "duration": 0,
    "start_time": "2022-06-13T14:19:36.199Z"
   },
   {
    "duration": 0,
    "start_time": "2022-06-13T14:19:36.200Z"
   },
   {
    "duration": 0,
    "start_time": "2022-06-13T14:19:36.201Z"
   },
   {
    "duration": 0,
    "start_time": "2022-06-13T14:19:36.202Z"
   },
   {
    "duration": 0,
    "start_time": "2022-06-13T14:19:36.203Z"
   },
   {
    "duration": 1003,
    "start_time": "2022-06-13T14:21:10.708Z"
   },
   {
    "duration": 581,
    "start_time": "2022-06-13T14:21:11.713Z"
   },
   {
    "duration": 164,
    "start_time": "2022-06-13T14:21:12.296Z"
   },
   {
    "duration": 82,
    "start_time": "2022-06-13T14:21:12.463Z"
   },
   {
    "duration": 16,
    "start_time": "2022-06-13T14:21:12.547Z"
   },
   {
    "duration": 38,
    "start_time": "2022-06-13T14:21:12.591Z"
   },
   {
    "duration": 2,
    "start_time": "2022-06-13T14:21:12.630Z"
   },
   {
    "duration": 11,
    "start_time": "2022-06-13T14:21:12.634Z"
   },
   {
    "duration": 52,
    "start_time": "2022-06-13T14:21:12.646Z"
   },
   {
    "duration": 2,
    "start_time": "2022-06-13T14:21:12.701Z"
   },
   {
    "duration": 10,
    "start_time": "2022-06-13T14:21:12.705Z"
   },
   {
    "duration": 18,
    "start_time": "2022-06-13T14:21:12.716Z"
   },
   {
    "duration": 165,
    "start_time": "2022-06-13T14:21:12.736Z"
   },
   {
    "duration": 87,
    "start_time": "2022-06-13T14:21:12.905Z"
   },
   {
    "duration": 20,
    "start_time": "2022-06-13T14:21:12.994Z"
   },
   {
    "duration": 5,
    "start_time": "2022-06-13T14:21:13.016Z"
   },
   {
    "duration": 22,
    "start_time": "2022-06-13T14:21:13.023Z"
   },
   {
    "duration": 14,
    "start_time": "2022-06-13T14:21:13.046Z"
   },
   {
    "duration": 3,
    "start_time": "2022-06-13T14:21:13.094Z"
   },
   {
    "duration": 92,
    "start_time": "2022-06-13T14:21:13.099Z"
   },
   {
    "duration": 8,
    "start_time": "2022-06-13T14:21:13.193Z"
   },
   {
    "duration": 9,
    "start_time": "2022-06-13T14:21:13.203Z"
   },
   {
    "duration": 7,
    "start_time": "2022-06-13T14:21:13.213Z"
   },
   {
    "duration": 5,
    "start_time": "2022-06-13T14:21:13.221Z"
   },
   {
    "duration": 7,
    "start_time": "2022-06-13T14:21:13.227Z"
   },
   {
    "duration": 6,
    "start_time": "2022-06-13T14:21:13.235Z"
   },
   {
    "duration": 6,
    "start_time": "2022-06-13T14:21:13.243Z"
   },
   {
    "duration": 5,
    "start_time": "2022-06-13T14:21:13.252Z"
   },
   {
    "duration": 12,
    "start_time": "2022-06-13T14:21:13.258Z"
   },
   {
    "duration": 246,
    "start_time": "2022-06-13T14:21:13.273Z"
   },
   {
    "duration": 8,
    "start_time": "2022-06-13T14:21:13.521Z"
   },
   {
    "duration": 13,
    "start_time": "2022-06-13T14:21:13.531Z"
   },
   {
    "duration": 10,
    "start_time": "2022-06-13T14:21:13.546Z"
   },
   {
    "duration": 10,
    "start_time": "2022-06-13T14:21:13.557Z"
   },
   {
    "duration": 7,
    "start_time": "2022-06-13T14:21:13.569Z"
   },
   {
    "duration": 15,
    "start_time": "2022-06-13T14:21:13.577Z"
   },
   {
    "duration": 13,
    "start_time": "2022-06-13T14:21:13.593Z"
   },
   {
    "duration": 5427,
    "start_time": "2022-06-13T14:21:13.607Z"
   },
   {
    "duration": 56,
    "start_time": "2022-06-13T14:21:19.036Z"
   },
   {
    "duration": 14,
    "start_time": "2022-06-13T14:21:19.094Z"
   },
   {
    "duration": 7,
    "start_time": "2022-06-13T14:21:19.110Z"
   },
   {
    "duration": 10,
    "start_time": "2022-06-13T14:21:19.119Z"
   },
   {
    "duration": 6,
    "start_time": "2022-06-13T14:21:19.130Z"
   },
   {
    "duration": 13,
    "start_time": "2022-06-13T14:21:19.138Z"
   },
   {
    "duration": 4,
    "start_time": "2022-06-13T14:21:19.153Z"
   },
   {
    "duration": 6,
    "start_time": "2022-06-13T14:21:19.192Z"
   },
   {
    "duration": 10,
    "start_time": "2022-06-13T14:21:19.200Z"
   },
   {
    "duration": 3,
    "start_time": "2022-06-13T14:21:19.212Z"
   },
   {
    "duration": 9,
    "start_time": "2022-06-13T14:21:19.217Z"
   },
   {
    "duration": 976,
    "start_time": "2022-06-13T14:27:37.011Z"
   },
   {
    "duration": 548,
    "start_time": "2022-06-13T14:27:37.989Z"
   },
   {
    "duration": 155,
    "start_time": "2022-06-13T14:27:38.539Z"
   },
   {
    "duration": 58,
    "start_time": "2022-06-13T14:27:38.696Z"
   },
   {
    "duration": 39,
    "start_time": "2022-06-13T14:27:38.756Z"
   },
   {
    "duration": 35,
    "start_time": "2022-06-13T14:27:38.796Z"
   },
   {
    "duration": 2,
    "start_time": "2022-06-13T14:27:38.833Z"
   },
   {
    "duration": 10,
    "start_time": "2022-06-13T14:27:38.837Z"
   },
   {
    "duration": 51,
    "start_time": "2022-06-13T14:27:38.848Z"
   },
   {
    "duration": 2,
    "start_time": "2022-06-13T14:27:38.902Z"
   },
   {
    "duration": 9,
    "start_time": "2022-06-13T14:27:38.905Z"
   },
   {
    "duration": 13,
    "start_time": "2022-06-13T14:27:38.916Z"
   },
   {
    "duration": 63,
    "start_time": "2022-06-13T14:27:38.931Z"
   },
   {
    "duration": 96,
    "start_time": "2022-06-13T14:27:38.996Z"
   },
   {
    "duration": 11,
    "start_time": "2022-06-13T14:27:39.094Z"
   },
   {
    "duration": 6,
    "start_time": "2022-06-13T14:27:39.192Z"
   },
   {
    "duration": 8,
    "start_time": "2022-06-13T14:27:39.199Z"
   },
   {
    "duration": 84,
    "start_time": "2022-06-13T14:27:39.208Z"
   },
   {
    "duration": 98,
    "start_time": "2022-06-13T14:27:39.294Z"
   },
   {
    "duration": 8,
    "start_time": "2022-06-13T14:27:39.394Z"
   },
   {
    "duration": 7,
    "start_time": "2022-06-13T14:27:39.404Z"
   },
   {
    "duration": 3,
    "start_time": "2022-06-13T14:27:39.412Z"
   },
   {
    "duration": 6,
    "start_time": "2022-06-13T14:27:39.416Z"
   },
   {
    "duration": 5,
    "start_time": "2022-06-13T14:27:39.424Z"
   },
   {
    "duration": 5,
    "start_time": "2022-06-13T14:27:39.431Z"
   },
   {
    "duration": 6,
    "start_time": "2022-06-13T14:27:39.438Z"
   },
   {
    "duration": 9,
    "start_time": "2022-06-13T14:27:39.446Z"
   },
   {
    "duration": 4,
    "start_time": "2022-06-13T14:27:39.458Z"
   },
   {
    "duration": 8,
    "start_time": "2022-06-13T14:27:39.463Z"
   },
   {
    "duration": 21,
    "start_time": "2022-06-13T14:27:39.473Z"
   },
   {
    "duration": 0,
    "start_time": "2022-06-13T14:27:39.496Z"
   },
   {
    "duration": 0,
    "start_time": "2022-06-13T14:27:39.497Z"
   },
   {
    "duration": 0,
    "start_time": "2022-06-13T14:27:39.498Z"
   },
   {
    "duration": 0,
    "start_time": "2022-06-13T14:27:39.500Z"
   },
   {
    "duration": 0,
    "start_time": "2022-06-13T14:27:39.501Z"
   },
   {
    "duration": 0,
    "start_time": "2022-06-13T14:27:39.503Z"
   },
   {
    "duration": 0,
    "start_time": "2022-06-13T14:27:39.504Z"
   },
   {
    "duration": 0,
    "start_time": "2022-06-13T14:27:39.505Z"
   },
   {
    "duration": 0,
    "start_time": "2022-06-13T14:27:39.506Z"
   },
   {
    "duration": 0,
    "start_time": "2022-06-13T14:27:39.507Z"
   },
   {
    "duration": 0,
    "start_time": "2022-06-13T14:27:39.508Z"
   },
   {
    "duration": 0,
    "start_time": "2022-06-13T14:27:39.509Z"
   },
   {
    "duration": 0,
    "start_time": "2022-06-13T14:27:39.510Z"
   },
   {
    "duration": 0,
    "start_time": "2022-06-13T14:27:39.511Z"
   },
   {
    "duration": 0,
    "start_time": "2022-06-13T14:27:39.513Z"
   },
   {
    "duration": 0,
    "start_time": "2022-06-13T14:27:39.513Z"
   },
   {
    "duration": 0,
    "start_time": "2022-06-13T14:27:39.514Z"
   },
   {
    "duration": 0,
    "start_time": "2022-06-13T14:27:39.515Z"
   },
   {
    "duration": 0,
    "start_time": "2022-06-13T14:27:39.516Z"
   },
   {
    "duration": 987,
    "start_time": "2022-06-13T14:28:53.971Z"
   },
   {
    "duration": 550,
    "start_time": "2022-06-13T14:28:54.960Z"
   },
   {
    "duration": 141,
    "start_time": "2022-06-13T14:28:55.512Z"
   },
   {
    "duration": 76,
    "start_time": "2022-06-13T14:28:55.655Z"
   },
   {
    "duration": 14,
    "start_time": "2022-06-13T14:28:55.732Z"
   },
   {
    "duration": 61,
    "start_time": "2022-06-13T14:28:55.748Z"
   },
   {
    "duration": 3,
    "start_time": "2022-06-13T14:28:55.810Z"
   },
   {
    "duration": 17,
    "start_time": "2022-06-13T14:28:55.814Z"
   },
   {
    "duration": 19,
    "start_time": "2022-06-13T14:28:55.832Z"
   },
   {
    "duration": 2,
    "start_time": "2022-06-13T14:28:55.853Z"
   },
   {
    "duration": 10,
    "start_time": "2022-06-13T14:28:55.856Z"
   },
   {
    "duration": 12,
    "start_time": "2022-06-13T14:28:55.891Z"
   },
   {
    "duration": 101,
    "start_time": "2022-06-13T14:28:55.904Z"
   },
   {
    "duration": 95,
    "start_time": "2022-06-13T14:28:56.095Z"
   },
   {
    "duration": 26,
    "start_time": "2022-06-13T14:28:56.192Z"
   },
   {
    "duration": 6,
    "start_time": "2022-06-13T14:28:56.219Z"
   },
   {
    "duration": 13,
    "start_time": "2022-06-13T14:28:56.227Z"
   },
   {
    "duration": 52,
    "start_time": "2022-06-13T14:28:56.242Z"
   },
   {
    "duration": 3,
    "start_time": "2022-06-13T14:28:56.296Z"
   },
   {
    "duration": 192,
    "start_time": "2022-06-13T14:28:56.300Z"
   },
   {
    "duration": 11,
    "start_time": "2022-06-13T14:28:56.494Z"
   },
   {
    "duration": 4,
    "start_time": "2022-06-13T14:28:56.507Z"
   },
   {
    "duration": 8,
    "start_time": "2022-06-13T14:28:56.512Z"
   },
   {
    "duration": 6,
    "start_time": "2022-06-13T14:28:56.521Z"
   },
   {
    "duration": 12,
    "start_time": "2022-06-13T14:28:56.529Z"
   },
   {
    "duration": 7,
    "start_time": "2022-06-13T14:28:56.542Z"
   },
   {
    "duration": 12,
    "start_time": "2022-06-13T14:28:56.551Z"
   },
   {
    "duration": 4,
    "start_time": "2022-06-13T14:28:56.567Z"
   },
   {
    "duration": 15,
    "start_time": "2022-06-13T14:28:56.572Z"
   },
   {
    "duration": 190,
    "start_time": "2022-06-13T14:28:56.588Z"
   },
   {
    "duration": 0,
    "start_time": "2022-06-13T14:28:56.779Z"
   },
   {
    "duration": 0,
    "start_time": "2022-06-13T14:28:56.781Z"
   },
   {
    "duration": 0,
    "start_time": "2022-06-13T14:28:56.782Z"
   },
   {
    "duration": 0,
    "start_time": "2022-06-13T14:28:56.782Z"
   },
   {
    "duration": 0,
    "start_time": "2022-06-13T14:28:56.783Z"
   },
   {
    "duration": 0,
    "start_time": "2022-06-13T14:28:56.791Z"
   },
   {
    "duration": 0,
    "start_time": "2022-06-13T14:28:56.791Z"
   },
   {
    "duration": 0,
    "start_time": "2022-06-13T14:28:56.792Z"
   },
   {
    "duration": 0,
    "start_time": "2022-06-13T14:28:56.793Z"
   },
   {
    "duration": 0,
    "start_time": "2022-06-13T14:28:56.794Z"
   },
   {
    "duration": 0,
    "start_time": "2022-06-13T14:28:56.795Z"
   },
   {
    "duration": 0,
    "start_time": "2022-06-13T14:28:56.796Z"
   },
   {
    "duration": 0,
    "start_time": "2022-06-13T14:28:56.796Z"
   },
   {
    "duration": 0,
    "start_time": "2022-06-13T14:28:56.797Z"
   },
   {
    "duration": 0,
    "start_time": "2022-06-13T14:28:56.798Z"
   },
   {
    "duration": 0,
    "start_time": "2022-06-13T14:28:56.799Z"
   },
   {
    "duration": 0,
    "start_time": "2022-06-13T14:28:56.800Z"
   },
   {
    "duration": 0,
    "start_time": "2022-06-13T14:28:56.801Z"
   },
   {
    "duration": 0,
    "start_time": "2022-06-13T14:28:56.801Z"
   },
   {
    "duration": 998,
    "start_time": "2022-06-13T14:29:39.483Z"
   },
   {
    "duration": 573,
    "start_time": "2022-06-13T14:29:40.483Z"
   },
   {
    "duration": 154,
    "start_time": "2022-06-13T14:29:41.058Z"
   },
   {
    "duration": 59,
    "start_time": "2022-06-13T14:29:41.215Z"
   },
   {
    "duration": 38,
    "start_time": "2022-06-13T14:29:41.275Z"
   },
   {
    "duration": 33,
    "start_time": "2022-06-13T14:29:41.315Z"
   },
   {
    "duration": 2,
    "start_time": "2022-06-13T14:29:41.350Z"
   },
   {
    "duration": 15,
    "start_time": "2022-06-13T14:29:41.353Z"
   },
   {
    "duration": 22,
    "start_time": "2022-06-13T14:29:41.395Z"
   },
   {
    "duration": 2,
    "start_time": "2022-06-13T14:29:41.420Z"
   },
   {
    "duration": 10,
    "start_time": "2022-06-13T14:29:41.423Z"
   },
   {
    "duration": 12,
    "start_time": "2022-06-13T14:29:41.434Z"
   },
   {
    "duration": 156,
    "start_time": "2022-06-13T14:29:41.447Z"
   },
   {
    "duration": 94,
    "start_time": "2022-06-13T14:29:41.605Z"
   },
   {
    "duration": 112,
    "start_time": "2022-06-13T14:29:41.704Z"
   },
   {
    "duration": 5,
    "start_time": "2022-06-13T14:29:41.818Z"
   },
   {
    "duration": 10,
    "start_time": "2022-06-13T14:29:41.825Z"
   },
   {
    "duration": 9,
    "start_time": "2022-06-13T14:29:41.836Z"
   },
   {
    "duration": 148,
    "start_time": "2022-06-13T14:29:41.847Z"
   },
   {
    "duration": 17,
    "start_time": "2022-06-13T14:29:41.997Z"
   },
   {
    "duration": 9,
    "start_time": "2022-06-13T14:29:42.015Z"
   },
   {
    "duration": 5,
    "start_time": "2022-06-13T14:29:42.025Z"
   },
   {
    "duration": 17,
    "start_time": "2022-06-13T14:29:42.031Z"
   },
   {
    "duration": 5,
    "start_time": "2022-06-13T14:29:42.050Z"
   },
   {
    "duration": 7,
    "start_time": "2022-06-13T14:29:42.057Z"
   },
   {
    "duration": 6,
    "start_time": "2022-06-13T14:29:42.065Z"
   },
   {
    "duration": 15,
    "start_time": "2022-06-13T14:29:42.072Z"
   },
   {
    "duration": 24,
    "start_time": "2022-06-13T14:29:42.089Z"
   },
   {
    "duration": 11,
    "start_time": "2022-06-13T14:29:42.115Z"
   },
   {
    "duration": 178,
    "start_time": "2022-06-13T14:29:42.128Z"
   },
   {
    "duration": 0,
    "start_time": "2022-06-13T14:29:42.307Z"
   },
   {
    "duration": 0,
    "start_time": "2022-06-13T14:29:42.309Z"
   },
   {
    "duration": 0,
    "start_time": "2022-06-13T14:29:42.310Z"
   },
   {
    "duration": 0,
    "start_time": "2022-06-13T14:29:42.311Z"
   },
   {
    "duration": 0,
    "start_time": "2022-06-13T14:29:42.313Z"
   },
   {
    "duration": 0,
    "start_time": "2022-06-13T14:29:42.314Z"
   },
   {
    "duration": 1,
    "start_time": "2022-06-13T14:29:42.315Z"
   },
   {
    "duration": 0,
    "start_time": "2022-06-13T14:29:42.317Z"
   },
   {
    "duration": 0,
    "start_time": "2022-06-13T14:29:42.318Z"
   },
   {
    "duration": 0,
    "start_time": "2022-06-13T14:29:42.319Z"
   },
   {
    "duration": 0,
    "start_time": "2022-06-13T14:29:42.321Z"
   },
   {
    "duration": 0,
    "start_time": "2022-06-13T14:29:42.322Z"
   },
   {
    "duration": 0,
    "start_time": "2022-06-13T14:29:42.323Z"
   },
   {
    "duration": 0,
    "start_time": "2022-06-13T14:29:42.325Z"
   },
   {
    "duration": 0,
    "start_time": "2022-06-13T14:29:42.326Z"
   },
   {
    "duration": 0,
    "start_time": "2022-06-13T14:29:42.327Z"
   },
   {
    "duration": 0,
    "start_time": "2022-06-13T14:29:42.328Z"
   },
   {
    "duration": 0,
    "start_time": "2022-06-13T14:29:42.329Z"
   },
   {
    "duration": 0,
    "start_time": "2022-06-13T14:29:42.330Z"
   },
   {
    "duration": 1005,
    "start_time": "2022-06-13T14:31:09.312Z"
   },
   {
    "duration": 585,
    "start_time": "2022-06-13T14:31:10.320Z"
   },
   {
    "duration": 137,
    "start_time": "2022-06-13T14:31:10.906Z"
   },
   {
    "duration": 85,
    "start_time": "2022-06-13T14:31:11.045Z"
   },
   {
    "duration": 14,
    "start_time": "2022-06-13T14:31:11.131Z"
   },
   {
    "duration": 61,
    "start_time": "2022-06-13T14:31:11.146Z"
   },
   {
    "duration": 2,
    "start_time": "2022-06-13T14:31:11.208Z"
   },
   {
    "duration": 19,
    "start_time": "2022-06-13T14:31:11.212Z"
   },
   {
    "duration": 22,
    "start_time": "2022-06-13T14:31:11.233Z"
   },
   {
    "duration": 2,
    "start_time": "2022-06-13T14:31:11.257Z"
   },
   {
    "duration": 32,
    "start_time": "2022-06-13T14:31:11.261Z"
   },
   {
    "duration": 13,
    "start_time": "2022-06-13T14:31:11.294Z"
   },
   {
    "duration": 90,
    "start_time": "2022-06-13T14:31:11.308Z"
   },
   {
    "duration": 92,
    "start_time": "2022-06-13T14:31:11.399Z"
   },
   {
    "duration": 106,
    "start_time": "2022-06-13T14:31:11.494Z"
   },
   {
    "duration": 9,
    "start_time": "2022-06-13T14:31:11.602Z"
   },
   {
    "duration": 11,
    "start_time": "2022-06-13T14:31:11.612Z"
   },
   {
    "duration": 19,
    "start_time": "2022-06-13T14:31:11.624Z"
   },
   {
    "duration": 100,
    "start_time": "2022-06-13T14:31:11.692Z"
   },
   {
    "duration": 5,
    "start_time": "2022-06-13T14:31:11.794Z"
   },
   {
    "duration": 9,
    "start_time": "2022-06-13T14:31:11.801Z"
   },
   {
    "duration": 3,
    "start_time": "2022-06-13T14:31:11.811Z"
   },
   {
    "duration": 8,
    "start_time": "2022-06-13T14:31:11.815Z"
   },
   {
    "duration": 6,
    "start_time": "2022-06-13T14:31:11.825Z"
   },
   {
    "duration": 4,
    "start_time": "2022-06-13T14:31:11.832Z"
   },
   {
    "duration": 5,
    "start_time": "2022-06-13T14:31:11.838Z"
   },
   {
    "duration": 18,
    "start_time": "2022-06-13T14:31:11.844Z"
   },
   {
    "duration": 6,
    "start_time": "2022-06-13T14:31:11.865Z"
   },
   {
    "duration": 8,
    "start_time": "2022-06-13T14:31:11.872Z"
   },
   {
    "duration": 138,
    "start_time": "2022-06-13T14:31:11.882Z"
   },
   {
    "duration": 0,
    "start_time": "2022-06-13T14:31:12.022Z"
   },
   {
    "duration": 0,
    "start_time": "2022-06-13T14:31:12.023Z"
   },
   {
    "duration": 0,
    "start_time": "2022-06-13T14:31:12.024Z"
   },
   {
    "duration": 0,
    "start_time": "2022-06-13T14:31:12.025Z"
   },
   {
    "duration": 0,
    "start_time": "2022-06-13T14:31:12.026Z"
   },
   {
    "duration": 0,
    "start_time": "2022-06-13T14:31:12.027Z"
   },
   {
    "duration": 0,
    "start_time": "2022-06-13T14:31:12.028Z"
   },
   {
    "duration": 0,
    "start_time": "2022-06-13T14:31:12.029Z"
   },
   {
    "duration": 0,
    "start_time": "2022-06-13T14:31:12.030Z"
   },
   {
    "duration": 0,
    "start_time": "2022-06-13T14:31:12.031Z"
   },
   {
    "duration": 0,
    "start_time": "2022-06-13T14:31:12.032Z"
   },
   {
    "duration": 0,
    "start_time": "2022-06-13T14:31:12.033Z"
   },
   {
    "duration": 0,
    "start_time": "2022-06-13T14:31:12.034Z"
   },
   {
    "duration": 0,
    "start_time": "2022-06-13T14:31:12.035Z"
   },
   {
    "duration": 0,
    "start_time": "2022-06-13T14:31:12.036Z"
   },
   {
    "duration": 0,
    "start_time": "2022-06-13T14:31:12.037Z"
   },
   {
    "duration": 0,
    "start_time": "2022-06-13T14:31:12.038Z"
   },
   {
    "duration": 0,
    "start_time": "2022-06-13T14:31:12.039Z"
   },
   {
    "duration": 0,
    "start_time": "2022-06-13T14:31:12.041Z"
   },
   {
    "duration": 888,
    "start_time": "2022-06-13T14:31:35.354Z"
   },
   {
    "duration": 531,
    "start_time": "2022-06-13T14:31:36.244Z"
   },
   {
    "duration": 122,
    "start_time": "2022-06-13T14:31:36.791Z"
   },
   {
    "duration": 55,
    "start_time": "2022-06-13T14:31:36.915Z"
   },
   {
    "duration": 30,
    "start_time": "2022-06-13T14:31:36.971Z"
   },
   {
    "duration": 30,
    "start_time": "2022-06-13T14:31:37.002Z"
   },
   {
    "duration": 2,
    "start_time": "2022-06-13T14:31:37.033Z"
   },
   {
    "duration": 11,
    "start_time": "2022-06-13T14:31:37.036Z"
   },
   {
    "duration": 51,
    "start_time": "2022-06-13T14:31:37.049Z"
   },
   {
    "duration": 2,
    "start_time": "2022-06-13T14:31:37.103Z"
   },
   {
    "duration": 9,
    "start_time": "2022-06-13T14:31:37.106Z"
   },
   {
    "duration": 12,
    "start_time": "2022-06-13T14:31:37.117Z"
   },
   {
    "duration": 64,
    "start_time": "2022-06-13T14:31:37.130Z"
   },
   {
    "duration": 96,
    "start_time": "2022-06-13T14:31:37.195Z"
   },
   {
    "duration": 107,
    "start_time": "2022-06-13T14:31:37.293Z"
   },
   {
    "duration": 7,
    "start_time": "2022-06-13T14:31:37.402Z"
   },
   {
    "duration": 14,
    "start_time": "2022-06-13T14:31:37.410Z"
   },
   {
    "duration": 9,
    "start_time": "2022-06-13T14:31:37.425Z"
   },
   {
    "duration": 156,
    "start_time": "2022-06-13T14:31:37.436Z"
   },
   {
    "duration": 6,
    "start_time": "2022-06-13T14:31:37.593Z"
   },
   {
    "duration": 9,
    "start_time": "2022-06-13T14:31:37.600Z"
   },
   {
    "duration": 3,
    "start_time": "2022-06-13T14:31:37.610Z"
   },
   {
    "duration": 6,
    "start_time": "2022-06-13T14:31:37.614Z"
   },
   {
    "duration": 4,
    "start_time": "2022-06-13T14:31:37.622Z"
   },
   {
    "duration": 5,
    "start_time": "2022-06-13T14:31:37.627Z"
   },
   {
    "duration": 5,
    "start_time": "2022-06-13T14:31:37.633Z"
   },
   {
    "duration": 7,
    "start_time": "2022-06-13T14:31:37.639Z"
   },
   {
    "duration": 3,
    "start_time": "2022-06-13T14:31:37.649Z"
   },
   {
    "duration": 8,
    "start_time": "2022-06-13T14:31:37.653Z"
   },
   {
    "duration": 187,
    "start_time": "2022-06-13T14:31:37.662Z"
   },
   {
    "duration": 5,
    "start_time": "2022-06-13T14:31:37.851Z"
   },
   {
    "duration": 9,
    "start_time": "2022-06-13T14:31:37.858Z"
   },
   {
    "duration": 5,
    "start_time": "2022-06-13T14:31:37.868Z"
   },
   {
    "duration": 18,
    "start_time": "2022-06-13T14:31:37.874Z"
   },
   {
    "duration": 5,
    "start_time": "2022-06-13T14:31:37.893Z"
   },
   {
    "duration": 7,
    "start_time": "2022-06-13T14:31:37.900Z"
   },
   {
    "duration": 6,
    "start_time": "2022-06-13T14:31:37.908Z"
   },
   {
    "duration": 3850,
    "start_time": "2022-06-13T14:31:37.916Z"
   },
   {
    "duration": 3,
    "start_time": "2022-06-13T14:31:41.767Z"
   },
   {
    "duration": 7,
    "start_time": "2022-06-13T14:31:41.771Z"
   },
   {
    "duration": 6,
    "start_time": "2022-06-13T14:31:41.779Z"
   },
   {
    "duration": 2,
    "start_time": "2022-06-13T14:31:41.791Z"
   },
   {
    "duration": 7,
    "start_time": "2022-06-13T14:31:41.794Z"
   },
   {
    "duration": 10,
    "start_time": "2022-06-13T14:31:41.803Z"
   },
   {
    "duration": 8,
    "start_time": "2022-06-13T14:31:41.814Z"
   },
   {
    "duration": 9,
    "start_time": "2022-06-13T14:31:41.823Z"
   },
   {
    "duration": 10,
    "start_time": "2022-06-13T14:31:41.834Z"
   },
   {
    "duration": 6,
    "start_time": "2022-06-13T14:31:41.846Z"
   },
   {
    "duration": 11,
    "start_time": "2022-06-13T14:31:41.853Z"
   },
   {
    "duration": 86,
    "start_time": "2022-06-13T14:39:19.539Z"
   },
   {
    "duration": 907,
    "start_time": "2022-06-13T14:39:38.757Z"
   },
   {
    "duration": 557,
    "start_time": "2022-06-13T14:39:39.666Z"
   },
   {
    "duration": 143,
    "start_time": "2022-06-13T14:39:40.225Z"
   },
   {
    "duration": 77,
    "start_time": "2022-06-13T14:39:40.370Z"
   },
   {
    "duration": 11,
    "start_time": "2022-06-13T14:39:40.449Z"
   },
   {
    "duration": 41,
    "start_time": "2022-06-13T14:39:40.490Z"
   },
   {
    "duration": 2,
    "start_time": "2022-06-13T14:39:40.533Z"
   },
   {
    "duration": 13,
    "start_time": "2022-06-13T14:39:40.537Z"
   },
   {
    "duration": 23,
    "start_time": "2022-06-13T14:39:40.551Z"
   },
   {
    "duration": 2,
    "start_time": "2022-06-13T14:39:40.576Z"
   },
   {
    "duration": 16,
    "start_time": "2022-06-13T14:39:40.580Z"
   },
   {
    "duration": 18,
    "start_time": "2022-06-13T14:39:40.597Z"
   },
   {
    "duration": 78,
    "start_time": "2022-06-13T14:39:40.616Z"
   },
   {
    "duration": 97,
    "start_time": "2022-06-13T14:39:40.696Z"
   },
   {
    "duration": 17,
    "start_time": "2022-06-13T14:39:40.794Z"
   },
   {
    "duration": 5,
    "start_time": "2022-06-13T14:39:40.812Z"
   },
   {
    "duration": 11,
    "start_time": "2022-06-13T14:39:40.819Z"
   },
   {
    "duration": 11,
    "start_time": "2022-06-13T14:39:40.831Z"
   },
   {
    "duration": 107,
    "start_time": "2022-06-13T14:39:40.890Z"
   },
   {
    "duration": 5,
    "start_time": "2022-06-13T14:39:40.998Z"
   },
   {
    "duration": 8,
    "start_time": "2022-06-13T14:39:41.004Z"
   },
   {
    "duration": 3,
    "start_time": "2022-06-13T14:39:41.013Z"
   },
   {
    "duration": 7,
    "start_time": "2022-06-13T14:39:41.018Z"
   },
   {
    "duration": 6,
    "start_time": "2022-06-13T14:39:41.027Z"
   },
   {
    "duration": 4,
    "start_time": "2022-06-13T14:39:41.035Z"
   },
   {
    "duration": 5,
    "start_time": "2022-06-13T14:39:41.041Z"
   },
   {
    "duration": 8,
    "start_time": "2022-06-13T14:39:41.047Z"
   },
   {
    "duration": 8,
    "start_time": "2022-06-13T14:39:41.058Z"
   },
   {
    "duration": 8,
    "start_time": "2022-06-13T14:39:41.067Z"
   },
   {
    "duration": 176,
    "start_time": "2022-06-13T14:39:41.077Z"
   },
   {
    "duration": 7,
    "start_time": "2022-06-13T14:39:41.255Z"
   },
   {
    "duration": 12,
    "start_time": "2022-06-13T14:39:41.263Z"
   },
   {
    "duration": 16,
    "start_time": "2022-06-13T14:39:41.276Z"
   },
   {
    "duration": 6,
    "start_time": "2022-06-13T14:39:41.293Z"
   },
   {
    "duration": 13,
    "start_time": "2022-06-13T14:39:41.301Z"
   },
   {
    "duration": 17,
    "start_time": "2022-06-13T14:39:41.315Z"
   },
   {
    "duration": 4,
    "start_time": "2022-06-13T14:39:41.335Z"
   },
   {
    "duration": 4054,
    "start_time": "2022-06-13T14:39:41.341Z"
   },
   {
    "duration": 3,
    "start_time": "2022-06-13T14:39:45.396Z"
   },
   {
    "duration": 12,
    "start_time": "2022-06-13T14:39:45.401Z"
   },
   {
    "duration": 12,
    "start_time": "2022-06-13T14:39:45.414Z"
   },
   {
    "duration": 5,
    "start_time": "2022-06-13T14:39:45.428Z"
   },
   {
    "duration": 9,
    "start_time": "2022-06-13T14:39:45.434Z"
   },
   {
    "duration": 8,
    "start_time": "2022-06-13T14:39:45.445Z"
   },
   {
    "duration": 7,
    "start_time": "2022-06-13T14:39:45.455Z"
   },
   {
    "duration": 28,
    "start_time": "2022-06-13T14:39:45.464Z"
   },
   {
    "duration": 16,
    "start_time": "2022-06-13T14:39:45.494Z"
   },
   {
    "duration": 3,
    "start_time": "2022-06-13T14:39:45.512Z"
   },
   {
    "duration": 9,
    "start_time": "2022-06-13T14:39:45.517Z"
   },
   {
    "duration": 5,
    "start_time": "2022-06-13T14:40:55.243Z"
   },
   {
    "duration": 6,
    "start_time": "2022-06-13T14:41:43.264Z"
   },
   {
    "duration": 953,
    "start_time": "2022-06-13T14:48:53.379Z"
   },
   {
    "duration": 543,
    "start_time": "2022-06-13T14:48:54.333Z"
   },
   {
    "duration": 122,
    "start_time": "2022-06-13T14:48:54.891Z"
   },
   {
    "duration": 56,
    "start_time": "2022-06-13T14:48:55.015Z"
   },
   {
    "duration": 28,
    "start_time": "2022-06-13T14:48:55.072Z"
   },
   {
    "duration": 32,
    "start_time": "2022-06-13T14:48:55.101Z"
   },
   {
    "duration": 3,
    "start_time": "2022-06-13T14:48:55.134Z"
   },
   {
    "duration": 12,
    "start_time": "2022-06-13T14:48:55.138Z"
   },
   {
    "duration": 51,
    "start_time": "2022-06-13T14:48:55.151Z"
   },
   {
    "duration": 2,
    "start_time": "2022-06-13T14:48:55.204Z"
   },
   {
    "duration": 10,
    "start_time": "2022-06-13T14:48:55.207Z"
   },
   {
    "duration": 13,
    "start_time": "2022-06-13T14:48:55.218Z"
   },
   {
    "duration": 61,
    "start_time": "2022-06-13T14:48:55.232Z"
   },
   {
    "duration": 100,
    "start_time": "2022-06-13T14:48:55.295Z"
   },
   {
    "duration": 108,
    "start_time": "2022-06-13T14:48:55.397Z"
   },
   {
    "duration": 4,
    "start_time": "2022-06-13T14:48:55.507Z"
   },
   {
    "duration": 10,
    "start_time": "2022-06-13T14:48:55.512Z"
   },
   {
    "duration": 7,
    "start_time": "2022-06-13T14:48:55.523Z"
   },
   {
    "duration": 60,
    "start_time": "2022-06-13T14:48:55.532Z"
   },
   {
    "duration": 103,
    "start_time": "2022-06-13T14:48:55.594Z"
   },
   {
    "duration": 7,
    "start_time": "2022-06-13T14:48:55.699Z"
   },
   {
    "duration": 5,
    "start_time": "2022-06-13T14:48:55.708Z"
   },
   {
    "duration": 9,
    "start_time": "2022-06-13T14:48:55.714Z"
   },
   {
    "duration": 7,
    "start_time": "2022-06-13T14:48:55.724Z"
   },
   {
    "duration": 8,
    "start_time": "2022-06-13T14:48:55.732Z"
   },
   {
    "duration": 8,
    "start_time": "2022-06-13T14:48:55.742Z"
   },
   {
    "duration": 9,
    "start_time": "2022-06-13T14:48:55.751Z"
   },
   {
    "duration": 10,
    "start_time": "2022-06-13T14:48:55.762Z"
   },
   {
    "duration": 10,
    "start_time": "2022-06-13T14:48:55.773Z"
   },
   {
    "duration": 158,
    "start_time": "2022-06-13T14:48:55.785Z"
   },
   {
    "duration": 4,
    "start_time": "2022-06-13T14:48:55.944Z"
   },
   {
    "duration": 7,
    "start_time": "2022-06-13T14:48:55.949Z"
   },
   {
    "duration": 7,
    "start_time": "2022-06-13T14:48:55.957Z"
   },
   {
    "duration": 7,
    "start_time": "2022-06-13T14:48:55.965Z"
   },
   {
    "duration": 4,
    "start_time": "2022-06-13T14:48:55.973Z"
   },
   {
    "duration": 4,
    "start_time": "2022-06-13T14:48:55.991Z"
   },
   {
    "duration": 5,
    "start_time": "2022-06-13T14:48:55.997Z"
   },
   {
    "duration": 3778,
    "start_time": "2022-06-13T14:48:56.003Z"
   },
   {
    "duration": 3,
    "start_time": "2022-06-13T14:48:59.782Z"
   },
   {
    "duration": 7,
    "start_time": "2022-06-13T14:48:59.786Z"
   },
   {
    "duration": 6,
    "start_time": "2022-06-13T14:48:59.794Z"
   },
   {
    "duration": 5,
    "start_time": "2022-06-13T14:48:59.801Z"
   },
   {
    "duration": 4,
    "start_time": "2022-06-13T14:48:59.807Z"
   },
   {
    "duration": 7,
    "start_time": "2022-06-13T14:48:59.812Z"
   },
   {
    "duration": 5,
    "start_time": "2022-06-13T14:48:59.820Z"
   },
   {
    "duration": 7,
    "start_time": "2022-06-13T14:48:59.826Z"
   },
   {
    "duration": 8,
    "start_time": "2022-06-13T14:48:59.834Z"
   },
   {
    "duration": 2,
    "start_time": "2022-06-13T14:48:59.843Z"
   },
   {
    "duration": 10,
    "start_time": "2022-06-13T14:48:59.847Z"
   },
   {
    "duration": 12,
    "start_time": "2022-06-13T14:58:31.853Z"
   },
   {
    "duration": 933,
    "start_time": "2022-06-13T14:58:55.924Z"
   },
   {
    "duration": 611,
    "start_time": "2022-06-13T14:58:56.859Z"
   },
   {
    "duration": 29,
    "start_time": "2022-06-13T14:58:57.471Z"
   },
   {
    "duration": 137,
    "start_time": "2022-06-13T14:58:57.502Z"
   },
   {
    "duration": 70,
    "start_time": "2022-06-13T14:58:57.640Z"
   },
   {
    "duration": 11,
    "start_time": "2022-06-13T14:58:57.712Z"
   },
   {
    "duration": 31,
    "start_time": "2022-06-13T14:58:57.724Z"
   },
   {
    "duration": 2,
    "start_time": "2022-06-13T14:58:57.792Z"
   },
   {
    "duration": 11,
    "start_time": "2022-06-13T14:58:57.796Z"
   },
   {
    "duration": 18,
    "start_time": "2022-06-13T14:58:57.809Z"
   },
   {
    "duration": 2,
    "start_time": "2022-06-13T14:58:57.828Z"
   },
   {
    "duration": 8,
    "start_time": "2022-06-13T14:58:57.832Z"
   },
   {
    "duration": 13,
    "start_time": "2022-06-13T14:58:57.841Z"
   },
   {
    "duration": 137,
    "start_time": "2022-06-13T14:58:57.855Z"
   },
   {
    "duration": 100,
    "start_time": "2022-06-13T14:58:57.994Z"
   },
   {
    "duration": 96,
    "start_time": "2022-06-13T14:58:58.096Z"
   },
   {
    "duration": 5,
    "start_time": "2022-06-13T14:58:58.194Z"
   },
   {
    "duration": 11,
    "start_time": "2022-06-13T14:58:58.200Z"
   },
   {
    "duration": 15,
    "start_time": "2022-06-13T14:58:58.212Z"
   },
   {
    "duration": 169,
    "start_time": "2022-06-13T14:58:58.228Z"
   },
   {
    "duration": 9,
    "start_time": "2022-06-13T14:58:58.398Z"
   },
   {
    "duration": 5,
    "start_time": "2022-06-13T14:58:58.408Z"
   },
   {
    "duration": 5,
    "start_time": "2022-06-13T14:58:58.414Z"
   },
   {
    "duration": 7,
    "start_time": "2022-06-13T14:58:58.420Z"
   },
   {
    "duration": 19,
    "start_time": "2022-06-13T14:58:58.428Z"
   },
   {
    "duration": 6,
    "start_time": "2022-06-13T14:58:58.448Z"
   },
   {
    "duration": 7,
    "start_time": "2022-06-13T14:58:58.455Z"
   },
   {
    "duration": 4,
    "start_time": "2022-06-13T14:58:58.464Z"
   },
   {
    "duration": 8,
    "start_time": "2022-06-13T14:58:58.469Z"
   },
   {
    "duration": 170,
    "start_time": "2022-06-13T14:58:58.478Z"
   },
   {
    "duration": 6,
    "start_time": "2022-06-13T14:58:58.650Z"
   },
   {
    "duration": 7,
    "start_time": "2022-06-13T14:58:58.657Z"
   },
   {
    "duration": 8,
    "start_time": "2022-06-13T14:58:58.665Z"
   },
   {
    "duration": 4,
    "start_time": "2022-06-13T14:58:58.691Z"
   },
   {
    "duration": 5,
    "start_time": "2022-06-13T14:58:58.696Z"
   },
   {
    "duration": 8,
    "start_time": "2022-06-13T14:58:58.703Z"
   },
   {
    "duration": 6,
    "start_time": "2022-06-13T14:58:58.713Z"
   },
   {
    "duration": 3698,
    "start_time": "2022-06-13T14:58:58.721Z"
   },
   {
    "duration": 3,
    "start_time": "2022-06-13T14:59:02.422Z"
   },
   {
    "duration": 13,
    "start_time": "2022-06-13T14:59:02.426Z"
   },
   {
    "duration": 6,
    "start_time": "2022-06-13T14:59:02.441Z"
   },
   {
    "duration": 5,
    "start_time": "2022-06-13T14:59:02.448Z"
   },
   {
    "duration": 4,
    "start_time": "2022-06-13T14:59:02.454Z"
   },
   {
    "duration": 9,
    "start_time": "2022-06-13T14:59:02.460Z"
   },
   {
    "duration": 11,
    "start_time": "2022-06-13T14:59:02.470Z"
   },
   {
    "duration": 12,
    "start_time": "2022-06-13T14:59:02.482Z"
   },
   {
    "duration": 10,
    "start_time": "2022-06-13T14:59:02.495Z"
   },
   {
    "duration": 2,
    "start_time": "2022-06-13T14:59:02.507Z"
   },
   {
    "duration": 9,
    "start_time": "2022-06-13T14:59:02.510Z"
   },
   {
    "duration": 2,
    "start_time": "2022-06-13T14:59:32.562Z"
   },
   {
    "duration": 968,
    "start_time": "2022-06-13T15:06:39.474Z"
   },
   {
    "duration": 722,
    "start_time": "2022-06-13T15:06:40.444Z"
   },
   {
    "duration": 26,
    "start_time": "2022-06-13T15:06:41.167Z"
   },
   {
    "duration": 135,
    "start_time": "2022-06-13T15:06:41.196Z"
   },
   {
    "duration": 82,
    "start_time": "2022-06-13T15:06:41.333Z"
   },
   {
    "duration": 12,
    "start_time": "2022-06-13T15:06:41.417Z"
   },
   {
    "duration": 68,
    "start_time": "2022-06-13T15:06:41.431Z"
   },
   {
    "duration": 2,
    "start_time": "2022-06-13T15:06:41.501Z"
   },
   {
    "duration": 27,
    "start_time": "2022-06-13T15:06:41.505Z"
   },
   {
    "duration": 25,
    "start_time": "2022-06-13T15:06:41.535Z"
   },
   {
    "duration": 2,
    "start_time": "2022-06-13T15:06:41.562Z"
   },
   {
    "duration": 10,
    "start_time": "2022-06-13T15:06:41.566Z"
   },
   {
    "duration": 13,
    "start_time": "2022-06-13T15:06:41.591Z"
   },
   {
    "duration": 87,
    "start_time": "2022-06-13T15:06:41.605Z"
   },
   {
    "duration": 7,
    "start_time": "2022-06-13T15:06:41.694Z"
   },
   {
    "duration": 47,
    "start_time": "2022-06-13T15:06:41.791Z"
   },
   {
    "duration": 12,
    "start_time": "2022-06-13T15:06:41.839Z"
   },
   {
    "duration": 36,
    "start_time": "2022-06-13T15:06:41.853Z"
   },
   {
    "duration": 12,
    "start_time": "2022-06-13T15:06:41.891Z"
   },
   {
    "duration": 86,
    "start_time": "2022-06-13T15:06:41.905Z"
   },
   {
    "duration": 8,
    "start_time": "2022-06-13T15:06:41.993Z"
   },
   {
    "duration": 89,
    "start_time": "2022-06-13T15:06:42.003Z"
   },
   {
    "duration": 21,
    "start_time": "2022-06-13T15:06:42.093Z"
   },
   {
    "duration": 29,
    "start_time": "2022-06-13T15:06:42.115Z"
   },
   {
    "duration": 18,
    "start_time": "2022-06-13T15:06:42.145Z"
   },
   {
    "duration": 20,
    "start_time": "2022-06-13T15:06:42.164Z"
   },
   {
    "duration": 24,
    "start_time": "2022-06-13T15:06:42.185Z"
   },
   {
    "duration": 20,
    "start_time": "2022-06-13T15:06:42.213Z"
   },
   {
    "duration": 18,
    "start_time": "2022-06-13T15:06:42.234Z"
   },
   {
    "duration": 189,
    "start_time": "2022-06-13T15:06:42.254Z"
   },
   {
    "duration": 4,
    "start_time": "2022-06-13T15:06:42.445Z"
   },
   {
    "duration": 27,
    "start_time": "2022-06-13T15:06:42.451Z"
   },
   {
    "duration": 22,
    "start_time": "2022-06-13T15:06:42.479Z"
   },
   {
    "duration": 15,
    "start_time": "2022-06-13T15:06:42.502Z"
   },
   {
    "duration": 28,
    "start_time": "2022-06-13T15:06:42.519Z"
   },
   {
    "duration": 30,
    "start_time": "2022-06-13T15:06:42.549Z"
   },
   {
    "duration": 32,
    "start_time": "2022-06-13T15:06:42.581Z"
   },
   {
    "duration": 4077,
    "start_time": "2022-06-13T15:06:42.614Z"
   },
   {
    "duration": 3,
    "start_time": "2022-06-13T15:06:46.693Z"
   },
   {
    "duration": 17,
    "start_time": "2022-06-13T15:06:46.697Z"
   },
   {
    "duration": 6,
    "start_time": "2022-06-13T15:06:46.715Z"
   },
   {
    "duration": 5,
    "start_time": "2022-06-13T15:06:46.723Z"
   },
   {
    "duration": 5,
    "start_time": "2022-06-13T15:06:46.729Z"
   },
   {
    "duration": 7,
    "start_time": "2022-06-13T15:06:46.736Z"
   },
   {
    "duration": 7,
    "start_time": "2022-06-13T15:06:46.744Z"
   },
   {
    "duration": 7,
    "start_time": "2022-06-13T15:06:46.752Z"
   },
   {
    "duration": 8,
    "start_time": "2022-06-13T15:06:46.760Z"
   },
   {
    "duration": 2,
    "start_time": "2022-06-13T15:06:46.770Z"
   },
   {
    "duration": 22,
    "start_time": "2022-06-13T15:06:46.773Z"
   },
   {
    "duration": 981,
    "start_time": "2022-06-13T15:09:34.096Z"
   },
   {
    "duration": 536,
    "start_time": "2022-06-13T15:09:35.079Z"
   },
   {
    "duration": 131,
    "start_time": "2022-06-13T15:09:35.617Z"
   },
   {
    "duration": 81,
    "start_time": "2022-06-13T15:09:35.751Z"
   },
   {
    "duration": 11,
    "start_time": "2022-06-13T15:09:35.833Z"
   },
   {
    "duration": 60,
    "start_time": "2022-06-13T15:09:35.845Z"
   },
   {
    "duration": 2,
    "start_time": "2022-06-13T15:09:35.906Z"
   },
   {
    "duration": 11,
    "start_time": "2022-06-13T15:09:35.910Z"
   },
   {
    "duration": 19,
    "start_time": "2022-06-13T15:09:35.922Z"
   },
   {
    "duration": 1,
    "start_time": "2022-06-13T15:09:35.943Z"
   },
   {
    "duration": 10,
    "start_time": "2022-06-13T15:09:35.945Z"
   },
   {
    "duration": 36,
    "start_time": "2022-06-13T15:09:35.956Z"
   },
   {
    "duration": 98,
    "start_time": "2022-06-13T15:09:35.994Z"
   },
   {
    "duration": 7,
    "start_time": "2022-06-13T15:09:36.094Z"
   },
   {
    "duration": 12,
    "start_time": "2022-06-13T15:09:36.192Z"
   },
   {
    "duration": 4,
    "start_time": "2022-06-13T15:09:36.205Z"
   },
   {
    "duration": 9,
    "start_time": "2022-06-13T15:09:36.211Z"
   },
   {
    "duration": 11,
    "start_time": "2022-06-13T15:09:36.221Z"
   },
   {
    "duration": 67,
    "start_time": "2022-06-13T15:09:36.233Z"
   },
   {
    "duration": 93,
    "start_time": "2022-06-13T15:09:36.303Z"
   },
   {
    "duration": 3,
    "start_time": "2022-06-13T15:09:36.398Z"
   },
   {
    "duration": 5,
    "start_time": "2022-06-13T15:09:36.402Z"
   },
   {
    "duration": 6,
    "start_time": "2022-06-13T15:09:36.408Z"
   },
   {
    "duration": 4,
    "start_time": "2022-06-13T15:09:36.416Z"
   },
   {
    "duration": 6,
    "start_time": "2022-06-13T15:09:36.421Z"
   },
   {
    "duration": 6,
    "start_time": "2022-06-13T15:09:36.428Z"
   },
   {
    "duration": 7,
    "start_time": "2022-06-13T15:09:36.436Z"
   },
   {
    "duration": 11,
    "start_time": "2022-06-13T15:09:36.446Z"
   },
   {
    "duration": 173,
    "start_time": "2022-06-13T15:09:36.459Z"
   },
   {
    "duration": 5,
    "start_time": "2022-06-13T15:09:36.633Z"
   },
   {
    "duration": 8,
    "start_time": "2022-06-13T15:09:36.640Z"
   },
   {
    "duration": 9,
    "start_time": "2022-06-13T15:09:36.649Z"
   },
   {
    "duration": 7,
    "start_time": "2022-06-13T15:09:36.659Z"
   },
   {
    "duration": 5,
    "start_time": "2022-06-13T15:09:36.667Z"
   },
   {
    "duration": 10,
    "start_time": "2022-06-13T15:09:36.673Z"
   },
   {
    "duration": 6,
    "start_time": "2022-06-13T15:09:36.691Z"
   },
   {
    "duration": 3759,
    "start_time": "2022-06-13T15:09:36.700Z"
   },
   {
    "duration": 2,
    "start_time": "2022-06-13T15:09:40.461Z"
   },
   {
    "duration": 7,
    "start_time": "2022-06-13T15:09:40.464Z"
   },
   {
    "duration": 4,
    "start_time": "2022-06-13T15:09:40.473Z"
   },
   {
    "duration": 4,
    "start_time": "2022-06-13T15:09:40.478Z"
   },
   {
    "duration": 4,
    "start_time": "2022-06-13T15:09:40.491Z"
   },
   {
    "duration": 8,
    "start_time": "2022-06-13T15:09:40.497Z"
   },
   {
    "duration": 5,
    "start_time": "2022-06-13T15:09:40.506Z"
   },
   {
    "duration": 6,
    "start_time": "2022-06-13T15:09:40.512Z"
   },
   {
    "duration": 10,
    "start_time": "2022-06-13T15:09:40.520Z"
   },
   {
    "duration": 2,
    "start_time": "2022-06-13T15:09:40.531Z"
   },
   {
    "duration": 8,
    "start_time": "2022-06-13T15:09:40.534Z"
   },
   {
    "duration": 3,
    "start_time": "2022-06-13T15:11:16.843Z"
   },
   {
    "duration": 6,
    "start_time": "2022-06-13T15:11:21.116Z"
   },
   {
    "duration": 2,
    "start_time": "2022-06-13T15:11:29.001Z"
   },
   {
    "duration": 7,
    "start_time": "2022-06-13T15:11:30.476Z"
   },
   {
    "duration": 929,
    "start_time": "2022-06-13T15:11:41.014Z"
   },
   {
    "duration": 562,
    "start_time": "2022-06-13T15:11:41.945Z"
   },
   {
    "duration": 131,
    "start_time": "2022-06-13T15:11:42.508Z"
   },
   {
    "duration": 71,
    "start_time": "2022-06-13T15:11:42.641Z"
   },
   {
    "duration": 11,
    "start_time": "2022-06-13T15:11:42.714Z"
   },
   {
    "duration": 30,
    "start_time": "2022-06-13T15:11:42.727Z"
   },
   {
    "duration": 2,
    "start_time": "2022-06-13T15:11:42.759Z"
   },
   {
    "duration": 45,
    "start_time": "2022-06-13T15:11:42.762Z"
   },
   {
    "duration": 24,
    "start_time": "2022-06-13T15:11:42.809Z"
   },
   {
    "duration": 1,
    "start_time": "2022-06-13T15:11:42.835Z"
   },
   {
    "duration": 8,
    "start_time": "2022-06-13T15:11:42.838Z"
   },
   {
    "duration": 15,
    "start_time": "2022-06-13T15:11:42.848Z"
   },
   {
    "duration": 51,
    "start_time": "2022-06-13T15:11:42.864Z"
   },
   {
    "duration": 80,
    "start_time": "2022-06-13T15:11:42.916Z"
   },
   {
    "duration": 120,
    "start_time": "2022-06-13T15:11:42.997Z"
   },
   {
    "duration": 4,
    "start_time": "2022-06-13T15:11:43.119Z"
   },
   {
    "duration": 10,
    "start_time": "2022-06-13T15:11:43.124Z"
   },
   {
    "duration": 8,
    "start_time": "2022-06-13T15:11:43.136Z"
   },
   {
    "duration": 104,
    "start_time": "2022-06-13T15:11:43.190Z"
   },
   {
    "duration": 12,
    "start_time": "2022-06-13T15:11:43.298Z"
   },
   {
    "duration": 4,
    "start_time": "2022-06-13T15:11:43.312Z"
   },
   {
    "duration": 6,
    "start_time": "2022-06-13T15:11:43.317Z"
   },
   {
    "duration": 7,
    "start_time": "2022-06-13T15:11:43.324Z"
   },
   {
    "duration": 6,
    "start_time": "2022-06-13T15:11:43.332Z"
   },
   {
    "duration": 6,
    "start_time": "2022-06-13T15:11:43.339Z"
   },
   {
    "duration": 8,
    "start_time": "2022-06-13T15:11:43.346Z"
   },
   {
    "duration": 6,
    "start_time": "2022-06-13T15:11:43.356Z"
   },
   {
    "duration": 8,
    "start_time": "2022-06-13T15:11:43.364Z"
   },
   {
    "duration": 166,
    "start_time": "2022-06-13T15:11:43.373Z"
   },
   {
    "duration": 4,
    "start_time": "2022-06-13T15:11:43.541Z"
   },
   {
    "duration": 6,
    "start_time": "2022-06-13T15:11:43.546Z"
   },
   {
    "duration": 7,
    "start_time": "2022-06-13T15:11:43.553Z"
   },
   {
    "duration": 4,
    "start_time": "2022-06-13T15:11:43.561Z"
   },
   {
    "duration": 4,
    "start_time": "2022-06-13T15:11:43.566Z"
   },
   {
    "duration": 24,
    "start_time": "2022-06-13T15:11:43.571Z"
   },
   {
    "duration": 3,
    "start_time": "2022-06-13T15:11:43.596Z"
   },
   {
    "duration": 4000,
    "start_time": "2022-06-13T15:11:43.600Z"
   },
   {
    "duration": 3,
    "start_time": "2022-06-13T15:11:47.602Z"
   },
   {
    "duration": 12,
    "start_time": "2022-06-13T15:11:47.606Z"
   },
   {
    "duration": 8,
    "start_time": "2022-06-13T15:11:47.619Z"
   },
   {
    "duration": 5,
    "start_time": "2022-06-13T15:11:47.628Z"
   },
   {
    "duration": 5,
    "start_time": "2022-06-13T15:11:47.634Z"
   },
   {
    "duration": 9,
    "start_time": "2022-06-13T15:11:47.640Z"
   },
   {
    "duration": 4,
    "start_time": "2022-06-13T15:11:47.651Z"
   },
   {
    "duration": 7,
    "start_time": "2022-06-13T15:11:47.656Z"
   },
   {
    "duration": 9,
    "start_time": "2022-06-13T15:11:47.664Z"
   },
   {
    "duration": 4,
    "start_time": "2022-06-13T15:11:47.674Z"
   },
   {
    "duration": 20,
    "start_time": "2022-06-13T15:11:47.679Z"
   },
   {
    "duration": 2,
    "start_time": "2022-06-13T15:14:26.642Z"
   },
   {
    "duration": 7,
    "start_time": "2022-06-13T15:14:29.431Z"
   },
   {
    "duration": 926,
    "start_time": "2022-06-13T15:19:08.113Z"
   },
   {
    "duration": 517,
    "start_time": "2022-06-13T15:19:09.041Z"
   },
   {
    "duration": 143,
    "start_time": "2022-06-13T15:19:09.560Z"
   },
   {
    "duration": 60,
    "start_time": "2022-06-13T15:19:09.706Z"
   },
   {
    "duration": 35,
    "start_time": "2022-06-13T15:19:09.767Z"
   },
   {
    "duration": 31,
    "start_time": "2022-06-13T15:19:09.804Z"
   },
   {
    "duration": 2,
    "start_time": "2022-06-13T15:19:09.837Z"
   },
   {
    "duration": 16,
    "start_time": "2022-06-13T15:19:09.841Z"
   },
   {
    "duration": 48,
    "start_time": "2022-06-13T15:19:09.858Z"
   },
   {
    "duration": 2,
    "start_time": "2022-06-13T15:19:09.909Z"
   },
   {
    "duration": 10,
    "start_time": "2022-06-13T15:19:09.912Z"
   },
   {
    "duration": 10,
    "start_time": "2022-06-13T15:19:09.924Z"
   },
   {
    "duration": 58,
    "start_time": "2022-06-13T15:19:09.936Z"
   },
   {
    "duration": 96,
    "start_time": "2022-06-13T15:19:09.995Z"
   },
   {
    "duration": 99,
    "start_time": "2022-06-13T15:19:10.093Z"
   },
   {
    "duration": 6,
    "start_time": "2022-06-13T15:19:10.193Z"
   },
   {
    "duration": 9,
    "start_time": "2022-06-13T15:19:10.200Z"
   },
   {
    "duration": 11,
    "start_time": "2022-06-13T15:19:10.210Z"
   },
   {
    "duration": 170,
    "start_time": "2022-06-13T15:19:10.222Z"
   },
   {
    "duration": 9,
    "start_time": "2022-06-13T15:19:10.394Z"
   },
   {
    "duration": 5,
    "start_time": "2022-06-13T15:19:10.404Z"
   },
   {
    "duration": 5,
    "start_time": "2022-06-13T15:19:10.410Z"
   },
   {
    "duration": 7,
    "start_time": "2022-06-13T15:19:10.417Z"
   },
   {
    "duration": 5,
    "start_time": "2022-06-13T15:19:10.425Z"
   },
   {
    "duration": 6,
    "start_time": "2022-06-13T15:19:10.431Z"
   },
   {
    "duration": 7,
    "start_time": "2022-06-13T15:19:10.438Z"
   },
   {
    "duration": 5,
    "start_time": "2022-06-13T15:19:10.446Z"
   },
   {
    "duration": 4,
    "start_time": "2022-06-13T15:19:10.453Z"
   },
   {
    "duration": 9,
    "start_time": "2022-06-13T15:19:10.458Z"
   },
   {
    "duration": 164,
    "start_time": "2022-06-13T15:19:10.468Z"
   },
   {
    "duration": 4,
    "start_time": "2022-06-13T15:19:10.633Z"
   },
   {
    "duration": 5,
    "start_time": "2022-06-13T15:19:10.639Z"
   },
   {
    "duration": 10,
    "start_time": "2022-06-13T15:19:10.645Z"
   },
   {
    "duration": 5,
    "start_time": "2022-06-13T15:19:10.656Z"
   },
   {
    "duration": 3,
    "start_time": "2022-06-13T15:19:10.663Z"
   },
   {
    "duration": 24,
    "start_time": "2022-06-13T15:19:10.667Z"
   },
   {
    "duration": 3,
    "start_time": "2022-06-13T15:19:10.693Z"
   },
   {
    "duration": 4117,
    "start_time": "2022-06-13T15:19:10.698Z"
   },
   {
    "duration": 3,
    "start_time": "2022-06-13T15:19:14.816Z"
   },
   {
    "duration": 8,
    "start_time": "2022-06-13T15:19:14.820Z"
   },
   {
    "duration": 5,
    "start_time": "2022-06-13T15:19:14.829Z"
   },
   {
    "duration": 4,
    "start_time": "2022-06-13T15:19:14.835Z"
   },
   {
    "duration": 5,
    "start_time": "2022-06-13T15:19:14.841Z"
   },
   {
    "duration": 8,
    "start_time": "2022-06-13T15:19:14.847Z"
   },
   {
    "duration": 5,
    "start_time": "2022-06-13T15:19:14.856Z"
   },
   {
    "duration": 7,
    "start_time": "2022-06-13T15:19:14.862Z"
   },
   {
    "duration": 8,
    "start_time": "2022-06-13T15:19:14.870Z"
   },
   {
    "duration": 2,
    "start_time": "2022-06-13T15:19:14.891Z"
   },
   {
    "duration": 10,
    "start_time": "2022-06-13T15:19:14.895Z"
   },
   {
    "duration": 13,
    "start_time": "2022-06-13T15:19:51.554Z"
   },
   {
    "duration": 903,
    "start_time": "2022-06-13T15:20:41.832Z"
   },
   {
    "duration": 559,
    "start_time": "2022-06-13T15:20:42.737Z"
   },
   {
    "duration": 129,
    "start_time": "2022-06-13T15:20:43.298Z"
   },
   {
    "duration": 72,
    "start_time": "2022-06-13T15:20:43.429Z"
   },
   {
    "duration": 11,
    "start_time": "2022-06-13T15:20:43.503Z"
   },
   {
    "duration": 34,
    "start_time": "2022-06-13T15:20:43.516Z"
   },
   {
    "duration": 2,
    "start_time": "2022-06-13T15:20:43.551Z"
   },
   {
    "duration": 44,
    "start_time": "2022-06-13T15:20:43.554Z"
   },
   {
    "duration": 19,
    "start_time": "2022-06-13T15:20:43.600Z"
   },
   {
    "duration": 2,
    "start_time": "2022-06-13T15:20:43.621Z"
   },
   {
    "duration": 10,
    "start_time": "2022-06-13T15:20:43.625Z"
   },
   {
    "duration": 12,
    "start_time": "2022-06-13T15:20:43.637Z"
   },
   {
    "duration": 49,
    "start_time": "2022-06-13T15:20:43.650Z"
   },
   {
    "duration": 92,
    "start_time": "2022-06-13T15:20:43.700Z"
   },
   {
    "duration": 106,
    "start_time": "2022-06-13T15:20:43.793Z"
   },
   {
    "duration": 5,
    "start_time": "2022-06-13T15:20:43.900Z"
   },
   {
    "duration": 8,
    "start_time": "2022-06-13T15:20:43.906Z"
   },
   {
    "duration": 7,
    "start_time": "2022-06-13T15:20:43.915Z"
   },
   {
    "duration": 102,
    "start_time": "2022-06-13T15:20:43.990Z"
   },
   {
    "duration": 8,
    "start_time": "2022-06-13T15:20:44.094Z"
   },
   {
    "duration": 4,
    "start_time": "2022-06-13T15:20:44.103Z"
   },
   {
    "duration": 5,
    "start_time": "2022-06-13T15:20:44.108Z"
   },
   {
    "duration": 7,
    "start_time": "2022-06-13T15:20:44.114Z"
   },
   {
    "duration": 3,
    "start_time": "2022-06-13T15:20:44.122Z"
   },
   {
    "duration": 5,
    "start_time": "2022-06-13T15:20:44.127Z"
   },
   {
    "duration": 8,
    "start_time": "2022-06-13T15:20:44.134Z"
   },
   {
    "duration": 5,
    "start_time": "2022-06-13T15:20:44.144Z"
   },
   {
    "duration": 3,
    "start_time": "2022-06-13T15:20:44.152Z"
   },
   {
    "duration": 12,
    "start_time": "2022-06-13T15:20:44.157Z"
   },
   {
    "duration": 173,
    "start_time": "2022-06-13T15:20:44.171Z"
   },
   {
    "duration": 4,
    "start_time": "2022-06-13T15:20:44.346Z"
   },
   {
    "duration": 5,
    "start_time": "2022-06-13T15:20:44.351Z"
   },
   {
    "duration": 8,
    "start_time": "2022-06-13T15:20:44.358Z"
   },
   {
    "duration": 25,
    "start_time": "2022-06-13T15:20:44.367Z"
   },
   {
    "duration": 5,
    "start_time": "2022-06-13T15:20:44.393Z"
   },
   {
    "duration": 3,
    "start_time": "2022-06-13T15:20:44.400Z"
   },
   {
    "duration": 5,
    "start_time": "2022-06-13T15:20:44.405Z"
   },
   {
    "duration": 5759,
    "start_time": "2022-06-13T15:20:44.411Z"
   },
   {
    "duration": 2,
    "start_time": "2022-06-13T15:20:50.172Z"
   },
   {
    "duration": 7,
    "start_time": "2022-06-13T15:20:50.176Z"
   },
   {
    "duration": 2,
    "start_time": "2022-06-13T15:20:50.191Z"
   },
   {
    "duration": 5,
    "start_time": "2022-06-13T15:20:50.194Z"
   },
   {
    "duration": 5,
    "start_time": "2022-06-13T15:20:50.201Z"
   },
   {
    "duration": 12,
    "start_time": "2022-06-13T15:20:50.207Z"
   },
   {
    "duration": 8,
    "start_time": "2022-06-13T15:20:50.220Z"
   },
   {
    "duration": 12,
    "start_time": "2022-06-13T15:20:50.230Z"
   },
   {
    "duration": 10,
    "start_time": "2022-06-13T15:20:50.244Z"
   },
   {
    "duration": 5,
    "start_time": "2022-06-13T15:20:50.256Z"
   },
   {
    "duration": 13,
    "start_time": "2022-06-13T15:20:50.262Z"
   },
   {
    "duration": 934,
    "start_time": "2022-06-13T15:22:04.814Z"
   },
   {
    "duration": 528,
    "start_time": "2022-06-13T15:22:05.750Z"
   },
   {
    "duration": 124,
    "start_time": "2022-06-13T15:22:06.291Z"
   },
   {
    "duration": 83,
    "start_time": "2022-06-13T15:22:06.417Z"
   },
   {
    "duration": 12,
    "start_time": "2022-06-13T15:22:06.501Z"
   },
   {
    "duration": 32,
    "start_time": "2022-06-13T15:22:06.514Z"
   },
   {
    "duration": 2,
    "start_time": "2022-06-13T15:22:06.548Z"
   },
   {
    "duration": 41,
    "start_time": "2022-06-13T15:22:06.552Z"
   },
   {
    "duration": 21,
    "start_time": "2022-06-13T15:22:06.594Z"
   },
   {
    "duration": 2,
    "start_time": "2022-06-13T15:22:06.617Z"
   },
   {
    "duration": 8,
    "start_time": "2022-06-13T15:22:06.621Z"
   },
   {
    "duration": 13,
    "start_time": "2022-06-13T15:22:06.631Z"
   },
   {
    "duration": 50,
    "start_time": "2022-06-13T15:22:06.646Z"
   },
   {
    "duration": 96,
    "start_time": "2022-06-13T15:22:06.698Z"
   },
   {
    "duration": 108,
    "start_time": "2022-06-13T15:22:06.796Z"
   },
   {
    "duration": 5,
    "start_time": "2022-06-13T15:22:06.905Z"
   },
   {
    "duration": 16,
    "start_time": "2022-06-13T15:22:06.912Z"
   },
   {
    "duration": 10,
    "start_time": "2022-06-13T15:22:06.930Z"
   },
   {
    "duration": 157,
    "start_time": "2022-06-13T15:22:06.941Z"
   },
   {
    "duration": 12,
    "start_time": "2022-06-13T15:22:07.100Z"
   },
   {
    "duration": 3,
    "start_time": "2022-06-13T15:22:07.114Z"
   },
   {
    "duration": 6,
    "start_time": "2022-06-13T15:22:07.119Z"
   },
   {
    "duration": 9,
    "start_time": "2022-06-13T15:22:07.126Z"
   },
   {
    "duration": 7,
    "start_time": "2022-06-13T15:22:07.137Z"
   },
   {
    "duration": 13,
    "start_time": "2022-06-13T15:22:07.146Z"
   },
   {
    "duration": 17,
    "start_time": "2022-06-13T15:22:07.160Z"
   },
   {
    "duration": 9,
    "start_time": "2022-06-13T15:22:07.179Z"
   },
   {
    "duration": 6,
    "start_time": "2022-06-13T15:22:07.191Z"
   },
   {
    "duration": 10,
    "start_time": "2022-06-13T15:22:07.198Z"
   },
   {
    "duration": 159,
    "start_time": "2022-06-13T15:22:07.209Z"
   },
   {
    "duration": 4,
    "start_time": "2022-06-13T15:22:07.370Z"
   },
   {
    "duration": 2,
    "start_time": "2022-06-13T15:22:07.391Z"
   },
   {
    "duration": 7,
    "start_time": "2022-06-13T15:22:07.395Z"
   },
   {
    "duration": 4,
    "start_time": "2022-06-13T15:22:07.403Z"
   },
   {
    "duration": 4,
    "start_time": "2022-06-13T15:22:07.408Z"
   },
   {
    "duration": 4,
    "start_time": "2022-06-13T15:22:07.413Z"
   },
   {
    "duration": 4,
    "start_time": "2022-06-13T15:22:07.419Z"
   },
   {
    "duration": 6840,
    "start_time": "2022-06-13T15:22:07.425Z"
   },
   {
    "duration": 3,
    "start_time": "2022-06-13T15:22:14.266Z"
   },
   {
    "duration": 7,
    "start_time": "2022-06-13T15:22:14.270Z"
   },
   {
    "duration": 5,
    "start_time": "2022-06-13T15:22:14.278Z"
   },
   {
    "duration": 2,
    "start_time": "2022-06-13T15:22:14.291Z"
   },
   {
    "duration": 5,
    "start_time": "2022-06-13T15:22:14.294Z"
   },
   {
    "duration": 8,
    "start_time": "2022-06-13T15:22:14.300Z"
   },
   {
    "duration": 8,
    "start_time": "2022-06-13T15:22:14.309Z"
   },
   {
    "duration": 10,
    "start_time": "2022-06-13T15:22:14.318Z"
   },
   {
    "duration": 11,
    "start_time": "2022-06-13T15:22:14.329Z"
   },
   {
    "duration": 5,
    "start_time": "2022-06-13T15:22:14.341Z"
   },
   {
    "duration": 11,
    "start_time": "2022-06-13T15:22:14.348Z"
   },
   {
    "duration": 940,
    "start_time": "2022-06-13T15:23:47.809Z"
   },
   {
    "duration": 547,
    "start_time": "2022-06-13T15:23:48.751Z"
   },
   {
    "duration": 129,
    "start_time": "2022-06-13T15:23:49.300Z"
   },
   {
    "duration": 75,
    "start_time": "2022-06-13T15:23:49.431Z"
   },
   {
    "duration": 11,
    "start_time": "2022-06-13T15:23:49.507Z"
   },
   {
    "duration": 29,
    "start_time": "2022-06-13T15:23:49.520Z"
   },
   {
    "duration": 2,
    "start_time": "2022-06-13T15:23:49.550Z"
   },
   {
    "duration": 39,
    "start_time": "2022-06-13T15:23:49.554Z"
   },
   {
    "duration": 26,
    "start_time": "2022-06-13T15:23:49.595Z"
   },
   {
    "duration": 2,
    "start_time": "2022-06-13T15:23:49.624Z"
   },
   {
    "duration": 9,
    "start_time": "2022-06-13T15:23:49.628Z"
   },
   {
    "duration": 16,
    "start_time": "2022-06-13T15:23:49.638Z"
   },
   {
    "duration": 144,
    "start_time": "2022-06-13T15:23:49.655Z"
   },
   {
    "duration": 91,
    "start_time": "2022-06-13T15:23:49.801Z"
   },
   {
    "duration": 11,
    "start_time": "2022-06-13T15:23:49.894Z"
   },
   {
    "duration": 11,
    "start_time": "2022-06-13T15:23:49.906Z"
   },
   {
    "duration": 19,
    "start_time": "2022-06-13T15:23:49.919Z"
   },
   {
    "duration": 15,
    "start_time": "2022-06-13T15:23:49.940Z"
   },
   {
    "duration": 136,
    "start_time": "2022-06-13T15:23:49.956Z"
   },
   {
    "duration": 18,
    "start_time": "2022-06-13T15:23:50.093Z"
   },
   {
    "duration": 17,
    "start_time": "2022-06-13T15:23:50.112Z"
   },
   {
    "duration": 23,
    "start_time": "2022-06-13T15:23:50.131Z"
   },
   {
    "duration": 35,
    "start_time": "2022-06-13T15:23:50.156Z"
   },
   {
    "duration": 18,
    "start_time": "2022-06-13T15:23:50.192Z"
   },
   {
    "duration": 25,
    "start_time": "2022-06-13T15:23:50.212Z"
   },
   {
    "duration": 21,
    "start_time": "2022-06-13T15:23:50.239Z"
   },
   {
    "duration": 12,
    "start_time": "2022-06-13T15:23:50.261Z"
   },
   {
    "duration": 25,
    "start_time": "2022-06-13T15:23:50.276Z"
   },
   {
    "duration": 169,
    "start_time": "2022-06-13T15:23:50.303Z"
   },
   {
    "duration": 18,
    "start_time": "2022-06-13T15:23:50.474Z"
   },
   {
    "duration": 14,
    "start_time": "2022-06-13T15:23:50.493Z"
   },
   {
    "duration": 24,
    "start_time": "2022-06-13T15:23:50.508Z"
   },
   {
    "duration": 8,
    "start_time": "2022-06-13T15:23:50.534Z"
   },
   {
    "duration": 21,
    "start_time": "2022-06-13T15:23:50.544Z"
   },
   {
    "duration": 26,
    "start_time": "2022-06-13T15:23:50.567Z"
   },
   {
    "duration": 24,
    "start_time": "2022-06-13T15:23:50.595Z"
   },
   {
    "duration": 3841,
    "start_time": "2022-06-13T15:23:50.621Z"
   },
   {
    "duration": 3,
    "start_time": "2022-06-13T15:23:54.463Z"
   },
   {
    "duration": 8,
    "start_time": "2022-06-13T15:23:54.467Z"
   },
   {
    "duration": 5,
    "start_time": "2022-06-13T15:23:54.476Z"
   },
   {
    "duration": 9,
    "start_time": "2022-06-13T15:23:54.482Z"
   },
   {
    "duration": 2,
    "start_time": "2022-06-13T15:23:54.492Z"
   },
   {
    "duration": 10,
    "start_time": "2022-06-13T15:23:54.496Z"
   },
   {
    "duration": 8,
    "start_time": "2022-06-13T15:23:54.508Z"
   },
   {
    "duration": 7,
    "start_time": "2022-06-13T15:23:54.517Z"
   },
   {
    "duration": 11,
    "start_time": "2022-06-13T15:23:54.525Z"
   },
   {
    "duration": 4,
    "start_time": "2022-06-13T15:23:54.537Z"
   },
   {
    "duration": 11,
    "start_time": "2022-06-13T15:23:54.542Z"
   },
   {
    "duration": 949,
    "start_time": "2022-06-13T15:25:12.814Z"
   },
   {
    "duration": 559,
    "start_time": "2022-06-13T15:25:13.765Z"
   },
   {
    "duration": 140,
    "start_time": "2022-06-13T15:25:14.325Z"
   },
   {
    "duration": 82,
    "start_time": "2022-06-13T15:25:14.467Z"
   },
   {
    "duration": 12,
    "start_time": "2022-06-13T15:25:14.551Z"
   },
   {
    "duration": 53,
    "start_time": "2022-06-13T15:25:14.564Z"
   },
   {
    "duration": 2,
    "start_time": "2022-06-13T15:25:14.618Z"
   },
   {
    "duration": 27,
    "start_time": "2022-06-13T15:25:14.622Z"
   },
   {
    "duration": 27,
    "start_time": "2022-06-13T15:25:14.651Z"
   },
   {
    "duration": 2,
    "start_time": "2022-06-13T15:25:14.681Z"
   },
   {
    "duration": 22,
    "start_time": "2022-06-13T15:25:14.684Z"
   },
   {
    "duration": 27,
    "start_time": "2022-06-13T15:25:14.707Z"
   },
   {
    "duration": 62,
    "start_time": "2022-06-13T15:25:14.735Z"
   },
   {
    "duration": 99,
    "start_time": "2022-06-13T15:25:14.798Z"
   },
   {
    "duration": 117,
    "start_time": "2022-06-13T15:25:14.899Z"
   },
   {
    "duration": 18,
    "start_time": "2022-06-13T15:25:15.017Z"
   },
   {
    "duration": 38,
    "start_time": "2022-06-13T15:25:15.036Z"
   },
   {
    "duration": 33,
    "start_time": "2022-06-13T15:25:15.076Z"
   },
   {
    "duration": 83,
    "start_time": "2022-06-13T15:25:15.111Z"
   },
   {
    "duration": 100,
    "start_time": "2022-06-13T15:25:15.196Z"
   },
   {
    "duration": 12,
    "start_time": "2022-06-13T15:25:15.297Z"
   },
   {
    "duration": 5,
    "start_time": "2022-06-13T15:25:15.310Z"
   },
   {
    "duration": 7,
    "start_time": "2022-06-13T15:25:15.316Z"
   },
   {
    "duration": 4,
    "start_time": "2022-06-13T15:25:15.324Z"
   },
   {
    "duration": 5,
    "start_time": "2022-06-13T15:25:15.329Z"
   },
   {
    "duration": 6,
    "start_time": "2022-06-13T15:25:15.335Z"
   },
   {
    "duration": 5,
    "start_time": "2022-06-13T15:25:15.342Z"
   },
   {
    "duration": 7,
    "start_time": "2022-06-13T15:25:15.349Z"
   },
   {
    "duration": 185,
    "start_time": "2022-06-13T15:25:15.358Z"
   },
   {
    "duration": 4,
    "start_time": "2022-06-13T15:25:15.544Z"
   },
   {
    "duration": 10,
    "start_time": "2022-06-13T15:25:15.550Z"
   },
   {
    "duration": 7,
    "start_time": "2022-06-13T15:25:15.561Z"
   },
   {
    "duration": 5,
    "start_time": "2022-06-13T15:25:15.569Z"
   },
   {
    "duration": 16,
    "start_time": "2022-06-13T15:25:15.575Z"
   },
   {
    "duration": 5,
    "start_time": "2022-06-13T15:25:15.592Z"
   },
   {
    "duration": 7,
    "start_time": "2022-06-13T15:25:15.599Z"
   },
   {
    "duration": 3698,
    "start_time": "2022-06-13T15:25:15.607Z"
   },
   {
    "duration": 3,
    "start_time": "2022-06-13T15:25:19.306Z"
   },
   {
    "duration": 24,
    "start_time": "2022-06-13T15:25:19.311Z"
   },
   {
    "duration": 5,
    "start_time": "2022-06-13T15:25:19.336Z"
   },
   {
    "duration": 10,
    "start_time": "2022-06-13T15:25:19.343Z"
   },
   {
    "duration": 15,
    "start_time": "2022-06-13T15:25:19.355Z"
   },
   {
    "duration": 39,
    "start_time": "2022-06-13T15:25:19.372Z"
   },
   {
    "duration": 10,
    "start_time": "2022-06-13T15:25:19.413Z"
   },
   {
    "duration": 22,
    "start_time": "2022-06-13T15:25:19.425Z"
   },
   {
    "duration": 24,
    "start_time": "2022-06-13T15:25:19.449Z"
   },
   {
    "duration": 21,
    "start_time": "2022-06-13T15:25:19.474Z"
   },
   {
    "duration": 34,
    "start_time": "2022-06-13T15:25:19.496Z"
   },
   {
    "duration": 879,
    "start_time": "2022-06-13T15:25:49.648Z"
   },
   {
    "duration": 522,
    "start_time": "2022-06-13T15:25:50.529Z"
   },
   {
    "duration": 139,
    "start_time": "2022-06-13T15:25:51.053Z"
   },
   {
    "duration": 56,
    "start_time": "2022-06-13T15:25:51.194Z"
   },
   {
    "duration": 12,
    "start_time": "2022-06-13T15:25:51.251Z"
   },
   {
    "duration": 30,
    "start_time": "2022-06-13T15:25:51.291Z"
   },
   {
    "duration": 2,
    "start_time": "2022-06-13T15:25:51.322Z"
   },
   {
    "duration": 10,
    "start_time": "2022-06-13T15:25:51.326Z"
   },
   {
    "duration": 19,
    "start_time": "2022-06-13T15:25:51.337Z"
   },
   {
    "duration": 33,
    "start_time": "2022-06-13T15:25:51.358Z"
   },
   {
    "duration": 9,
    "start_time": "2022-06-13T15:25:51.393Z"
   },
   {
    "duration": 13,
    "start_time": "2022-06-13T15:25:51.403Z"
   },
   {
    "duration": 76,
    "start_time": "2022-06-13T15:25:51.417Z"
   },
   {
    "duration": 7,
    "start_time": "2022-06-13T15:25:51.495Z"
   },
   {
    "duration": 94,
    "start_time": "2022-06-13T15:25:51.504Z"
   },
   {
    "duration": 5,
    "start_time": "2022-06-13T15:25:51.599Z"
   },
   {
    "duration": 7,
    "start_time": "2022-06-13T15:25:51.605Z"
   },
   {
    "duration": 7,
    "start_time": "2022-06-13T15:25:51.614Z"
   },
   {
    "duration": 13,
    "start_time": "2022-06-13T15:25:51.691Z"
   },
   {
    "duration": 7,
    "start_time": "2022-06-13T15:25:51.791Z"
   },
   {
    "duration": 4,
    "start_time": "2022-06-13T15:25:51.799Z"
   },
   {
    "duration": 5,
    "start_time": "2022-06-13T15:25:51.804Z"
   },
   {
    "duration": 6,
    "start_time": "2022-06-13T15:25:51.811Z"
   },
   {
    "duration": 4,
    "start_time": "2022-06-13T15:25:51.818Z"
   },
   {
    "duration": 4,
    "start_time": "2022-06-13T15:25:51.824Z"
   },
   {
    "duration": 6,
    "start_time": "2022-06-13T15:25:51.829Z"
   },
   {
    "duration": 4,
    "start_time": "2022-06-13T15:25:51.837Z"
   },
   {
    "duration": 7,
    "start_time": "2022-06-13T15:25:51.844Z"
   },
   {
    "duration": 175,
    "start_time": "2022-06-13T15:25:51.852Z"
   },
   {
    "duration": 4,
    "start_time": "2022-06-13T15:25:52.029Z"
   },
   {
    "duration": 7,
    "start_time": "2022-06-13T15:25:52.034Z"
   },
   {
    "duration": 6,
    "start_time": "2022-06-13T15:25:52.042Z"
   },
   {
    "duration": 3,
    "start_time": "2022-06-13T15:25:52.050Z"
   },
   {
    "duration": 5,
    "start_time": "2022-06-13T15:25:52.054Z"
   },
   {
    "duration": 7,
    "start_time": "2022-06-13T15:25:52.060Z"
   },
   {
    "duration": 23,
    "start_time": "2022-06-13T15:25:52.068Z"
   },
   {
    "duration": 3682,
    "start_time": "2022-06-13T15:25:52.092Z"
   },
   {
    "duration": 2,
    "start_time": "2022-06-13T15:25:55.776Z"
   },
   {
    "duration": 9,
    "start_time": "2022-06-13T15:25:55.779Z"
   },
   {
    "duration": 8,
    "start_time": "2022-06-13T15:25:55.789Z"
   },
   {
    "duration": 5,
    "start_time": "2022-06-13T15:25:55.798Z"
   },
   {
    "duration": 5,
    "start_time": "2022-06-13T15:25:55.804Z"
   },
   {
    "duration": 9,
    "start_time": "2022-06-13T15:25:55.810Z"
   },
   {
    "duration": 6,
    "start_time": "2022-06-13T15:25:55.820Z"
   },
   {
    "duration": 6,
    "start_time": "2022-06-13T15:25:55.828Z"
   },
   {
    "duration": 11,
    "start_time": "2022-06-13T15:25:55.836Z"
   },
   {
    "duration": 2,
    "start_time": "2022-06-13T15:25:55.848Z"
   },
   {
    "duration": 8,
    "start_time": "2022-06-13T15:25:55.851Z"
   },
   {
    "duration": 5,
    "start_time": "2022-06-13T15:27:09.173Z"
   },
   {
    "duration": 927,
    "start_time": "2022-06-13T15:32:15.119Z"
   },
   {
    "duration": 546,
    "start_time": "2022-06-13T15:32:16.048Z"
   },
   {
    "duration": 129,
    "start_time": "2022-06-13T15:32:16.596Z"
   },
   {
    "duration": 74,
    "start_time": "2022-06-13T15:32:16.727Z"
   },
   {
    "duration": 11,
    "start_time": "2022-06-13T15:32:16.802Z"
   },
   {
    "duration": 29,
    "start_time": "2022-06-13T15:32:16.814Z"
   },
   {
    "duration": 3,
    "start_time": "2022-06-13T15:32:16.844Z"
   },
   {
    "duration": 43,
    "start_time": "2022-06-13T15:32:16.848Z"
   },
   {
    "duration": 20,
    "start_time": "2022-06-13T15:32:16.893Z"
   },
   {
    "duration": 2,
    "start_time": "2022-06-13T15:32:16.915Z"
   },
   {
    "duration": 12,
    "start_time": "2022-06-13T15:32:16.919Z"
   },
   {
    "duration": 15,
    "start_time": "2022-06-13T15:32:16.933Z"
   },
   {
    "duration": 71,
    "start_time": "2022-06-13T15:32:16.950Z"
   },
   {
    "duration": 78,
    "start_time": "2022-06-13T15:32:17.023Z"
   },
   {
    "duration": 118,
    "start_time": "2022-06-13T15:32:17.103Z"
   },
   {
    "duration": 9,
    "start_time": "2022-06-13T15:32:17.223Z"
   },
   {
    "duration": 30,
    "start_time": "2022-06-13T15:32:17.233Z"
   },
   {
    "duration": 29,
    "start_time": "2022-06-13T15:32:17.265Z"
   },
   {
    "duration": 2,
    "start_time": "2022-06-13T15:32:17.296Z"
   },
   {
    "duration": 95,
    "start_time": "2022-06-13T15:32:17.300Z"
   },
   {
    "duration": 10,
    "start_time": "2022-06-13T15:32:17.398Z"
   },
   {
    "duration": 86,
    "start_time": "2022-06-13T15:32:17.410Z"
   },
   {
    "duration": 7,
    "start_time": "2022-06-13T15:32:17.498Z"
   },
   {
    "duration": 5,
    "start_time": "2022-06-13T15:32:17.506Z"
   },
   {
    "duration": 4,
    "start_time": "2022-06-13T15:32:17.513Z"
   },
   {
    "duration": 25,
    "start_time": "2022-06-13T15:32:17.518Z"
   },
   {
    "duration": 7,
    "start_time": "2022-06-13T15:32:17.545Z"
   },
   {
    "duration": 8,
    "start_time": "2022-06-13T15:32:17.555Z"
   },
   {
    "duration": 165,
    "start_time": "2022-06-13T15:32:17.565Z"
   },
   {
    "duration": 6,
    "start_time": "2022-06-13T15:32:17.732Z"
   },
   {
    "duration": 9,
    "start_time": "2022-06-13T15:32:17.740Z"
   },
   {
    "duration": 11,
    "start_time": "2022-06-13T15:32:17.750Z"
   },
   {
    "duration": 6,
    "start_time": "2022-06-13T15:32:17.763Z"
   },
   {
    "duration": 22,
    "start_time": "2022-06-13T15:32:17.771Z"
   },
   {
    "duration": 8,
    "start_time": "2022-06-13T15:32:17.795Z"
   },
   {
    "duration": 8,
    "start_time": "2022-06-13T15:32:17.804Z"
   },
   {
    "duration": 3872,
    "start_time": "2022-06-13T15:32:17.813Z"
   },
   {
    "duration": 5,
    "start_time": "2022-06-13T15:32:21.687Z"
   },
   {
    "duration": 26,
    "start_time": "2022-06-13T15:32:21.693Z"
   },
   {
    "duration": 30,
    "start_time": "2022-06-13T15:32:21.721Z"
   },
   {
    "duration": 39,
    "start_time": "2022-06-13T15:32:21.753Z"
   },
   {
    "duration": 29,
    "start_time": "2022-06-13T15:32:21.794Z"
   },
   {
    "duration": 32,
    "start_time": "2022-06-13T15:32:21.824Z"
   },
   {
    "duration": 22,
    "start_time": "2022-06-13T15:32:21.857Z"
   },
   {
    "duration": 26,
    "start_time": "2022-06-13T15:32:21.880Z"
   },
   {
    "duration": 18,
    "start_time": "2022-06-13T15:32:21.907Z"
   },
   {
    "duration": 20,
    "start_time": "2022-06-13T15:32:21.927Z"
   },
   {
    "duration": 28,
    "start_time": "2022-06-13T15:32:21.949Z"
   },
   {
    "duration": 992,
    "start_time": "2022-06-13T15:34:05.267Z"
   },
   {
    "duration": 576,
    "start_time": "2022-06-13T15:34:06.260Z"
   },
   {
    "duration": 196,
    "start_time": "2022-06-13T15:34:06.837Z"
   },
   {
    "duration": 97,
    "start_time": "2022-06-13T15:34:07.036Z"
   },
   {
    "duration": 16,
    "start_time": "2022-06-13T15:34:07.135Z"
   },
   {
    "duration": 71,
    "start_time": "2022-06-13T15:34:07.153Z"
   },
   {
    "duration": 2,
    "start_time": "2022-06-13T15:34:07.226Z"
   },
   {
    "duration": 16,
    "start_time": "2022-06-13T15:34:07.229Z"
   },
   {
    "duration": 20,
    "start_time": "2022-06-13T15:34:07.246Z"
   },
   {
    "duration": 2,
    "start_time": "2022-06-13T15:34:07.292Z"
   },
   {
    "duration": 11,
    "start_time": "2022-06-13T15:34:07.296Z"
   },
   {
    "duration": 14,
    "start_time": "2022-06-13T15:34:07.308Z"
   },
   {
    "duration": 170,
    "start_time": "2022-06-13T15:34:07.323Z"
   },
   {
    "duration": 97,
    "start_time": "2022-06-13T15:34:07.495Z"
   },
   {
    "duration": 9,
    "start_time": "2022-06-13T15:34:07.594Z"
   },
   {
    "duration": 4,
    "start_time": "2022-06-13T15:34:07.605Z"
   },
   {
    "duration": 12,
    "start_time": "2022-06-13T15:34:07.611Z"
   },
   {
    "duration": 68,
    "start_time": "2022-06-13T15:34:07.624Z"
   },
   {
    "duration": 98,
    "start_time": "2022-06-13T15:34:07.694Z"
   },
   {
    "duration": 7,
    "start_time": "2022-06-13T15:34:07.796Z"
   },
   {
    "duration": 87,
    "start_time": "2022-06-13T15:34:07.805Z"
   },
   {
    "duration": 6,
    "start_time": "2022-06-13T15:34:07.894Z"
   },
   {
    "duration": 6,
    "start_time": "2022-06-13T15:34:07.901Z"
   },
   {
    "duration": 6,
    "start_time": "2022-06-13T15:34:07.908Z"
   },
   {
    "duration": 7,
    "start_time": "2022-06-13T15:34:07.915Z"
   },
   {
    "duration": 9,
    "start_time": "2022-06-13T15:34:07.923Z"
   },
   {
    "duration": 7,
    "start_time": "2022-06-13T15:34:07.934Z"
   },
   {
    "duration": 6,
    "start_time": "2022-06-13T15:34:07.944Z"
   },
   {
    "duration": 187,
    "start_time": "2022-06-13T15:34:07.952Z"
   },
   {
    "duration": 4,
    "start_time": "2022-06-13T15:34:08.140Z"
   },
   {
    "duration": 7,
    "start_time": "2022-06-13T15:34:08.146Z"
   },
   {
    "duration": 7,
    "start_time": "2022-06-13T15:34:08.155Z"
   },
   {
    "duration": 6,
    "start_time": "2022-06-13T15:34:08.164Z"
   },
   {
    "duration": 20,
    "start_time": "2022-06-13T15:34:08.172Z"
   },
   {
    "duration": 9,
    "start_time": "2022-06-13T15:34:08.194Z"
   },
   {
    "duration": 7,
    "start_time": "2022-06-13T15:34:08.205Z"
   },
   {
    "duration": 3815,
    "start_time": "2022-06-13T15:34:08.214Z"
   },
   {
    "duration": 3,
    "start_time": "2022-06-13T15:34:12.031Z"
   },
   {
    "duration": 20,
    "start_time": "2022-06-13T15:34:12.035Z"
   },
   {
    "duration": 5,
    "start_time": "2022-06-13T15:34:12.057Z"
   },
   {
    "duration": 9,
    "start_time": "2022-06-13T15:34:12.063Z"
   },
   {
    "duration": 5,
    "start_time": "2022-06-13T15:34:12.074Z"
   },
   {
    "duration": 10,
    "start_time": "2022-06-13T15:34:12.080Z"
   },
   {
    "duration": 7,
    "start_time": "2022-06-13T15:34:12.091Z"
   },
   {
    "duration": 6,
    "start_time": "2022-06-13T15:34:12.100Z"
   },
   {
    "duration": 8,
    "start_time": "2022-06-13T15:34:12.108Z"
   },
   {
    "duration": 2,
    "start_time": "2022-06-13T15:34:12.118Z"
   },
   {
    "duration": 10,
    "start_time": "2022-06-13T15:34:12.121Z"
   },
   {
    "duration": 919,
    "start_time": "2022-06-13T15:51:56.737Z"
   },
   {
    "duration": 538,
    "start_time": "2022-06-13T15:51:57.658Z"
   },
   {
    "duration": 147,
    "start_time": "2022-06-13T15:51:58.197Z"
   },
   {
    "duration": 86,
    "start_time": "2022-06-13T15:51:58.346Z"
   },
   {
    "duration": 12,
    "start_time": "2022-06-13T15:51:58.433Z"
   },
   {
    "duration": 59,
    "start_time": "2022-06-13T15:51:58.446Z"
   },
   {
    "duration": 2,
    "start_time": "2022-06-13T15:51:58.506Z"
   },
   {
    "duration": 12,
    "start_time": "2022-06-13T15:51:58.509Z"
   },
   {
    "duration": 19,
    "start_time": "2022-06-13T15:51:58.522Z"
   },
   {
    "duration": 3,
    "start_time": "2022-06-13T15:51:58.543Z"
   },
   {
    "duration": 10,
    "start_time": "2022-06-13T15:51:58.547Z"
   },
   {
    "duration": 43,
    "start_time": "2022-06-13T15:51:58.559Z"
   },
   {
    "duration": 33,
    "start_time": "2022-06-13T15:51:58.604Z"
   },
   {
    "duration": 62,
    "start_time": "2022-06-13T15:51:58.638Z"
   },
   {
    "duration": 99,
    "start_time": "2022-06-13T15:51:58.702Z"
   },
   {
    "duration": 4,
    "start_time": "2022-06-13T15:51:58.803Z"
   },
   {
    "duration": 12,
    "start_time": "2022-06-13T15:51:58.808Z"
   },
   {
    "duration": 8,
    "start_time": "2022-06-13T15:51:58.821Z"
   },
   {
    "duration": 14,
    "start_time": "2022-06-13T15:51:58.892Z"
   },
   {
    "duration": 7,
    "start_time": "2022-06-13T15:51:58.992Z"
   },
   {
    "duration": 5,
    "start_time": "2022-06-13T15:51:59.001Z"
   },
   {
    "duration": 5,
    "start_time": "2022-06-13T15:51:59.008Z"
   },
   {
    "duration": 8,
    "start_time": "2022-06-13T15:51:59.014Z"
   },
   {
    "duration": 8,
    "start_time": "2022-06-13T15:51:59.024Z"
   },
   {
    "duration": 11,
    "start_time": "2022-06-13T15:51:59.034Z"
   },
   {
    "duration": 12,
    "start_time": "2022-06-13T15:51:59.047Z"
   },
   {
    "duration": 8,
    "start_time": "2022-06-13T15:51:59.060Z"
   },
   {
    "duration": 13,
    "start_time": "2022-06-13T15:51:59.071Z"
   },
   {
    "duration": 182,
    "start_time": "2022-06-13T15:51:59.085Z"
   },
   {
    "duration": 5,
    "start_time": "2022-06-13T15:51:59.268Z"
   },
   {
    "duration": 17,
    "start_time": "2022-06-13T15:51:59.274Z"
   },
   {
    "duration": 5,
    "start_time": "2022-06-13T15:51:59.293Z"
   },
   {
    "duration": 5,
    "start_time": "2022-06-13T15:51:59.300Z"
   },
   {
    "duration": 6,
    "start_time": "2022-06-13T15:51:59.306Z"
   },
   {
    "duration": 6,
    "start_time": "2022-06-13T15:51:59.314Z"
   },
   {
    "duration": 5,
    "start_time": "2022-06-13T15:51:59.322Z"
   },
   {
    "duration": 3826,
    "start_time": "2022-06-13T15:51:59.329Z"
   },
   {
    "duration": 3,
    "start_time": "2022-06-13T15:52:03.156Z"
   },
   {
    "duration": 8,
    "start_time": "2022-06-13T15:52:03.160Z"
   },
   {
    "duration": 4,
    "start_time": "2022-06-13T15:52:03.169Z"
   },
   {
    "duration": 6,
    "start_time": "2022-06-13T15:52:03.175Z"
   },
   {
    "duration": 6,
    "start_time": "2022-06-13T15:52:03.182Z"
   },
   {
    "duration": 6,
    "start_time": "2022-06-13T15:52:03.191Z"
   },
   {
    "duration": 4,
    "start_time": "2022-06-13T15:52:03.198Z"
   },
   {
    "duration": 17,
    "start_time": "2022-06-13T15:52:03.204Z"
   },
   {
    "duration": 11,
    "start_time": "2022-06-13T15:52:03.223Z"
   },
   {
    "duration": 3,
    "start_time": "2022-06-13T15:52:03.235Z"
   },
   {
    "duration": 9,
    "start_time": "2022-06-13T15:52:03.239Z"
   },
   {
    "duration": 931,
    "start_time": "2022-06-13T15:57:26.013Z"
   },
   {
    "duration": 579,
    "start_time": "2022-06-13T15:57:26.946Z"
   },
   {
    "duration": 121,
    "start_time": "2022-06-13T15:57:27.526Z"
   },
   {
    "duration": 80,
    "start_time": "2022-06-13T15:57:27.649Z"
   },
   {
    "duration": 11,
    "start_time": "2022-06-13T15:57:27.730Z"
   },
   {
    "duration": 60,
    "start_time": "2022-06-13T15:57:27.742Z"
   },
   {
    "duration": 2,
    "start_time": "2022-06-13T15:57:27.803Z"
   },
   {
    "duration": 12,
    "start_time": "2022-06-13T15:57:27.807Z"
   },
   {
    "duration": 21,
    "start_time": "2022-06-13T15:57:27.821Z"
   },
   {
    "duration": 2,
    "start_time": "2022-06-13T15:57:27.844Z"
   },
   {
    "duration": 12,
    "start_time": "2022-06-13T15:57:27.848Z"
   },
   {
    "duration": 38,
    "start_time": "2022-06-13T15:57:27.861Z"
   },
   {
    "duration": 90,
    "start_time": "2022-06-13T15:57:27.901Z"
   },
   {
    "duration": 8,
    "start_time": "2022-06-13T15:57:27.993Z"
   },
   {
    "duration": 103,
    "start_time": "2022-06-13T15:57:28.003Z"
   },
   {
    "duration": 4,
    "start_time": "2022-06-13T15:57:28.108Z"
   },
   {
    "duration": 10,
    "start_time": "2022-06-13T15:57:28.114Z"
   },
   {
    "duration": 66,
    "start_time": "2022-06-13T15:57:28.125Z"
   },
   {
    "duration": 103,
    "start_time": "2022-06-13T15:57:28.193Z"
   },
   {
    "duration": 8,
    "start_time": "2022-06-13T15:57:28.298Z"
   },
   {
    "duration": 4,
    "start_time": "2022-06-13T15:57:28.307Z"
   },
   {
    "duration": 4,
    "start_time": "2022-06-13T15:57:28.313Z"
   },
   {
    "duration": 7,
    "start_time": "2022-06-13T15:57:28.318Z"
   },
   {
    "duration": 5,
    "start_time": "2022-06-13T15:57:28.326Z"
   },
   {
    "duration": 6,
    "start_time": "2022-06-13T15:57:28.332Z"
   },
   {
    "duration": 7,
    "start_time": "2022-06-13T15:57:28.339Z"
   },
   {
    "duration": 5,
    "start_time": "2022-06-13T15:57:28.347Z"
   },
   {
    "duration": 6,
    "start_time": "2022-06-13T15:57:28.356Z"
   },
   {
    "duration": 186,
    "start_time": "2022-06-13T15:57:28.364Z"
   },
   {
    "duration": 5,
    "start_time": "2022-06-13T15:57:28.552Z"
   },
   {
    "duration": 6,
    "start_time": "2022-06-13T15:57:28.558Z"
   },
   {
    "duration": 27,
    "start_time": "2022-06-13T15:57:28.565Z"
   },
   {
    "duration": 2,
    "start_time": "2022-06-13T15:57:28.593Z"
   },
   {
    "duration": 5,
    "start_time": "2022-06-13T15:57:28.596Z"
   },
   {
    "duration": 8,
    "start_time": "2022-06-13T15:57:28.602Z"
   },
   {
    "duration": 6,
    "start_time": "2022-06-13T15:57:28.612Z"
   },
   {
    "duration": 3803,
    "start_time": "2022-06-13T15:57:28.619Z"
   },
   {
    "duration": 3,
    "start_time": "2022-06-13T15:57:32.423Z"
   },
   {
    "duration": 11,
    "start_time": "2022-06-13T15:57:32.427Z"
   },
   {
    "duration": 5,
    "start_time": "2022-06-13T15:57:32.439Z"
   },
   {
    "duration": 6,
    "start_time": "2022-06-13T15:57:32.445Z"
   },
   {
    "duration": 6,
    "start_time": "2022-06-13T15:57:32.452Z"
   },
   {
    "duration": 9,
    "start_time": "2022-06-13T15:57:32.459Z"
   },
   {
    "duration": 5,
    "start_time": "2022-06-13T15:57:32.469Z"
   },
   {
    "duration": 8,
    "start_time": "2022-06-13T15:57:32.475Z"
   },
   {
    "duration": 14,
    "start_time": "2022-06-13T15:57:32.484Z"
   },
   {
    "duration": 3,
    "start_time": "2022-06-13T15:57:32.499Z"
   },
   {
    "duration": 13,
    "start_time": "2022-06-13T15:57:32.503Z"
   }
  ],
  "kernelspec": {
   "display_name": "Python 3 (ipykernel)",
   "language": "python",
   "name": "python3"
  },
  "language_info": {
   "codemirror_mode": {
    "name": "ipython",
    "version": 3
   },
   "file_extension": ".py",
   "mimetype": "text/x-python",
   "name": "python",
   "nbconvert_exporter": "python",
   "pygments_lexer": "ipython3",
   "version": "3.9.7"
  },
  "toc": {
   "base_numbering": 1,
   "nav_menu": {},
   "number_sections": true,
   "sideBar": true,
   "skip_h1_title": true,
   "title_cell": "Table of Contents",
   "title_sidebar": "Contents",
   "toc_cell": false,
   "toc_position": {
    "height": "calc(100% - 180px)",
    "left": "10px",
    "top": "150px",
    "width": "242.726px"
   },
   "toc_section_display": true,
   "toc_window_display": true
  }
 },
 "nbformat": 4,
 "nbformat_minor": 2
}
